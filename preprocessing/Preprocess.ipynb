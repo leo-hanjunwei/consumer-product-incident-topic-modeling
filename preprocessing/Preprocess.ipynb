{
 "cells": [
  {
   "cell_type": "markdown",
   "id": "bbab3d37",
   "metadata": {},
   "source": [
    "## Import Package"
   ]
  },
  {
   "cell_type": "code",
   "execution_count": 1,
   "id": "4a30578c",
   "metadata": {},
   "outputs": [
    {
     "data": {
      "text/plain": [
       "'3.8.3'"
      ]
     },
     "execution_count": 1,
     "metadata": {},
     "output_type": "execute_result"
    }
   ],
   "source": [
    "# Import package\n",
    "import pandas as pd\n",
    "import numpy as np\n",
    "import nltk\n",
    "import re\n",
    "import string\n",
    "from  nltk.corpus import stopwords\n",
    "from nltk.stem.wordnet import WordNetLemmatizer\n",
    "from langdetect import detect\n",
    "from nltk.stem import WordNetLemmatizer\n",
    "from nltk.corpus import wordnet\n",
    "import spacy\n",
    "# \n",
    "import json\n",
    "from itertools import chain\n",
    "import os\n",
    "from pprint import pprint\n",
    "import matplotlib.pyplot as plt\n",
    "# LDA\n",
    "import gensim\n",
    "from gensim.utils import simple_preprocess\n",
    "# EDA\n",
    "from wordcloud import WordCloud\n",
    "import gensim.corpora as corpora\n",
    "from pprint import pprint\n",
    "\n",
    "## Plotting tools\n",
    "import pyLDAvis.gensim_models as gensimvis\n",
    "import pickle \n",
    "import pyLDAvis\n",
    "import matplotlib.pyplot as plt\n",
    "%matplotlib inline\n",
    "from gensim.models import CoherenceModel\n",
    "\n",
    "# Enable logging for gensim - optional\n",
    "import logging\n",
    "logging.basicConfig(format='%(asctime)s : %(levelname)s : %(message)s', level=logging.ERROR)\n",
    "\n",
    "import warnings\n",
    "warnings.filterwarnings(\"ignore\",category=DeprecationWarning)\n",
    "gensim.__version__ "
   ]
  },
  {
   "cell_type": "markdown",
   "id": "8251138e",
   "metadata": {},
   "source": [
    "## Import Data"
   ]
  },
  {
   "cell_type": "code",
   "execution_count": 2,
   "id": "42dd5dd7",
   "metadata": {},
   "outputs": [
    {
     "name": "stderr",
     "output_type": "stream",
     "text": [
      "<ipython-input-2-fbedd7689f8d>:2: DtypeWarning: Columns (6,7,8,9,10,11,12,13,14,15,16,17,18,19,20,21,22,23,24,25,26,27,28,29,30,31,32,33,52) have mixed types. Specify dtype option on import or set low_memory=False.\n",
      "  df = pd.read_csv ('../../Data/Raw_Data/USCA_outer.csv')\n"
     ]
    }
   ],
   "source": [
    "# Import data set:\n",
    "df = pd.read_csv ('../../Data/Reconciliation/USCA_outer.csv')"
   ]
  },
  {
   "cell_type": "markdown",
   "id": "4beb4f6f",
   "metadata": {},
   "source": [
    "## Data Cleaning\n",
    "#### 1. Cleaning"
   ]
  },
  {
   "cell_type": "code",
   "execution_count": 3,
   "id": "998bb0b8",
   "metadata": {},
   "outputs": [
    {
     "name": "stderr",
     "output_type": "stream",
     "text": [
      "/var/folders/qb/zk_1sfdx3psf0kn4pmydt0b40000gn/T/ipykernel_50998/3552666939.py:2: SettingWithCopyWarning: \n",
      "A value is trying to be set on a copy of a slice from a DataFrame\n",
      "\n",
      "See the caveats in the documentation: https://pandas.pydata.org/pandas-docs/stable/user_guide/indexing.html#returning-a-view-versus-a-copy\n",
      "  txt[txt == \"[MT]\"] = \"\"\n",
      "/var/folders/qb/zk_1sfdx3psf0kn4pmydt0b40000gn/T/ipykernel_50998/3552666939.py:3: SettingWithCopyWarning: \n",
      "A value is trying to be set on a copy of a slice from a DataFrame\n",
      "\n",
      "See the caveats in the documentation: https://pandas.pydata.org/pandas-docs/stable/user_guide/indexing.html#returning-a-view-versus-a-copy\n",
      "  txt[txt == \"[OS]\"] = \"\"\n"
     ]
    }
   ],
   "source": [
    "txt = df[\"Description\"]\n",
    "txt[txt == \"[MT]\"] = \"\"\n",
    "txt[txt == \"[OS]\"] = \"\""
   ]
  },
  {
   "cell_type": "markdown",
   "id": "dacab253",
   "metadata": {},
   "source": [
    "#### 2. Meaningless Phrase Removal"
   ]
  },
  {
   "cell_type": "code",
   "execution_count": 4,
   "id": "f01e098e",
   "metadata": {},
   "outputs": [
    {
     "name": "stderr",
     "output_type": "stream",
     "text": [
      "/var/folders/qb/zk_1sfdx3psf0kn4pmydt0b40000gn/T/ipykernel_50998/1033682924.py:26: SettingWithCopyWarning: \n",
      "A value is trying to be set on a copy of a slice from a DataFrame\n",
      "\n",
      "See the caveats in the documentation: https://pandas.pydata.org/pandas-docs/stable/user_guide/indexing.html#returning-a-view-versus-a-copy\n",
      "  txt[i] = asterisk_remover(txt[i])\n",
      "/var/folders/qb/zk_1sfdx3psf0kn4pmydt0b40000gn/T/ipykernel_50998/1033682924.py:27: SettingWithCopyWarning: \n",
      "A value is trying to be set on a copy of a slice from a DataFrame\n",
      "\n",
      "See the caveats in the documentation: https://pandas.pydata.org/pandas-docs/stable/user_guide/indexing.html#returning-a-view-versus-a-copy\n",
      "  txt[i] = slash_remover(txt[i])\n",
      "/var/folders/qb/zk_1sfdx3psf0kn4pmydt0b40000gn/T/ipykernel_50998/1033682924.py:28: SettingWithCopyWarning: \n",
      "A value is trying to be set on a copy of a slice from a DataFrame\n",
      "\n",
      "See the caveats in the documentation: https://pandas.pydata.org/pandas-docs/stable/user_guide/indexing.html#returning-a-view-versus-a-copy\n",
      "  txt[i] = from_remover(txt[i])\n",
      "/var/folders/qb/zk_1sfdx3psf0kn4pmydt0b40000gn/T/ipykernel_50998/1033682924.py:29: SettingWithCopyWarning: \n",
      "A value is trying to be set on a copy of a slice from a DataFrame\n",
      "\n",
      "See the caveats in the documentation: https://pandas.pydata.org/pandas-docs/stable/user_guide/indexing.html#returning-a-view-versus-a-copy\n",
      "  txt[i] = foreign(txt[i])\n"
     ]
    }
   ],
   "source": [
    "# Function for Remove Meaningless Phrase:\n",
    "def asterisk_remover(txt):\n",
    "    x = re.search(\"^\\*{3}.+\\*{3}\",txt)\n",
    "    if x != None:\n",
    "        txt = txt[x.end():]\n",
    "    return txt\n",
    "def slash_remover(txt):\n",
    "    x = re.search(\"^\\/{3}.+\\/{3}\",txt)\n",
    "    if x != None:\n",
    "        txt = txt[x.end():]\n",
    "    return txt\n",
    "def from_remover(txt):\n",
    "    x = re.search(\"^Form filled and submitted by <redacted>.+renseignements|Surveillance and Information Division|SURVEILLANCE AND INFORMATION DIVISION|Surveillance & Information Division|Surveillance and Information|\\[DIVISION\\]|^Form.+\\/{3}|Form filled and submitted by <redacted>\",txt)\n",
    "    if x != None:\n",
    "        txt = txt[x.end():]\n",
    "    return txt\n",
    "# We only care about cases in north America, remove case in US to prevent duplication\n",
    "def foreign(txt):\n",
    "    x = re.search(\"Foreign Incident|Foreign Case\",txt)\n",
    "    if x != None:\n",
    "        txt = \"\"\n",
    "    return txt\n",
    "\n",
    "# Remove meaningless txt\n",
    "for i in range(len(txt)):\n",
    "    txt[i] = asterisk_remover(txt[i])\n",
    "    txt[i] = slash_remover(txt[i])\n",
    "    txt[i] = from_remover(txt[i])\n",
    "    txt[i] = foreign(txt[i])"
   ]
  },
  {
   "cell_type": "markdown",
   "id": "fa19c4e1",
   "metadata": {},
   "source": [
    "#### 3. Space and Pattern Removal"
   ]
  },
  {
   "cell_type": "code",
   "execution_count": 5,
   "id": "2df6d86b",
   "metadata": {},
   "outputs": [
    {
     "name": "stderr",
     "output_type": "stream",
     "text": [
      "/var/folders/qb/zk_1sfdx3psf0kn4pmydt0b40000gn/T/ipykernel_50998/1930119093.py:15: SettingWithCopyWarning: \n",
      "A value is trying to be set on a copy of a slice from a DataFrame\n",
      "\n",
      "See the caveats in the documentation: https://pandas.pydata.org/pandas-docs/stable/user_guide/indexing.html#returning-a-view-versus-a-copy\n",
      "  txt[i] = txt[i].replace(char, ' ')\n",
      "/var/folders/qb/zk_1sfdx3psf0kn4pmydt0b40000gn/T/ipykernel_50998/1930119093.py:16: SettingWithCopyWarning: \n",
      "A value is trying to be set on a copy of a slice from a DataFrame\n",
      "\n",
      "See the caveats in the documentation: https://pandas.pydata.org/pandas-docs/stable/user_guide/indexing.html#returning-a-view-versus-a-copy\n",
      "  txt[i] = txt[i].lower()\n",
      "/var/folders/qb/zk_1sfdx3psf0kn4pmydt0b40000gn/T/ipykernel_50998/1930119093.py:27: SettingWithCopyWarning: \n",
      "A value is trying to be set on a copy of a slice from a DataFrame\n",
      "\n",
      "See the caveats in the documentation: https://pandas.pydata.org/pandas-docs/stable/user_guide/indexing.html#returning-a-view-versus-a-copy\n",
      "  txt[i] = space_remover(txt[i])\n"
     ]
    }
   ],
   "source": [
    "# Remove Special Character and lowercase\n",
    "def remove_pattern(input_txt, pattern):\n",
    "    r = re.findall(pattern, input_txt)\n",
    "    for i in r:\n",
    "        input_txt = re.sub(i, '', input_txt)\n",
    "    return input_txt   \n",
    "\n",
    "spec_chars = [\"RT @[_A-Za-z0-9]+:\",\"!\",'\"',\"%\",\"&\",\"'\",\"(\",\")\",\n",
    "              \"*\",\"+\",\",\",\"-\",\".\",\"/\",\":\",\";\",\"<\",\n",
    "              \"=\",\">\",\"?\",\"@\",\"[\",\"\\\\\",\"]\",\"^\",\"_\",\n",
    "              \"`\",\"{\",\"|\",\"}\",\"~\",\"–\"]\n",
    "\n",
    "for i in range(len(txt)):\n",
    "    for char in spec_chars:\n",
    "        txt[i] = txt[i].replace(char, ' ')\n",
    "        txt[i] = txt[i].lower()\n",
    "        \n",
    "# Remove Duplicated Space\n",
    "def space_remover(txt):\n",
    "    txt = re.sub(\"\\s+\",\" \",txt)\n",
    "    if re.search(\"^\\s\",txt) != None:\n",
    "        txt = txt[re.search(\"^\\s\",txt).end():]\n",
    "    if re.search(\"\\s$\",txt) != None:\n",
    "        txt = txt[:re.search(\"\\s$\",txt).start()]\n",
    "    return txt\n",
    "for i in range(len(txt)):\n",
    "    txt[i] = space_remover(txt[i])  "
   ]
  },
  {
   "cell_type": "markdown",
   "id": "3c1d56c7",
   "metadata": {},
   "source": [
    "#### 4. Number and French Removal"
   ]
  },
  {
   "cell_type": "code",
   "execution_count": 6,
   "id": "60a8a6da",
   "metadata": {
    "scrolled": false
   },
   "outputs": [
    {
     "name": "stderr",
     "output_type": "stream",
     "text": [
      "/var/folders/qb/zk_1sfdx3psf0kn4pmydt0b40000gn/T/ipykernel_50998/1006240585.py:12: SettingWithCopyWarning: \n",
      "A value is trying to be set on a copy of a slice from a DataFrame\n",
      "\n",
      "See the caveats in the documentation: https://pandas.pydata.org/pandas-docs/stable/user_guide/indexing.html#returning-a-view-versus-a-copy\n",
      "  txt[i] = remove_number(txt[i])\n",
      "/var/folders/qb/zk_1sfdx3psf0kn4pmydt0b40000gn/T/ipykernel_50998/1006240585.py:17: SettingWithCopyWarning: \n",
      "A value is trying to be set on a copy of a slice from a DataFrame\n",
      "\n",
      "See the caveats in the documentation: https://pandas.pydata.org/pandas-docs/stable/user_guide/indexing.html#returning-a-view-versus-a-copy\n",
      "  txt[i] = \"\"\n"
     ]
    },
    {
     "name": "stdout",
     "output_type": "stream",
     "text": [
      "2268\n"
     ]
    }
   ],
   "source": [
    "# Function for remove number:\n",
    "def remove_number(txt):\n",
    "    x = re.search(\"^[0-9]+$\",txt)\n",
    "    if x != None:\n",
    "        txt = ''\n",
    "    return txt\n",
    "\n",
    "\n",
    "##= Remove number and French:\n",
    "count = 0\n",
    "for i in range(len(txt)):\n",
    "    txt[i] = remove_number(txt[i])\n",
    "    a = txt[i]\n",
    "    if a != \"\":\n",
    "        if detect(a) == \"fr\":\n",
    "            count += 1\n",
    "            txt[i] = \"\"\n",
    "print(count)"
   ]
  },
  {
   "cell_type": "markdown",
   "id": "ed0bfef7",
   "metadata": {},
   "source": [
    "---\n",
    "## Pre processing\n",
    "* Tokenize words\n",
    "* Remove Stopping words\n",
    "* Lemmatize narrative\n",
    "\n",
    "#### 1. Tokenize words & Clean-up text"
   ]
  },
  {
   "cell_type": "code",
   "execution_count": null,
   "id": "ee6bc2a5",
   "metadata": {
    "scrolled": true
   },
   "outputs": [
    {
     "name": "stdout",
     "output_type": "stream",
     "text": [
      "[['on', 'vacation', 'use', 'the', 'banana', 'boat', 'product', 'sunscreen', 'and', 'days', 'later', 'he', 'broke', 'out', 'on', 'rash', 'that', 'turned', 'into', 'blister', 'like']]\n"
     ]
    }
   ],
   "source": [
    "listOfText_p1=list(txt)\n",
    "# convert sentence to words\n",
    "def sent_to_words(sentences):\n",
    "    for sentence in sentences:\n",
    "        # deacc=True removes punctuations\n",
    "        yield(gensim.utils.simple_preprocess(str(sentence), deacc=True))\n",
    "# convert\n",
    "data_words = list(sent_to_words(listOfText_p1))\n",
    "print(data_words[:1])"
   ]
  },
  {
   "cell_type": "markdown",
   "id": "3a4fd22a",
   "metadata": {},
   "source": [
    "#### 2. Lemmatize narrative"
   ]
  },
  {
   "cell_type": "code",
   "execution_count": 10,
   "id": "6c7fb86c",
   "metadata": {},
   "outputs": [],
   "source": [
    "def lemmatization(texts, allowed_postags=['NOUN', 'ADJ', 'VERB', 'ADV']):\n",
    "    #\"\"\"https://spacy.io/api/annotation\"\"\"\n",
    "    texts_out = []\n",
    "    for sent in texts:\n",
    "        doc = nlp(\" \".join(sent)) \n",
    "        texts_out.append([token.lemma_ for token in doc if token.pos_ in allowed_postags])\n",
    "    return texts_out\n",
    "\n",
    "\n",
    "nlp = spacy.load('en_core_web_sm', disable=['parser', 'ner'])\n",
    "\n",
    "# Do lemmatization keeping only noun, adj, vb, adv\n",
    "data_lemmatized  = lemmatization(data_words, allowed_postags=['NOUN', 'ADJ', 'VERB', 'ADV'])\n",
    "# (try to remove adv and adj)"
   ]
  },
  {
   "cell_type": "code",
   "execution_count": 11,
   "id": "e21944e0",
   "metadata": {
    "scrolled": true
   },
   "outputs": [
    {
     "name": "stdout",
     "output_type": "stream",
     "text": [
      "['vacation', 'use', 'banana', 'boat', 'product', 'sunscreen', 'day', 'later', 'break', 'rash', 'turn', 'blister']\n",
      "<class 'list'>\n"
     ]
    }
   ],
   "source": [
    "print(data_lemmatized[0])\n",
    "print(type(data_lemmatized))"
   ]
  },
  {
   "cell_type": "markdown",
   "id": "06eacbf6",
   "metadata": {},
   "source": [
    "#### 3. Creating Bigram and Trigram Models\n",
    "\n",
    "Aim to identify phrase"
   ]
  },
  {
   "cell_type": "code",
   "execution_count": 12,
   "id": "a1c6821f",
   "metadata": {},
   "outputs": [
    {
     "name": "stdout",
     "output_type": "stream",
     "text": [
      "['vacation', 'use', 'banana_boat', 'product', 'sunscreen', 'day', 'later', 'break', 'rash', 'turn', 'blister']\n"
     ]
    }
   ],
   "source": [
    "# Build the bigram and trigram models\n",
    "bigram = gensim.models.Phrases(data_lemmatized, min_count=5, threshold=50) # higher threshold fewer phrases.\n",
    "trigram = gensim.models.Phrases(bigram[data_lemmatized], threshold=50)  \n",
    "\n",
    "# Faster way to get a sentence clubbed as a trigram/bigram\n",
    "bigram_mod = gensim.models.phrases.Phraser(bigram)\n",
    "trigram_mod = gensim.models.phrases.Phraser(trigram)\n",
    "\n",
    "# See trigram example\n",
    "print(trigram_mod[bigram_mod[data_lemmatized[0]]])"
   ]
  },
  {
   "cell_type": "markdown",
   "id": "1a081243",
   "metadata": {},
   "source": [
    "#### 4. Make Trigram\n"
   ]
  },
  {
   "cell_type": "code",
   "execution_count": 13,
   "id": "150a8bad",
   "metadata": {},
   "outputs": [
    {
     "name": "stdout",
     "output_type": "stream",
     "text": [
      "<class 'list'>\n"
     ]
    }
   ],
   "source": [
    "# functions:\n",
    "def make_bigrams(texts):\n",
    "    return [bigram_mod[doc] for doc in texts]\n",
    "\n",
    "def make_trigrams(texts):\n",
    "    return [trigram_mod[bigram_mod[doc]] for doc in texts]\n",
    "\n",
    "# detect vocabulary\n",
    "data_words_trigrams = make_trigrams(data_lemmatized)\n",
    "\n",
    "# Show type\n",
    "print(type(data_words_trigrams))"
   ]
  },
  {
   "cell_type": "markdown",
   "id": "f8d8e0bd",
   "metadata": {},
   "source": [
    "#### 5. Remove Stopping words"
   ]
  },
  {
   "cell_type": "code",
   "execution_count": null,
   "id": "17be8d19",
   "metadata": {
    "scrolled": true
   },
   "outputs": [
    {
     "name": "stdout",
     "output_type": "stream",
     "text": [
      "['vacation', 'use', 'banana_boat', 'product', 'sunscreen', 'day', 'later', 'break', 'rash', 'turn', 'blister']\n"
     ]
    }
   ],
   "source": [
    "# Remove stopping words:\n",
    "stop_words = stopwords.words('english')\n",
    "def remove_stopwords(texts):\n",
    "    return [[word for word in simple_preprocess(str(doc)) \n",
    "             if word not in stop_words] for doc in texts]\n",
    "data_words_NS = remove_stopwords(data_words_trigrams)\n",
    "print(data_words_NS[0])"
   ]
  },
  {
   "cell_type": "markdown",
   "id": "02812224",
   "metadata": {},
   "source": [
    "#### 6. Example"
   ]
  },
  {
   "cell_type": "code",
   "execution_count": null,
   "id": "336c0fbe",
   "metadata": {},
   "outputs": [
    {
     "name": "stdout",
     "output_type": "stream",
     "text": [
      "Before:\n",
      "CONSUMER HAS A SAFETY ISSUE WITH THREE PHOTOS OF A PRODUCT WHICH HAS LITERALLY EXPLODED WITH THE COLD WEATHER. CONSUMER BELIEVES THIS PRODUCT POSES A HAZARD WHEN EXPOSED TO FREEZING CONDITIONS.\n",
      "\n",
      "\n",
      "Token:\n",
      "['consumer', 'has', 'safety', 'issue', 'with', 'three', 'photos', 'of', 'product', 'which', 'has', 'literally', 'exploded', 'with', 'the', 'cold', 'weather', 'consumer', 'believes', 'this', 'product', 'poses', 'hazard', 'when', 'exposed', 'to', 'freezing', 'conditions']\n",
      "\n",
      "\n",
      "Lemmatized:\n",
      "['consumer', 'safety', 'issue', 'photo', 'product', 'literally', 'explode', 'cold', 'weather', 'consumer', 'believe', 'product', 'pose', 'hazard', 'expose', 'freeze', 'condition']\n",
      "\n",
      "\n",
      "Trigram:\n",
      "['consumer', 'safety', 'issue', 'photo', 'product', 'literally', 'explode', 'cold_weather', 'consumer', 'believe', 'product', 'pose', 'hazard', 'expose', 'freeze', 'condition']\n",
      "\n",
      "\n",
      "Remove Stop_word:\n",
      "['consumer', 'safety', 'issue', 'photo', 'product', 'literally', 'explode', 'cold_weather', 'consumer', 'believe', 'product', 'pose', 'hazard', 'expose', 'freeze', 'condition']\n"
     ]
    }
   ],
   "source": [
    "# Example of post process narrative\n",
    "ind = 214694\n",
    "print(\"Before:\")\n",
    "print(df[\"INCIDENT.DESCRIPTION\"][ind])\n",
    "print(\"\\n\")\n",
    "print(\"Token:\")\n",
    "print(data_words[ind])\n",
    "print(\"\\n\")\n",
    "print(\"Lemmatized:\")\n",
    "print(data_lemmatized[ind])\n",
    "print(\"\\n\")\n",
    "print(\"Trigram:\")\n",
    "print(data_words_trigrams[ind])\n",
    "print(\"\\n\")\n",
    "print(\"Remove Stop_word:\")\n",
    "print(data_words_NS[ind])"
   ]
  },
  {
   "cell_type": "markdown",
   "id": "dc3cf5ce",
   "metadata": {},
   "source": [
    "#### 7. EDA"
   ]
  },
  {
   "cell_type": "code",
   "execution_count": 19,
   "id": "edbb4234",
   "metadata": {},
   "outputs": [
    {
     "data": {
      "image/png": "[encoded data removed]",
      "text/plain": [
       "<PIL.Image.Image image mode=RGB size=400x200>"
      ]
     },
     "execution_count": 19,
     "metadata": {},
     "output_type": "execute_result"
    }
   ],
   "source": [
    "# Join the diffeerent narrative together\n",
    "','.join(data_lemmatized[0])\n",
    "temp = []\n",
    "for sent in data_lemmatized:\n",
    "    temp.append(','.join(sent))\n",
    "\n",
    "long_string = ','.join(temp)\n",
    "\n",
    "# Create a WorldCloud object\n",
    "wordcloud = WordCloud(background_color=\"white\", max_words=1000, contour_width=3, contour_color='steelblue')\n",
    "\n",
    "# Generate a word cloud\n",
    "wordcloud.generate(long_string)\n",
    "\n",
    "# Visualize the word cloud\n",
    "wordcloud.to_image()"
   ]
  },
  {
   "cell_type": "markdown",
   "id": "1e858f2c",
   "metadata": {},
   "source": [
    "#### 9. Remove additional words from the narrative"
   ]
  },
  {
   "cell_type": "markdown",
   "id": "aa3c8f03",
   "metadata": {},
   "source": [
    "Import self designed stop word list"
   ]
  },
  {
   "cell_type": "code",
   "execution_count": null,
   "id": "e5480f16",
   "metadata": {},
   "outputs": [
    {
     "data": {
      "text/plain": [
       "160"
      ]
     },
     "execution_count": 20,
     "metadata": {},
     "output_type": "execute_result"
    }
   ],
   "source": [
    "# Import stop word list\n",
    "colnames=['vocab', 'count', 'percentage', 'remove',\"sec\"] \n",
    "word_list = pd.read_csv ('../Data/word_list.csv', names=colnames, header=None)\n",
    "word_list = word_list[:500]\n",
    "add_stop = list(word_list[word_list[\"remove\"] == \"1\"][\"vocab\"])\n",
    "print(len(add_stop))\n",
    "# remove additional stop words\n",
    "stop_words.extend(add_stop)\n",
    "clean_data = remove_stopwords(data_words_NS)"
   ]
  },
  {
   "cell_type": "markdown",
   "id": "ca68d17c",
   "metadata": {},
   "source": [
    "#### View"
   ]
  },
  {
   "cell_type": "code",
   "execution_count": 22,
   "id": "0053c380",
   "metadata": {},
   "outputs": [
    {
     "name": "stdout",
     "output_type": "stream",
     "text": [
      "Before:\n",
      "CONSUMER HAS A SAFETY ISSUE WITH THREE PHOTOS OF A PRODUCT WHICH HAS LITERALLY EXPLODED WITH THE COLD WEATHER. CONSUMER BELIEVES THIS PRODUCT POSES A HAZARD WHEN EXPOSED TO FREEZING CONDITIONS.\n",
      "\n",
      "\n",
      "Token:\n",
      "['consumer', 'has', 'safety', 'issue', 'with', 'three', 'photos', 'of', 'product', 'which', 'has', 'literally', 'exploded', 'with', 'the', 'cold', 'weather', 'consumer', 'believes', 'this', 'product', 'poses', 'hazard', 'when', 'exposed', 'to', 'freezing', 'conditions']\n",
      "\n",
      "\n",
      "Lemmatized:\n",
      "['consumer', 'safety', 'issue', 'photo', 'product', 'literally', 'explode', 'cold', 'weather', 'consumer', 'believe', 'product', 'pose', 'hazard', 'expose', 'freeze', 'condition']\n",
      "\n",
      "\n",
      "Trigram:\n",
      "['consumer', 'safety', 'issue', 'photo', 'product', 'literally', 'explode', 'cold_weather', 'consumer', 'believe', 'product', 'pose', 'hazard', 'expose', 'freeze', 'condition']\n",
      "\n",
      "\n",
      "Remove Stop_word:\n",
      "['consumer', 'safety', 'issue', 'photo', 'product', 'literally', 'explode', 'cold_weather', 'consumer', 'believe', 'product', 'pose', 'hazard', 'expose', 'freeze', 'condition']\n",
      "\n",
      "\n",
      "Additional Stop_word:\n",
      "['photo', 'literally', 'explode', 'cold_weather', 'pose', 'expose', 'freeze', 'condition']\n"
     ]
    }
   ],
   "source": [
    "ind = 214694\n",
    "print(\"Before:\")\n",
    "print(df[\"INCIDENT.DESCRIPTION\"][ind])\n",
    "print(\"\\n\")\n",
    "print(\"Token:\")\n",
    "print(data_words[ind])\n",
    "print(\"\\n\")\n",
    "print(\"Lemmatized:\")\n",
    "print(data_lemmatized[ind])\n",
    "print(\"\\n\")\n",
    "print(\"Trigram:\")\n",
    "print(data_words_trigrams[ind])\n",
    "print(\"\\n\")\n",
    "print(\"Remove Stop_word:\")\n",
    "print(data_words_NS[ind])\n",
    "print('\\n')\n",
    "print(\"Additional Stop_word:\")\n",
    "print(clean_data[ind])"
   ]
  },
  {
   "cell_type": "code",
   "execution_count": null,
   "id": "8fa8b1c2",
   "metadata": {},
   "outputs": [],
   "source": [
    "## Triagram\n",
    "listOfText_p2 = []\n",
    "for i in range(len(clean_data)):\n",
    "    listOfText_p2.append(\" \".join(clean_data[i]))\n",
    "#text_list\n",
    "## Biagram\n",
    "listOfText_p3 = []\n",
    "for i in range(len(data_words)):\n",
    "    listOfText_p3.append(\" \".join(data_words[i]))"
   ]
  },
  {
   "cell_type": "markdown",
   "id": "90d65b5c",
   "metadata": {},
   "source": [
    "## Add Year Column (Dynamic Modeling)"
   ]
  },
  {
   "cell_type": "code",
   "execution_count": null,
   "id": "8ed40190",
   "metadata": {},
   "outputs": [],
   "source": [
    "df[\"Year\"] = np.nan\n",
    "temp = df[\"Year\"]\n",
    "\n",
    "a = 0\n",
    "b = 0\n",
    "for i in range(len(df)):\n",
    "    if pd.isna(df.iloc[i][\"RECEIVED.YEAR\"]) == False:\n",
    "        temp[i] = int(df.iloc[i][\"RECEIVED.YEAR\"])\n",
    "        a += 1\n",
    "    elif pd.isna(df.iloc[i][\"Case.Number\"]) == False:\n",
    "        temp[i] = int(df.iloc[i][\"Case.Number\"][0:4])\n",
    "        b += 1 "
   ]
  },
  {
   "cell_type": "markdown",
   "id": "c9d0eb87",
   "metadata": {},
   "source": [
    "## Output clean data file"
   ]
  },
  {
   "cell_type": "code",
   "execution_count": 32,
   "id": "822f27a4",
   "metadata": {},
   "outputs": [],
   "source": [
    "df[\"clean_text\"]=listOfText_p2\n",
    "df[\"raw_text\"]=listOfText_p3\n",
    "import openpyxl\n",
    "#df.to_excel(\"../Data/USCA.xlsx\", header = True, index = False)"
   ]
  }
 ],
 "metadata": {
  "kernelspec": {
   "display_name": "ul_env",
   "language": "python",
   "name": "ul_env"
  },
  "language_info": {
   "codemirror_mode": {
    "name": "ipython",
    "version": 3
   },
   "file_extension": ".py",
   "mimetype": "text/x-python",
   "name": "python",
   "nbconvert_exporter": "python",
   "pygments_lexer": "ipython3",
   "version": "3.9.7"
  }
 },
 "nbformat": 4,
 "nbformat_minor": 5
}
