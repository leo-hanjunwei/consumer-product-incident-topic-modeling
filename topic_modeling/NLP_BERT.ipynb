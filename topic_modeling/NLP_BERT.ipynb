{
 "cells": [
  {
   "cell_type": "markdown",
   "id": "d1ceba88",
   "metadata": {},
   "source": [
    "## Peperation\n",
    "#### Import Package"
   ]
  },
  {
   "cell_type": "code",
   "execution_count": 1,
   "id": "ad44073a",
   "metadata": {},
   "outputs": [],
   "source": [
    "import numpy as np\n",
    "import re\n",
    "import pandas as pd\n",
    "from datetime import datetime\n",
    "from numpy import asarray\n",
    "from numpy import savetxt\n",
    "from numpy import loadtxt\n",
    "import gensim\n",
    "from sentence_transformers import SentenceTransformer\n",
    "from bertopic import BERTopic\n",
    "import matplotlib.pyplot as plt\n",
    "from octis.evaluation_metrics.coherence_metrics import Coherence\n",
    "from octis.evaluation_metrics.diversity_metrics import TopicDiversity"
   ]
  },
  {
   "cell_type": "markdown",
   "id": "a21a967e",
   "metadata": {},
   "source": [
    "#### Import Data"
   ]
  },
  {
   "cell_type": "code",
   "execution_count": 3,
   "id": "4764f7b0",
   "metadata": {},
   "outputs": [
    {
     "name": "stderr",
     "output_type": "stream",
     "text": [
      "<ipython-input-3-99ee6d985b62>:1: DtypeWarning: Columns (6,7,8,9,10,11,12,13,14,15,16,17,18,19,20,21,22,23,24,25,26,27,28,29,30,31,32,33,52) have mixed types. Specify dtype option on import or set low_memory=False.\n",
      "  df = pd.read_csv ('../../Data/USCA.csv')\n"
     ]
    }
   ],
   "source": [
    "df = pd.read_csv('../../../Data/Year_and_Text/USCA.csv')\n",
    "\n",
    "# Make data year span same\n",
    "df = df[(df[\"Year\"]==2013)|\n",
    "        (df[\"Year\"]==2014)|\n",
    "        (df[\"Year\"]==2015)|\n",
    "        (df[\"Year\"]==2016)|\n",
    "        (df[\"Year\"]==2017)|\n",
    "        (df[\"Year\"]==2018)|\n",
    "        (df[\"Year\"]==2019)]\n",
    "\n",
    "def sent_to_words(sentences):\n",
    "    for sentence in sentences:\n",
    "        # deacc=True removes punctuations\n",
    "        yield(gensim.utils.simple_preprocess(str(sentence), deacc=True))\n",
    "# convert\n",
    "clean_data = list(sent_to_words(df[\"clean_text\"]))\n",
    "raw_data = list(sent_to_words(df[\"raw_text\"]))\n",
    "listOfText_clean = []\n",
    "listOfText_raw = []\n",
    "CORPUS = []\n",
    "\n",
    "for i in range(len(clean_data)):\n",
    "    listOfText_clean.append(\" \".join(clean_data[i]))\n",
    "    \n",
    "for i in range(len(raw_data)):\n",
    "    listOfText_raw.append(\" \".join(raw_data[i]))\n",
    "    \n",
    "for i in range(len(clean_data)):\n",
    "    CORPUS.append(clean_data[i])"
   ]
  },
  {
   "cell_type": "markdown",
   "id": "932ea891",
   "metadata": {},
   "source": [
    "#### Fomulate Data and Embedding"
   ]
  },
  {
   "cell_type": "code",
   "execution_count": 10,
   "id": "e7e026e6",
   "metadata": {},
   "outputs": [
    {
     "data": {
      "application/vnd.jupyter.widget-view+json": {
       "model_id": "25ca5c06176a429ebb21afd6fecd72fc",
       "version_major": 2,
       "version_minor": 0
      },
      "text/plain": [
       "Batches:   0%|          | 0/5849 [00:00<?, ?it/s]"
      ]
     },
     "metadata": {},
     "output_type": "display_data"
    }
   ],
   "source": [
    "all_words = [word for words in CORPUS for word in words]\n",
    "TOPK = 10\n",
    "DATA = [\" \".join(words) for words in CORPUS]\n",
    "#\n",
    "# \n",
    "model = SentenceTransformer(\"all-mpnet-base-v2\")\n",
    "##Create and save embeddings\n",
    "embeddings = model.encode(listOfText_clean, show_progress_bar=True)\n",
    "savetxt('embeddings.csv', embeddings, delimiter=',')"
   ]
  },
  {
   "cell_type": "markdown",
   "id": "82a3e43a",
   "metadata": {},
   "source": [
    "## Optimize number of topics (DON'T RUN)\n",
    "#### Coherence Function"
   ]
  },
  {
   "cell_type": "code",
   "execution_count": 4,
   "id": "c686e038",
   "metadata": {},
   "outputs": [],
   "source": [
    "from bertopic import BERTopic\n",
    "from octis.evaluation_metrics.coherence_metrics import Coherence\n",
    "from octis.evaluation_metrics.diversity_metrics import TopicDiversity\n",
    "\n",
    "\n",
    "def evaluation(N_topics, CORPUS,all_words,TOPK, DATA, model, embeddings):\n",
    "    ## Creating Model\n",
    "    model = BERTopic(language=\"english\", calculate_probabilities=True, verbose=True, diversity = None,\n",
    "                     embedding_model= \"all-mpnet-base-v2\", min_topic_size = 15, nr_topics= N_topics)\n",
    "    topics, _ = model.fit_transform(DATA, embeddings)\n",
    "    \n",
    "    \n",
    "    ## Bertopic\n",
    "    bertopic_topics = [\n",
    "        [\n",
    "            vals[0] if vals[0] in all_words else all_words[0]\n",
    "            for vals in model.get_topic(i)[:TOPK]\n",
    "        ]\n",
    "        for i in range(len(set(topics)) - 1)\n",
    "    ]\n",
    "    \n",
    "    output_tm = {\"topics\": bertopic_topics}\n",
    "    \n",
    "    \n",
    "    \n",
    "    ## Metrics\n",
    "    \"\"\"Prepare evaluation measures using OCTIS\"\"\"\n",
    "    \n",
    "    npmi = Coherence(texts=CORPUS, topk=TOPK, measure=\"c_npmi\")\n",
    "    topic_diversity = TopicDiversity(topk= TOPK)\n",
    "    \n",
    "    # Define methods\n",
    "    coherence = [(npmi, \"npmi\")]\n",
    "    diversity = [(topic_diversity, \"diversity\")]\n",
    "    metrics = [(coherence, \"Coherence\"), (diversity, \"Diversity\")]\n",
    "    \n",
    "    \n",
    "    \n",
    "    ## Output Metrics\n",
    "    results = {}\n",
    "    for scorers, _ in metrics:\n",
    "        for scorer, name in scorers:\n",
    "            score = scorer.score(output_tm)\n",
    "            results[name] = float(score)\n",
    "    \n",
    "    # Print results\n",
    "    if model.verbose:\n",
    "        print(\"Results\")\n",
    "        print(\"===============\")\n",
    "        print(\"Topic number: \"+str(N_topics))\n",
    "        for metric, score in results.items():\n",
    "            print(f\"{metric}: {str(score)}\")\n",
    "        print(\" \")\n",
    "    return results"
   ]
  },
  {
   "cell_type": "markdown",
   "id": "9679e18a",
   "metadata": {},
   "source": [
    "#### Iteration 1 (Overview)"
   ]
  },
  {
   "cell_type": "code",
   "execution_count": 6,
   "id": "2e6807f9",
   "metadata": {
    "collapsed": true
   },
   "outputs": [
    {
     "name": "stderr",
     "output_type": "stream",
     "text": [
      "2022-08-06 03:22:16,371 - BERTopic - Reduced dimensionality with UMAP\n",
      "2022-08-06 03:56:15,927 - BERTopic - Clustered UMAP embeddings with HDBSCAN\n",
      "2022-08-06 03:57:27,913 - BERTopic - Reduced number of topics from 560 to 21\n"
     ]
    },
    {
     "name": "stdout",
     "output_type": "stream",
     "text": [
      "Results\n",
      "===============\n",
      "Topic number: 20\n",
      "npmi: 0.2024125573388421\n",
      "diversity: 0.715\n",
      " \n"
     ]
    },
    {
     "name": "stderr",
     "output_type": "stream",
     "text": [
      "2022-08-06 04:01:54,356 - BERTopic - Reduced dimensionality with UMAP\n",
      "2022-08-06 04:42:56,213 - BERTopic - Clustered UMAP embeddings with HDBSCAN\n",
      "2022-08-06 04:44:24,439 - BERTopic - Reduced number of topics from 689 to 21\n"
     ]
    },
    {
     "name": "stdout",
     "output_type": "stream",
     "text": [
      "Results\n",
      "===============\n",
      "Topic number: 20\n",
      "npmi: 0.2026488101165437\n",
      "diversity: 0.655\n",
      " \n"
     ]
    },
    {
     "name": "stderr",
     "output_type": "stream",
     "text": [
      "2022-08-06 04:49:05,799 - BERTopic - Reduced dimensionality with UMAP\n",
      "2022-08-06 05:30:09,126 - BERTopic - Clustered UMAP embeddings with HDBSCAN\n",
      "2022-08-06 05:31:32,614 - BERTopic - Reduced number of topics from 657 to 21\n"
     ]
    },
    {
     "name": "stdout",
     "output_type": "stream",
     "text": [
      "Results\n",
      "===============\n",
      "Topic number: 20\n",
      "npmi: 0.2021434991935874\n",
      "diversity: 0.64\n",
      " \n"
     ]
    },
    {
     "name": "stderr",
     "output_type": "stream",
     "text": [
      "2022-08-06 05:35:55,516 - BERTopic - Reduced dimensionality with UMAP\n",
      "2022-08-06 06:17:19,212 - BERTopic - Clustered UMAP embeddings with HDBSCAN\n",
      "2022-08-06 06:18:45,651 - BERTopic - Reduced number of topics from 670 to 31\n"
     ]
    },
    {
     "name": "stdout",
     "output_type": "stream",
     "text": [
      "Results\n",
      "===============\n",
      "Topic number: 30\n",
      "npmi: 0.21183227612895195\n",
      "diversity: 0.6533333333333333\n",
      " \n"
     ]
    },
    {
     "name": "stderr",
     "output_type": "stream",
     "text": [
      "2022-08-06 06:23:29,989 - BERTopic - Reduced dimensionality with UMAP\n",
      "2022-08-06 07:09:33,490 - BERTopic - Clustered UMAP embeddings with HDBSCAN\n",
      "2022-08-06 07:10:59,579 - BERTopic - Reduced number of topics from 672 to 31\n"
     ]
    },
    {
     "name": "stdout",
     "output_type": "stream",
     "text": [
      "Results\n",
      "===============\n",
      "Topic number: 30\n",
      "npmi: 0.20567586597272255\n",
      "diversity: 0.6433333333333333\n",
      " \n"
     ]
    },
    {
     "name": "stderr",
     "output_type": "stream",
     "text": [
      "2022-08-06 07:15:24,350 - BERTopic - Reduced dimensionality with UMAP\n",
      "2022-08-06 07:53:24,671 - BERTopic - Clustered UMAP embeddings with HDBSCAN\n",
      "2022-08-06 07:54:49,804 - BERTopic - Reduced number of topics from 656 to 31\n"
     ]
    },
    {
     "name": "stdout",
     "output_type": "stream",
     "text": [
      "Results\n",
      "===============\n",
      "Topic number: 30\n",
      "npmi: 0.20089829741319096\n",
      "diversity: 0.6333333333333333\n",
      " \n"
     ]
    },
    {
     "name": "stderr",
     "output_type": "stream",
     "text": [
      "2022-08-06 07:59:23,869 - BERTopic - Reduced dimensionality with UMAP\n",
      "2022-08-06 08:45:50,977 - BERTopic - Clustered UMAP embeddings with HDBSCAN\n",
      "2022-08-06 08:47:35,729 - BERTopic - Reduced number of topics from 687 to 41\n"
     ]
    },
    {
     "name": "stdout",
     "output_type": "stream",
     "text": [
      "Results\n",
      "===============\n",
      "Topic number: 40\n",
      "npmi: 0.2099910347038972\n",
      "diversity: 0.655\n",
      " \n"
     ]
    },
    {
     "name": "stderr",
     "output_type": "stream",
     "text": [
      "2022-08-06 08:52:43,988 - BERTopic - Reduced dimensionality with UMAP\n",
      "2022-08-06 09:44:09,853 - BERTopic - Clustered UMAP embeddings with HDBSCAN\n",
      "2022-08-06 09:45:58,283 - BERTopic - Reduced number of topics from 665 to 41\n"
     ]
    },
    {
     "name": "stdout",
     "output_type": "stream",
     "text": [
      "Results\n",
      "===============\n",
      "Topic number: 40\n",
      "npmi: 0.20542964437813235\n",
      "diversity: 0.65\n",
      " \n"
     ]
    },
    {
     "name": "stderr",
     "output_type": "stream",
     "text": [
      "2022-08-06 10:01:46,806 - BERTopic - Reduced dimensionality with UMAP\n",
      "2022-08-06 10:50:34,364 - BERTopic - Clustered UMAP embeddings with HDBSCAN\n",
      "2022-08-06 10:52:28,479 - BERTopic - Reduced number of topics from 658 to 41\n"
     ]
    },
    {
     "name": "stdout",
     "output_type": "stream",
     "text": [
      "Results\n",
      "===============\n",
      "Topic number: 40\n",
      "npmi: 0.21613562022648872\n",
      "diversity: 0.6175\n",
      " \n"
     ]
    },
    {
     "name": "stderr",
     "output_type": "stream",
     "text": [
      "2022-08-06 10:58:13,796 - BERTopic - Reduced dimensionality with UMAP\n",
      "2022-08-06 12:00:21,170 - BERTopic - Clustered UMAP embeddings with HDBSCAN\n",
      "2022-08-06 12:02:16,085 - BERTopic - Reduced number of topics from 686 to 51\n"
     ]
    },
    {
     "name": "stdout",
     "output_type": "stream",
     "text": [
      "Results\n",
      "===============\n",
      "Topic number: 50\n",
      "npmi: 0.20931631817990354\n",
      "diversity: 0.614\n",
      " \n"
     ]
    },
    {
     "name": "stderr",
     "output_type": "stream",
     "text": [
      "2022-08-06 12:07:40,031 - BERTopic - Reduced dimensionality with UMAP\n",
      "2022-08-06 13:02:40,131 - BERTopic - Clustered UMAP embeddings with HDBSCAN\n",
      "2022-08-06 13:04:32,612 - BERTopic - Reduced number of topics from 662 to 51\n"
     ]
    },
    {
     "name": "stdout",
     "output_type": "stream",
     "text": [
      "Results\n",
      "===============\n",
      "Topic number: 50\n",
      "npmi: 0.21369511274169445\n",
      "diversity: 0.58\n",
      " \n"
     ]
    },
    {
     "name": "stderr",
     "output_type": "stream",
     "text": [
      "2022-08-06 13:10:03,606 - BERTopic - Reduced dimensionality with UMAP\n",
      "2022-08-06 14:05:19,010 - BERTopic - Clustered UMAP embeddings with HDBSCAN\n",
      "2022-08-06 14:07:16,708 - BERTopic - Reduced number of topics from 677 to 51\n"
     ]
    },
    {
     "name": "stdout",
     "output_type": "stream",
     "text": [
      "Results\n",
      "===============\n",
      "Topic number: 50\n",
      "npmi: 0.21054009334636128\n",
      "diversity: 0.628\n",
      " \n"
     ]
    },
    {
     "name": "stderr",
     "output_type": "stream",
     "text": [
      "2022-08-06 14:13:08,825 - BERTopic - Reduced dimensionality with UMAP\n",
      "2022-08-06 15:14:47,307 - BERTopic - Clustered UMAP embeddings with HDBSCAN\n",
      "2022-08-06 15:16:54,646 - BERTopic - Reduced number of topics from 703 to 61\n"
     ]
    },
    {
     "name": "stdout",
     "output_type": "stream",
     "text": [
      "Results\n",
      "===============\n",
      "Topic number: 60\n",
      "npmi: 0.20988869189131298\n",
      "diversity: 0.595\n",
      " \n"
     ]
    },
    {
     "name": "stderr",
     "output_type": "stream",
     "text": [
      "2022-08-06 15:22:42,794 - BERTopic - Reduced dimensionality with UMAP\n",
      "2022-08-06 16:21:32,229 - BERTopic - Clustered UMAP embeddings with HDBSCAN\n",
      "2022-08-06 16:23:34,592 - BERTopic - Reduced number of topics from 676 to 61\n"
     ]
    },
    {
     "name": "stdout",
     "output_type": "stream",
     "text": [
      "Results\n",
      "===============\n",
      "Topic number: 60\n",
      "npmi: 0.20704539897615726\n",
      "diversity: 0.5916666666666667\n",
      " \n"
     ]
    },
    {
     "name": "stderr",
     "output_type": "stream",
     "text": [
      "2022-08-06 16:28:37,044 - BERTopic - Reduced dimensionality with UMAP\n",
      "2022-08-06 17:11:32,718 - BERTopic - Clustered UMAP embeddings with HDBSCAN\n",
      "2022-08-06 17:13:07,450 - BERTopic - Reduced number of topics from 672 to 61\n"
     ]
    },
    {
     "name": "stdout",
     "output_type": "stream",
     "text": [
      "Results\n",
      "===============\n",
      "Topic number: 60\n",
      "npmi: 0.2107936976990118\n",
      "diversity: 0.58\n",
      " \n"
     ]
    },
    {
     "name": "stderr",
     "output_type": "stream",
     "text": [
      "2022-08-06 17:18:16,838 - BERTopic - Reduced dimensionality with UMAP\n",
      "2022-08-06 18:02:33,175 - BERTopic - Clustered UMAP embeddings with HDBSCAN\n",
      "2022-08-06 18:04:07,125 - BERTopic - Reduced number of topics from 677 to 71\n"
     ]
    },
    {
     "name": "stdout",
     "output_type": "stream",
     "text": [
      "Results\n",
      "===============\n",
      "Topic number: 70\n",
      "npmi: 0.1965700086365184\n",
      "diversity: 0.5671428571428572\n",
      " \n"
     ]
    },
    {
     "name": "stderr",
     "output_type": "stream",
     "text": [
      "2022-08-06 18:09:02,276 - BERTopic - Reduced dimensionality with UMAP\n",
      "2022-08-06 18:50:55,036 - BERTopic - Clustered UMAP embeddings with HDBSCAN\n",
      "2022-08-06 18:52:31,211 - BERTopic - Reduced number of topics from 683 to 71\n"
     ]
    },
    {
     "name": "stdout",
     "output_type": "stream",
     "text": [
      "Results\n",
      "===============\n",
      "Topic number: 70\n",
      "npmi: 0.20338927503916973\n",
      "diversity: 0.5457142857142857\n",
      " \n"
     ]
    },
    {
     "name": "stderr",
     "output_type": "stream",
     "text": [
      "2022-08-06 18:57:40,012 - BERTopic - Reduced dimensionality with UMAP\n",
      "2022-08-06 19:43:13,639 - BERTopic - Clustered UMAP embeddings with HDBSCAN\n",
      "2022-08-06 19:44:45,213 - BERTopic - Reduced number of topics from 675 to 71\n"
     ]
    },
    {
     "name": "stdout",
     "output_type": "stream",
     "text": [
      "Results\n",
      "===============\n",
      "Topic number: 70\n",
      "npmi: 0.20470284665074154\n",
      "diversity: 0.5557142857142857\n",
      " \n"
     ]
    },
    {
     "name": "stderr",
     "output_type": "stream",
     "text": [
      "2022-08-06 19:49:52,438 - BERTopic - Reduced dimensionality with UMAP\n",
      "2022-08-06 20:33:23,538 - BERTopic - Clustered UMAP embeddings with HDBSCAN\n",
      "2022-08-06 20:34:57,856 - BERTopic - Reduced number of topics from 667 to 81\n"
     ]
    },
    {
     "name": "stdout",
     "output_type": "stream",
     "text": [
      "Results\n",
      "===============\n",
      "Topic number: 80\n",
      "npmi: 0.20806267174167442\n",
      "diversity: 0.52875\n",
      " \n"
     ]
    },
    {
     "name": "stderr",
     "output_type": "stream",
     "text": [
      "2022-08-06 20:39:47,654 - BERTopic - Reduced dimensionality with UMAP\n",
      "2022-08-06 21:23:45,755 - BERTopic - Clustered UMAP embeddings with HDBSCAN\n",
      "2022-08-06 21:25:20,445 - BERTopic - Reduced number of topics from 668 to 81\n"
     ]
    },
    {
     "name": "stdout",
     "output_type": "stream",
     "text": [
      "Results\n",
      "===============\n",
      "Topic number: 80\n",
      "npmi: 0.19933183948746178\n",
      "diversity: 0.54125\n",
      " \n"
     ]
    },
    {
     "name": "stderr",
     "output_type": "stream",
     "text": [
      "2022-08-06 21:30:25,082 - BERTopic - Reduced dimensionality with UMAP\n",
      "2022-08-06 22:09:43,580 - BERTopic - Clustered UMAP embeddings with HDBSCAN\n",
      "2022-08-06 22:11:13,608 - BERTopic - Reduced number of topics from 680 to 81\n"
     ]
    },
    {
     "name": "stdout",
     "output_type": "stream",
     "text": [
      "Results\n",
      "===============\n",
      "Topic number: 80\n",
      "npmi: 0.20576346708347115\n",
      "diversity: 0.52875\n",
      " \n"
     ]
    },
    {
     "name": "stderr",
     "output_type": "stream",
     "text": [
      "2022-08-06 22:15:54,769 - BERTopic - Reduced dimensionality with UMAP\n",
      "2022-08-06 23:01:50,606 - BERTopic - Clustered UMAP embeddings with HDBSCAN\n",
      "2022-08-06 23:03:24,504 - BERTopic - Reduced number of topics from 691 to 91\n"
     ]
    },
    {
     "name": "stdout",
     "output_type": "stream",
     "text": [
      "Results\n",
      "===============\n",
      "Topic number: 90\n",
      "npmi: 0.20416999222459795\n",
      "diversity: 0.53\n",
      " \n"
     ]
    },
    {
     "name": "stderr",
     "output_type": "stream",
     "text": [
      "2022-08-06 23:08:04,108 - BERTopic - Reduced dimensionality with UMAP\n",
      "2022-08-06 23:53:35,354 - BERTopic - Clustered UMAP embeddings with HDBSCAN\n",
      "2022-08-06 23:55:05,278 - BERTopic - Reduced number of topics from 684 to 91\n"
     ]
    },
    {
     "name": "stdout",
     "output_type": "stream",
     "text": [
      "Results\n",
      "===============\n",
      "Topic number: 90\n",
      "npmi: 0.2002343330205976\n",
      "diversity: 0.5388888888888889\n",
      " \n"
     ]
    },
    {
     "name": "stderr",
     "output_type": "stream",
     "text": [
      "2022-08-06 23:59:41,487 - BERTopic - Reduced dimensionality with UMAP\n",
      "2022-08-07 00:42:29,779 - BERTopic - Clustered UMAP embeddings with HDBSCAN\n",
      "2022-08-07 00:43:58,151 - BERTopic - Reduced number of topics from 672 to 91\n"
     ]
    },
    {
     "name": "stdout",
     "output_type": "stream",
     "text": [
      "Results\n",
      "===============\n",
      "Topic number: 90\n",
      "npmi: 0.20894629793561587\n",
      "diversity: 0.5411111111111111\n",
      " \n"
     ]
    },
    {
     "name": "stderr",
     "output_type": "stream",
     "text": [
      "2022-08-07 00:48:36,424 - BERTopic - Reduced dimensionality with UMAP\n",
      "2022-08-07 01:30:36,228 - BERTopic - Clustered UMAP embeddings with HDBSCAN\n",
      "2022-08-07 01:32:06,798 - BERTopic - Reduced number of topics from 674 to 101\n"
     ]
    },
    {
     "name": "stdout",
     "output_type": "stream",
     "text": [
      "Results\n",
      "===============\n",
      "Topic number: 100\n",
      "npmi: 0.19799606917004264\n",
      "diversity: 0.547\n",
      " \n"
     ]
    },
    {
     "name": "stderr",
     "output_type": "stream",
     "text": [
      "2022-08-07 01:36:50,987 - BERTopic - Reduced dimensionality with UMAP\n",
      "2022-08-07 02:20:56,624 - BERTopic - Clustered UMAP embeddings with HDBSCAN\n",
      "2022-08-07 02:22:27,875 - BERTopic - Reduced number of topics from 684 to 101\n"
     ]
    },
    {
     "name": "stdout",
     "output_type": "stream",
     "text": [
      "Results\n",
      "===============\n",
      "Topic number: 100\n",
      "npmi: 0.20060853214371804\n",
      "diversity: 0.558\n",
      " \n"
     ]
    },
    {
     "name": "stderr",
     "output_type": "stream",
     "text": [
      "2022-08-07 02:27:06,747 - BERTopic - Reduced dimensionality with UMAP\n",
      "2022-08-07 03:08:58,722 - BERTopic - Clustered UMAP embeddings with HDBSCAN\n",
      "2022-08-07 03:10:28,716 - BERTopic - Reduced number of topics from 682 to 101\n"
     ]
    },
    {
     "name": "stdout",
     "output_type": "stream",
     "text": [
      "Results\n",
      "===============\n",
      "Topic number: 100\n",
      "npmi: 0.20777544852779606\n",
      "diversity: 0.524\n",
      " \n"
     ]
    },
    {
     "name": "stderr",
     "output_type": "stream",
     "text": [
      "2022-08-07 03:15:12,150 - BERTopic - Reduced dimensionality with UMAP\n",
      "2022-08-07 03:54:09,110 - BERTopic - Clustered UMAP embeddings with HDBSCAN\n",
      "2022-08-07 03:55:40,881 - BERTopic - Reduced number of topics from 684 to 111\n"
     ]
    },
    {
     "name": "stdout",
     "output_type": "stream",
     "text": [
      "Results\n",
      "===============\n",
      "Topic number: 110\n",
      "npmi: 0.20323710050444774\n",
      "diversity: 0.5163636363636364\n",
      " \n"
     ]
    },
    {
     "name": "stderr",
     "output_type": "stream",
     "text": [
      "2022-08-07 04:00:25,501 - BERTopic - Reduced dimensionality with UMAP\n",
      "2022-08-07 04:41:06,437 - BERTopic - Clustered UMAP embeddings with HDBSCAN\n",
      "2022-08-07 04:42:37,765 - BERTopic - Reduced number of topics from 680 to 111\n"
     ]
    },
    {
     "name": "stdout",
     "output_type": "stream",
     "text": [
      "Results\n",
      "===============\n",
      "Topic number: 110\n",
      "npmi: 0.20329290685815737\n",
      "diversity: 0.5281818181818182\n",
      " \n"
     ]
    },
    {
     "name": "stderr",
     "output_type": "stream",
     "text": [
      "2022-08-07 04:47:20,330 - BERTopic - Reduced dimensionality with UMAP\n",
      "2022-08-07 05:31:21,331 - BERTopic - Clustered UMAP embeddings with HDBSCAN\n",
      "2022-08-07 05:32:52,915 - BERTopic - Reduced number of topics from 687 to 111\n"
     ]
    },
    {
     "name": "stdout",
     "output_type": "stream",
     "text": [
      "Results\n",
      "===============\n",
      "Topic number: 110\n",
      "npmi: 0.20491667241792946\n",
      "diversity: 0.5354545454545454\n",
      " \n"
     ]
    },
    {
     "name": "stderr",
     "output_type": "stream",
     "text": [
      "2022-08-07 05:37:38,355 - BERTopic - Reduced dimensionality with UMAP\n",
      "2022-08-07 06:17:54,395 - BERTopic - Clustered UMAP embeddings with HDBSCAN\n",
      "2022-08-07 06:19:24,529 - BERTopic - Reduced number of topics from 665 to 121\n"
     ]
    },
    {
     "name": "stdout",
     "output_type": "stream",
     "text": [
      "Results\n",
      "===============\n",
      "Topic number: 120\n",
      "npmi: 0.20541517890230843\n",
      "diversity: 0.5075\n",
      " \n"
     ]
    },
    {
     "name": "stderr",
     "output_type": "stream",
     "text": [
      "2022-08-07 06:24:07,246 - BERTopic - Reduced dimensionality with UMAP\n",
      "2022-08-07 07:06:46,951 - BERTopic - Clustered UMAP embeddings with HDBSCAN\n",
      "2022-08-07 07:08:17,869 - BERTopic - Reduced number of topics from 674 to 121\n"
     ]
    },
    {
     "name": "stdout",
     "output_type": "stream",
     "text": [
      "Results\n",
      "===============\n",
      "Topic number: 120\n",
      "npmi: 0.2115455954865446\n",
      "diversity: 0.49583333333333335\n",
      " \n"
     ]
    },
    {
     "name": "stderr",
     "output_type": "stream",
     "text": [
      "2022-08-07 07:12:49,078 - BERTopic - Reduced dimensionality with UMAP\n",
      "2022-08-07 07:52:37,736 - BERTopic - Clustered UMAP embeddings with HDBSCAN\n",
      "2022-08-07 07:54:03,503 - BERTopic - Reduced number of topics from 638 to 121\n"
     ]
    },
    {
     "name": "stdout",
     "output_type": "stream",
     "text": [
      "Results\n",
      "===============\n",
      "Topic number: 120\n",
      "npmi: 0.20461448726682954\n",
      "diversity: 0.49916666666666665\n",
      " \n"
     ]
    },
    {
     "name": "stderr",
     "output_type": "stream",
     "text": [
      "2022-08-07 07:58:39,277 - BERTopic - Reduced dimensionality with UMAP\n",
      "2022-08-07 08:43:42,062 - BERTopic - Clustered UMAP embeddings with HDBSCAN\n",
      "2022-08-07 08:45:13,467 - BERTopic - Reduced number of topics from 678 to 131\n"
     ]
    },
    {
     "name": "stdout",
     "output_type": "stream",
     "text": [
      "Results\n",
      "===============\n",
      "Topic number: 130\n",
      "npmi: 0.20753212562399947\n",
      "diversity: 0.4930769230769231\n",
      " \n"
     ]
    },
    {
     "name": "stderr",
     "output_type": "stream",
     "text": [
      "2022-08-07 08:50:05,819 - BERTopic - Reduced dimensionality with UMAP\n",
      "2022-08-07 09:33:15,724 - BERTopic - Clustered UMAP embeddings with HDBSCAN\n",
      "2022-08-07 09:34:46,187 - BERTopic - Reduced number of topics from 664 to 131\n"
     ]
    },
    {
     "name": "stdout",
     "output_type": "stream",
     "text": [
      "Results\n",
      "===============\n",
      "Topic number: 130\n",
      "npmi: 0.20227278712947117\n",
      "diversity: 0.5046153846153846\n",
      " \n"
     ]
    },
    {
     "name": "stderr",
     "output_type": "stream",
     "text": [
      "2022-08-07 09:39:36,164 - BERTopic - Reduced dimensionality with UMAP\n",
      "2022-08-07 10:21:02,595 - BERTopic - Clustered UMAP embeddings with HDBSCAN\n",
      "2022-08-07 10:22:35,073 - BERTopic - Reduced number of topics from 686 to 131\n"
     ]
    },
    {
     "name": "stdout",
     "output_type": "stream",
     "text": [
      "Results\n",
      "===============\n",
      "Topic number: 130\n",
      "npmi: 0.20607172852412908\n",
      "diversity: 0.49230769230769234\n",
      " \n"
     ]
    },
    {
     "name": "stderr",
     "output_type": "stream",
     "text": [
      "2022-08-07 10:27:27,979 - BERTopic - Reduced dimensionality with UMAP\n",
      "2022-08-07 11:05:55,815 - BERTopic - Clustered UMAP embeddings with HDBSCAN\n",
      "2022-08-07 11:07:26,734 - BERTopic - Reduced number of topics from 666 to 141\n"
     ]
    },
    {
     "name": "stdout",
     "output_type": "stream",
     "text": [
      "Results\n",
      "===============\n",
      "Topic number: 140\n",
      "npmi: 0.2055334967795198\n",
      "diversity: 0.49142857142857144\n",
      " \n"
     ]
    },
    {
     "name": "stderr",
     "output_type": "stream",
     "text": [
      "2022-08-07 11:12:10,757 - BERTopic - Reduced dimensionality with UMAP\n",
      "2022-08-07 11:51:11,878 - BERTopic - Clustered UMAP embeddings with HDBSCAN\n",
      "2022-08-07 11:52:42,053 - BERTopic - Reduced number of topics from 664 to 141\n"
     ]
    },
    {
     "name": "stdout",
     "output_type": "stream",
     "text": [
      "Results\n",
      "===============\n",
      "Topic number: 140\n",
      "npmi: 0.20240980316526178\n",
      "diversity: 0.485\n",
      " \n"
     ]
    },
    {
     "name": "stderr",
     "output_type": "stream",
     "text": [
      "2022-08-07 11:57:23,404 - BERTopic - Reduced dimensionality with UMAP\n",
      "2022-08-07 12:41:56,393 - BERTopic - Clustered UMAP embeddings with HDBSCAN\n",
      "2022-08-07 12:43:27,814 - BERTopic - Reduced number of topics from 674 to 141\n"
     ]
    },
    {
     "name": "stdout",
     "output_type": "stream",
     "text": [
      "Results\n",
      "===============\n",
      "Topic number: 140\n",
      "npmi: 0.20596625064352314\n",
      "diversity: 0.4735714285714286\n",
      " \n"
     ]
    },
    {
     "name": "stderr",
     "output_type": "stream",
     "text": [
      "2022-08-07 12:48:18,092 - BERTopic - Reduced dimensionality with UMAP\n",
      "2022-08-07 13:27:33,463 - BERTopic - Clustered UMAP embeddings with HDBSCAN\n",
      "2022-08-07 13:29:04,873 - BERTopic - Reduced number of topics from 674 to 151\n"
     ]
    },
    {
     "name": "stdout",
     "output_type": "stream",
     "text": [
      "Results\n",
      "===============\n",
      "Topic number: 150\n",
      "npmi: 0.20015030676603895\n",
      "diversity: 0.486\n",
      " \n"
     ]
    },
    {
     "name": "stderr",
     "output_type": "stream",
     "text": [
      "2022-08-07 13:33:51,503 - BERTopic - Reduced dimensionality with UMAP\n",
      "2022-08-07 14:19:50,019 - BERTopic - Clustered UMAP embeddings with HDBSCAN\n",
      "2022-08-07 14:21:21,938 - BERTopic - Reduced number of topics from 689 to 151\n"
     ]
    },
    {
     "name": "stdout",
     "output_type": "stream",
     "text": [
      "Results\n",
      "===============\n",
      "Topic number: 150\n",
      "npmi: 0.20420064454475406\n",
      "diversity: 0.4786666666666667\n",
      " \n"
     ]
    },
    {
     "name": "stderr",
     "output_type": "stream",
     "text": [
      "2022-08-07 14:25:52,920 - BERTopic - Reduced dimensionality with UMAP\n",
      "2022-08-07 15:05:24,188 - BERTopic - Clustered UMAP embeddings with HDBSCAN\n",
      "2022-08-07 15:06:57,199 - BERTopic - Reduced number of topics from 684 to 151\n"
     ]
    },
    {
     "name": "stdout",
     "output_type": "stream",
     "text": [
      "Results\n",
      "===============\n",
      "Topic number: 150\n",
      "npmi: 0.20676659511178433\n",
      "diversity: 0.47333333333333333\n",
      " \n"
     ]
    },
    {
     "name": "stderr",
     "output_type": "stream",
     "text": [
      "2022-08-07 15:11:40,469 - BERTopic - Reduced dimensionality with UMAP\n",
      "2022-08-07 15:53:51,246 - BERTopic - Clustered UMAP embeddings with HDBSCAN\n",
      "2022-08-07 15:55:25,077 - BERTopic - Reduced number of topics from 685 to 161\n"
     ]
    },
    {
     "name": "stdout",
     "output_type": "stream",
     "text": [
      "Results\n",
      "===============\n",
      "Topic number: 160\n",
      "npmi: 0.19983026415653704\n",
      "diversity: 0.484375\n",
      " \n"
     ]
    },
    {
     "name": "stderr",
     "output_type": "stream",
     "text": [
      "2022-08-07 16:00:14,402 - BERTopic - Reduced dimensionality with UMAP\n",
      "2022-08-07 16:39:05,875 - BERTopic - Clustered UMAP embeddings with HDBSCAN\n",
      "2022-08-07 16:40:36,763 - BERTopic - Reduced number of topics from 646 to 161\n"
     ]
    },
    {
     "name": "stdout",
     "output_type": "stream",
     "text": [
      "Results\n",
      "===============\n",
      "Topic number: 160\n",
      "npmi: 0.20441876003628937\n",
      "diversity: 0.479375\n",
      " \n"
     ]
    },
    {
     "name": "stderr",
     "output_type": "stream",
     "text": [
      "2022-08-07 16:45:24,669 - BERTopic - Reduced dimensionality with UMAP\n",
      "2022-08-07 17:32:57,746 - BERTopic - Clustered UMAP embeddings with HDBSCAN\n",
      "2022-08-07 17:34:49,870 - BERTopic - Reduced number of topics from 668 to 161\n"
     ]
    },
    {
     "name": "stdout",
     "output_type": "stream",
     "text": [
      "Results\n",
      "===============\n",
      "Topic number: 160\n",
      "npmi: 0.19737766909687962\n",
      "diversity: 0.476875\n",
      " \n"
     ]
    },
    {
     "name": "stderr",
     "output_type": "stream",
     "text": [
      "2022-08-07 17:40:08,675 - BERTopic - Reduced dimensionality with UMAP\n",
      "2022-08-07 18:27:17,430 - BERTopic - Clustered UMAP embeddings with HDBSCAN\n",
      "2022-08-07 18:28:58,185 - BERTopic - Reduced number of topics from 651 to 171\n"
     ]
    },
    {
     "name": "stdout",
     "output_type": "stream",
     "text": [
      "Results\n",
      "===============\n",
      "Topic number: 170\n",
      "npmi: 0.20319732151792766\n",
      "diversity: 0.4623529411764706\n",
      " \n"
     ]
    },
    {
     "name": "stderr",
     "output_type": "stream",
     "text": [
      "2022-08-07 18:34:05,612 - BERTopic - Reduced dimensionality with UMAP\n",
      "2022-08-07 19:19:14,530 - BERTopic - Clustered UMAP embeddings with HDBSCAN\n",
      "2022-08-07 19:20:56,308 - BERTopic - Reduced number of topics from 682 to 171\n"
     ]
    },
    {
     "name": "stdout",
     "output_type": "stream",
     "text": [
      "Results\n",
      "===============\n",
      "Topic number: 170\n",
      "npmi: 0.20702030061696933\n",
      "diversity: 0.46294117647058824\n",
      " \n"
     ]
    },
    {
     "name": "stderr",
     "output_type": "stream",
     "text": [
      "2022-08-07 19:25:52,584 - BERTopic - Reduced dimensionality with UMAP\n",
      "2022-08-07 20:09:56,506 - BERTopic - Clustered UMAP embeddings with HDBSCAN\n",
      "2022-08-07 20:11:33,902 - BERTopic - Reduced number of topics from 654 to 171\n"
     ]
    },
    {
     "name": "stdout",
     "output_type": "stream",
     "text": [
      "Results\n",
      "===============\n",
      "Topic number: 170\n",
      "npmi: 0.2036095092545616\n",
      "diversity: 0.46588235294117647\n",
      " \n"
     ]
    },
    {
     "name": "stderr",
     "output_type": "stream",
     "text": [
      "2022-08-07 20:16:22,177 - BERTopic - Reduced dimensionality with UMAP\n",
      "2022-08-07 21:08:43,241 - BERTopic - Clustered UMAP embeddings with HDBSCAN\n",
      "2022-08-07 21:10:37,565 - BERTopic - Reduced number of topics from 668 to 181\n"
     ]
    },
    {
     "name": "stdout",
     "output_type": "stream",
     "text": [
      "Results\n",
      "===============\n",
      "Topic number: 180\n",
      "npmi: 0.2032535002625744\n",
      "diversity: 0.46444444444444444\n",
      " \n"
     ]
    },
    {
     "name": "stderr",
     "output_type": "stream",
     "text": [
      "2022-08-07 21:16:58,819 - BERTopic - Reduced dimensionality with UMAP\n",
      "2022-08-07 22:05:10,644 - BERTopic - Clustered UMAP embeddings with HDBSCAN\n",
      "2022-08-07 22:06:58,178 - BERTopic - Reduced number of topics from 673 to 181\n"
     ]
    },
    {
     "name": "stdout",
     "output_type": "stream",
     "text": [
      "Results\n",
      "===============\n",
      "Topic number: 180\n",
      "npmi: 0.20394351254824142\n",
      "diversity: 0.45055555555555554\n",
      " \n"
     ]
    },
    {
     "name": "stderr",
     "output_type": "stream",
     "text": [
      "2022-08-07 22:12:27,857 - BERTopic - Reduced dimensionality with UMAP\n",
      "2022-08-07 23:30:27,410 - BERTopic - Clustered UMAP embeddings with HDBSCAN\n",
      "2022-08-07 23:32:08,252 - BERTopic - Reduced number of topics from 663 to 181\n"
     ]
    },
    {
     "name": "stdout",
     "output_type": "stream",
     "text": [
      "Results\n",
      "===============\n",
      "Topic number: 180\n",
      "npmi: 0.20387461199088933\n",
      "diversity: 0.44277777777777777\n",
      " \n"
     ]
    },
    {
     "name": "stderr",
     "output_type": "stream",
     "text": [
      "2022-08-07 23:37:19,458 - BERTopic - Reduced dimensionality with UMAP\n",
      "2022-08-08 00:22:11,008 - BERTopic - Clustered UMAP embeddings with HDBSCAN\n",
      "2022-08-08 00:24:05,188 - BERTopic - Reduced number of topics from 659 to 191\n"
     ]
    },
    {
     "name": "stdout",
     "output_type": "stream",
     "text": [
      "Results\n",
      "===============\n",
      "Topic number: 190\n",
      "npmi: 0.20113459504891437\n",
      "diversity: 0.45789473684210524\n",
      " \n"
     ]
    },
    {
     "name": "stderr",
     "output_type": "stream",
     "text": [
      "2022-08-08 00:29:55,933 - BERTopic - Reduced dimensionality with UMAP\n",
      "2022-08-08 01:19:09,716 - BERTopic - Clustered UMAP embeddings with HDBSCAN\n",
      "2022-08-08 01:21:03,621 - BERTopic - Reduced number of topics from 677 to 191\n"
     ]
    },
    {
     "name": "stdout",
     "output_type": "stream",
     "text": [
      "Results\n",
      "===============\n",
      "Topic number: 190\n",
      "npmi: 0.20179609569692414\n",
      "diversity: 0.45\n",
      " \n"
     ]
    },
    {
     "name": "stderr",
     "output_type": "stream",
     "text": [
      "2022-08-08 01:26:39,561 - BERTopic - Reduced dimensionality with UMAP\n",
      "2022-08-08 02:13:34,252 - BERTopic - Clustered UMAP embeddings with HDBSCAN\n",
      "2022-08-08 02:15:26,122 - BERTopic - Reduced number of topics from 663 to 191\n"
     ]
    },
    {
     "name": "stdout",
     "output_type": "stream",
     "text": [
      "Results\n",
      "===============\n",
      "Topic number: 190\n",
      "npmi: 0.2013369640457261\n",
      "diversity: 0.45842105263157895\n",
      " \n"
     ]
    }
   ],
   "source": [
    "npmi = []\n",
    "diversity = []\n",
    "\n",
    "NPMI = []\n",
    "DIVERSITY = []\n",
    "\n",
    "for n in range(20,200,10):\n",
    "    for i in range(3):\n",
    "        result = evaluation(N_topics = n, CORPUS = CORPUS, all_words = all_words,\n",
    "                   TOPK = TOPK , DATA = DATA, model = model , embeddings = embeddings)\n",
    "        npmi.append(result[\"npmi\"])\n",
    "        diversity.append(result[\"diversity\"])\n",
    "    NPMI.append(np.mean(npmi))\n",
    "    DIVERSITY.append(np.mean(diversity))\n",
    "    npmi = []\n",
    "    diversity = []"
   ]
  },
  {
   "cell_type": "code",
   "execution_count": 17,
   "id": "ab799d3b",
   "metadata": {},
   "outputs": [
    {
     "data": {
      "text/plain": [
       "0.2111838414226531"
      ]
     },
     "execution_count": 17,
     "metadata": {},
     "output_type": "execute_result"
    }
   ],
   "source": [
    "max(NPMI)"
   ]
  },
  {
   "cell_type": "markdown",
   "id": "169a4c59",
   "metadata": {},
   "source": [
    "#### Ploting"
   ]
  },
  {
   "cell_type": "code",
   "execution_count": 9,
   "id": "8557f6f1",
   "metadata": {},
   "outputs": [
    {
     "data": {
      "image/png": "[encoded data removed]",
      "text/plain": [
       "<Figure size 432x288 with 1 Axes>"
      ]
     },
     "metadata": {
      "needs_background": "light"
     },
     "output_type": "display_data"
    }
   ],
   "source": [
    "# Show graph\n",
    "x = range(20,200,10)\n",
    "plt.plot(x, NPMI)\n",
    "plt.grid()\n",
    "plt.xlabel(\"Num Topics\")\n",
    "plt.ylabel(\"Coherence score\")\n",
    "plt.legend((\"coherence_values\"), loc='best')\n",
    "plt.show()"
   ]
  },
  {
   "cell_type": "markdown",
   "id": "1a6f8509",
   "metadata": {},
   "source": [
    "#### Iteration 2 (Percise Investigation)"
   ]
  },
  {
   "cell_type": "code",
   "execution_count": 31,
   "id": "85773025",
   "metadata": {
    "collapsed": true
   },
   "outputs": [
    {
     "name": "stderr",
     "output_type": "stream",
     "text": [
      "2022-08-08 23:07:49,327 - BERTopic - Reduced dimensionality with UMAP\n",
      "2022-08-08 23:53:31,179 - BERTopic - Clustered UMAP embeddings with HDBSCAN\n",
      "2022-08-08 23:55:02,342 - BERTopic - Reduced number of topics from 666 to 41\n"
     ]
    },
    {
     "name": "stdout",
     "output_type": "stream",
     "text": [
      "Results\n",
      "===============\n",
      "Topic number: 40\n",
      "npmi: 0.21979253153875908\n",
      "diversity: 0.63\n",
      " \n"
     ]
    },
    {
     "name": "stderr",
     "output_type": "stream",
     "text": [
      "2022-08-08 23:59:45,988 - BERTopic - Reduced dimensionality with UMAP\n",
      "2022-08-09 00:42:47,481 - BERTopic - Clustered UMAP embeddings with HDBSCAN\n",
      "2022-08-09 00:44:13,576 - BERTopic - Reduced number of topics from 649 to 41\n"
     ]
    },
    {
     "name": "stdout",
     "output_type": "stream",
     "text": [
      "Results\n",
      "===============\n",
      "Topic number: 40\n",
      "npmi: 0.20964642082077756\n",
      "diversity: 0.6225\n",
      " \n"
     ]
    },
    {
     "name": "stderr",
     "output_type": "stream",
     "text": [
      "2022-08-09 00:48:49,266 - BERTopic - Reduced dimensionality with UMAP\n",
      "2022-08-09 01:31:56,058 - BERTopic - Clustered UMAP embeddings with HDBSCAN\n",
      "2022-08-09 01:33:25,601 - BERTopic - Reduced number of topics from 665 to 41\n"
     ]
    },
    {
     "name": "stdout",
     "output_type": "stream",
     "text": [
      "Results\n",
      "===============\n",
      "Topic number: 40\n",
      "npmi: 0.2136578925615419\n",
      "diversity: 0.59\n",
      " \n"
     ]
    },
    {
     "name": "stderr",
     "output_type": "stream",
     "text": [
      "2022-08-09 01:38:12,885 - BERTopic - Reduced dimensionality with UMAP\n",
      "2022-08-09 02:21:31,039 - BERTopic - Clustered UMAP embeddings with HDBSCAN\n",
      "2022-08-09 02:23:05,343 - BERTopic - Reduced number of topics from 672 to 42\n"
     ]
    },
    {
     "name": "stdout",
     "output_type": "stream",
     "text": [
      "Results\n",
      "===============\n",
      "Topic number: 41\n",
      "npmi: 0.21574194769522476\n",
      "diversity: 0.6195121951219512\n",
      " \n"
     ]
    },
    {
     "name": "stderr",
     "output_type": "stream",
     "text": [
      "2022-08-09 02:27:40,572 - BERTopic - Reduced dimensionality with UMAP\n",
      "2022-08-09 03:13:24,385 - BERTopic - Clustered UMAP embeddings with HDBSCAN\n",
      "2022-08-09 03:14:54,667 - BERTopic - Reduced number of topics from 668 to 42\n"
     ]
    },
    {
     "name": "stdout",
     "output_type": "stream",
     "text": [
      "Results\n",
      "===============\n",
      "Topic number: 41\n",
      "npmi: 0.21673988790265203\n",
      "diversity: 0.624390243902439\n",
      " \n"
     ]
    },
    {
     "name": "stderr",
     "output_type": "stream",
     "text": [
      "2022-08-09 03:19:32,082 - BERTopic - Reduced dimensionality with UMAP\n",
      "2022-08-09 04:03:12,954 - BERTopic - Clustered UMAP embeddings with HDBSCAN\n",
      "2022-08-09 04:04:46,223 - BERTopic - Reduced number of topics from 686 to 42\n"
     ]
    },
    {
     "name": "stdout",
     "output_type": "stream",
     "text": [
      "Results\n",
      "===============\n",
      "Topic number: 41\n",
      "npmi: 0.21103584352674015\n",
      "diversity: 0.624390243902439\n",
      " \n"
     ]
    },
    {
     "name": "stderr",
     "output_type": "stream",
     "text": [
      "2022-08-09 04:09:23,355 - BERTopic - Reduced dimensionality with UMAP\n",
      "2022-08-09 04:55:28,711 - BERTopic - Clustered UMAP embeddings with HDBSCAN\n",
      "2022-08-09 04:57:00,137 - BERTopic - Reduced number of topics from 671 to 43\n"
     ]
    },
    {
     "name": "stdout",
     "output_type": "stream",
     "text": [
      "Results\n",
      "===============\n",
      "Topic number: 42\n",
      "npmi: 0.22006920122219328\n",
      "diversity: 0.611904761904762\n",
      " \n"
     ]
    },
    {
     "name": "stderr",
     "output_type": "stream",
     "text": [
      "2022-08-09 05:01:51,604 - BERTopic - Reduced dimensionality with UMAP\n",
      "2022-08-09 05:49:38,913 - BERTopic - Clustered UMAP embeddings with HDBSCAN\n",
      "2022-08-09 05:51:14,579 - BERTopic - Reduced number of topics from 693 to 43\n"
     ]
    },
    {
     "name": "stdout",
     "output_type": "stream",
     "text": [
      "Results\n",
      "===============\n",
      "Topic number: 42\n",
      "npmi: 0.22153800205940907\n",
      "diversity: 0.6142857142857143\n",
      " \n"
     ]
    },
    {
     "name": "stderr",
     "output_type": "stream",
     "text": [
      "2022-08-09 05:55:57,611 - BERTopic - Reduced dimensionality with UMAP\n",
      "2022-08-09 06:40:56,464 - BERTopic - Clustered UMAP embeddings with HDBSCAN\n",
      "2022-08-09 06:42:29,184 - BERTopic - Reduced number of topics from 684 to 43\n"
     ]
    },
    {
     "name": "stdout",
     "output_type": "stream",
     "text": [
      "Results\n",
      "===============\n",
      "Topic number: 42\n",
      "npmi: 0.20832434878416117\n",
      "diversity: 0.6238095238095238\n",
      " \n"
     ]
    },
    {
     "name": "stderr",
     "output_type": "stream",
     "text": [
      "2022-08-09 06:47:44,746 - BERTopic - Reduced dimensionality with UMAP\n",
      "2022-08-09 07:36:02,914 - BERTopic - Clustered UMAP embeddings with HDBSCAN\n",
      "2022-08-09 07:37:53,206 - BERTopic - Reduced number of topics from 662 to 44\n"
     ]
    },
    {
     "name": "stdout",
     "output_type": "stream",
     "text": [
      "Results\n",
      "===============\n",
      "Topic number: 43\n",
      "npmi: 0.20380465145935014\n",
      "diversity: 0.6139534883720931\n",
      " \n"
     ]
    },
    {
     "name": "stderr",
     "output_type": "stream",
     "text": [
      "2022-08-09 07:43:29,181 - BERTopic - Reduced dimensionality with UMAP\n",
      "2022-08-09 08:42:42,282 - BERTopic - Clustered UMAP embeddings with HDBSCAN\n",
      "2022-08-09 08:44:13,876 - BERTopic - Reduced number of topics from 696 to 44\n"
     ]
    },
    {
     "name": "stdout",
     "output_type": "stream",
     "text": [
      "Results\n",
      "===============\n",
      "Topic number: 43\n",
      "npmi: 0.2129328291684921\n",
      "diversity: 0.6255813953488372\n",
      " \n"
     ]
    },
    {
     "name": "stderr",
     "output_type": "stream",
     "text": [
      "2022-08-09 08:48:51,530 - BERTopic - Reduced dimensionality with UMAP\n",
      "2022-08-09 09:35:10,242 - BERTopic - Clustered UMAP embeddings with HDBSCAN\n",
      "2022-08-09 09:36:38,468 - BERTopic - Reduced number of topics from 661 to 44\n"
     ]
    },
    {
     "name": "stdout",
     "output_type": "stream",
     "text": [
      "Results\n",
      "===============\n",
      "Topic number: 43\n",
      "npmi: 0.20694065541034998\n",
      "diversity: 0.627906976744186\n",
      " \n"
     ]
    },
    {
     "name": "stderr",
     "output_type": "stream",
     "text": [
      "2022-08-09 09:41:47,070 - BERTopic - Reduced dimensionality with UMAP\n",
      "2022-08-09 10:34:39,646 - BERTopic - Clustered UMAP embeddings with HDBSCAN\n",
      "2022-08-09 10:36:21,164 - BERTopic - Reduced number of topics from 674 to 45\n"
     ]
    },
    {
     "name": "stdout",
     "output_type": "stream",
     "text": [
      "Results\n",
      "===============\n",
      "Topic number: 44\n",
      "npmi: 0.21275524875396765\n",
      "diversity: 0.634090909090909\n",
      " \n"
     ]
    },
    {
     "name": "stderr",
     "output_type": "stream",
     "text": [
      "2022-08-09 10:42:02,191 - BERTopic - Reduced dimensionality with UMAP\n",
      "2022-08-09 11:30:23,240 - BERTopic - Clustered UMAP embeddings with HDBSCAN\n",
      "2022-08-09 11:32:14,767 - BERTopic - Reduced number of topics from 668 to 45\n"
     ]
    },
    {
     "name": "stdout",
     "output_type": "stream",
     "text": [
      "Results\n",
      "===============\n",
      "Topic number: 44\n",
      "npmi: 0.20188139912756506\n",
      "diversity: 0.634090909090909\n",
      " \n"
     ]
    },
    {
     "name": "stderr",
     "output_type": "stream",
     "text": [
      "2022-08-09 11:37:46,193 - BERTopic - Reduced dimensionality with UMAP\n",
      "2022-08-09 12:30:35,662 - BERTopic - Clustered UMAP embeddings with HDBSCAN\n",
      "2022-08-09 12:32:30,121 - BERTopic - Reduced number of topics from 676 to 45\n"
     ]
    },
    {
     "name": "stdout",
     "output_type": "stream",
     "text": [
      "Results\n",
      "===============\n",
      "Topic number: 44\n",
      "npmi: 0.20559422555827309\n",
      "diversity: 0.615909090909091\n",
      " \n"
     ]
    },
    {
     "name": "stderr",
     "output_type": "stream",
     "text": [
      "2022-08-09 12:38:18,420 - BERTopic - Reduced dimensionality with UMAP\n",
      "2022-08-09 13:39:39,514 - BERTopic - Clustered UMAP embeddings with HDBSCAN\n",
      "2022-08-09 13:41:48,947 - BERTopic - Reduced number of topics from 692 to 46\n"
     ]
    },
    {
     "name": "stdout",
     "output_type": "stream",
     "text": [
      "Results\n",
      "===============\n",
      "Topic number: 45\n",
      "npmi: 0.20013561174193906\n",
      "diversity: 0.6333333333333333\n",
      " \n"
     ]
    },
    {
     "name": "stderr",
     "output_type": "stream",
     "text": [
      "2022-08-09 13:48:26,856 - BERTopic - Reduced dimensionality with UMAP\n",
      "2022-08-09 14:45:19,076 - BERTopic - Clustered UMAP embeddings with HDBSCAN\n",
      "2022-08-09 14:47:17,411 - BERTopic - Reduced number of topics from 680 to 46\n"
     ]
    },
    {
     "name": "stdout",
     "output_type": "stream",
     "text": [
      "Results\n",
      "===============\n",
      "Topic number: 45\n",
      "npmi: 0.21814059598745214\n",
      "diversity: 0.6133333333333333\n",
      " \n"
     ]
    },
    {
     "name": "stderr",
     "output_type": "stream",
     "text": [
      "2022-08-09 14:53:17,536 - BERTopic - Reduced dimensionality with UMAP\n",
      "2022-08-09 15:50:01,901 - BERTopic - Clustered UMAP embeddings with HDBSCAN\n",
      "2022-08-09 15:51:46,915 - BERTopic - Reduced number of topics from 687 to 46\n"
     ]
    },
    {
     "name": "stdout",
     "output_type": "stream",
     "text": [
      "Results\n",
      "===============\n",
      "Topic number: 45\n",
      "npmi: 0.20724653138001956\n",
      "diversity: 0.6111111111111112\n",
      " \n"
     ]
    },
    {
     "name": "stderr",
     "output_type": "stream",
     "text": [
      "2022-08-09 15:57:09,216 - BERTopic - Reduced dimensionality with UMAP\n",
      "2022-08-09 16:45:55,732 - BERTopic - Clustered UMAP embeddings with HDBSCAN\n",
      "2022-08-09 16:47:35,852 - BERTopic - Reduced number of topics from 665 to 47\n"
     ]
    },
    {
     "name": "stdout",
     "output_type": "stream",
     "text": [
      "Results\n",
      "===============\n",
      "Topic number: 46\n",
      "npmi: 0.2257841606861572\n",
      "diversity: 0.591304347826087\n",
      " \n"
     ]
    },
    {
     "name": "stderr",
     "output_type": "stream",
     "text": [
      "2022-08-09 16:52:48,138 - BERTopic - Reduced dimensionality with UMAP\n",
      "2022-08-09 17:45:05,783 - BERTopic - Clustered UMAP embeddings with HDBSCAN\n",
      "2022-08-09 17:46:47,022 - BERTopic - Reduced number of topics from 675 to 47\n"
     ]
    },
    {
     "name": "stdout",
     "output_type": "stream",
     "text": [
      "Results\n",
      "===============\n",
      "Topic number: 46\n",
      "npmi: 0.2071975204065333\n",
      "diversity: 0.6391304347826087\n",
      " \n"
     ]
    },
    {
     "name": "stderr",
     "output_type": "stream",
     "text": [
      "2022-08-09 17:51:49,663 - BERTopic - Reduced dimensionality with UMAP\n",
      "2022-08-09 18:38:48,025 - BERTopic - Clustered UMAP embeddings with HDBSCAN\n",
      "2022-08-09 18:40:26,417 - BERTopic - Reduced number of topics from 657 to 47\n"
     ]
    },
    {
     "name": "stdout",
     "output_type": "stream",
     "text": [
      "Results\n",
      "===============\n",
      "Topic number: 46\n",
      "npmi: 0.21660765038372481\n",
      "diversity: 0.5826086956521739\n",
      " \n"
     ]
    },
    {
     "name": "stderr",
     "output_type": "stream",
     "text": [
      "2022-08-09 18:45:39,644 - BERTopic - Reduced dimensionality with UMAP\n",
      "2022-08-09 19:36:05,532 - BERTopic - Clustered UMAP embeddings with HDBSCAN\n",
      "2022-08-09 19:37:45,161 - BERTopic - Reduced number of topics from 672 to 48\n"
     ]
    },
    {
     "name": "stdout",
     "output_type": "stream",
     "text": [
      "Results\n",
      "===============\n",
      "Topic number: 47\n",
      "npmi: 0.21084324623074846\n",
      "diversity: 0.6\n",
      " \n"
     ]
    },
    {
     "name": "stderr",
     "output_type": "stream",
     "text": [
      "2022-08-09 19:42:52,085 - BERTopic - Reduced dimensionality with UMAP\n",
      "2022-08-09 20:33:30,759 - BERTopic - Clustered UMAP embeddings with HDBSCAN\n",
      "2022-08-09 20:35:09,192 - BERTopic - Reduced number of topics from 669 to 48\n"
     ]
    },
    {
     "name": "stdout",
     "output_type": "stream",
     "text": [
      "Results\n",
      "===============\n",
      "Topic number: 47\n",
      "npmi: 0.2101892827355485\n",
      "diversity: 0.6127659574468085\n",
      " \n"
     ]
    },
    {
     "name": "stderr",
     "output_type": "stream",
     "text": [
      "2022-08-09 20:40:17,493 - BERTopic - Reduced dimensionality with UMAP\n",
      "2022-08-09 21:33:23,230 - BERTopic - Clustered UMAP embeddings with HDBSCAN\n",
      "2022-08-09 21:34:55,182 - BERTopic - Reduced number of topics from 687 to 48\n"
     ]
    },
    {
     "name": "stdout",
     "output_type": "stream",
     "text": [
      "Results\n",
      "===============\n",
      "Topic number: 47\n",
      "npmi: 0.2102574505797024\n",
      "diversity: 0.6148936170212767\n",
      " \n"
     ]
    },
    {
     "name": "stderr",
     "output_type": "stream",
     "text": [
      "2022-08-09 21:39:50,037 - BERTopic - Reduced dimensionality with UMAP\n",
      "2022-08-09 22:28:52,673 - BERTopic - Clustered UMAP embeddings with HDBSCAN\n",
      "2022-08-09 22:30:25,606 - BERTopic - Reduced number of topics from 678 to 49\n"
     ]
    },
    {
     "name": "stdout",
     "output_type": "stream",
     "text": [
      "Results\n",
      "===============\n",
      "Topic number: 48\n",
      "npmi: 0.20915428847041295\n",
      "diversity: 0.60625\n",
      " \n"
     ]
    },
    {
     "name": "stderr",
     "output_type": "stream",
     "text": [
      "2022-08-09 22:35:16,560 - BERTopic - Reduced dimensionality with UMAP\n",
      "2022-08-09 23:18:29,746 - BERTopic - Clustered UMAP embeddings with HDBSCAN\n",
      "2022-08-09 23:19:58,136 - BERTopic - Reduced number of topics from 662 to 49\n"
     ]
    },
    {
     "name": "stdout",
     "output_type": "stream",
     "text": [
      "Results\n",
      "===============\n",
      "Topic number: 48\n",
      "npmi: 0.2132520845777893\n",
      "diversity: 0.5979166666666667\n",
      " \n"
     ]
    },
    {
     "name": "stderr",
     "output_type": "stream",
     "text": [
      "2022-08-09 23:24:49,097 - BERTopic - Reduced dimensionality with UMAP\n",
      "2022-08-10 00:08:19,779 - BERTopic - Clustered UMAP embeddings with HDBSCAN\n",
      "2022-08-10 00:09:50,251 - BERTopic - Reduced number of topics from 678 to 49\n"
     ]
    },
    {
     "name": "stdout",
     "output_type": "stream",
     "text": [
      "Results\n",
      "===============\n",
      "Topic number: 48\n",
      "npmi: 0.2083701164979995\n",
      "diversity: 0.6166666666666667\n",
      " \n"
     ]
    },
    {
     "name": "stderr",
     "output_type": "stream",
     "text": [
      "2022-08-10 00:14:41,401 - BERTopic - Reduced dimensionality with UMAP\n",
      "2022-08-10 00:57:56,926 - BERTopic - Clustered UMAP embeddings with HDBSCAN\n",
      "2022-08-10 00:59:24,215 - BERTopic - Reduced number of topics from 650 to 50\n"
     ]
    },
    {
     "name": "stdout",
     "output_type": "stream",
     "text": [
      "Results\n",
      "===============\n",
      "Topic number: 49\n",
      "npmi: 0.2095281202313322\n",
      "diversity: 0.6142857142857143\n",
      " \n"
     ]
    },
    {
     "name": "stderr",
     "output_type": "stream",
     "text": [
      "2022-08-10 01:04:01,935 - BERTopic - Reduced dimensionality with UMAP\n",
      "2022-08-10 01:50:51,568 - BERTopic - Clustered UMAP embeddings with HDBSCAN\n",
      "2022-08-10 01:52:22,321 - BERTopic - Reduced number of topics from 679 to 50\n"
     ]
    },
    {
     "name": "stdout",
     "output_type": "stream",
     "text": [
      "Results\n",
      "===============\n",
      "Topic number: 49\n",
      "npmi: 0.21650547713786816\n",
      "diversity: 0.6265306122448979\n",
      " \n"
     ]
    },
    {
     "name": "stderr",
     "output_type": "stream",
     "text": [
      "2022-08-10 01:57:07,606 - BERTopic - Reduced dimensionality with UMAP\n",
      "2022-08-10 02:40:11,893 - BERTopic - Clustered UMAP embeddings with HDBSCAN\n",
      "2022-08-10 02:41:41,908 - BERTopic - Reduced number of topics from 665 to 50\n"
     ]
    },
    {
     "name": "stdout",
     "output_type": "stream",
     "text": [
      "Results\n",
      "===============\n",
      "Topic number: 49\n",
      "npmi: 0.20888221159175477\n",
      "diversity: 0.6122448979591837\n",
      " \n"
     ]
    },
    {
     "name": "stderr",
     "output_type": "stream",
     "text": [
      "2022-08-10 02:46:33,856 - BERTopic - Reduced dimensionality with UMAP\n",
      "2022-08-10 03:31:17,759 - BERTopic - Clustered UMAP embeddings with HDBSCAN\n",
      "2022-08-10 03:32:47,360 - BERTopic - Reduced number of topics from 667 to 51\n"
     ]
    },
    {
     "name": "stdout",
     "output_type": "stream",
     "text": [
      "Results\n",
      "===============\n",
      "Topic number: 50\n",
      "npmi: 0.20996595746750515\n",
      "diversity: 0.604\n",
      " \n"
     ]
    },
    {
     "name": "stderr",
     "output_type": "stream",
     "text": [
      "2022-08-10 03:37:35,496 - BERTopic - Reduced dimensionality with UMAP\n",
      "2022-08-10 04:24:01,349 - BERTopic - Clustered UMAP embeddings with HDBSCAN\n",
      "2022-08-10 04:25:33,470 - BERTopic - Reduced number of topics from 691 to 51\n"
     ]
    },
    {
     "name": "stdout",
     "output_type": "stream",
     "text": [
      "Results\n",
      "===============\n",
      "Topic number: 50\n",
      "npmi: 0.21676026039280508\n",
      "diversity: 0.6\n",
      " \n"
     ]
    },
    {
     "name": "stderr",
     "output_type": "stream",
     "text": [
      "2022-08-10 04:30:13,455 - BERTopic - Reduced dimensionality with UMAP\n",
      "2022-08-10 05:15:16,260 - BERTopic - Clustered UMAP embeddings with HDBSCAN\n",
      "2022-08-10 05:16:46,579 - BERTopic - Reduced number of topics from 677 to 51\n"
     ]
    },
    {
     "name": "stdout",
     "output_type": "stream",
     "text": [
      "Results\n",
      "===============\n",
      "Topic number: 50\n",
      "npmi: 0.20929433513884818\n",
      "diversity: 0.596\n",
      " \n"
     ]
    },
    {
     "name": "stderr",
     "output_type": "stream",
     "text": [
      "2022-08-10 05:21:35,961 - BERTopic - Reduced dimensionality with UMAP\n",
      "2022-08-10 06:07:48,201 - BERTopic - Clustered UMAP embeddings with HDBSCAN\n",
      "2022-08-10 06:09:16,603 - BERTopic - Reduced number of topics from 672 to 52\n"
     ]
    },
    {
     "name": "stdout",
     "output_type": "stream",
     "text": [
      "Results\n",
      "===============\n",
      "Topic number: 51\n",
      "npmi: 0.21093429166522445\n",
      "diversity: 0.596078431372549\n",
      " \n"
     ]
    },
    {
     "name": "stderr",
     "output_type": "stream",
     "text": [
      "2022-08-10 06:14:03,251 - BERTopic - Reduced dimensionality with UMAP\n",
      "2022-08-10 07:01:06,260 - BERTopic - Clustered UMAP embeddings with HDBSCAN\n",
      "2022-08-10 07:02:40,670 - BERTopic - Reduced number of topics from 685 to 52\n"
     ]
    },
    {
     "name": "stdout",
     "output_type": "stream",
     "text": [
      "Results\n",
      "===============\n",
      "Topic number: 51\n",
      "npmi: 0.20831928329896132\n",
      "diversity: 0.592156862745098\n",
      " \n"
     ]
    },
    {
     "name": "stderr",
     "output_type": "stream",
     "text": [
      "2022-08-10 07:07:33,891 - BERTopic - Reduced dimensionality with UMAP\n",
      "2022-08-10 07:53:19,100 - BERTopic - Clustered UMAP embeddings with HDBSCAN\n",
      "2022-08-10 07:54:50,408 - BERTopic - Reduced number of topics from 669 to 52\n"
     ]
    },
    {
     "name": "stdout",
     "output_type": "stream",
     "text": [
      "Results\n",
      "===============\n",
      "Topic number: 51\n",
      "npmi: 0.21957966390898315\n",
      "diversity: 0.6098039215686275\n",
      " \n"
     ]
    },
    {
     "name": "stderr",
     "output_type": "stream",
     "text": [
      "2022-08-10 07:59:35,666 - BERTopic - Reduced dimensionality with UMAP\n",
      "2022-08-10 08:49:57,857 - BERTopic - Clustered UMAP embeddings with HDBSCAN\n",
      "2022-08-10 08:51:35,526 - BERTopic - Reduced number of topics from 686 to 53\n"
     ]
    },
    {
     "name": "stdout",
     "output_type": "stream",
     "text": [
      "Results\n",
      "===============\n",
      "Topic number: 52\n",
      "npmi: 0.2064668126344442\n",
      "diversity: 0.6057692307692307\n",
      " \n"
     ]
    },
    {
     "name": "stderr",
     "output_type": "stream",
     "text": [
      "2022-08-10 08:57:07,788 - BERTopic - Reduced dimensionality with UMAP\n",
      "2022-08-10 09:49:30,733 - BERTopic - Clustered UMAP embeddings with HDBSCAN\n",
      "2022-08-10 09:51:09,884 - BERTopic - Reduced number of topics from 670 to 53\n"
     ]
    },
    {
     "name": "stdout",
     "output_type": "stream",
     "text": [
      "Results\n",
      "===============\n",
      "Topic number: 52\n",
      "npmi: 0.20816142152086595\n",
      "diversity: 0.5923076923076923\n",
      " \n"
     ]
    },
    {
     "name": "stderr",
     "output_type": "stream",
     "text": [
      "2022-08-10 09:57:32,469 - BERTopic - Reduced dimensionality with UMAP\n",
      "2022-08-10 10:46:16,182 - BERTopic - Clustered UMAP embeddings with HDBSCAN\n",
      "2022-08-10 10:47:58,504 - BERTopic - Reduced number of topics from 674 to 53\n"
     ]
    },
    {
     "name": "stdout",
     "output_type": "stream",
     "text": [
      "Results\n",
      "===============\n",
      "Topic number: 52\n",
      "npmi: 0.2104264886236392\n",
      "diversity: 0.5961538461538461\n",
      " \n"
     ]
    },
    {
     "name": "stderr",
     "output_type": "stream",
     "text": [
      "2022-08-10 10:53:28,489 - BERTopic - Reduced dimensionality with UMAP\n",
      "2022-08-10 11:44:30,218 - BERTopic - Clustered UMAP embeddings with HDBSCAN\n",
      "2022-08-10 11:46:06,309 - BERTopic - Reduced number of topics from 688 to 54\n"
     ]
    },
    {
     "name": "stdout",
     "output_type": "stream",
     "text": [
      "Results\n",
      "===============\n",
      "Topic number: 53\n",
      "npmi: 0.21357709956953289\n",
      "diversity: 0.6075471698113207\n",
      " \n"
     ]
    },
    {
     "name": "stderr",
     "output_type": "stream",
     "text": [
      "2022-08-10 11:51:07,441 - BERTopic - Reduced dimensionality with UMAP\n",
      "2022-08-10 12:40:19,751 - BERTopic - Clustered UMAP embeddings with HDBSCAN\n",
      "2022-08-10 12:41:58,718 - BERTopic - Reduced number of topics from 684 to 54\n"
     ]
    },
    {
     "name": "stdout",
     "output_type": "stream",
     "text": [
      "Results\n",
      "===============\n",
      "Topic number: 53\n",
      "npmi: 0.20971128980889606\n",
      "diversity: 0.5867924528301887\n",
      " \n"
     ]
    },
    {
     "name": "stderr",
     "output_type": "stream",
     "text": [
      "2022-08-10 12:47:52,664 - BERTopic - Reduced dimensionality with UMAP\n",
      "2022-08-10 13:33:45,372 - BERTopic - Clustered UMAP embeddings with HDBSCAN\n",
      "2022-08-10 13:35:16,998 - BERTopic - Reduced number of topics from 671 to 54\n"
     ]
    },
    {
     "name": "stdout",
     "output_type": "stream",
     "text": [
      "Results\n",
      "===============\n",
      "Topic number: 53\n",
      "npmi: 0.20665102804571983\n",
      "diversity: 0.5962264150943396\n",
      " \n"
     ]
    },
    {
     "name": "stderr",
     "output_type": "stream",
     "text": [
      "2022-08-10 13:40:07,837 - BERTopic - Reduced dimensionality with UMAP\n",
      "2022-08-10 14:24:00,342 - BERTopic - Clustered UMAP embeddings with HDBSCAN\n",
      "2022-08-10 14:25:37,154 - BERTopic - Reduced number of topics from 668 to 55\n"
     ]
    },
    {
     "name": "stdout",
     "output_type": "stream",
     "text": [
      "Results\n",
      "===============\n",
      "Topic number: 54\n",
      "npmi: 0.20447530777386227\n",
      "diversity: 0.6\n",
      " \n"
     ]
    },
    {
     "name": "stderr",
     "output_type": "stream",
     "text": [
      "2022-08-10 14:30:37,214 - BERTopic - Reduced dimensionality with UMAP\n",
      "2022-08-10 15:14:06,738 - BERTopic - Clustered UMAP embeddings with HDBSCAN\n",
      "2022-08-10 15:15:42,836 - BERTopic - Reduced number of topics from 673 to 55\n"
     ]
    },
    {
     "name": "stdout",
     "output_type": "stream",
     "text": [
      "Results\n",
      "===============\n",
      "Topic number: 54\n",
      "npmi: 0.20679343637193343\n",
      "diversity: 0.5833333333333334\n",
      " \n"
     ]
    },
    {
     "name": "stderr",
     "output_type": "stream",
     "text": [
      "2022-08-10 15:20:41,471 - BERTopic - Reduced dimensionality with UMAP\n",
      "2022-08-10 16:04:44,662 - BERTopic - Clustered UMAP embeddings with HDBSCAN\n",
      "2022-08-10 16:06:18,807 - BERTopic - Reduced number of topics from 676 to 55\n"
     ]
    },
    {
     "name": "stdout",
     "output_type": "stream",
     "text": [
      "Results\n",
      "===============\n",
      "Topic number: 54\n",
      "npmi: 0.20790833695268363\n",
      "diversity: 0.6037037037037037\n",
      " \n"
     ]
    },
    {
     "name": "stderr",
     "output_type": "stream",
     "text": [
      "2022-08-10 16:11:20,920 - BERTopic - Reduced dimensionality with UMAP\n",
      "2022-08-10 16:54:22,606 - BERTopic - Clustered UMAP embeddings with HDBSCAN\n",
      "2022-08-10 16:56:02,283 - BERTopic - Reduced number of topics from 673 to 56\n"
     ]
    },
    {
     "name": "stdout",
     "output_type": "stream",
     "text": [
      "Results\n",
      "===============\n",
      "Topic number: 55\n",
      "npmi: 0.21180525046905818\n",
      "diversity: 0.6090909090909091\n",
      " \n"
     ]
    },
    {
     "name": "stderr",
     "output_type": "stream",
     "text": [
      "2022-08-10 17:00:51,203 - BERTopic - Reduced dimensionality with UMAP\n",
      "2022-08-10 17:43:15,799 - BERTopic - Clustered UMAP embeddings with HDBSCAN\n",
      "2022-08-10 17:44:46,808 - BERTopic - Reduced number of topics from 671 to 56\n"
     ]
    },
    {
     "name": "stdout",
     "output_type": "stream",
     "text": [
      "Results\n",
      "===============\n",
      "Topic number: 55\n",
      "npmi: 0.21719854063414862\n",
      "diversity: 0.5836363636363636\n",
      " \n"
     ]
    },
    {
     "name": "stderr",
     "output_type": "stream",
     "text": [
      "2022-08-10 17:49:46,653 - BERTopic - Reduced dimensionality with UMAP\n",
      "2022-08-10 18:31:01,341 - BERTopic - Clustered UMAP embeddings with HDBSCAN\n",
      "2022-08-10 18:32:28,919 - BERTopic - Reduced number of topics from 669 to 56\n"
     ]
    },
    {
     "name": "stdout",
     "output_type": "stream",
     "text": [
      "Results\n",
      "===============\n",
      "Topic number: 55\n",
      "npmi: 0.19891229929610513\n",
      "diversity: 0.6054545454545455\n",
      " \n"
     ]
    },
    {
     "name": "stderr",
     "output_type": "stream",
     "text": [
      "2022-08-10 18:37:22,492 - BERTopic - Reduced dimensionality with UMAP\n",
      "2022-08-10 19:19:41,326 - BERTopic - Clustered UMAP embeddings with HDBSCAN\n",
      "2022-08-10 19:21:12,744 - BERTopic - Reduced number of topics from 687 to 57\n"
     ]
    },
    {
     "name": "stdout",
     "output_type": "stream",
     "text": [
      "Results\n",
      "===============\n",
      "Topic number: 56\n",
      "npmi: 0.20845137869384558\n",
      "diversity: 0.6035714285714285\n",
      " \n"
     ]
    },
    {
     "name": "stderr",
     "output_type": "stream",
     "text": [
      "2022-08-10 19:26:00,796 - BERTopic - Reduced dimensionality with UMAP\n",
      "2022-08-10 20:12:05,488 - BERTopic - Clustered UMAP embeddings with HDBSCAN\n",
      "2022-08-10 20:13:36,680 - BERTopic - Reduced number of topics from 690 to 57\n"
     ]
    },
    {
     "name": "stdout",
     "output_type": "stream",
     "text": [
      "Results\n",
      "===============\n",
      "Topic number: 56\n",
      "npmi: 0.20261907232876084\n",
      "diversity: 0.5982142857142857\n",
      " \n"
     ]
    },
    {
     "name": "stderr",
     "output_type": "stream",
     "text": [
      "2022-08-10 20:18:21,430 - BERTopic - Reduced dimensionality with UMAP\n",
      "2022-08-10 21:00:38,041 - BERTopic - Clustered UMAP embeddings with HDBSCAN\n",
      "2022-08-10 21:02:07,687 - BERTopic - Reduced number of topics from 673 to 57\n"
     ]
    },
    {
     "name": "stdout",
     "output_type": "stream",
     "text": [
      "Results\n",
      "===============\n",
      "Topic number: 56\n",
      "npmi: 0.20717983451103333\n",
      "diversity: 0.5928571428571429\n",
      " \n"
     ]
    },
    {
     "name": "stderr",
     "output_type": "stream",
     "text": [
      "2022-08-10 21:06:47,579 - BERTopic - Reduced dimensionality with UMAP\n",
      "2022-08-10 21:47:34,168 - BERTopic - Clustered UMAP embeddings with HDBSCAN\n",
      "2022-08-10 21:49:03,997 - BERTopic - Reduced number of topics from 672 to 58\n"
     ]
    },
    {
     "name": "stdout",
     "output_type": "stream",
     "text": [
      "Results\n",
      "===============\n",
      "Topic number: 57\n",
      "npmi: 0.20891077855165105\n",
      "diversity: 0.6105263157894737\n",
      " \n"
     ]
    },
    {
     "name": "stderr",
     "output_type": "stream",
     "text": [
      "2022-08-10 21:53:26,313 - BERTopic - Reduced dimensionality with UMAP\n",
      "2022-08-10 22:34:37,374 - BERTopic - Clustered UMAP embeddings with HDBSCAN\n",
      "2022-08-10 22:36:06,290 - BERTopic - Reduced number of topics from 663 to 58\n"
     ]
    },
    {
     "name": "stdout",
     "output_type": "stream",
     "text": [
      "Results\n",
      "===============\n",
      "Topic number: 57\n",
      "npmi: 0.21301803591669513\n",
      "diversity: 0.5789473684210527\n",
      " \n"
     ]
    },
    {
     "name": "stderr",
     "output_type": "stream",
     "text": [
      "2022-08-10 22:40:54,313 - BERTopic - Reduced dimensionality with UMAP\n",
      "2022-08-10 23:25:00,110 - BERTopic - Clustered UMAP embeddings with HDBSCAN\n",
      "2022-08-10 23:26:30,245 - BERTopic - Reduced number of topics from 678 to 58\n"
     ]
    },
    {
     "name": "stdout",
     "output_type": "stream",
     "text": [
      "Results\n",
      "===============\n",
      "Topic number: 57\n",
      "npmi: 0.20946459492857744\n",
      "diversity: 0.5842105263157895\n",
      " \n"
     ]
    },
    {
     "name": "stderr",
     "output_type": "stream",
     "text": [
      "2022-08-10 23:31:06,570 - BERTopic - Reduced dimensionality with UMAP\n",
      "2022-08-11 00:10:25,808 - BERTopic - Clustered UMAP embeddings with HDBSCAN\n",
      "2022-08-11 00:11:58,721 - BERTopic - Reduced number of topics from 688 to 59\n"
     ]
    },
    {
     "name": "stdout",
     "output_type": "stream",
     "text": [
      "Results\n",
      "===============\n",
      "Topic number: 58\n",
      "npmi: 0.21390267002935878\n",
      "diversity: 0.5741379310344827\n",
      " \n"
     ]
    },
    {
     "name": "stderr",
     "output_type": "stream",
     "text": [
      "2022-08-11 00:16:52,973 - BERTopic - Reduced dimensionality with UMAP\n",
      "2022-08-11 01:00:03,122 - BERTopic - Clustered UMAP embeddings with HDBSCAN\n",
      "2022-08-11 01:01:34,371 - BERTopic - Reduced number of topics from 677 to 59\n"
     ]
    },
    {
     "name": "stdout",
     "output_type": "stream",
     "text": [
      "Results\n",
      "===============\n",
      "Topic number: 58\n",
      "npmi: 0.2102784743445752\n",
      "diversity: 0.5706896551724138\n",
      " \n"
     ]
    },
    {
     "name": "stderr",
     "output_type": "stream",
     "text": [
      "2022-08-11 01:06:25,732 - BERTopic - Reduced dimensionality with UMAP\n",
      "2022-08-11 01:48:36,545 - BERTopic - Clustered UMAP embeddings with HDBSCAN\n",
      "2022-08-11 01:50:05,699 - BERTopic - Reduced number of topics from 658 to 59\n"
     ]
    },
    {
     "name": "stdout",
     "output_type": "stream",
     "text": [
      "Results\n",
      "===============\n",
      "Topic number: 58\n",
      "npmi: 0.20864205017360954\n",
      "diversity: 0.5948275862068966\n",
      " \n"
     ]
    },
    {
     "name": "stderr",
     "output_type": "stream",
     "text": [
      "2022-08-11 01:54:49,348 - BERTopic - Reduced dimensionality with UMAP\n",
      "2022-08-11 02:36:51,049 - BERTopic - Clustered UMAP embeddings with HDBSCAN\n",
      "2022-08-11 02:38:21,809 - BERTopic - Reduced number of topics from 669 to 60\n"
     ]
    },
    {
     "name": "stdout",
     "output_type": "stream",
     "text": [
      "Results\n",
      "===============\n",
      "Topic number: 59\n",
      "npmi: 0.21518487459420302\n",
      "diversity: 0.5779661016949152\n",
      " \n"
     ]
    },
    {
     "name": "stderr",
     "output_type": "stream",
     "text": [
      "2022-08-11 02:43:09,318 - BERTopic - Reduced dimensionality with UMAP\n",
      "2022-08-11 03:29:14,974 - BERTopic - Clustered UMAP embeddings with HDBSCAN\n",
      "2022-08-11 03:30:49,638 - BERTopic - Reduced number of topics from 701 to 60\n"
     ]
    },
    {
     "name": "stdout",
     "output_type": "stream",
     "text": [
      "Results\n",
      "===============\n",
      "Topic number: 59\n",
      "npmi: 0.20498399507760365\n",
      "diversity: 0.5898305084745763\n",
      " \n"
     ]
    },
    {
     "name": "stderr",
     "output_type": "stream",
     "text": [
      "2022-08-11 03:35:45,420 - BERTopic - Reduced dimensionality with UMAP\n",
      "2022-08-11 04:20:36,722 - BERTopic - Clustered UMAP embeddings with HDBSCAN\n",
      "2022-08-11 04:22:09,301 - BERTopic - Reduced number of topics from 682 to 60\n"
     ]
    },
    {
     "name": "stdout",
     "output_type": "stream",
     "text": [
      "Results\n",
      "===============\n",
      "Topic number: 59\n",
      "npmi: 0.20970941038750024\n",
      "diversity: 0.6\n",
      " \n"
     ]
    }
   ],
   "source": [
    "npmi = []\n",
    "diversity = []\n",
    "\n",
    "NPMI_2 = []\n",
    "DIVERSITY_2 = []\n",
    "\n",
    "for n in range(40,60,1):\n",
    "    for i in range(3):\n",
    "        result = evaluation(N_topics = n, CORPUS = CORPUS, all_words = all_words,\n",
    "                   TOPK = TOPK , DATA = DATA, model = model , embeddings = embeddings)\n",
    "        npmi.append(result[\"npmi\"])\n",
    "        diversity.append(result[\"diversity\"])\n",
    "    NPMI_2.append(np.mean(npmi))\n",
    "    DIVERSITY_2.append(np.mean(diversity))\n",
    "    npmi = []\n",
    "    diversity = []"
   ]
  },
  {
   "cell_type": "code",
   "execution_count": 32,
   "id": "902f2d3b",
   "metadata": {
    "scrolled": true
   },
   "outputs": [
    {
     "data": {
      "image/png": "[encoded data removed]",
      "text/plain": [
       "<Figure size 432x288 with 1 Axes>"
      ]
     },
     "metadata": {
      "needs_background": "light"
     },
     "output_type": "display_data"
    }
   ],
   "source": [
    "# Show graph\n",
    "x = range(40,60,1)\n",
    "plt.plot(x, NPMI_2)\n",
    "plt.grid()\n",
    "plt.xlabel(\"Num Topics\")\n",
    "plt.ylabel(\"Coherence score\")\n",
    "plt.legend((\"coherence_values\"), loc='best')\n",
    "plt.show()"
   ]
  },
  {
   "cell_type": "markdown",
   "id": "1f1f8a1f",
   "metadata": {},
   "source": [
    "#### Optimal number of topics"
   ]
  },
  {
   "cell_type": "code",
   "execution_count": 41,
   "id": "1b9a2a55",
   "metadata": {},
   "outputs": [
    {
     "name": "stdout",
     "output_type": "stream",
     "text": [
      "Number: 40\n",
      "CV: 0.21436561497369286\n",
      "Number: 41\n",
      "CV: 0.21450589304153897\n",
      "Number: 42\n",
      "CV: 0.21664385068858785\n",
      "This is the best!!!!!!!!!!!!!!!\n",
      "Number: 43\n",
      "CV: 0.20789271201273074\n",
      "Number: 44\n",
      "CV: 0.20674362447993525\n",
      "Number: 45\n",
      "CV: 0.20850757970313694\n",
      "Number: 46\n",
      "CV: 0.21652977715880514\n",
      "Number: 47\n",
      "CV: 0.2104299931819998\n",
      "Number: 48\n",
      "CV: 0.21025882984873392\n",
      "Number: 49\n",
      "CV: 0.21163860298698503\n",
      "Number: 50\n",
      "CV: 0.21200685099971947\n",
      "Number: 51\n",
      "CV: 0.212944412957723\n",
      "Number: 52\n",
      "CV: 0.20835157425964979\n",
      "Number: 53\n",
      "CV: 0.20997980580804962\n",
      "Number: 54\n",
      "CV: 0.2063923603661598\n",
      "Number: 55\n",
      "CV: 0.20930536346643733\n",
      "Number: 56\n",
      "CV: 0.20608342851121328\n",
      "Number: 57\n",
      "CV: 0.2104644697989745\n",
      "Number: 58\n",
      "CV: 0.21094106484918118\n",
      "Number: 59\n",
      "CV: 0.20995942668643564\n"
     ]
    }
   ],
   "source": [
    "num = 40\n",
    "for i in NPMI_2:\n",
    "    print(\"Number: \"+str(num))\n",
    "    print(\"CV: \"+str(i))\n",
    "    if i == max(NPMI_2):\n",
    "        print(\"This is the best!!!!!!!!!!!!!!!\")\n",
    "        best = (num,i)\n",
    "    num+=1"
   ]
  },
  {
   "cell_type": "code",
   "execution_count": 42,
   "id": "05be2761",
   "metadata": {},
   "outputs": [
    {
     "data": {
      "text/plain": [
       "(42, 0.21664385068858785)"
      ]
     },
     "execution_count": 42,
     "metadata": {},
     "output_type": "execute_result"
    }
   ],
   "source": [
    "best"
   ]
  },
  {
   "cell_type": "markdown",
   "id": "8f04f66f",
   "metadata": {},
   "source": [
    "## Evaluate Optimized Model"
   ]
  },
  {
   "cell_type": "markdown",
   "id": "1f3a0a68",
   "metadata": {},
   "source": [
    "#### Model Creation\n",
    "\n",
    "\n",
    "Create and save model **(DON'T RUN)**"
   ]
  },
  {
   "cell_type": "code",
   "execution_count": 11,
   "id": "a270727b",
   "metadata": {},
   "outputs": [
    {
     "name": "stderr",
     "output_type": "stream",
     "text": [
      "2022-10-20 18:58:01,273 - BERTopic - Reduced dimensionality with UMAP\n",
      "2022-10-20 19:31:30,411 - BERTopic - Clustered UMAP embeddings with HDBSCAN\n",
      "2022-10-20 19:33:02,851 - BERTopic - Reduced number of topics from 637 to 43\n"
     ]
    }
   ],
   "source": [
    "optimal_model = BERTopic(language=\"english\", calculate_probabilities=True, verbose=True, \n",
    "                         diversity = None,embedding_model= \"all-mpnet-base-v2\", min_topic_size = 15, \n",
    "                         nr_topics= 42)\n",
    "optimal_model.save(\"BERTmodel_39\")\n",
    "topics, probs = optimal_model.fit_transform(DATA, embeddings)"
   ]
  },
  {
   "cell_type": "markdown",
   "id": "50c1c8c9",
   "metadata": {},
   "source": [
    "Loading Trained Model (RUN)"
   ]
  },
  {
   "cell_type": "code",
   "execution_count": 48,
   "id": "95f006dc",
   "metadata": {},
   "outputs": [
    {
     "name": "stderr",
     "output_type": "stream",
     "text": [
      "2022-10-21 12:31:31,361 - BERTopic - Reduced dimensionality with UMAP\n",
      "2022-10-21 13:09:40,482 - BERTopic - Clustered UMAP embeddings with HDBSCAN\n",
      "2022-10-21 13:11:14,394 - BERTopic - Reduced number of topics from 647 to 43\n"
     ]
    }
   ],
   "source": [
    "# Import model21\n",
    "optimal_model = BERTopic.load(\"BERTmodel_39\")\n",
    "# Import embeddings\n",
    "embeddings = loadtxt('embeddings.csv', delimiter=',')\n",
    "# Modeling\n",
    "topics, probs = optimal_model.fit_transform(DATA, embeddings)"
   ]
  },
  {
   "cell_type": "markdown",
   "id": "0db5670e",
   "metadata": {},
   "source": [
    "#### Topic Word List"
   ]
  },
  {
   "cell_type": "code",
   "execution_count": 32,
   "id": "b2b11979",
   "metadata": {},
   "outputs": [
    {
     "data": {
      "text/html": [
       "<div>\n",
       "<style scoped>\n",
       "    .dataframe tbody tr th:only-of-type {\n",
       "        vertical-align: middle;\n",
       "    }\n",
       "\n",
       "    .dataframe tbody tr th {\n",
       "        vertical-align: top;\n",
       "    }\n",
       "\n",
       "    .dataframe thead th {\n",
       "        text-align: right;\n",
       "    }\n",
       "</style>\n",
       "<table border=\"1\" class=\"dataframe\">\n",
       "  <thead>\n",
       "    <tr style=\"text-align: right;\">\n",
       "      <th></th>\n",
       "      <th>Topic</th>\n",
       "      <th>Count</th>\n",
       "      <th>Name</th>\n",
       "    </tr>\n",
       "  </thead>\n",
       "  <tbody>\n",
       "    <tr>\n",
       "      <th>0</th>\n",
       "      <td>-1</td>\n",
       "      <td>102468</td>\n",
       "      <td>-1_fire_home_fall_injury</td>\n",
       "    </tr>\n",
       "    <tr>\n",
       "      <th>1</th>\n",
       "      <td>0</td>\n",
       "      <td>5771</td>\n",
       "      <td>0_bicyclist_bicycle_scooter_vehicle</td>\n",
       "    </tr>\n",
       "    <tr>\n",
       "      <th>2</th>\n",
       "      <td>1</td>\n",
       "      <td>3934</td>\n",
       "      <td>1_drown_death_autopsy_manner</td>\n",
       "    </tr>\n",
       "    <tr>\n",
       "      <th>3</th>\n",
       "      <td>2</td>\n",
       "      <td>3448</td>\n",
       "      <td>2_ladder_fall_stair_head</td>\n",
       "    </tr>\n",
       "    <tr>\n",
       "      <th>4</th>\n",
       "      <td>3</td>\n",
       "      <td>3355</td>\n",
       "      <td>3_electrical_extension_cord_fire_space_heater</td>\n",
       "    </tr>\n",
       "    <tr>\n",
       "      <th>5</th>\n",
       "      <td>4</td>\n",
       "      <td>3098</td>\n",
       "      <td>4_apartment_candle_fire_stove</td>\n",
       "    </tr>\n",
       "    <tr>\n",
       "      <th>6</th>\n",
       "      <td>5</td>\n",
       "      <td>3015</td>\n",
       "      <td>5_toy_battery_mouth_laptop</td>\n",
       "    </tr>\n",
       "    <tr>\n",
       "      <th>7</th>\n",
       "      <td>6</td>\n",
       "      <td>2971</td>\n",
       "      <td>6_terrain_vehicle_golf_cart_autopsy_injury</td>\n",
       "    </tr>\n",
       "    <tr>\n",
       "      <th>8</th>\n",
       "      <td>7</td>\n",
       "      <td>2822</td>\n",
       "      <td>7_fire_house_firefighter_window</td>\n",
       "    </tr>\n",
       "    <tr>\n",
       "      <th>10</th>\n",
       "      <td>8</td>\n",
       "      <td>2625</td>\n",
       "      <td>8_nan_apneic_yet_fine</td>\n",
       "    </tr>\n",
       "    <tr>\n",
       "      <th>9</th>\n",
       "      <td>9</td>\n",
       "      <td>2625</td>\n",
       "      <td>9_fall_head_floor_decedent</td>\n",
       "    </tr>\n",
       "    <tr>\n",
       "      <th>11</th>\n",
       "      <td>10</td>\n",
       "      <td>2573</td>\n",
       "      <td>10_sleep_autopsy_overlay_adult</td>\n",
       "    </tr>\n",
       "    <tr>\n",
       "      <th>12</th>\n",
       "      <td>11</td>\n",
       "      <td>2536</td>\n",
       "      <td>11_pool_boy_drown_swimming_pool</td>\n",
       "    </tr>\n",
       "    <tr>\n",
       "      <th>13</th>\n",
       "      <td>12</td>\n",
       "      <td>2372</td>\n",
       "      <td>12_pronounce_dead_pronounce_pool_swimming_pool</td>\n",
       "    </tr>\n",
       "    <tr>\n",
       "      <th>14</th>\n",
       "      <td>13</td>\n",
       "      <td>2315</td>\n",
       "      <td>13_hip_fracture_floor_fall_hip</td>\n",
       "    </tr>\n",
       "    <tr>\n",
       "      <th>15</th>\n",
       "      <td>14</td>\n",
       "      <td>2116</td>\n",
       "      <td>14_thermal_burn_inhalation_clothing</td>\n",
       "    </tr>\n",
       "    <tr>\n",
       "      <th>16</th>\n",
       "      <td>15</td>\n",
       "      <td>1997</td>\n",
       "      <td>15_drown_hot_tub_autopsy_pool</td>\n",
       "    </tr>\n",
       "    <tr>\n",
       "      <th>17</th>\n",
       "      <td>16</td>\n",
       "      <td>1832</td>\n",
       "      <td>16_glass_shower_door_shatter</td>\n",
       "    </tr>\n",
       "    <tr>\n",
       "      <th>18</th>\n",
       "      <td>17</td>\n",
       "      <td>1816</td>\n",
       "      <td>17_chair_stroller_seat_swing</td>\n",
       "    </tr>\n",
       "    <tr>\n",
       "      <th>19</th>\n",
       "      <td>18</td>\n",
       "      <td>1773</td>\n",
       "      <td>18_burner_grill_knob_turn</td>\n",
       "    </tr>\n",
       "    <tr>\n",
       "      <th>20</th>\n",
       "      <td>19</td>\n",
       "      <td>1769</td>\n",
       "      <td>19_unresponsive_blanket_bed_sleep</td>\n",
       "    </tr>\n",
       "    <tr>\n",
       "      <th>21</th>\n",
       "      <td>20</td>\n",
       "      <td>1741</td>\n",
       "      <td>20_oven_turn_toaster_rack</td>\n",
       "    </tr>\n",
       "    <tr>\n",
       "      <th>22</th>\n",
       "      <td>21</td>\n",
       "      <td>1720</td>\n",
       "      <td>21_atv_crash_drive_roll</td>\n",
       "    </tr>\n",
       "    <tr>\n",
       "      <th>23</th>\n",
       "      <td>22</td>\n",
       "      <td>1666</td>\n",
       "      <td>22_microwave_door_turn_oven</td>\n",
       "    </tr>\n",
       "    <tr>\n",
       "      <th>24</th>\n",
       "      <td>23</td>\n",
       "      <td>1646</td>\n",
       "      <td>23_difluoroethane_autopsy_inhalation_decedent</td>\n",
       "    </tr>\n",
       "    <tr>\n",
       "      <th>25</th>\n",
       "      <td>24</td>\n",
       "      <td>1614</td>\n",
       "      <td>24_dishwasher_melt_smoke_door</td>\n",
       "    </tr>\n",
       "    <tr>\n",
       "      <th>26</th>\n",
       "      <td>25</td>\n",
       "      <td>1585</td>\n",
       "      <td>25_chimney_fire_home_fireplace</td>\n",
       "    </tr>\n",
       "    <tr>\n",
       "      <th>27</th>\n",
       "      <td>26</td>\n",
       "      <td>1579</td>\n",
       "      <td>26_bulb_lamp_light_fixture</td>\n",
       "    </tr>\n",
       "    <tr>\n",
       "      <th>28</th>\n",
       "      <td>27</td>\n",
       "      <td>1464</td>\n",
       "      <td>27_mower_lawn_mower_fuel_gas</td>\n",
       "    </tr>\n",
       "    <tr>\n",
       "      <th>29</th>\n",
       "      <td>28</td>\n",
       "      <td>1441</td>\n",
       "      <td>28_carbon_monoxide_furnace_level_leak</td>\n",
       "    </tr>\n",
       "    <tr>\n",
       "      <th>30</th>\n",
       "      <td>29</td>\n",
       "      <td>1335</td>\n",
       "      <td>29_refrigerator_freezer_fridge_ice</td>\n",
       "    </tr>\n",
       "    <tr>\n",
       "      <th>31</th>\n",
       "      <td>30</td>\n",
       "      <td>1313</td>\n",
       "      <td>30_phone_device_charge_charger</td>\n",
       "    </tr>\n",
       "    <tr>\n",
       "      <th>32</th>\n",
       "      <td>31</td>\n",
       "      <td>1298</td>\n",
       "      <td>31_snowmobile_tree_trail_crash</td>\n",
       "    </tr>\n",
       "    <tr>\n",
       "      <th>33</th>\n",
       "      <td>32</td>\n",
       "      <td>1293</td>\n",
       "      <td>32_firework_hand_explode_injure</td>\n",
       "    </tr>\n",
       "    <tr>\n",
       "      <th>34</th>\n",
       "      <td>33</td>\n",
       "      <td>1263</td>\n",
       "      <td>33_pronounce_dead_ski_hospital_die</td>\n",
       "    </tr>\n",
       "    <tr>\n",
       "      <th>35</th>\n",
       "      <td>34</td>\n",
       "      <td>1226</td>\n",
       "      <td>34_bathtub_drown_autopsy_seizure</td>\n",
       "    </tr>\n",
       "    <tr>\n",
       "      <th>36</th>\n",
       "      <td>35</td>\n",
       "      <td>1195</td>\n",
       "      <td>35_hip_fracture_hip_fall_floor</td>\n",
       "    </tr>\n",
       "    <tr>\n",
       "      <th>37</th>\n",
       "      <td>36</td>\n",
       "      <td>1154</td>\n",
       "      <td>36_blade_blender_food_processor_cut</td>\n",
       "    </tr>\n",
       "    <tr>\n",
       "      <th>38</th>\n",
       "      <td>37</td>\n",
       "      <td>1099</td>\n",
       "      <td>37_bicycle_head_autopsy_decedent</td>\n",
       "    </tr>\n",
       "    <tr>\n",
       "      <th>39</th>\n",
       "      <td>38</td>\n",
       "      <td>1090</td>\n",
       "      <td>38_garage_carbon_monoxide_autopsy_inhale</td>\n",
       "    </tr>\n",
       "    <tr>\n",
       "      <th>40</th>\n",
       "      <td>39</td>\n",
       "      <td>1086</td>\n",
       "      <td>39_generator_unknown_autopsy_die</td>\n",
       "    </tr>\n",
       "    <tr>\n",
       "      <th>41</th>\n",
       "      <td>40</td>\n",
       "      <td>1065</td>\n",
       "      <td>40_drown_swimming_pool_autopsy_hotel</td>\n",
       "    </tr>\n",
       "    <tr>\n",
       "      <th>42</th>\n",
       "      <td>41</td>\n",
       "      <td>1062</td>\n",
       "      <td>41_washer_machine_washing_machine_spin_cycle</td>\n",
       "    </tr>\n",
       "  </tbody>\n",
       "</table>\n",
       "</div>"
      ],
      "text/plain": [
       "    Topic   Count                                            Name\n",
       "0      -1  102468                        -1_fire_home_fall_injury\n",
       "1       0    5771             0_bicyclist_bicycle_scooter_vehicle\n",
       "2       1    3934                    1_drown_death_autopsy_manner\n",
       "3       2    3448                        2_ladder_fall_stair_head\n",
       "4       3    3355   3_electrical_extension_cord_fire_space_heater\n",
       "5       4    3098                   4_apartment_candle_fire_stove\n",
       "6       5    3015                      5_toy_battery_mouth_laptop\n",
       "7       6    2971      6_terrain_vehicle_golf_cart_autopsy_injury\n",
       "8       7    2822                 7_fire_house_firefighter_window\n",
       "10      8    2625                           8_nan_apneic_yet_fine\n",
       "9       9    2625                      9_fall_head_floor_decedent\n",
       "11     10    2573                  10_sleep_autopsy_overlay_adult\n",
       "12     11    2536                 11_pool_boy_drown_swimming_pool\n",
       "13     12    2372  12_pronounce_dead_pronounce_pool_swimming_pool\n",
       "14     13    2315                  13_hip_fracture_floor_fall_hip\n",
       "15     14    2116             14_thermal_burn_inhalation_clothing\n",
       "16     15    1997                   15_drown_hot_tub_autopsy_pool\n",
       "17     16    1832                    16_glass_shower_door_shatter\n",
       "18     17    1816                    17_chair_stroller_seat_swing\n",
       "19     18    1773                       18_burner_grill_knob_turn\n",
       "20     19    1769               19_unresponsive_blanket_bed_sleep\n",
       "21     20    1741                       20_oven_turn_toaster_rack\n",
       "22     21    1720                         21_atv_crash_drive_roll\n",
       "23     22    1666                     22_microwave_door_turn_oven\n",
       "24     23    1646   23_difluoroethane_autopsy_inhalation_decedent\n",
       "25     24    1614                   24_dishwasher_melt_smoke_door\n",
       "26     25    1585                  25_chimney_fire_home_fireplace\n",
       "27     26    1579                      26_bulb_lamp_light_fixture\n",
       "28     27    1464                    27_mower_lawn_mower_fuel_gas\n",
       "29     28    1441           28_carbon_monoxide_furnace_level_leak\n",
       "30     29    1335              29_refrigerator_freezer_fridge_ice\n",
       "31     30    1313                  30_phone_device_charge_charger\n",
       "32     31    1298                  31_snowmobile_tree_trail_crash\n",
       "33     32    1293                 32_firework_hand_explode_injure\n",
       "34     33    1263              33_pronounce_dead_ski_hospital_die\n",
       "35     34    1226                34_bathtub_drown_autopsy_seizure\n",
       "36     35    1195                  35_hip_fracture_hip_fall_floor\n",
       "37     36    1154             36_blade_blender_food_processor_cut\n",
       "38     37    1099                37_bicycle_head_autopsy_decedent\n",
       "39     38    1090        38_garage_carbon_monoxide_autopsy_inhale\n",
       "40     39    1086                39_generator_unknown_autopsy_die\n",
       "41     40    1065            40_drown_swimming_pool_autopsy_hotel\n",
       "42     41    1062    41_washer_machine_washing_machine_spin_cycle"
      ]
     },
     "execution_count": 32,
     "metadata": {},
     "output_type": "execute_result"
    }
   ],
   "source": [
    "freq = optimal_model.get_topic_info(); freq"
   ]
  },
  {
   "cell_type": "markdown",
   "id": "a614578a",
   "metadata": {},
   "source": [
    "#### Visulazation"
   ]
  },
  {
   "cell_type": "code",
   "execution_count": 33,
   "id": "6d68aee6",
   "metadata": {},
   "outputs": [
    {
     "data": {
      "application/vnd.plotly.v1+json": {
       "config": {
        "plotlyServerURL": "https://plot.ly"
       },
       "data": [
        {
         "customdata": [
          [
           0,
           "bicyclist | bicycle | scooter | vehicle | car",
           5771
          ],
          [
           1,
           "drown | death | autopsy | manner | swimming_pool",
           3934
          ],
          [
           2,
           "ladder | fall | stair | head | decedent",
           3448
          ],
          [
           3,
           "electrical | extension_cord | fire | space_heater | outlet",
           3355
          ],
          [
           4,
           "apartment | candle | fire | stove | building",
           3098
          ],
          [
           5,
           "toy | battery | mouth | laptop | child",
           3015
          ],
          [
           6,
           "terrain_vehicle | golf_cart | autopsy | injury | decedent",
           2971
          ],
          [
           7,
           "fire | house | firefighter | window | home",
           2822
          ],
          [
           8,
           "nan | apneic | yet | fine | ",
           2625
          ],
          [
           9,
           "fall | head | floor | decedent | autopsy",
           2625
          ],
          [
           10,
           "sleep | autopsy | overlay | adult | bed",
           2573
          ],
          [
           11,
           "pool | boy | drown | swimming_pool | pull",
           2536
          ],
          [
           12,
           "pronounce_dead | pronounce | pool | swimming_pool | hospital",
           2372
          ],
          [
           13,
           "hip_fracture | floor | fall | hip | fan",
           2315
          ],
          [
           14,
           "thermal | burn | inhalation | clothing | decedent",
           2116
          ],
          [
           15,
           "drown | hot_tub | autopsy | pool | decedent",
           1997
          ],
          [
           16,
           "glass | shower | door | shatter | oven",
           1832
          ],
          [
           17,
           "chair | stroller | seat | swing | shade",
           1816
          ],
          [
           18,
           "burner | grill | knob | turn | gas",
           1773
          ],
          [
           19,
           "unresponsive | blanket | bed | sleep | mother",
           1769
          ],
          [
           20,
           "oven | turn | toaster | rack | broiler",
           1741
          ],
          [
           21,
           "atv | crash | drive | roll | lose_control",
           1720
          ],
          [
           22,
           "microwave | door | turn | oven | unplug",
           1666
          ],
          [
           23,
           "difluoroethane | autopsy | inhalation | decedent | inhale",
           1646
          ],
          [
           24,
           "dishwasher | melt | smoke | door | cycle",
           1614
          ],
          [
           25,
           "chimney | fire | home | fireplace | house",
           1585
          ],
          [
           26,
           "bulb | lamp | light | fixture | base",
           1579
          ],
          [
           27,
           "mower | lawn_mower | fuel | gas | tank",
           1464
          ],
          [
           28,
           "carbon_monoxide | furnace | level | leak | generator",
           1441
          ],
          [
           29,
           "refrigerator | freezer | fridge | ice | ice_maker",
           1335
          ],
          [
           30,
           "phone | device | charge | charger | cable",
           1313
          ],
          [
           31,
           "snowmobile | tree | trail | crash | accident",
           1298
          ],
          [
           32,
           "firework | hand | explode | injure | injury",
           1293
          ],
          [
           33,
           "pronounce_dead | ski | hospital | die | skier",
           1263
          ],
          [
           34,
           "bathtub | drown | autopsy | seizure | drowning",
           1226
          ],
          [
           35,
           "hip_fracture | hip | fall | floor | hospice",
           1195
          ],
          [
           36,
           "blade | blender | food_processor | cut | thumb",
           1154
          ],
          [
           37,
           "bicycle | head | autopsy | decedent | ride",
           1099
          ],
          [
           38,
           "garage | carbon_monoxide | autopsy | inhale | run",
           1090
          ],
          [
           39,
           "generator | unknown | autopsy | die | patient",
           1086
          ],
          [
           40,
           "drown | swimming_pool | autopsy | hotel | decedent",
           1065
          ],
          [
           41,
           "washer | machine | washing_machine | spin_cycle | load",
           1062
          ]
         ],
         "hovertemplate": "<b>Topic %{customdata[0]}</b><br>Words: %{customdata[1]}<br>Size: %{customdata[2]}",
         "legendgroup": "",
         "marker": {
          "color": "#B0BEC5",
          "line": {
           "color": "DarkSlateGrey",
           "width": 2
          },
          "size": [
           5771,
           3934,
           3448,
           3355,
           3098,
           3015,
           2971,
           2822,
           2625,
           2625,
           2573,
           2536,
           2372,
           2315,
           2116,
           1997,
           1832,
           1816,
           1773,
           1769,
           1741,
           1720,
           1666,
           1646,
           1614,
           1585,
           1579,
           1464,
           1441,
           1335,
           1313,
           1298,
           1293,
           1263,
           1226,
           1195,
           1154,
           1099,
           1090,
           1086,
           1065,
           1062
          ],
          "sizemode": "area",
          "sizeref": 3.606875,
          "symbol": "circle"
         },
         "mode": "markers",
         "name": "",
         "orientation": "v",
         "showlegend": false,
         "type": "scatter",
         "x": [
          -1.6548876762390137,
          3.171220302581787,
          7.565827369689941,
          10.22032642364502,
          10.60571575164795,
          15.26982307434082,
          -2.423610210418701,
          10.106428146362305,
          10.155048370361328,
          7.452419757843018,
          5.000313758850098,
          2.836695432662964,
          3.031428337097168,
          7.184778213500977,
          0.40063515305519104,
          -12.754789352416992,
          8.992819786071777,
          15.361272811889648,
          8.843920707702637,
          5.055624961853027,
          8.823136329650879,
          -2.1984076499938965,
          8.38191032409668,
          15.084662437438965,
          9.678849220275879,
          10.861601829528809,
          10.038407325744629,
          8.861228942871094,
          10.823554992675781,
          8.455729484558105,
          8.19674301147461,
          -1.853130578994751,
          10.194316864013672,
          -2.1286702156066895,
          -12.880533218383789,
          7.224514007568359,
          8.683293342590332,
          -2.6156649589538574,
          0.19503584504127502,
          0.06271789968013763,
          -12.74686336517334,
          8.945898056030273
         ],
         "xaxis": "x",
         "y": [
          -5.059372425079346,
          13.624886512756348,
          -5.070362091064453,
          0.9579533934593201,
          15.000394821166992,
          12.98196029663086,
          -4.255599498748779,
          15.040628433227539,
          15.163509368896484,
          -4.957155704498291,
          17.908430099487305,
          13.959760665893555,
          13.764150619506836,
          -4.6845526695251465,
          5.559797286987305,
          10.077173233032227,
          0.5414031744003296,
          13.148982048034668,
          1.1793400049209595,
          17.853609085083008,
          0.5573216676712036,
          -4.510241985321045,
          -0.252979576587677,
          12.882912635803223,
          0.6767098903656006,
          14.914225578308105,
          0.8126813173294067,
          1.4009711742401123,
          14.755617141723633,
          -0.22461706399917603,
          -0.4378644824028015,
          -4.861464023590088,
          14.86373519897461,
          -4.582673072814941,
          10.203100204467773,
          -4.728326320648193,
          1.2598375082015991,
          -4.0535664558410645,
          5.354167938232422,
          5.221688270568848,
          10.069404602050781,
          0.25951218605041504
         ],
         "yaxis": "y"
        }
       ],
       "layout": {
        "annotations": [
         {
          "showarrow": false,
          "text": "D1",
          "x": -14.812613201141357,
          "y": 7.38188910484314,
          "yshift": 10
         },
         {
          "showarrow": false,
          "text": "D2",
          "x": 1.4264252662658699,
          "xshift": 10,
          "y": 20.5946946144104
         }
        ],
        "height": 650,
        "hoverlabel": {
         "bgcolor": "white",
         "font": {
          "family": "Rockwell",
          "size": 16
         }
        },
        "legend": {
         "itemsizing": "constant",
         "tracegroupgap": 0
        },
        "margin": {
         "t": 60
        },
        "shapes": [
         {
          "line": {
           "color": "#CFD8DC",
           "width": 2
          },
          "type": "line",
          "x0": 1.4264252662658699,
          "x1": 1.4264252662658699,
          "y0": -5.830916404724121,
          "y1": 20.5946946144104
         },
         {
          "line": {
           "color": "#9E9E9E",
           "width": 2
          },
          "type": "line",
          "x0": -14.812613201141357,
          "x1": 17.665463733673096,
          "y0": 7.38188910484314,
          "y1": 7.38188910484314
         }
        ],
        "sliders": [
         {
          "active": 0,
          "pad": {
           "t": 50
          },
          "steps": [
           {
            "args": [
             {
              "marker.color": [
               [
                "red",
                "#B0BEC5",
                "#B0BEC5",
                "#B0BEC5",
                "#B0BEC5",
                "#B0BEC5",
                "#B0BEC5",
                "#B0BEC5",
                "#B0BEC5",
                "#B0BEC5",
                "#B0BEC5",
                "#B0BEC5",
                "#B0BEC5",
                "#B0BEC5",
                "#B0BEC5",
                "#B0BEC5",
                "#B0BEC5",
                "#B0BEC5",
                "#B0BEC5",
                "#B0BEC5",
                "#B0BEC5",
                "#B0BEC5",
                "#B0BEC5",
                "#B0BEC5",
                "#B0BEC5",
                "#B0BEC5",
                "#B0BEC5",
                "#B0BEC5",
                "#B0BEC5",
                "#B0BEC5",
                "#B0BEC5",
                "#B0BEC5",
                "#B0BEC5",
                "#B0BEC5",
                "#B0BEC5",
                "#B0BEC5",
                "#B0BEC5",
                "#B0BEC5",
                "#B0BEC5",
                "#B0BEC5",
                "#B0BEC5",
                "#B0BEC5"
               ]
              ]
             }
            ],
            "label": "Topic 0",
            "method": "update"
           },
           {
            "args": [
             {
              "marker.color": [
               [
                "#B0BEC5",
                "red",
                "#B0BEC5",
                "#B0BEC5",
                "#B0BEC5",
                "#B0BEC5",
                "#B0BEC5",
                "#B0BEC5",
                "#B0BEC5",
                "#B0BEC5",
                "#B0BEC5",
                "#B0BEC5",
                "#B0BEC5",
                "#B0BEC5",
                "#B0BEC5",
                "#B0BEC5",
                "#B0BEC5",
                "#B0BEC5",
                "#B0BEC5",
                "#B0BEC5",
                "#B0BEC5",
                "#B0BEC5",
                "#B0BEC5",
                "#B0BEC5",
                "#B0BEC5",
                "#B0BEC5",
                "#B0BEC5",
                "#B0BEC5",
                "#B0BEC5",
                "#B0BEC5",
                "#B0BEC5",
                "#B0BEC5",
                "#B0BEC5",
                "#B0BEC5",
                "#B0BEC5",
                "#B0BEC5",
                "#B0BEC5",
                "#B0BEC5",
                "#B0BEC5",
                "#B0BEC5",
                "#B0BEC5",
                "#B0BEC5"
               ]
              ]
             }
            ],
            "label": "Topic 1",
            "method": "update"
           },
           {
            "args": [
             {
              "marker.color": [
               [
                "#B0BEC5",
                "#B0BEC5",
                "red",
                "#B0BEC5",
                "#B0BEC5",
                "#B0BEC5",
                "#B0BEC5",
                "#B0BEC5",
                "#B0BEC5",
                "#B0BEC5",
                "#B0BEC5",
                "#B0BEC5",
                "#B0BEC5",
                "#B0BEC5",
                "#B0BEC5",
                "#B0BEC5",
                "#B0BEC5",
                "#B0BEC5",
                "#B0BEC5",
                "#B0BEC5",
                "#B0BEC5",
                "#B0BEC5",
                "#B0BEC5",
                "#B0BEC5",
                "#B0BEC5",
                "#B0BEC5",
                "#B0BEC5",
                "#B0BEC5",
                "#B0BEC5",
                "#B0BEC5",
                "#B0BEC5",
                "#B0BEC5",
                "#B0BEC5",
                "#B0BEC5",
                "#B0BEC5",
                "#B0BEC5",
                "#B0BEC5",
                "#B0BEC5",
                "#B0BEC5",
                "#B0BEC5",
                "#B0BEC5",
                "#B0BEC5"
               ]
              ]
             }
            ],
            "label": "Topic 2",
            "method": "update"
           },
           {
            "args": [
             {
              "marker.color": [
               [
                "#B0BEC5",
                "#B0BEC5",
                "#B0BEC5",
                "red",
                "#B0BEC5",
                "#B0BEC5",
                "#B0BEC5",
                "#B0BEC5",
                "#B0BEC5",
                "#B0BEC5",
                "#B0BEC5",
                "#B0BEC5",
                "#B0BEC5",
                "#B0BEC5",
                "#B0BEC5",
                "#B0BEC5",
                "#B0BEC5",
                "#B0BEC5",
                "#B0BEC5",
                "#B0BEC5",
                "#B0BEC5",
                "#B0BEC5",
                "#B0BEC5",
                "#B0BEC5",
                "#B0BEC5",
                "#B0BEC5",
                "#B0BEC5",
                "#B0BEC5",
                "#B0BEC5",
                "#B0BEC5",
                "#B0BEC5",
                "#B0BEC5",
                "#B0BEC5",
                "#B0BEC5",
                "#B0BEC5",
                "#B0BEC5",
                "#B0BEC5",
                "#B0BEC5",
                "#B0BEC5",
                "#B0BEC5",
                "#B0BEC5",
                "#B0BEC5"
               ]
              ]
             }
            ],
            "label": "Topic 3",
            "method": "update"
           },
           {
            "args": [
             {
              "marker.color": [
               [
                "#B0BEC5",
                "#B0BEC5",
                "#B0BEC5",
                "#B0BEC5",
                "red",
                "#B0BEC5",
                "#B0BEC5",
                "#B0BEC5",
                "#B0BEC5",
                "#B0BEC5",
                "#B0BEC5",
                "#B0BEC5",
                "#B0BEC5",
                "#B0BEC5",
                "#B0BEC5",
                "#B0BEC5",
                "#B0BEC5",
                "#B0BEC5",
                "#B0BEC5",
                "#B0BEC5",
                "#B0BEC5",
                "#B0BEC5",
                "#B0BEC5",
                "#B0BEC5",
                "#B0BEC5",
                "#B0BEC5",
                "#B0BEC5",
                "#B0BEC5",
                "#B0BEC5",
                "#B0BEC5",
                "#B0BEC5",
                "#B0BEC5",
                "#B0BEC5",
                "#B0BEC5",
                "#B0BEC5",
                "#B0BEC5",
                "#B0BEC5",
                "#B0BEC5",
                "#B0BEC5",
                "#B0BEC5",
                "#B0BEC5",
                "#B0BEC5"
               ]
              ]
             }
            ],
            "label": "Topic 4",
            "method": "update"
           },
           {
            "args": [
             {
              "marker.color": [
               [
                "#B0BEC5",
                "#B0BEC5",
                "#B0BEC5",
                "#B0BEC5",
                "#B0BEC5",
                "red",
                "#B0BEC5",
                "#B0BEC5",
                "#B0BEC5",
                "#B0BEC5",
                "#B0BEC5",
                "#B0BEC5",
                "#B0BEC5",
                "#B0BEC5",
                "#B0BEC5",
                "#B0BEC5",
                "#B0BEC5",
                "#B0BEC5",
                "#B0BEC5",
                "#B0BEC5",
                "#B0BEC5",
                "#B0BEC5",
                "#B0BEC5",
                "#B0BEC5",
                "#B0BEC5",
                "#B0BEC5",
                "#B0BEC5",
                "#B0BEC5",
                "#B0BEC5",
                "#B0BEC5",
                "#B0BEC5",
                "#B0BEC5",
                "#B0BEC5",
                "#B0BEC5",
                "#B0BEC5",
                "#B0BEC5",
                "#B0BEC5",
                "#B0BEC5",
                "#B0BEC5",
                "#B0BEC5",
                "#B0BEC5",
                "#B0BEC5"
               ]
              ]
             }
            ],
            "label": "Topic 5",
            "method": "update"
           },
           {
            "args": [
             {
              "marker.color": [
               [
                "#B0BEC5",
                "#B0BEC5",
                "#B0BEC5",
                "#B0BEC5",
                "#B0BEC5",
                "#B0BEC5",
                "red",
                "#B0BEC5",
                "#B0BEC5",
                "#B0BEC5",
                "#B0BEC5",
                "#B0BEC5",
                "#B0BEC5",
                "#B0BEC5",
                "#B0BEC5",
                "#B0BEC5",
                "#B0BEC5",
                "#B0BEC5",
                "#B0BEC5",
                "#B0BEC5",
                "#B0BEC5",
                "#B0BEC5",
                "#B0BEC5",
                "#B0BEC5",
                "#B0BEC5",
                "#B0BEC5",
                "#B0BEC5",
                "#B0BEC5",
                "#B0BEC5",
                "#B0BEC5",
                "#B0BEC5",
                "#B0BEC5",
                "#B0BEC5",
                "#B0BEC5",
                "#B0BEC5",
                "#B0BEC5",
                "#B0BEC5",
                "#B0BEC5",
                "#B0BEC5",
                "#B0BEC5",
                "#B0BEC5",
                "#B0BEC5"
               ]
              ]
             }
            ],
            "label": "Topic 6",
            "method": "update"
           },
           {
            "args": [
             {
              "marker.color": [
               [
                "#B0BEC5",
                "#B0BEC5",
                "#B0BEC5",
                "#B0BEC5",
                "#B0BEC5",
                "#B0BEC5",
                "#B0BEC5",
                "red",
                "#B0BEC5",
                "#B0BEC5",
                "#B0BEC5",
                "#B0BEC5",
                "#B0BEC5",
                "#B0BEC5",
                "#B0BEC5",
                "#B0BEC5",
                "#B0BEC5",
                "#B0BEC5",
                "#B0BEC5",
                "#B0BEC5",
                "#B0BEC5",
                "#B0BEC5",
                "#B0BEC5",
                "#B0BEC5",
                "#B0BEC5",
                "#B0BEC5",
                "#B0BEC5",
                "#B0BEC5",
                "#B0BEC5",
                "#B0BEC5",
                "#B0BEC5",
                "#B0BEC5",
                "#B0BEC5",
                "#B0BEC5",
                "#B0BEC5",
                "#B0BEC5",
                "#B0BEC5",
                "#B0BEC5",
                "#B0BEC5",
                "#B0BEC5",
                "#B0BEC5",
                "#B0BEC5"
               ]
              ]
             }
            ],
            "label": "Topic 7",
            "method": "update"
           },
           {
            "args": [
             {
              "marker.color": [
               [
                "#B0BEC5",
                "#B0BEC5",
                "#B0BEC5",
                "#B0BEC5",
                "#B0BEC5",
                "#B0BEC5",
                "#B0BEC5",
                "#B0BEC5",
                "red",
                "#B0BEC5",
                "#B0BEC5",
                "#B0BEC5",
                "#B0BEC5",
                "#B0BEC5",
                "#B0BEC5",
                "#B0BEC5",
                "#B0BEC5",
                "#B0BEC5",
                "#B0BEC5",
                "#B0BEC5",
                "#B0BEC5",
                "#B0BEC5",
                "#B0BEC5",
                "#B0BEC5",
                "#B0BEC5",
                "#B0BEC5",
                "#B0BEC5",
                "#B0BEC5",
                "#B0BEC5",
                "#B0BEC5",
                "#B0BEC5",
                "#B0BEC5",
                "#B0BEC5",
                "#B0BEC5",
                "#B0BEC5",
                "#B0BEC5",
                "#B0BEC5",
                "#B0BEC5",
                "#B0BEC5",
                "#B0BEC5",
                "#B0BEC5",
                "#B0BEC5"
               ]
              ]
             }
            ],
            "label": "Topic 8",
            "method": "update"
           },
           {
            "args": [
             {
              "marker.color": [
               [
                "#B0BEC5",
                "#B0BEC5",
                "#B0BEC5",
                "#B0BEC5",
                "#B0BEC5",
                "#B0BEC5",
                "#B0BEC5",
                "#B0BEC5",
                "#B0BEC5",
                "red",
                "#B0BEC5",
                "#B0BEC5",
                "#B0BEC5",
                "#B0BEC5",
                "#B0BEC5",
                "#B0BEC5",
                "#B0BEC5",
                "#B0BEC5",
                "#B0BEC5",
                "#B0BEC5",
                "#B0BEC5",
                "#B0BEC5",
                "#B0BEC5",
                "#B0BEC5",
                "#B0BEC5",
                "#B0BEC5",
                "#B0BEC5",
                "#B0BEC5",
                "#B0BEC5",
                "#B0BEC5",
                "#B0BEC5",
                "#B0BEC5",
                "#B0BEC5",
                "#B0BEC5",
                "#B0BEC5",
                "#B0BEC5",
                "#B0BEC5",
                "#B0BEC5",
                "#B0BEC5",
                "#B0BEC5",
                "#B0BEC5",
                "#B0BEC5"
               ]
              ]
             }
            ],
            "label": "Topic 9",
            "method": "update"
           },
           {
            "args": [
             {
              "marker.color": [
               [
                "#B0BEC5",
                "#B0BEC5",
                "#B0BEC5",
                "#B0BEC5",
                "#B0BEC5",
                "#B0BEC5",
                "#B0BEC5",
                "#B0BEC5",
                "#B0BEC5",
                "#B0BEC5",
                "red",
                "#B0BEC5",
                "#B0BEC5",
                "#B0BEC5",
                "#B0BEC5",
                "#B0BEC5",
                "#B0BEC5",
                "#B0BEC5",
                "#B0BEC5",
                "#B0BEC5",
                "#B0BEC5",
                "#B0BEC5",
                "#B0BEC5",
                "#B0BEC5",
                "#B0BEC5",
                "#B0BEC5",
                "#B0BEC5",
                "#B0BEC5",
                "#B0BEC5",
                "#B0BEC5",
                "#B0BEC5",
                "#B0BEC5",
                "#B0BEC5",
                "#B0BEC5",
                "#B0BEC5",
                "#B0BEC5",
                "#B0BEC5",
                "#B0BEC5",
                "#B0BEC5",
                "#B0BEC5",
                "#B0BEC5",
                "#B0BEC5"
               ]
              ]
             }
            ],
            "label": "Topic 10",
            "method": "update"
           },
           {
            "args": [
             {
              "marker.color": [
               [
                "#B0BEC5",
                "#B0BEC5",
                "#B0BEC5",
                "#B0BEC5",
                "#B0BEC5",
                "#B0BEC5",
                "#B0BEC5",
                "#B0BEC5",
                "#B0BEC5",
                "#B0BEC5",
                "#B0BEC5",
                "red",
                "#B0BEC5",
                "#B0BEC5",
                "#B0BEC5",
                "#B0BEC5",
                "#B0BEC5",
                "#B0BEC5",
                "#B0BEC5",
                "#B0BEC5",
                "#B0BEC5",
                "#B0BEC5",
                "#B0BEC5",
                "#B0BEC5",
                "#B0BEC5",
                "#B0BEC5",
                "#B0BEC5",
                "#B0BEC5",
                "#B0BEC5",
                "#B0BEC5",
                "#B0BEC5",
                "#B0BEC5",
                "#B0BEC5",
                "#B0BEC5",
                "#B0BEC5",
                "#B0BEC5",
                "#B0BEC5",
                "#B0BEC5",
                "#B0BEC5",
                "#B0BEC5",
                "#B0BEC5",
                "#B0BEC5"
               ]
              ]
             }
            ],
            "label": "Topic 11",
            "method": "update"
           },
           {
            "args": [
             {
              "marker.color": [
               [
                "#B0BEC5",
                "#B0BEC5",
                "#B0BEC5",
                "#B0BEC5",
                "#B0BEC5",
                "#B0BEC5",
                "#B0BEC5",
                "#B0BEC5",
                "#B0BEC5",
                "#B0BEC5",
                "#B0BEC5",
                "#B0BEC5",
                "red",
                "#B0BEC5",
                "#B0BEC5",
                "#B0BEC5",
                "#B0BEC5",
                "#B0BEC5",
                "#B0BEC5",
                "#B0BEC5",
                "#B0BEC5",
                "#B0BEC5",
                "#B0BEC5",
                "#B0BEC5",
                "#B0BEC5",
                "#B0BEC5",
                "#B0BEC5",
                "#B0BEC5",
                "#B0BEC5",
                "#B0BEC5",
                "#B0BEC5",
                "#B0BEC5",
                "#B0BEC5",
                "#B0BEC5",
                "#B0BEC5",
                "#B0BEC5",
                "#B0BEC5",
                "#B0BEC5",
                "#B0BEC5",
                "#B0BEC5",
                "#B0BEC5",
                "#B0BEC5"
               ]
              ]
             }
            ],
            "label": "Topic 12",
            "method": "update"
           },
           {
            "args": [
             {
              "marker.color": [
               [
                "#B0BEC5",
                "#B0BEC5",
                "#B0BEC5",
                "#B0BEC5",
                "#B0BEC5",
                "#B0BEC5",
                "#B0BEC5",
                "#B0BEC5",
                "#B0BEC5",
                "#B0BEC5",
                "#B0BEC5",
                "#B0BEC5",
                "#B0BEC5",
                "red",
                "#B0BEC5",
                "#B0BEC5",
                "#B0BEC5",
                "#B0BEC5",
                "#B0BEC5",
                "#B0BEC5",
                "#B0BEC5",
                "#B0BEC5",
                "#B0BEC5",
                "#B0BEC5",
                "#B0BEC5",
                "#B0BEC5",
                "#B0BEC5",
                "#B0BEC5",
                "#B0BEC5",
                "#B0BEC5",
                "#B0BEC5",
                "#B0BEC5",
                "#B0BEC5",
                "#B0BEC5",
                "#B0BEC5",
                "#B0BEC5",
                "#B0BEC5",
                "#B0BEC5",
                "#B0BEC5",
                "#B0BEC5",
                "#B0BEC5",
                "#B0BEC5"
               ]
              ]
             }
            ],
            "label": "Topic 13",
            "method": "update"
           },
           {
            "args": [
             {
              "marker.color": [
               [
                "#B0BEC5",
                "#B0BEC5",
                "#B0BEC5",
                "#B0BEC5",
                "#B0BEC5",
                "#B0BEC5",
                "#B0BEC5",
                "#B0BEC5",
                "#B0BEC5",
                "#B0BEC5",
                "#B0BEC5",
                "#B0BEC5",
                "#B0BEC5",
                "#B0BEC5",
                "red",
                "#B0BEC5",
                "#B0BEC5",
                "#B0BEC5",
                "#B0BEC5",
                "#B0BEC5",
                "#B0BEC5",
                "#B0BEC5",
                "#B0BEC5",
                "#B0BEC5",
                "#B0BEC5",
                "#B0BEC5",
                "#B0BEC5",
                "#B0BEC5",
                "#B0BEC5",
                "#B0BEC5",
                "#B0BEC5",
                "#B0BEC5",
                "#B0BEC5",
                "#B0BEC5",
                "#B0BEC5",
                "#B0BEC5",
                "#B0BEC5",
                "#B0BEC5",
                "#B0BEC5",
                "#B0BEC5",
                "#B0BEC5",
                "#B0BEC5"
               ]
              ]
             }
            ],
            "label": "Topic 14",
            "method": "update"
           },
           {
            "args": [
             {
              "marker.color": [
               [
                "#B0BEC5",
                "#B0BEC5",
                "#B0BEC5",
                "#B0BEC5",
                "#B0BEC5",
                "#B0BEC5",
                "#B0BEC5",
                "#B0BEC5",
                "#B0BEC5",
                "#B0BEC5",
                "#B0BEC5",
                "#B0BEC5",
                "#B0BEC5",
                "#B0BEC5",
                "#B0BEC5",
                "red",
                "#B0BEC5",
                "#B0BEC5",
                "#B0BEC5",
                "#B0BEC5",
                "#B0BEC5",
                "#B0BEC5",
                "#B0BEC5",
                "#B0BEC5",
                "#B0BEC5",
                "#B0BEC5",
                "#B0BEC5",
                "#B0BEC5",
                "#B0BEC5",
                "#B0BEC5",
                "#B0BEC5",
                "#B0BEC5",
                "#B0BEC5",
                "#B0BEC5",
                "#B0BEC5",
                "#B0BEC5",
                "#B0BEC5",
                "#B0BEC5",
                "#B0BEC5",
                "#B0BEC5",
                "#B0BEC5",
                "#B0BEC5"
               ]
              ]
             }
            ],
            "label": "Topic 15",
            "method": "update"
           },
           {
            "args": [
             {
              "marker.color": [
               [
                "#B0BEC5",
                "#B0BEC5",
                "#B0BEC5",
                "#B0BEC5",
                "#B0BEC5",
                "#B0BEC5",
                "#B0BEC5",
                "#B0BEC5",
                "#B0BEC5",
                "#B0BEC5",
                "#B0BEC5",
                "#B0BEC5",
                "#B0BEC5",
                "#B0BEC5",
                "#B0BEC5",
                "#B0BEC5",
                "red",
                "#B0BEC5",
                "#B0BEC5",
                "#B0BEC5",
                "#B0BEC5",
                "#B0BEC5",
                "#B0BEC5",
                "#B0BEC5",
                "#B0BEC5",
                "#B0BEC5",
                "#B0BEC5",
                "#B0BEC5",
                "#B0BEC5",
                "#B0BEC5",
                "#B0BEC5",
                "#B0BEC5",
                "#B0BEC5",
                "#B0BEC5",
                "#B0BEC5",
                "#B0BEC5",
                "#B0BEC5",
                "#B0BEC5",
                "#B0BEC5",
                "#B0BEC5",
                "#B0BEC5",
                "#B0BEC5"
               ]
              ]
             }
            ],
            "label": "Topic 16",
            "method": "update"
           },
           {
            "args": [
             {
              "marker.color": [
               [
                "#B0BEC5",
                "#B0BEC5",
                "#B0BEC5",
                "#B0BEC5",
                "#B0BEC5",
                "#B0BEC5",
                "#B0BEC5",
                "#B0BEC5",
                "#B0BEC5",
                "#B0BEC5",
                "#B0BEC5",
                "#B0BEC5",
                "#B0BEC5",
                "#B0BEC5",
                "#B0BEC5",
                "#B0BEC5",
                "#B0BEC5",
                "red",
                "#B0BEC5",
                "#B0BEC5",
                "#B0BEC5",
                "#B0BEC5",
                "#B0BEC5",
                "#B0BEC5",
                "#B0BEC5",
                "#B0BEC5",
                "#B0BEC5",
                "#B0BEC5",
                "#B0BEC5",
                "#B0BEC5",
                "#B0BEC5",
                "#B0BEC5",
                "#B0BEC5",
                "#B0BEC5",
                "#B0BEC5",
                "#B0BEC5",
                "#B0BEC5",
                "#B0BEC5",
                "#B0BEC5",
                "#B0BEC5",
                "#B0BEC5",
                "#B0BEC5"
               ]
              ]
             }
            ],
            "label": "Topic 17",
            "method": "update"
           },
           {
            "args": [
             {
              "marker.color": [
               [
                "#B0BEC5",
                "#B0BEC5",
                "#B0BEC5",
                "#B0BEC5",
                "#B0BEC5",
                "#B0BEC5",
                "#B0BEC5",
                "#B0BEC5",
                "#B0BEC5",
                "#B0BEC5",
                "#B0BEC5",
                "#B0BEC5",
                "#B0BEC5",
                "#B0BEC5",
                "#B0BEC5",
                "#B0BEC5",
                "#B0BEC5",
                "#B0BEC5",
                "red",
                "#B0BEC5",
                "#B0BEC5",
                "#B0BEC5",
                "#B0BEC5",
                "#B0BEC5",
                "#B0BEC5",
                "#B0BEC5",
                "#B0BEC5",
                "#B0BEC5",
                "#B0BEC5",
                "#B0BEC5",
                "#B0BEC5",
                "#B0BEC5",
                "#B0BEC5",
                "#B0BEC5",
                "#B0BEC5",
                "#B0BEC5",
                "#B0BEC5",
                "#B0BEC5",
                "#B0BEC5",
                "#B0BEC5",
                "#B0BEC5",
                "#B0BEC5"
               ]
              ]
             }
            ],
            "label": "Topic 18",
            "method": "update"
           },
           {
            "args": [
             {
              "marker.color": [
               [
                "#B0BEC5",
                "#B0BEC5",
                "#B0BEC5",
                "#B0BEC5",
                "#B0BEC5",
                "#B0BEC5",
                "#B0BEC5",
                "#B0BEC5",
                "#B0BEC5",
                "#B0BEC5",
                "#B0BEC5",
                "#B0BEC5",
                "#B0BEC5",
                "#B0BEC5",
                "#B0BEC5",
                "#B0BEC5",
                "#B0BEC5",
                "#B0BEC5",
                "#B0BEC5",
                "red",
                "#B0BEC5",
                "#B0BEC5",
                "#B0BEC5",
                "#B0BEC5",
                "#B0BEC5",
                "#B0BEC5",
                "#B0BEC5",
                "#B0BEC5",
                "#B0BEC5",
                "#B0BEC5",
                "#B0BEC5",
                "#B0BEC5",
                "#B0BEC5",
                "#B0BEC5",
                "#B0BEC5",
                "#B0BEC5",
                "#B0BEC5",
                "#B0BEC5",
                "#B0BEC5",
                "#B0BEC5",
                "#B0BEC5",
                "#B0BEC5"
               ]
              ]
             }
            ],
            "label": "Topic 19",
            "method": "update"
           },
           {
            "args": [
             {
              "marker.color": [
               [
                "#B0BEC5",
                "#B0BEC5",
                "#B0BEC5",
                "#B0BEC5",
                "#B0BEC5",
                "#B0BEC5",
                "#B0BEC5",
                "#B0BEC5",
                "#B0BEC5",
                "#B0BEC5",
                "#B0BEC5",
                "#B0BEC5",
                "#B0BEC5",
                "#B0BEC5",
                "#B0BEC5",
                "#B0BEC5",
                "#B0BEC5",
                "#B0BEC5",
                "#B0BEC5",
                "#B0BEC5",
                "red",
                "#B0BEC5",
                "#B0BEC5",
                "#B0BEC5",
                "#B0BEC5",
                "#B0BEC5",
                "#B0BEC5",
                "#B0BEC5",
                "#B0BEC5",
                "#B0BEC5",
                "#B0BEC5",
                "#B0BEC5",
                "#B0BEC5",
                "#B0BEC5",
                "#B0BEC5",
                "#B0BEC5",
                "#B0BEC5",
                "#B0BEC5",
                "#B0BEC5",
                "#B0BEC5",
                "#B0BEC5",
                "#B0BEC5"
               ]
              ]
             }
            ],
            "label": "Topic 20",
            "method": "update"
           },
           {
            "args": [
             {
              "marker.color": [
               [
                "#B0BEC5",
                "#B0BEC5",
                "#B0BEC5",
                "#B0BEC5",
                "#B0BEC5",
                "#B0BEC5",
                "#B0BEC5",
                "#B0BEC5",
                "#B0BEC5",
                "#B0BEC5",
                "#B0BEC5",
                "#B0BEC5",
                "#B0BEC5",
                "#B0BEC5",
                "#B0BEC5",
                "#B0BEC5",
                "#B0BEC5",
                "#B0BEC5",
                "#B0BEC5",
                "#B0BEC5",
                "#B0BEC5",
                "red",
                "#B0BEC5",
                "#B0BEC5",
                "#B0BEC5",
                "#B0BEC5",
                "#B0BEC5",
                "#B0BEC5",
                "#B0BEC5",
                "#B0BEC5",
                "#B0BEC5",
                "#B0BEC5",
                "#B0BEC5",
                "#B0BEC5",
                "#B0BEC5",
                "#B0BEC5",
                "#B0BEC5",
                "#B0BEC5",
                "#B0BEC5",
                "#B0BEC5",
                "#B0BEC5",
                "#B0BEC5"
               ]
              ]
             }
            ],
            "label": "Topic 21",
            "method": "update"
           },
           {
            "args": [
             {
              "marker.color": [
               [
                "#B0BEC5",
                "#B0BEC5",
                "#B0BEC5",
                "#B0BEC5",
                "#B0BEC5",
                "#B0BEC5",
                "#B0BEC5",
                "#B0BEC5",
                "#B0BEC5",
                "#B0BEC5",
                "#B0BEC5",
                "#B0BEC5",
                "#B0BEC5",
                "#B0BEC5",
                "#B0BEC5",
                "#B0BEC5",
                "#B0BEC5",
                "#B0BEC5",
                "#B0BEC5",
                "#B0BEC5",
                "#B0BEC5",
                "#B0BEC5",
                "red",
                "#B0BEC5",
                "#B0BEC5",
                "#B0BEC5",
                "#B0BEC5",
                "#B0BEC5",
                "#B0BEC5",
                "#B0BEC5",
                "#B0BEC5",
                "#B0BEC5",
                "#B0BEC5",
                "#B0BEC5",
                "#B0BEC5",
                "#B0BEC5",
                "#B0BEC5",
                "#B0BEC5",
                "#B0BEC5",
                "#B0BEC5",
                "#B0BEC5",
                "#B0BEC5"
               ]
              ]
             }
            ],
            "label": "Topic 22",
            "method": "update"
           },
           {
            "args": [
             {
              "marker.color": [
               [
                "#B0BEC5",
                "#B0BEC5",
                "#B0BEC5",
                "#B0BEC5",
                "#B0BEC5",
                "#B0BEC5",
                "#B0BEC5",
                "#B0BEC5",
                "#B0BEC5",
                "#B0BEC5",
                "#B0BEC5",
                "#B0BEC5",
                "#B0BEC5",
                "#B0BEC5",
                "#B0BEC5",
                "#B0BEC5",
                "#B0BEC5",
                "#B0BEC5",
                "#B0BEC5",
                "#B0BEC5",
                "#B0BEC5",
                "#B0BEC5",
                "#B0BEC5",
                "red",
                "#B0BEC5",
                "#B0BEC5",
                "#B0BEC5",
                "#B0BEC5",
                "#B0BEC5",
                "#B0BEC5",
                "#B0BEC5",
                "#B0BEC5",
                "#B0BEC5",
                "#B0BEC5",
                "#B0BEC5",
                "#B0BEC5",
                "#B0BEC5",
                "#B0BEC5",
                "#B0BEC5",
                "#B0BEC5",
                "#B0BEC5",
                "#B0BEC5"
               ]
              ]
             }
            ],
            "label": "Topic 23",
            "method": "update"
           },
           {
            "args": [
             {
              "marker.color": [
               [
                "#B0BEC5",
                "#B0BEC5",
                "#B0BEC5",
                "#B0BEC5",
                "#B0BEC5",
                "#B0BEC5",
                "#B0BEC5",
                "#B0BEC5",
                "#B0BEC5",
                "#B0BEC5",
                "#B0BEC5",
                "#B0BEC5",
                "#B0BEC5",
                "#B0BEC5",
                "#B0BEC5",
                "#B0BEC5",
                "#B0BEC5",
                "#B0BEC5",
                "#B0BEC5",
                "#B0BEC5",
                "#B0BEC5",
                "#B0BEC5",
                "#B0BEC5",
                "#B0BEC5",
                "red",
                "#B0BEC5",
                "#B0BEC5",
                "#B0BEC5",
                "#B0BEC5",
                "#B0BEC5",
                "#B0BEC5",
                "#B0BEC5",
                "#B0BEC5",
                "#B0BEC5",
                "#B0BEC5",
                "#B0BEC5",
                "#B0BEC5",
                "#B0BEC5",
                "#B0BEC5",
                "#B0BEC5",
                "#B0BEC5",
                "#B0BEC5"
               ]
              ]
             }
            ],
            "label": "Topic 24",
            "method": "update"
           },
           {
            "args": [
             {
              "marker.color": [
               [
                "#B0BEC5",
                "#B0BEC5",
                "#B0BEC5",
                "#B0BEC5",
                "#B0BEC5",
                "#B0BEC5",
                "#B0BEC5",
                "#B0BEC5",
                "#B0BEC5",
                "#B0BEC5",
                "#B0BEC5",
                "#B0BEC5",
                "#B0BEC5",
                "#B0BEC5",
                "#B0BEC5",
                "#B0BEC5",
                "#B0BEC5",
                "#B0BEC5",
                "#B0BEC5",
                "#B0BEC5",
                "#B0BEC5",
                "#B0BEC5",
                "#B0BEC5",
                "#B0BEC5",
                "#B0BEC5",
                "red",
                "#B0BEC5",
                "#B0BEC5",
                "#B0BEC5",
                "#B0BEC5",
                "#B0BEC5",
                "#B0BEC5",
                "#B0BEC5",
                "#B0BEC5",
                "#B0BEC5",
                "#B0BEC5",
                "#B0BEC5",
                "#B0BEC5",
                "#B0BEC5",
                "#B0BEC5",
                "#B0BEC5",
                "#B0BEC5"
               ]
              ]
             }
            ],
            "label": "Topic 25",
            "method": "update"
           },
           {
            "args": [
             {
              "marker.color": [
               [
                "#B0BEC5",
                "#B0BEC5",
                "#B0BEC5",
                "#B0BEC5",
                "#B0BEC5",
                "#B0BEC5",
                "#B0BEC5",
                "#B0BEC5",
                "#B0BEC5",
                "#B0BEC5",
                "#B0BEC5",
                "#B0BEC5",
                "#B0BEC5",
                "#B0BEC5",
                "#B0BEC5",
                "#B0BEC5",
                "#B0BEC5",
                "#B0BEC5",
                "#B0BEC5",
                "#B0BEC5",
                "#B0BEC5",
                "#B0BEC5",
                "#B0BEC5",
                "#B0BEC5",
                "#B0BEC5",
                "#B0BEC5",
                "red",
                "#B0BEC5",
                "#B0BEC5",
                "#B0BEC5",
                "#B0BEC5",
                "#B0BEC5",
                "#B0BEC5",
                "#B0BEC5",
                "#B0BEC5",
                "#B0BEC5",
                "#B0BEC5",
                "#B0BEC5",
                "#B0BEC5",
                "#B0BEC5",
                "#B0BEC5",
                "#B0BEC5"
               ]
              ]
             }
            ],
            "label": "Topic 26",
            "method": "update"
           },
           {
            "args": [
             {
              "marker.color": [
               [
                "#B0BEC5",
                "#B0BEC5",
                "#B0BEC5",
                "#B0BEC5",
                "#B0BEC5",
                "#B0BEC5",
                "#B0BEC5",
                "#B0BEC5",
                "#B0BEC5",
                "#B0BEC5",
                "#B0BEC5",
                "#B0BEC5",
                "#B0BEC5",
                "#B0BEC5",
                "#B0BEC5",
                "#B0BEC5",
                "#B0BEC5",
                "#B0BEC5",
                "#B0BEC5",
                "#B0BEC5",
                "#B0BEC5",
                "#B0BEC5",
                "#B0BEC5",
                "#B0BEC5",
                "#B0BEC5",
                "#B0BEC5",
                "#B0BEC5",
                "red",
                "#B0BEC5",
                "#B0BEC5",
                "#B0BEC5",
                "#B0BEC5",
                "#B0BEC5",
                "#B0BEC5",
                "#B0BEC5",
                "#B0BEC5",
                "#B0BEC5",
                "#B0BEC5",
                "#B0BEC5",
                "#B0BEC5",
                "#B0BEC5",
                "#B0BEC5"
               ]
              ]
             }
            ],
            "label": "Topic 27",
            "method": "update"
           },
           {
            "args": [
             {
              "marker.color": [
               [
                "#B0BEC5",
                "#B0BEC5",
                "#B0BEC5",
                "#B0BEC5",
                "#B0BEC5",
                "#B0BEC5",
                "#B0BEC5",
                "#B0BEC5",
                "#B0BEC5",
                "#B0BEC5",
                "#B0BEC5",
                "#B0BEC5",
                "#B0BEC5",
                "#B0BEC5",
                "#B0BEC5",
                "#B0BEC5",
                "#B0BEC5",
                "#B0BEC5",
                "#B0BEC5",
                "#B0BEC5",
                "#B0BEC5",
                "#B0BEC5",
                "#B0BEC5",
                "#B0BEC5",
                "#B0BEC5",
                "#B0BEC5",
                "#B0BEC5",
                "#B0BEC5",
                "red",
                "#B0BEC5",
                "#B0BEC5",
                "#B0BEC5",
                "#B0BEC5",
                "#B0BEC5",
                "#B0BEC5",
                "#B0BEC5",
                "#B0BEC5",
                "#B0BEC5",
                "#B0BEC5",
                "#B0BEC5",
                "#B0BEC5",
                "#B0BEC5"
               ]
              ]
             }
            ],
            "label": "Topic 28",
            "method": "update"
           },
           {
            "args": [
             {
              "marker.color": [
               [
                "#B0BEC5",
                "#B0BEC5",
                "#B0BEC5",
                "#B0BEC5",
                "#B0BEC5",
                "#B0BEC5",
                "#B0BEC5",
                "#B0BEC5",
                "#B0BEC5",
                "#B0BEC5",
                "#B0BEC5",
                "#B0BEC5",
                "#B0BEC5",
                "#B0BEC5",
                "#B0BEC5",
                "#B0BEC5",
                "#B0BEC5",
                "#B0BEC5",
                "#B0BEC5",
                "#B0BEC5",
                "#B0BEC5",
                "#B0BEC5",
                "#B0BEC5",
                "#B0BEC5",
                "#B0BEC5",
                "#B0BEC5",
                "#B0BEC5",
                "#B0BEC5",
                "#B0BEC5",
                "red",
                "#B0BEC5",
                "#B0BEC5",
                "#B0BEC5",
                "#B0BEC5",
                "#B0BEC5",
                "#B0BEC5",
                "#B0BEC5",
                "#B0BEC5",
                "#B0BEC5",
                "#B0BEC5",
                "#B0BEC5",
                "#B0BEC5"
               ]
              ]
             }
            ],
            "label": "Topic 29",
            "method": "update"
           },
           {
            "args": [
             {
              "marker.color": [
               [
                "#B0BEC5",
                "#B0BEC5",
                "#B0BEC5",
                "#B0BEC5",
                "#B0BEC5",
                "#B0BEC5",
                "#B0BEC5",
                "#B0BEC5",
                "#B0BEC5",
                "#B0BEC5",
                "#B0BEC5",
                "#B0BEC5",
                "#B0BEC5",
                "#B0BEC5",
                "#B0BEC5",
                "#B0BEC5",
                "#B0BEC5",
                "#B0BEC5",
                "#B0BEC5",
                "#B0BEC5",
                "#B0BEC5",
                "#B0BEC5",
                "#B0BEC5",
                "#B0BEC5",
                "#B0BEC5",
                "#B0BEC5",
                "#B0BEC5",
                "#B0BEC5",
                "#B0BEC5",
                "#B0BEC5",
                "red",
                "#B0BEC5",
                "#B0BEC5",
                "#B0BEC5",
                "#B0BEC5",
                "#B0BEC5",
                "#B0BEC5",
                "#B0BEC5",
                "#B0BEC5",
                "#B0BEC5",
                "#B0BEC5",
                "#B0BEC5"
               ]
              ]
             }
            ],
            "label": "Topic 30",
            "method": "update"
           },
           {
            "args": [
             {
              "marker.color": [
               [
                "#B0BEC5",
                "#B0BEC5",
                "#B0BEC5",
                "#B0BEC5",
                "#B0BEC5",
                "#B0BEC5",
                "#B0BEC5",
                "#B0BEC5",
                "#B0BEC5",
                "#B0BEC5",
                "#B0BEC5",
                "#B0BEC5",
                "#B0BEC5",
                "#B0BEC5",
                "#B0BEC5",
                "#B0BEC5",
                "#B0BEC5",
                "#B0BEC5",
                "#B0BEC5",
                "#B0BEC5",
                "#B0BEC5",
                "#B0BEC5",
                "#B0BEC5",
                "#B0BEC5",
                "#B0BEC5",
                "#B0BEC5",
                "#B0BEC5",
                "#B0BEC5",
                "#B0BEC5",
                "#B0BEC5",
                "#B0BEC5",
                "red",
                "#B0BEC5",
                "#B0BEC5",
                "#B0BEC5",
                "#B0BEC5",
                "#B0BEC5",
                "#B0BEC5",
                "#B0BEC5",
                "#B0BEC5",
                "#B0BEC5",
                "#B0BEC5"
               ]
              ]
             }
            ],
            "label": "Topic 31",
            "method": "update"
           },
           {
            "args": [
             {
              "marker.color": [
               [
                "#B0BEC5",
                "#B0BEC5",
                "#B0BEC5",
                "#B0BEC5",
                "#B0BEC5",
                "#B0BEC5",
                "#B0BEC5",
                "#B0BEC5",
                "#B0BEC5",
                "#B0BEC5",
                "#B0BEC5",
                "#B0BEC5",
                "#B0BEC5",
                "#B0BEC5",
                "#B0BEC5",
                "#B0BEC5",
                "#B0BEC5",
                "#B0BEC5",
                "#B0BEC5",
                "#B0BEC5",
                "#B0BEC5",
                "#B0BEC5",
                "#B0BEC5",
                "#B0BEC5",
                "#B0BEC5",
                "#B0BEC5",
                "#B0BEC5",
                "#B0BEC5",
                "#B0BEC5",
                "#B0BEC5",
                "#B0BEC5",
                "#B0BEC5",
                "red",
                "#B0BEC5",
                "#B0BEC5",
                "#B0BEC5",
                "#B0BEC5",
                "#B0BEC5",
                "#B0BEC5",
                "#B0BEC5",
                "#B0BEC5",
                "#B0BEC5"
               ]
              ]
             }
            ],
            "label": "Topic 32",
            "method": "update"
           },
           {
            "args": [
             {
              "marker.color": [
               [
                "#B0BEC5",
                "#B0BEC5",
                "#B0BEC5",
                "#B0BEC5",
                "#B0BEC5",
                "#B0BEC5",
                "#B0BEC5",
                "#B0BEC5",
                "#B0BEC5",
                "#B0BEC5",
                "#B0BEC5",
                "#B0BEC5",
                "#B0BEC5",
                "#B0BEC5",
                "#B0BEC5",
                "#B0BEC5",
                "#B0BEC5",
                "#B0BEC5",
                "#B0BEC5",
                "#B0BEC5",
                "#B0BEC5",
                "#B0BEC5",
                "#B0BEC5",
                "#B0BEC5",
                "#B0BEC5",
                "#B0BEC5",
                "#B0BEC5",
                "#B0BEC5",
                "#B0BEC5",
                "#B0BEC5",
                "#B0BEC5",
                "#B0BEC5",
                "#B0BEC5",
                "red",
                "#B0BEC5",
                "#B0BEC5",
                "#B0BEC5",
                "#B0BEC5",
                "#B0BEC5",
                "#B0BEC5",
                "#B0BEC5",
                "#B0BEC5"
               ]
              ]
             }
            ],
            "label": "Topic 33",
            "method": "update"
           },
           {
            "args": [
             {
              "marker.color": [
               [
                "#B0BEC5",
                "#B0BEC5",
                "#B0BEC5",
                "#B0BEC5",
                "#B0BEC5",
                "#B0BEC5",
                "#B0BEC5",
                "#B0BEC5",
                "#B0BEC5",
                "#B0BEC5",
                "#B0BEC5",
                "#B0BEC5",
                "#B0BEC5",
                "#B0BEC5",
                "#B0BEC5",
                "#B0BEC5",
                "#B0BEC5",
                "#B0BEC5",
                "#B0BEC5",
                "#B0BEC5",
                "#B0BEC5",
                "#B0BEC5",
                "#B0BEC5",
                "#B0BEC5",
                "#B0BEC5",
                "#B0BEC5",
                "#B0BEC5",
                "#B0BEC5",
                "#B0BEC5",
                "#B0BEC5",
                "#B0BEC5",
                "#B0BEC5",
                "#B0BEC5",
                "#B0BEC5",
                "red",
                "#B0BEC5",
                "#B0BEC5",
                "#B0BEC5",
                "#B0BEC5",
                "#B0BEC5",
                "#B0BEC5",
                "#B0BEC5"
               ]
              ]
             }
            ],
            "label": "Topic 34",
            "method": "update"
           },
           {
            "args": [
             {
              "marker.color": [
               [
                "#B0BEC5",
                "#B0BEC5",
                "#B0BEC5",
                "#B0BEC5",
                "#B0BEC5",
                "#B0BEC5",
                "#B0BEC5",
                "#B0BEC5",
                "#B0BEC5",
                "#B0BEC5",
                "#B0BEC5",
                "#B0BEC5",
                "#B0BEC5",
                "#B0BEC5",
                "#B0BEC5",
                "#B0BEC5",
                "#B0BEC5",
                "#B0BEC5",
                "#B0BEC5",
                "#B0BEC5",
                "#B0BEC5",
                "#B0BEC5",
                "#B0BEC5",
                "#B0BEC5",
                "#B0BEC5",
                "#B0BEC5",
                "#B0BEC5",
                "#B0BEC5",
                "#B0BEC5",
                "#B0BEC5",
                "#B0BEC5",
                "#B0BEC5",
                "#B0BEC5",
                "#B0BEC5",
                "#B0BEC5",
                "red",
                "#B0BEC5",
                "#B0BEC5",
                "#B0BEC5",
                "#B0BEC5",
                "#B0BEC5",
                "#B0BEC5"
               ]
              ]
             }
            ],
            "label": "Topic 35",
            "method": "update"
           },
           {
            "args": [
             {
              "marker.color": [
               [
                "#B0BEC5",
                "#B0BEC5",
                "#B0BEC5",
                "#B0BEC5",
                "#B0BEC5",
                "#B0BEC5",
                "#B0BEC5",
                "#B0BEC5",
                "#B0BEC5",
                "#B0BEC5",
                "#B0BEC5",
                "#B0BEC5",
                "#B0BEC5",
                "#B0BEC5",
                "#B0BEC5",
                "#B0BEC5",
                "#B0BEC5",
                "#B0BEC5",
                "#B0BEC5",
                "#B0BEC5",
                "#B0BEC5",
                "#B0BEC5",
                "#B0BEC5",
                "#B0BEC5",
                "#B0BEC5",
                "#B0BEC5",
                "#B0BEC5",
                "#B0BEC5",
                "#B0BEC5",
                "#B0BEC5",
                "#B0BEC5",
                "#B0BEC5",
                "#B0BEC5",
                "#B0BEC5",
                "#B0BEC5",
                "#B0BEC5",
                "red",
                "#B0BEC5",
                "#B0BEC5",
                "#B0BEC5",
                "#B0BEC5",
                "#B0BEC5"
               ]
              ]
             }
            ],
            "label": "Topic 36",
            "method": "update"
           },
           {
            "args": [
             {
              "marker.color": [
               [
                "#B0BEC5",
                "#B0BEC5",
                "#B0BEC5",
                "#B0BEC5",
                "#B0BEC5",
                "#B0BEC5",
                "#B0BEC5",
                "#B0BEC5",
                "#B0BEC5",
                "#B0BEC5",
                "#B0BEC5",
                "#B0BEC5",
                "#B0BEC5",
                "#B0BEC5",
                "#B0BEC5",
                "#B0BEC5",
                "#B0BEC5",
                "#B0BEC5",
                "#B0BEC5",
                "#B0BEC5",
                "#B0BEC5",
                "#B0BEC5",
                "#B0BEC5",
                "#B0BEC5",
                "#B0BEC5",
                "#B0BEC5",
                "#B0BEC5",
                "#B0BEC5",
                "#B0BEC5",
                "#B0BEC5",
                "#B0BEC5",
                "#B0BEC5",
                "#B0BEC5",
                "#B0BEC5",
                "#B0BEC5",
                "#B0BEC5",
                "#B0BEC5",
                "red",
                "#B0BEC5",
                "#B0BEC5",
                "#B0BEC5",
                "#B0BEC5"
               ]
              ]
             }
            ],
            "label": "Topic 37",
            "method": "update"
           },
           {
            "args": [
             {
              "marker.color": [
               [
                "#B0BEC5",
                "#B0BEC5",
                "#B0BEC5",
                "#B0BEC5",
                "#B0BEC5",
                "#B0BEC5",
                "#B0BEC5",
                "#B0BEC5",
                "#B0BEC5",
                "#B0BEC5",
                "#B0BEC5",
                "#B0BEC5",
                "#B0BEC5",
                "#B0BEC5",
                "#B0BEC5",
                "#B0BEC5",
                "#B0BEC5",
                "#B0BEC5",
                "#B0BEC5",
                "#B0BEC5",
                "#B0BEC5",
                "#B0BEC5",
                "#B0BEC5",
                "#B0BEC5",
                "#B0BEC5",
                "#B0BEC5",
                "#B0BEC5",
                "#B0BEC5",
                "#B0BEC5",
                "#B0BEC5",
                "#B0BEC5",
                "#B0BEC5",
                "#B0BEC5",
                "#B0BEC5",
                "#B0BEC5",
                "#B0BEC5",
                "#B0BEC5",
                "#B0BEC5",
                "red",
                "#B0BEC5",
                "#B0BEC5",
                "#B0BEC5"
               ]
              ]
             }
            ],
            "label": "Topic 38",
            "method": "update"
           },
           {
            "args": [
             {
              "marker.color": [
               [
                "#B0BEC5",
                "#B0BEC5",
                "#B0BEC5",
                "#B0BEC5",
                "#B0BEC5",
                "#B0BEC5",
                "#B0BEC5",
                "#B0BEC5",
                "#B0BEC5",
                "#B0BEC5",
                "#B0BEC5",
                "#B0BEC5",
                "#B0BEC5",
                "#B0BEC5",
                "#B0BEC5",
                "#B0BEC5",
                "#B0BEC5",
                "#B0BEC5",
                "#B0BEC5",
                "#B0BEC5",
                "#B0BEC5",
                "#B0BEC5",
                "#B0BEC5",
                "#B0BEC5",
                "#B0BEC5",
                "#B0BEC5",
                "#B0BEC5",
                "#B0BEC5",
                "#B0BEC5",
                "#B0BEC5",
                "#B0BEC5",
                "#B0BEC5",
                "#B0BEC5",
                "#B0BEC5",
                "#B0BEC5",
                "#B0BEC5",
                "#B0BEC5",
                "#B0BEC5",
                "#B0BEC5",
                "red",
                "#B0BEC5",
                "#B0BEC5"
               ]
              ]
             }
            ],
            "label": "Topic 39",
            "method": "update"
           },
           {
            "args": [
             {
              "marker.color": [
               [
                "#B0BEC5",
                "#B0BEC5",
                "#B0BEC5",
                "#B0BEC5",
                "#B0BEC5",
                "#B0BEC5",
                "#B0BEC5",
                "#B0BEC5",
                "#B0BEC5",
                "#B0BEC5",
                "#B0BEC5",
                "#B0BEC5",
                "#B0BEC5",
                "#B0BEC5",
                "#B0BEC5",
                "#B0BEC5",
                "#B0BEC5",
                "#B0BEC5",
                "#B0BEC5",
                "#B0BEC5",
                "#B0BEC5",
                "#B0BEC5",
                "#B0BEC5",
                "#B0BEC5",
                "#B0BEC5",
                "#B0BEC5",
                "#B0BEC5",
                "#B0BEC5",
                "#B0BEC5",
                "#B0BEC5",
                "#B0BEC5",
                "#B0BEC5",
                "#B0BEC5",
                "#B0BEC5",
                "#B0BEC5",
                "#B0BEC5",
                "#B0BEC5",
                "#B0BEC5",
                "#B0BEC5",
                "#B0BEC5",
                "red",
                "#B0BEC5"
               ]
              ]
             }
            ],
            "label": "Topic 40",
            "method": "update"
           },
           {
            "args": [
             {
              "marker.color": [
               [
                "#B0BEC5",
                "#B0BEC5",
                "#B0BEC5",
                "#B0BEC5",
                "#B0BEC5",
                "#B0BEC5",
                "#B0BEC5",
                "#B0BEC5",
                "#B0BEC5",
                "#B0BEC5",
                "#B0BEC5",
                "#B0BEC5",
                "#B0BEC5",
                "#B0BEC5",
                "#B0BEC5",
                "#B0BEC5",
                "#B0BEC5",
                "#B0BEC5",
                "#B0BEC5",
                "#B0BEC5",
                "#B0BEC5",
                "#B0BEC5",
                "#B0BEC5",
                "#B0BEC5",
                "#B0BEC5",
                "#B0BEC5",
                "#B0BEC5",
                "#B0BEC5",
                "#B0BEC5",
                "#B0BEC5",
                "#B0BEC5",
                "#B0BEC5",
                "#B0BEC5",
                "#B0BEC5",
                "#B0BEC5",
                "#B0BEC5",
                "#B0BEC5",
                "#B0BEC5",
                "#B0BEC5",
                "#B0BEC5",
                "#B0BEC5",
                "red"
               ]
              ]
             }
            ],
            "label": "Topic 41",
            "method": "update"
           }
          ]
         }
        ],
        "template": {
         "data": {
          "bar": [
           {
            "error_x": {
             "color": "rgb(36,36,36)"
            },
            "error_y": {
             "color": "rgb(36,36,36)"
            },
            "marker": {
             "line": {
              "color": "white",
              "width": 0.5
             },
             "pattern": {
              "fillmode": "overlay",
              "size": 10,
              "solidity": 0.2
             }
            },
            "type": "bar"
           }
          ],
          "barpolar": [
           {
            "marker": {
             "line": {
              "color": "white",
              "width": 0.5
             },
             "pattern": {
              "fillmode": "overlay",
              "size": 10,
              "solidity": 0.2
             }
            },
            "type": "barpolar"
           }
          ],
          "carpet": [
           {
            "aaxis": {
             "endlinecolor": "rgb(36,36,36)",
             "gridcolor": "white",
             "linecolor": "white",
             "minorgridcolor": "white",
             "startlinecolor": "rgb(36,36,36)"
            },
            "baxis": {
             "endlinecolor": "rgb(36,36,36)",
             "gridcolor": "white",
             "linecolor": "white",
             "minorgridcolor": "white",
             "startlinecolor": "rgb(36,36,36)"
            },
            "type": "carpet"
           }
          ],
          "choropleth": [
           {
            "colorbar": {
             "outlinewidth": 1,
             "tickcolor": "rgb(36,36,36)",
             "ticks": "outside"
            },
            "type": "choropleth"
           }
          ],
          "contour": [
           {
            "colorbar": {
             "outlinewidth": 1,
             "tickcolor": "rgb(36,36,36)",
             "ticks": "outside"
            },
            "colorscale": [
             [
              0,
              "#440154"
             ],
             [
              0.1111111111111111,
              "#482878"
             ],
             [
              0.2222222222222222,
              "#3e4989"
             ],
             [
              0.3333333333333333,
              "#31688e"
             ],
             [
              0.4444444444444444,
              "#26828e"
             ],
             [
              0.5555555555555556,
              "#1f9e89"
             ],
             [
              0.6666666666666666,
              "#35b779"
             ],
             [
              0.7777777777777778,
              "#6ece58"
             ],
             [
              0.8888888888888888,
              "#b5de2b"
             ],
             [
              1,
              "#fde725"
             ]
            ],
            "type": "contour"
           }
          ],
          "contourcarpet": [
           {
            "colorbar": {
             "outlinewidth": 1,
             "tickcolor": "rgb(36,36,36)",
             "ticks": "outside"
            },
            "type": "contourcarpet"
           }
          ],
          "heatmap": [
           {
            "colorbar": {
             "outlinewidth": 1,
             "tickcolor": "rgb(36,36,36)",
             "ticks": "outside"
            },
            "colorscale": [
             [
              0,
              "#440154"
             ],
             [
              0.1111111111111111,
              "#482878"
             ],
             [
              0.2222222222222222,
              "#3e4989"
             ],
             [
              0.3333333333333333,
              "#31688e"
             ],
             [
              0.4444444444444444,
              "#26828e"
             ],
             [
              0.5555555555555556,
              "#1f9e89"
             ],
             [
              0.6666666666666666,
              "#35b779"
             ],
             [
              0.7777777777777778,
              "#6ece58"
             ],
             [
              0.8888888888888888,
              "#b5de2b"
             ],
             [
              1,
              "#fde725"
             ]
            ],
            "type": "heatmap"
           }
          ],
          "heatmapgl": [
           {
            "colorbar": {
             "outlinewidth": 1,
             "tickcolor": "rgb(36,36,36)",
             "ticks": "outside"
            },
            "colorscale": [
             [
              0,
              "#440154"
             ],
             [
              0.1111111111111111,
              "#482878"
             ],
             [
              0.2222222222222222,
              "#3e4989"
             ],
             [
              0.3333333333333333,
              "#31688e"
             ],
             [
              0.4444444444444444,
              "#26828e"
             ],
             [
              0.5555555555555556,
              "#1f9e89"
             ],
             [
              0.6666666666666666,
              "#35b779"
             ],
             [
              0.7777777777777778,
              "#6ece58"
             ],
             [
              0.8888888888888888,
              "#b5de2b"
             ],
             [
              1,
              "#fde725"
             ]
            ],
            "type": "heatmapgl"
           }
          ],
          "histogram": [
           {
            "marker": {
             "line": {
              "color": "white",
              "width": 0.6
             }
            },
            "type": "histogram"
           }
          ],
          "histogram2d": [
           {
            "colorbar": {
             "outlinewidth": 1,
             "tickcolor": "rgb(36,36,36)",
             "ticks": "outside"
            },
            "colorscale": [
             [
              0,
              "#440154"
             ],
             [
              0.1111111111111111,
              "#482878"
             ],
             [
              0.2222222222222222,
              "#3e4989"
             ],
             [
              0.3333333333333333,
              "#31688e"
             ],
             [
              0.4444444444444444,
              "#26828e"
             ],
             [
              0.5555555555555556,
              "#1f9e89"
             ],
             [
              0.6666666666666666,
              "#35b779"
             ],
             [
              0.7777777777777778,
              "#6ece58"
             ],
             [
              0.8888888888888888,
              "#b5de2b"
             ],
             [
              1,
              "#fde725"
             ]
            ],
            "type": "histogram2d"
           }
          ],
          "histogram2dcontour": [
           {
            "colorbar": {
             "outlinewidth": 1,
             "tickcolor": "rgb(36,36,36)",
             "ticks": "outside"
            },
            "colorscale": [
             [
              0,
              "#440154"
             ],
             [
              0.1111111111111111,
              "#482878"
             ],
             [
              0.2222222222222222,
              "#3e4989"
             ],
             [
              0.3333333333333333,
              "#31688e"
             ],
             [
              0.4444444444444444,
              "#26828e"
             ],
             [
              0.5555555555555556,
              "#1f9e89"
             ],
             [
              0.6666666666666666,
              "#35b779"
             ],
             [
              0.7777777777777778,
              "#6ece58"
             ],
             [
              0.8888888888888888,
              "#b5de2b"
             ],
             [
              1,
              "#fde725"
             ]
            ],
            "type": "histogram2dcontour"
           }
          ],
          "mesh3d": [
           {
            "colorbar": {
             "outlinewidth": 1,
             "tickcolor": "rgb(36,36,36)",
             "ticks": "outside"
            },
            "type": "mesh3d"
           }
          ],
          "parcoords": [
           {
            "line": {
             "colorbar": {
              "outlinewidth": 1,
              "tickcolor": "rgb(36,36,36)",
              "ticks": "outside"
             }
            },
            "type": "parcoords"
           }
          ],
          "pie": [
           {
            "automargin": true,
            "type": "pie"
           }
          ],
          "scatter": [
           {
            "fillpattern": {
             "fillmode": "overlay",
             "size": 10,
             "solidity": 0.2
            },
            "type": "scatter"
           }
          ],
          "scatter3d": [
           {
            "line": {
             "colorbar": {
              "outlinewidth": 1,
              "tickcolor": "rgb(36,36,36)",
              "ticks": "outside"
             }
            },
            "marker": {
             "colorbar": {
              "outlinewidth": 1,
              "tickcolor": "rgb(36,36,36)",
              "ticks": "outside"
             }
            },
            "type": "scatter3d"
           }
          ],
          "scattercarpet": [
           {
            "marker": {
             "colorbar": {
              "outlinewidth": 1,
              "tickcolor": "rgb(36,36,36)",
              "ticks": "outside"
             }
            },
            "type": "scattercarpet"
           }
          ],
          "scattergeo": [
           {
            "marker": {
             "colorbar": {
              "outlinewidth": 1,
              "tickcolor": "rgb(36,36,36)",
              "ticks": "outside"
             }
            },
            "type": "scattergeo"
           }
          ],
          "scattergl": [
           {
            "marker": {
             "colorbar": {
              "outlinewidth": 1,
              "tickcolor": "rgb(36,36,36)",
              "ticks": "outside"
             }
            },
            "type": "scattergl"
           }
          ],
          "scattermapbox": [
           {
            "marker": {
             "colorbar": {
              "outlinewidth": 1,
              "tickcolor": "rgb(36,36,36)",
              "ticks": "outside"
             }
            },
            "type": "scattermapbox"
           }
          ],
          "scatterpolar": [
           {
            "marker": {
             "colorbar": {
              "outlinewidth": 1,
              "tickcolor": "rgb(36,36,36)",
              "ticks": "outside"
             }
            },
            "type": "scatterpolar"
           }
          ],
          "scatterpolargl": [
           {
            "marker": {
             "colorbar": {
              "outlinewidth": 1,
              "tickcolor": "rgb(36,36,36)",
              "ticks": "outside"
             }
            },
            "type": "scatterpolargl"
           }
          ],
          "scatterternary": [
           {
            "marker": {
             "colorbar": {
              "outlinewidth": 1,
              "tickcolor": "rgb(36,36,36)",
              "ticks": "outside"
             }
            },
            "type": "scatterternary"
           }
          ],
          "surface": [
           {
            "colorbar": {
             "outlinewidth": 1,
             "tickcolor": "rgb(36,36,36)",
             "ticks": "outside"
            },
            "colorscale": [
             [
              0,
              "#440154"
             ],
             [
              0.1111111111111111,
              "#482878"
             ],
             [
              0.2222222222222222,
              "#3e4989"
             ],
             [
              0.3333333333333333,
              "#31688e"
             ],
             [
              0.4444444444444444,
              "#26828e"
             ],
             [
              0.5555555555555556,
              "#1f9e89"
             ],
             [
              0.6666666666666666,
              "#35b779"
             ],
             [
              0.7777777777777778,
              "#6ece58"
             ],
             [
              0.8888888888888888,
              "#b5de2b"
             ],
             [
              1,
              "#fde725"
             ]
            ],
            "type": "surface"
           }
          ],
          "table": [
           {
            "cells": {
             "fill": {
              "color": "rgb(237,237,237)"
             },
             "line": {
              "color": "white"
             }
            },
            "header": {
             "fill": {
              "color": "rgb(217,217,217)"
             },
             "line": {
              "color": "white"
             }
            },
            "type": "table"
           }
          ]
         },
         "layout": {
          "annotationdefaults": {
           "arrowhead": 0,
           "arrowwidth": 1
          },
          "autotypenumbers": "strict",
          "coloraxis": {
           "colorbar": {
            "outlinewidth": 1,
            "tickcolor": "rgb(36,36,36)",
            "ticks": "outside"
           }
          },
          "colorscale": {
           "diverging": [
            [
             0,
             "rgb(103,0,31)"
            ],
            [
             0.1,
             "rgb(178,24,43)"
            ],
            [
             0.2,
             "rgb(214,96,77)"
            ],
            [
             0.3,
             "rgb(244,165,130)"
            ],
            [
             0.4,
             "rgb(253,219,199)"
            ],
            [
             0.5,
             "rgb(247,247,247)"
            ],
            [
             0.6,
             "rgb(209,229,240)"
            ],
            [
             0.7,
             "rgb(146,197,222)"
            ],
            [
             0.8,
             "rgb(67,147,195)"
            ],
            [
             0.9,
             "rgb(33,102,172)"
            ],
            [
             1,
             "rgb(5,48,97)"
            ]
           ],
           "sequential": [
            [
             0,
             "#440154"
            ],
            [
             0.1111111111111111,
             "#482878"
            ],
            [
             0.2222222222222222,
             "#3e4989"
            ],
            [
             0.3333333333333333,
             "#31688e"
            ],
            [
             0.4444444444444444,
             "#26828e"
            ],
            [
             0.5555555555555556,
             "#1f9e89"
            ],
            [
             0.6666666666666666,
             "#35b779"
            ],
            [
             0.7777777777777778,
             "#6ece58"
            ],
            [
             0.8888888888888888,
             "#b5de2b"
            ],
            [
             1,
             "#fde725"
            ]
           ],
           "sequentialminus": [
            [
             0,
             "#440154"
            ],
            [
             0.1111111111111111,
             "#482878"
            ],
            [
             0.2222222222222222,
             "#3e4989"
            ],
            [
             0.3333333333333333,
             "#31688e"
            ],
            [
             0.4444444444444444,
             "#26828e"
            ],
            [
             0.5555555555555556,
             "#1f9e89"
            ],
            [
             0.6666666666666666,
             "#35b779"
            ],
            [
             0.7777777777777778,
             "#6ece58"
            ],
            [
             0.8888888888888888,
             "#b5de2b"
            ],
            [
             1,
             "#fde725"
            ]
           ]
          },
          "colorway": [
           "#1F77B4",
           "#FF7F0E",
           "#2CA02C",
           "#D62728",
           "#9467BD",
           "#8C564B",
           "#E377C2",
           "#7F7F7F",
           "#BCBD22",
           "#17BECF"
          ],
          "font": {
           "color": "rgb(36,36,36)"
          },
          "geo": {
           "bgcolor": "white",
           "lakecolor": "white",
           "landcolor": "white",
           "showlakes": true,
           "showland": true,
           "subunitcolor": "white"
          },
          "hoverlabel": {
           "align": "left"
          },
          "hovermode": "closest",
          "mapbox": {
           "style": "light"
          },
          "paper_bgcolor": "white",
          "plot_bgcolor": "white",
          "polar": {
           "angularaxis": {
            "gridcolor": "rgb(232,232,232)",
            "linecolor": "rgb(36,36,36)",
            "showgrid": false,
            "showline": true,
            "ticks": "outside"
           },
           "bgcolor": "white",
           "radialaxis": {
            "gridcolor": "rgb(232,232,232)",
            "linecolor": "rgb(36,36,36)",
            "showgrid": false,
            "showline": true,
            "ticks": "outside"
           }
          },
          "scene": {
           "xaxis": {
            "backgroundcolor": "white",
            "gridcolor": "rgb(232,232,232)",
            "gridwidth": 2,
            "linecolor": "rgb(36,36,36)",
            "showbackground": true,
            "showgrid": false,
            "showline": true,
            "ticks": "outside",
            "zeroline": false,
            "zerolinecolor": "rgb(36,36,36)"
           },
           "yaxis": {
            "backgroundcolor": "white",
            "gridcolor": "rgb(232,232,232)",
            "gridwidth": 2,
            "linecolor": "rgb(36,36,36)",
            "showbackground": true,
            "showgrid": false,
            "showline": true,
            "ticks": "outside",
            "zeroline": false,
            "zerolinecolor": "rgb(36,36,36)"
           },
           "zaxis": {
            "backgroundcolor": "white",
            "gridcolor": "rgb(232,232,232)",
            "gridwidth": 2,
            "linecolor": "rgb(36,36,36)",
            "showbackground": true,
            "showgrid": false,
            "showline": true,
            "ticks": "outside",
            "zeroline": false,
            "zerolinecolor": "rgb(36,36,36)"
           }
          },
          "shapedefaults": {
           "fillcolor": "black",
           "line": {
            "width": 0
           },
           "opacity": 0.3
          },
          "ternary": {
           "aaxis": {
            "gridcolor": "rgb(232,232,232)",
            "linecolor": "rgb(36,36,36)",
            "showgrid": false,
            "showline": true,
            "ticks": "outside"
           },
           "baxis": {
            "gridcolor": "rgb(232,232,232)",
            "linecolor": "rgb(36,36,36)",
            "showgrid": false,
            "showline": true,
            "ticks": "outside"
           },
           "bgcolor": "white",
           "caxis": {
            "gridcolor": "rgb(232,232,232)",
            "linecolor": "rgb(36,36,36)",
            "showgrid": false,
            "showline": true,
            "ticks": "outside"
           }
          },
          "title": {
           "x": 0.05
          },
          "xaxis": {
           "automargin": true,
           "gridcolor": "rgb(232,232,232)",
           "linecolor": "rgb(36,36,36)",
           "showgrid": false,
           "showline": true,
           "ticks": "outside",
           "title": {
            "standoff": 15
           },
           "zeroline": false,
           "zerolinecolor": "rgb(36,36,36)"
          },
          "yaxis": {
           "automargin": true,
           "gridcolor": "rgb(232,232,232)",
           "linecolor": "rgb(36,36,36)",
           "showgrid": false,
           "showline": true,
           "ticks": "outside",
           "title": {
            "standoff": 15
           },
           "zeroline": false,
           "zerolinecolor": "rgb(36,36,36)"
          }
         }
        },
        "title": {
         "font": {
          "color": "Black",
          "size": 22
         },
         "text": "<b>Intertopic Distance Map",
         "x": 0.5,
         "xanchor": "center",
         "y": 0.95,
         "yanchor": "top"
        },
        "width": 650,
        "xaxis": {
         "anchor": "y",
         "domain": [
          0,
          1
         ],
         "range": [
          -14.812613201141357,
          17.665463733673096
         ],
         "title": {
          "text": ""
         },
         "visible": false
        },
        "yaxis": {
         "anchor": "x",
         "domain": [
          0,
          1
         ],
         "range": [
          -5.830916404724121,
          20.5946946144104
         ],
         "title": {
          "text": ""
         },
         "visible": false
        }
       }
      },
      "text/html": [
       "<div>                            <div id=\"a29b7dd8-6c79-46bc-8de1-46f3dab968a7\" class=\"plotly-graph-div\" style=\"height:650px; width:650px;\"></div>            <script type=\"text/javascript\">                require([\"plotly\"], function(Plotly) {                    window.PLOTLYENV=window.PLOTLYENV || {};                                    if (document.getElementById(\"a29b7dd8-6c79-46bc-8de1-46f3dab968a7\")) {                    Plotly.newPlot(                        \"a29b7dd8-6c79-46bc-8de1-46f3dab968a7\",                        [{\"customdata\":[[0,\"bicyclist | bicycle | scooter | vehicle | car\",5771],[1,\"drown | death | autopsy | manner | swimming_pool\",3934],[2,\"ladder | fall | stair | head | decedent\",3448],[3,\"electrical | extension_cord | fire | space_heater | outlet\",3355],[4,\"apartment | candle | fire | stove | building\",3098],[5,\"toy | battery | mouth | laptop | child\",3015],[6,\"terrain_vehicle | golf_cart | autopsy | injury | decedent\",2971],[7,\"fire | house | firefighter | window | home\",2822],[8,\"nan | apneic | yet | fine | \",2625],[9,\"fall | head | floor | decedent | autopsy\",2625],[10,\"sleep | autopsy | overlay | adult | bed\",2573],[11,\"pool | boy | drown | swimming_pool | pull\",2536],[12,\"pronounce_dead | pronounce | pool | swimming_pool | hospital\",2372],[13,\"hip_fracture | floor | fall | hip | fan\",2315],[14,\"thermal | burn | inhalation | clothing | decedent\",2116],[15,\"drown | hot_tub | autopsy | pool | decedent\",1997],[16,\"glass | shower | door | shatter | oven\",1832],[17,\"chair | stroller | seat | swing | shade\",1816],[18,\"burner | grill | knob | turn | gas\",1773],[19,\"unresponsive | blanket | bed | sleep | mother\",1769],[20,\"oven | turn | toaster | rack | broiler\",1741],[21,\"atv | crash | drive | roll | lose_control\",1720],[22,\"microwave | door | turn | oven | unplug\",1666],[23,\"difluoroethane | autopsy | inhalation | decedent | inhale\",1646],[24,\"dishwasher | melt | smoke | door | cycle\",1614],[25,\"chimney | fire | home | fireplace | house\",1585],[26,\"bulb | lamp | light | fixture | base\",1579],[27,\"mower | lawn_mower | fuel | gas | tank\",1464],[28,\"carbon_monoxide | furnace | level | leak | generator\",1441],[29,\"refrigerator | freezer | fridge | ice | ice_maker\",1335],[30,\"phone | device | charge | charger | cable\",1313],[31,\"snowmobile | tree | trail | crash | accident\",1298],[32,\"firework | hand | explode | injure | injury\",1293],[33,\"pronounce_dead | ski | hospital | die | skier\",1263],[34,\"bathtub | drown | autopsy | seizure | drowning\",1226],[35,\"hip_fracture | hip | fall | floor | hospice\",1195],[36,\"blade | blender | food_processor | cut | thumb\",1154],[37,\"bicycle | head | autopsy | decedent | ride\",1099],[38,\"garage | carbon_monoxide | autopsy | inhale | run\",1090],[39,\"generator | unknown | autopsy | die | patient\",1086],[40,\"drown | swimming_pool | autopsy | hotel | decedent\",1065],[41,\"washer | machine | washing_machine | spin_cycle | load\",1062]],\"hovertemplate\":\"<b>Topic %{customdata[0]}</b><br>Words: %{customdata[1]}<br>Size: %{customdata[2]}\",\"legendgroup\":\"\",\"marker\":{\"color\":\"#B0BEC5\",\"size\":[5771,3934,3448,3355,3098,3015,2971,2822,2625,2625,2573,2536,2372,2315,2116,1997,1832,1816,1773,1769,1741,1720,1666,1646,1614,1585,1579,1464,1441,1335,1313,1298,1293,1263,1226,1195,1154,1099,1090,1086,1065,1062],\"sizemode\":\"area\",\"sizeref\":3.606875,\"symbol\":\"circle\",\"line\":{\"color\":\"DarkSlateGrey\",\"width\":2}},\"mode\":\"markers\",\"name\":\"\",\"orientation\":\"v\",\"showlegend\":false,\"x\":[-1.6548876762390137,3.171220302581787,7.565827369689941,10.22032642364502,10.60571575164795,15.26982307434082,-2.423610210418701,10.106428146362305,10.155048370361328,7.452419757843018,5.000313758850098,2.836695432662964,3.031428337097168,7.184778213500977,0.40063515305519104,-12.754789352416992,8.992819786071777,15.361272811889648,8.843920707702637,5.055624961853027,8.823136329650879,-2.1984076499938965,8.38191032409668,15.084662437438965,9.678849220275879,10.861601829528809,10.038407325744629,8.861228942871094,10.823554992675781,8.455729484558105,8.19674301147461,-1.853130578994751,10.194316864013672,-2.1286702156066895,-12.880533218383789,7.224514007568359,8.683293342590332,-2.6156649589538574,0.19503584504127502,0.06271789968013763,-12.74686336517334,8.945898056030273],\"xaxis\":\"x\",\"y\":[-5.059372425079346,13.624886512756348,-5.070362091064453,0.9579533934593201,15.000394821166992,12.98196029663086,-4.255599498748779,15.040628433227539,15.163509368896484,-4.957155704498291,17.908430099487305,13.959760665893555,13.764150619506836,-4.6845526695251465,5.559797286987305,10.077173233032227,0.5414031744003296,13.148982048034668,1.1793400049209595,17.853609085083008,0.5573216676712036,-4.510241985321045,-0.252979576587677,12.882912635803223,0.6767098903656006,14.914225578308105,0.8126813173294067,1.4009711742401123,14.755617141723633,-0.22461706399917603,-0.4378644824028015,-4.861464023590088,14.86373519897461,-4.582673072814941,10.203100204467773,-4.728326320648193,1.2598375082015991,-4.0535664558410645,5.354167938232422,5.221688270568848,10.069404602050781,0.25951218605041504],\"yaxis\":\"y\",\"type\":\"scatter\"}],                        {\"template\":{\"data\":{\"barpolar\":[{\"marker\":{\"line\":{\"color\":\"white\",\"width\":0.5},\"pattern\":{\"fillmode\":\"overlay\",\"size\":10,\"solidity\":0.2}},\"type\":\"barpolar\"}],\"bar\":[{\"error_x\":{\"color\":\"rgb(36,36,36)\"},\"error_y\":{\"color\":\"rgb(36,36,36)\"},\"marker\":{\"line\":{\"color\":\"white\",\"width\":0.5},\"pattern\":{\"fillmode\":\"overlay\",\"size\":10,\"solidity\":0.2}},\"type\":\"bar\"}],\"carpet\":[{\"aaxis\":{\"endlinecolor\":\"rgb(36,36,36)\",\"gridcolor\":\"white\",\"linecolor\":\"white\",\"minorgridcolor\":\"white\",\"startlinecolor\":\"rgb(36,36,36)\"},\"baxis\":{\"endlinecolor\":\"rgb(36,36,36)\",\"gridcolor\":\"white\",\"linecolor\":\"white\",\"minorgridcolor\":\"white\",\"startlinecolor\":\"rgb(36,36,36)\"},\"type\":\"carpet\"}],\"choropleth\":[{\"colorbar\":{\"outlinewidth\":1,\"tickcolor\":\"rgb(36,36,36)\",\"ticks\":\"outside\"},\"type\":\"choropleth\"}],\"contourcarpet\":[{\"colorbar\":{\"outlinewidth\":1,\"tickcolor\":\"rgb(36,36,36)\",\"ticks\":\"outside\"},\"type\":\"contourcarpet\"}],\"contour\":[{\"colorbar\":{\"outlinewidth\":1,\"tickcolor\":\"rgb(36,36,36)\",\"ticks\":\"outside\"},\"colorscale\":[[0.0,\"#440154\"],[0.1111111111111111,\"#482878\"],[0.2222222222222222,\"#3e4989\"],[0.3333333333333333,\"#31688e\"],[0.4444444444444444,\"#26828e\"],[0.5555555555555556,\"#1f9e89\"],[0.6666666666666666,\"#35b779\"],[0.7777777777777778,\"#6ece58\"],[0.8888888888888888,\"#b5de2b\"],[1.0,\"#fde725\"]],\"type\":\"contour\"}],\"heatmapgl\":[{\"colorbar\":{\"outlinewidth\":1,\"tickcolor\":\"rgb(36,36,36)\",\"ticks\":\"outside\"},\"colorscale\":[[0.0,\"#440154\"],[0.1111111111111111,\"#482878\"],[0.2222222222222222,\"#3e4989\"],[0.3333333333333333,\"#31688e\"],[0.4444444444444444,\"#26828e\"],[0.5555555555555556,\"#1f9e89\"],[0.6666666666666666,\"#35b779\"],[0.7777777777777778,\"#6ece58\"],[0.8888888888888888,\"#b5de2b\"],[1.0,\"#fde725\"]],\"type\":\"heatmapgl\"}],\"heatmap\":[{\"colorbar\":{\"outlinewidth\":1,\"tickcolor\":\"rgb(36,36,36)\",\"ticks\":\"outside\"},\"colorscale\":[[0.0,\"#440154\"],[0.1111111111111111,\"#482878\"],[0.2222222222222222,\"#3e4989\"],[0.3333333333333333,\"#31688e\"],[0.4444444444444444,\"#26828e\"],[0.5555555555555556,\"#1f9e89\"],[0.6666666666666666,\"#35b779\"],[0.7777777777777778,\"#6ece58\"],[0.8888888888888888,\"#b5de2b\"],[1.0,\"#fde725\"]],\"type\":\"heatmap\"}],\"histogram2dcontour\":[{\"colorbar\":{\"outlinewidth\":1,\"tickcolor\":\"rgb(36,36,36)\",\"ticks\":\"outside\"},\"colorscale\":[[0.0,\"#440154\"],[0.1111111111111111,\"#482878\"],[0.2222222222222222,\"#3e4989\"],[0.3333333333333333,\"#31688e\"],[0.4444444444444444,\"#26828e\"],[0.5555555555555556,\"#1f9e89\"],[0.6666666666666666,\"#35b779\"],[0.7777777777777778,\"#6ece58\"],[0.8888888888888888,\"#b5de2b\"],[1.0,\"#fde725\"]],\"type\":\"histogram2dcontour\"}],\"histogram2d\":[{\"colorbar\":{\"outlinewidth\":1,\"tickcolor\":\"rgb(36,36,36)\",\"ticks\":\"outside\"},\"colorscale\":[[0.0,\"#440154\"],[0.1111111111111111,\"#482878\"],[0.2222222222222222,\"#3e4989\"],[0.3333333333333333,\"#31688e\"],[0.4444444444444444,\"#26828e\"],[0.5555555555555556,\"#1f9e89\"],[0.6666666666666666,\"#35b779\"],[0.7777777777777778,\"#6ece58\"],[0.8888888888888888,\"#b5de2b\"],[1.0,\"#fde725\"]],\"type\":\"histogram2d\"}],\"histogram\":[{\"marker\":{\"line\":{\"color\":\"white\",\"width\":0.6}},\"type\":\"histogram\"}],\"mesh3d\":[{\"colorbar\":{\"outlinewidth\":1,\"tickcolor\":\"rgb(36,36,36)\",\"ticks\":\"outside\"},\"type\":\"mesh3d\"}],\"parcoords\":[{\"line\":{\"colorbar\":{\"outlinewidth\":1,\"tickcolor\":\"rgb(36,36,36)\",\"ticks\":\"outside\"}},\"type\":\"parcoords\"}],\"pie\":[{\"automargin\":true,\"type\":\"pie\"}],\"scatter3d\":[{\"line\":{\"colorbar\":{\"outlinewidth\":1,\"tickcolor\":\"rgb(36,36,36)\",\"ticks\":\"outside\"}},\"marker\":{\"colorbar\":{\"outlinewidth\":1,\"tickcolor\":\"rgb(36,36,36)\",\"ticks\":\"outside\"}},\"type\":\"scatter3d\"}],\"scattercarpet\":[{\"marker\":{\"colorbar\":{\"outlinewidth\":1,\"tickcolor\":\"rgb(36,36,36)\",\"ticks\":\"outside\"}},\"type\":\"scattercarpet\"}],\"scattergeo\":[{\"marker\":{\"colorbar\":{\"outlinewidth\":1,\"tickcolor\":\"rgb(36,36,36)\",\"ticks\":\"outside\"}},\"type\":\"scattergeo\"}],\"scattergl\":[{\"marker\":{\"colorbar\":{\"outlinewidth\":1,\"tickcolor\":\"rgb(36,36,36)\",\"ticks\":\"outside\"}},\"type\":\"scattergl\"}],\"scattermapbox\":[{\"marker\":{\"colorbar\":{\"outlinewidth\":1,\"tickcolor\":\"rgb(36,36,36)\",\"ticks\":\"outside\"}},\"type\":\"scattermapbox\"}],\"scatterpolargl\":[{\"marker\":{\"colorbar\":{\"outlinewidth\":1,\"tickcolor\":\"rgb(36,36,36)\",\"ticks\":\"outside\"}},\"type\":\"scatterpolargl\"}],\"scatterpolar\":[{\"marker\":{\"colorbar\":{\"outlinewidth\":1,\"tickcolor\":\"rgb(36,36,36)\",\"ticks\":\"outside\"}},\"type\":\"scatterpolar\"}],\"scatter\":[{\"fillpattern\":{\"fillmode\":\"overlay\",\"size\":10,\"solidity\":0.2},\"type\":\"scatter\"}],\"scatterternary\":[{\"marker\":{\"colorbar\":{\"outlinewidth\":1,\"tickcolor\":\"rgb(36,36,36)\",\"ticks\":\"outside\"}},\"type\":\"scatterternary\"}],\"surface\":[{\"colorbar\":{\"outlinewidth\":1,\"tickcolor\":\"rgb(36,36,36)\",\"ticks\":\"outside\"},\"colorscale\":[[0.0,\"#440154\"],[0.1111111111111111,\"#482878\"],[0.2222222222222222,\"#3e4989\"],[0.3333333333333333,\"#31688e\"],[0.4444444444444444,\"#26828e\"],[0.5555555555555556,\"#1f9e89\"],[0.6666666666666666,\"#35b779\"],[0.7777777777777778,\"#6ece58\"],[0.8888888888888888,\"#b5de2b\"],[1.0,\"#fde725\"]],\"type\":\"surface\"}],\"table\":[{\"cells\":{\"fill\":{\"color\":\"rgb(237,237,237)\"},\"line\":{\"color\":\"white\"}},\"header\":{\"fill\":{\"color\":\"rgb(217,217,217)\"},\"line\":{\"color\":\"white\"}},\"type\":\"table\"}]},\"layout\":{\"annotationdefaults\":{\"arrowhead\":0,\"arrowwidth\":1},\"autotypenumbers\":\"strict\",\"coloraxis\":{\"colorbar\":{\"outlinewidth\":1,\"tickcolor\":\"rgb(36,36,36)\",\"ticks\":\"outside\"}},\"colorscale\":{\"diverging\":[[0.0,\"rgb(103,0,31)\"],[0.1,\"rgb(178,24,43)\"],[0.2,\"rgb(214,96,77)\"],[0.3,\"rgb(244,165,130)\"],[0.4,\"rgb(253,219,199)\"],[0.5,\"rgb(247,247,247)\"],[0.6,\"rgb(209,229,240)\"],[0.7,\"rgb(146,197,222)\"],[0.8,\"rgb(67,147,195)\"],[0.9,\"rgb(33,102,172)\"],[1.0,\"rgb(5,48,97)\"]],\"sequential\":[[0.0,\"#440154\"],[0.1111111111111111,\"#482878\"],[0.2222222222222222,\"#3e4989\"],[0.3333333333333333,\"#31688e\"],[0.4444444444444444,\"#26828e\"],[0.5555555555555556,\"#1f9e89\"],[0.6666666666666666,\"#35b779\"],[0.7777777777777778,\"#6ece58\"],[0.8888888888888888,\"#b5de2b\"],[1.0,\"#fde725\"]],\"sequentialminus\":[[0.0,\"#440154\"],[0.1111111111111111,\"#482878\"],[0.2222222222222222,\"#3e4989\"],[0.3333333333333333,\"#31688e\"],[0.4444444444444444,\"#26828e\"],[0.5555555555555556,\"#1f9e89\"],[0.6666666666666666,\"#35b779\"],[0.7777777777777778,\"#6ece58\"],[0.8888888888888888,\"#b5de2b\"],[1.0,\"#fde725\"]]},\"colorway\":[\"#1F77B4\",\"#FF7F0E\",\"#2CA02C\",\"#D62728\",\"#9467BD\",\"#8C564B\",\"#E377C2\",\"#7F7F7F\",\"#BCBD22\",\"#17BECF\"],\"font\":{\"color\":\"rgb(36,36,36)\"},\"geo\":{\"bgcolor\":\"white\",\"lakecolor\":\"white\",\"landcolor\":\"white\",\"showlakes\":true,\"showland\":true,\"subunitcolor\":\"white\"},\"hoverlabel\":{\"align\":\"left\"},\"hovermode\":\"closest\",\"mapbox\":{\"style\":\"light\"},\"paper_bgcolor\":\"white\",\"plot_bgcolor\":\"white\",\"polar\":{\"angularaxis\":{\"gridcolor\":\"rgb(232,232,232)\",\"linecolor\":\"rgb(36,36,36)\",\"showgrid\":false,\"showline\":true,\"ticks\":\"outside\"},\"bgcolor\":\"white\",\"radialaxis\":{\"gridcolor\":\"rgb(232,232,232)\",\"linecolor\":\"rgb(36,36,36)\",\"showgrid\":false,\"showline\":true,\"ticks\":\"outside\"}},\"scene\":{\"xaxis\":{\"backgroundcolor\":\"white\",\"gridcolor\":\"rgb(232,232,232)\",\"gridwidth\":2,\"linecolor\":\"rgb(36,36,36)\",\"showbackground\":true,\"showgrid\":false,\"showline\":true,\"ticks\":\"outside\",\"zeroline\":false,\"zerolinecolor\":\"rgb(36,36,36)\"},\"yaxis\":{\"backgroundcolor\":\"white\",\"gridcolor\":\"rgb(232,232,232)\",\"gridwidth\":2,\"linecolor\":\"rgb(36,36,36)\",\"showbackground\":true,\"showgrid\":false,\"showline\":true,\"ticks\":\"outside\",\"zeroline\":false,\"zerolinecolor\":\"rgb(36,36,36)\"},\"zaxis\":{\"backgroundcolor\":\"white\",\"gridcolor\":\"rgb(232,232,232)\",\"gridwidth\":2,\"linecolor\":\"rgb(36,36,36)\",\"showbackground\":true,\"showgrid\":false,\"showline\":true,\"ticks\":\"outside\",\"zeroline\":false,\"zerolinecolor\":\"rgb(36,36,36)\"}},\"shapedefaults\":{\"fillcolor\":\"black\",\"line\":{\"width\":0},\"opacity\":0.3},\"ternary\":{\"aaxis\":{\"gridcolor\":\"rgb(232,232,232)\",\"linecolor\":\"rgb(36,36,36)\",\"showgrid\":false,\"showline\":true,\"ticks\":\"outside\"},\"baxis\":{\"gridcolor\":\"rgb(232,232,232)\",\"linecolor\":\"rgb(36,36,36)\",\"showgrid\":false,\"showline\":true,\"ticks\":\"outside\"},\"bgcolor\":\"white\",\"caxis\":{\"gridcolor\":\"rgb(232,232,232)\",\"linecolor\":\"rgb(36,36,36)\",\"showgrid\":false,\"showline\":true,\"ticks\":\"outside\"}},\"title\":{\"x\":0.05},\"xaxis\":{\"automargin\":true,\"gridcolor\":\"rgb(232,232,232)\",\"linecolor\":\"rgb(36,36,36)\",\"showgrid\":false,\"showline\":true,\"ticks\":\"outside\",\"title\":{\"standoff\":15},\"zeroline\":false,\"zerolinecolor\":\"rgb(36,36,36)\"},\"yaxis\":{\"automargin\":true,\"gridcolor\":\"rgb(232,232,232)\",\"linecolor\":\"rgb(36,36,36)\",\"showgrid\":false,\"showline\":true,\"ticks\":\"outside\",\"title\":{\"standoff\":15},\"zeroline\":false,\"zerolinecolor\":\"rgb(36,36,36)\"}}},\"xaxis\":{\"anchor\":\"y\",\"domain\":[0.0,1.0],\"title\":{\"text\":\"\"},\"visible\":false,\"range\":[-14.812613201141357,17.665463733673096]},\"yaxis\":{\"anchor\":\"x\",\"domain\":[0.0,1.0],\"title\":{\"text\":\"\"},\"visible\":false,\"range\":[-5.830916404724121,20.5946946144104]},\"legend\":{\"tracegroupgap\":0,\"itemsizing\":\"constant\"},\"margin\":{\"t\":60},\"title\":{\"font\":{\"size\":22,\"color\":\"Black\"},\"text\":\"<b>Intertopic Distance Map\",\"y\":0.95,\"x\":0.5,\"xanchor\":\"center\",\"yanchor\":\"top\"},\"hoverlabel\":{\"font\":{\"size\":16,\"family\":\"Rockwell\"},\"bgcolor\":\"white\"},\"width\":650,\"height\":650,\"sliders\":[{\"active\":0,\"pad\":{\"t\":50},\"steps\":[{\"args\":[{\"marker.color\":[[\"red\",\"#B0BEC5\",\"#B0BEC5\",\"#B0BEC5\",\"#B0BEC5\",\"#B0BEC5\",\"#B0BEC5\",\"#B0BEC5\",\"#B0BEC5\",\"#B0BEC5\",\"#B0BEC5\",\"#B0BEC5\",\"#B0BEC5\",\"#B0BEC5\",\"#B0BEC5\",\"#B0BEC5\",\"#B0BEC5\",\"#B0BEC5\",\"#B0BEC5\",\"#B0BEC5\",\"#B0BEC5\",\"#B0BEC5\",\"#B0BEC5\",\"#B0BEC5\",\"#B0BEC5\",\"#B0BEC5\",\"#B0BEC5\",\"#B0BEC5\",\"#B0BEC5\",\"#B0BEC5\",\"#B0BEC5\",\"#B0BEC5\",\"#B0BEC5\",\"#B0BEC5\",\"#B0BEC5\",\"#B0BEC5\",\"#B0BEC5\",\"#B0BEC5\",\"#B0BEC5\",\"#B0BEC5\",\"#B0BEC5\",\"#B0BEC5\"]]}],\"label\":\"Topic 0\",\"method\":\"update\"},{\"args\":[{\"marker.color\":[[\"#B0BEC5\",\"red\",\"#B0BEC5\",\"#B0BEC5\",\"#B0BEC5\",\"#B0BEC5\",\"#B0BEC5\",\"#B0BEC5\",\"#B0BEC5\",\"#B0BEC5\",\"#B0BEC5\",\"#B0BEC5\",\"#B0BEC5\",\"#B0BEC5\",\"#B0BEC5\",\"#B0BEC5\",\"#B0BEC5\",\"#B0BEC5\",\"#B0BEC5\",\"#B0BEC5\",\"#B0BEC5\",\"#B0BEC5\",\"#B0BEC5\",\"#B0BEC5\",\"#B0BEC5\",\"#B0BEC5\",\"#B0BEC5\",\"#B0BEC5\",\"#B0BEC5\",\"#B0BEC5\",\"#B0BEC5\",\"#B0BEC5\",\"#B0BEC5\",\"#B0BEC5\",\"#B0BEC5\",\"#B0BEC5\",\"#B0BEC5\",\"#B0BEC5\",\"#B0BEC5\",\"#B0BEC5\",\"#B0BEC5\",\"#B0BEC5\"]]}],\"label\":\"Topic 1\",\"method\":\"update\"},{\"args\":[{\"marker.color\":[[\"#B0BEC5\",\"#B0BEC5\",\"red\",\"#B0BEC5\",\"#B0BEC5\",\"#B0BEC5\",\"#B0BEC5\",\"#B0BEC5\",\"#B0BEC5\",\"#B0BEC5\",\"#B0BEC5\",\"#B0BEC5\",\"#B0BEC5\",\"#B0BEC5\",\"#B0BEC5\",\"#B0BEC5\",\"#B0BEC5\",\"#B0BEC5\",\"#B0BEC5\",\"#B0BEC5\",\"#B0BEC5\",\"#B0BEC5\",\"#B0BEC5\",\"#B0BEC5\",\"#B0BEC5\",\"#B0BEC5\",\"#B0BEC5\",\"#B0BEC5\",\"#B0BEC5\",\"#B0BEC5\",\"#B0BEC5\",\"#B0BEC5\",\"#B0BEC5\",\"#B0BEC5\",\"#B0BEC5\",\"#B0BEC5\",\"#B0BEC5\",\"#B0BEC5\",\"#B0BEC5\",\"#B0BEC5\",\"#B0BEC5\",\"#B0BEC5\"]]}],\"label\":\"Topic 2\",\"method\":\"update\"},{\"args\":[{\"marker.color\":[[\"#B0BEC5\",\"#B0BEC5\",\"#B0BEC5\",\"red\",\"#B0BEC5\",\"#B0BEC5\",\"#B0BEC5\",\"#B0BEC5\",\"#B0BEC5\",\"#B0BEC5\",\"#B0BEC5\",\"#B0BEC5\",\"#B0BEC5\",\"#B0BEC5\",\"#B0BEC5\",\"#B0BEC5\",\"#B0BEC5\",\"#B0BEC5\",\"#B0BEC5\",\"#B0BEC5\",\"#B0BEC5\",\"#B0BEC5\",\"#B0BEC5\",\"#B0BEC5\",\"#B0BEC5\",\"#B0BEC5\",\"#B0BEC5\",\"#B0BEC5\",\"#B0BEC5\",\"#B0BEC5\",\"#B0BEC5\",\"#B0BEC5\",\"#B0BEC5\",\"#B0BEC5\",\"#B0BEC5\",\"#B0BEC5\",\"#B0BEC5\",\"#B0BEC5\",\"#B0BEC5\",\"#B0BEC5\",\"#B0BEC5\",\"#B0BEC5\"]]}],\"label\":\"Topic 3\",\"method\":\"update\"},{\"args\":[{\"marker.color\":[[\"#B0BEC5\",\"#B0BEC5\",\"#B0BEC5\",\"#B0BEC5\",\"red\",\"#B0BEC5\",\"#B0BEC5\",\"#B0BEC5\",\"#B0BEC5\",\"#B0BEC5\",\"#B0BEC5\",\"#B0BEC5\",\"#B0BEC5\",\"#B0BEC5\",\"#B0BEC5\",\"#B0BEC5\",\"#B0BEC5\",\"#B0BEC5\",\"#B0BEC5\",\"#B0BEC5\",\"#B0BEC5\",\"#B0BEC5\",\"#B0BEC5\",\"#B0BEC5\",\"#B0BEC5\",\"#B0BEC5\",\"#B0BEC5\",\"#B0BEC5\",\"#B0BEC5\",\"#B0BEC5\",\"#B0BEC5\",\"#B0BEC5\",\"#B0BEC5\",\"#B0BEC5\",\"#B0BEC5\",\"#B0BEC5\",\"#B0BEC5\",\"#B0BEC5\",\"#B0BEC5\",\"#B0BEC5\",\"#B0BEC5\",\"#B0BEC5\"]]}],\"label\":\"Topic 4\",\"method\":\"update\"},{\"args\":[{\"marker.color\":[[\"#B0BEC5\",\"#B0BEC5\",\"#B0BEC5\",\"#B0BEC5\",\"#B0BEC5\",\"red\",\"#B0BEC5\",\"#B0BEC5\",\"#B0BEC5\",\"#B0BEC5\",\"#B0BEC5\",\"#B0BEC5\",\"#B0BEC5\",\"#B0BEC5\",\"#B0BEC5\",\"#B0BEC5\",\"#B0BEC5\",\"#B0BEC5\",\"#B0BEC5\",\"#B0BEC5\",\"#B0BEC5\",\"#B0BEC5\",\"#B0BEC5\",\"#B0BEC5\",\"#B0BEC5\",\"#B0BEC5\",\"#B0BEC5\",\"#B0BEC5\",\"#B0BEC5\",\"#B0BEC5\",\"#B0BEC5\",\"#B0BEC5\",\"#B0BEC5\",\"#B0BEC5\",\"#B0BEC5\",\"#B0BEC5\",\"#B0BEC5\",\"#B0BEC5\",\"#B0BEC5\",\"#B0BEC5\",\"#B0BEC5\",\"#B0BEC5\"]]}],\"label\":\"Topic 5\",\"method\":\"update\"},{\"args\":[{\"marker.color\":[[\"#B0BEC5\",\"#B0BEC5\",\"#B0BEC5\",\"#B0BEC5\",\"#B0BEC5\",\"#B0BEC5\",\"red\",\"#B0BEC5\",\"#B0BEC5\",\"#B0BEC5\",\"#B0BEC5\",\"#B0BEC5\",\"#B0BEC5\",\"#B0BEC5\",\"#B0BEC5\",\"#B0BEC5\",\"#B0BEC5\",\"#B0BEC5\",\"#B0BEC5\",\"#B0BEC5\",\"#B0BEC5\",\"#B0BEC5\",\"#B0BEC5\",\"#B0BEC5\",\"#B0BEC5\",\"#B0BEC5\",\"#B0BEC5\",\"#B0BEC5\",\"#B0BEC5\",\"#B0BEC5\",\"#B0BEC5\",\"#B0BEC5\",\"#B0BEC5\",\"#B0BEC5\",\"#B0BEC5\",\"#B0BEC5\",\"#B0BEC5\",\"#B0BEC5\",\"#B0BEC5\",\"#B0BEC5\",\"#B0BEC5\",\"#B0BEC5\"]]}],\"label\":\"Topic 6\",\"method\":\"update\"},{\"args\":[{\"marker.color\":[[\"#B0BEC5\",\"#B0BEC5\",\"#B0BEC5\",\"#B0BEC5\",\"#B0BEC5\",\"#B0BEC5\",\"#B0BEC5\",\"red\",\"#B0BEC5\",\"#B0BEC5\",\"#B0BEC5\",\"#B0BEC5\",\"#B0BEC5\",\"#B0BEC5\",\"#B0BEC5\",\"#B0BEC5\",\"#B0BEC5\",\"#B0BEC5\",\"#B0BEC5\",\"#B0BEC5\",\"#B0BEC5\",\"#B0BEC5\",\"#B0BEC5\",\"#B0BEC5\",\"#B0BEC5\",\"#B0BEC5\",\"#B0BEC5\",\"#B0BEC5\",\"#B0BEC5\",\"#B0BEC5\",\"#B0BEC5\",\"#B0BEC5\",\"#B0BEC5\",\"#B0BEC5\",\"#B0BEC5\",\"#B0BEC5\",\"#B0BEC5\",\"#B0BEC5\",\"#B0BEC5\",\"#B0BEC5\",\"#B0BEC5\",\"#B0BEC5\"]]}],\"label\":\"Topic 7\",\"method\":\"update\"},{\"args\":[{\"marker.color\":[[\"#B0BEC5\",\"#B0BEC5\",\"#B0BEC5\",\"#B0BEC5\",\"#B0BEC5\",\"#B0BEC5\",\"#B0BEC5\",\"#B0BEC5\",\"red\",\"#B0BEC5\",\"#B0BEC5\",\"#B0BEC5\",\"#B0BEC5\",\"#B0BEC5\",\"#B0BEC5\",\"#B0BEC5\",\"#B0BEC5\",\"#B0BEC5\",\"#B0BEC5\",\"#B0BEC5\",\"#B0BEC5\",\"#B0BEC5\",\"#B0BEC5\",\"#B0BEC5\",\"#B0BEC5\",\"#B0BEC5\",\"#B0BEC5\",\"#B0BEC5\",\"#B0BEC5\",\"#B0BEC5\",\"#B0BEC5\",\"#B0BEC5\",\"#B0BEC5\",\"#B0BEC5\",\"#B0BEC5\",\"#B0BEC5\",\"#B0BEC5\",\"#B0BEC5\",\"#B0BEC5\",\"#B0BEC5\",\"#B0BEC5\",\"#B0BEC5\"]]}],\"label\":\"Topic 8\",\"method\":\"update\"},{\"args\":[{\"marker.color\":[[\"#B0BEC5\",\"#B0BEC5\",\"#B0BEC5\",\"#B0BEC5\",\"#B0BEC5\",\"#B0BEC5\",\"#B0BEC5\",\"#B0BEC5\",\"#B0BEC5\",\"red\",\"#B0BEC5\",\"#B0BEC5\",\"#B0BEC5\",\"#B0BEC5\",\"#B0BEC5\",\"#B0BEC5\",\"#B0BEC5\",\"#B0BEC5\",\"#B0BEC5\",\"#B0BEC5\",\"#B0BEC5\",\"#B0BEC5\",\"#B0BEC5\",\"#B0BEC5\",\"#B0BEC5\",\"#B0BEC5\",\"#B0BEC5\",\"#B0BEC5\",\"#B0BEC5\",\"#B0BEC5\",\"#B0BEC5\",\"#B0BEC5\",\"#B0BEC5\",\"#B0BEC5\",\"#B0BEC5\",\"#B0BEC5\",\"#B0BEC5\",\"#B0BEC5\",\"#B0BEC5\",\"#B0BEC5\",\"#B0BEC5\",\"#B0BEC5\"]]}],\"label\":\"Topic 9\",\"method\":\"update\"},{\"args\":[{\"marker.color\":[[\"#B0BEC5\",\"#B0BEC5\",\"#B0BEC5\",\"#B0BEC5\",\"#B0BEC5\",\"#B0BEC5\",\"#B0BEC5\",\"#B0BEC5\",\"#B0BEC5\",\"#B0BEC5\",\"red\",\"#B0BEC5\",\"#B0BEC5\",\"#B0BEC5\",\"#B0BEC5\",\"#B0BEC5\",\"#B0BEC5\",\"#B0BEC5\",\"#B0BEC5\",\"#B0BEC5\",\"#B0BEC5\",\"#B0BEC5\",\"#B0BEC5\",\"#B0BEC5\",\"#B0BEC5\",\"#B0BEC5\",\"#B0BEC5\",\"#B0BEC5\",\"#B0BEC5\",\"#B0BEC5\",\"#B0BEC5\",\"#B0BEC5\",\"#B0BEC5\",\"#B0BEC5\",\"#B0BEC5\",\"#B0BEC5\",\"#B0BEC5\",\"#B0BEC5\",\"#B0BEC5\",\"#B0BEC5\",\"#B0BEC5\",\"#B0BEC5\"]]}],\"label\":\"Topic 10\",\"method\":\"update\"},{\"args\":[{\"marker.color\":[[\"#B0BEC5\",\"#B0BEC5\",\"#B0BEC5\",\"#B0BEC5\",\"#B0BEC5\",\"#B0BEC5\",\"#B0BEC5\",\"#B0BEC5\",\"#B0BEC5\",\"#B0BEC5\",\"#B0BEC5\",\"red\",\"#B0BEC5\",\"#B0BEC5\",\"#B0BEC5\",\"#B0BEC5\",\"#B0BEC5\",\"#B0BEC5\",\"#B0BEC5\",\"#B0BEC5\",\"#B0BEC5\",\"#B0BEC5\",\"#B0BEC5\",\"#B0BEC5\",\"#B0BEC5\",\"#B0BEC5\",\"#B0BEC5\",\"#B0BEC5\",\"#B0BEC5\",\"#B0BEC5\",\"#B0BEC5\",\"#B0BEC5\",\"#B0BEC5\",\"#B0BEC5\",\"#B0BEC5\",\"#B0BEC5\",\"#B0BEC5\",\"#B0BEC5\",\"#B0BEC5\",\"#B0BEC5\",\"#B0BEC5\",\"#B0BEC5\"]]}],\"label\":\"Topic 11\",\"method\":\"update\"},{\"args\":[{\"marker.color\":[[\"#B0BEC5\",\"#B0BEC5\",\"#B0BEC5\",\"#B0BEC5\",\"#B0BEC5\",\"#B0BEC5\",\"#B0BEC5\",\"#B0BEC5\",\"#B0BEC5\",\"#B0BEC5\",\"#B0BEC5\",\"#B0BEC5\",\"red\",\"#B0BEC5\",\"#B0BEC5\",\"#B0BEC5\",\"#B0BEC5\",\"#B0BEC5\",\"#B0BEC5\",\"#B0BEC5\",\"#B0BEC5\",\"#B0BEC5\",\"#B0BEC5\",\"#B0BEC5\",\"#B0BEC5\",\"#B0BEC5\",\"#B0BEC5\",\"#B0BEC5\",\"#B0BEC5\",\"#B0BEC5\",\"#B0BEC5\",\"#B0BEC5\",\"#B0BEC5\",\"#B0BEC5\",\"#B0BEC5\",\"#B0BEC5\",\"#B0BEC5\",\"#B0BEC5\",\"#B0BEC5\",\"#B0BEC5\",\"#B0BEC5\",\"#B0BEC5\"]]}],\"label\":\"Topic 12\",\"method\":\"update\"},{\"args\":[{\"marker.color\":[[\"#B0BEC5\",\"#B0BEC5\",\"#B0BEC5\",\"#B0BEC5\",\"#B0BEC5\",\"#B0BEC5\",\"#B0BEC5\",\"#B0BEC5\",\"#B0BEC5\",\"#B0BEC5\",\"#B0BEC5\",\"#B0BEC5\",\"#B0BEC5\",\"red\",\"#B0BEC5\",\"#B0BEC5\",\"#B0BEC5\",\"#B0BEC5\",\"#B0BEC5\",\"#B0BEC5\",\"#B0BEC5\",\"#B0BEC5\",\"#B0BEC5\",\"#B0BEC5\",\"#B0BEC5\",\"#B0BEC5\",\"#B0BEC5\",\"#B0BEC5\",\"#B0BEC5\",\"#B0BEC5\",\"#B0BEC5\",\"#B0BEC5\",\"#B0BEC5\",\"#B0BEC5\",\"#B0BEC5\",\"#B0BEC5\",\"#B0BEC5\",\"#B0BEC5\",\"#B0BEC5\",\"#B0BEC5\",\"#B0BEC5\",\"#B0BEC5\"]]}],\"label\":\"Topic 13\",\"method\":\"update\"},{\"args\":[{\"marker.color\":[[\"#B0BEC5\",\"#B0BEC5\",\"#B0BEC5\",\"#B0BEC5\",\"#B0BEC5\",\"#B0BEC5\",\"#B0BEC5\",\"#B0BEC5\",\"#B0BEC5\",\"#B0BEC5\",\"#B0BEC5\",\"#B0BEC5\",\"#B0BEC5\",\"#B0BEC5\",\"red\",\"#B0BEC5\",\"#B0BEC5\",\"#B0BEC5\",\"#B0BEC5\",\"#B0BEC5\",\"#B0BEC5\",\"#B0BEC5\",\"#B0BEC5\",\"#B0BEC5\",\"#B0BEC5\",\"#B0BEC5\",\"#B0BEC5\",\"#B0BEC5\",\"#B0BEC5\",\"#B0BEC5\",\"#B0BEC5\",\"#B0BEC5\",\"#B0BEC5\",\"#B0BEC5\",\"#B0BEC5\",\"#B0BEC5\",\"#B0BEC5\",\"#B0BEC5\",\"#B0BEC5\",\"#B0BEC5\",\"#B0BEC5\",\"#B0BEC5\"]]}],\"label\":\"Topic 14\",\"method\":\"update\"},{\"args\":[{\"marker.color\":[[\"#B0BEC5\",\"#B0BEC5\",\"#B0BEC5\",\"#B0BEC5\",\"#B0BEC5\",\"#B0BEC5\",\"#B0BEC5\",\"#B0BEC5\",\"#B0BEC5\",\"#B0BEC5\",\"#B0BEC5\",\"#B0BEC5\",\"#B0BEC5\",\"#B0BEC5\",\"#B0BEC5\",\"red\",\"#B0BEC5\",\"#B0BEC5\",\"#B0BEC5\",\"#B0BEC5\",\"#B0BEC5\",\"#B0BEC5\",\"#B0BEC5\",\"#B0BEC5\",\"#B0BEC5\",\"#B0BEC5\",\"#B0BEC5\",\"#B0BEC5\",\"#B0BEC5\",\"#B0BEC5\",\"#B0BEC5\",\"#B0BEC5\",\"#B0BEC5\",\"#B0BEC5\",\"#B0BEC5\",\"#B0BEC5\",\"#B0BEC5\",\"#B0BEC5\",\"#B0BEC5\",\"#B0BEC5\",\"#B0BEC5\",\"#B0BEC5\"]]}],\"label\":\"Topic 15\",\"method\":\"update\"},{\"args\":[{\"marker.color\":[[\"#B0BEC5\",\"#B0BEC5\",\"#B0BEC5\",\"#B0BEC5\",\"#B0BEC5\",\"#B0BEC5\",\"#B0BEC5\",\"#B0BEC5\",\"#B0BEC5\",\"#B0BEC5\",\"#B0BEC5\",\"#B0BEC5\",\"#B0BEC5\",\"#B0BEC5\",\"#B0BEC5\",\"#B0BEC5\",\"red\",\"#B0BEC5\",\"#B0BEC5\",\"#B0BEC5\",\"#B0BEC5\",\"#B0BEC5\",\"#B0BEC5\",\"#B0BEC5\",\"#B0BEC5\",\"#B0BEC5\",\"#B0BEC5\",\"#B0BEC5\",\"#B0BEC5\",\"#B0BEC5\",\"#B0BEC5\",\"#B0BEC5\",\"#B0BEC5\",\"#B0BEC5\",\"#B0BEC5\",\"#B0BEC5\",\"#B0BEC5\",\"#B0BEC5\",\"#B0BEC5\",\"#B0BEC5\",\"#B0BEC5\",\"#B0BEC5\"]]}],\"label\":\"Topic 16\",\"method\":\"update\"},{\"args\":[{\"marker.color\":[[\"#B0BEC5\",\"#B0BEC5\",\"#B0BEC5\",\"#B0BEC5\",\"#B0BEC5\",\"#B0BEC5\",\"#B0BEC5\",\"#B0BEC5\",\"#B0BEC5\",\"#B0BEC5\",\"#B0BEC5\",\"#B0BEC5\",\"#B0BEC5\",\"#B0BEC5\",\"#B0BEC5\",\"#B0BEC5\",\"#B0BEC5\",\"red\",\"#B0BEC5\",\"#B0BEC5\",\"#B0BEC5\",\"#B0BEC5\",\"#B0BEC5\",\"#B0BEC5\",\"#B0BEC5\",\"#B0BEC5\",\"#B0BEC5\",\"#B0BEC5\",\"#B0BEC5\",\"#B0BEC5\",\"#B0BEC5\",\"#B0BEC5\",\"#B0BEC5\",\"#B0BEC5\",\"#B0BEC5\",\"#B0BEC5\",\"#B0BEC5\",\"#B0BEC5\",\"#B0BEC5\",\"#B0BEC5\",\"#B0BEC5\",\"#B0BEC5\"]]}],\"label\":\"Topic 17\",\"method\":\"update\"},{\"args\":[{\"marker.color\":[[\"#B0BEC5\",\"#B0BEC5\",\"#B0BEC5\",\"#B0BEC5\",\"#B0BEC5\",\"#B0BEC5\",\"#B0BEC5\",\"#B0BEC5\",\"#B0BEC5\",\"#B0BEC5\",\"#B0BEC5\",\"#B0BEC5\",\"#B0BEC5\",\"#B0BEC5\",\"#B0BEC5\",\"#B0BEC5\",\"#B0BEC5\",\"#B0BEC5\",\"red\",\"#B0BEC5\",\"#B0BEC5\",\"#B0BEC5\",\"#B0BEC5\",\"#B0BEC5\",\"#B0BEC5\",\"#B0BEC5\",\"#B0BEC5\",\"#B0BEC5\",\"#B0BEC5\",\"#B0BEC5\",\"#B0BEC5\",\"#B0BEC5\",\"#B0BEC5\",\"#B0BEC5\",\"#B0BEC5\",\"#B0BEC5\",\"#B0BEC5\",\"#B0BEC5\",\"#B0BEC5\",\"#B0BEC5\",\"#B0BEC5\",\"#B0BEC5\"]]}],\"label\":\"Topic 18\",\"method\":\"update\"},{\"args\":[{\"marker.color\":[[\"#B0BEC5\",\"#B0BEC5\",\"#B0BEC5\",\"#B0BEC5\",\"#B0BEC5\",\"#B0BEC5\",\"#B0BEC5\",\"#B0BEC5\",\"#B0BEC5\",\"#B0BEC5\",\"#B0BEC5\",\"#B0BEC5\",\"#B0BEC5\",\"#B0BEC5\",\"#B0BEC5\",\"#B0BEC5\",\"#B0BEC5\",\"#B0BEC5\",\"#B0BEC5\",\"red\",\"#B0BEC5\",\"#B0BEC5\",\"#B0BEC5\",\"#B0BEC5\",\"#B0BEC5\",\"#B0BEC5\",\"#B0BEC5\",\"#B0BEC5\",\"#B0BEC5\",\"#B0BEC5\",\"#B0BEC5\",\"#B0BEC5\",\"#B0BEC5\",\"#B0BEC5\",\"#B0BEC5\",\"#B0BEC5\",\"#B0BEC5\",\"#B0BEC5\",\"#B0BEC5\",\"#B0BEC5\",\"#B0BEC5\",\"#B0BEC5\"]]}],\"label\":\"Topic 19\",\"method\":\"update\"},{\"args\":[{\"marker.color\":[[\"#B0BEC5\",\"#B0BEC5\",\"#B0BEC5\",\"#B0BEC5\",\"#B0BEC5\",\"#B0BEC5\",\"#B0BEC5\",\"#B0BEC5\",\"#B0BEC5\",\"#B0BEC5\",\"#B0BEC5\",\"#B0BEC5\",\"#B0BEC5\",\"#B0BEC5\",\"#B0BEC5\",\"#B0BEC5\",\"#B0BEC5\",\"#B0BEC5\",\"#B0BEC5\",\"#B0BEC5\",\"red\",\"#B0BEC5\",\"#B0BEC5\",\"#B0BEC5\",\"#B0BEC5\",\"#B0BEC5\",\"#B0BEC5\",\"#B0BEC5\",\"#B0BEC5\",\"#B0BEC5\",\"#B0BEC5\",\"#B0BEC5\",\"#B0BEC5\",\"#B0BEC5\",\"#B0BEC5\",\"#B0BEC5\",\"#B0BEC5\",\"#B0BEC5\",\"#B0BEC5\",\"#B0BEC5\",\"#B0BEC5\",\"#B0BEC5\"]]}],\"label\":\"Topic 20\",\"method\":\"update\"},{\"args\":[{\"marker.color\":[[\"#B0BEC5\",\"#B0BEC5\",\"#B0BEC5\",\"#B0BEC5\",\"#B0BEC5\",\"#B0BEC5\",\"#B0BEC5\",\"#B0BEC5\",\"#B0BEC5\",\"#B0BEC5\",\"#B0BEC5\",\"#B0BEC5\",\"#B0BEC5\",\"#B0BEC5\",\"#B0BEC5\",\"#B0BEC5\",\"#B0BEC5\",\"#B0BEC5\",\"#B0BEC5\",\"#B0BEC5\",\"#B0BEC5\",\"red\",\"#B0BEC5\",\"#B0BEC5\",\"#B0BEC5\",\"#B0BEC5\",\"#B0BEC5\",\"#B0BEC5\",\"#B0BEC5\",\"#B0BEC5\",\"#B0BEC5\",\"#B0BEC5\",\"#B0BEC5\",\"#B0BEC5\",\"#B0BEC5\",\"#B0BEC5\",\"#B0BEC5\",\"#B0BEC5\",\"#B0BEC5\",\"#B0BEC5\",\"#B0BEC5\",\"#B0BEC5\"]]}],\"label\":\"Topic 21\",\"method\":\"update\"},{\"args\":[{\"marker.color\":[[\"#B0BEC5\",\"#B0BEC5\",\"#B0BEC5\",\"#B0BEC5\",\"#B0BEC5\",\"#B0BEC5\",\"#B0BEC5\",\"#B0BEC5\",\"#B0BEC5\",\"#B0BEC5\",\"#B0BEC5\",\"#B0BEC5\",\"#B0BEC5\",\"#B0BEC5\",\"#B0BEC5\",\"#B0BEC5\",\"#B0BEC5\",\"#B0BEC5\",\"#B0BEC5\",\"#B0BEC5\",\"#B0BEC5\",\"#B0BEC5\",\"red\",\"#B0BEC5\",\"#B0BEC5\",\"#B0BEC5\",\"#B0BEC5\",\"#B0BEC5\",\"#B0BEC5\",\"#B0BEC5\",\"#B0BEC5\",\"#B0BEC5\",\"#B0BEC5\",\"#B0BEC5\",\"#B0BEC5\",\"#B0BEC5\",\"#B0BEC5\",\"#B0BEC5\",\"#B0BEC5\",\"#B0BEC5\",\"#B0BEC5\",\"#B0BEC5\"]]}],\"label\":\"Topic 22\",\"method\":\"update\"},{\"args\":[{\"marker.color\":[[\"#B0BEC5\",\"#B0BEC5\",\"#B0BEC5\",\"#B0BEC5\",\"#B0BEC5\",\"#B0BEC5\",\"#B0BEC5\",\"#B0BEC5\",\"#B0BEC5\",\"#B0BEC5\",\"#B0BEC5\",\"#B0BEC5\",\"#B0BEC5\",\"#B0BEC5\",\"#B0BEC5\",\"#B0BEC5\",\"#B0BEC5\",\"#B0BEC5\",\"#B0BEC5\",\"#B0BEC5\",\"#B0BEC5\",\"#B0BEC5\",\"#B0BEC5\",\"red\",\"#B0BEC5\",\"#B0BEC5\",\"#B0BEC5\",\"#B0BEC5\",\"#B0BEC5\",\"#B0BEC5\",\"#B0BEC5\",\"#B0BEC5\",\"#B0BEC5\",\"#B0BEC5\",\"#B0BEC5\",\"#B0BEC5\",\"#B0BEC5\",\"#B0BEC5\",\"#B0BEC5\",\"#B0BEC5\",\"#B0BEC5\",\"#B0BEC5\"]]}],\"label\":\"Topic 23\",\"method\":\"update\"},{\"args\":[{\"marker.color\":[[\"#B0BEC5\",\"#B0BEC5\",\"#B0BEC5\",\"#B0BEC5\",\"#B0BEC5\",\"#B0BEC5\",\"#B0BEC5\",\"#B0BEC5\",\"#B0BEC5\",\"#B0BEC5\",\"#B0BEC5\",\"#B0BEC5\",\"#B0BEC5\",\"#B0BEC5\",\"#B0BEC5\",\"#B0BEC5\",\"#B0BEC5\",\"#B0BEC5\",\"#B0BEC5\",\"#B0BEC5\",\"#B0BEC5\",\"#B0BEC5\",\"#B0BEC5\",\"#B0BEC5\",\"red\",\"#B0BEC5\",\"#B0BEC5\",\"#B0BEC5\",\"#B0BEC5\",\"#B0BEC5\",\"#B0BEC5\",\"#B0BEC5\",\"#B0BEC5\",\"#B0BEC5\",\"#B0BEC5\",\"#B0BEC5\",\"#B0BEC5\",\"#B0BEC5\",\"#B0BEC5\",\"#B0BEC5\",\"#B0BEC5\",\"#B0BEC5\"]]}],\"label\":\"Topic 24\",\"method\":\"update\"},{\"args\":[{\"marker.color\":[[\"#B0BEC5\",\"#B0BEC5\",\"#B0BEC5\",\"#B0BEC5\",\"#B0BEC5\",\"#B0BEC5\",\"#B0BEC5\",\"#B0BEC5\",\"#B0BEC5\",\"#B0BEC5\",\"#B0BEC5\",\"#B0BEC5\",\"#B0BEC5\",\"#B0BEC5\",\"#B0BEC5\",\"#B0BEC5\",\"#B0BEC5\",\"#B0BEC5\",\"#B0BEC5\",\"#B0BEC5\",\"#B0BEC5\",\"#B0BEC5\",\"#B0BEC5\",\"#B0BEC5\",\"#B0BEC5\",\"red\",\"#B0BEC5\",\"#B0BEC5\",\"#B0BEC5\",\"#B0BEC5\",\"#B0BEC5\",\"#B0BEC5\",\"#B0BEC5\",\"#B0BEC5\",\"#B0BEC5\",\"#B0BEC5\",\"#B0BEC5\",\"#B0BEC5\",\"#B0BEC5\",\"#B0BEC5\",\"#B0BEC5\",\"#B0BEC5\"]]}],\"label\":\"Topic 25\",\"method\":\"update\"},{\"args\":[{\"marker.color\":[[\"#B0BEC5\",\"#B0BEC5\",\"#B0BEC5\",\"#B0BEC5\",\"#B0BEC5\",\"#B0BEC5\",\"#B0BEC5\",\"#B0BEC5\",\"#B0BEC5\",\"#B0BEC5\",\"#B0BEC5\",\"#B0BEC5\",\"#B0BEC5\",\"#B0BEC5\",\"#B0BEC5\",\"#B0BEC5\",\"#B0BEC5\",\"#B0BEC5\",\"#B0BEC5\",\"#B0BEC5\",\"#B0BEC5\",\"#B0BEC5\",\"#B0BEC5\",\"#B0BEC5\",\"#B0BEC5\",\"#B0BEC5\",\"red\",\"#B0BEC5\",\"#B0BEC5\",\"#B0BEC5\",\"#B0BEC5\",\"#B0BEC5\",\"#B0BEC5\",\"#B0BEC5\",\"#B0BEC5\",\"#B0BEC5\",\"#B0BEC5\",\"#B0BEC5\",\"#B0BEC5\",\"#B0BEC5\",\"#B0BEC5\",\"#B0BEC5\"]]}],\"label\":\"Topic 26\",\"method\":\"update\"},{\"args\":[{\"marker.color\":[[\"#B0BEC5\",\"#B0BEC5\",\"#B0BEC5\",\"#B0BEC5\",\"#B0BEC5\",\"#B0BEC5\",\"#B0BEC5\",\"#B0BEC5\",\"#B0BEC5\",\"#B0BEC5\",\"#B0BEC5\",\"#B0BEC5\",\"#B0BEC5\",\"#B0BEC5\",\"#B0BEC5\",\"#B0BEC5\",\"#B0BEC5\",\"#B0BEC5\",\"#B0BEC5\",\"#B0BEC5\",\"#B0BEC5\",\"#B0BEC5\",\"#B0BEC5\",\"#B0BEC5\",\"#B0BEC5\",\"#B0BEC5\",\"#B0BEC5\",\"red\",\"#B0BEC5\",\"#B0BEC5\",\"#B0BEC5\",\"#B0BEC5\",\"#B0BEC5\",\"#B0BEC5\",\"#B0BEC5\",\"#B0BEC5\",\"#B0BEC5\",\"#B0BEC5\",\"#B0BEC5\",\"#B0BEC5\",\"#B0BEC5\",\"#B0BEC5\"]]}],\"label\":\"Topic 27\",\"method\":\"update\"},{\"args\":[{\"marker.color\":[[\"#B0BEC5\",\"#B0BEC5\",\"#B0BEC5\",\"#B0BEC5\",\"#B0BEC5\",\"#B0BEC5\",\"#B0BEC5\",\"#B0BEC5\",\"#B0BEC5\",\"#B0BEC5\",\"#B0BEC5\",\"#B0BEC5\",\"#B0BEC5\",\"#B0BEC5\",\"#B0BEC5\",\"#B0BEC5\",\"#B0BEC5\",\"#B0BEC5\",\"#B0BEC5\",\"#B0BEC5\",\"#B0BEC5\",\"#B0BEC5\",\"#B0BEC5\",\"#B0BEC5\",\"#B0BEC5\",\"#B0BEC5\",\"#B0BEC5\",\"#B0BEC5\",\"red\",\"#B0BEC5\",\"#B0BEC5\",\"#B0BEC5\",\"#B0BEC5\",\"#B0BEC5\",\"#B0BEC5\",\"#B0BEC5\",\"#B0BEC5\",\"#B0BEC5\",\"#B0BEC5\",\"#B0BEC5\",\"#B0BEC5\",\"#B0BEC5\"]]}],\"label\":\"Topic 28\",\"method\":\"update\"},{\"args\":[{\"marker.color\":[[\"#B0BEC5\",\"#B0BEC5\",\"#B0BEC5\",\"#B0BEC5\",\"#B0BEC5\",\"#B0BEC5\",\"#B0BEC5\",\"#B0BEC5\",\"#B0BEC5\",\"#B0BEC5\",\"#B0BEC5\",\"#B0BEC5\",\"#B0BEC5\",\"#B0BEC5\",\"#B0BEC5\",\"#B0BEC5\",\"#B0BEC5\",\"#B0BEC5\",\"#B0BEC5\",\"#B0BEC5\",\"#B0BEC5\",\"#B0BEC5\",\"#B0BEC5\",\"#B0BEC5\",\"#B0BEC5\",\"#B0BEC5\",\"#B0BEC5\",\"#B0BEC5\",\"#B0BEC5\",\"red\",\"#B0BEC5\",\"#B0BEC5\",\"#B0BEC5\",\"#B0BEC5\",\"#B0BEC5\",\"#B0BEC5\",\"#B0BEC5\",\"#B0BEC5\",\"#B0BEC5\",\"#B0BEC5\",\"#B0BEC5\",\"#B0BEC5\"]]}],\"label\":\"Topic 29\",\"method\":\"update\"},{\"args\":[{\"marker.color\":[[\"#B0BEC5\",\"#B0BEC5\",\"#B0BEC5\",\"#B0BEC5\",\"#B0BEC5\",\"#B0BEC5\",\"#B0BEC5\",\"#B0BEC5\",\"#B0BEC5\",\"#B0BEC5\",\"#B0BEC5\",\"#B0BEC5\",\"#B0BEC5\",\"#B0BEC5\",\"#B0BEC5\",\"#B0BEC5\",\"#B0BEC5\",\"#B0BEC5\",\"#B0BEC5\",\"#B0BEC5\",\"#B0BEC5\",\"#B0BEC5\",\"#B0BEC5\",\"#B0BEC5\",\"#B0BEC5\",\"#B0BEC5\",\"#B0BEC5\",\"#B0BEC5\",\"#B0BEC5\",\"#B0BEC5\",\"red\",\"#B0BEC5\",\"#B0BEC5\",\"#B0BEC5\",\"#B0BEC5\",\"#B0BEC5\",\"#B0BEC5\",\"#B0BEC5\",\"#B0BEC5\",\"#B0BEC5\",\"#B0BEC5\",\"#B0BEC5\"]]}],\"label\":\"Topic 30\",\"method\":\"update\"},{\"args\":[{\"marker.color\":[[\"#B0BEC5\",\"#B0BEC5\",\"#B0BEC5\",\"#B0BEC5\",\"#B0BEC5\",\"#B0BEC5\",\"#B0BEC5\",\"#B0BEC5\",\"#B0BEC5\",\"#B0BEC5\",\"#B0BEC5\",\"#B0BEC5\",\"#B0BEC5\",\"#B0BEC5\",\"#B0BEC5\",\"#B0BEC5\",\"#B0BEC5\",\"#B0BEC5\",\"#B0BEC5\",\"#B0BEC5\",\"#B0BEC5\",\"#B0BEC5\",\"#B0BEC5\",\"#B0BEC5\",\"#B0BEC5\",\"#B0BEC5\",\"#B0BEC5\",\"#B0BEC5\",\"#B0BEC5\",\"#B0BEC5\",\"#B0BEC5\",\"red\",\"#B0BEC5\",\"#B0BEC5\",\"#B0BEC5\",\"#B0BEC5\",\"#B0BEC5\",\"#B0BEC5\",\"#B0BEC5\",\"#B0BEC5\",\"#B0BEC5\",\"#B0BEC5\"]]}],\"label\":\"Topic 31\",\"method\":\"update\"},{\"args\":[{\"marker.color\":[[\"#B0BEC5\",\"#B0BEC5\",\"#B0BEC5\",\"#B0BEC5\",\"#B0BEC5\",\"#B0BEC5\",\"#B0BEC5\",\"#B0BEC5\",\"#B0BEC5\",\"#B0BEC5\",\"#B0BEC5\",\"#B0BEC5\",\"#B0BEC5\",\"#B0BEC5\",\"#B0BEC5\",\"#B0BEC5\",\"#B0BEC5\",\"#B0BEC5\",\"#B0BEC5\",\"#B0BEC5\",\"#B0BEC5\",\"#B0BEC5\",\"#B0BEC5\",\"#B0BEC5\",\"#B0BEC5\",\"#B0BEC5\",\"#B0BEC5\",\"#B0BEC5\",\"#B0BEC5\",\"#B0BEC5\",\"#B0BEC5\",\"#B0BEC5\",\"red\",\"#B0BEC5\",\"#B0BEC5\",\"#B0BEC5\",\"#B0BEC5\",\"#B0BEC5\",\"#B0BEC5\",\"#B0BEC5\",\"#B0BEC5\",\"#B0BEC5\"]]}],\"label\":\"Topic 32\",\"method\":\"update\"},{\"args\":[{\"marker.color\":[[\"#B0BEC5\",\"#B0BEC5\",\"#B0BEC5\",\"#B0BEC5\",\"#B0BEC5\",\"#B0BEC5\",\"#B0BEC5\",\"#B0BEC5\",\"#B0BEC5\",\"#B0BEC5\",\"#B0BEC5\",\"#B0BEC5\",\"#B0BEC5\",\"#B0BEC5\",\"#B0BEC5\",\"#B0BEC5\",\"#B0BEC5\",\"#B0BEC5\",\"#B0BEC5\",\"#B0BEC5\",\"#B0BEC5\",\"#B0BEC5\",\"#B0BEC5\",\"#B0BEC5\",\"#B0BEC5\",\"#B0BEC5\",\"#B0BEC5\",\"#B0BEC5\",\"#B0BEC5\",\"#B0BEC5\",\"#B0BEC5\",\"#B0BEC5\",\"#B0BEC5\",\"red\",\"#B0BEC5\",\"#B0BEC5\",\"#B0BEC5\",\"#B0BEC5\",\"#B0BEC5\",\"#B0BEC5\",\"#B0BEC5\",\"#B0BEC5\"]]}],\"label\":\"Topic 33\",\"method\":\"update\"},{\"args\":[{\"marker.color\":[[\"#B0BEC5\",\"#B0BEC5\",\"#B0BEC5\",\"#B0BEC5\",\"#B0BEC5\",\"#B0BEC5\",\"#B0BEC5\",\"#B0BEC5\",\"#B0BEC5\",\"#B0BEC5\",\"#B0BEC5\",\"#B0BEC5\",\"#B0BEC5\",\"#B0BEC5\",\"#B0BEC5\",\"#B0BEC5\",\"#B0BEC5\",\"#B0BEC5\",\"#B0BEC5\",\"#B0BEC5\",\"#B0BEC5\",\"#B0BEC5\",\"#B0BEC5\",\"#B0BEC5\",\"#B0BEC5\",\"#B0BEC5\",\"#B0BEC5\",\"#B0BEC5\",\"#B0BEC5\",\"#B0BEC5\",\"#B0BEC5\",\"#B0BEC5\",\"#B0BEC5\",\"#B0BEC5\",\"red\",\"#B0BEC5\",\"#B0BEC5\",\"#B0BEC5\",\"#B0BEC5\",\"#B0BEC5\",\"#B0BEC5\",\"#B0BEC5\"]]}],\"label\":\"Topic 34\",\"method\":\"update\"},{\"args\":[{\"marker.color\":[[\"#B0BEC5\",\"#B0BEC5\",\"#B0BEC5\",\"#B0BEC5\",\"#B0BEC5\",\"#B0BEC5\",\"#B0BEC5\",\"#B0BEC5\",\"#B0BEC5\",\"#B0BEC5\",\"#B0BEC5\",\"#B0BEC5\",\"#B0BEC5\",\"#B0BEC5\",\"#B0BEC5\",\"#B0BEC5\",\"#B0BEC5\",\"#B0BEC5\",\"#B0BEC5\",\"#B0BEC5\",\"#B0BEC5\",\"#B0BEC5\",\"#B0BEC5\",\"#B0BEC5\",\"#B0BEC5\",\"#B0BEC5\",\"#B0BEC5\",\"#B0BEC5\",\"#B0BEC5\",\"#B0BEC5\",\"#B0BEC5\",\"#B0BEC5\",\"#B0BEC5\",\"#B0BEC5\",\"#B0BEC5\",\"red\",\"#B0BEC5\",\"#B0BEC5\",\"#B0BEC5\",\"#B0BEC5\",\"#B0BEC5\",\"#B0BEC5\"]]}],\"label\":\"Topic 35\",\"method\":\"update\"},{\"args\":[{\"marker.color\":[[\"#B0BEC5\",\"#B0BEC5\",\"#B0BEC5\",\"#B0BEC5\",\"#B0BEC5\",\"#B0BEC5\",\"#B0BEC5\",\"#B0BEC5\",\"#B0BEC5\",\"#B0BEC5\",\"#B0BEC5\",\"#B0BEC5\",\"#B0BEC5\",\"#B0BEC5\",\"#B0BEC5\",\"#B0BEC5\",\"#B0BEC5\",\"#B0BEC5\",\"#B0BEC5\",\"#B0BEC5\",\"#B0BEC5\",\"#B0BEC5\",\"#B0BEC5\",\"#B0BEC5\",\"#B0BEC5\",\"#B0BEC5\",\"#B0BEC5\",\"#B0BEC5\",\"#B0BEC5\",\"#B0BEC5\",\"#B0BEC5\",\"#B0BEC5\",\"#B0BEC5\",\"#B0BEC5\",\"#B0BEC5\",\"#B0BEC5\",\"red\",\"#B0BEC5\",\"#B0BEC5\",\"#B0BEC5\",\"#B0BEC5\",\"#B0BEC5\"]]}],\"label\":\"Topic 36\",\"method\":\"update\"},{\"args\":[{\"marker.color\":[[\"#B0BEC5\",\"#B0BEC5\",\"#B0BEC5\",\"#B0BEC5\",\"#B0BEC5\",\"#B0BEC5\",\"#B0BEC5\",\"#B0BEC5\",\"#B0BEC5\",\"#B0BEC5\",\"#B0BEC5\",\"#B0BEC5\",\"#B0BEC5\",\"#B0BEC5\",\"#B0BEC5\",\"#B0BEC5\",\"#B0BEC5\",\"#B0BEC5\",\"#B0BEC5\",\"#B0BEC5\",\"#B0BEC5\",\"#B0BEC5\",\"#B0BEC5\",\"#B0BEC5\",\"#B0BEC5\",\"#B0BEC5\",\"#B0BEC5\",\"#B0BEC5\",\"#B0BEC5\",\"#B0BEC5\",\"#B0BEC5\",\"#B0BEC5\",\"#B0BEC5\",\"#B0BEC5\",\"#B0BEC5\",\"#B0BEC5\",\"#B0BEC5\",\"red\",\"#B0BEC5\",\"#B0BEC5\",\"#B0BEC5\",\"#B0BEC5\"]]}],\"label\":\"Topic 37\",\"method\":\"update\"},{\"args\":[{\"marker.color\":[[\"#B0BEC5\",\"#B0BEC5\",\"#B0BEC5\",\"#B0BEC5\",\"#B0BEC5\",\"#B0BEC5\",\"#B0BEC5\",\"#B0BEC5\",\"#B0BEC5\",\"#B0BEC5\",\"#B0BEC5\",\"#B0BEC5\",\"#B0BEC5\",\"#B0BEC5\",\"#B0BEC5\",\"#B0BEC5\",\"#B0BEC5\",\"#B0BEC5\",\"#B0BEC5\",\"#B0BEC5\",\"#B0BEC5\",\"#B0BEC5\",\"#B0BEC5\",\"#B0BEC5\",\"#B0BEC5\",\"#B0BEC5\",\"#B0BEC5\",\"#B0BEC5\",\"#B0BEC5\",\"#B0BEC5\",\"#B0BEC5\",\"#B0BEC5\",\"#B0BEC5\",\"#B0BEC5\",\"#B0BEC5\",\"#B0BEC5\",\"#B0BEC5\",\"#B0BEC5\",\"red\",\"#B0BEC5\",\"#B0BEC5\",\"#B0BEC5\"]]}],\"label\":\"Topic 38\",\"method\":\"update\"},{\"args\":[{\"marker.color\":[[\"#B0BEC5\",\"#B0BEC5\",\"#B0BEC5\",\"#B0BEC5\",\"#B0BEC5\",\"#B0BEC5\",\"#B0BEC5\",\"#B0BEC5\",\"#B0BEC5\",\"#B0BEC5\",\"#B0BEC5\",\"#B0BEC5\",\"#B0BEC5\",\"#B0BEC5\",\"#B0BEC5\",\"#B0BEC5\",\"#B0BEC5\",\"#B0BEC5\",\"#B0BEC5\",\"#B0BEC5\",\"#B0BEC5\",\"#B0BEC5\",\"#B0BEC5\",\"#B0BEC5\",\"#B0BEC5\",\"#B0BEC5\",\"#B0BEC5\",\"#B0BEC5\",\"#B0BEC5\",\"#B0BEC5\",\"#B0BEC5\",\"#B0BEC5\",\"#B0BEC5\",\"#B0BEC5\",\"#B0BEC5\",\"#B0BEC5\",\"#B0BEC5\",\"#B0BEC5\",\"#B0BEC5\",\"red\",\"#B0BEC5\",\"#B0BEC5\"]]}],\"label\":\"Topic 39\",\"method\":\"update\"},{\"args\":[{\"marker.color\":[[\"#B0BEC5\",\"#B0BEC5\",\"#B0BEC5\",\"#B0BEC5\",\"#B0BEC5\",\"#B0BEC5\",\"#B0BEC5\",\"#B0BEC5\",\"#B0BEC5\",\"#B0BEC5\",\"#B0BEC5\",\"#B0BEC5\",\"#B0BEC5\",\"#B0BEC5\",\"#B0BEC5\",\"#B0BEC5\",\"#B0BEC5\",\"#B0BEC5\",\"#B0BEC5\",\"#B0BEC5\",\"#B0BEC5\",\"#B0BEC5\",\"#B0BEC5\",\"#B0BEC5\",\"#B0BEC5\",\"#B0BEC5\",\"#B0BEC5\",\"#B0BEC5\",\"#B0BEC5\",\"#B0BEC5\",\"#B0BEC5\",\"#B0BEC5\",\"#B0BEC5\",\"#B0BEC5\",\"#B0BEC5\",\"#B0BEC5\",\"#B0BEC5\",\"#B0BEC5\",\"#B0BEC5\",\"#B0BEC5\",\"red\",\"#B0BEC5\"]]}],\"label\":\"Topic 40\",\"method\":\"update\"},{\"args\":[{\"marker.color\":[[\"#B0BEC5\",\"#B0BEC5\",\"#B0BEC5\",\"#B0BEC5\",\"#B0BEC5\",\"#B0BEC5\",\"#B0BEC5\",\"#B0BEC5\",\"#B0BEC5\",\"#B0BEC5\",\"#B0BEC5\",\"#B0BEC5\",\"#B0BEC5\",\"#B0BEC5\",\"#B0BEC5\",\"#B0BEC5\",\"#B0BEC5\",\"#B0BEC5\",\"#B0BEC5\",\"#B0BEC5\",\"#B0BEC5\",\"#B0BEC5\",\"#B0BEC5\",\"#B0BEC5\",\"#B0BEC5\",\"#B0BEC5\",\"#B0BEC5\",\"#B0BEC5\",\"#B0BEC5\",\"#B0BEC5\",\"#B0BEC5\",\"#B0BEC5\",\"#B0BEC5\",\"#B0BEC5\",\"#B0BEC5\",\"#B0BEC5\",\"#B0BEC5\",\"#B0BEC5\",\"#B0BEC5\",\"#B0BEC5\",\"#B0BEC5\",\"red\"]]}],\"label\":\"Topic 41\",\"method\":\"update\"}]}],\"shapes\":[{\"line\":{\"color\":\"#CFD8DC\",\"width\":2},\"type\":\"line\",\"x0\":1.4264252662658699,\"x1\":1.4264252662658699,\"y0\":-5.830916404724121,\"y1\":20.5946946144104},{\"line\":{\"color\":\"#9E9E9E\",\"width\":2},\"type\":\"line\",\"x0\":-14.812613201141357,\"x1\":17.665463733673096,\"y0\":7.38188910484314,\"y1\":7.38188910484314}],\"annotations\":[{\"showarrow\":false,\"text\":\"D1\",\"x\":-14.812613201141357,\"y\":7.38188910484314,\"yshift\":10},{\"showarrow\":false,\"text\":\"D2\",\"x\":1.4264252662658699,\"xshift\":10,\"y\":20.5946946144104}]},                        {\"responsive\": true}                    ).then(function(){\n",
       "                            \n",
       "var gd = document.getElementById('a29b7dd8-6c79-46bc-8de1-46f3dab968a7');\n",
       "var x = new MutationObserver(function (mutations, observer) {{\n",
       "        var display = window.getComputedStyle(gd).display;\n",
       "        if (!display || display === 'none') {{\n",
       "            console.log([gd, 'removed!']);\n",
       "            Plotly.purge(gd);\n",
       "            observer.disconnect();\n",
       "        }}\n",
       "}});\n",
       "\n",
       "// Listen for the removal of the full notebook cells\n",
       "var notebookContainer = gd.closest('#notebook-container');\n",
       "if (notebookContainer) {{\n",
       "    x.observe(notebookContainer, {childList: true});\n",
       "}}\n",
       "\n",
       "// Listen for the clearing of the current output cell\n",
       "var outputEl = gd.closest('.output');\n",
       "if (outputEl) {{\n",
       "    x.observe(outputEl, {childList: true});\n",
       "}}\n",
       "\n",
       "                        })                };                });            </script>        </div>"
      ]
     },
     "metadata": {},
     "output_type": "display_data"
    }
   ],
   "source": [
    "optimal_model.visualize_topics()"
   ]
  },
  {
   "cell_type": "markdown",
   "id": "ded38963",
   "metadata": {},
   "source": [
    "#### Topic Distribution within a single text"
   ]
  },
  {
   "cell_type": "code",
   "execution_count": 34,
   "id": "3fd9d6a8",
   "metadata": {},
   "outputs": [
    {
     "data": {
      "application/vnd.plotly.v1+json": {
       "config": {
        "plotlyServerURL": "https://plot.ly"
       },
       "data": [
        {
         "marker": {
          "color": "#C8D2D7",
          "line": {
           "color": "#6E8484",
           "width": 1
          }
         },
         "orientation": "h",
         "type": "bar",
         "x": [
          0.014198093913764748
         ],
         "y": [
          "<b>Topic 5</b>: toy_battery_mouth_laptop..."
         ]
        }
       ],
       "layout": {
        "height": 600,
        "hoverlabel": {
         "bgcolor": "white",
         "font": {
          "family": "Rockwell",
          "size": 16
         }
        },
        "template": {
         "data": {
          "bar": [
           {
            "error_x": {
             "color": "rgb(36,36,36)"
            },
            "error_y": {
             "color": "rgb(36,36,36)"
            },
            "marker": {
             "line": {
              "color": "white",
              "width": 0.5
             },
             "pattern": {
              "fillmode": "overlay",
              "size": 10,
              "solidity": 0.2
             }
            },
            "type": "bar"
           }
          ],
          "barpolar": [
           {
            "marker": {
             "line": {
              "color": "white",
              "width": 0.5
             },
             "pattern": {
              "fillmode": "overlay",
              "size": 10,
              "solidity": 0.2
             }
            },
            "type": "barpolar"
           }
          ],
          "carpet": [
           {
            "aaxis": {
             "endlinecolor": "rgb(36,36,36)",
             "gridcolor": "white",
             "linecolor": "white",
             "minorgridcolor": "white",
             "startlinecolor": "rgb(36,36,36)"
            },
            "baxis": {
             "endlinecolor": "rgb(36,36,36)",
             "gridcolor": "white",
             "linecolor": "white",
             "minorgridcolor": "white",
             "startlinecolor": "rgb(36,36,36)"
            },
            "type": "carpet"
           }
          ],
          "choropleth": [
           {
            "colorbar": {
             "outlinewidth": 1,
             "tickcolor": "rgb(36,36,36)",
             "ticks": "outside"
            },
            "type": "choropleth"
           }
          ],
          "contour": [
           {
            "colorbar": {
             "outlinewidth": 1,
             "tickcolor": "rgb(36,36,36)",
             "ticks": "outside"
            },
            "colorscale": [
             [
              0,
              "#440154"
             ],
             [
              0.1111111111111111,
              "#482878"
             ],
             [
              0.2222222222222222,
              "#3e4989"
             ],
             [
              0.3333333333333333,
              "#31688e"
             ],
             [
              0.4444444444444444,
              "#26828e"
             ],
             [
              0.5555555555555556,
              "#1f9e89"
             ],
             [
              0.6666666666666666,
              "#35b779"
             ],
             [
              0.7777777777777778,
              "#6ece58"
             ],
             [
              0.8888888888888888,
              "#b5de2b"
             ],
             [
              1,
              "#fde725"
             ]
            ],
            "type": "contour"
           }
          ],
          "contourcarpet": [
           {
            "colorbar": {
             "outlinewidth": 1,
             "tickcolor": "rgb(36,36,36)",
             "ticks": "outside"
            },
            "type": "contourcarpet"
           }
          ],
          "heatmap": [
           {
            "colorbar": {
             "outlinewidth": 1,
             "tickcolor": "rgb(36,36,36)",
             "ticks": "outside"
            },
            "colorscale": [
             [
              0,
              "#440154"
             ],
             [
              0.1111111111111111,
              "#482878"
             ],
             [
              0.2222222222222222,
              "#3e4989"
             ],
             [
              0.3333333333333333,
              "#31688e"
             ],
             [
              0.4444444444444444,
              "#26828e"
             ],
             [
              0.5555555555555556,
              "#1f9e89"
             ],
             [
              0.6666666666666666,
              "#35b779"
             ],
             [
              0.7777777777777778,
              "#6ece58"
             ],
             [
              0.8888888888888888,
              "#b5de2b"
             ],
             [
              1,
              "#fde725"
             ]
            ],
            "type": "heatmap"
           }
          ],
          "heatmapgl": [
           {
            "colorbar": {
             "outlinewidth": 1,
             "tickcolor": "rgb(36,36,36)",
             "ticks": "outside"
            },
            "colorscale": [
             [
              0,
              "#440154"
             ],
             [
              0.1111111111111111,
              "#482878"
             ],
             [
              0.2222222222222222,
              "#3e4989"
             ],
             [
              0.3333333333333333,
              "#31688e"
             ],
             [
              0.4444444444444444,
              "#26828e"
             ],
             [
              0.5555555555555556,
              "#1f9e89"
             ],
             [
              0.6666666666666666,
              "#35b779"
             ],
             [
              0.7777777777777778,
              "#6ece58"
             ],
             [
              0.8888888888888888,
              "#b5de2b"
             ],
             [
              1,
              "#fde725"
             ]
            ],
            "type": "heatmapgl"
           }
          ],
          "histogram": [
           {
            "marker": {
             "line": {
              "color": "white",
              "width": 0.6
             }
            },
            "type": "histogram"
           }
          ],
          "histogram2d": [
           {
            "colorbar": {
             "outlinewidth": 1,
             "tickcolor": "rgb(36,36,36)",
             "ticks": "outside"
            },
            "colorscale": [
             [
              0,
              "#440154"
             ],
             [
              0.1111111111111111,
              "#482878"
             ],
             [
              0.2222222222222222,
              "#3e4989"
             ],
             [
              0.3333333333333333,
              "#31688e"
             ],
             [
              0.4444444444444444,
              "#26828e"
             ],
             [
              0.5555555555555556,
              "#1f9e89"
             ],
             [
              0.6666666666666666,
              "#35b779"
             ],
             [
              0.7777777777777778,
              "#6ece58"
             ],
             [
              0.8888888888888888,
              "#b5de2b"
             ],
             [
              1,
              "#fde725"
             ]
            ],
            "type": "histogram2d"
           }
          ],
          "histogram2dcontour": [
           {
            "colorbar": {
             "outlinewidth": 1,
             "tickcolor": "rgb(36,36,36)",
             "ticks": "outside"
            },
            "colorscale": [
             [
              0,
              "#440154"
             ],
             [
              0.1111111111111111,
              "#482878"
             ],
             [
              0.2222222222222222,
              "#3e4989"
             ],
             [
              0.3333333333333333,
              "#31688e"
             ],
             [
              0.4444444444444444,
              "#26828e"
             ],
             [
              0.5555555555555556,
              "#1f9e89"
             ],
             [
              0.6666666666666666,
              "#35b779"
             ],
             [
              0.7777777777777778,
              "#6ece58"
             ],
             [
              0.8888888888888888,
              "#b5de2b"
             ],
             [
              1,
              "#fde725"
             ]
            ],
            "type": "histogram2dcontour"
           }
          ],
          "mesh3d": [
           {
            "colorbar": {
             "outlinewidth": 1,
             "tickcolor": "rgb(36,36,36)",
             "ticks": "outside"
            },
            "type": "mesh3d"
           }
          ],
          "parcoords": [
           {
            "line": {
             "colorbar": {
              "outlinewidth": 1,
              "tickcolor": "rgb(36,36,36)",
              "ticks": "outside"
             }
            },
            "type": "parcoords"
           }
          ],
          "pie": [
           {
            "automargin": true,
            "type": "pie"
           }
          ],
          "scatter": [
           {
            "fillpattern": {
             "fillmode": "overlay",
             "size": 10,
             "solidity": 0.2
            },
            "type": "scatter"
           }
          ],
          "scatter3d": [
           {
            "line": {
             "colorbar": {
              "outlinewidth": 1,
              "tickcolor": "rgb(36,36,36)",
              "ticks": "outside"
             }
            },
            "marker": {
             "colorbar": {
              "outlinewidth": 1,
              "tickcolor": "rgb(36,36,36)",
              "ticks": "outside"
             }
            },
            "type": "scatter3d"
           }
          ],
          "scattercarpet": [
           {
            "marker": {
             "colorbar": {
              "outlinewidth": 1,
              "tickcolor": "rgb(36,36,36)",
              "ticks": "outside"
             }
            },
            "type": "scattercarpet"
           }
          ],
          "scattergeo": [
           {
            "marker": {
             "colorbar": {
              "outlinewidth": 1,
              "tickcolor": "rgb(36,36,36)",
              "ticks": "outside"
             }
            },
            "type": "scattergeo"
           }
          ],
          "scattergl": [
           {
            "marker": {
             "colorbar": {
              "outlinewidth": 1,
              "tickcolor": "rgb(36,36,36)",
              "ticks": "outside"
             }
            },
            "type": "scattergl"
           }
          ],
          "scattermapbox": [
           {
            "marker": {
             "colorbar": {
              "outlinewidth": 1,
              "tickcolor": "rgb(36,36,36)",
              "ticks": "outside"
             }
            },
            "type": "scattermapbox"
           }
          ],
          "scatterpolar": [
           {
            "marker": {
             "colorbar": {
              "outlinewidth": 1,
              "tickcolor": "rgb(36,36,36)",
              "ticks": "outside"
             }
            },
            "type": "scatterpolar"
           }
          ],
          "scatterpolargl": [
           {
            "marker": {
             "colorbar": {
              "outlinewidth": 1,
              "tickcolor": "rgb(36,36,36)",
              "ticks": "outside"
             }
            },
            "type": "scatterpolargl"
           }
          ],
          "scatterternary": [
           {
            "marker": {
             "colorbar": {
              "outlinewidth": 1,
              "tickcolor": "rgb(36,36,36)",
              "ticks": "outside"
             }
            },
            "type": "scatterternary"
           }
          ],
          "surface": [
           {
            "colorbar": {
             "outlinewidth": 1,
             "tickcolor": "rgb(36,36,36)",
             "ticks": "outside"
            },
            "colorscale": [
             [
              0,
              "#440154"
             ],
             [
              0.1111111111111111,
              "#482878"
             ],
             [
              0.2222222222222222,
              "#3e4989"
             ],
             [
              0.3333333333333333,
              "#31688e"
             ],
             [
              0.4444444444444444,
              "#26828e"
             ],
             [
              0.5555555555555556,
              "#1f9e89"
             ],
             [
              0.6666666666666666,
              "#35b779"
             ],
             [
              0.7777777777777778,
              "#6ece58"
             ],
             [
              0.8888888888888888,
              "#b5de2b"
             ],
             [
              1,
              "#fde725"
             ]
            ],
            "type": "surface"
           }
          ],
          "table": [
           {
            "cells": {
             "fill": {
              "color": "rgb(237,237,237)"
             },
             "line": {
              "color": "white"
             }
            },
            "header": {
             "fill": {
              "color": "rgb(217,217,217)"
             },
             "line": {
              "color": "white"
             }
            },
            "type": "table"
           }
          ]
         },
         "layout": {
          "annotationdefaults": {
           "arrowhead": 0,
           "arrowwidth": 1
          },
          "autotypenumbers": "strict",
          "coloraxis": {
           "colorbar": {
            "outlinewidth": 1,
            "tickcolor": "rgb(36,36,36)",
            "ticks": "outside"
           }
          },
          "colorscale": {
           "diverging": [
            [
             0,
             "rgb(103,0,31)"
            ],
            [
             0.1,
             "rgb(178,24,43)"
            ],
            [
             0.2,
             "rgb(214,96,77)"
            ],
            [
             0.3,
             "rgb(244,165,130)"
            ],
            [
             0.4,
             "rgb(253,219,199)"
            ],
            [
             0.5,
             "rgb(247,247,247)"
            ],
            [
             0.6,
             "rgb(209,229,240)"
            ],
            [
             0.7,
             "rgb(146,197,222)"
            ],
            [
             0.8,
             "rgb(67,147,195)"
            ],
            [
             0.9,
             "rgb(33,102,172)"
            ],
            [
             1,
             "rgb(5,48,97)"
            ]
           ],
           "sequential": [
            [
             0,
             "#440154"
            ],
            [
             0.1111111111111111,
             "#482878"
            ],
            [
             0.2222222222222222,
             "#3e4989"
            ],
            [
             0.3333333333333333,
             "#31688e"
            ],
            [
             0.4444444444444444,
             "#26828e"
            ],
            [
             0.5555555555555556,
             "#1f9e89"
            ],
            [
             0.6666666666666666,
             "#35b779"
            ],
            [
             0.7777777777777778,
             "#6ece58"
            ],
            [
             0.8888888888888888,
             "#b5de2b"
            ],
            [
             1,
             "#fde725"
            ]
           ],
           "sequentialminus": [
            [
             0,
             "#440154"
            ],
            [
             0.1111111111111111,
             "#482878"
            ],
            [
             0.2222222222222222,
             "#3e4989"
            ],
            [
             0.3333333333333333,
             "#31688e"
            ],
            [
             0.4444444444444444,
             "#26828e"
            ],
            [
             0.5555555555555556,
             "#1f9e89"
            ],
            [
             0.6666666666666666,
             "#35b779"
            ],
            [
             0.7777777777777778,
             "#6ece58"
            ],
            [
             0.8888888888888888,
             "#b5de2b"
            ],
            [
             1,
             "#fde725"
            ]
           ]
          },
          "colorway": [
           "#1F77B4",
           "#FF7F0E",
           "#2CA02C",
           "#D62728",
           "#9467BD",
           "#8C564B",
           "#E377C2",
           "#7F7F7F",
           "#BCBD22",
           "#17BECF"
          ],
          "font": {
           "color": "rgb(36,36,36)"
          },
          "geo": {
           "bgcolor": "white",
           "lakecolor": "white",
           "landcolor": "white",
           "showlakes": true,
           "showland": true,
           "subunitcolor": "white"
          },
          "hoverlabel": {
           "align": "left"
          },
          "hovermode": "closest",
          "mapbox": {
           "style": "light"
          },
          "paper_bgcolor": "white",
          "plot_bgcolor": "white",
          "polar": {
           "angularaxis": {
            "gridcolor": "rgb(232,232,232)",
            "linecolor": "rgb(36,36,36)",
            "showgrid": false,
            "showline": true,
            "ticks": "outside"
           },
           "bgcolor": "white",
           "radialaxis": {
            "gridcolor": "rgb(232,232,232)",
            "linecolor": "rgb(36,36,36)",
            "showgrid": false,
            "showline": true,
            "ticks": "outside"
           }
          },
          "scene": {
           "xaxis": {
            "backgroundcolor": "white",
            "gridcolor": "rgb(232,232,232)",
            "gridwidth": 2,
            "linecolor": "rgb(36,36,36)",
            "showbackground": true,
            "showgrid": false,
            "showline": true,
            "ticks": "outside",
            "zeroline": false,
            "zerolinecolor": "rgb(36,36,36)"
           },
           "yaxis": {
            "backgroundcolor": "white",
            "gridcolor": "rgb(232,232,232)",
            "gridwidth": 2,
            "linecolor": "rgb(36,36,36)",
            "showbackground": true,
            "showgrid": false,
            "showline": true,
            "ticks": "outside",
            "zeroline": false,
            "zerolinecolor": "rgb(36,36,36)"
           },
           "zaxis": {
            "backgroundcolor": "white",
            "gridcolor": "rgb(232,232,232)",
            "gridwidth": 2,
            "linecolor": "rgb(36,36,36)",
            "showbackground": true,
            "showgrid": false,
            "showline": true,
            "ticks": "outside",
            "zeroline": false,
            "zerolinecolor": "rgb(36,36,36)"
           }
          },
          "shapedefaults": {
           "fillcolor": "black",
           "line": {
            "width": 0
           },
           "opacity": 0.3
          },
          "ternary": {
           "aaxis": {
            "gridcolor": "rgb(232,232,232)",
            "linecolor": "rgb(36,36,36)",
            "showgrid": false,
            "showline": true,
            "ticks": "outside"
           },
           "baxis": {
            "gridcolor": "rgb(232,232,232)",
            "linecolor": "rgb(36,36,36)",
            "showgrid": false,
            "showline": true,
            "ticks": "outside"
           },
           "bgcolor": "white",
           "caxis": {
            "gridcolor": "rgb(232,232,232)",
            "linecolor": "rgb(36,36,36)",
            "showgrid": false,
            "showline": true,
            "ticks": "outside"
           }
          },
          "title": {
           "x": 0.05
          },
          "xaxis": {
           "automargin": true,
           "gridcolor": "rgb(232,232,232)",
           "linecolor": "rgb(36,36,36)",
           "showgrid": false,
           "showline": true,
           "ticks": "outside",
           "title": {
            "standoff": 15
           },
           "zeroline": false,
           "zerolinecolor": "rgb(36,36,36)"
          },
          "yaxis": {
           "automargin": true,
           "gridcolor": "rgb(232,232,232)",
           "linecolor": "rgb(36,36,36)",
           "showgrid": false,
           "showline": true,
           "ticks": "outside",
           "title": {
            "standoff": 15
           },
           "zeroline": false,
           "zerolinecolor": "rgb(36,36,36)"
          }
         }
        },
        "title": {
         "font": {
          "color": "Black",
          "size": 22
         },
         "text": "<b>Topic Probability Distribution",
         "x": 0.5,
         "xanchor": "center",
         "y": 0.95,
         "yanchor": "top"
        },
        "width": 800,
        "xaxis": {
         "title": {
          "text": "Probability"
         }
        }
       }
      },
      "text/html": [
       "<div>                            <div id=\"7330167a-a630-4964-b7f2-a48cf10fff45\" class=\"plotly-graph-div\" style=\"height:600px; width:800px;\"></div>            <script type=\"text/javascript\">                require([\"plotly\"], function(Plotly) {                    window.PLOTLYENV=window.PLOTLYENV || {};                                    if (document.getElementById(\"7330167a-a630-4964-b7f2-a48cf10fff45\")) {                    Plotly.newPlot(                        \"7330167a-a630-4964-b7f2-a48cf10fff45\",                        [{\"marker\":{\"color\":\"#C8D2D7\",\"line\":{\"color\":\"#6E8484\",\"width\":1}},\"orientation\":\"h\",\"x\":[0.014198093913764748],\"y\":[\"<b>Topic 5</b>: toy_battery_mouth_laptop...\"],\"type\":\"bar\"}],                        {\"template\":{\"data\":{\"barpolar\":[{\"marker\":{\"line\":{\"color\":\"white\",\"width\":0.5},\"pattern\":{\"fillmode\":\"overlay\",\"size\":10,\"solidity\":0.2}},\"type\":\"barpolar\"}],\"bar\":[{\"error_x\":{\"color\":\"rgb(36,36,36)\"},\"error_y\":{\"color\":\"rgb(36,36,36)\"},\"marker\":{\"line\":{\"color\":\"white\",\"width\":0.5},\"pattern\":{\"fillmode\":\"overlay\",\"size\":10,\"solidity\":0.2}},\"type\":\"bar\"}],\"carpet\":[{\"aaxis\":{\"endlinecolor\":\"rgb(36,36,36)\",\"gridcolor\":\"white\",\"linecolor\":\"white\",\"minorgridcolor\":\"white\",\"startlinecolor\":\"rgb(36,36,36)\"},\"baxis\":{\"endlinecolor\":\"rgb(36,36,36)\",\"gridcolor\":\"white\",\"linecolor\":\"white\",\"minorgridcolor\":\"white\",\"startlinecolor\":\"rgb(36,36,36)\"},\"type\":\"carpet\"}],\"choropleth\":[{\"colorbar\":{\"outlinewidth\":1,\"tickcolor\":\"rgb(36,36,36)\",\"ticks\":\"outside\"},\"type\":\"choropleth\"}],\"contourcarpet\":[{\"colorbar\":{\"outlinewidth\":1,\"tickcolor\":\"rgb(36,36,36)\",\"ticks\":\"outside\"},\"type\":\"contourcarpet\"}],\"contour\":[{\"colorbar\":{\"outlinewidth\":1,\"tickcolor\":\"rgb(36,36,36)\",\"ticks\":\"outside\"},\"colorscale\":[[0.0,\"#440154\"],[0.1111111111111111,\"#482878\"],[0.2222222222222222,\"#3e4989\"],[0.3333333333333333,\"#31688e\"],[0.4444444444444444,\"#26828e\"],[0.5555555555555556,\"#1f9e89\"],[0.6666666666666666,\"#35b779\"],[0.7777777777777778,\"#6ece58\"],[0.8888888888888888,\"#b5de2b\"],[1.0,\"#fde725\"]],\"type\":\"contour\"}],\"heatmapgl\":[{\"colorbar\":{\"outlinewidth\":1,\"tickcolor\":\"rgb(36,36,36)\",\"ticks\":\"outside\"},\"colorscale\":[[0.0,\"#440154\"],[0.1111111111111111,\"#482878\"],[0.2222222222222222,\"#3e4989\"],[0.3333333333333333,\"#31688e\"],[0.4444444444444444,\"#26828e\"],[0.5555555555555556,\"#1f9e89\"],[0.6666666666666666,\"#35b779\"],[0.7777777777777778,\"#6ece58\"],[0.8888888888888888,\"#b5de2b\"],[1.0,\"#fde725\"]],\"type\":\"heatmapgl\"}],\"heatmap\":[{\"colorbar\":{\"outlinewidth\":1,\"tickcolor\":\"rgb(36,36,36)\",\"ticks\":\"outside\"},\"colorscale\":[[0.0,\"#440154\"],[0.1111111111111111,\"#482878\"],[0.2222222222222222,\"#3e4989\"],[0.3333333333333333,\"#31688e\"],[0.4444444444444444,\"#26828e\"],[0.5555555555555556,\"#1f9e89\"],[0.6666666666666666,\"#35b779\"],[0.7777777777777778,\"#6ece58\"],[0.8888888888888888,\"#b5de2b\"],[1.0,\"#fde725\"]],\"type\":\"heatmap\"}],\"histogram2dcontour\":[{\"colorbar\":{\"outlinewidth\":1,\"tickcolor\":\"rgb(36,36,36)\",\"ticks\":\"outside\"},\"colorscale\":[[0.0,\"#440154\"],[0.1111111111111111,\"#482878\"],[0.2222222222222222,\"#3e4989\"],[0.3333333333333333,\"#31688e\"],[0.4444444444444444,\"#26828e\"],[0.5555555555555556,\"#1f9e89\"],[0.6666666666666666,\"#35b779\"],[0.7777777777777778,\"#6ece58\"],[0.8888888888888888,\"#b5de2b\"],[1.0,\"#fde725\"]],\"type\":\"histogram2dcontour\"}],\"histogram2d\":[{\"colorbar\":{\"outlinewidth\":1,\"tickcolor\":\"rgb(36,36,36)\",\"ticks\":\"outside\"},\"colorscale\":[[0.0,\"#440154\"],[0.1111111111111111,\"#482878\"],[0.2222222222222222,\"#3e4989\"],[0.3333333333333333,\"#31688e\"],[0.4444444444444444,\"#26828e\"],[0.5555555555555556,\"#1f9e89\"],[0.6666666666666666,\"#35b779\"],[0.7777777777777778,\"#6ece58\"],[0.8888888888888888,\"#b5de2b\"],[1.0,\"#fde725\"]],\"type\":\"histogram2d\"}],\"histogram\":[{\"marker\":{\"line\":{\"color\":\"white\",\"width\":0.6}},\"type\":\"histogram\"}],\"mesh3d\":[{\"colorbar\":{\"outlinewidth\":1,\"tickcolor\":\"rgb(36,36,36)\",\"ticks\":\"outside\"},\"type\":\"mesh3d\"}],\"parcoords\":[{\"line\":{\"colorbar\":{\"outlinewidth\":1,\"tickcolor\":\"rgb(36,36,36)\",\"ticks\":\"outside\"}},\"type\":\"parcoords\"}],\"pie\":[{\"automargin\":true,\"type\":\"pie\"}],\"scatter3d\":[{\"line\":{\"colorbar\":{\"outlinewidth\":1,\"tickcolor\":\"rgb(36,36,36)\",\"ticks\":\"outside\"}},\"marker\":{\"colorbar\":{\"outlinewidth\":1,\"tickcolor\":\"rgb(36,36,36)\",\"ticks\":\"outside\"}},\"type\":\"scatter3d\"}],\"scattercarpet\":[{\"marker\":{\"colorbar\":{\"outlinewidth\":1,\"tickcolor\":\"rgb(36,36,36)\",\"ticks\":\"outside\"}},\"type\":\"scattercarpet\"}],\"scattergeo\":[{\"marker\":{\"colorbar\":{\"outlinewidth\":1,\"tickcolor\":\"rgb(36,36,36)\",\"ticks\":\"outside\"}},\"type\":\"scattergeo\"}],\"scattergl\":[{\"marker\":{\"colorbar\":{\"outlinewidth\":1,\"tickcolor\":\"rgb(36,36,36)\",\"ticks\":\"outside\"}},\"type\":\"scattergl\"}],\"scattermapbox\":[{\"marker\":{\"colorbar\":{\"outlinewidth\":1,\"tickcolor\":\"rgb(36,36,36)\",\"ticks\":\"outside\"}},\"type\":\"scattermapbox\"}],\"scatterpolargl\":[{\"marker\":{\"colorbar\":{\"outlinewidth\":1,\"tickcolor\":\"rgb(36,36,36)\",\"ticks\":\"outside\"}},\"type\":\"scatterpolargl\"}],\"scatterpolar\":[{\"marker\":{\"colorbar\":{\"outlinewidth\":1,\"tickcolor\":\"rgb(36,36,36)\",\"ticks\":\"outside\"}},\"type\":\"scatterpolar\"}],\"scatter\":[{\"fillpattern\":{\"fillmode\":\"overlay\",\"size\":10,\"solidity\":0.2},\"type\":\"scatter\"}],\"scatterternary\":[{\"marker\":{\"colorbar\":{\"outlinewidth\":1,\"tickcolor\":\"rgb(36,36,36)\",\"ticks\":\"outside\"}},\"type\":\"scatterternary\"}],\"surface\":[{\"colorbar\":{\"outlinewidth\":1,\"tickcolor\":\"rgb(36,36,36)\",\"ticks\":\"outside\"},\"colorscale\":[[0.0,\"#440154\"],[0.1111111111111111,\"#482878\"],[0.2222222222222222,\"#3e4989\"],[0.3333333333333333,\"#31688e\"],[0.4444444444444444,\"#26828e\"],[0.5555555555555556,\"#1f9e89\"],[0.6666666666666666,\"#35b779\"],[0.7777777777777778,\"#6ece58\"],[0.8888888888888888,\"#b5de2b\"],[1.0,\"#fde725\"]],\"type\":\"surface\"}],\"table\":[{\"cells\":{\"fill\":{\"color\":\"rgb(237,237,237)\"},\"line\":{\"color\":\"white\"}},\"header\":{\"fill\":{\"color\":\"rgb(217,217,217)\"},\"line\":{\"color\":\"white\"}},\"type\":\"table\"}]},\"layout\":{\"annotationdefaults\":{\"arrowhead\":0,\"arrowwidth\":1},\"autotypenumbers\":\"strict\",\"coloraxis\":{\"colorbar\":{\"outlinewidth\":1,\"tickcolor\":\"rgb(36,36,36)\",\"ticks\":\"outside\"}},\"colorscale\":{\"diverging\":[[0.0,\"rgb(103,0,31)\"],[0.1,\"rgb(178,24,43)\"],[0.2,\"rgb(214,96,77)\"],[0.3,\"rgb(244,165,130)\"],[0.4,\"rgb(253,219,199)\"],[0.5,\"rgb(247,247,247)\"],[0.6,\"rgb(209,229,240)\"],[0.7,\"rgb(146,197,222)\"],[0.8,\"rgb(67,147,195)\"],[0.9,\"rgb(33,102,172)\"],[1.0,\"rgb(5,48,97)\"]],\"sequential\":[[0.0,\"#440154\"],[0.1111111111111111,\"#482878\"],[0.2222222222222222,\"#3e4989\"],[0.3333333333333333,\"#31688e\"],[0.4444444444444444,\"#26828e\"],[0.5555555555555556,\"#1f9e89\"],[0.6666666666666666,\"#35b779\"],[0.7777777777777778,\"#6ece58\"],[0.8888888888888888,\"#b5de2b\"],[1.0,\"#fde725\"]],\"sequentialminus\":[[0.0,\"#440154\"],[0.1111111111111111,\"#482878\"],[0.2222222222222222,\"#3e4989\"],[0.3333333333333333,\"#31688e\"],[0.4444444444444444,\"#26828e\"],[0.5555555555555556,\"#1f9e89\"],[0.6666666666666666,\"#35b779\"],[0.7777777777777778,\"#6ece58\"],[0.8888888888888888,\"#b5de2b\"],[1.0,\"#fde725\"]]},\"colorway\":[\"#1F77B4\",\"#FF7F0E\",\"#2CA02C\",\"#D62728\",\"#9467BD\",\"#8C564B\",\"#E377C2\",\"#7F7F7F\",\"#BCBD22\",\"#17BECF\"],\"font\":{\"color\":\"rgb(36,36,36)\"},\"geo\":{\"bgcolor\":\"white\",\"lakecolor\":\"white\",\"landcolor\":\"white\",\"showlakes\":true,\"showland\":true,\"subunitcolor\":\"white\"},\"hoverlabel\":{\"align\":\"left\"},\"hovermode\":\"closest\",\"mapbox\":{\"style\":\"light\"},\"paper_bgcolor\":\"white\",\"plot_bgcolor\":\"white\",\"polar\":{\"angularaxis\":{\"gridcolor\":\"rgb(232,232,232)\",\"linecolor\":\"rgb(36,36,36)\",\"showgrid\":false,\"showline\":true,\"ticks\":\"outside\"},\"bgcolor\":\"white\",\"radialaxis\":{\"gridcolor\":\"rgb(232,232,232)\",\"linecolor\":\"rgb(36,36,36)\",\"showgrid\":false,\"showline\":true,\"ticks\":\"outside\"}},\"scene\":{\"xaxis\":{\"backgroundcolor\":\"white\",\"gridcolor\":\"rgb(232,232,232)\",\"gridwidth\":2,\"linecolor\":\"rgb(36,36,36)\",\"showbackground\":true,\"showgrid\":false,\"showline\":true,\"ticks\":\"outside\",\"zeroline\":false,\"zerolinecolor\":\"rgb(36,36,36)\"},\"yaxis\":{\"backgroundcolor\":\"white\",\"gridcolor\":\"rgb(232,232,232)\",\"gridwidth\":2,\"linecolor\":\"rgb(36,36,36)\",\"showbackground\":true,\"showgrid\":false,\"showline\":true,\"ticks\":\"outside\",\"zeroline\":false,\"zerolinecolor\":\"rgb(36,36,36)\"},\"zaxis\":{\"backgroundcolor\":\"white\",\"gridcolor\":\"rgb(232,232,232)\",\"gridwidth\":2,\"linecolor\":\"rgb(36,36,36)\",\"showbackground\":true,\"showgrid\":false,\"showline\":true,\"ticks\":\"outside\",\"zeroline\":false,\"zerolinecolor\":\"rgb(36,36,36)\"}},\"shapedefaults\":{\"fillcolor\":\"black\",\"line\":{\"width\":0},\"opacity\":0.3},\"ternary\":{\"aaxis\":{\"gridcolor\":\"rgb(232,232,232)\",\"linecolor\":\"rgb(36,36,36)\",\"showgrid\":false,\"showline\":true,\"ticks\":\"outside\"},\"baxis\":{\"gridcolor\":\"rgb(232,232,232)\",\"linecolor\":\"rgb(36,36,36)\",\"showgrid\":false,\"showline\":true,\"ticks\":\"outside\"},\"bgcolor\":\"white\",\"caxis\":{\"gridcolor\":\"rgb(232,232,232)\",\"linecolor\":\"rgb(36,36,36)\",\"showgrid\":false,\"showline\":true,\"ticks\":\"outside\"}},\"title\":{\"x\":0.05},\"xaxis\":{\"automargin\":true,\"gridcolor\":\"rgb(232,232,232)\",\"linecolor\":\"rgb(36,36,36)\",\"showgrid\":false,\"showline\":true,\"ticks\":\"outside\",\"title\":{\"standoff\":15},\"zeroline\":false,\"zerolinecolor\":\"rgb(36,36,36)\"},\"yaxis\":{\"automargin\":true,\"gridcolor\":\"rgb(232,232,232)\",\"linecolor\":\"rgb(36,36,36)\",\"showgrid\":false,\"showline\":true,\"ticks\":\"outside\",\"title\":{\"standoff\":15},\"zeroline\":false,\"zerolinecolor\":\"rgb(36,36,36)\"}}},\"title\":{\"font\":{\"size\":22,\"color\":\"Black\"},\"text\":\"<b>Topic Probability Distribution\",\"y\":0.95,\"x\":0.5,\"xanchor\":\"center\",\"yanchor\":\"top\"},\"hoverlabel\":{\"font\":{\"size\":16,\"family\":\"Rockwell\"},\"bgcolor\":\"white\"},\"xaxis\":{\"title\":{\"text\":\"Probability\"}},\"width\":800,\"height\":600},                        {\"responsive\": true}                    ).then(function(){\n",
       "                            \n",
       "var gd = document.getElementById('7330167a-a630-4964-b7f2-a48cf10fff45');\n",
       "var x = new MutationObserver(function (mutations, observer) {{\n",
       "        var display = window.getComputedStyle(gd).display;\n",
       "        if (!display || display === 'none') {{\n",
       "            console.log([gd, 'removed!']);\n",
       "            Plotly.purge(gd);\n",
       "            observer.disconnect();\n",
       "        }}\n",
       "}});\n",
       "\n",
       "// Listen for the removal of the full notebook cells\n",
       "var notebookContainer = gd.closest('#notebook-container');\n",
       "if (notebookContainer) {{\n",
       "    x.observe(notebookContainer, {childList: true});\n",
       "}}\n",
       "\n",
       "// Listen for the clearing of the current output cell\n",
       "var outputEl = gd.closest('.output');\n",
       "if (outputEl) {{\n",
       "    x.observe(outputEl, {childList: true});\n",
       "}}\n",
       "\n",
       "                        })                };                });            </script>        </div>"
      ]
     },
     "metadata": {},
     "output_type": "display_data"
    }
   ],
   "source": [
    "optimal_model.visualize_distribution(probs[0], min_probability= 0.01)#0.015)"
   ]
  },
  {
   "cell_type": "markdown",
   "id": "bfae45c7",
   "metadata": {},
   "source": [
    "#### Hierachical Structure of Topics\n",
    "We can merge some topics into a single topic"
   ]
  },
  {
   "cell_type": "code",
   "execution_count": 35,
   "id": "5c86187f",
   "metadata": {},
   "outputs": [
    {
     "data": {
      "application/vnd.plotly.v1+json": {
       "config": {
        "plotlyServerURL": "https://plot.ly"
       },
       "data": [
        {
         "hoverinfo": "text",
         "marker": {
          "color": "rgb(61,153,112)"
         },
         "mode": "lines",
         "type": "scatter",
         "x": [
          0,
          0.436861868788744,
          0.436861868788744,
          0
         ],
         "xaxis": "x",
         "y": [
          -5,
          -5,
          -15,
          -15
         ],
         "yaxis": "y"
        },
        {
         "hoverinfo": "text",
         "marker": {
          "color": "rgb(61,153,112)"
         },
         "mode": "lines",
         "type": "scatter",
         "x": [
          0,
          0.14222671256178543,
          0.14222671256178543,
          0
         ],
         "xaxis": "x",
         "y": [
          -55,
          -55,
          -65,
          -65
         ],
         "yaxis": "y"
        },
        {
         "hoverinfo": "text",
         "marker": {
          "color": "rgb(61,153,112)"
         },
         "mode": "lines",
         "type": "scatter",
         "x": [
          0,
          0.3216077614692268,
          0.3216077614692268,
          0.14222671256178543
         ],
         "xaxis": "x",
         "y": [
          -45,
          -45,
          -60,
          -60
         ],
         "yaxis": "y"
        },
        {
         "hoverinfo": "text",
         "marker": {
          "color": "rgb(61,153,112)"
         },
         "mode": "lines",
         "type": "scatter",
         "x": [
          0,
          0.42015146459850555,
          0.42015146459850555,
          0.3216077614692268
         ],
         "xaxis": "x",
         "y": [
          -35,
          -35,
          -52.5,
          -52.5
         ],
         "yaxis": "y"
        },
        {
         "hoverinfo": "text",
         "marker": {
          "color": "rgb(61,153,112)"
         },
         "mode": "lines",
         "type": "scatter",
         "x": [
          0,
          0.5805094786672591,
          0.5805094786672591,
          0.42015146459850555
         ],
         "xaxis": "x",
         "y": [
          -25,
          -25,
          -43.75,
          -43.75
         ],
         "yaxis": "y"
        },
        {
         "hoverinfo": "text",
         "marker": {
          "color": "rgb(61,153,112)"
         },
         "mode": "lines",
         "type": "scatter",
         "x": [
          0.436861868788744,
          0.8398683848011758,
          0.8398683848011758,
          0.5805094786672591
         ],
         "xaxis": "x",
         "y": [
          -10,
          -10,
          -34.375,
          -34.375
         ],
         "yaxis": "y"
        },
        {
         "hoverinfo": "text",
         "marker": {
          "color": "rgb(255,65,54)"
         },
         "mode": "lines",
         "type": "scatter",
         "x": [
          0,
          0.42965242620865973,
          0.42965242620865973,
          0
         ],
         "xaxis": "x",
         "y": [
          -75,
          -75,
          -85,
          -85
         ],
         "yaxis": "y"
        },
        {
         "hoverinfo": "text",
         "marker": {
          "color": "rgb(255,65,54)"
         },
         "mode": "lines",
         "type": "scatter",
         "x": [
          0,
          0.3210149220911293,
          0.3210149220911293,
          0
         ],
         "xaxis": "x",
         "y": [
          -105,
          -105,
          -115,
          -115
         ],
         "yaxis": "y"
        },
        {
         "hoverinfo": "text",
         "marker": {
          "color": "rgb(255,65,54)"
         },
         "mode": "lines",
         "type": "scatter",
         "x": [
          0,
          0.5188545489691473,
          0.5188545489691473,
          0.3210149220911293
         ],
         "xaxis": "x",
         "y": [
          -95,
          -95,
          -110,
          -110
         ],
         "yaxis": "y"
        },
        {
         "hoverinfo": "text",
         "marker": {
          "color": "rgb(255,65,54)"
         },
         "mode": "lines",
         "type": "scatter",
         "x": [
          0.42965242620865973,
          0.868782549606157,
          0.868782549606157,
          0.5188545489691473
         ],
         "xaxis": "x",
         "y": [
          -80,
          -80,
          -102.5,
          -102.5
         ],
         "yaxis": "y"
        },
        {
         "hoverinfo": "text",
         "marker": {
          "color": "rgb(35,205,205)"
         },
         "mode": "lines",
         "type": "scatter",
         "x": [
          0,
          0.38558374649943744,
          0.38558374649943744,
          0
         ],
         "xaxis": "x",
         "y": [
          -125,
          -125,
          -135,
          -135
         ],
         "yaxis": "y"
        },
        {
         "hoverinfo": "text",
         "marker": {
          "color": "rgb(35,205,205)"
         },
         "mode": "lines",
         "type": "scatter",
         "x": [
          0,
          0.15235868383547682,
          0.15235868383547682,
          0
         ],
         "xaxis": "x",
         "y": [
          -145,
          -145,
          -155,
          -155
         ],
         "yaxis": "y"
        },
        {
         "hoverinfo": "text",
         "marker": {
          "color": "rgb(35,205,205)"
         },
         "mode": "lines",
         "type": "scatter",
         "x": [
          0,
          0.362998999196813,
          0.362998999196813,
          0
         ],
         "xaxis": "x",
         "y": [
          -165,
          -165,
          -175,
          -175
         ],
         "yaxis": "y"
        },
        {
         "hoverinfo": "text",
         "marker": {
          "color": "rgb(35,205,205)"
         },
         "mode": "lines",
         "type": "scatter",
         "x": [
          0.15235868383547682,
          0.5014017866339489,
          0.5014017866339489,
          0.362998999196813
         ],
         "xaxis": "x",
         "y": [
          -150,
          -150,
          -170,
          -170
         ],
         "yaxis": "y"
        },
        {
         "hoverinfo": "text",
         "marker": {
          "color": "rgb(35,205,205)"
         },
         "mode": "lines",
         "type": "scatter",
         "x": [
          0.38558374649943744,
          0.9805853661042342,
          0.9805853661042342,
          0.5014017866339489
         ],
         "xaxis": "x",
         "y": [
          -130,
          -130,
          -160,
          -160
         ],
         "yaxis": "y"
        },
        {
         "hoverinfo": "text",
         "marker": {
          "color": "rgb(0,116,217)"
         },
         "mode": "lines",
         "type": "scatter",
         "x": [
          0.868782549606157,
          1.5327919760515432,
          1.5327919760515432,
          0.9805853661042342
         ],
         "xaxis": "x",
         "y": [
          -91.25,
          -91.25,
          -145,
          -145
         ],
         "yaxis": "y"
        },
        {
         "hoverinfo": "text",
         "marker": {
          "color": "rgb(0,116,217)"
         },
         "mode": "lines",
         "type": "scatter",
         "x": [
          0.8398683848011758,
          1.9564791864653772,
          1.9564791864653772,
          1.5327919760515432
         ],
         "xaxis": "x",
         "y": [
          -22.1875,
          -22.1875,
          -118.125,
          -118.125
         ],
         "yaxis": "y"
        },
        {
         "hoverinfo": "text",
         "marker": {
          "color": "rgb(133,20,75)"
         },
         "mode": "lines",
         "type": "scatter",
         "x": [
          0,
          0.5157867262310538,
          0.5157867262310538,
          0
         ],
         "xaxis": "x",
         "y": [
          -205,
          -205,
          -215,
          -215
         ],
         "yaxis": "y"
        },
        {
         "hoverinfo": "text",
         "marker": {
          "color": "rgb(133,20,75)"
         },
         "mode": "lines",
         "type": "scatter",
         "x": [
          0,
          0.518732473084538,
          0.518732473084538,
          0
         ],
         "xaxis": "x",
         "y": [
          -225,
          -225,
          -235,
          -235
         ],
         "yaxis": "y"
        },
        {
         "hoverinfo": "text",
         "marker": {
          "color": "rgb(133,20,75)"
         },
         "mode": "lines",
         "type": "scatter",
         "x": [
          0.5157867262310538,
          0.6482714887802937,
          0.6482714887802937,
          0.518732473084538
         ],
         "xaxis": "x",
         "y": [
          -210,
          -210,
          -230,
          -230
         ],
         "yaxis": "y"
        },
        {
         "hoverinfo": "text",
         "marker": {
          "color": "rgb(133,20,75)"
         },
         "mode": "lines",
         "type": "scatter",
         "x": [
          0,
          0.7910965783786925,
          0.7910965783786925,
          0.6482714887802937
         ],
         "xaxis": "x",
         "y": [
          -195,
          -195,
          -220,
          -220
         ],
         "yaxis": "y"
        },
        {
         "hoverinfo": "text",
         "marker": {
          "color": "rgb(255,220,0)"
         },
         "mode": "lines",
         "type": "scatter",
         "x": [
          0,
          0.5527336219927861,
          0.5527336219927861,
          0
         ],
         "xaxis": "x",
         "y": [
          -255,
          -255,
          -265,
          -265
         ],
         "yaxis": "y"
        },
        {
         "hoverinfo": "text",
         "marker": {
          "color": "rgb(255,220,0)"
         },
         "mode": "lines",
         "type": "scatter",
         "x": [
          0,
          0.6001000211930885,
          0.6001000211930885,
          0.5527336219927861
         ],
         "xaxis": "x",
         "y": [
          -245,
          -245,
          -260,
          -260
         ],
         "yaxis": "y"
        },
        {
         "hoverinfo": "text",
         "marker": {
          "color": "rgb(255,220,0)"
         },
         "mode": "lines",
         "type": "scatter",
         "x": [
          0,
          0.3669209392291841,
          0.3669209392291841,
          0
         ],
         "xaxis": "x",
         "y": [
          -305,
          -305,
          -315,
          -315
         ],
         "yaxis": "y"
        },
        {
         "hoverinfo": "text",
         "marker": {
          "color": "rgb(255,220,0)"
         },
         "mode": "lines",
         "type": "scatter",
         "x": [
          0,
          0.5549562656274081,
          0.5549562656274081,
          0.3669209392291841
         ],
         "xaxis": "x",
         "y": [
          -295,
          -295,
          -310,
          -310
         ],
         "yaxis": "y"
        },
        {
         "hoverinfo": "text",
         "marker": {
          "color": "rgb(255,220,0)"
         },
         "mode": "lines",
         "type": "scatter",
         "x": [
          0,
          0.5973294088137994,
          0.5973294088137994,
          0.5549562656274081
         ],
         "xaxis": "x",
         "y": [
          -285,
          -285,
          -302.5,
          -302.5
         ],
         "yaxis": "y"
        },
        {
         "hoverinfo": "text",
         "marker": {
          "color": "rgb(255,220,0)"
         },
         "mode": "lines",
         "type": "scatter",
         "x": [
          0,
          0.7125664964546587,
          0.7125664964546587,
          0.5973294088137994
         ],
         "xaxis": "x",
         "y": [
          -275,
          -275,
          -293.75,
          -293.75
         ],
         "yaxis": "y"
        },
        {
         "hoverinfo": "text",
         "marker": {
          "color": "rgb(255,220,0)"
         },
         "mode": "lines",
         "type": "scatter",
         "x": [
          0.6001000211930885,
          0.8687485995488594,
          0.8687485995488594,
          0.7125664964546587
         ],
         "xaxis": "x",
         "y": [
          -252.5,
          -252.5,
          -284.375,
          -284.375
         ],
         "yaxis": "y"
        },
        {
         "hoverinfo": "text",
         "marker": {
          "color": "rgb(0,116,217)"
         },
         "mode": "lines",
         "type": "scatter",
         "x": [
          0.7910965783786925,
          1.2504777089560433,
          1.2504777089560433,
          0.8687485995488594
         ],
         "xaxis": "x",
         "y": [
          -207.5,
          -207.5,
          -268.4375,
          -268.4375
         ],
         "yaxis": "y"
        },
        {
         "hoverinfo": "text",
         "marker": {
          "color": "rgb(40,35,35)"
         },
         "mode": "lines",
         "type": "scatter",
         "x": [
          0,
          0.6228075019874906,
          0.6228075019874906,
          0
         ],
         "xaxis": "x",
         "y": [
          -355,
          -355,
          -365,
          -365
         ],
         "yaxis": "y"
        },
        {
         "hoverinfo": "text",
         "marker": {
          "color": "rgb(40,35,35)"
         },
         "mode": "lines",
         "type": "scatter",
         "x": [
          0,
          0.7333609155937612,
          0.7333609155937612,
          0.6228075019874906
         ],
         "xaxis": "x",
         "y": [
          -345,
          -345,
          -360,
          -360
         ],
         "yaxis": "y"
        },
        {
         "hoverinfo": "text",
         "marker": {
          "color": "rgb(40,35,35)"
         },
         "mode": "lines",
         "type": "scatter",
         "x": [
          0,
          0.767259178429003,
          0.767259178429003,
          0.7333609155937612
         ],
         "xaxis": "x",
         "y": [
          -335,
          -335,
          -352.5,
          -352.5
         ],
         "yaxis": "y"
        },
        {
         "hoverinfo": "text",
         "marker": {
          "color": "rgb(40,35,35)"
         },
         "mode": "lines",
         "type": "scatter",
         "x": [
          0,
          0.8694245281681054,
          0.8694245281681054,
          0.767259178429003
         ],
         "xaxis": "x",
         "y": [
          -325,
          -325,
          -343.75,
          -343.75
         ],
         "yaxis": "y"
        },
        {
         "hoverinfo": "text",
         "marker": {
          "color": "rgb(61,153,112)"
         },
         "mode": "lines",
         "type": "scatter",
         "x": [
          0,
          0.36309063411315357,
          0.36309063411315357,
          0
         ],
         "xaxis": "x",
         "y": [
          -385,
          -385,
          -395,
          -395
         ],
         "yaxis": "y"
        },
        {
         "hoverinfo": "text",
         "marker": {
          "color": "rgb(61,153,112)"
         },
         "mode": "lines",
         "type": "scatter",
         "x": [
          0,
          0.5497659067598015,
          0.5497659067598015,
          0.36309063411315357
         ],
         "xaxis": "x",
         "y": [
          -375,
          -375,
          -390,
          -390
         ],
         "yaxis": "y"
        },
        {
         "hoverinfo": "text",
         "marker": {
          "color": "rgb(255,65,54)"
         },
         "mode": "lines",
         "type": "scatter",
         "x": [
          0,
          0.55734571315088,
          0.55734571315088,
          0
         ],
         "xaxis": "x",
         "y": [
          -405,
          -405,
          -415,
          -415
         ],
         "yaxis": "y"
        },
        {
         "hoverinfo": "text",
         "marker": {
          "color": "rgb(0,116,217)"
         },
         "mode": "lines",
         "type": "scatter",
         "x": [
          0.5497659067598015,
          1.0199706959257837,
          1.0199706959257837,
          0.55734571315088
         ],
         "xaxis": "x",
         "y": [
          -382.5,
          -382.5,
          -410,
          -410
         ],
         "yaxis": "y"
        },
        {
         "hoverinfo": "text",
         "marker": {
          "color": "rgb(0,116,217)"
         },
         "mode": "lines",
         "type": "scatter",
         "x": [
          0.8694245281681054,
          1.2913709251764494,
          1.2913709251764494,
          1.0199706959257837
         ],
         "xaxis": "x",
         "y": [
          -334.375,
          -334.375,
          -396.25,
          -396.25
         ],
         "yaxis": "y"
        },
        {
         "hoverinfo": "text",
         "marker": {
          "color": "rgb(0,116,217)"
         },
         "mode": "lines",
         "type": "scatter",
         "x": [
          1.2504777089560433,
          1.9501286957131017,
          1.9501286957131017,
          1.2913709251764494
         ],
         "xaxis": "x",
         "y": [
          -237.96875,
          -237.96875,
          -365.3125,
          -365.3125
         ],
         "yaxis": "y"
        },
        {
         "hoverinfo": "text",
         "marker": {
          "color": "rgb(0,116,217)"
         },
         "mode": "lines",
         "type": "scatter",
         "x": [
          0,
          2.842943623163973,
          2.842943623163973,
          1.9501286957131017
         ],
         "xaxis": "x",
         "y": [
          -185,
          -185,
          -301.640625,
          -301.640625
         ],
         "yaxis": "y"
        },
        {
         "hoverinfo": "text",
         "marker": {
          "color": "rgb(0,116,217)"
         },
         "mode": "lines",
         "type": "scatter",
         "x": [
          1.9564791864653772,
          3.016044696404715,
          3.016044696404715,
          2.842943623163973
         ],
         "xaxis": "x",
         "y": [
          -70.15625,
          -70.15625,
          -243.3203125,
          -243.3203125
         ],
         "yaxis": "y"
        }
       ],
       "layout": {
        "autosize": false,
        "height": 830,
        "hoverlabel": {
         "bgcolor": "white",
         "font": {
          "family": "Rockwell",
          "size": 16
         }
        },
        "hovermode": "closest",
        "plot_bgcolor": "#ECEFF1",
        "showlegend": false,
        "template": {
         "data": {
          "bar": [
           {
            "error_x": {
             "color": "#2a3f5f"
            },
            "error_y": {
             "color": "#2a3f5f"
            },
            "marker": {
             "line": {
              "color": "white",
              "width": 0.5
             },
             "pattern": {
              "fillmode": "overlay",
              "size": 10,
              "solidity": 0.2
             }
            },
            "type": "bar"
           }
          ],
          "barpolar": [
           {
            "marker": {
             "line": {
              "color": "white",
              "width": 0.5
             },
             "pattern": {
              "fillmode": "overlay",
              "size": 10,
              "solidity": 0.2
             }
            },
            "type": "barpolar"
           }
          ],
          "carpet": [
           {
            "aaxis": {
             "endlinecolor": "#2a3f5f",
             "gridcolor": "#C8D4E3",
             "linecolor": "#C8D4E3",
             "minorgridcolor": "#C8D4E3",
             "startlinecolor": "#2a3f5f"
            },
            "baxis": {
             "endlinecolor": "#2a3f5f",
             "gridcolor": "#C8D4E3",
             "linecolor": "#C8D4E3",
             "minorgridcolor": "#C8D4E3",
             "startlinecolor": "#2a3f5f"
            },
            "type": "carpet"
           }
          ],
          "choropleth": [
           {
            "colorbar": {
             "outlinewidth": 0,
             "ticks": ""
            },
            "type": "choropleth"
           }
          ],
          "contour": [
           {
            "colorbar": {
             "outlinewidth": 0,
             "ticks": ""
            },
            "colorscale": [
             [
              0,
              "#0d0887"
             ],
             [
              0.1111111111111111,
              "#46039f"
             ],
             [
              0.2222222222222222,
              "#7201a8"
             ],
             [
              0.3333333333333333,
              "#9c179e"
             ],
             [
              0.4444444444444444,
              "#bd3786"
             ],
             [
              0.5555555555555556,
              "#d8576b"
             ],
             [
              0.6666666666666666,
              "#ed7953"
             ],
             [
              0.7777777777777778,
              "#fb9f3a"
             ],
             [
              0.8888888888888888,
              "#fdca26"
             ],
             [
              1,
              "#f0f921"
             ]
            ],
            "type": "contour"
           }
          ],
          "contourcarpet": [
           {
            "colorbar": {
             "outlinewidth": 0,
             "ticks": ""
            },
            "type": "contourcarpet"
           }
          ],
          "heatmap": [
           {
            "colorbar": {
             "outlinewidth": 0,
             "ticks": ""
            },
            "colorscale": [
             [
              0,
              "#0d0887"
             ],
             [
              0.1111111111111111,
              "#46039f"
             ],
             [
              0.2222222222222222,
              "#7201a8"
             ],
             [
              0.3333333333333333,
              "#9c179e"
             ],
             [
              0.4444444444444444,
              "#bd3786"
             ],
             [
              0.5555555555555556,
              "#d8576b"
             ],
             [
              0.6666666666666666,
              "#ed7953"
             ],
             [
              0.7777777777777778,
              "#fb9f3a"
             ],
             [
              0.8888888888888888,
              "#fdca26"
             ],
             [
              1,
              "#f0f921"
             ]
            ],
            "type": "heatmap"
           }
          ],
          "heatmapgl": [
           {
            "colorbar": {
             "outlinewidth": 0,
             "ticks": ""
            },
            "colorscale": [
             [
              0,
              "#0d0887"
             ],
             [
              0.1111111111111111,
              "#46039f"
             ],
             [
              0.2222222222222222,
              "#7201a8"
             ],
             [
              0.3333333333333333,
              "#9c179e"
             ],
             [
              0.4444444444444444,
              "#bd3786"
             ],
             [
              0.5555555555555556,
              "#d8576b"
             ],
             [
              0.6666666666666666,
              "#ed7953"
             ],
             [
              0.7777777777777778,
              "#fb9f3a"
             ],
             [
              0.8888888888888888,
              "#fdca26"
             ],
             [
              1,
              "#f0f921"
             ]
            ],
            "type": "heatmapgl"
           }
          ],
          "histogram": [
           {
            "marker": {
             "pattern": {
              "fillmode": "overlay",
              "size": 10,
              "solidity": 0.2
             }
            },
            "type": "histogram"
           }
          ],
          "histogram2d": [
           {
            "colorbar": {
             "outlinewidth": 0,
             "ticks": ""
            },
            "colorscale": [
             [
              0,
              "#0d0887"
             ],
             [
              0.1111111111111111,
              "#46039f"
             ],
             [
              0.2222222222222222,
              "#7201a8"
             ],
             [
              0.3333333333333333,
              "#9c179e"
             ],
             [
              0.4444444444444444,
              "#bd3786"
             ],
             [
              0.5555555555555556,
              "#d8576b"
             ],
             [
              0.6666666666666666,
              "#ed7953"
             ],
             [
              0.7777777777777778,
              "#fb9f3a"
             ],
             [
              0.8888888888888888,
              "#fdca26"
             ],
             [
              1,
              "#f0f921"
             ]
            ],
            "type": "histogram2d"
           }
          ],
          "histogram2dcontour": [
           {
            "colorbar": {
             "outlinewidth": 0,
             "ticks": ""
            },
            "colorscale": [
             [
              0,
              "#0d0887"
             ],
             [
              0.1111111111111111,
              "#46039f"
             ],
             [
              0.2222222222222222,
              "#7201a8"
             ],
             [
              0.3333333333333333,
              "#9c179e"
             ],
             [
              0.4444444444444444,
              "#bd3786"
             ],
             [
              0.5555555555555556,
              "#d8576b"
             ],
             [
              0.6666666666666666,
              "#ed7953"
             ],
             [
              0.7777777777777778,
              "#fb9f3a"
             ],
             [
              0.8888888888888888,
              "#fdca26"
             ],
             [
              1,
              "#f0f921"
             ]
            ],
            "type": "histogram2dcontour"
           }
          ],
          "mesh3d": [
           {
            "colorbar": {
             "outlinewidth": 0,
             "ticks": ""
            },
            "type": "mesh3d"
           }
          ],
          "parcoords": [
           {
            "line": {
             "colorbar": {
              "outlinewidth": 0,
              "ticks": ""
             }
            },
            "type": "parcoords"
           }
          ],
          "pie": [
           {
            "automargin": true,
            "type": "pie"
           }
          ],
          "scatter": [
           {
            "fillpattern": {
             "fillmode": "overlay",
             "size": 10,
             "solidity": 0.2
            },
            "type": "scatter"
           }
          ],
          "scatter3d": [
           {
            "line": {
             "colorbar": {
              "outlinewidth": 0,
              "ticks": ""
             }
            },
            "marker": {
             "colorbar": {
              "outlinewidth": 0,
              "ticks": ""
             }
            },
            "type": "scatter3d"
           }
          ],
          "scattercarpet": [
           {
            "marker": {
             "colorbar": {
              "outlinewidth": 0,
              "ticks": ""
             }
            },
            "type": "scattercarpet"
           }
          ],
          "scattergeo": [
           {
            "marker": {
             "colorbar": {
              "outlinewidth": 0,
              "ticks": ""
             }
            },
            "type": "scattergeo"
           }
          ],
          "scattergl": [
           {
            "marker": {
             "colorbar": {
              "outlinewidth": 0,
              "ticks": ""
             }
            },
            "type": "scattergl"
           }
          ],
          "scattermapbox": [
           {
            "marker": {
             "colorbar": {
              "outlinewidth": 0,
              "ticks": ""
             }
            },
            "type": "scattermapbox"
           }
          ],
          "scatterpolar": [
           {
            "marker": {
             "colorbar": {
              "outlinewidth": 0,
              "ticks": ""
             }
            },
            "type": "scatterpolar"
           }
          ],
          "scatterpolargl": [
           {
            "marker": {
             "colorbar": {
              "outlinewidth": 0,
              "ticks": ""
             }
            },
            "type": "scatterpolargl"
           }
          ],
          "scatterternary": [
           {
            "marker": {
             "colorbar": {
              "outlinewidth": 0,
              "ticks": ""
             }
            },
            "type": "scatterternary"
           }
          ],
          "surface": [
           {
            "colorbar": {
             "outlinewidth": 0,
             "ticks": ""
            },
            "colorscale": [
             [
              0,
              "#0d0887"
             ],
             [
              0.1111111111111111,
              "#46039f"
             ],
             [
              0.2222222222222222,
              "#7201a8"
             ],
             [
              0.3333333333333333,
              "#9c179e"
             ],
             [
              0.4444444444444444,
              "#bd3786"
             ],
             [
              0.5555555555555556,
              "#d8576b"
             ],
             [
              0.6666666666666666,
              "#ed7953"
             ],
             [
              0.7777777777777778,
              "#fb9f3a"
             ],
             [
              0.8888888888888888,
              "#fdca26"
             ],
             [
              1,
              "#f0f921"
             ]
            ],
            "type": "surface"
           }
          ],
          "table": [
           {
            "cells": {
             "fill": {
              "color": "#EBF0F8"
             },
             "line": {
              "color": "white"
             }
            },
            "header": {
             "fill": {
              "color": "#C8D4E3"
             },
             "line": {
              "color": "white"
             }
            },
            "type": "table"
           }
          ]
         },
         "layout": {
          "annotationdefaults": {
           "arrowcolor": "#2a3f5f",
           "arrowhead": 0,
           "arrowwidth": 1
          },
          "autotypenumbers": "strict",
          "coloraxis": {
           "colorbar": {
            "outlinewidth": 0,
            "ticks": ""
           }
          },
          "colorscale": {
           "diverging": [
            [
             0,
             "#8e0152"
            ],
            [
             0.1,
             "#c51b7d"
            ],
            [
             0.2,
             "#de77ae"
            ],
            [
             0.3,
             "#f1b6da"
            ],
            [
             0.4,
             "#fde0ef"
            ],
            [
             0.5,
             "#f7f7f7"
            ],
            [
             0.6,
             "#e6f5d0"
            ],
            [
             0.7,
             "#b8e186"
            ],
            [
             0.8,
             "#7fbc41"
            ],
            [
             0.9,
             "#4d9221"
            ],
            [
             1,
             "#276419"
            ]
           ],
           "sequential": [
            [
             0,
             "#0d0887"
            ],
            [
             0.1111111111111111,
             "#46039f"
            ],
            [
             0.2222222222222222,
             "#7201a8"
            ],
            [
             0.3333333333333333,
             "#9c179e"
            ],
            [
             0.4444444444444444,
             "#bd3786"
            ],
            [
             0.5555555555555556,
             "#d8576b"
            ],
            [
             0.6666666666666666,
             "#ed7953"
            ],
            [
             0.7777777777777778,
             "#fb9f3a"
            ],
            [
             0.8888888888888888,
             "#fdca26"
            ],
            [
             1,
             "#f0f921"
            ]
           ],
           "sequentialminus": [
            [
             0,
             "#0d0887"
            ],
            [
             0.1111111111111111,
             "#46039f"
            ],
            [
             0.2222222222222222,
             "#7201a8"
            ],
            [
             0.3333333333333333,
             "#9c179e"
            ],
            [
             0.4444444444444444,
             "#bd3786"
            ],
            [
             0.5555555555555556,
             "#d8576b"
            ],
            [
             0.6666666666666666,
             "#ed7953"
            ],
            [
             0.7777777777777778,
             "#fb9f3a"
            ],
            [
             0.8888888888888888,
             "#fdca26"
            ],
            [
             1,
             "#f0f921"
            ]
           ]
          },
          "colorway": [
           "#636efa",
           "#EF553B",
           "#00cc96",
           "#ab63fa",
           "#FFA15A",
           "#19d3f3",
           "#FF6692",
           "#B6E880",
           "#FF97FF",
           "#FECB52"
          ],
          "font": {
           "color": "#2a3f5f"
          },
          "geo": {
           "bgcolor": "white",
           "lakecolor": "white",
           "landcolor": "white",
           "showlakes": true,
           "showland": true,
           "subunitcolor": "#C8D4E3"
          },
          "hoverlabel": {
           "align": "left"
          },
          "hovermode": "closest",
          "mapbox": {
           "style": "light"
          },
          "paper_bgcolor": "white",
          "plot_bgcolor": "white",
          "polar": {
           "angularaxis": {
            "gridcolor": "#EBF0F8",
            "linecolor": "#EBF0F8",
            "ticks": ""
           },
           "bgcolor": "white",
           "radialaxis": {
            "gridcolor": "#EBF0F8",
            "linecolor": "#EBF0F8",
            "ticks": ""
           }
          },
          "scene": {
           "xaxis": {
            "backgroundcolor": "white",
            "gridcolor": "#DFE8F3",
            "gridwidth": 2,
            "linecolor": "#EBF0F8",
            "showbackground": true,
            "ticks": "",
            "zerolinecolor": "#EBF0F8"
           },
           "yaxis": {
            "backgroundcolor": "white",
            "gridcolor": "#DFE8F3",
            "gridwidth": 2,
            "linecolor": "#EBF0F8",
            "showbackground": true,
            "ticks": "",
            "zerolinecolor": "#EBF0F8"
           },
           "zaxis": {
            "backgroundcolor": "white",
            "gridcolor": "#DFE8F3",
            "gridwidth": 2,
            "linecolor": "#EBF0F8",
            "showbackground": true,
            "ticks": "",
            "zerolinecolor": "#EBF0F8"
           }
          },
          "shapedefaults": {
           "line": {
            "color": "#2a3f5f"
           }
          },
          "ternary": {
           "aaxis": {
            "gridcolor": "#DFE8F3",
            "linecolor": "#A2B1C6",
            "ticks": ""
           },
           "baxis": {
            "gridcolor": "#DFE8F3",
            "linecolor": "#A2B1C6",
            "ticks": ""
           },
           "bgcolor": "white",
           "caxis": {
            "gridcolor": "#DFE8F3",
            "linecolor": "#A2B1C6",
            "ticks": ""
           }
          },
          "title": {
           "x": 0.05
          },
          "xaxis": {
           "automargin": true,
           "gridcolor": "#EBF0F8",
           "linecolor": "#EBF0F8",
           "ticks": "",
           "title": {
            "standoff": 15
           },
           "zerolinecolor": "#EBF0F8",
           "zerolinewidth": 2
          },
          "yaxis": {
           "automargin": true,
           "gridcolor": "#EBF0F8",
           "linecolor": "#EBF0F8",
           "ticks": "",
           "title": {
            "standoff": 15
           },
           "zerolinecolor": "#EBF0F8",
           "zerolinewidth": 2
          }
         }
        },
        "title": {
         "font": {
          "color": "Black",
          "size": 22
         },
         "text": "<b>Hierarchical Clustering",
         "x": 0.5,
         "xanchor": "center",
         "yanchor": "top"
        },
        "width": 1000,
        "xaxis": {
         "mirror": "allticks",
         "rangemode": "tozero",
         "showgrid": false,
         "showline": true,
         "showticklabels": true,
         "ticks": "outside",
         "type": "linear",
         "zeroline": false
        },
        "yaxis": {
         "mirror": "allticks",
         "range": [
          -420,
          0
         ],
         "rangemode": "tozero",
         "showgrid": false,
         "showline": true,
         "showticklabels": true,
         "tickmode": "array",
         "ticks": "outside",
         "ticktext": [
          "12_pronounce_dead_pronounce...",
          "33_pronounce_dead_ski_hospi...",
          "11_pool_boy_drown",
          "34_bathtub_drown_autopsy",
          "1_drown_death_autopsy",
          "15_drown_hot_tub_autopsy",
          "40_drown_swimming_pool_auto...",
          "6_terrain_vehicle_golf_cart...",
          "37_bicycle_head_autopsy",
          "31_snowmobile_tree_trail",
          "0_bicyclist_bicycle_scooter",
          "21_atv_crash_drive",
          "10_sleep_autopsy_overlay",
          "19_unresponsive_blanket_bed",
          "13_hip_fracture_floor_fall",
          "35_hip_fracture_hip_fall",
          "2_ladder_fall_stair",
          "9_fall_head_floor",
          "8_nan_apneic_yet",
          "23_difluoroethane_autopsy_i...",
          "28_carbon_monoxide_furnace_...",
          "38_garage_carbon_monoxide_a...",
          "14_thermal_burn_inhalation",
          "39_generator_unknown_autopsy",
          "3_electrical_extension_cord...",
          "18_burner_grill_knob",
          "27_mower_lawn_mower_fuel",
          "32_firework_hand_explode",
          "16_glass_shower_door",
          "7_fire_house_firefighter",
          "4_apartment_candle_fire",
          "25_chimney_fire_home",
          "26_bulb_lamp_light",
          "17_chair_stroller_seat",
          "36_blade_blender_food_proce...",
          "5_toy_battery_mouth",
          "30_phone_device_charge",
          "29_refrigerator_freezer_fri...",
          "20_oven_turn_toaster",
          "22_microwave_door_turn",
          "24_dishwasher_melt_smoke",
          "41_washer_machine_washing_m..."
         ],
         "tickvals": [
          -5,
          -15,
          -25,
          -35,
          -45,
          -55,
          -65,
          -75,
          -85,
          -95,
          -105,
          -115,
          -125,
          -135,
          -145,
          -155,
          -165,
          -175,
          -185,
          -195,
          -205,
          -215,
          -225,
          -235,
          -245,
          -255,
          -265,
          -275,
          -285,
          -295,
          -305,
          -315,
          -325,
          -335,
          -345,
          -355,
          -365,
          -375,
          -385,
          -395,
          -405,
          -415
         ],
         "type": "linear",
         "zeroline": false
        }
       }
      },
      "text/html": [
       "<div>                            <div id=\"e8424542-3158-4e4f-858f-38576f100e1e\" class=\"plotly-graph-div\" style=\"height:830px; width:1000px;\"></div>            <script type=\"text/javascript\">                require([\"plotly\"], function(Plotly) {                    window.PLOTLYENV=window.PLOTLYENV || {};                                    if (document.getElementById(\"e8424542-3158-4e4f-858f-38576f100e1e\")) {                    Plotly.newPlot(                        \"e8424542-3158-4e4f-858f-38576f100e1e\",                        [{\"hoverinfo\":\"text\",\"marker\":{\"color\":\"rgb(61,153,112)\"},\"mode\":\"lines\",\"x\":[0.0,0.436861868788744,0.436861868788744,0.0],\"xaxis\":\"x\",\"y\":[-5.0,-5.0,-15.0,-15.0],\"yaxis\":\"y\",\"type\":\"scatter\"},{\"hoverinfo\":\"text\",\"marker\":{\"color\":\"rgb(61,153,112)\"},\"mode\":\"lines\",\"x\":[0.0,0.14222671256178543,0.14222671256178543,0.0],\"xaxis\":\"x\",\"y\":[-55.0,-55.0,-65.0,-65.0],\"yaxis\":\"y\",\"type\":\"scatter\"},{\"hoverinfo\":\"text\",\"marker\":{\"color\":\"rgb(61,153,112)\"},\"mode\":\"lines\",\"x\":[0.0,0.3216077614692268,0.3216077614692268,0.14222671256178543],\"xaxis\":\"x\",\"y\":[-45.0,-45.0,-60.0,-60.0],\"yaxis\":\"y\",\"type\":\"scatter\"},{\"hoverinfo\":\"text\",\"marker\":{\"color\":\"rgb(61,153,112)\"},\"mode\":\"lines\",\"x\":[0.0,0.42015146459850555,0.42015146459850555,0.3216077614692268],\"xaxis\":\"x\",\"y\":[-35.0,-35.0,-52.5,-52.5],\"yaxis\":\"y\",\"type\":\"scatter\"},{\"hoverinfo\":\"text\",\"marker\":{\"color\":\"rgb(61,153,112)\"},\"mode\":\"lines\",\"x\":[0.0,0.5805094786672591,0.5805094786672591,0.42015146459850555],\"xaxis\":\"x\",\"y\":[-25.0,-25.0,-43.75,-43.75],\"yaxis\":\"y\",\"type\":\"scatter\"},{\"hoverinfo\":\"text\",\"marker\":{\"color\":\"rgb(61,153,112)\"},\"mode\":\"lines\",\"x\":[0.436861868788744,0.8398683848011758,0.8398683848011758,0.5805094786672591],\"xaxis\":\"x\",\"y\":[-10.0,-10.0,-34.375,-34.375],\"yaxis\":\"y\",\"type\":\"scatter\"},{\"hoverinfo\":\"text\",\"marker\":{\"color\":\"rgb(255,65,54)\"},\"mode\":\"lines\",\"x\":[0.0,0.42965242620865973,0.42965242620865973,0.0],\"xaxis\":\"x\",\"y\":[-75.0,-75.0,-85.0,-85.0],\"yaxis\":\"y\",\"type\":\"scatter\"},{\"hoverinfo\":\"text\",\"marker\":{\"color\":\"rgb(255,65,54)\"},\"mode\":\"lines\",\"x\":[0.0,0.3210149220911293,0.3210149220911293,0.0],\"xaxis\":\"x\",\"y\":[-105.0,-105.0,-115.0,-115.0],\"yaxis\":\"y\",\"type\":\"scatter\"},{\"hoverinfo\":\"text\",\"marker\":{\"color\":\"rgb(255,65,54)\"},\"mode\":\"lines\",\"x\":[0.0,0.5188545489691473,0.5188545489691473,0.3210149220911293],\"xaxis\":\"x\",\"y\":[-95.0,-95.0,-110.0,-110.0],\"yaxis\":\"y\",\"type\":\"scatter\"},{\"hoverinfo\":\"text\",\"marker\":{\"color\":\"rgb(255,65,54)\"},\"mode\":\"lines\",\"x\":[0.42965242620865973,0.868782549606157,0.868782549606157,0.5188545489691473],\"xaxis\":\"x\",\"y\":[-80.0,-80.0,-102.5,-102.5],\"yaxis\":\"y\",\"type\":\"scatter\"},{\"hoverinfo\":\"text\",\"marker\":{\"color\":\"rgb(35,205,205)\"},\"mode\":\"lines\",\"x\":[0.0,0.38558374649943744,0.38558374649943744,0.0],\"xaxis\":\"x\",\"y\":[-125.0,-125.0,-135.0,-135.0],\"yaxis\":\"y\",\"type\":\"scatter\"},{\"hoverinfo\":\"text\",\"marker\":{\"color\":\"rgb(35,205,205)\"},\"mode\":\"lines\",\"x\":[0.0,0.15235868383547682,0.15235868383547682,0.0],\"xaxis\":\"x\",\"y\":[-145.0,-145.0,-155.0,-155.0],\"yaxis\":\"y\",\"type\":\"scatter\"},{\"hoverinfo\":\"text\",\"marker\":{\"color\":\"rgb(35,205,205)\"},\"mode\":\"lines\",\"x\":[0.0,0.362998999196813,0.362998999196813,0.0],\"xaxis\":\"x\",\"y\":[-165.0,-165.0,-175.0,-175.0],\"yaxis\":\"y\",\"type\":\"scatter\"},{\"hoverinfo\":\"text\",\"marker\":{\"color\":\"rgb(35,205,205)\"},\"mode\":\"lines\",\"x\":[0.15235868383547682,0.5014017866339489,0.5014017866339489,0.362998999196813],\"xaxis\":\"x\",\"y\":[-150.0,-150.0,-170.0,-170.0],\"yaxis\":\"y\",\"type\":\"scatter\"},{\"hoverinfo\":\"text\",\"marker\":{\"color\":\"rgb(35,205,205)\"},\"mode\":\"lines\",\"x\":[0.38558374649943744,0.9805853661042342,0.9805853661042342,0.5014017866339489],\"xaxis\":\"x\",\"y\":[-130.0,-130.0,-160.0,-160.0],\"yaxis\":\"y\",\"type\":\"scatter\"},{\"hoverinfo\":\"text\",\"marker\":{\"color\":\"rgb(0,116,217)\"},\"mode\":\"lines\",\"x\":[0.868782549606157,1.5327919760515432,1.5327919760515432,0.9805853661042342],\"xaxis\":\"x\",\"y\":[-91.25,-91.25,-145.0,-145.0],\"yaxis\":\"y\",\"type\":\"scatter\"},{\"hoverinfo\":\"text\",\"marker\":{\"color\":\"rgb(0,116,217)\"},\"mode\":\"lines\",\"x\":[0.8398683848011758,1.9564791864653772,1.9564791864653772,1.5327919760515432],\"xaxis\":\"x\",\"y\":[-22.1875,-22.1875,-118.125,-118.125],\"yaxis\":\"y\",\"type\":\"scatter\"},{\"hoverinfo\":\"text\",\"marker\":{\"color\":\"rgb(133,20,75)\"},\"mode\":\"lines\",\"x\":[0.0,0.5157867262310538,0.5157867262310538,0.0],\"xaxis\":\"x\",\"y\":[-205.0,-205.0,-215.0,-215.0],\"yaxis\":\"y\",\"type\":\"scatter\"},{\"hoverinfo\":\"text\",\"marker\":{\"color\":\"rgb(133,20,75)\"},\"mode\":\"lines\",\"x\":[0.0,0.518732473084538,0.518732473084538,0.0],\"xaxis\":\"x\",\"y\":[-225.0,-225.0,-235.0,-235.0],\"yaxis\":\"y\",\"type\":\"scatter\"},{\"hoverinfo\":\"text\",\"marker\":{\"color\":\"rgb(133,20,75)\"},\"mode\":\"lines\",\"x\":[0.5157867262310538,0.6482714887802937,0.6482714887802937,0.518732473084538],\"xaxis\":\"x\",\"y\":[-210.0,-210.0,-230.0,-230.0],\"yaxis\":\"y\",\"type\":\"scatter\"},{\"hoverinfo\":\"text\",\"marker\":{\"color\":\"rgb(133,20,75)\"},\"mode\":\"lines\",\"x\":[0.0,0.7910965783786925,0.7910965783786925,0.6482714887802937],\"xaxis\":\"x\",\"y\":[-195.0,-195.0,-220.0,-220.0],\"yaxis\":\"y\",\"type\":\"scatter\"},{\"hoverinfo\":\"text\",\"marker\":{\"color\":\"rgb(255,220,0)\"},\"mode\":\"lines\",\"x\":[0.0,0.5527336219927861,0.5527336219927861,0.0],\"xaxis\":\"x\",\"y\":[-255.0,-255.0,-265.0,-265.0],\"yaxis\":\"y\",\"type\":\"scatter\"},{\"hoverinfo\":\"text\",\"marker\":{\"color\":\"rgb(255,220,0)\"},\"mode\":\"lines\",\"x\":[0.0,0.6001000211930885,0.6001000211930885,0.5527336219927861],\"xaxis\":\"x\",\"y\":[-245.0,-245.0,-260.0,-260.0],\"yaxis\":\"y\",\"type\":\"scatter\"},{\"hoverinfo\":\"text\",\"marker\":{\"color\":\"rgb(255,220,0)\"},\"mode\":\"lines\",\"x\":[0.0,0.3669209392291841,0.3669209392291841,0.0],\"xaxis\":\"x\",\"y\":[-305.0,-305.0,-315.0,-315.0],\"yaxis\":\"y\",\"type\":\"scatter\"},{\"hoverinfo\":\"text\",\"marker\":{\"color\":\"rgb(255,220,0)\"},\"mode\":\"lines\",\"x\":[0.0,0.5549562656274081,0.5549562656274081,0.3669209392291841],\"xaxis\":\"x\",\"y\":[-295.0,-295.0,-310.0,-310.0],\"yaxis\":\"y\",\"type\":\"scatter\"},{\"hoverinfo\":\"text\",\"marker\":{\"color\":\"rgb(255,220,0)\"},\"mode\":\"lines\",\"x\":[0.0,0.5973294088137994,0.5973294088137994,0.5549562656274081],\"xaxis\":\"x\",\"y\":[-285.0,-285.0,-302.5,-302.5],\"yaxis\":\"y\",\"type\":\"scatter\"},{\"hoverinfo\":\"text\",\"marker\":{\"color\":\"rgb(255,220,0)\"},\"mode\":\"lines\",\"x\":[0.0,0.7125664964546587,0.7125664964546587,0.5973294088137994],\"xaxis\":\"x\",\"y\":[-275.0,-275.0,-293.75,-293.75],\"yaxis\":\"y\",\"type\":\"scatter\"},{\"hoverinfo\":\"text\",\"marker\":{\"color\":\"rgb(255,220,0)\"},\"mode\":\"lines\",\"x\":[0.6001000211930885,0.8687485995488594,0.8687485995488594,0.7125664964546587],\"xaxis\":\"x\",\"y\":[-252.5,-252.5,-284.375,-284.375],\"yaxis\":\"y\",\"type\":\"scatter\"},{\"hoverinfo\":\"text\",\"marker\":{\"color\":\"rgb(0,116,217)\"},\"mode\":\"lines\",\"x\":[0.7910965783786925,1.2504777089560433,1.2504777089560433,0.8687485995488594],\"xaxis\":\"x\",\"y\":[-207.5,-207.5,-268.4375,-268.4375],\"yaxis\":\"y\",\"type\":\"scatter\"},{\"hoverinfo\":\"text\",\"marker\":{\"color\":\"rgb(40,35,35)\"},\"mode\":\"lines\",\"x\":[0.0,0.6228075019874906,0.6228075019874906,0.0],\"xaxis\":\"x\",\"y\":[-355.0,-355.0,-365.0,-365.0],\"yaxis\":\"y\",\"type\":\"scatter\"},{\"hoverinfo\":\"text\",\"marker\":{\"color\":\"rgb(40,35,35)\"},\"mode\":\"lines\",\"x\":[0.0,0.7333609155937612,0.7333609155937612,0.6228075019874906],\"xaxis\":\"x\",\"y\":[-345.0,-345.0,-360.0,-360.0],\"yaxis\":\"y\",\"type\":\"scatter\"},{\"hoverinfo\":\"text\",\"marker\":{\"color\":\"rgb(40,35,35)\"},\"mode\":\"lines\",\"x\":[0.0,0.767259178429003,0.767259178429003,0.7333609155937612],\"xaxis\":\"x\",\"y\":[-335.0,-335.0,-352.5,-352.5],\"yaxis\":\"y\",\"type\":\"scatter\"},{\"hoverinfo\":\"text\",\"marker\":{\"color\":\"rgb(40,35,35)\"},\"mode\":\"lines\",\"x\":[0.0,0.8694245281681054,0.8694245281681054,0.767259178429003],\"xaxis\":\"x\",\"y\":[-325.0,-325.0,-343.75,-343.75],\"yaxis\":\"y\",\"type\":\"scatter\"},{\"hoverinfo\":\"text\",\"marker\":{\"color\":\"rgb(61,153,112)\"},\"mode\":\"lines\",\"x\":[0.0,0.36309063411315357,0.36309063411315357,0.0],\"xaxis\":\"x\",\"y\":[-385.0,-385.0,-395.0,-395.0],\"yaxis\":\"y\",\"type\":\"scatter\"},{\"hoverinfo\":\"text\",\"marker\":{\"color\":\"rgb(61,153,112)\"},\"mode\":\"lines\",\"x\":[0.0,0.5497659067598015,0.5497659067598015,0.36309063411315357],\"xaxis\":\"x\",\"y\":[-375.0,-375.0,-390.0,-390.0],\"yaxis\":\"y\",\"type\":\"scatter\"},{\"hoverinfo\":\"text\",\"marker\":{\"color\":\"rgb(255,65,54)\"},\"mode\":\"lines\",\"x\":[0.0,0.55734571315088,0.55734571315088,0.0],\"xaxis\":\"x\",\"y\":[-405.0,-405.0,-415.0,-415.0],\"yaxis\":\"y\",\"type\":\"scatter\"},{\"hoverinfo\":\"text\",\"marker\":{\"color\":\"rgb(0,116,217)\"},\"mode\":\"lines\",\"x\":[0.5497659067598015,1.0199706959257837,1.0199706959257837,0.55734571315088],\"xaxis\":\"x\",\"y\":[-382.5,-382.5,-410.0,-410.0],\"yaxis\":\"y\",\"type\":\"scatter\"},{\"hoverinfo\":\"text\",\"marker\":{\"color\":\"rgb(0,116,217)\"},\"mode\":\"lines\",\"x\":[0.8694245281681054,1.2913709251764494,1.2913709251764494,1.0199706959257837],\"xaxis\":\"x\",\"y\":[-334.375,-334.375,-396.25,-396.25],\"yaxis\":\"y\",\"type\":\"scatter\"},{\"hoverinfo\":\"text\",\"marker\":{\"color\":\"rgb(0,116,217)\"},\"mode\":\"lines\",\"x\":[1.2504777089560433,1.9501286957131017,1.9501286957131017,1.2913709251764494],\"xaxis\":\"x\",\"y\":[-237.96875,-237.96875,-365.3125,-365.3125],\"yaxis\":\"y\",\"type\":\"scatter\"},{\"hoverinfo\":\"text\",\"marker\":{\"color\":\"rgb(0,116,217)\"},\"mode\":\"lines\",\"x\":[0.0,2.842943623163973,2.842943623163973,1.9501286957131017],\"xaxis\":\"x\",\"y\":[-185.0,-185.0,-301.640625,-301.640625],\"yaxis\":\"y\",\"type\":\"scatter\"},{\"hoverinfo\":\"text\",\"marker\":{\"color\":\"rgb(0,116,217)\"},\"mode\":\"lines\",\"x\":[1.9564791864653772,3.016044696404715,3.016044696404715,2.842943623163973],\"xaxis\":\"x\",\"y\":[-70.15625,-70.15625,-243.3203125,-243.3203125],\"yaxis\":\"y\",\"type\":\"scatter\"}],                        {\"autosize\":false,\"height\":830,\"hovermode\":\"closest\",\"showlegend\":false,\"width\":1000,\"xaxis\":{\"mirror\":\"allticks\",\"rangemode\":\"tozero\",\"showgrid\":false,\"showline\":true,\"showticklabels\":true,\"ticks\":\"outside\",\"type\":\"linear\",\"zeroline\":false},\"yaxis\":{\"mirror\":\"allticks\",\"rangemode\":\"tozero\",\"showgrid\":false,\"showline\":true,\"showticklabels\":true,\"tickmode\":\"array\",\"ticks\":\"outside\",\"ticktext\":[\"12_pronounce_dead_pronounce...\",\"33_pronounce_dead_ski_hospi...\",\"11_pool_boy_drown\",\"34_bathtub_drown_autopsy\",\"1_drown_death_autopsy\",\"15_drown_hot_tub_autopsy\",\"40_drown_swimming_pool_auto...\",\"6_terrain_vehicle_golf_cart...\",\"37_bicycle_head_autopsy\",\"31_snowmobile_tree_trail\",\"0_bicyclist_bicycle_scooter\",\"21_atv_crash_drive\",\"10_sleep_autopsy_overlay\",\"19_unresponsive_blanket_bed\",\"13_hip_fracture_floor_fall\",\"35_hip_fracture_hip_fall\",\"2_ladder_fall_stair\",\"9_fall_head_floor\",\"8_nan_apneic_yet\",\"23_difluoroethane_autopsy_i...\",\"28_carbon_monoxide_furnace_...\",\"38_garage_carbon_monoxide_a...\",\"14_thermal_burn_inhalation\",\"39_generator_unknown_autopsy\",\"3_electrical_extension_cord...\",\"18_burner_grill_knob\",\"27_mower_lawn_mower_fuel\",\"32_firework_hand_explode\",\"16_glass_shower_door\",\"7_fire_house_firefighter\",\"4_apartment_candle_fire\",\"25_chimney_fire_home\",\"26_bulb_lamp_light\",\"17_chair_stroller_seat\",\"36_blade_blender_food_proce...\",\"5_toy_battery_mouth\",\"30_phone_device_charge\",\"29_refrigerator_freezer_fri...\",\"20_oven_turn_toaster\",\"22_microwave_door_turn\",\"24_dishwasher_melt_smoke\",\"41_washer_machine_washing_m...\"],\"tickvals\":[-5.0,-15.0,-25.0,-35.0,-45.0,-55.0,-65.0,-75.0,-85.0,-95.0,-105.0,-115.0,-125.0,-135.0,-145.0,-155.0,-165.0,-175.0,-185.0,-195.0,-205.0,-215.0,-225.0,-235.0,-245.0,-255.0,-265.0,-275.0,-285.0,-295.0,-305.0,-315.0,-325.0,-335.0,-345.0,-355.0,-365.0,-375.0,-385.0,-395.0,-405.0,-415.0],\"type\":\"linear\",\"zeroline\":false,\"range\":[-420.0,0.0]},\"template\":{\"data\":{\"barpolar\":[{\"marker\":{\"line\":{\"color\":\"white\",\"width\":0.5},\"pattern\":{\"fillmode\":\"overlay\",\"size\":10,\"solidity\":0.2}},\"type\":\"barpolar\"}],\"bar\":[{\"error_x\":{\"color\":\"#2a3f5f\"},\"error_y\":{\"color\":\"#2a3f5f\"},\"marker\":{\"line\":{\"color\":\"white\",\"width\":0.5},\"pattern\":{\"fillmode\":\"overlay\",\"size\":10,\"solidity\":0.2}},\"type\":\"bar\"}],\"carpet\":[{\"aaxis\":{\"endlinecolor\":\"#2a3f5f\",\"gridcolor\":\"#C8D4E3\",\"linecolor\":\"#C8D4E3\",\"minorgridcolor\":\"#C8D4E3\",\"startlinecolor\":\"#2a3f5f\"},\"baxis\":{\"endlinecolor\":\"#2a3f5f\",\"gridcolor\":\"#C8D4E3\",\"linecolor\":\"#C8D4E3\",\"minorgridcolor\":\"#C8D4E3\",\"startlinecolor\":\"#2a3f5f\"},\"type\":\"carpet\"}],\"choropleth\":[{\"colorbar\":{\"outlinewidth\":0,\"ticks\":\"\"},\"type\":\"choropleth\"}],\"contourcarpet\":[{\"colorbar\":{\"outlinewidth\":0,\"ticks\":\"\"},\"type\":\"contourcarpet\"}],\"contour\":[{\"colorbar\":{\"outlinewidth\":0,\"ticks\":\"\"},\"colorscale\":[[0.0,\"#0d0887\"],[0.1111111111111111,\"#46039f\"],[0.2222222222222222,\"#7201a8\"],[0.3333333333333333,\"#9c179e\"],[0.4444444444444444,\"#bd3786\"],[0.5555555555555556,\"#d8576b\"],[0.6666666666666666,\"#ed7953\"],[0.7777777777777778,\"#fb9f3a\"],[0.8888888888888888,\"#fdca26\"],[1.0,\"#f0f921\"]],\"type\":\"contour\"}],\"heatmapgl\":[{\"colorbar\":{\"outlinewidth\":0,\"ticks\":\"\"},\"colorscale\":[[0.0,\"#0d0887\"],[0.1111111111111111,\"#46039f\"],[0.2222222222222222,\"#7201a8\"],[0.3333333333333333,\"#9c179e\"],[0.4444444444444444,\"#bd3786\"],[0.5555555555555556,\"#d8576b\"],[0.6666666666666666,\"#ed7953\"],[0.7777777777777778,\"#fb9f3a\"],[0.8888888888888888,\"#fdca26\"],[1.0,\"#f0f921\"]],\"type\":\"heatmapgl\"}],\"heatmap\":[{\"colorbar\":{\"outlinewidth\":0,\"ticks\":\"\"},\"colorscale\":[[0.0,\"#0d0887\"],[0.1111111111111111,\"#46039f\"],[0.2222222222222222,\"#7201a8\"],[0.3333333333333333,\"#9c179e\"],[0.4444444444444444,\"#bd3786\"],[0.5555555555555556,\"#d8576b\"],[0.6666666666666666,\"#ed7953\"],[0.7777777777777778,\"#fb9f3a\"],[0.8888888888888888,\"#fdca26\"],[1.0,\"#f0f921\"]],\"type\":\"heatmap\"}],\"histogram2dcontour\":[{\"colorbar\":{\"outlinewidth\":0,\"ticks\":\"\"},\"colorscale\":[[0.0,\"#0d0887\"],[0.1111111111111111,\"#46039f\"],[0.2222222222222222,\"#7201a8\"],[0.3333333333333333,\"#9c179e\"],[0.4444444444444444,\"#bd3786\"],[0.5555555555555556,\"#d8576b\"],[0.6666666666666666,\"#ed7953\"],[0.7777777777777778,\"#fb9f3a\"],[0.8888888888888888,\"#fdca26\"],[1.0,\"#f0f921\"]],\"type\":\"histogram2dcontour\"}],\"histogram2d\":[{\"colorbar\":{\"outlinewidth\":0,\"ticks\":\"\"},\"colorscale\":[[0.0,\"#0d0887\"],[0.1111111111111111,\"#46039f\"],[0.2222222222222222,\"#7201a8\"],[0.3333333333333333,\"#9c179e\"],[0.4444444444444444,\"#bd3786\"],[0.5555555555555556,\"#d8576b\"],[0.6666666666666666,\"#ed7953\"],[0.7777777777777778,\"#fb9f3a\"],[0.8888888888888888,\"#fdca26\"],[1.0,\"#f0f921\"]],\"type\":\"histogram2d\"}],\"histogram\":[{\"marker\":{\"pattern\":{\"fillmode\":\"overlay\",\"size\":10,\"solidity\":0.2}},\"type\":\"histogram\"}],\"mesh3d\":[{\"colorbar\":{\"outlinewidth\":0,\"ticks\":\"\"},\"type\":\"mesh3d\"}],\"parcoords\":[{\"line\":{\"colorbar\":{\"outlinewidth\":0,\"ticks\":\"\"}},\"type\":\"parcoords\"}],\"pie\":[{\"automargin\":true,\"type\":\"pie\"}],\"scatter3d\":[{\"line\":{\"colorbar\":{\"outlinewidth\":0,\"ticks\":\"\"}},\"marker\":{\"colorbar\":{\"outlinewidth\":0,\"ticks\":\"\"}},\"type\":\"scatter3d\"}],\"scattercarpet\":[{\"marker\":{\"colorbar\":{\"outlinewidth\":0,\"ticks\":\"\"}},\"type\":\"scattercarpet\"}],\"scattergeo\":[{\"marker\":{\"colorbar\":{\"outlinewidth\":0,\"ticks\":\"\"}},\"type\":\"scattergeo\"}],\"scattergl\":[{\"marker\":{\"colorbar\":{\"outlinewidth\":0,\"ticks\":\"\"}},\"type\":\"scattergl\"}],\"scattermapbox\":[{\"marker\":{\"colorbar\":{\"outlinewidth\":0,\"ticks\":\"\"}},\"type\":\"scattermapbox\"}],\"scatterpolargl\":[{\"marker\":{\"colorbar\":{\"outlinewidth\":0,\"ticks\":\"\"}},\"type\":\"scatterpolargl\"}],\"scatterpolar\":[{\"marker\":{\"colorbar\":{\"outlinewidth\":0,\"ticks\":\"\"}},\"type\":\"scatterpolar\"}],\"scatter\":[{\"fillpattern\":{\"fillmode\":\"overlay\",\"size\":10,\"solidity\":0.2},\"type\":\"scatter\"}],\"scatterternary\":[{\"marker\":{\"colorbar\":{\"outlinewidth\":0,\"ticks\":\"\"}},\"type\":\"scatterternary\"}],\"surface\":[{\"colorbar\":{\"outlinewidth\":0,\"ticks\":\"\"},\"colorscale\":[[0.0,\"#0d0887\"],[0.1111111111111111,\"#46039f\"],[0.2222222222222222,\"#7201a8\"],[0.3333333333333333,\"#9c179e\"],[0.4444444444444444,\"#bd3786\"],[0.5555555555555556,\"#d8576b\"],[0.6666666666666666,\"#ed7953\"],[0.7777777777777778,\"#fb9f3a\"],[0.8888888888888888,\"#fdca26\"],[1.0,\"#f0f921\"]],\"type\":\"surface\"}],\"table\":[{\"cells\":{\"fill\":{\"color\":\"#EBF0F8\"},\"line\":{\"color\":\"white\"}},\"header\":{\"fill\":{\"color\":\"#C8D4E3\"},\"line\":{\"color\":\"white\"}},\"type\":\"table\"}]},\"layout\":{\"annotationdefaults\":{\"arrowcolor\":\"#2a3f5f\",\"arrowhead\":0,\"arrowwidth\":1},\"autotypenumbers\":\"strict\",\"coloraxis\":{\"colorbar\":{\"outlinewidth\":0,\"ticks\":\"\"}},\"colorscale\":{\"diverging\":[[0,\"#8e0152\"],[0.1,\"#c51b7d\"],[0.2,\"#de77ae\"],[0.3,\"#f1b6da\"],[0.4,\"#fde0ef\"],[0.5,\"#f7f7f7\"],[0.6,\"#e6f5d0\"],[0.7,\"#b8e186\"],[0.8,\"#7fbc41\"],[0.9,\"#4d9221\"],[1,\"#276419\"]],\"sequential\":[[0.0,\"#0d0887\"],[0.1111111111111111,\"#46039f\"],[0.2222222222222222,\"#7201a8\"],[0.3333333333333333,\"#9c179e\"],[0.4444444444444444,\"#bd3786\"],[0.5555555555555556,\"#d8576b\"],[0.6666666666666666,\"#ed7953\"],[0.7777777777777778,\"#fb9f3a\"],[0.8888888888888888,\"#fdca26\"],[1.0,\"#f0f921\"]],\"sequentialminus\":[[0.0,\"#0d0887\"],[0.1111111111111111,\"#46039f\"],[0.2222222222222222,\"#7201a8\"],[0.3333333333333333,\"#9c179e\"],[0.4444444444444444,\"#bd3786\"],[0.5555555555555556,\"#d8576b\"],[0.6666666666666666,\"#ed7953\"],[0.7777777777777778,\"#fb9f3a\"],[0.8888888888888888,\"#fdca26\"],[1.0,\"#f0f921\"]]},\"colorway\":[\"#636efa\",\"#EF553B\",\"#00cc96\",\"#ab63fa\",\"#FFA15A\",\"#19d3f3\",\"#FF6692\",\"#B6E880\",\"#FF97FF\",\"#FECB52\"],\"font\":{\"color\":\"#2a3f5f\"},\"geo\":{\"bgcolor\":\"white\",\"lakecolor\":\"white\",\"landcolor\":\"white\",\"showlakes\":true,\"showland\":true,\"subunitcolor\":\"#C8D4E3\"},\"hoverlabel\":{\"align\":\"left\"},\"hovermode\":\"closest\",\"mapbox\":{\"style\":\"light\"},\"paper_bgcolor\":\"white\",\"plot_bgcolor\":\"white\",\"polar\":{\"angularaxis\":{\"gridcolor\":\"#EBF0F8\",\"linecolor\":\"#EBF0F8\",\"ticks\":\"\"},\"bgcolor\":\"white\",\"radialaxis\":{\"gridcolor\":\"#EBF0F8\",\"linecolor\":\"#EBF0F8\",\"ticks\":\"\"}},\"scene\":{\"xaxis\":{\"backgroundcolor\":\"white\",\"gridcolor\":\"#DFE8F3\",\"gridwidth\":2,\"linecolor\":\"#EBF0F8\",\"showbackground\":true,\"ticks\":\"\",\"zerolinecolor\":\"#EBF0F8\"},\"yaxis\":{\"backgroundcolor\":\"white\",\"gridcolor\":\"#DFE8F3\",\"gridwidth\":2,\"linecolor\":\"#EBF0F8\",\"showbackground\":true,\"ticks\":\"\",\"zerolinecolor\":\"#EBF0F8\"},\"zaxis\":{\"backgroundcolor\":\"white\",\"gridcolor\":\"#DFE8F3\",\"gridwidth\":2,\"linecolor\":\"#EBF0F8\",\"showbackground\":true,\"ticks\":\"\",\"zerolinecolor\":\"#EBF0F8\"}},\"shapedefaults\":{\"line\":{\"color\":\"#2a3f5f\"}},\"ternary\":{\"aaxis\":{\"gridcolor\":\"#DFE8F3\",\"linecolor\":\"#A2B1C6\",\"ticks\":\"\"},\"baxis\":{\"gridcolor\":\"#DFE8F3\",\"linecolor\":\"#A2B1C6\",\"ticks\":\"\"},\"bgcolor\":\"white\",\"caxis\":{\"gridcolor\":\"#DFE8F3\",\"linecolor\":\"#A2B1C6\",\"ticks\":\"\"}},\"title\":{\"x\":0.05},\"xaxis\":{\"automargin\":true,\"gridcolor\":\"#EBF0F8\",\"linecolor\":\"#EBF0F8\",\"ticks\":\"\",\"title\":{\"standoff\":15},\"zerolinecolor\":\"#EBF0F8\",\"zerolinewidth\":2},\"yaxis\":{\"automargin\":true,\"gridcolor\":\"#EBF0F8\",\"linecolor\":\"#EBF0F8\",\"ticks\":\"\",\"title\":{\"standoff\":15},\"zerolinecolor\":\"#EBF0F8\",\"zerolinewidth\":2}}},\"title\":{\"font\":{\"size\":22,\"color\":\"Black\"},\"text\":\"<b>Hierarchical Clustering\",\"x\":0.5,\"xanchor\":\"center\",\"yanchor\":\"top\"},\"hoverlabel\":{\"font\":{\"size\":16,\"family\":\"Rockwell\"},\"bgcolor\":\"white\"},\"plot_bgcolor\":\"#ECEFF1\"},                        {\"responsive\": true}                    ).then(function(){\n",
       "                            \n",
       "var gd = document.getElementById('e8424542-3158-4e4f-858f-38576f100e1e');\n",
       "var x = new MutationObserver(function (mutations, observer) {{\n",
       "        var display = window.getComputedStyle(gd).display;\n",
       "        if (!display || display === 'none') {{\n",
       "            console.log([gd, 'removed!']);\n",
       "            Plotly.purge(gd);\n",
       "            observer.disconnect();\n",
       "        }}\n",
       "}});\n",
       "\n",
       "// Listen for the removal of the full notebook cells\n",
       "var notebookContainer = gd.closest('#notebook-container');\n",
       "if (notebookContainer) {{\n",
       "    x.observe(notebookContainer, {childList: true});\n",
       "}}\n",
       "\n",
       "// Listen for the clearing of the current output cell\n",
       "var outputEl = gd.closest('.output');\n",
       "if (outputEl) {{\n",
       "    x.observe(outputEl, {childList: true});\n",
       "}}\n",
       "\n",
       "                        })                };                });            </script>        </div>"
      ]
     },
     "metadata": {},
     "output_type": "display_data"
    }
   ],
   "source": [
    " optimal_model.visualize_hierarchy(top_n_topics=921)"
   ]
  },
  {
   "cell_type": "markdown",
   "id": "3d385f9b",
   "metadata": {},
   "source": [
    "#### Word element distribution within topics"
   ]
  },
  {
   "cell_type": "code",
   "execution_count": 36,
   "id": "5ebaa9f6",
   "metadata": {},
   "outputs": [
    {
     "data": {
      "application/vnd.plotly.v1+json": {
       "config": {
        "plotlyServerURL": "https://plot.ly"
       },
       "data": [
        {
         "marker": {
          "color": "#D55E00"
         },
         "orientation": "h",
         "type": "bar",
         "x": [
          0.07317273736506064,
          0.0745058810821003,
          0.08393866022059748,
          0.09509836350731111,
          0.11160329571588962
         ],
         "xaxis": "x",
         "y": [
          "car  ",
          "vehicle  ",
          "scooter  ",
          "bicycle  ",
          "bicyclist  "
         ],
         "yaxis": "y"
        },
        {
         "marker": {
          "color": "#0072B2"
         },
         "orientation": "h",
         "type": "bar",
         "x": [
          0.09318265402366703,
          0.09437360787572309,
          0.10765143660202732,
          0.11927949926666913,
          0.1434963973825303
         ],
         "xaxis": "x2",
         "y": [
          "swimming_pool  ",
          "manner  ",
          "autopsy  ",
          "death  ",
          "drown  "
         ],
         "yaxis": "y2"
        },
        {
         "marker": {
          "color": "#CC79A7"
         },
         "orientation": "h",
         "type": "bar",
         "x": [
          0.056766071689115,
          0.08220008213595603,
          0.08981991187762198,
          0.10185490938345423,
          0.12411935914409791
         ],
         "xaxis": "x3",
         "y": [
          "decedent  ",
          "head  ",
          "stair  ",
          "fall  ",
          "ladder  "
         ],
         "yaxis": "y3"
        },
        {
         "marker": {
          "color": "#E69F00"
         },
         "orientation": "h",
         "type": "bar",
         "x": [
          0.03831588602099207,
          0.04651608140792409,
          0.052683583338088494,
          0.05346174865631592,
          0.062159996898183245
         ],
         "xaxis": "x4",
         "y": [
          "outlet  ",
          "space_heater  ",
          "fire  ",
          "extension_cord  ",
          "electrical  "
         ],
         "yaxis": "y4"
        },
        {
         "marker": {
          "color": "#56B4E9"
         },
         "orientation": "h",
         "type": "bar",
         "x": [
          0.046300207693900364,
          0.050887815498592205,
          0.07439642260828383,
          0.08036017797480682,
          0.11906041307918176
         ],
         "xaxis": "x5",
         "y": [
          "building  ",
          "stove  ",
          "fire  ",
          "candle  ",
          "apartment  "
         ],
         "yaxis": "y5"
        },
        {
         "marker": {
          "color": "#009E73"
         },
         "orientation": "h",
         "type": "bar",
         "x": [
          0.028036742382949557,
          0.030302700654397476,
          0.0340562177561759,
          0.04804033561968438,
          0.07768033148033363
         ],
         "xaxis": "x6",
         "y": [
          "child  ",
          "laptop  ",
          "mouth  ",
          "battery  ",
          "toy  "
         ],
         "yaxis": "y6"
        },
        {
         "marker": {
          "color": "#F0E442"
         },
         "orientation": "h",
         "type": "bar",
         "x": [
          0.06412809152957706,
          0.0650433024081301,
          0.08857499863354235,
          0.10002991727218022,
          0.10416818330253584
         ],
         "xaxis": "x7",
         "y": [
          "decedent  ",
          "injury  ",
          "autopsy  ",
          "golf_cart  ",
          "terrain_vehicle  "
         ],
         "yaxis": "y7"
        },
        {
         "marker": {
          "color": "#D55E00"
         },
         "orientation": "h",
         "type": "bar",
         "x": [
          0.035635244133762525,
          0.04663479788610197,
          0.051237862981184795,
          0.05787315023454868,
          0.06692325669103832
         ],
         "xaxis": "x8",
         "y": [
          "home  ",
          "window  ",
          "firefighter  ",
          "house  ",
          "fire  "
         ],
         "yaxis": "y8"
        },
        {
         "marker": {
          "color": "#0072B2"
         },
         "orientation": "h",
         "type": "bar",
         "x": [
          1e-05,
          0.0016029931954101527,
          0.003059526265446847,
          0.003489591625441188,
          3.3968904109598803
         ],
         "xaxis": "x9",
         "y": [
          "  ",
          "fine  ",
          "yet  ",
          "apneic  ",
          "nan  "
         ],
         "yaxis": "y9"
        },
        {
         "marker": {
          "color": "#CC79A7"
         },
         "orientation": "h",
         "type": "bar",
         "x": [
          0.06844527847508618,
          0.08310178874433212,
          0.08621031253474774,
          0.13088304564031156,
          0.1332022995112296
         ],
         "xaxis": "x10",
         "y": [
          "autopsy  ",
          "decedent  ",
          "floor  ",
          "head  ",
          "fall  "
         ],
         "yaxis": "y10"
        },
        {
         "marker": {
          "color": "#E69F00"
         },
         "orientation": "h",
         "type": "bar",
         "x": [
          0.09418178630961334,
          0.10113794141211674,
          0.10430086383356124,
          0.13467679081752845,
          0.13848529327103926
         ],
         "xaxis": "x11",
         "y": [
          "bed  ",
          "adult  ",
          "overlay  ",
          "autopsy  ",
          "sleep  "
         ],
         "yaxis": "y11"
        },
        {
         "marker": {
          "color": "#56B4E9"
         },
         "orientation": "h",
         "type": "bar",
         "x": [
          0.07422155617442858,
          0.07860922503588223,
          0.07962116955900811,
          0.08776004125275601,
          0.20455111617767902
         ],
         "xaxis": "x12",
         "y": [
          "pull  ",
          "swimming_pool  ",
          "drown  ",
          "boy  ",
          "pool  "
         ],
         "yaxis": "y12"
        },
        {
         "marker": {
          "color": "#009E73"
         },
         "orientation": "h",
         "type": "bar",
         "x": [
          0.06371619348589333,
          0.06861548196053546,
          0.10033224296704155,
          0.10890306757057419,
          0.13887825711468565
         ],
         "xaxis": "x13",
         "y": [
          "hospital  ",
          "swimming_pool  ",
          "pool  ",
          "pronounce  ",
          "pronounce_dead  "
         ],
         "yaxis": "y13"
        },
        {
         "marker": {
          "color": "#F0E442"
         },
         "orientation": "h",
         "type": "bar",
         "x": [
          0.0696087666678805,
          0.09027795921959429,
          0.09315946859573503,
          0.10002669678905976,
          0.1417756288215951
         ],
         "xaxis": "x14",
         "y": [
          "fan  ",
          "hip  ",
          "fall  ",
          "floor  ",
          "hip_fracture  "
         ],
         "yaxis": "y14"
        },
        {
         "marker": {
          "color": "#D55E00"
         },
         "orientation": "h",
         "type": "bar",
         "x": [
          0.0487715423775728,
          0.050076491257321165,
          0.05829502477548774,
          0.07053362604429916,
          0.12658609602379656
         ],
         "xaxis": "x15",
         "y": [
          "decedent  ",
          "clothing  ",
          "inhalation  ",
          "burn  ",
          "thermal  "
         ],
         "yaxis": "y15"
        },
        {
         "marker": {
          "color": "#0072B2"
         },
         "orientation": "h",
         "type": "bar",
         "x": [
          0.12524743159289423,
          0.15017724984830988,
          0.2168851064939031,
          0.2553696025045548,
          0.42461503006178486
         ],
         "xaxis": "x16",
         "y": [
          "decedent  ",
          "pool  ",
          "autopsy  ",
          "hot_tub  ",
          "drown  "
         ],
         "yaxis": "y16"
        },
        {
         "marker": {
          "color": "#CC79A7"
         },
         "orientation": "h",
         "type": "bar",
         "x": [
          0.06984234621271092,
          0.0765858379152963,
          0.08190673790434241,
          0.08584723803535829,
          0.142713149005667
         ],
         "xaxis": "x17",
         "y": [
          "oven  ",
          "shatter  ",
          "door  ",
          "shower  ",
          "glass  "
         ],
         "yaxis": "y17"
        },
        {
         "marker": {
          "color": "#E69F00"
         },
         "orientation": "h",
         "type": "bar",
         "x": [
          0.03427462901287,
          0.03452783371485336,
          0.061155054608125634,
          0.09121408372730479,
          0.09684052005644107
         ],
         "xaxis": "x18",
         "y": [
          "shade  ",
          "swing  ",
          "seat  ",
          "stroller  ",
          "chair  "
         ],
         "yaxis": "y18"
        },
        {
         "marker": {
          "color": "#56B4E9"
         },
         "orientation": "h",
         "type": "bar",
         "x": [
          0.05734380966942332,
          0.05743851414861444,
          0.06586944866591117,
          0.09107382798488722,
          0.09141311583924876
         ],
         "xaxis": "x19",
         "y": [
          "gas  ",
          "turn  ",
          "knob  ",
          "grill  ",
          "burner  "
         ],
         "yaxis": "y19"
        },
        {
         "marker": {
          "color": "#009E73"
         },
         "orientation": "h",
         "type": "bar",
         "x": [
          0.07000654852445387,
          0.07343797565930493,
          0.07830411849175169,
          0.08636456409733596,
          0.0910771928172274
         ],
         "xaxis": "x20",
         "y": [
          "mother  ",
          "sleep  ",
          "bed  ",
          "blanket  ",
          "unresponsive  "
         ],
         "yaxis": "y20"
        },
        {
         "marker": {
          "color": "#F0E442"
         },
         "orientation": "h",
         "type": "bar",
         "x": [
          0.02221956014608042,
          0.03858394290185813,
          0.039105684199564686,
          0.04980081288705989,
          0.1589350553658441
         ],
         "xaxis": "x21",
         "y": [
          "broiler  ",
          "rack  ",
          "toaster  ",
          "turn  ",
          "oven  "
         ],
         "yaxis": "y21"
        },
        {
         "marker": {
          "color": "#D55E00"
         },
         "orientation": "h",
         "type": "bar",
         "x": [
          0.05735104742793075,
          0.06416220457132714,
          0.06611823195198852,
          0.07028937702566256,
          0.10941637899110741
         ],
         "xaxis": "x22",
         "y": [
          "lose_control  ",
          "roll  ",
          "drive  ",
          "crash  ",
          "atv  "
         ],
         "yaxis": "y22"
        },
        {
         "marker": {
          "color": "#0072B2"
         },
         "orientation": "h",
         "type": "bar",
         "x": [
          0.03405550967395689,
          0.0343637371266678,
          0.034721319633484654,
          0.04222038277758232,
          0.2754959619598151
         ],
         "xaxis": "x23",
         "y": [
          "unplug  ",
          "oven  ",
          "turn  ",
          "door  ",
          "microwave  "
         ],
         "yaxis": "y23"
        },
        {
         "marker": {
          "color": "#CC79A7"
         },
         "orientation": "h",
         "type": "bar",
         "x": [
          0.04676241657252173,
          0.058041183419303505,
          0.06616491025635737,
          0.11179516541030339,
          0.19586016661300476
         ],
         "xaxis": "x24",
         "y": [
          "inhale  ",
          "decedent  ",
          "inhalation  ",
          "autopsy  ",
          "difluoroethane  "
         ],
         "yaxis": "y24"
        },
        {
         "marker": {
          "color": "#E69F00"
         },
         "orientation": "h",
         "type": "bar",
         "x": [
          0.0385988807093261,
          0.039805418690688196,
          0.04059552510170543,
          0.04103525393086206,
          0.26208091640274844
         ],
         "xaxis": "x25",
         "y": [
          "cycle  ",
          "door  ",
          "smoke  ",
          "melt  ",
          "dishwasher  "
         ],
         "yaxis": "y25"
        },
        {
         "marker": {
          "color": "#56B4E9"
         },
         "orientation": "h",
         "type": "bar",
         "x": [
          0.053095586402053675,
          0.057578796067067554,
          0.05976342198773915,
          0.08862443648652642,
          0.20405562338119543
         ],
         "xaxis": "x26",
         "y": [
          "house  ",
          "fireplace  ",
          "home  ",
          "fire  ",
          "chimney  "
         ],
         "yaxis": "y26"
        },
        {
         "marker": {
          "color": "#009E73"
         },
         "orientation": "h",
         "type": "bar",
         "x": [
          0.04578002761425947,
          0.06693572084272163,
          0.07614045806612071,
          0.09459929140308265,
          0.20187080856073727
         ],
         "xaxis": "x27",
         "y": [
          "base  ",
          "fixture  ",
          "light  ",
          "lamp  ",
          "bulb  "
         ],
         "yaxis": "y27"
        },
        {
         "marker": {
          "color": "#F0E442"
         },
         "orientation": "h",
         "type": "bar",
         "x": [
          0.05073745069068468,
          0.05165142668946361,
          0.05355263943399771,
          0.05592262295523314,
          0.08531466957914519
         ],
         "xaxis": "x28",
         "y": [
          "tank  ",
          "gas  ",
          "fuel  ",
          "lawn_mower  ",
          "mower  "
         ],
         "yaxis": "y28"
        },
        {
         "marker": {
          "color": "#D55E00"
         },
         "orientation": "h",
         "type": "bar",
         "x": [
          0.05688723755600072,
          0.06211642352236204,
          0.0655962556915461,
          0.0867713536211518,
          0.17635319978651356
         ],
         "xaxis": "x29",
         "y": [
          "generator  ",
          "leak  ",
          "level  ",
          "furnace  ",
          "carbon_monoxide  "
         ],
         "yaxis": "y29"
        },
        {
         "marker": {
          "color": "#0072B2"
         },
         "orientation": "h",
         "type": "bar",
         "x": [
          0.04335215507892473,
          0.049636717109584554,
          0.06307961113809965,
          0.06355585031989323,
          0.191860139791934
         ],
         "xaxis": "x30",
         "y": [
          "ice_maker  ",
          "ice  ",
          "fridge  ",
          "freezer  ",
          "refrigerator  "
         ],
         "yaxis": "y30"
        },
        {
         "marker": {
          "color": "#CC79A7"
         },
         "orientation": "h",
         "type": "bar",
         "x": [
          0.057243570955672535,
          0.08371550308621982,
          0.08457487169897361,
          0.1020399836880455,
          0.15366092840449092
         ],
         "xaxis": "x31",
         "y": [
          "cable  ",
          "charger  ",
          "charge  ",
          "device  ",
          "phone  "
         ],
         "yaxis": "y31"
        },
        {
         "marker": {
          "color": "#E69F00"
         },
         "orientation": "h",
         "type": "bar",
         "x": [
          0.05128325138724304,
          0.08483336408543256,
          0.09555814594406858,
          0.09980897050791154,
          0.38867311512615904
         ],
         "xaxis": "x32",
         "y": [
          "accident  ",
          "crash  ",
          "trail  ",
          "tree  ",
          "snowmobile  "
         ],
         "yaxis": "y32"
        },
        {
         "marker": {
          "color": "#56B4E9"
         },
         "orientation": "h",
         "type": "bar",
         "x": [
          0.0333481958559899,
          0.03708200519613836,
          0.05267668884946352,
          0.07539929242703645,
          0.3060076214000372
         ],
         "xaxis": "x33",
         "y": [
          "injury  ",
          "injure  ",
          "explode  ",
          "hand  ",
          "firework  "
         ],
         "yaxis": "y33"
        },
        {
         "marker": {
          "color": "#009E73"
         },
         "orientation": "h",
         "type": "bar",
         "x": [
          0.05597185277203547,
          0.05744426708486421,
          0.06238561804763624,
          0.07833549303872345,
          0.14470380332486607
         ],
         "xaxis": "x34",
         "y": [
          "skier  ",
          "die  ",
          "hospital  ",
          "ski  ",
          "pronounce_dead  "
         ],
         "yaxis": "y34"
        },
        {
         "marker": {
          "color": "#F0E442"
         },
         "orientation": "h",
         "type": "bar",
         "x": [
          0.10344036795316937,
          0.11408572060147903,
          0.1275789204373819,
          0.21518317777828558,
          0.3570398164951736
         ],
         "xaxis": "x35",
         "y": [
          "drowning  ",
          "seizure  ",
          "autopsy  ",
          "drown  ",
          "bathtub  "
         ],
         "yaxis": "y35"
        },
        {
         "marker": {
          "color": "#D55E00"
         },
         "orientation": "h",
         "type": "bar",
         "x": [
          0.08185907581923489,
          0.08555993954080125,
          0.09144088369006165,
          0.10138110413028262,
          0.10659930743326698
         ],
         "xaxis": "x36",
         "y": [
          "hospice  ",
          "floor  ",
          "fall  ",
          "hip  ",
          "hip_fracture  "
         ],
         "yaxis": "y36"
        },
        {
         "marker": {
          "color": "#0072B2"
         },
         "orientation": "h",
         "type": "bar",
         "x": [
          0.045213675129975796,
          0.05293885409900991,
          0.05460351401189231,
          0.07128069619410898,
          0.16070958266215388
         ],
         "xaxis": "x37",
         "y": [
          "thumb  ",
          "cut  ",
          "food_processor  ",
          "blender  ",
          "blade  "
         ],
         "yaxis": "y37"
        },
        {
         "marker": {
          "color": "#CC79A7"
         },
         "orientation": "h",
         "type": "bar",
         "x": [
          0.07005654953332371,
          0.07036585080335492,
          0.070645760502075,
          0.07363760444435564,
          0.2114652888209043
         ],
         "xaxis": "x38",
         "y": [
          "ride  ",
          "decedent  ",
          "autopsy  ",
          "head  ",
          "bicycle  "
         ],
         "yaxis": "y38"
        },
        {
         "marker": {
          "color": "#E69F00"
         },
         "orientation": "h",
         "type": "bar",
         "x": [
          0.07204143736650735,
          0.07639313622473762,
          0.11773762923954738,
          0.15459742497782608,
          0.18325167254534755
         ],
         "xaxis": "x39",
         "y": [
          "run  ",
          "inhale  ",
          "autopsy  ",
          "carbon_monoxide  ",
          "garage  "
         ],
         "yaxis": "y39"
        },
        {
         "marker": {
          "color": "#56B4E9"
         },
         "orientation": "h",
         "type": "bar",
         "x": [
          0.07394769673158519,
          0.07434815129409672,
          0.09589992373983006,
          0.10927658994505643,
          0.19355534247291148
         ],
         "xaxis": "x40",
         "y": [
          "patient  ",
          "die  ",
          "autopsy  ",
          "unknown  ",
          "generator  "
         ],
         "yaxis": "y40"
        },
        {
         "marker": {
          "color": "#009E73"
         },
         "orientation": "h",
         "type": "bar",
         "x": [
          0.09890973543956426,
          0.10034714459639743,
          0.19647196143447063,
          0.35824811030714765,
          0.37753931404042956
         ],
         "xaxis": "x41",
         "y": [
          "decedent  ",
          "hotel  ",
          "autopsy  ",
          "swimming_pool  ",
          "drown  "
         ],
         "yaxis": "y41"
        },
        {
         "marker": {
          "color": "#F0E442"
         },
         "orientation": "h",
         "type": "bar",
         "x": [
          0.038758960094356996,
          0.04748133062243772,
          0.08383175198907666,
          0.09604664802632819,
          0.17845993362725265
         ],
         "xaxis": "x42",
         "y": [
          "load  ",
          "spin_cycle  ",
          "washing_machine  ",
          "machine  ",
          "washer  "
         ],
         "yaxis": "y42"
        }
       ],
       "layout": {
        "annotations": [
         {
          "font": {
           "size": 16
          },
          "showarrow": false,
          "text": "Topic 0",
          "x": 0.0875,
          "xanchor": "center",
          "xref": "paper",
          "y": 1,
          "yanchor": "bottom",
          "yref": "paper"
         },
         {
          "font": {
           "size": 16
          },
          "showarrow": false,
          "text": "Topic 1",
          "x": 0.36250000000000004,
          "xanchor": "center",
          "xref": "paper",
          "y": 1,
          "yanchor": "bottom",
          "yref": "paper"
         },
         {
          "font": {
           "size": 16
          },
          "showarrow": false,
          "text": "Topic 2",
          "x": 0.6375000000000001,
          "xanchor": "center",
          "xref": "paper",
          "y": 1,
          "yanchor": "bottom",
          "yref": "paper"
         },
         {
          "font": {
           "size": 16
          },
          "showarrow": false,
          "text": "Topic 3",
          "x": 0.9125,
          "xanchor": "center",
          "xref": "paper",
          "y": 1,
          "yanchor": "bottom",
          "yref": "paper"
         },
         {
          "font": {
           "size": 16
          },
          "showarrow": false,
          "text": "Topic 4",
          "x": 0.0875,
          "xanchor": "center",
          "xref": "paper",
          "y": 0.9057851239669421,
          "yanchor": "bottom",
          "yref": "paper"
         },
         {
          "font": {
           "size": 16
          },
          "showarrow": false,
          "text": "Topic 5",
          "x": 0.36250000000000004,
          "xanchor": "center",
          "xref": "paper",
          "y": 0.9057851239669421,
          "yanchor": "bottom",
          "yref": "paper"
         },
         {
          "font": {
           "size": 16
          },
          "showarrow": false,
          "text": "Topic 6",
          "x": 0.6375000000000001,
          "xanchor": "center",
          "xref": "paper",
          "y": 0.9057851239669421,
          "yanchor": "bottom",
          "yref": "paper"
         },
         {
          "font": {
           "size": 16
          },
          "showarrow": false,
          "text": "Topic 7",
          "x": 0.9125,
          "xanchor": "center",
          "xref": "paper",
          "y": 0.9057851239669421,
          "yanchor": "bottom",
          "yref": "paper"
         },
         {
          "font": {
           "size": 16
          },
          "showarrow": false,
          "text": "Topic 8",
          "x": 0.0875,
          "xanchor": "center",
          "xref": "paper",
          "y": 0.8115702479338842,
          "yanchor": "bottom",
          "yref": "paper"
         },
         {
          "font": {
           "size": 16
          },
          "showarrow": false,
          "text": "Topic 9",
          "x": 0.36250000000000004,
          "xanchor": "center",
          "xref": "paper",
          "y": 0.8115702479338842,
          "yanchor": "bottom",
          "yref": "paper"
         },
         {
          "font": {
           "size": 16
          },
          "showarrow": false,
          "text": "Topic 10",
          "x": 0.6375000000000001,
          "xanchor": "center",
          "xref": "paper",
          "y": 0.8115702479338842,
          "yanchor": "bottom",
          "yref": "paper"
         },
         {
          "font": {
           "size": 16
          },
          "showarrow": false,
          "text": "Topic 11",
          "x": 0.9125,
          "xanchor": "center",
          "xref": "paper",
          "y": 0.8115702479338842,
          "yanchor": "bottom",
          "yref": "paper"
         },
         {
          "font": {
           "size": 16
          },
          "showarrow": false,
          "text": "Topic 12",
          "x": 0.0875,
          "xanchor": "center",
          "xref": "paper",
          "y": 0.7173553719008263,
          "yanchor": "bottom",
          "yref": "paper"
         },
         {
          "font": {
           "size": 16
          },
          "showarrow": false,
          "text": "Topic 13",
          "x": 0.36250000000000004,
          "xanchor": "center",
          "xref": "paper",
          "y": 0.7173553719008263,
          "yanchor": "bottom",
          "yref": "paper"
         },
         {
          "font": {
           "size": 16
          },
          "showarrow": false,
          "text": "Topic 14",
          "x": 0.6375000000000001,
          "xanchor": "center",
          "xref": "paper",
          "y": 0.7173553719008263,
          "yanchor": "bottom",
          "yref": "paper"
         },
         {
          "font": {
           "size": 16
          },
          "showarrow": false,
          "text": "Topic 15",
          "x": 0.9125,
          "xanchor": "center",
          "xref": "paper",
          "y": 0.7173553719008263,
          "yanchor": "bottom",
          "yref": "paper"
         },
         {
          "font": {
           "size": 16
          },
          "showarrow": false,
          "text": "Topic 16",
          "x": 0.0875,
          "xanchor": "center",
          "xref": "paper",
          "y": 0.6231404958677685,
          "yanchor": "bottom",
          "yref": "paper"
         },
         {
          "font": {
           "size": 16
          },
          "showarrow": false,
          "text": "Topic 17",
          "x": 0.36250000000000004,
          "xanchor": "center",
          "xref": "paper",
          "y": 0.6231404958677685,
          "yanchor": "bottom",
          "yref": "paper"
         },
         {
          "font": {
           "size": 16
          },
          "showarrow": false,
          "text": "Topic 18",
          "x": 0.6375000000000001,
          "xanchor": "center",
          "xref": "paper",
          "y": 0.6231404958677685,
          "yanchor": "bottom",
          "yref": "paper"
         },
         {
          "font": {
           "size": 16
          },
          "showarrow": false,
          "text": "Topic 19",
          "x": 0.9125,
          "xanchor": "center",
          "xref": "paper",
          "y": 0.6231404958677685,
          "yanchor": "bottom",
          "yref": "paper"
         },
         {
          "font": {
           "size": 16
          },
          "showarrow": false,
          "text": "Topic 20",
          "x": 0.0875,
          "xanchor": "center",
          "xref": "paper",
          "y": 0.5289256198347108,
          "yanchor": "bottom",
          "yref": "paper"
         },
         {
          "font": {
           "size": 16
          },
          "showarrow": false,
          "text": "Topic 21",
          "x": 0.36250000000000004,
          "xanchor": "center",
          "xref": "paper",
          "y": 0.5289256198347108,
          "yanchor": "bottom",
          "yref": "paper"
         },
         {
          "font": {
           "size": 16
          },
          "showarrow": false,
          "text": "Topic 22",
          "x": 0.6375000000000001,
          "xanchor": "center",
          "xref": "paper",
          "y": 0.5289256198347108,
          "yanchor": "bottom",
          "yref": "paper"
         },
         {
          "font": {
           "size": 16
          },
          "showarrow": false,
          "text": "Topic 23",
          "x": 0.9125,
          "xanchor": "center",
          "xref": "paper",
          "y": 0.5289256198347108,
          "yanchor": "bottom",
          "yref": "paper"
         },
         {
          "font": {
           "size": 16
          },
          "showarrow": false,
          "text": "Topic 24",
          "x": 0.0875,
          "xanchor": "center",
          "xref": "paper",
          "y": 0.4347107438016528,
          "yanchor": "bottom",
          "yref": "paper"
         },
         {
          "font": {
           "size": 16
          },
          "showarrow": false,
          "text": "Topic 25",
          "x": 0.36250000000000004,
          "xanchor": "center",
          "xref": "paper",
          "y": 0.4347107438016528,
          "yanchor": "bottom",
          "yref": "paper"
         },
         {
          "font": {
           "size": 16
          },
          "showarrow": false,
          "text": "Topic 26",
          "x": 0.6375000000000001,
          "xanchor": "center",
          "xref": "paper",
          "y": 0.4347107438016528,
          "yanchor": "bottom",
          "yref": "paper"
         },
         {
          "font": {
           "size": 16
          },
          "showarrow": false,
          "text": "Topic 27",
          "x": 0.9125,
          "xanchor": "center",
          "xref": "paper",
          "y": 0.4347107438016528,
          "yanchor": "bottom",
          "yref": "paper"
         },
         {
          "font": {
           "size": 16
          },
          "showarrow": false,
          "text": "Topic 28",
          "x": 0.0875,
          "xanchor": "center",
          "xref": "paper",
          "y": 0.34049586776859503,
          "yanchor": "bottom",
          "yref": "paper"
         },
         {
          "font": {
           "size": 16
          },
          "showarrow": false,
          "text": "Topic 29",
          "x": 0.36250000000000004,
          "xanchor": "center",
          "xref": "paper",
          "y": 0.34049586776859503,
          "yanchor": "bottom",
          "yref": "paper"
         },
         {
          "font": {
           "size": 16
          },
          "showarrow": false,
          "text": "Topic 30",
          "x": 0.6375000000000001,
          "xanchor": "center",
          "xref": "paper",
          "y": 0.34049586776859503,
          "yanchor": "bottom",
          "yref": "paper"
         },
         {
          "font": {
           "size": 16
          },
          "showarrow": false,
          "text": "Topic 31",
          "x": 0.9125,
          "xanchor": "center",
          "xref": "paper",
          "y": 0.34049586776859503,
          "yanchor": "bottom",
          "yref": "paper"
         },
         {
          "font": {
           "size": 16
          },
          "showarrow": false,
          "text": "Topic 32",
          "x": 0.0875,
          "xanchor": "center",
          "xref": "paper",
          "y": 0.24628099173553714,
          "yanchor": "bottom",
          "yref": "paper"
         },
         {
          "font": {
           "size": 16
          },
          "showarrow": false,
          "text": "Topic 33",
          "x": 0.36250000000000004,
          "xanchor": "center",
          "xref": "paper",
          "y": 0.24628099173553714,
          "yanchor": "bottom",
          "yref": "paper"
         },
         {
          "font": {
           "size": 16
          },
          "showarrow": false,
          "text": "Topic 34",
          "x": 0.6375000000000001,
          "xanchor": "center",
          "xref": "paper",
          "y": 0.24628099173553714,
          "yanchor": "bottom",
          "yref": "paper"
         },
         {
          "font": {
           "size": 16
          },
          "showarrow": false,
          "text": "Topic 35",
          "x": 0.9125,
          "xanchor": "center",
          "xref": "paper",
          "y": 0.24628099173553714,
          "yanchor": "bottom",
          "yref": "paper"
         },
         {
          "font": {
           "size": 16
          },
          "showarrow": false,
          "text": "Topic 36",
          "x": 0.0875,
          "xanchor": "center",
          "xref": "paper",
          "y": 0.1520661157024793,
          "yanchor": "bottom",
          "yref": "paper"
         },
         {
          "font": {
           "size": 16
          },
          "showarrow": false,
          "text": "Topic 37",
          "x": 0.36250000000000004,
          "xanchor": "center",
          "xref": "paper",
          "y": 0.1520661157024793,
          "yanchor": "bottom",
          "yref": "paper"
         },
         {
          "font": {
           "size": 16
          },
          "showarrow": false,
          "text": "Topic 38",
          "x": 0.6375000000000001,
          "xanchor": "center",
          "xref": "paper",
          "y": 0.1520661157024793,
          "yanchor": "bottom",
          "yref": "paper"
         },
         {
          "font": {
           "size": 16
          },
          "showarrow": false,
          "text": "Topic 39",
          "x": 0.9125,
          "xanchor": "center",
          "xref": "paper",
          "y": 0.1520661157024793,
          "yanchor": "bottom",
          "yref": "paper"
         },
         {
          "font": {
           "size": 16
          },
          "showarrow": false,
          "text": "Topic 40",
          "x": 0.0875,
          "xanchor": "center",
          "xref": "paper",
          "y": 0.057851239669421475,
          "yanchor": "bottom",
          "yref": "paper"
         },
         {
          "font": {
           "size": 16
          },
          "showarrow": false,
          "text": "Topic 41",
          "x": 0.36250000000000004,
          "xanchor": "center",
          "xref": "paper",
          "y": 0.057851239669421475,
          "yanchor": "bottom",
          "yref": "paper"
         }
        ],
        "height": 2750,
        "hoverlabel": {
         "bgcolor": "white",
         "font": {
          "family": "Rockwell",
          "size": 16
         }
        },
        "showlegend": false,
        "template": {
         "data": {
          "bar": [
           {
            "error_x": {
             "color": "#2a3f5f"
            },
            "error_y": {
             "color": "#2a3f5f"
            },
            "marker": {
             "line": {
              "color": "white",
              "width": 0.5
             },
             "pattern": {
              "fillmode": "overlay",
              "size": 10,
              "solidity": 0.2
             }
            },
            "type": "bar"
           }
          ],
          "barpolar": [
           {
            "marker": {
             "line": {
              "color": "white",
              "width": 0.5
             },
             "pattern": {
              "fillmode": "overlay",
              "size": 10,
              "solidity": 0.2
             }
            },
            "type": "barpolar"
           }
          ],
          "carpet": [
           {
            "aaxis": {
             "endlinecolor": "#2a3f5f",
             "gridcolor": "#C8D4E3",
             "linecolor": "#C8D4E3",
             "minorgridcolor": "#C8D4E3",
             "startlinecolor": "#2a3f5f"
            },
            "baxis": {
             "endlinecolor": "#2a3f5f",
             "gridcolor": "#C8D4E3",
             "linecolor": "#C8D4E3",
             "minorgridcolor": "#C8D4E3",
             "startlinecolor": "#2a3f5f"
            },
            "type": "carpet"
           }
          ],
          "choropleth": [
           {
            "colorbar": {
             "outlinewidth": 0,
             "ticks": ""
            },
            "type": "choropleth"
           }
          ],
          "contour": [
           {
            "colorbar": {
             "outlinewidth": 0,
             "ticks": ""
            },
            "colorscale": [
             [
              0,
              "#0d0887"
             ],
             [
              0.1111111111111111,
              "#46039f"
             ],
             [
              0.2222222222222222,
              "#7201a8"
             ],
             [
              0.3333333333333333,
              "#9c179e"
             ],
             [
              0.4444444444444444,
              "#bd3786"
             ],
             [
              0.5555555555555556,
              "#d8576b"
             ],
             [
              0.6666666666666666,
              "#ed7953"
             ],
             [
              0.7777777777777778,
              "#fb9f3a"
             ],
             [
              0.8888888888888888,
              "#fdca26"
             ],
             [
              1,
              "#f0f921"
             ]
            ],
            "type": "contour"
           }
          ],
          "contourcarpet": [
           {
            "colorbar": {
             "outlinewidth": 0,
             "ticks": ""
            },
            "type": "contourcarpet"
           }
          ],
          "heatmap": [
           {
            "colorbar": {
             "outlinewidth": 0,
             "ticks": ""
            },
            "colorscale": [
             [
              0,
              "#0d0887"
             ],
             [
              0.1111111111111111,
              "#46039f"
             ],
             [
              0.2222222222222222,
              "#7201a8"
             ],
             [
              0.3333333333333333,
              "#9c179e"
             ],
             [
              0.4444444444444444,
              "#bd3786"
             ],
             [
              0.5555555555555556,
              "#d8576b"
             ],
             [
              0.6666666666666666,
              "#ed7953"
             ],
             [
              0.7777777777777778,
              "#fb9f3a"
             ],
             [
              0.8888888888888888,
              "#fdca26"
             ],
             [
              1,
              "#f0f921"
             ]
            ],
            "type": "heatmap"
           }
          ],
          "heatmapgl": [
           {
            "colorbar": {
             "outlinewidth": 0,
             "ticks": ""
            },
            "colorscale": [
             [
              0,
              "#0d0887"
             ],
             [
              0.1111111111111111,
              "#46039f"
             ],
             [
              0.2222222222222222,
              "#7201a8"
             ],
             [
              0.3333333333333333,
              "#9c179e"
             ],
             [
              0.4444444444444444,
              "#bd3786"
             ],
             [
              0.5555555555555556,
              "#d8576b"
             ],
             [
              0.6666666666666666,
              "#ed7953"
             ],
             [
              0.7777777777777778,
              "#fb9f3a"
             ],
             [
              0.8888888888888888,
              "#fdca26"
             ],
             [
              1,
              "#f0f921"
             ]
            ],
            "type": "heatmapgl"
           }
          ],
          "histogram": [
           {
            "marker": {
             "pattern": {
              "fillmode": "overlay",
              "size": 10,
              "solidity": 0.2
             }
            },
            "type": "histogram"
           }
          ],
          "histogram2d": [
           {
            "colorbar": {
             "outlinewidth": 0,
             "ticks": ""
            },
            "colorscale": [
             [
              0,
              "#0d0887"
             ],
             [
              0.1111111111111111,
              "#46039f"
             ],
             [
              0.2222222222222222,
              "#7201a8"
             ],
             [
              0.3333333333333333,
              "#9c179e"
             ],
             [
              0.4444444444444444,
              "#bd3786"
             ],
             [
              0.5555555555555556,
              "#d8576b"
             ],
             [
              0.6666666666666666,
              "#ed7953"
             ],
             [
              0.7777777777777778,
              "#fb9f3a"
             ],
             [
              0.8888888888888888,
              "#fdca26"
             ],
             [
              1,
              "#f0f921"
             ]
            ],
            "type": "histogram2d"
           }
          ],
          "histogram2dcontour": [
           {
            "colorbar": {
             "outlinewidth": 0,
             "ticks": ""
            },
            "colorscale": [
             [
              0,
              "#0d0887"
             ],
             [
              0.1111111111111111,
              "#46039f"
             ],
             [
              0.2222222222222222,
              "#7201a8"
             ],
             [
              0.3333333333333333,
              "#9c179e"
             ],
             [
              0.4444444444444444,
              "#bd3786"
             ],
             [
              0.5555555555555556,
              "#d8576b"
             ],
             [
              0.6666666666666666,
              "#ed7953"
             ],
             [
              0.7777777777777778,
              "#fb9f3a"
             ],
             [
              0.8888888888888888,
              "#fdca26"
             ],
             [
              1,
              "#f0f921"
             ]
            ],
            "type": "histogram2dcontour"
           }
          ],
          "mesh3d": [
           {
            "colorbar": {
             "outlinewidth": 0,
             "ticks": ""
            },
            "type": "mesh3d"
           }
          ],
          "parcoords": [
           {
            "line": {
             "colorbar": {
              "outlinewidth": 0,
              "ticks": ""
             }
            },
            "type": "parcoords"
           }
          ],
          "pie": [
           {
            "automargin": true,
            "type": "pie"
           }
          ],
          "scatter": [
           {
            "fillpattern": {
             "fillmode": "overlay",
             "size": 10,
             "solidity": 0.2
            },
            "type": "scatter"
           }
          ],
          "scatter3d": [
           {
            "line": {
             "colorbar": {
              "outlinewidth": 0,
              "ticks": ""
             }
            },
            "marker": {
             "colorbar": {
              "outlinewidth": 0,
              "ticks": ""
             }
            },
            "type": "scatter3d"
           }
          ],
          "scattercarpet": [
           {
            "marker": {
             "colorbar": {
              "outlinewidth": 0,
              "ticks": ""
             }
            },
            "type": "scattercarpet"
           }
          ],
          "scattergeo": [
           {
            "marker": {
             "colorbar": {
              "outlinewidth": 0,
              "ticks": ""
             }
            },
            "type": "scattergeo"
           }
          ],
          "scattergl": [
           {
            "marker": {
             "colorbar": {
              "outlinewidth": 0,
              "ticks": ""
             }
            },
            "type": "scattergl"
           }
          ],
          "scattermapbox": [
           {
            "marker": {
             "colorbar": {
              "outlinewidth": 0,
              "ticks": ""
             }
            },
            "type": "scattermapbox"
           }
          ],
          "scatterpolar": [
           {
            "marker": {
             "colorbar": {
              "outlinewidth": 0,
              "ticks": ""
             }
            },
            "type": "scatterpolar"
           }
          ],
          "scatterpolargl": [
           {
            "marker": {
             "colorbar": {
              "outlinewidth": 0,
              "ticks": ""
             }
            },
            "type": "scatterpolargl"
           }
          ],
          "scatterternary": [
           {
            "marker": {
             "colorbar": {
              "outlinewidth": 0,
              "ticks": ""
             }
            },
            "type": "scatterternary"
           }
          ],
          "surface": [
           {
            "colorbar": {
             "outlinewidth": 0,
             "ticks": ""
            },
            "colorscale": [
             [
              0,
              "#0d0887"
             ],
             [
              0.1111111111111111,
              "#46039f"
             ],
             [
              0.2222222222222222,
              "#7201a8"
             ],
             [
              0.3333333333333333,
              "#9c179e"
             ],
             [
              0.4444444444444444,
              "#bd3786"
             ],
             [
              0.5555555555555556,
              "#d8576b"
             ],
             [
              0.6666666666666666,
              "#ed7953"
             ],
             [
              0.7777777777777778,
              "#fb9f3a"
             ],
             [
              0.8888888888888888,
              "#fdca26"
             ],
             [
              1,
              "#f0f921"
             ]
            ],
            "type": "surface"
           }
          ],
          "table": [
           {
            "cells": {
             "fill": {
              "color": "#EBF0F8"
             },
             "line": {
              "color": "white"
             }
            },
            "header": {
             "fill": {
              "color": "#C8D4E3"
             },
             "line": {
              "color": "white"
             }
            },
            "type": "table"
           }
          ]
         },
         "layout": {
          "annotationdefaults": {
           "arrowcolor": "#2a3f5f",
           "arrowhead": 0,
           "arrowwidth": 1
          },
          "autotypenumbers": "strict",
          "coloraxis": {
           "colorbar": {
            "outlinewidth": 0,
            "ticks": ""
           }
          },
          "colorscale": {
           "diverging": [
            [
             0,
             "#8e0152"
            ],
            [
             0.1,
             "#c51b7d"
            ],
            [
             0.2,
             "#de77ae"
            ],
            [
             0.3,
             "#f1b6da"
            ],
            [
             0.4,
             "#fde0ef"
            ],
            [
             0.5,
             "#f7f7f7"
            ],
            [
             0.6,
             "#e6f5d0"
            ],
            [
             0.7,
             "#b8e186"
            ],
            [
             0.8,
             "#7fbc41"
            ],
            [
             0.9,
             "#4d9221"
            ],
            [
             1,
             "#276419"
            ]
           ],
           "sequential": [
            [
             0,
             "#0d0887"
            ],
            [
             0.1111111111111111,
             "#46039f"
            ],
            [
             0.2222222222222222,
             "#7201a8"
            ],
            [
             0.3333333333333333,
             "#9c179e"
            ],
            [
             0.4444444444444444,
             "#bd3786"
            ],
            [
             0.5555555555555556,
             "#d8576b"
            ],
            [
             0.6666666666666666,
             "#ed7953"
            ],
            [
             0.7777777777777778,
             "#fb9f3a"
            ],
            [
             0.8888888888888888,
             "#fdca26"
            ],
            [
             1,
             "#f0f921"
            ]
           ],
           "sequentialminus": [
            [
             0,
             "#0d0887"
            ],
            [
             0.1111111111111111,
             "#46039f"
            ],
            [
             0.2222222222222222,
             "#7201a8"
            ],
            [
             0.3333333333333333,
             "#9c179e"
            ],
            [
             0.4444444444444444,
             "#bd3786"
            ],
            [
             0.5555555555555556,
             "#d8576b"
            ],
            [
             0.6666666666666666,
             "#ed7953"
            ],
            [
             0.7777777777777778,
             "#fb9f3a"
            ],
            [
             0.8888888888888888,
             "#fdca26"
            ],
            [
             1,
             "#f0f921"
            ]
           ]
          },
          "colorway": [
           "#636efa",
           "#EF553B",
           "#00cc96",
           "#ab63fa",
           "#FFA15A",
           "#19d3f3",
           "#FF6692",
           "#B6E880",
           "#FF97FF",
           "#FECB52"
          ],
          "font": {
           "color": "#2a3f5f"
          },
          "geo": {
           "bgcolor": "white",
           "lakecolor": "white",
           "landcolor": "white",
           "showlakes": true,
           "showland": true,
           "subunitcolor": "#C8D4E3"
          },
          "hoverlabel": {
           "align": "left"
          },
          "hovermode": "closest",
          "mapbox": {
           "style": "light"
          },
          "paper_bgcolor": "white",
          "plot_bgcolor": "white",
          "polar": {
           "angularaxis": {
            "gridcolor": "#EBF0F8",
            "linecolor": "#EBF0F8",
            "ticks": ""
           },
           "bgcolor": "white",
           "radialaxis": {
            "gridcolor": "#EBF0F8",
            "linecolor": "#EBF0F8",
            "ticks": ""
           }
          },
          "scene": {
           "xaxis": {
            "backgroundcolor": "white",
            "gridcolor": "#DFE8F3",
            "gridwidth": 2,
            "linecolor": "#EBF0F8",
            "showbackground": true,
            "ticks": "",
            "zerolinecolor": "#EBF0F8"
           },
           "yaxis": {
            "backgroundcolor": "white",
            "gridcolor": "#DFE8F3",
            "gridwidth": 2,
            "linecolor": "#EBF0F8",
            "showbackground": true,
            "ticks": "",
            "zerolinecolor": "#EBF0F8"
           },
           "zaxis": {
            "backgroundcolor": "white",
            "gridcolor": "#DFE8F3",
            "gridwidth": 2,
            "linecolor": "#EBF0F8",
            "showbackground": true,
            "ticks": "",
            "zerolinecolor": "#EBF0F8"
           }
          },
          "shapedefaults": {
           "line": {
            "color": "#2a3f5f"
           }
          },
          "ternary": {
           "aaxis": {
            "gridcolor": "#DFE8F3",
            "linecolor": "#A2B1C6",
            "ticks": ""
           },
           "baxis": {
            "gridcolor": "#DFE8F3",
            "linecolor": "#A2B1C6",
            "ticks": ""
           },
           "bgcolor": "white",
           "caxis": {
            "gridcolor": "#DFE8F3",
            "linecolor": "#A2B1C6",
            "ticks": ""
           }
          },
          "title": {
           "x": 0.05
          },
          "xaxis": {
           "automargin": true,
           "gridcolor": "#EBF0F8",
           "linecolor": "#EBF0F8",
           "ticks": "",
           "title": {
            "standoff": 15
           },
           "zerolinecolor": "#EBF0F8",
           "zerolinewidth": 2
          },
          "yaxis": {
           "automargin": true,
           "gridcolor": "#EBF0F8",
           "linecolor": "#EBF0F8",
           "ticks": "",
           "title": {
            "standoff": 15
           },
           "zerolinecolor": "#EBF0F8",
           "zerolinewidth": 2
          }
         }
        },
        "title": {
         "font": {
          "color": "Black",
          "size": 22
         },
         "text": "<b>Topic Word Scores",
         "x": 0.5,
         "xanchor": "center",
         "yanchor": "top"
        },
        "width": 1000,
        "xaxis": {
         "anchor": "y",
         "domain": [
          0,
          0.175
         ],
         "showgrid": true
        },
        "xaxis10": {
         "anchor": "y10",
         "domain": [
          0.275,
          0.45
         ],
         "showgrid": true
        },
        "xaxis11": {
         "anchor": "y11",
         "domain": [
          0.55,
          0.7250000000000001
         ],
         "showgrid": true
        },
        "xaxis12": {
         "anchor": "y12",
         "domain": [
          0.825,
          1
         ],
         "showgrid": true
        },
        "xaxis13": {
         "anchor": "y13",
         "domain": [
          0,
          0.175
         ],
         "showgrid": true
        },
        "xaxis14": {
         "anchor": "y14",
         "domain": [
          0.275,
          0.45
         ],
         "showgrid": true
        },
        "xaxis15": {
         "anchor": "y15",
         "domain": [
          0.55,
          0.7250000000000001
         ],
         "showgrid": true
        },
        "xaxis16": {
         "anchor": "y16",
         "domain": [
          0.825,
          1
         ],
         "showgrid": true
        },
        "xaxis17": {
         "anchor": "y17",
         "domain": [
          0,
          0.175
         ],
         "showgrid": true
        },
        "xaxis18": {
         "anchor": "y18",
         "domain": [
          0.275,
          0.45
         ],
         "showgrid": true
        },
        "xaxis19": {
         "anchor": "y19",
         "domain": [
          0.55,
          0.7250000000000001
         ],
         "showgrid": true
        },
        "xaxis2": {
         "anchor": "y2",
         "domain": [
          0.275,
          0.45
         ],
         "showgrid": true
        },
        "xaxis20": {
         "anchor": "y20",
         "domain": [
          0.825,
          1
         ],
         "showgrid": true
        },
        "xaxis21": {
         "anchor": "y21",
         "domain": [
          0,
          0.175
         ],
         "showgrid": true
        },
        "xaxis22": {
         "anchor": "y22",
         "domain": [
          0.275,
          0.45
         ],
         "showgrid": true
        },
        "xaxis23": {
         "anchor": "y23",
         "domain": [
          0.55,
          0.7250000000000001
         ],
         "showgrid": true
        },
        "xaxis24": {
         "anchor": "y24",
         "domain": [
          0.825,
          1
         ],
         "showgrid": true
        },
        "xaxis25": {
         "anchor": "y25",
         "domain": [
          0,
          0.175
         ],
         "showgrid": true
        },
        "xaxis26": {
         "anchor": "y26",
         "domain": [
          0.275,
          0.45
         ],
         "showgrid": true
        },
        "xaxis27": {
         "anchor": "y27",
         "domain": [
          0.55,
          0.7250000000000001
         ],
         "showgrid": true
        },
        "xaxis28": {
         "anchor": "y28",
         "domain": [
          0.825,
          1
         ],
         "showgrid": true
        },
        "xaxis29": {
         "anchor": "y29",
         "domain": [
          0,
          0.175
         ],
         "showgrid": true
        },
        "xaxis3": {
         "anchor": "y3",
         "domain": [
          0.55,
          0.7250000000000001
         ],
         "showgrid": true
        },
        "xaxis30": {
         "anchor": "y30",
         "domain": [
          0.275,
          0.45
         ],
         "showgrid": true
        },
        "xaxis31": {
         "anchor": "y31",
         "domain": [
          0.55,
          0.7250000000000001
         ],
         "showgrid": true
        },
        "xaxis32": {
         "anchor": "y32",
         "domain": [
          0.825,
          1
         ],
         "showgrid": true
        },
        "xaxis33": {
         "anchor": "y33",
         "domain": [
          0,
          0.175
         ],
         "showgrid": true
        },
        "xaxis34": {
         "anchor": "y34",
         "domain": [
          0.275,
          0.45
         ],
         "showgrid": true
        },
        "xaxis35": {
         "anchor": "y35",
         "domain": [
          0.55,
          0.7250000000000001
         ],
         "showgrid": true
        },
        "xaxis36": {
         "anchor": "y36",
         "domain": [
          0.825,
          1
         ],
         "showgrid": true
        },
        "xaxis37": {
         "anchor": "y37",
         "domain": [
          0,
          0.175
         ],
         "showgrid": true
        },
        "xaxis38": {
         "anchor": "y38",
         "domain": [
          0.275,
          0.45
         ],
         "showgrid": true
        },
        "xaxis39": {
         "anchor": "y39",
         "domain": [
          0.55,
          0.7250000000000001
         ],
         "showgrid": true
        },
        "xaxis4": {
         "anchor": "y4",
         "domain": [
          0.825,
          1
         ],
         "showgrid": true
        },
        "xaxis40": {
         "anchor": "y40",
         "domain": [
          0.825,
          1
         ],
         "showgrid": true
        },
        "xaxis41": {
         "anchor": "y41",
         "domain": [
          0,
          0.175
         ],
         "showgrid": true
        },
        "xaxis42": {
         "anchor": "y42",
         "domain": [
          0.275,
          0.45
         ],
         "showgrid": true
        },
        "xaxis43": {
         "anchor": "y43",
         "domain": [
          0.55,
          0.7250000000000001
         ],
         "showgrid": true
        },
        "xaxis44": {
         "anchor": "y44",
         "domain": [
          0.825,
          1
         ],
         "showgrid": true
        },
        "xaxis5": {
         "anchor": "y5",
         "domain": [
          0,
          0.175
         ],
         "showgrid": true
        },
        "xaxis6": {
         "anchor": "y6",
         "domain": [
          0.275,
          0.45
         ],
         "showgrid": true
        },
        "xaxis7": {
         "anchor": "y7",
         "domain": [
          0.55,
          0.7250000000000001
         ],
         "showgrid": true
        },
        "xaxis8": {
         "anchor": "y8",
         "domain": [
          0.825,
          1
         ],
         "showgrid": true
        },
        "xaxis9": {
         "anchor": "y9",
         "domain": [
          0,
          0.175
         ],
         "showgrid": true
        },
        "yaxis": {
         "anchor": "x",
         "domain": [
          0.9421487603305785,
          1
         ],
         "showgrid": true
        },
        "yaxis10": {
         "anchor": "x10",
         "domain": [
          0.7537190082644627,
          0.8115702479338842
         ],
         "showgrid": true
        },
        "yaxis11": {
         "anchor": "x11",
         "domain": [
          0.7537190082644627,
          0.8115702479338842
         ],
         "showgrid": true
        },
        "yaxis12": {
         "anchor": "x12",
         "domain": [
          0.7537190082644627,
          0.8115702479338842
         ],
         "showgrid": true
        },
        "yaxis13": {
         "anchor": "x13",
         "domain": [
          0.6595041322314048,
          0.7173553719008263
         ],
         "showgrid": true
        },
        "yaxis14": {
         "anchor": "x14",
         "domain": [
          0.6595041322314048,
          0.7173553719008263
         ],
         "showgrid": true
        },
        "yaxis15": {
         "anchor": "x15",
         "domain": [
          0.6595041322314048,
          0.7173553719008263
         ],
         "showgrid": true
        },
        "yaxis16": {
         "anchor": "x16",
         "domain": [
          0.6595041322314048,
          0.7173553719008263
         ],
         "showgrid": true
        },
        "yaxis17": {
         "anchor": "x17",
         "domain": [
          0.565289256198347,
          0.6231404958677685
         ],
         "showgrid": true
        },
        "yaxis18": {
         "anchor": "x18",
         "domain": [
          0.565289256198347,
          0.6231404958677685
         ],
         "showgrid": true
        },
        "yaxis19": {
         "anchor": "x19",
         "domain": [
          0.565289256198347,
          0.6231404958677685
         ],
         "showgrid": true
        },
        "yaxis2": {
         "anchor": "x2",
         "domain": [
          0.9421487603305785,
          1
         ],
         "showgrid": true
        },
        "yaxis20": {
         "anchor": "x20",
         "domain": [
          0.565289256198347,
          0.6231404958677685
         ],
         "showgrid": true
        },
        "yaxis21": {
         "anchor": "x21",
         "domain": [
          0.47107438016528924,
          0.5289256198347108
         ],
         "showgrid": true
        },
        "yaxis22": {
         "anchor": "x22",
         "domain": [
          0.47107438016528924,
          0.5289256198347108
         ],
         "showgrid": true
        },
        "yaxis23": {
         "anchor": "x23",
         "domain": [
          0.47107438016528924,
          0.5289256198347108
         ],
         "showgrid": true
        },
        "yaxis24": {
         "anchor": "x24",
         "domain": [
          0.47107438016528924,
          0.5289256198347108
         ],
         "showgrid": true
        },
        "yaxis25": {
         "anchor": "x25",
         "domain": [
          0.37685950413223135,
          0.4347107438016528
         ],
         "showgrid": true
        },
        "yaxis26": {
         "anchor": "x26",
         "domain": [
          0.37685950413223135,
          0.4347107438016528
         ],
         "showgrid": true
        },
        "yaxis27": {
         "anchor": "x27",
         "domain": [
          0.37685950413223135,
          0.4347107438016528
         ],
         "showgrid": true
        },
        "yaxis28": {
         "anchor": "x28",
         "domain": [
          0.37685950413223135,
          0.4347107438016528
         ],
         "showgrid": true
        },
        "yaxis29": {
         "anchor": "x29",
         "domain": [
          0.28264462809917357,
          0.34049586776859503
         ],
         "showgrid": true
        },
        "yaxis3": {
         "anchor": "x3",
         "domain": [
          0.9421487603305785,
          1
         ],
         "showgrid": true
        },
        "yaxis30": {
         "anchor": "x30",
         "domain": [
          0.28264462809917357,
          0.34049586776859503
         ],
         "showgrid": true
        },
        "yaxis31": {
         "anchor": "x31",
         "domain": [
          0.28264462809917357,
          0.34049586776859503
         ],
         "showgrid": true
        },
        "yaxis32": {
         "anchor": "x32",
         "domain": [
          0.28264462809917357,
          0.34049586776859503
         ],
         "showgrid": true
        },
        "yaxis33": {
         "anchor": "x33",
         "domain": [
          0.18842975206611567,
          0.24628099173553714
         ],
         "showgrid": true
        },
        "yaxis34": {
         "anchor": "x34",
         "domain": [
          0.18842975206611567,
          0.24628099173553714
         ],
         "showgrid": true
        },
        "yaxis35": {
         "anchor": "x35",
         "domain": [
          0.18842975206611567,
          0.24628099173553714
         ],
         "showgrid": true
        },
        "yaxis36": {
         "anchor": "x36",
         "domain": [
          0.18842975206611567,
          0.24628099173553714
         ],
         "showgrid": true
        },
        "yaxis37": {
         "anchor": "x37",
         "domain": [
          0.09421487603305784,
          0.1520661157024793
         ],
         "showgrid": true
        },
        "yaxis38": {
         "anchor": "x38",
         "domain": [
          0.09421487603305784,
          0.1520661157024793
         ],
         "showgrid": true
        },
        "yaxis39": {
         "anchor": "x39",
         "domain": [
          0.09421487603305784,
          0.1520661157024793
         ],
         "showgrid": true
        },
        "yaxis4": {
         "anchor": "x4",
         "domain": [
          0.9421487603305785,
          1
         ],
         "showgrid": true
        },
        "yaxis40": {
         "anchor": "x40",
         "domain": [
          0.09421487603305784,
          0.1520661157024793
         ],
         "showgrid": true
        },
        "yaxis41": {
         "anchor": "x41",
         "domain": [
          0,
          0.057851239669421475
         ],
         "showgrid": true
        },
        "yaxis42": {
         "anchor": "x42",
         "domain": [
          0,
          0.057851239669421475
         ],
         "showgrid": true
        },
        "yaxis43": {
         "anchor": "x43",
         "domain": [
          0,
          0.057851239669421475
         ],
         "showgrid": true
        },
        "yaxis44": {
         "anchor": "x44",
         "domain": [
          0,
          0.057851239669421475
         ],
         "showgrid": true
        },
        "yaxis5": {
         "anchor": "x5",
         "domain": [
          0.8479338842975206,
          0.9057851239669421
         ],
         "showgrid": true
        },
        "yaxis6": {
         "anchor": "x6",
         "domain": [
          0.8479338842975206,
          0.9057851239669421
         ],
         "showgrid": true
        },
        "yaxis7": {
         "anchor": "x7",
         "domain": [
          0.8479338842975206,
          0.9057851239669421
         ],
         "showgrid": true
        },
        "yaxis8": {
         "anchor": "x8",
         "domain": [
          0.8479338842975206,
          0.9057851239669421
         ],
         "showgrid": true
        },
        "yaxis9": {
         "anchor": "x9",
         "domain": [
          0.7537190082644627,
          0.8115702479338842
         ],
         "showgrid": true
        }
       }
      },
      "text/html": [
       "<div>                            <div id=\"a2521d6c-2215-4139-b1eb-0e8acfd66171\" class=\"plotly-graph-div\" style=\"height:2750px; width:1000px;\"></div>            <script type=\"text/javascript\">                require([\"plotly\"], function(Plotly) {                    window.PLOTLYENV=window.PLOTLYENV || {};                                    if (document.getElementById(\"a2521d6c-2215-4139-b1eb-0e8acfd66171\")) {                    Plotly.newPlot(                        \"a2521d6c-2215-4139-b1eb-0e8acfd66171\",                        [{\"marker\":{\"color\":\"#D55E00\"},\"orientation\":\"h\",\"x\":[0.07317273736506064,0.0745058810821003,0.08393866022059748,0.09509836350731111,0.11160329571588962],\"y\":[\"car  \",\"vehicle  \",\"scooter  \",\"bicycle  \",\"bicyclist  \"],\"type\":\"bar\",\"xaxis\":\"x\",\"yaxis\":\"y\"},{\"marker\":{\"color\":\"#0072B2\"},\"orientation\":\"h\",\"x\":[0.09318265402366703,0.09437360787572309,0.10765143660202732,0.11927949926666913,0.1434963973825303],\"y\":[\"swimming_pool  \",\"manner  \",\"autopsy  \",\"death  \",\"drown  \"],\"type\":\"bar\",\"xaxis\":\"x2\",\"yaxis\":\"y2\"},{\"marker\":{\"color\":\"#CC79A7\"},\"orientation\":\"h\",\"x\":[0.056766071689115,0.08220008213595603,0.08981991187762198,0.10185490938345423,0.12411935914409791],\"y\":[\"decedent  \",\"head  \",\"stair  \",\"fall  \",\"ladder  \"],\"type\":\"bar\",\"xaxis\":\"x3\",\"yaxis\":\"y3\"},{\"marker\":{\"color\":\"#E69F00\"},\"orientation\":\"h\",\"x\":[0.03831588602099207,0.04651608140792409,0.052683583338088494,0.05346174865631592,0.062159996898183245],\"y\":[\"outlet  \",\"space_heater  \",\"fire  \",\"extension_cord  \",\"electrical  \"],\"type\":\"bar\",\"xaxis\":\"x4\",\"yaxis\":\"y4\"},{\"marker\":{\"color\":\"#56B4E9\"},\"orientation\":\"h\",\"x\":[0.046300207693900364,0.050887815498592205,0.07439642260828383,0.08036017797480682,0.11906041307918176],\"y\":[\"building  \",\"stove  \",\"fire  \",\"candle  \",\"apartment  \"],\"type\":\"bar\",\"xaxis\":\"x5\",\"yaxis\":\"y5\"},{\"marker\":{\"color\":\"#009E73\"},\"orientation\":\"h\",\"x\":[0.028036742382949557,0.030302700654397476,0.0340562177561759,0.04804033561968438,0.07768033148033363],\"y\":[\"child  \",\"laptop  \",\"mouth  \",\"battery  \",\"toy  \"],\"type\":\"bar\",\"xaxis\":\"x6\",\"yaxis\":\"y6\"},{\"marker\":{\"color\":\"#F0E442\"},\"orientation\":\"h\",\"x\":[0.06412809152957706,0.0650433024081301,0.08857499863354235,0.10002991727218022,0.10416818330253584],\"y\":[\"decedent  \",\"injury  \",\"autopsy  \",\"golf_cart  \",\"terrain_vehicle  \"],\"type\":\"bar\",\"xaxis\":\"x7\",\"yaxis\":\"y7\"},{\"marker\":{\"color\":\"#D55E00\"},\"orientation\":\"h\",\"x\":[0.035635244133762525,0.04663479788610197,0.051237862981184795,0.05787315023454868,0.06692325669103832],\"y\":[\"home  \",\"window  \",\"firefighter  \",\"house  \",\"fire  \"],\"type\":\"bar\",\"xaxis\":\"x8\",\"yaxis\":\"y8\"},{\"marker\":{\"color\":\"#0072B2\"},\"orientation\":\"h\",\"x\":[1e-05,0.0016029931954101527,0.003059526265446847,0.003489591625441188,3.3968904109598803],\"y\":[\"  \",\"fine  \",\"yet  \",\"apneic  \",\"nan  \"],\"type\":\"bar\",\"xaxis\":\"x9\",\"yaxis\":\"y9\"},{\"marker\":{\"color\":\"#CC79A7\"},\"orientation\":\"h\",\"x\":[0.06844527847508618,0.08310178874433212,0.08621031253474774,0.13088304564031156,0.1332022995112296],\"y\":[\"autopsy  \",\"decedent  \",\"floor  \",\"head  \",\"fall  \"],\"type\":\"bar\",\"xaxis\":\"x10\",\"yaxis\":\"y10\"},{\"marker\":{\"color\":\"#E69F00\"},\"orientation\":\"h\",\"x\":[0.09418178630961334,0.10113794141211674,0.10430086383356124,0.13467679081752845,0.13848529327103926],\"y\":[\"bed  \",\"adult  \",\"overlay  \",\"autopsy  \",\"sleep  \"],\"type\":\"bar\",\"xaxis\":\"x11\",\"yaxis\":\"y11\"},{\"marker\":{\"color\":\"#56B4E9\"},\"orientation\":\"h\",\"x\":[0.07422155617442858,0.07860922503588223,0.07962116955900811,0.08776004125275601,0.20455111617767902],\"y\":[\"pull  \",\"swimming_pool  \",\"drown  \",\"boy  \",\"pool  \"],\"type\":\"bar\",\"xaxis\":\"x12\",\"yaxis\":\"y12\"},{\"marker\":{\"color\":\"#009E73\"},\"orientation\":\"h\",\"x\":[0.06371619348589333,0.06861548196053546,0.10033224296704155,0.10890306757057419,0.13887825711468565],\"y\":[\"hospital  \",\"swimming_pool  \",\"pool  \",\"pronounce  \",\"pronounce_dead  \"],\"type\":\"bar\",\"xaxis\":\"x13\",\"yaxis\":\"y13\"},{\"marker\":{\"color\":\"#F0E442\"},\"orientation\":\"h\",\"x\":[0.0696087666678805,0.09027795921959429,0.09315946859573503,0.10002669678905976,0.1417756288215951],\"y\":[\"fan  \",\"hip  \",\"fall  \",\"floor  \",\"hip_fracture  \"],\"type\":\"bar\",\"xaxis\":\"x14\",\"yaxis\":\"y14\"},{\"marker\":{\"color\":\"#D55E00\"},\"orientation\":\"h\",\"x\":[0.0487715423775728,0.050076491257321165,0.05829502477548774,0.07053362604429916,0.12658609602379656],\"y\":[\"decedent  \",\"clothing  \",\"inhalation  \",\"burn  \",\"thermal  \"],\"type\":\"bar\",\"xaxis\":\"x15\",\"yaxis\":\"y15\"},{\"marker\":{\"color\":\"#0072B2\"},\"orientation\":\"h\",\"x\":[0.12524743159289423,0.15017724984830988,0.2168851064939031,0.2553696025045548,0.42461503006178486],\"y\":[\"decedent  \",\"pool  \",\"autopsy  \",\"hot_tub  \",\"drown  \"],\"type\":\"bar\",\"xaxis\":\"x16\",\"yaxis\":\"y16\"},{\"marker\":{\"color\":\"#CC79A7\"},\"orientation\":\"h\",\"x\":[0.06984234621271092,0.0765858379152963,0.08190673790434241,0.08584723803535829,0.142713149005667],\"y\":[\"oven  \",\"shatter  \",\"door  \",\"shower  \",\"glass  \"],\"type\":\"bar\",\"xaxis\":\"x17\",\"yaxis\":\"y17\"},{\"marker\":{\"color\":\"#E69F00\"},\"orientation\":\"h\",\"x\":[0.03427462901287,0.03452783371485336,0.061155054608125634,0.09121408372730479,0.09684052005644107],\"y\":[\"shade  \",\"swing  \",\"seat  \",\"stroller  \",\"chair  \"],\"type\":\"bar\",\"xaxis\":\"x18\",\"yaxis\":\"y18\"},{\"marker\":{\"color\":\"#56B4E9\"},\"orientation\":\"h\",\"x\":[0.05734380966942332,0.05743851414861444,0.06586944866591117,0.09107382798488722,0.09141311583924876],\"y\":[\"gas  \",\"turn  \",\"knob  \",\"grill  \",\"burner  \"],\"type\":\"bar\",\"xaxis\":\"x19\",\"yaxis\":\"y19\"},{\"marker\":{\"color\":\"#009E73\"},\"orientation\":\"h\",\"x\":[0.07000654852445387,0.07343797565930493,0.07830411849175169,0.08636456409733596,0.0910771928172274],\"y\":[\"mother  \",\"sleep  \",\"bed  \",\"blanket  \",\"unresponsive  \"],\"type\":\"bar\",\"xaxis\":\"x20\",\"yaxis\":\"y20\"},{\"marker\":{\"color\":\"#F0E442\"},\"orientation\":\"h\",\"x\":[0.02221956014608042,0.03858394290185813,0.039105684199564686,0.04980081288705989,0.1589350553658441],\"y\":[\"broiler  \",\"rack  \",\"toaster  \",\"turn  \",\"oven  \"],\"type\":\"bar\",\"xaxis\":\"x21\",\"yaxis\":\"y21\"},{\"marker\":{\"color\":\"#D55E00\"},\"orientation\":\"h\",\"x\":[0.05735104742793075,0.06416220457132714,0.06611823195198852,0.07028937702566256,0.10941637899110741],\"y\":[\"lose_control  \",\"roll  \",\"drive  \",\"crash  \",\"atv  \"],\"type\":\"bar\",\"xaxis\":\"x22\",\"yaxis\":\"y22\"},{\"marker\":{\"color\":\"#0072B2\"},\"orientation\":\"h\",\"x\":[0.03405550967395689,0.0343637371266678,0.034721319633484654,0.04222038277758232,0.2754959619598151],\"y\":[\"unplug  \",\"oven  \",\"turn  \",\"door  \",\"microwave  \"],\"type\":\"bar\",\"xaxis\":\"x23\",\"yaxis\":\"y23\"},{\"marker\":{\"color\":\"#CC79A7\"},\"orientation\":\"h\",\"x\":[0.04676241657252173,0.058041183419303505,0.06616491025635737,0.11179516541030339,0.19586016661300476],\"y\":[\"inhale  \",\"decedent  \",\"inhalation  \",\"autopsy  \",\"difluoroethane  \"],\"type\":\"bar\",\"xaxis\":\"x24\",\"yaxis\":\"y24\"},{\"marker\":{\"color\":\"#E69F00\"},\"orientation\":\"h\",\"x\":[0.0385988807093261,0.039805418690688196,0.04059552510170543,0.04103525393086206,0.26208091640274844],\"y\":[\"cycle  \",\"door  \",\"smoke  \",\"melt  \",\"dishwasher  \"],\"type\":\"bar\",\"xaxis\":\"x25\",\"yaxis\":\"y25\"},{\"marker\":{\"color\":\"#56B4E9\"},\"orientation\":\"h\",\"x\":[0.053095586402053675,0.057578796067067554,0.05976342198773915,0.08862443648652642,0.20405562338119543],\"y\":[\"house  \",\"fireplace  \",\"home  \",\"fire  \",\"chimney  \"],\"type\":\"bar\",\"xaxis\":\"x26\",\"yaxis\":\"y26\"},{\"marker\":{\"color\":\"#009E73\"},\"orientation\":\"h\",\"x\":[0.04578002761425947,0.06693572084272163,0.07614045806612071,0.09459929140308265,0.20187080856073727],\"y\":[\"base  \",\"fixture  \",\"light  \",\"lamp  \",\"bulb  \"],\"type\":\"bar\",\"xaxis\":\"x27\",\"yaxis\":\"y27\"},{\"marker\":{\"color\":\"#F0E442\"},\"orientation\":\"h\",\"x\":[0.05073745069068468,0.05165142668946361,0.05355263943399771,0.05592262295523314,0.08531466957914519],\"y\":[\"tank  \",\"gas  \",\"fuel  \",\"lawn_mower  \",\"mower  \"],\"type\":\"bar\",\"xaxis\":\"x28\",\"yaxis\":\"y28\"},{\"marker\":{\"color\":\"#D55E00\"},\"orientation\":\"h\",\"x\":[0.05688723755600072,0.06211642352236204,0.0655962556915461,0.0867713536211518,0.17635319978651356],\"y\":[\"generator  \",\"leak  \",\"level  \",\"furnace  \",\"carbon_monoxide  \"],\"type\":\"bar\",\"xaxis\":\"x29\",\"yaxis\":\"y29\"},{\"marker\":{\"color\":\"#0072B2\"},\"orientation\":\"h\",\"x\":[0.04335215507892473,0.049636717109584554,0.06307961113809965,0.06355585031989323,0.191860139791934],\"y\":[\"ice_maker  \",\"ice  \",\"fridge  \",\"freezer  \",\"refrigerator  \"],\"type\":\"bar\",\"xaxis\":\"x30\",\"yaxis\":\"y30\"},{\"marker\":{\"color\":\"#CC79A7\"},\"orientation\":\"h\",\"x\":[0.057243570955672535,0.08371550308621982,0.08457487169897361,0.1020399836880455,0.15366092840449092],\"y\":[\"cable  \",\"charger  \",\"charge  \",\"device  \",\"phone  \"],\"type\":\"bar\",\"xaxis\":\"x31\",\"yaxis\":\"y31\"},{\"marker\":{\"color\":\"#E69F00\"},\"orientation\":\"h\",\"x\":[0.05128325138724304,0.08483336408543256,0.09555814594406858,0.09980897050791154,0.38867311512615904],\"y\":[\"accident  \",\"crash  \",\"trail  \",\"tree  \",\"snowmobile  \"],\"type\":\"bar\",\"xaxis\":\"x32\",\"yaxis\":\"y32\"},{\"marker\":{\"color\":\"#56B4E9\"},\"orientation\":\"h\",\"x\":[0.0333481958559899,0.03708200519613836,0.05267668884946352,0.07539929242703645,0.3060076214000372],\"y\":[\"injury  \",\"injure  \",\"explode  \",\"hand  \",\"firework  \"],\"type\":\"bar\",\"xaxis\":\"x33\",\"yaxis\":\"y33\"},{\"marker\":{\"color\":\"#009E73\"},\"orientation\":\"h\",\"x\":[0.05597185277203547,0.05744426708486421,0.06238561804763624,0.07833549303872345,0.14470380332486607],\"y\":[\"skier  \",\"die  \",\"hospital  \",\"ski  \",\"pronounce_dead  \"],\"type\":\"bar\",\"xaxis\":\"x34\",\"yaxis\":\"y34\"},{\"marker\":{\"color\":\"#F0E442\"},\"orientation\":\"h\",\"x\":[0.10344036795316937,0.11408572060147903,0.1275789204373819,0.21518317777828558,0.3570398164951736],\"y\":[\"drowning  \",\"seizure  \",\"autopsy  \",\"drown  \",\"bathtub  \"],\"type\":\"bar\",\"xaxis\":\"x35\",\"yaxis\":\"y35\"},{\"marker\":{\"color\":\"#D55E00\"},\"orientation\":\"h\",\"x\":[0.08185907581923489,0.08555993954080125,0.09144088369006165,0.10138110413028262,0.10659930743326698],\"y\":[\"hospice  \",\"floor  \",\"fall  \",\"hip  \",\"hip_fracture  \"],\"type\":\"bar\",\"xaxis\":\"x36\",\"yaxis\":\"y36\"},{\"marker\":{\"color\":\"#0072B2\"},\"orientation\":\"h\",\"x\":[0.045213675129975796,0.05293885409900991,0.05460351401189231,0.07128069619410898,0.16070958266215388],\"y\":[\"thumb  \",\"cut  \",\"food_processor  \",\"blender  \",\"blade  \"],\"type\":\"bar\",\"xaxis\":\"x37\",\"yaxis\":\"y37\"},{\"marker\":{\"color\":\"#CC79A7\"},\"orientation\":\"h\",\"x\":[0.07005654953332371,0.07036585080335492,0.070645760502075,0.07363760444435564,0.2114652888209043],\"y\":[\"ride  \",\"decedent  \",\"autopsy  \",\"head  \",\"bicycle  \"],\"type\":\"bar\",\"xaxis\":\"x38\",\"yaxis\":\"y38\"},{\"marker\":{\"color\":\"#E69F00\"},\"orientation\":\"h\",\"x\":[0.07204143736650735,0.07639313622473762,0.11773762923954738,0.15459742497782608,0.18325167254534755],\"y\":[\"run  \",\"inhale  \",\"autopsy  \",\"carbon_monoxide  \",\"garage  \"],\"type\":\"bar\",\"xaxis\":\"x39\",\"yaxis\":\"y39\"},{\"marker\":{\"color\":\"#56B4E9\"},\"orientation\":\"h\",\"x\":[0.07394769673158519,0.07434815129409672,0.09589992373983006,0.10927658994505643,0.19355534247291148],\"y\":[\"patient  \",\"die  \",\"autopsy  \",\"unknown  \",\"generator  \"],\"type\":\"bar\",\"xaxis\":\"x40\",\"yaxis\":\"y40\"},{\"marker\":{\"color\":\"#009E73\"},\"orientation\":\"h\",\"x\":[0.09890973543956426,0.10034714459639743,0.19647196143447063,0.35824811030714765,0.37753931404042956],\"y\":[\"decedent  \",\"hotel  \",\"autopsy  \",\"swimming_pool  \",\"drown  \"],\"type\":\"bar\",\"xaxis\":\"x41\",\"yaxis\":\"y41\"},{\"marker\":{\"color\":\"#F0E442\"},\"orientation\":\"h\",\"x\":[0.038758960094356996,0.04748133062243772,0.08383175198907666,0.09604664802632819,0.17845993362725265],\"y\":[\"load  \",\"spin_cycle  \",\"washing_machine  \",\"machine  \",\"washer  \"],\"type\":\"bar\",\"xaxis\":\"x42\",\"yaxis\":\"y42\"}],                        {\"template\":{\"data\":{\"barpolar\":[{\"marker\":{\"line\":{\"color\":\"white\",\"width\":0.5},\"pattern\":{\"fillmode\":\"overlay\",\"size\":10,\"solidity\":0.2}},\"type\":\"barpolar\"}],\"bar\":[{\"error_x\":{\"color\":\"#2a3f5f\"},\"error_y\":{\"color\":\"#2a3f5f\"},\"marker\":{\"line\":{\"color\":\"white\",\"width\":0.5},\"pattern\":{\"fillmode\":\"overlay\",\"size\":10,\"solidity\":0.2}},\"type\":\"bar\"}],\"carpet\":[{\"aaxis\":{\"endlinecolor\":\"#2a3f5f\",\"gridcolor\":\"#C8D4E3\",\"linecolor\":\"#C8D4E3\",\"minorgridcolor\":\"#C8D4E3\",\"startlinecolor\":\"#2a3f5f\"},\"baxis\":{\"endlinecolor\":\"#2a3f5f\",\"gridcolor\":\"#C8D4E3\",\"linecolor\":\"#C8D4E3\",\"minorgridcolor\":\"#C8D4E3\",\"startlinecolor\":\"#2a3f5f\"},\"type\":\"carpet\"}],\"choropleth\":[{\"colorbar\":{\"outlinewidth\":0,\"ticks\":\"\"},\"type\":\"choropleth\"}],\"contourcarpet\":[{\"colorbar\":{\"outlinewidth\":0,\"ticks\":\"\"},\"type\":\"contourcarpet\"}],\"contour\":[{\"colorbar\":{\"outlinewidth\":0,\"ticks\":\"\"},\"colorscale\":[[0.0,\"#0d0887\"],[0.1111111111111111,\"#46039f\"],[0.2222222222222222,\"#7201a8\"],[0.3333333333333333,\"#9c179e\"],[0.4444444444444444,\"#bd3786\"],[0.5555555555555556,\"#d8576b\"],[0.6666666666666666,\"#ed7953\"],[0.7777777777777778,\"#fb9f3a\"],[0.8888888888888888,\"#fdca26\"],[1.0,\"#f0f921\"]],\"type\":\"contour\"}],\"heatmapgl\":[{\"colorbar\":{\"outlinewidth\":0,\"ticks\":\"\"},\"colorscale\":[[0.0,\"#0d0887\"],[0.1111111111111111,\"#46039f\"],[0.2222222222222222,\"#7201a8\"],[0.3333333333333333,\"#9c179e\"],[0.4444444444444444,\"#bd3786\"],[0.5555555555555556,\"#d8576b\"],[0.6666666666666666,\"#ed7953\"],[0.7777777777777778,\"#fb9f3a\"],[0.8888888888888888,\"#fdca26\"],[1.0,\"#f0f921\"]],\"type\":\"heatmapgl\"}],\"heatmap\":[{\"colorbar\":{\"outlinewidth\":0,\"ticks\":\"\"},\"colorscale\":[[0.0,\"#0d0887\"],[0.1111111111111111,\"#46039f\"],[0.2222222222222222,\"#7201a8\"],[0.3333333333333333,\"#9c179e\"],[0.4444444444444444,\"#bd3786\"],[0.5555555555555556,\"#d8576b\"],[0.6666666666666666,\"#ed7953\"],[0.7777777777777778,\"#fb9f3a\"],[0.8888888888888888,\"#fdca26\"],[1.0,\"#f0f921\"]],\"type\":\"heatmap\"}],\"histogram2dcontour\":[{\"colorbar\":{\"outlinewidth\":0,\"ticks\":\"\"},\"colorscale\":[[0.0,\"#0d0887\"],[0.1111111111111111,\"#46039f\"],[0.2222222222222222,\"#7201a8\"],[0.3333333333333333,\"#9c179e\"],[0.4444444444444444,\"#bd3786\"],[0.5555555555555556,\"#d8576b\"],[0.6666666666666666,\"#ed7953\"],[0.7777777777777778,\"#fb9f3a\"],[0.8888888888888888,\"#fdca26\"],[1.0,\"#f0f921\"]],\"type\":\"histogram2dcontour\"}],\"histogram2d\":[{\"colorbar\":{\"outlinewidth\":0,\"ticks\":\"\"},\"colorscale\":[[0.0,\"#0d0887\"],[0.1111111111111111,\"#46039f\"],[0.2222222222222222,\"#7201a8\"],[0.3333333333333333,\"#9c179e\"],[0.4444444444444444,\"#bd3786\"],[0.5555555555555556,\"#d8576b\"],[0.6666666666666666,\"#ed7953\"],[0.7777777777777778,\"#fb9f3a\"],[0.8888888888888888,\"#fdca26\"],[1.0,\"#f0f921\"]],\"type\":\"histogram2d\"}],\"histogram\":[{\"marker\":{\"pattern\":{\"fillmode\":\"overlay\",\"size\":10,\"solidity\":0.2}},\"type\":\"histogram\"}],\"mesh3d\":[{\"colorbar\":{\"outlinewidth\":0,\"ticks\":\"\"},\"type\":\"mesh3d\"}],\"parcoords\":[{\"line\":{\"colorbar\":{\"outlinewidth\":0,\"ticks\":\"\"}},\"type\":\"parcoords\"}],\"pie\":[{\"automargin\":true,\"type\":\"pie\"}],\"scatter3d\":[{\"line\":{\"colorbar\":{\"outlinewidth\":0,\"ticks\":\"\"}},\"marker\":{\"colorbar\":{\"outlinewidth\":0,\"ticks\":\"\"}},\"type\":\"scatter3d\"}],\"scattercarpet\":[{\"marker\":{\"colorbar\":{\"outlinewidth\":0,\"ticks\":\"\"}},\"type\":\"scattercarpet\"}],\"scattergeo\":[{\"marker\":{\"colorbar\":{\"outlinewidth\":0,\"ticks\":\"\"}},\"type\":\"scattergeo\"}],\"scattergl\":[{\"marker\":{\"colorbar\":{\"outlinewidth\":0,\"ticks\":\"\"}},\"type\":\"scattergl\"}],\"scattermapbox\":[{\"marker\":{\"colorbar\":{\"outlinewidth\":0,\"ticks\":\"\"}},\"type\":\"scattermapbox\"}],\"scatterpolargl\":[{\"marker\":{\"colorbar\":{\"outlinewidth\":0,\"ticks\":\"\"}},\"type\":\"scatterpolargl\"}],\"scatterpolar\":[{\"marker\":{\"colorbar\":{\"outlinewidth\":0,\"ticks\":\"\"}},\"type\":\"scatterpolar\"}],\"scatter\":[{\"fillpattern\":{\"fillmode\":\"overlay\",\"size\":10,\"solidity\":0.2},\"type\":\"scatter\"}],\"scatterternary\":[{\"marker\":{\"colorbar\":{\"outlinewidth\":0,\"ticks\":\"\"}},\"type\":\"scatterternary\"}],\"surface\":[{\"colorbar\":{\"outlinewidth\":0,\"ticks\":\"\"},\"colorscale\":[[0.0,\"#0d0887\"],[0.1111111111111111,\"#46039f\"],[0.2222222222222222,\"#7201a8\"],[0.3333333333333333,\"#9c179e\"],[0.4444444444444444,\"#bd3786\"],[0.5555555555555556,\"#d8576b\"],[0.6666666666666666,\"#ed7953\"],[0.7777777777777778,\"#fb9f3a\"],[0.8888888888888888,\"#fdca26\"],[1.0,\"#f0f921\"]],\"type\":\"surface\"}],\"table\":[{\"cells\":{\"fill\":{\"color\":\"#EBF0F8\"},\"line\":{\"color\":\"white\"}},\"header\":{\"fill\":{\"color\":\"#C8D4E3\"},\"line\":{\"color\":\"white\"}},\"type\":\"table\"}]},\"layout\":{\"annotationdefaults\":{\"arrowcolor\":\"#2a3f5f\",\"arrowhead\":0,\"arrowwidth\":1},\"autotypenumbers\":\"strict\",\"coloraxis\":{\"colorbar\":{\"outlinewidth\":0,\"ticks\":\"\"}},\"colorscale\":{\"diverging\":[[0,\"#8e0152\"],[0.1,\"#c51b7d\"],[0.2,\"#de77ae\"],[0.3,\"#f1b6da\"],[0.4,\"#fde0ef\"],[0.5,\"#f7f7f7\"],[0.6,\"#e6f5d0\"],[0.7,\"#b8e186\"],[0.8,\"#7fbc41\"],[0.9,\"#4d9221\"],[1,\"#276419\"]],\"sequential\":[[0.0,\"#0d0887\"],[0.1111111111111111,\"#46039f\"],[0.2222222222222222,\"#7201a8\"],[0.3333333333333333,\"#9c179e\"],[0.4444444444444444,\"#bd3786\"],[0.5555555555555556,\"#d8576b\"],[0.6666666666666666,\"#ed7953\"],[0.7777777777777778,\"#fb9f3a\"],[0.8888888888888888,\"#fdca26\"],[1.0,\"#f0f921\"]],\"sequentialminus\":[[0.0,\"#0d0887\"],[0.1111111111111111,\"#46039f\"],[0.2222222222222222,\"#7201a8\"],[0.3333333333333333,\"#9c179e\"],[0.4444444444444444,\"#bd3786\"],[0.5555555555555556,\"#d8576b\"],[0.6666666666666666,\"#ed7953\"],[0.7777777777777778,\"#fb9f3a\"],[0.8888888888888888,\"#fdca26\"],[1.0,\"#f0f921\"]]},\"colorway\":[\"#636efa\",\"#EF553B\",\"#00cc96\",\"#ab63fa\",\"#FFA15A\",\"#19d3f3\",\"#FF6692\",\"#B6E880\",\"#FF97FF\",\"#FECB52\"],\"font\":{\"color\":\"#2a3f5f\"},\"geo\":{\"bgcolor\":\"white\",\"lakecolor\":\"white\",\"landcolor\":\"white\",\"showlakes\":true,\"showland\":true,\"subunitcolor\":\"#C8D4E3\"},\"hoverlabel\":{\"align\":\"left\"},\"hovermode\":\"closest\",\"mapbox\":{\"style\":\"light\"},\"paper_bgcolor\":\"white\",\"plot_bgcolor\":\"white\",\"polar\":{\"angularaxis\":{\"gridcolor\":\"#EBF0F8\",\"linecolor\":\"#EBF0F8\",\"ticks\":\"\"},\"bgcolor\":\"white\",\"radialaxis\":{\"gridcolor\":\"#EBF0F8\",\"linecolor\":\"#EBF0F8\",\"ticks\":\"\"}},\"scene\":{\"xaxis\":{\"backgroundcolor\":\"white\",\"gridcolor\":\"#DFE8F3\",\"gridwidth\":2,\"linecolor\":\"#EBF0F8\",\"showbackground\":true,\"ticks\":\"\",\"zerolinecolor\":\"#EBF0F8\"},\"yaxis\":{\"backgroundcolor\":\"white\",\"gridcolor\":\"#DFE8F3\",\"gridwidth\":2,\"linecolor\":\"#EBF0F8\",\"showbackground\":true,\"ticks\":\"\",\"zerolinecolor\":\"#EBF0F8\"},\"zaxis\":{\"backgroundcolor\":\"white\",\"gridcolor\":\"#DFE8F3\",\"gridwidth\":2,\"linecolor\":\"#EBF0F8\",\"showbackground\":true,\"ticks\":\"\",\"zerolinecolor\":\"#EBF0F8\"}},\"shapedefaults\":{\"line\":{\"color\":\"#2a3f5f\"}},\"ternary\":{\"aaxis\":{\"gridcolor\":\"#DFE8F3\",\"linecolor\":\"#A2B1C6\",\"ticks\":\"\"},\"baxis\":{\"gridcolor\":\"#DFE8F3\",\"linecolor\":\"#A2B1C6\",\"ticks\":\"\"},\"bgcolor\":\"white\",\"caxis\":{\"gridcolor\":\"#DFE8F3\",\"linecolor\":\"#A2B1C6\",\"ticks\":\"\"}},\"title\":{\"x\":0.05},\"xaxis\":{\"automargin\":true,\"gridcolor\":\"#EBF0F8\",\"linecolor\":\"#EBF0F8\",\"ticks\":\"\",\"title\":{\"standoff\":15},\"zerolinecolor\":\"#EBF0F8\",\"zerolinewidth\":2},\"yaxis\":{\"automargin\":true,\"gridcolor\":\"#EBF0F8\",\"linecolor\":\"#EBF0F8\",\"ticks\":\"\",\"title\":{\"standoff\":15},\"zerolinecolor\":\"#EBF0F8\",\"zerolinewidth\":2}}},\"xaxis\":{\"anchor\":\"y\",\"domain\":[0.0,0.175],\"showgrid\":true},\"yaxis\":{\"anchor\":\"x\",\"domain\":[0.9421487603305785,1.0],\"showgrid\":true},\"xaxis2\":{\"anchor\":\"y2\",\"domain\":[0.275,0.45],\"showgrid\":true},\"yaxis2\":{\"anchor\":\"x2\",\"domain\":[0.9421487603305785,1.0],\"showgrid\":true},\"xaxis3\":{\"anchor\":\"y3\",\"domain\":[0.55,0.7250000000000001],\"showgrid\":true},\"yaxis3\":{\"anchor\":\"x3\",\"domain\":[0.9421487603305785,1.0],\"showgrid\":true},\"xaxis4\":{\"anchor\":\"y4\",\"domain\":[0.825,1.0],\"showgrid\":true},\"yaxis4\":{\"anchor\":\"x4\",\"domain\":[0.9421487603305785,1.0],\"showgrid\":true},\"xaxis5\":{\"anchor\":\"y5\",\"domain\":[0.0,0.175],\"showgrid\":true},\"yaxis5\":{\"anchor\":\"x5\",\"domain\":[0.8479338842975206,0.9057851239669421],\"showgrid\":true},\"xaxis6\":{\"anchor\":\"y6\",\"domain\":[0.275,0.45],\"showgrid\":true},\"yaxis6\":{\"anchor\":\"x6\",\"domain\":[0.8479338842975206,0.9057851239669421],\"showgrid\":true},\"xaxis7\":{\"anchor\":\"y7\",\"domain\":[0.55,0.7250000000000001],\"showgrid\":true},\"yaxis7\":{\"anchor\":\"x7\",\"domain\":[0.8479338842975206,0.9057851239669421],\"showgrid\":true},\"xaxis8\":{\"anchor\":\"y8\",\"domain\":[0.825,1.0],\"showgrid\":true},\"yaxis8\":{\"anchor\":\"x8\",\"domain\":[0.8479338842975206,0.9057851239669421],\"showgrid\":true},\"xaxis9\":{\"anchor\":\"y9\",\"domain\":[0.0,0.175],\"showgrid\":true},\"yaxis9\":{\"anchor\":\"x9\",\"domain\":[0.7537190082644627,0.8115702479338842],\"showgrid\":true},\"xaxis10\":{\"anchor\":\"y10\",\"domain\":[0.275,0.45],\"showgrid\":true},\"yaxis10\":{\"anchor\":\"x10\",\"domain\":[0.7537190082644627,0.8115702479338842],\"showgrid\":true},\"xaxis11\":{\"anchor\":\"y11\",\"domain\":[0.55,0.7250000000000001],\"showgrid\":true},\"yaxis11\":{\"anchor\":\"x11\",\"domain\":[0.7537190082644627,0.8115702479338842],\"showgrid\":true},\"xaxis12\":{\"anchor\":\"y12\",\"domain\":[0.825,1.0],\"showgrid\":true},\"yaxis12\":{\"anchor\":\"x12\",\"domain\":[0.7537190082644627,0.8115702479338842],\"showgrid\":true},\"xaxis13\":{\"anchor\":\"y13\",\"domain\":[0.0,0.175],\"showgrid\":true},\"yaxis13\":{\"anchor\":\"x13\",\"domain\":[0.6595041322314048,0.7173553719008263],\"showgrid\":true},\"xaxis14\":{\"anchor\":\"y14\",\"domain\":[0.275,0.45],\"showgrid\":true},\"yaxis14\":{\"anchor\":\"x14\",\"domain\":[0.6595041322314048,0.7173553719008263],\"showgrid\":true},\"xaxis15\":{\"anchor\":\"y15\",\"domain\":[0.55,0.7250000000000001],\"showgrid\":true},\"yaxis15\":{\"anchor\":\"x15\",\"domain\":[0.6595041322314048,0.7173553719008263],\"showgrid\":true},\"xaxis16\":{\"anchor\":\"y16\",\"domain\":[0.825,1.0],\"showgrid\":true},\"yaxis16\":{\"anchor\":\"x16\",\"domain\":[0.6595041322314048,0.7173553719008263],\"showgrid\":true},\"xaxis17\":{\"anchor\":\"y17\",\"domain\":[0.0,0.175],\"showgrid\":true},\"yaxis17\":{\"anchor\":\"x17\",\"domain\":[0.565289256198347,0.6231404958677685],\"showgrid\":true},\"xaxis18\":{\"anchor\":\"y18\",\"domain\":[0.275,0.45],\"showgrid\":true},\"yaxis18\":{\"anchor\":\"x18\",\"domain\":[0.565289256198347,0.6231404958677685],\"showgrid\":true},\"xaxis19\":{\"anchor\":\"y19\",\"domain\":[0.55,0.7250000000000001],\"showgrid\":true},\"yaxis19\":{\"anchor\":\"x19\",\"domain\":[0.565289256198347,0.6231404958677685],\"showgrid\":true},\"xaxis20\":{\"anchor\":\"y20\",\"domain\":[0.825,1.0],\"showgrid\":true},\"yaxis20\":{\"anchor\":\"x20\",\"domain\":[0.565289256198347,0.6231404958677685],\"showgrid\":true},\"xaxis21\":{\"anchor\":\"y21\",\"domain\":[0.0,0.175],\"showgrid\":true},\"yaxis21\":{\"anchor\":\"x21\",\"domain\":[0.47107438016528924,0.5289256198347108],\"showgrid\":true},\"xaxis22\":{\"anchor\":\"y22\",\"domain\":[0.275,0.45],\"showgrid\":true},\"yaxis22\":{\"anchor\":\"x22\",\"domain\":[0.47107438016528924,0.5289256198347108],\"showgrid\":true},\"xaxis23\":{\"anchor\":\"y23\",\"domain\":[0.55,0.7250000000000001],\"showgrid\":true},\"yaxis23\":{\"anchor\":\"x23\",\"domain\":[0.47107438016528924,0.5289256198347108],\"showgrid\":true},\"xaxis24\":{\"anchor\":\"y24\",\"domain\":[0.825,1.0],\"showgrid\":true},\"yaxis24\":{\"anchor\":\"x24\",\"domain\":[0.47107438016528924,0.5289256198347108],\"showgrid\":true},\"xaxis25\":{\"anchor\":\"y25\",\"domain\":[0.0,0.175],\"showgrid\":true},\"yaxis25\":{\"anchor\":\"x25\",\"domain\":[0.37685950413223135,0.4347107438016528],\"showgrid\":true},\"xaxis26\":{\"anchor\":\"y26\",\"domain\":[0.275,0.45],\"showgrid\":true},\"yaxis26\":{\"anchor\":\"x26\",\"domain\":[0.37685950413223135,0.4347107438016528],\"showgrid\":true},\"xaxis27\":{\"anchor\":\"y27\",\"domain\":[0.55,0.7250000000000001],\"showgrid\":true},\"yaxis27\":{\"anchor\":\"x27\",\"domain\":[0.37685950413223135,0.4347107438016528],\"showgrid\":true},\"xaxis28\":{\"anchor\":\"y28\",\"domain\":[0.825,1.0],\"showgrid\":true},\"yaxis28\":{\"anchor\":\"x28\",\"domain\":[0.37685950413223135,0.4347107438016528],\"showgrid\":true},\"xaxis29\":{\"anchor\":\"y29\",\"domain\":[0.0,0.175],\"showgrid\":true},\"yaxis29\":{\"anchor\":\"x29\",\"domain\":[0.28264462809917357,0.34049586776859503],\"showgrid\":true},\"xaxis30\":{\"anchor\":\"y30\",\"domain\":[0.275,0.45],\"showgrid\":true},\"yaxis30\":{\"anchor\":\"x30\",\"domain\":[0.28264462809917357,0.34049586776859503],\"showgrid\":true},\"xaxis31\":{\"anchor\":\"y31\",\"domain\":[0.55,0.7250000000000001],\"showgrid\":true},\"yaxis31\":{\"anchor\":\"x31\",\"domain\":[0.28264462809917357,0.34049586776859503],\"showgrid\":true},\"xaxis32\":{\"anchor\":\"y32\",\"domain\":[0.825,1.0],\"showgrid\":true},\"yaxis32\":{\"anchor\":\"x32\",\"domain\":[0.28264462809917357,0.34049586776859503],\"showgrid\":true},\"xaxis33\":{\"anchor\":\"y33\",\"domain\":[0.0,0.175],\"showgrid\":true},\"yaxis33\":{\"anchor\":\"x33\",\"domain\":[0.18842975206611567,0.24628099173553714],\"showgrid\":true},\"xaxis34\":{\"anchor\":\"y34\",\"domain\":[0.275,0.45],\"showgrid\":true},\"yaxis34\":{\"anchor\":\"x34\",\"domain\":[0.18842975206611567,0.24628099173553714],\"showgrid\":true},\"xaxis35\":{\"anchor\":\"y35\",\"domain\":[0.55,0.7250000000000001],\"showgrid\":true},\"yaxis35\":{\"anchor\":\"x35\",\"domain\":[0.18842975206611567,0.24628099173553714],\"showgrid\":true},\"xaxis36\":{\"anchor\":\"y36\",\"domain\":[0.825,1.0],\"showgrid\":true},\"yaxis36\":{\"anchor\":\"x36\",\"domain\":[0.18842975206611567,0.24628099173553714],\"showgrid\":true},\"xaxis37\":{\"anchor\":\"y37\",\"domain\":[0.0,0.175],\"showgrid\":true},\"yaxis37\":{\"anchor\":\"x37\",\"domain\":[0.09421487603305784,0.1520661157024793],\"showgrid\":true},\"xaxis38\":{\"anchor\":\"y38\",\"domain\":[0.275,0.45],\"showgrid\":true},\"yaxis38\":{\"anchor\":\"x38\",\"domain\":[0.09421487603305784,0.1520661157024793],\"showgrid\":true},\"xaxis39\":{\"anchor\":\"y39\",\"domain\":[0.55,0.7250000000000001],\"showgrid\":true},\"yaxis39\":{\"anchor\":\"x39\",\"domain\":[0.09421487603305784,0.1520661157024793],\"showgrid\":true},\"xaxis40\":{\"anchor\":\"y40\",\"domain\":[0.825,1.0],\"showgrid\":true},\"yaxis40\":{\"anchor\":\"x40\",\"domain\":[0.09421487603305784,0.1520661157024793],\"showgrid\":true},\"xaxis41\":{\"anchor\":\"y41\",\"domain\":[0.0,0.175],\"showgrid\":true},\"yaxis41\":{\"anchor\":\"x41\",\"domain\":[0.0,0.057851239669421475],\"showgrid\":true},\"xaxis42\":{\"anchor\":\"y42\",\"domain\":[0.275,0.45],\"showgrid\":true},\"yaxis42\":{\"anchor\":\"x42\",\"domain\":[0.0,0.057851239669421475],\"showgrid\":true},\"xaxis43\":{\"anchor\":\"y43\",\"domain\":[0.55,0.7250000000000001],\"showgrid\":true},\"yaxis43\":{\"anchor\":\"x43\",\"domain\":[0.0,0.057851239669421475],\"showgrid\":true},\"xaxis44\":{\"anchor\":\"y44\",\"domain\":[0.825,1.0],\"showgrid\":true},\"yaxis44\":{\"anchor\":\"x44\",\"domain\":[0.0,0.057851239669421475],\"showgrid\":true},\"annotations\":[{\"font\":{\"size\":16},\"showarrow\":false,\"text\":\"Topic 0\",\"x\":0.0875,\"xanchor\":\"center\",\"xref\":\"paper\",\"y\":1.0,\"yanchor\":\"bottom\",\"yref\":\"paper\"},{\"font\":{\"size\":16},\"showarrow\":false,\"text\":\"Topic 1\",\"x\":0.36250000000000004,\"xanchor\":\"center\",\"xref\":\"paper\",\"y\":1.0,\"yanchor\":\"bottom\",\"yref\":\"paper\"},{\"font\":{\"size\":16},\"showarrow\":false,\"text\":\"Topic 2\",\"x\":0.6375000000000001,\"xanchor\":\"center\",\"xref\":\"paper\",\"y\":1.0,\"yanchor\":\"bottom\",\"yref\":\"paper\"},{\"font\":{\"size\":16},\"showarrow\":false,\"text\":\"Topic 3\",\"x\":0.9125,\"xanchor\":\"center\",\"xref\":\"paper\",\"y\":1.0,\"yanchor\":\"bottom\",\"yref\":\"paper\"},{\"font\":{\"size\":16},\"showarrow\":false,\"text\":\"Topic 4\",\"x\":0.0875,\"xanchor\":\"center\",\"xref\":\"paper\",\"y\":0.9057851239669421,\"yanchor\":\"bottom\",\"yref\":\"paper\"},{\"font\":{\"size\":16},\"showarrow\":false,\"text\":\"Topic 5\",\"x\":0.36250000000000004,\"xanchor\":\"center\",\"xref\":\"paper\",\"y\":0.9057851239669421,\"yanchor\":\"bottom\",\"yref\":\"paper\"},{\"font\":{\"size\":16},\"showarrow\":false,\"text\":\"Topic 6\",\"x\":0.6375000000000001,\"xanchor\":\"center\",\"xref\":\"paper\",\"y\":0.9057851239669421,\"yanchor\":\"bottom\",\"yref\":\"paper\"},{\"font\":{\"size\":16},\"showarrow\":false,\"text\":\"Topic 7\",\"x\":0.9125,\"xanchor\":\"center\",\"xref\":\"paper\",\"y\":0.9057851239669421,\"yanchor\":\"bottom\",\"yref\":\"paper\"},{\"font\":{\"size\":16},\"showarrow\":false,\"text\":\"Topic 8\",\"x\":0.0875,\"xanchor\":\"center\",\"xref\":\"paper\",\"y\":0.8115702479338842,\"yanchor\":\"bottom\",\"yref\":\"paper\"},{\"font\":{\"size\":16},\"showarrow\":false,\"text\":\"Topic 9\",\"x\":0.36250000000000004,\"xanchor\":\"center\",\"xref\":\"paper\",\"y\":0.8115702479338842,\"yanchor\":\"bottom\",\"yref\":\"paper\"},{\"font\":{\"size\":16},\"showarrow\":false,\"text\":\"Topic 10\",\"x\":0.6375000000000001,\"xanchor\":\"center\",\"xref\":\"paper\",\"y\":0.8115702479338842,\"yanchor\":\"bottom\",\"yref\":\"paper\"},{\"font\":{\"size\":16},\"showarrow\":false,\"text\":\"Topic 11\",\"x\":0.9125,\"xanchor\":\"center\",\"xref\":\"paper\",\"y\":0.8115702479338842,\"yanchor\":\"bottom\",\"yref\":\"paper\"},{\"font\":{\"size\":16},\"showarrow\":false,\"text\":\"Topic 12\",\"x\":0.0875,\"xanchor\":\"center\",\"xref\":\"paper\",\"y\":0.7173553719008263,\"yanchor\":\"bottom\",\"yref\":\"paper\"},{\"font\":{\"size\":16},\"showarrow\":false,\"text\":\"Topic 13\",\"x\":0.36250000000000004,\"xanchor\":\"center\",\"xref\":\"paper\",\"y\":0.7173553719008263,\"yanchor\":\"bottom\",\"yref\":\"paper\"},{\"font\":{\"size\":16},\"showarrow\":false,\"text\":\"Topic 14\",\"x\":0.6375000000000001,\"xanchor\":\"center\",\"xref\":\"paper\",\"y\":0.7173553719008263,\"yanchor\":\"bottom\",\"yref\":\"paper\"},{\"font\":{\"size\":16},\"showarrow\":false,\"text\":\"Topic 15\",\"x\":0.9125,\"xanchor\":\"center\",\"xref\":\"paper\",\"y\":0.7173553719008263,\"yanchor\":\"bottom\",\"yref\":\"paper\"},{\"font\":{\"size\":16},\"showarrow\":false,\"text\":\"Topic 16\",\"x\":0.0875,\"xanchor\":\"center\",\"xref\":\"paper\",\"y\":0.6231404958677685,\"yanchor\":\"bottom\",\"yref\":\"paper\"},{\"font\":{\"size\":16},\"showarrow\":false,\"text\":\"Topic 17\",\"x\":0.36250000000000004,\"xanchor\":\"center\",\"xref\":\"paper\",\"y\":0.6231404958677685,\"yanchor\":\"bottom\",\"yref\":\"paper\"},{\"font\":{\"size\":16},\"showarrow\":false,\"text\":\"Topic 18\",\"x\":0.6375000000000001,\"xanchor\":\"center\",\"xref\":\"paper\",\"y\":0.6231404958677685,\"yanchor\":\"bottom\",\"yref\":\"paper\"},{\"font\":{\"size\":16},\"showarrow\":false,\"text\":\"Topic 19\",\"x\":0.9125,\"xanchor\":\"center\",\"xref\":\"paper\",\"y\":0.6231404958677685,\"yanchor\":\"bottom\",\"yref\":\"paper\"},{\"font\":{\"size\":16},\"showarrow\":false,\"text\":\"Topic 20\",\"x\":0.0875,\"xanchor\":\"center\",\"xref\":\"paper\",\"y\":0.5289256198347108,\"yanchor\":\"bottom\",\"yref\":\"paper\"},{\"font\":{\"size\":16},\"showarrow\":false,\"text\":\"Topic 21\",\"x\":0.36250000000000004,\"xanchor\":\"center\",\"xref\":\"paper\",\"y\":0.5289256198347108,\"yanchor\":\"bottom\",\"yref\":\"paper\"},{\"font\":{\"size\":16},\"showarrow\":false,\"text\":\"Topic 22\",\"x\":0.6375000000000001,\"xanchor\":\"center\",\"xref\":\"paper\",\"y\":0.5289256198347108,\"yanchor\":\"bottom\",\"yref\":\"paper\"},{\"font\":{\"size\":16},\"showarrow\":false,\"text\":\"Topic 23\",\"x\":0.9125,\"xanchor\":\"center\",\"xref\":\"paper\",\"y\":0.5289256198347108,\"yanchor\":\"bottom\",\"yref\":\"paper\"},{\"font\":{\"size\":16},\"showarrow\":false,\"text\":\"Topic 24\",\"x\":0.0875,\"xanchor\":\"center\",\"xref\":\"paper\",\"y\":0.4347107438016528,\"yanchor\":\"bottom\",\"yref\":\"paper\"},{\"font\":{\"size\":16},\"showarrow\":false,\"text\":\"Topic 25\",\"x\":0.36250000000000004,\"xanchor\":\"center\",\"xref\":\"paper\",\"y\":0.4347107438016528,\"yanchor\":\"bottom\",\"yref\":\"paper\"},{\"font\":{\"size\":16},\"showarrow\":false,\"text\":\"Topic 26\",\"x\":0.6375000000000001,\"xanchor\":\"center\",\"xref\":\"paper\",\"y\":0.4347107438016528,\"yanchor\":\"bottom\",\"yref\":\"paper\"},{\"font\":{\"size\":16},\"showarrow\":false,\"text\":\"Topic 27\",\"x\":0.9125,\"xanchor\":\"center\",\"xref\":\"paper\",\"y\":0.4347107438016528,\"yanchor\":\"bottom\",\"yref\":\"paper\"},{\"font\":{\"size\":16},\"showarrow\":false,\"text\":\"Topic 28\",\"x\":0.0875,\"xanchor\":\"center\",\"xref\":\"paper\",\"y\":0.34049586776859503,\"yanchor\":\"bottom\",\"yref\":\"paper\"},{\"font\":{\"size\":16},\"showarrow\":false,\"text\":\"Topic 29\",\"x\":0.36250000000000004,\"xanchor\":\"center\",\"xref\":\"paper\",\"y\":0.34049586776859503,\"yanchor\":\"bottom\",\"yref\":\"paper\"},{\"font\":{\"size\":16},\"showarrow\":false,\"text\":\"Topic 30\",\"x\":0.6375000000000001,\"xanchor\":\"center\",\"xref\":\"paper\",\"y\":0.34049586776859503,\"yanchor\":\"bottom\",\"yref\":\"paper\"},{\"font\":{\"size\":16},\"showarrow\":false,\"text\":\"Topic 31\",\"x\":0.9125,\"xanchor\":\"center\",\"xref\":\"paper\",\"y\":0.34049586776859503,\"yanchor\":\"bottom\",\"yref\":\"paper\"},{\"font\":{\"size\":16},\"showarrow\":false,\"text\":\"Topic 32\",\"x\":0.0875,\"xanchor\":\"center\",\"xref\":\"paper\",\"y\":0.24628099173553714,\"yanchor\":\"bottom\",\"yref\":\"paper\"},{\"font\":{\"size\":16},\"showarrow\":false,\"text\":\"Topic 33\",\"x\":0.36250000000000004,\"xanchor\":\"center\",\"xref\":\"paper\",\"y\":0.24628099173553714,\"yanchor\":\"bottom\",\"yref\":\"paper\"},{\"font\":{\"size\":16},\"showarrow\":false,\"text\":\"Topic 34\",\"x\":0.6375000000000001,\"xanchor\":\"center\",\"xref\":\"paper\",\"y\":0.24628099173553714,\"yanchor\":\"bottom\",\"yref\":\"paper\"},{\"font\":{\"size\":16},\"showarrow\":false,\"text\":\"Topic 35\",\"x\":0.9125,\"xanchor\":\"center\",\"xref\":\"paper\",\"y\":0.24628099173553714,\"yanchor\":\"bottom\",\"yref\":\"paper\"},{\"font\":{\"size\":16},\"showarrow\":false,\"text\":\"Topic 36\",\"x\":0.0875,\"xanchor\":\"center\",\"xref\":\"paper\",\"y\":0.1520661157024793,\"yanchor\":\"bottom\",\"yref\":\"paper\"},{\"font\":{\"size\":16},\"showarrow\":false,\"text\":\"Topic 37\",\"x\":0.36250000000000004,\"xanchor\":\"center\",\"xref\":\"paper\",\"y\":0.1520661157024793,\"yanchor\":\"bottom\",\"yref\":\"paper\"},{\"font\":{\"size\":16},\"showarrow\":false,\"text\":\"Topic 38\",\"x\":0.6375000000000001,\"xanchor\":\"center\",\"xref\":\"paper\",\"y\":0.1520661157024793,\"yanchor\":\"bottom\",\"yref\":\"paper\"},{\"font\":{\"size\":16},\"showarrow\":false,\"text\":\"Topic 39\",\"x\":0.9125,\"xanchor\":\"center\",\"xref\":\"paper\",\"y\":0.1520661157024793,\"yanchor\":\"bottom\",\"yref\":\"paper\"},{\"font\":{\"size\":16},\"showarrow\":false,\"text\":\"Topic 40\",\"x\":0.0875,\"xanchor\":\"center\",\"xref\":\"paper\",\"y\":0.057851239669421475,\"yanchor\":\"bottom\",\"yref\":\"paper\"},{\"font\":{\"size\":16},\"showarrow\":false,\"text\":\"Topic 41\",\"x\":0.36250000000000004,\"xanchor\":\"center\",\"xref\":\"paper\",\"y\":0.057851239669421475,\"yanchor\":\"bottom\",\"yref\":\"paper\"}],\"title\":{\"font\":{\"size\":22,\"color\":\"Black\"},\"text\":\"<b>Topic Word Scores\",\"x\":0.5,\"xanchor\":\"center\",\"yanchor\":\"top\"},\"hoverlabel\":{\"font\":{\"size\":16,\"family\":\"Rockwell\"},\"bgcolor\":\"white\"},\"showlegend\":false,\"width\":1000,\"height\":2750},                        {\"responsive\": true}                    ).then(function(){\n",
       "                            \n",
       "var gd = document.getElementById('a2521d6c-2215-4139-b1eb-0e8acfd66171');\n",
       "var x = new MutationObserver(function (mutations, observer) {{\n",
       "        var display = window.getComputedStyle(gd).display;\n",
       "        if (!display || display === 'none') {{\n",
       "            console.log([gd, 'removed!']);\n",
       "            Plotly.purge(gd);\n",
       "            observer.disconnect();\n",
       "        }}\n",
       "}});\n",
       "\n",
       "// Listen for the removal of the full notebook cells\n",
       "var notebookContainer = gd.closest('#notebook-container');\n",
       "if (notebookContainer) {{\n",
       "    x.observe(notebookContainer, {childList: true});\n",
       "}}\n",
       "\n",
       "// Listen for the clearing of the current output cell\n",
       "var outputEl = gd.closest('.output');\n",
       "if (outputEl) {{\n",
       "    x.observe(outputEl, {childList: true});\n",
       "}}\n",
       "\n",
       "                        })                };                });            </script>        </div>"
      ]
     },
     "metadata": {},
     "output_type": "display_data"
    }
   ],
   "source": [
    "optimal_model.visualize_barchart(top_n_topics=42)"
   ]
  },
  {
   "cell_type": "markdown",
   "id": "818e2070",
   "metadata": {},
   "source": [
    "#### Similar Matrix"
   ]
  },
  {
   "cell_type": "code",
   "execution_count": 19,
   "id": "76f10de9",
   "metadata": {},
   "outputs": [
    {
     "data": {
      "application/vnd.plotly.v1+json": {
       "config": {
        "plotlyServerURL": "https://plot.ly"
       },
       "data": [
        {
         "coloraxis": "coloraxis",
         "hovertemplate": "x: %{x}<br>y: %{y}<br>Similarity Score: %{z}<extra></extra>",
         "name": "0",
         "type": "heatmap",
         "x": [
          "-1_fire_home_fall",
          "36_fire_house_firefighter",
          "0_sleep_autopsy_bed",
          "1_drown_death_autopsy",
          "6_pool_boy_child",
          "16_drown_hot_tub_autopsy",
          "17_pronounce_dead_pool_swim...",
          "32_bathtub_drown_autopsy",
          "33_drown_swimming_pool_auto...",
          "2_bicycle_ride_strike",
          "15_bicyclist_bicycle_vehicle",
          "31_snowmobile_trail_tree",
          "3_terrain_vehicle_autopsy_g...",
          "7_atv_crash_pronounce_dead",
          "4_head_fall_floor",
          "8_ladder_pronounce_fall",
          "25_stair_fall_head",
          "26_hip_fracture_floor_fall",
          "38_nursing_fall_floor",
          "5_nan_apneic_yet",
          "9_oven_turn_burner",
          "21_microwave_door_oven",
          "27_refrigerator_fridge_free...",
          "10_toy_battery_mouth",
          "11_mower_lawn_mower_tractor",
          "12_electrical_extension_cor...",
          "30_phone_charger_device",
          "13_dryer_washer_machine",
          "23_dishwasher_melt_door",
          "14_carbon_monoxide_generato...",
          "35_garage_carbon_monoxide_a...",
          "18_thermal_burn_inhalation",
          "37_difluoroethane_autopsy_i...",
          "19_glass_shatter_oven",
          "20_candle_apartment_fire",
          "40_space_heater_fire_house",
          "22_bulb_lamp_light",
          "24_rash_wrist_diaper",
          "28_chair_seat_shade",
          "29_firework_hand_explode",
          "41_chimney_fire_home",
          "34_blade_fan_food_processor",
          "39_scooter_hoverboard_driver"
         ],
         "xaxis": "x",
         "y": [
          "-1_fire_home_fall",
          "36_fire_house_firefighter",
          "0_sleep_autopsy_bed",
          "1_drown_death_autopsy",
          "6_pool_boy_child",
          "16_drown_hot_tub_autopsy",
          "17_pronounce_dead_pool_swim...",
          "32_bathtub_drown_autopsy",
          "33_drown_swimming_pool_auto...",
          "2_bicycle_ride_strike",
          "15_bicyclist_bicycle_vehicle",
          "31_snowmobile_trail_tree",
          "3_terrain_vehicle_autopsy_g...",
          "7_atv_crash_pronounce_dead",
          "4_head_fall_floor",
          "8_ladder_pronounce_fall",
          "25_stair_fall_head",
          "26_hip_fracture_floor_fall",
          "38_nursing_fall_floor",
          "5_nan_apneic_yet",
          "9_oven_turn_burner",
          "21_microwave_door_oven",
          "27_refrigerator_fridge_free...",
          "10_toy_battery_mouth",
          "11_mower_lawn_mower_tractor",
          "12_electrical_extension_cor...",
          "30_phone_charger_device",
          "13_dryer_washer_machine",
          "23_dishwasher_melt_door",
          "14_carbon_monoxide_generato...",
          "35_garage_carbon_monoxide_a...",
          "18_thermal_burn_inhalation",
          "37_difluoroethane_autopsy_i...",
          "19_glass_shatter_oven",
          "20_candle_apartment_fire",
          "40_space_heater_fire_house",
          "22_bulb_lamp_light",
          "24_rash_wrist_diaper",
          "28_chair_seat_shade",
          "29_firework_hand_explode",
          "41_chimney_fire_home",
          "34_blade_fan_food_processor",
          "39_scooter_hoverboard_driver"
         ],
         "yaxis": "y",
         "z": [
          [
           1.0000000000000002,
           0.8718530012430026,
           0.716228848856655,
           0.6974006748049723,
           0.6721965712015309,
           0.6710023281676456,
           0.6361773162971468,
           0.6871541279030379,
           0.6527519707199039,
           0.637702732464331,
           0.64216841849159,
           0.5946082339448946,
           0.670772250246769,
           0.6937207023519157,
           0.8505421984288644,
           0.7484181766604899,
           0.7869781252982732,
           0.7666092202232535,
           0.8122183157533077,
           0.32464008798872535,
           0.6871244783777022,
           0.6016072234356941,
           0.600088439131239,
           0.6055580991715752,
           0.6132767034024548,
           0.586158296636149,
           0.5698190092040705,
           0.573038525220115,
           0.6313482669573234,
           0.7182812104770281,
           0.7119795672487101,
           0.7801311327656735,
           0.6653935737241872,
           0.7181648269338202,
           0.8041489250996741,
           0.8313230134414995,
           0.5684019648008176,
           0.671050521289188,
           0.6279040602035961,
           0.7563012859221724,
           0.7686291503385081,
           0.5837416726207741,
           0.49258665721008443
          ],
          [
           0.8718530012430026,
           1.0000000000000004,
           0.7245875576201272,
           0.7361403947255977,
           0.6749355772896538,
           0.6782440931275533,
           0.6609675509406439,
           0.6592811826759586,
           0.6511540810936246,
           0.6428978918163989,
           0.6448302492454334,
           0.5818623435141641,
           0.6508784424796821,
           0.6877679422261339,
           0.7428357950566056,
           0.6956188603799707,
           0.7148026527651601,
           0.7031382148635087,
           0.7261326685840176,
           0.3270157818187708,
           0.6506659187122695,
           0.594388956131876,
           0.5982541009105024,
           0.6164730943846045,
           0.6242399864895912,
           0.5659174136741572,
           0.5623939359878765,
           0.5682457588608516,
           0.606575294734309,
           0.6768084693751709,
           0.6772215801076901,
           0.759314209940158,
           0.6447329601469781,
           0.6806012304549327,
           0.7794546636876946,
           0.8552199389287738,
           0.554903056921253,
           0.6071949318985203,
           0.5746761962743059,
           0.7372688696616116,
           0.7416757276914256,
           0.5817529009925326,
           0.4889975669873572
          ],
          [
           0.716228848856655,
           0.7245875576201272,
           0.9999999999999997,
           0.7935116543189448,
           0.6527875497715816,
           0.7508671842917609,
           0.6738176488970136,
           0.7124171131967334,
           0.7338884320856707,
           0.5816619176480936,
           0.5724195610187202,
           0.5141920196514315,
           0.7049630114077146,
           0.6724950739711403,
           0.7491846295391777,
           0.7143460721827344,
           0.7336748683110953,
           0.7042130453034732,
           0.7314739224195432,
           0.40545671679545897,
           0.5316925924196515,
           0.497850544920998,
           0.5228415774383237,
           0.6078189975841185,
           0.5277900407090705,
           0.5069060258857039,
           0.5048284360803941,
           0.5583420768606022,
           0.5124090367031711,
           0.5942299942807372,
           0.6821719031087636,
           0.7180790430575164,
           0.6618411350301431,
           0.5798674361512219,
           0.5987623345184094,
           0.6456495022472222,
           0.4886641978815663,
           0.6152484882379065,
           0.5790971763158441,
           0.5696677433615429,
           0.5368798703698108,
           0.5449830952717192,
           0.43609580098352585
          ],
          [
           0.6974006748049723,
           0.7361403947255977,
           0.7935116543189448,
           0.9999999999999993,
           0.8015368150286725,
           0.921067543754196,
           0.8246688709815658,
           0.8273506453905399,
           0.9263681575153518,
           0.5900391898768796,
           0.5708639125619299,
           0.5122908325298243,
           0.7167339301483862,
           0.6924694734760346,
           0.7279510293859424,
           0.6835698936109214,
           0.711684749016982,
           0.672371116395452,
           0.6636907741431827,
           0.3573787953913203,
           0.48503750571783644,
           0.48600911546828146,
           0.4735461137739136,
           0.5558666415571042,
           0.5156715462098144,
           0.48137783305044274,
           0.48768016548598214,
           0.5181551686054472,
           0.5185988362526355,
           0.5565292860182705,
           0.6805208348628904,
           0.707471535688651,
           0.6705353981008484,
           0.5827621556934036,
           0.5715061787108102,
           0.6441011564066563,
           0.45507820738394383,
           0.5887052053928944,
           0.524950627167422,
           0.5827790992604196,
           0.505479844743351,
           0.503013411226229,
           0.3993305651058864
          ],
          [
           0.6721965712015309,
           0.6749355772896538,
           0.6527875497715816,
           0.8015368150286725,
           1,
           0.7982537138604802,
           0.8097407803767763,
           0.7367112912257907,
           0.8225299311713226,
           0.6167878064375174,
           0.6031028548511066,
           0.5783054146094755,
           0.604052896862308,
           0.6724425537363026,
           0.6415051374038239,
           0.6233172472735368,
           0.6048364923045265,
           0.6086743666764002,
           0.65853758486161,
           0.36789054485992667,
           0.5031350951018156,
           0.4982849234838016,
           0.4981000539493185,
           0.6711349136486987,
           0.5632758797463835,
           0.4887098900472465,
           0.5043704039199473,
           0.5409060256391494,
           0.4943659569888427,
           0.5762465723052882,
           0.616424890661965,
           0.5704239061767605,
           0.5081832685334269,
           0.593043890067581,
           0.5826562766544882,
           0.6542739771320772,
           0.48014075649910093,
           0.6013113909214561,
           0.5851299331159889,
           0.5679500168031628,
           0.539212146200472,
           0.5044765417027515,
           0.47021554750130334
          ],
          [
           0.6710023281676456,
           0.6782440931275533,
           0.7508671842917609,
           0.921067543754196,
           0.7982537138604802,
           1,
           0.8095250901503899,
           0.907319987304956,
           0.9674066876023633,
           0.5662942179270481,
           0.5416764949440046,
           0.5109717310104297,
           0.6570729573381385,
           0.6721517006500058,
           0.6796186462670295,
           0.6454193346391631,
           0.6468036869991757,
           0.6262085387562809,
           0.6285931686082739,
           0.33019830386800886,
           0.503934600122354,
           0.5003364924755114,
           0.48381425678983636,
           0.501663852110271,
           0.5163263750003164,
           0.46701885843746677,
           0.4378509372080363,
           0.5225537182014318,
           0.5253170130000577,
           0.5548376861002722,
           0.6756006610585927,
           0.6685758037979633,
           0.6241700266026129,
           0.5809922501901679,
           0.5670733788609578,
           0.6423546205664852,
           0.42260850778973413,
           0.5389103068440005,
           0.5233470767461463,
           0.5277218952515883,
           0.5015873693297298,
           0.46288836800139976,
           0.40279151143786807
          ],
          [
           0.6361773162971468,
           0.6609675509406439,
           0.6738176488970136,
           0.8246688709815658,
           0.8097407803767763,
           0.8095250901503899,
           0.9999999999999998,
           0.7236663504161602,
           0.842769074720684,
           0.562713668081724,
           0.5615627392919134,
           0.5280478036857743,
           0.6406223080423536,
           0.7287987411402624,
           0.6297035428483829,
           0.757132663649798,
           0.6063221442940808,
           0.6362387535592933,
           0.6461682052783759,
           0.3444972684120001,
           0.47000827243599574,
           0.46919866357500445,
           0.46718597270659884,
           0.5424783785417087,
           0.5289693871398282,
           0.4610153240561987,
           0.49482910071376696,
           0.5260227912566374,
           0.48456302666440165,
           0.5472326395912142,
           0.6181340551857639,
           0.5650707050130568,
           0.5659451496670987,
           0.5642354811029121,
           0.534903710004123,
           0.6095451615544806,
           0.44253928101774037,
           0.5538259960124922,
           0.515682721876644,
           0.533882406323404,
           0.4950491457063063,
           0.48687012401395374,
           0.421025025898682
          ],
          [
           0.6871541279030379,
           0.6592811826759586,
           0.7124171131967334,
           0.8273506453905399,
           0.7367112912257907,
           0.907319987304956,
           0.7236663504161602,
           1.0000000000000007,
           0.8798099309360484,
           0.527244930694058,
           0.5204954018984143,
           0.48378494330933475,
           0.5741174508491773,
           0.5975147581033211,
           0.7010885884402411,
           0.6328437586608487,
           0.6526070456199206,
           0.5977599677439693,
           0.6408708242178831,
           0.3003660161973968,
           0.5056247825020376,
           0.52171127750925,
           0.52399198095651,
           0.5337336262360206,
           0.4957868002221414,
           0.46714146153793346,
           0.4545919950855556,
           0.5280848869381758,
           0.5428835681120595,
           0.5402823229737705,
           0.663674593974422,
           0.6164237537786522,
           0.6102287869850083,
           0.6310351871776356,
           0.6329065205703124,
           0.6130127626527209,
           0.46908394941917686,
           0.5480593309524466,
           0.5662982840973089,
           0.5184525686365533,
           0.5428502330075672,
           0.45948672271098445,
           0.4237260867504528
          ],
          [
           0.6527519707199039,
           0.6511540810936246,
           0.7338884320856707,
           0.9263681575153518,
           0.8225299311713226,
           0.9674066876023633,
           0.842769074720684,
           0.8798099309360484,
           1,
           0.5677295662483991,
           0.5521863941848342,
           0.5039600704860406,
           0.6716011821651888,
           0.6689898538315879,
           0.6593149053223459,
           0.6461349063264846,
           0.6387383459343958,
           0.6178292428855675,
           0.6302494282513319,
           0.3237695004410664,
           0.47052143685149905,
           0.4686630660349962,
           0.46082440908047173,
           0.5016582730402963,
           0.5067599782316025,
           0.4539103012792471,
           0.44998801724277093,
           0.5138320091698274,
           0.4963156642854961,
           0.5467506885244513,
           0.6800705061929174,
           0.620201635397056,
           0.6008101872547899,
           0.5582252753912842,
           0.5665571720215494,
           0.6186061768603124,
           0.42464144686919847,
           0.5276876878871023,
           0.5072752619566222,
           0.5000615873133787,
           0.4892093491079297,
           0.44309348417381433,
           0.403135961043797
          ],
          [
           0.637702732464331,
           0.6428978918163989,
           0.5816619176480936,
           0.5900391898768796,
           0.6167878064375174,
           0.5662942179270481,
           0.562713668081724,
           0.527244930694058,
           0.5677295662483991,
           1.0000000000000007,
           0.9510087250417694,
           0.7563195248179908,
           0.7042361122108147,
           0.8000237107978351,
           0.6072009932053131,
           0.6063164667926909,
           0.6215618229357449,
           0.5950137650755195,
           0.6370785068493122,
           0.2553396055950064,
           0.582522074968471,
           0.4824776706770048,
           0.47064540267340466,
           0.5861149936380068,
           0.7133884321944172,
           0.4877139746144197,
           0.595584741972268,
           0.5841775342896405,
           0.5504009725328313,
           0.5876270922044026,
           0.6946495956066608,
           0.5697413782998236,
           0.5073202653016455,
           0.5362336926452391,
           0.5508854591069321,
           0.5740819604200829,
           0.4879571706640313,
           0.5717122037441977,
           0.5802887824008413,
           0.5737158854615583,
           0.4672881785243972,
           0.5578630439166257,
           0.7979613209121796
          ],
          [
           0.64216841849159,
           0.6448302492454334,
           0.5724195610187202,
           0.5708639125619299,
           0.6031028548511066,
           0.5416764949440046,
           0.5615627392919134,
           0.5204954018984143,
           0.5521863941848342,
           0.9510087250417694,
           1.0000000000000004,
           0.7212950640346224,
           0.7253088107657145,
           0.7687338549260075,
           0.600231242050959,
           0.6105928915561081,
           0.632509524028952,
           0.6016297152841685,
           0.6643352677956732,
           0.2724294215953983,
           0.5775128556165695,
           0.4883364694002872,
           0.4947886518875424,
           0.5654215080093078,
           0.6830063205471255,
           0.49026815052167383,
           0.5968054435923983,
           0.6050556343065363,
           0.5508504460830347,
           0.6036745558266858,
           0.7034108527952293,
           0.5630668796339192,
           0.5083884118400862,
           0.5230488470616139,
           0.5492669352048005,
           0.5681915785183754,
           0.5035755047278604,
           0.5820326536202591,
           0.5588916757468584,
           0.5583517174520729,
           0.45625529853697067,
           0.5524244297245297,
           0.7441731491140721
          ],
          [
           0.5946082339448946,
           0.5818623435141641,
           0.5141920196514315,
           0.5122908325298243,
           0.5783054146094755,
           0.5109717310104297,
           0.5280478036857743,
           0.48378494330933475,
           0.5039600704860406,
           0.7563195248179908,
           0.7212950640346224,
           1,
           0.6864294496090451,
           0.7977262718255858,
           0.5500309509991753,
           0.6053883658284223,
           0.5981223168431358,
           0.5493491500167613,
           0.5900214013359288,
           0.27049177326308704,
           0.5040585940450945,
           0.4552107784672714,
           0.5324907847392487,
           0.6170481059132371,
           0.6937003742728396,
           0.47070580818677055,
           0.5466591494823312,
           0.4970629275904958,
           0.4616681325135037,
           0.5616704692485116,
           0.6382351149122418,
           0.5275327344176373,
           0.4941657971993704,
           0.4972292244761828,
           0.5143702652887202,
           0.5648293338812391,
           0.4423993418175468,
           0.521203018409943,
           0.527500235031302,
           0.5467517470680983,
           0.5165422171478102,
           0.5521224582018632,
           0.7193543512802487
          ],
          [
           0.670772250246769,
           0.6508784424796821,
           0.7049630114077146,
           0.7167339301483862,
           0.604052896862308,
           0.6570729573381385,
           0.6406223080423536,
           0.5741174508491773,
           0.6716011821651888,
           0.7042361122108147,
           0.7253088107657145,
           0.6864294496090451,
           0.9999999999999992,
           0.7655081872539248,
           0.7216643157374685,
           0.7091770717760117,
           0.756457548393692,
           0.674260737180918,
           0.6726672310169639,
           0.27433453055455725,
           0.5445904048049776,
           0.4676052858959664,
           0.4672720891404687,
           0.5999706322999201,
           0.6593686226905977,
           0.5484529279775916,
           0.5579416504689209,
           0.5940286191212268,
           0.4902449425964587,
           0.6029658378046155,
           0.7280045190741152,
           0.6496537508667759,
           0.6043228088965409,
           0.5424269903603329,
           0.5191780078273024,
           0.5918120735030584,
           0.49405028209265717,
           0.5980605468881639,
           0.527134977024263,
           0.5899450441009386,
           0.4846658062399263,
           0.6126825701993232,
           0.5987603990195183
          ],
          [
           0.6937207023519157,
           0.6877679422261339,
           0.6724950739711403,
           0.6924694734760346,
           0.6724425537363026,
           0.6721517006500058,
           0.7287987411402624,
           0.5975147581033211,
           0.6689898538315879,
           0.8000237107978351,
           0.7687338549260075,
           0.7977262718255858,
           0.7655081872539248,
           1,
           0.659379599105687,
           0.7173697143571918,
           0.6780410000533816,
           0.6792478777999239,
           0.6981530768022377,
           0.34113055965362504,
           0.5675152757620882,
           0.5026372283732112,
           0.4797452344658376,
           0.586341624903786,
           0.6685769479617969,
           0.510245292961774,
           0.5798203465634804,
           0.5451335795262765,
           0.5418425464508425,
           0.5975442048559875,
           0.7022598449036711,
           0.5936427079940795,
           0.5660008297905506,
           0.5598263540227826,
           0.547342701942429,
           0.6577532994829054,
           0.4535756132390318,
           0.5789594721262314,
           0.5751726301825854,
           0.5833526217892555,
           0.5234068997352704,
           0.5659149700103927,
           0.6693833756978388
          ],
          [
           0.8505421984288644,
           0.7428357950566056,
           0.7491846295391777,
           0.7279510293859424,
           0.6415051374038239,
           0.6796186462670295,
           0.6297035428483829,
           0.7010885884402411,
           0.6593149053223459,
           0.6072009932053131,
           0.600231242050959,
           0.5500309509991753,
           0.7216643157374685,
           0.659379599105687,
           0.9999999999999998,
           0.8167274248832321,
           0.873390414503983,
           0.8354864230288245,
           0.8519889052769498,
           0.3155897938310138,
           0.5588564471440952,
           0.5090629701473572,
           0.5276607775783427,
           0.5959884892717272,
           0.5349233079281611,
           0.5450961591894781,
           0.5227827237618516,
           0.5536022129996826,
           0.5485876920503457,
           0.6348225248213302,
           0.6662733890383068,
           0.699438071349777,
           0.6445591225999058,
           0.6713833252697272,
           0.651378020947726,
           0.6572444387223646,
           0.5603396315557033,
           0.6608453731060036,
           0.6275221569083869,
           0.6359099523764753,
           0.5963315509204234,
           0.5930814221307605,
           0.46651668517691275
          ],
          [
           0.7484181766604899,
           0.6956188603799707,
           0.7143460721827344,
           0.6835698936109214,
           0.6233172472735368,
           0.6454193346391631,
           0.757132663649798,
           0.6328437586608487,
           0.6461349063264846,
           0.6063164667926909,
           0.6105928915561081,
           0.6053883658284223,
           0.7091770717760117,
           0.7173697143571918,
           0.8167274248832321,
           1.0000000000000004,
           0.8518101420232493,
           0.796241956835161,
           0.817388253258561,
           0.29734407083519354,
           0.5509505481501229,
           0.4833498812835836,
           0.49979134834359,
           0.5767020877588196,
           0.5653855199676061,
           0.5417170142308034,
           0.5586778527760096,
           0.5763233995108177,
           0.5303937718021329,
           0.6212752555598446,
           0.6530036104397523,
           0.620837788617731,
           0.6019875603009579,
           0.6243680693750421,
           0.6001304974736054,
           0.6228875082785308,
           0.5314420619710832,
           0.6399435864984881,
           0.6366791026569982,
           0.5922792799245437,
           0.6159591397177786,
           0.6168619016657841,
           0.517030933663925
          ],
          [
           0.7869781252982732,
           0.7148026527651601,
           0.7336748683110953,
           0.711684749016982,
           0.6048364923045265,
           0.6468036869991757,
           0.6063221442940808,
           0.6526070456199206,
           0.6387383459343958,
           0.6215618229357449,
           0.632509524028952,
           0.5981223168431358,
           0.756457548393692,
           0.6780410000533816,
           0.873390414503983,
           0.8518101420232493,
           0.9999999999999997,
           0.800388388611804,
           0.8212263946331256,
           0.3275193489776591,
           0.5464391587053751,
           0.49192279103305003,
           0.4909597598895397,
           0.5672057955325096,
           0.5278508623580608,
           0.49212720272587185,
           0.5033860369293705,
           0.5510502429825811,
           0.5356172608901981,
           0.6129351793531665,
           0.672704477529477,
           0.6659599769712712,
           0.6342107341048684,
           0.6467612776077125,
           0.6291340275962318,
           0.6154182056369952,
           0.5253131310963768,
           0.6426365487853098,
           0.59944853247424,
           0.5852156867185758,
           0.6122127982746565,
           0.5926037100615896,
           0.49649166624541985
          ],
          [
           0.7666092202232535,
           0.7031382148635087,
           0.7042130453034732,
           0.672371116395452,
           0.6086743666764002,
           0.6262085387562809,
           0.6362387535592933,
           0.5977599677439693,
           0.6178292428855675,
           0.5950137650755195,
           0.6016297152841685,
           0.5493491500167613,
           0.674260737180918,
           0.6792478777999239,
           0.8354864230288245,
           0.796241956835161,
           0.800388388611804,
           1,
           0.9373467523108765,
           0.31063475635130827,
           0.5467627261369362,
           0.49096981023361386,
           0.524512719151357,
           0.5257611762055111,
           0.5427159939786745,
           0.4843393883971643,
           0.5141161004331967,
           0.5292201472861386,
           0.528185410356165,
           0.6214457383010666,
           0.6301265375150484,
           0.6403881384906203,
           0.5973298633771493,
           0.6428961603771961,
           0.5961986384308,
           0.6525271279524505,
           0.5046678963535314,
           0.6411812593142991,
           0.6127551110029597,
           0.5826281842523113,
           0.5796324012629226,
           0.537673491404349,
           0.46432327631577563
          ],
          [
           0.8122183157533077,
           0.7261326685840176,
           0.7314739224195432,
           0.6636907741431827,
           0.65853758486161,
           0.6285931686082739,
           0.6461682052783759,
           0.6408708242178831,
           0.6302494282513319,
           0.6370785068493122,
           0.6643352677956732,
           0.5900214013359288,
           0.6726672310169639,
           0.6981530768022377,
           0.8519889052769498,
           0.817388253258561,
           0.8212263946331256,
           0.9373467523108765,
           0.9999999999999993,
           0.38372753306623597,
           0.5804402579633849,
           0.5382779501961281,
           0.5605346651756177,
           0.5840522950239191,
           0.5703209761031904,
           0.5086672235803289,
           0.5375779699701441,
           0.5790337440492374,
           0.5631858096386408,
           0.6505056115318617,
           0.6502462313077203,
           0.6392192279604946,
           0.5944754038709803,
           0.6822471497347335,
           0.6604799627643378,
           0.6875982812519321,
           0.5503808739997651,
           0.6751859636026576,
           0.6897342283651131,
           0.6095630179136264,
           0.6265021713238086,
           0.5803648122705576,
           0.5173687856797793
          ],
          [
           0.32464008798872535,
           0.3270157818187708,
           0.40545671679545897,
           0.3573787953913203,
           0.36789054485992667,
           0.33019830386800886,
           0.3444972684120001,
           0.3003660161973968,
           0.3237695004410664,
           0.2553396055950064,
           0.2724294215953983,
           0.27049177326308704,
           0.27433453055455725,
           0.34113055965362504,
           0.3155897938310138,
           0.29734407083519354,
           0.3275193489776591,
           0.31063475635130827,
           0.38372753306623597,
           1.0000000000000009,
           0.2589809668457831,
           0.3217351149448836,
           0.27250552427970953,
           0.4049750171951426,
           0.2514656342292224,
           0.22765184113822723,
           0.2524915032113794,
           0.28506648021307124,
           0.29361630828195656,
           0.30813478265482996,
           0.2673410306879723,
           0.33407255534214764,
           0.3266712567389108,
           0.3004584204926599,
           0.3038586753946265,
           0.32052783061528434,
           0.21323179158055497,
           0.32174674999151726,
           0.3190066272262323,
           0.29507827916600776,
           0.22041363643264536,
           0.2741848971550424,
           0.1535565655407905
          ],
          [
           0.6871244783777022,
           0.6506659187122695,
           0.5316925924196515,
           0.48503750571783644,
           0.5031350951018156,
           0.503934600122354,
           0.47000827243599574,
           0.5056247825020376,
           0.47052143685149905,
           0.582522074968471,
           0.5775128556165695,
           0.5040585940450945,
           0.5445904048049776,
           0.5675152757620882,
           0.5588564471440952,
           0.5509505481501229,
           0.5464391587053751,
           0.5467627261369362,
           0.5804402579633849,
           0.2589809668457831,
           0.9999999999999998,
           0.7845116723211996,
           0.7034117501615942,
           0.5489648215863154,
           0.6259848774917713,
           0.5481542751361373,
           0.5455118361572835,
           0.6238916135152919,
           0.6541415299650122,
           0.6667482985715778,
           0.6110313150166469,
           0.6856291493840267,
           0.5114297886979025,
           0.7351863241805452,
           0.7396297830893752,
           0.7092383574479585,
           0.5879187030114821,
           0.547974889822999,
           0.5287896897233667,
           0.590639702215255,
           0.6924347194772623,
           0.6024506749174009,
           0.5050512895064464
          ],
          [
           0.6016072234356941,
           0.594388956131876,
           0.497850544920998,
           0.48600911546828146,
           0.4982849234838016,
           0.5003364924755114,
           0.46919866357500445,
           0.52171127750925,
           0.4686630660349962,
           0.4824776706770048,
           0.4883364694002872,
           0.4552107784672714,
           0.4676052858959664,
           0.5026372283732112,
           0.5090629701473572,
           0.4833498812835836,
           0.49192279103305003,
           0.49096981023361386,
           0.5382779501961281,
           0.3217351149448836,
           0.7845116723211996,
           0.9999999999999993,
           0.6970936309057048,
           0.5468709460795326,
           0.5567889869563711,
           0.5465013094549772,
           0.5295791727020379,
           0.5740908165401206,
           0.6525390571071934,
           0.5996945288098458,
           0.5168414360361959,
           0.5870827124143829,
           0.4621684984800055,
           0.7423859942406419,
           0.6867297927236791,
           0.6481422558487714,
           0.5442595688704036,
           0.48766479559812703,
           0.48476625634921655,
           0.5565199686705368,
           0.5851764163145096,
           0.5554873420839419,
           0.4459924086988668
          ],
          [
           0.600088439131239,
           0.5982541009105024,
           0.5228415774383237,
           0.4735461137739136,
           0.4981000539493185,
           0.48381425678983636,
           0.46718597270659884,
           0.52399198095651,
           0.46082440908047173,
           0.47064540267340466,
           0.4947886518875424,
           0.5324907847392487,
           0.4672720891404687,
           0.4797452344658376,
           0.5276607775783427,
           0.49979134834359,
           0.4909597598895397,
           0.524512719151357,
           0.5605346651756177,
           0.27250552427970953,
           0.7034117501615942,
           0.6970936309057048,
           1.0000000000000002,
           0.561577178986881,
           0.5944250621358067,
           0.5051463605763045,
           0.5203147290396409,
           0.5824973364170508,
           0.6203815224288536,
           0.6529558977993233,
           0.5714469694633222,
           0.6110695549749594,
           0.5165865942117773,
           0.6837580394426328,
           0.6572447485260668,
           0.6352127195572921,
           0.5125692350852977,
           0.4691437324623196,
           0.4114389613939299,
           0.48134760323768605,
           0.5910796578072908,
           0.6013892183899645,
           0.43390614244414877
          ],
          [
           0.6055580991715752,
           0.6164730943846045,
           0.6078189975841185,
           0.5558666415571042,
           0.6711349136486987,
           0.501663852110271,
           0.5424783785417087,
           0.5337336262360206,
           0.5016582730402963,
           0.5861149936380068,
           0.5654215080093078,
           0.6170481059132371,
           0.5999706322999201,
           0.586341624903786,
           0.5959884892717272,
           0.5767020877588196,
           0.5672057955325096,
           0.5257611762055111,
           0.5840522950239191,
           0.4049750171951426,
           0.5489648215863154,
           0.5468709460795326,
           0.561577178986881,
           0.9999999999999993,
           0.6216593654507836,
           0.5528328656773133,
           0.6494602361013769,
           0.5593102400289909,
           0.505215420885924,
           0.5824537017597949,
           0.5688463331609149,
           0.5819590263007699,
           0.5172513972936443,
           0.5720193002301661,
           0.5861674234969128,
           0.6007459395075968,
           0.5659423491613083,
           0.6194076191821852,
           0.5180332025048464,
           0.5720171749263846,
           0.5138652169266534,
           0.5929197919105649,
           0.5733109477854756
          ],
          [
           0.6132767034024548,
           0.6242399864895912,
           0.5277900407090705,
           0.5156715462098144,
           0.5632758797463835,
           0.5163263750003164,
           0.5289693871398282,
           0.4957868002221414,
           0.5067599782316025,
           0.7133884321944172,
           0.6830063205471255,
           0.6937003742728396,
           0.6593686226905977,
           0.6685769479617969,
           0.5349233079281611,
           0.5653855199676061,
           0.5278508623580608,
           0.5427159939786745,
           0.5703209761031904,
           0.2514656342292224,
           0.6259848774917713,
           0.5567889869563711,
           0.5944250621358067,
           0.6216593654507836,
           1.0000000000000002,
           0.5720830458218302,
           0.5882883796449785,
           0.6880776295877722,
           0.556579948550036,
           0.72316037085769,
           0.6879601101953872,
           0.589870304552182,
           0.5657863079791327,
           0.5777491823565187,
           0.6265739719657808,
           0.6378272307043762,
           0.5200065619184584,
           0.4725747552129044,
           0.5292061372235454,
           0.581832141298477,
           0.6045743749388803,
           0.6157043507396897,
           0.7080545978985531
          ],
          [
           0.586158296636149,
           0.5659174136741572,
           0.5069060258857039,
           0.48137783305044274,
           0.4887098900472465,
           0.46701885843746677,
           0.4610153240561987,
           0.46714146153793346,
           0.4539103012792471,
           0.4877139746144197,
           0.49026815052167383,
           0.47070580818677055,
           0.5484529279775916,
           0.510245292961774,
           0.5450961591894781,
           0.5417170142308034,
           0.49212720272587185,
           0.4843393883971643,
           0.5086672235803289,
           0.22765184113822723,
           0.5481542751361373,
           0.5465013094549772,
           0.5051463605763045,
           0.5528328656773133,
           0.5720830458218302,
           0.9999999999999994,
           0.7210598151883748,
           0.5497076020050369,
           0.4809796558661234,
           0.6507081221149914,
           0.5230087014838194,
           0.5617301603189273,
           0.46063445039210965,
           0.5310519557371348,
           0.6060393085392423,
           0.6093206256231886,
           0.6428722864575016,
           0.47541127752858986,
           0.42907864278749086,
           0.6070824663637251,
           0.5105276527174896,
           0.5252854655713943,
           0.44604478781887713
          ],
          [
           0.5698190092040705,
           0.5623939359878765,
           0.5048284360803941,
           0.48768016548598214,
           0.5043704039199473,
           0.4378509372080363,
           0.49482910071376696,
           0.4545919950855556,
           0.44998801724277093,
           0.595584741972268,
           0.5968054435923983,
           0.5466591494823312,
           0.5579416504689209,
           0.5798203465634804,
           0.5227827237618516,
           0.5586778527760096,
           0.5033860369293705,
           0.5141161004331967,
           0.5375779699701441,
           0.2524915032113794,
           0.5455118361572835,
           0.5295791727020379,
           0.5203147290396409,
           0.6494602361013769,
           0.5882883796449785,
           0.7210598151883748,
           1,
           0.5625108800562886,
           0.48059892373447616,
           0.570260209485828,
           0.5171138702577399,
           0.5155056702743284,
           0.4291007234378495,
           0.5447499019827259,
           0.5559401037022553,
           0.5476429595180762,
           0.567629464655548,
           0.5377044099964753,
           0.4778305280260162,
           0.5234701446732992,
           0.4617794913603104,
           0.5584638840690848,
           0.5485691138049322
          ],
          [
           0.573038525220115,
           0.5682457588608516,
           0.5583420768606022,
           0.5181551686054472,
           0.5409060256391494,
           0.5225537182014318,
           0.5260227912566374,
           0.5280848869381758,
           0.5138320091698274,
           0.5841775342896405,
           0.6050556343065363,
           0.4970629275904958,
           0.5940286191212268,
           0.5451335795262765,
           0.5536022129996826,
           0.5763233995108177,
           0.5510502429825811,
           0.5292201472861386,
           0.5790337440492374,
           0.28506648021307124,
           0.6238916135152919,
           0.5740908165401206,
           0.5824973364170508,
           0.5593102400289909,
           0.6880776295877722,
           0.5497076020050369,
           0.5625108800562886,
           1,
           0.7058093381197182,
           0.6242376270014721,
           0.5944192325380533,
           0.5526856627458812,
           0.5218979544476912,
           0.565663330007288,
           0.5530213822560056,
           0.5775998085451433,
           0.5104735685815843,
           0.5916227718441299,
           0.5119663964238034,
           0.5219543583409191,
           0.4969127381908838,
           0.6123637583126955,
           0.5782469095140089
          ],
          [
           0.6313482669573234,
           0.606575294734309,
           0.5124090367031711,
           0.5185988362526355,
           0.4943659569888427,
           0.5253170130000577,
           0.48456302666440165,
           0.5428835681120595,
           0.4963156642854961,
           0.5504009725328313,
           0.5508504460830347,
           0.4616681325135037,
           0.4902449425964587,
           0.5418425464508425,
           0.5485876920503457,
           0.5303937718021329,
           0.5356172608901981,
           0.528185410356165,
           0.5631858096386408,
           0.29361630828195656,
           0.6541415299650122,
           0.6525390571071934,
           0.6203815224288536,
           0.505215420885924,
           0.556579948550036,
           0.4809796558661234,
           0.48059892373447616,
           0.7058093381197182,
           0.9999999999999993,
           0.5437819484599871,
           0.5382070473732633,
           0.579329910216301,
           0.5247990439514099,
           0.6852759738277439,
           0.5928284826031117,
           0.6098585200187261,
           0.451939744724946,
           0.5515481321296947,
           0.4808479996483799,
           0.5825844032835307,
           0.5258021434283358,
           0.5404182510293789,
           0.4726669776574174
          ],
          [
           0.7182812104770281,
           0.6768084693751709,
           0.5942299942807372,
           0.5565292860182705,
           0.5762465723052882,
           0.5548376861002722,
           0.5472326395912142,
           0.5402823229737705,
           0.5467506885244513,
           0.5876270922044026,
           0.6036745558266858,
           0.5616704692485116,
           0.6029658378046155,
           0.5975442048559875,
           0.6348225248213302,
           0.6212752555598446,
           0.6129351793531665,
           0.6214457383010666,
           0.6505056115318617,
           0.30813478265482996,
           0.6667482985715778,
           0.5996945288098458,
           0.6529558977993233,
           0.5824537017597949,
           0.72316037085769,
           0.6507081221149914,
           0.570260209485828,
           0.6242376270014721,
           0.5437819484599871,
           0.9999999999999998,
           0.7707632149794077,
           0.6920023070607487,
           0.6811264592801186,
           0.6396946414660245,
           0.7230373067011633,
           0.7412772256274571,
           0.6176874057550077,
           0.4743211358032188,
           0.46295289228033953,
           0.6409491137931946,
           0.7071256135952397,
           0.5441064301521881,
           0.5136582831988057
          ],
          [
           0.7119795672487101,
           0.6772215801076901,
           0.6821719031087636,
           0.6805208348628904,
           0.616424890661965,
           0.6756006610585927,
           0.6181340551857639,
           0.663674593974422,
           0.6800705061929174,
           0.6946495956066608,
           0.7034108527952293,
           0.6382351149122418,
           0.7280045190741152,
           0.7022598449036711,
           0.6662733890383068,
           0.6530036104397523,
           0.672704477529477,
           0.6301265375150484,
           0.6502462313077203,
           0.2673410306879723,
           0.6110313150166469,
           0.5168414360361959,
           0.5714469694633222,
           0.5688463331609149,
           0.6879601101953872,
           0.5230087014838194,
           0.5171138702577399,
           0.5944192325380533,
           0.5382070473732633,
           0.7707632149794077,
           1.0000000000000007,
           0.7201388845912378,
           0.7570446558135948,
           0.6006475707069356,
           0.6716631274887123,
           0.6560670330936589,
           0.5172775993176566,
           0.5227074327211093,
           0.5241001312888922,
           0.5699305463036428,
           0.650485876865326,
           0.5349433993973194,
           0.5797390290653635
          ],
          [
           0.7801311327656735,
           0.759314209940158,
           0.7180790430575164,
           0.707471535688651,
           0.5704239061767605,
           0.6685758037979633,
           0.5650707050130568,
           0.6164237537786522,
           0.620201635397056,
           0.5697413782998236,
           0.5630668796339192,
           0.5275327344176373,
           0.6496537508667759,
           0.5936427079940795,
           0.699438071349777,
           0.620837788617731,
           0.6659599769712712,
           0.6403881384906203,
           0.6392192279604946,
           0.33407255534214764,
           0.6856291493840267,
           0.5870827124143829,
           0.6110695549749594,
           0.5819590263007699,
           0.589870304552182,
           0.5617301603189273,
           0.5155056702743284,
           0.5526856627458812,
           0.579329910216301,
           0.6920023070607487,
           0.7201388845912378,
           1.0000000000000004,
           0.7517260242941882,
           0.6508309724012262,
           0.6959498592145563,
           0.7075681860475573,
           0.5206600733267327,
           0.6544108549227869,
           0.5319505803329625,
           0.7041010581207181,
           0.6644153303599469,
           0.5475508838518262,
           0.4356815218498523
          ],
          [
           0.6653935737241872,
           0.6447329601469781,
           0.6618411350301431,
           0.6705353981008484,
           0.5081832685334269,
           0.6241700266026129,
           0.5659451496670987,
           0.6102287869850083,
           0.6008101872547899,
           0.5073202653016455,
           0.5083884118400862,
           0.4941657971993704,
           0.6043228088965409,
           0.5660008297905506,
           0.6445591225999058,
           0.6019875603009579,
           0.6342107341048684,
           0.5973298633771493,
           0.5944754038709803,
           0.3266712567389108,
           0.5114297886979025,
           0.4621684984800055,
           0.5165865942117773,
           0.5172513972936443,
           0.5657863079791327,
           0.46063445039210965,
           0.4291007234378495,
           0.5218979544476912,
           0.5247990439514099,
           0.6811264592801186,
           0.7570446558135948,
           0.7517260242941882,
           0.9999999999999998,
           0.574256436608785,
           0.6118804483279039,
           0.5938226404467309,
           0.45767877322055106,
           0.49625299235113196,
           0.4434585743255043,
           0.6186027318282694,
           0.5943449434970064,
           0.5304994160894712,
           0.41161225047259115
          ],
          [
           0.7181648269338202,
           0.6806012304549327,
           0.5798674361512219,
           0.5827621556934036,
           0.593043890067581,
           0.5809922501901679,
           0.5642354811029121,
           0.6310351871776356,
           0.5582252753912842,
           0.5362336926452391,
           0.5230488470616139,
           0.4972292244761828,
           0.5424269903603329,
           0.5598263540227826,
           0.6713833252697272,
           0.6243680693750421,
           0.6467612776077125,
           0.6428961603771961,
           0.6822471497347335,
           0.3004584204926599,
           0.7351863241805452,
           0.7423859942406419,
           0.6837580394426328,
           0.5720193002301661,
           0.5777491823565187,
           0.5310519557371348,
           0.5447499019827259,
           0.565663330007288,
           0.6852759738277439,
           0.6396946414660245,
           0.6006475707069356,
           0.6508309724012262,
           0.574256436608785,
           1.0000000000000004,
           0.7625013287040733,
           0.6783917355570953,
           0.6296609988273419,
           0.5783916435056111,
           0.5799494068873465,
           0.6750763199203164,
           0.6803008670732134,
           0.6026421797565233,
           0.44595090880220356
          ],
          [
           0.8041489250996741,
           0.7794546636876946,
           0.5987623345184094,
           0.5715061787108102,
           0.5826562766544882,
           0.5670733788609578,
           0.534903710004123,
           0.6329065205703124,
           0.5665571720215494,
           0.5508854591069321,
           0.5492669352048005,
           0.5143702652887202,
           0.5191780078273024,
           0.547342701942429,
           0.651378020947726,
           0.6001304974736054,
           0.6291340275962318,
           0.5961986384308,
           0.6604799627643378,
           0.3038586753946265,
           0.7396297830893752,
           0.6867297927236791,
           0.6572447485260668,
           0.5861674234969128,
           0.6265739719657808,
           0.6060393085392423,
           0.5559401037022553,
           0.5530213822560056,
           0.5928284826031117,
           0.7230373067011633,
           0.6716631274887123,
           0.6959498592145563,
           0.6118804483279039,
           0.7625013287040733,
           0.9999999999999999,
           0.7868290287431174,
           0.6815287528027003,
           0.5311107360191868,
           0.5674160334216923,
           0.6804730336745726,
           0.8096385020536897,
           0.5648717917363211,
           0.4578663287219762
          ],
          [
           0.8313230134414995,
           0.8552199389287738,
           0.6456495022472222,
           0.6441011564066563,
           0.6542739771320772,
           0.6423546205664852,
           0.6095451615544806,
           0.6130127626527209,
           0.6186061768603124,
           0.5740819604200829,
           0.5681915785183754,
           0.5648293338812391,
           0.5918120735030584,
           0.6577532994829054,
           0.6572444387223646,
           0.6228875082785308,
           0.6154182056369952,
           0.6525271279524505,
           0.6875982812519321,
           0.32052783061528434,
           0.7092383574479585,
           0.6481422558487714,
           0.6352127195572921,
           0.6007459395075968,
           0.6378272307043762,
           0.6093206256231886,
           0.5476429595180762,
           0.5775998085451433,
           0.6098585200187261,
           0.7412772256274571,
           0.6560670330936589,
           0.7075681860475573,
           0.5938226404467309,
           0.6783917355570953,
           0.7868290287431174,
           0.9999999999999993,
           0.5730845795024297,
           0.5614148268574626,
           0.5540803059074285,
           0.7231063268309074,
           0.7592591938074884,
           0.5597873204712368,
           0.4961541372829804
          ],
          [
           0.5684019648008176,
           0.554903056921253,
           0.4886641978815663,
           0.45507820738394383,
           0.48014075649910093,
           0.42260850778973413,
           0.44253928101774037,
           0.46908394941917686,
           0.42464144686919847,
           0.4879571706640313,
           0.5035755047278604,
           0.4423993418175468,
           0.49405028209265717,
           0.4535756132390318,
           0.5603396315557033,
           0.5314420619710832,
           0.5253131310963768,
           0.5046678963535314,
           0.5503808739997651,
           0.21323179158055497,
           0.5879187030114821,
           0.5442595688704036,
           0.5125692350852977,
           0.5659423491613083,
           0.5200065619184584,
           0.6428722864575016,
           0.567629464655548,
           0.5104735685815843,
           0.451939744724946,
           0.6176874057550077,
           0.5172775993176566,
           0.5206600733267327,
           0.45767877322055106,
           0.6296609988273419,
           0.6815287528027003,
           0.5730845795024297,
           1.0000000000000002,
           0.5086727172678417,
           0.49092973573508725,
           0.5540068671417134,
           0.5165314355081227,
           0.5208920938256936,
           0.4129777151414828
          ],
          [
           0.671050521289188,
           0.6071949318985203,
           0.6152484882379065,
           0.5887052053928944,
           0.6013113909214561,
           0.5389103068440005,
           0.5538259960124922,
           0.5480593309524466,
           0.5276876878871023,
           0.5717122037441977,
           0.5820326536202591,
           0.521203018409943,
           0.5980605468881639,
           0.5789594721262314,
           0.6608453731060036,
           0.6399435864984881,
           0.6426365487853098,
           0.6411812593142991,
           0.6751859636026576,
           0.32174674999151726,
           0.547974889822999,
           0.48766479559812703,
           0.4691437324623196,
           0.6194076191821852,
           0.4725747552129044,
           0.47541127752858986,
           0.5377044099964753,
           0.5916227718441299,
           0.5515481321296947,
           0.4743211358032188,
           0.5227074327211093,
           0.6544108549227869,
           0.49625299235113196,
           0.5783916435056111,
           0.5311107360191868,
           0.5614148268574626,
           0.5086727172678417,
           0.9999999999999997,
           0.6154296036715505,
           0.5961839350427356,
           0.46954189832093024,
           0.5764130685185733,
           0.4841840488572039
          ],
          [
           0.6279040602035961,
           0.5746761962743059,
           0.5790971763158441,
           0.524950627167422,
           0.5851299331159889,
           0.5233470767461463,
           0.515682721876644,
           0.5662982840973089,
           0.5072752619566222,
           0.5802887824008413,
           0.5588916757468584,
           0.527500235031302,
           0.527134977024263,
           0.5751726301825854,
           0.6275221569083869,
           0.6366791026569982,
           0.59944853247424,
           0.6127551110029597,
           0.6897342283651131,
           0.3190066272262323,
           0.5287896897233667,
           0.48476625634921655,
           0.4114389613939299,
           0.5180332025048464,
           0.5292061372235454,
           0.42907864278749086,
           0.4778305280260162,
           0.5119663964238034,
           0.4808479996483799,
           0.46295289228033953,
           0.5241001312888922,
           0.5319505803329625,
           0.4434585743255043,
           0.5799494068873465,
           0.5674160334216923,
           0.5540803059074285,
           0.49092973573508725,
           0.6154296036715505,
           0.9999999999999999,
           0.510005522605357,
           0.48708920486856333,
           0.5056912935567253,
           0.5155183130575551
          ],
          [
           0.7563012859221724,
           0.7372688696616116,
           0.5696677433615429,
           0.5827790992604196,
           0.5679500168031628,
           0.5277218952515883,
           0.533882406323404,
           0.5184525686365533,
           0.5000615873133787,
           0.5737158854615583,
           0.5583517174520729,
           0.5467517470680983,
           0.5899450441009386,
           0.5833526217892555,
           0.6359099523764753,
           0.5922792799245437,
           0.5852156867185758,
           0.5826281842523113,
           0.6095630179136264,
           0.29507827916600776,
           0.590639702215255,
           0.5565199686705368,
           0.48134760323768605,
           0.5720171749263846,
           0.581832141298477,
           0.6070824663637251,
           0.5234701446732992,
           0.5219543583409191,
           0.5825844032835307,
           0.6409491137931946,
           0.5699305463036428,
           0.7041010581207181,
           0.6186027318282694,
           0.6750763199203164,
           0.6804730336745726,
           0.7231063268309074,
           0.5540068671417134,
           0.5961839350427356,
           0.510005522605357,
           1.0000000000000009,
           0.6601193724522827,
           0.5597240436067455,
           0.4684094604851685
          ],
          [
           0.7686291503385081,
           0.7416757276914256,
           0.5368798703698108,
           0.505479844743351,
           0.539212146200472,
           0.5015873693297298,
           0.4950491457063063,
           0.5428502330075672,
           0.4892093491079297,
           0.4672881785243972,
           0.45625529853697067,
           0.5165422171478102,
           0.4846658062399263,
           0.5234068997352704,
           0.5963315509204234,
           0.6159591397177786,
           0.6122127982746565,
           0.5796324012629226,
           0.6265021713238086,
           0.22041363643264536,
           0.6924347194772623,
           0.5851764163145096,
           0.5910796578072908,
           0.5138652169266534,
           0.6045743749388803,
           0.5105276527174896,
           0.4617794913603104,
           0.4969127381908838,
           0.5258021434283358,
           0.7071256135952397,
           0.650485876865326,
           0.6644153303599469,
           0.5943449434970064,
           0.6803008670732134,
           0.8096385020536897,
           0.7592591938074884,
           0.5165314355081227,
           0.46954189832093024,
           0.48708920486856333,
           0.6601193724522827,
           1.0000000000000002,
           0.5305165748547996,
           0.4208639178268536
          ],
          [
           0.5837416726207741,
           0.5817529009925326,
           0.5449830952717192,
           0.503013411226229,
           0.5044765417027515,
           0.46288836800139976,
           0.48687012401395374,
           0.45948672271098445,
           0.44309348417381433,
           0.5578630439166257,
           0.5524244297245297,
           0.5521224582018632,
           0.6126825701993232,
           0.5659149700103927,
           0.5930814221307605,
           0.6168619016657841,
           0.5926037100615896,
           0.537673491404349,
           0.5803648122705576,
           0.2741848971550424,
           0.6024506749174009,
           0.5554873420839419,
           0.6013892183899645,
           0.5929197919105649,
           0.6157043507396897,
           0.5252854655713943,
           0.5584638840690848,
           0.6123637583126955,
           0.5404182510293789,
           0.5441064301521881,
           0.5349433993973194,
           0.5475508838518262,
           0.5304994160894712,
           0.6026421797565233,
           0.5648717917363211,
           0.5597873204712368,
           0.5208920938256936,
           0.5764130685185733,
           0.5056912935567253,
           0.5597240436067455,
           0.5305165748547996,
           0.9999999999999991,
           0.5364545708366645
          ],
          [
           0.49258665721008443,
           0.4889975669873572,
           0.43609580098352585,
           0.3993305651058864,
           0.47021554750130334,
           0.40279151143786807,
           0.421025025898682,
           0.4237260867504528,
           0.403135961043797,
           0.7979613209121796,
           0.7441731491140721,
           0.7193543512802487,
           0.5987603990195183,
           0.6693833756978388,
           0.46651668517691275,
           0.517030933663925,
           0.49649166624541985,
           0.46432327631577563,
           0.5173687856797793,
           0.1535565655407905,
           0.5050512895064464,
           0.4459924086988668,
           0.43390614244414877,
           0.5733109477854756,
           0.7080545978985531,
           0.44604478781887713,
           0.5485691138049322,
           0.5782469095140089,
           0.4726669776574174,
           0.5136582831988057,
           0.5797390290653635,
           0.4356815218498523,
           0.41161225047259115,
           0.44595090880220356,
           0.4578663287219762,
           0.4961541372829804,
           0.4129777151414828,
           0.4841840488572039,
           0.5155183130575551,
           0.4684094604851685,
           0.4208639178268536,
           0.5364545708366645,
           0.9999999999999994
          ]
         ]
        }
       ],
       "layout": {
        "coloraxis": {
         "colorbar": {
          "title": {
           "text": "Similarity Score"
          }
         },
         "colorscale": [
          [
           0,
           "rgb(247,252,240)"
          ],
          [
           0.125,
           "rgb(224,243,219)"
          ],
          [
           0.25,
           "rgb(204,235,197)"
          ],
          [
           0.375,
           "rgb(168,221,181)"
          ],
          [
           0.5,
           "rgb(123,204,196)"
          ],
          [
           0.625,
           "rgb(78,179,211)"
          ],
          [
           0.75,
           "rgb(43,140,190)"
          ],
          [
           0.875,
           "rgb(8,104,172)"
          ],
          [
           1,
           "rgb(8,64,129)"
          ]
         ]
        },
        "height": 1000,
        "hoverlabel": {
         "bgcolor": "white",
         "font": {
          "family": "Rockwell",
          "size": 16
         }
        },
        "legend": {
         "title": {
          "text": "Trend"
         }
        },
        "margin": {
         "t": 60
        },
        "showlegend": true,
        "template": {
         "data": {
          "bar": [
           {
            "error_x": {
             "color": "#2a3f5f"
            },
            "error_y": {
             "color": "#2a3f5f"
            },
            "marker": {
             "line": {
              "color": "#E5ECF6",
              "width": 0.5
             },
             "pattern": {
              "fillmode": "overlay",
              "size": 10,
              "solidity": 0.2
             }
            },
            "type": "bar"
           }
          ],
          "barpolar": [
           {
            "marker": {
             "line": {
              "color": "#E5ECF6",
              "width": 0.5
             },
             "pattern": {
              "fillmode": "overlay",
              "size": 10,
              "solidity": 0.2
             }
            },
            "type": "barpolar"
           }
          ],
          "carpet": [
           {
            "aaxis": {
             "endlinecolor": "#2a3f5f",
             "gridcolor": "white",
             "linecolor": "white",
             "minorgridcolor": "white",
             "startlinecolor": "#2a3f5f"
            },
            "baxis": {
             "endlinecolor": "#2a3f5f",
             "gridcolor": "white",
             "linecolor": "white",
             "minorgridcolor": "white",
             "startlinecolor": "#2a3f5f"
            },
            "type": "carpet"
           }
          ],
          "choropleth": [
           {
            "colorbar": {
             "outlinewidth": 0,
             "ticks": ""
            },
            "type": "choropleth"
           }
          ],
          "contour": [
           {
            "colorbar": {
             "outlinewidth": 0,
             "ticks": ""
            },
            "colorscale": [
             [
              0,
              "#0d0887"
             ],
             [
              0.1111111111111111,
              "#46039f"
             ],
             [
              0.2222222222222222,
              "#7201a8"
             ],
             [
              0.3333333333333333,
              "#9c179e"
             ],
             [
              0.4444444444444444,
              "#bd3786"
             ],
             [
              0.5555555555555556,
              "#d8576b"
             ],
             [
              0.6666666666666666,
              "#ed7953"
             ],
             [
              0.7777777777777778,
              "#fb9f3a"
             ],
             [
              0.8888888888888888,
              "#fdca26"
             ],
             [
              1,
              "#f0f921"
             ]
            ],
            "type": "contour"
           }
          ],
          "contourcarpet": [
           {
            "colorbar": {
             "outlinewidth": 0,
             "ticks": ""
            },
            "type": "contourcarpet"
           }
          ],
          "heatmap": [
           {
            "colorbar": {
             "outlinewidth": 0,
             "ticks": ""
            },
            "colorscale": [
             [
              0,
              "#0d0887"
             ],
             [
              0.1111111111111111,
              "#46039f"
             ],
             [
              0.2222222222222222,
              "#7201a8"
             ],
             [
              0.3333333333333333,
              "#9c179e"
             ],
             [
              0.4444444444444444,
              "#bd3786"
             ],
             [
              0.5555555555555556,
              "#d8576b"
             ],
             [
              0.6666666666666666,
              "#ed7953"
             ],
             [
              0.7777777777777778,
              "#fb9f3a"
             ],
             [
              0.8888888888888888,
              "#fdca26"
             ],
             [
              1,
              "#f0f921"
             ]
            ],
            "type": "heatmap"
           }
          ],
          "heatmapgl": [
           {
            "colorbar": {
             "outlinewidth": 0,
             "ticks": ""
            },
            "colorscale": [
             [
              0,
              "#0d0887"
             ],
             [
              0.1111111111111111,
              "#46039f"
             ],
             [
              0.2222222222222222,
              "#7201a8"
             ],
             [
              0.3333333333333333,
              "#9c179e"
             ],
             [
              0.4444444444444444,
              "#bd3786"
             ],
             [
              0.5555555555555556,
              "#d8576b"
             ],
             [
              0.6666666666666666,
              "#ed7953"
             ],
             [
              0.7777777777777778,
              "#fb9f3a"
             ],
             [
              0.8888888888888888,
              "#fdca26"
             ],
             [
              1,
              "#f0f921"
             ]
            ],
            "type": "heatmapgl"
           }
          ],
          "histogram": [
           {
            "marker": {
             "pattern": {
              "fillmode": "overlay",
              "size": 10,
              "solidity": 0.2
             }
            },
            "type": "histogram"
           }
          ],
          "histogram2d": [
           {
            "colorbar": {
             "outlinewidth": 0,
             "ticks": ""
            },
            "colorscale": [
             [
              0,
              "#0d0887"
             ],
             [
              0.1111111111111111,
              "#46039f"
             ],
             [
              0.2222222222222222,
              "#7201a8"
             ],
             [
              0.3333333333333333,
              "#9c179e"
             ],
             [
              0.4444444444444444,
              "#bd3786"
             ],
             [
              0.5555555555555556,
              "#d8576b"
             ],
             [
              0.6666666666666666,
              "#ed7953"
             ],
             [
              0.7777777777777778,
              "#fb9f3a"
             ],
             [
              0.8888888888888888,
              "#fdca26"
             ],
             [
              1,
              "#f0f921"
             ]
            ],
            "type": "histogram2d"
           }
          ],
          "histogram2dcontour": [
           {
            "colorbar": {
             "outlinewidth": 0,
             "ticks": ""
            },
            "colorscale": [
             [
              0,
              "#0d0887"
             ],
             [
              0.1111111111111111,
              "#46039f"
             ],
             [
              0.2222222222222222,
              "#7201a8"
             ],
             [
              0.3333333333333333,
              "#9c179e"
             ],
             [
              0.4444444444444444,
              "#bd3786"
             ],
             [
              0.5555555555555556,
              "#d8576b"
             ],
             [
              0.6666666666666666,
              "#ed7953"
             ],
             [
              0.7777777777777778,
              "#fb9f3a"
             ],
             [
              0.8888888888888888,
              "#fdca26"
             ],
             [
              1,
              "#f0f921"
             ]
            ],
            "type": "histogram2dcontour"
           }
          ],
          "mesh3d": [
           {
            "colorbar": {
             "outlinewidth": 0,
             "ticks": ""
            },
            "type": "mesh3d"
           }
          ],
          "parcoords": [
           {
            "line": {
             "colorbar": {
              "outlinewidth": 0,
              "ticks": ""
             }
            },
            "type": "parcoords"
           }
          ],
          "pie": [
           {
            "automargin": true,
            "type": "pie"
           }
          ],
          "scatter": [
           {
            "fillpattern": {
             "fillmode": "overlay",
             "size": 10,
             "solidity": 0.2
            },
            "type": "scatter"
           }
          ],
          "scatter3d": [
           {
            "line": {
             "colorbar": {
              "outlinewidth": 0,
              "ticks": ""
             }
            },
            "marker": {
             "colorbar": {
              "outlinewidth": 0,
              "ticks": ""
             }
            },
            "type": "scatter3d"
           }
          ],
          "scattercarpet": [
           {
            "marker": {
             "colorbar": {
              "outlinewidth": 0,
              "ticks": ""
             }
            },
            "type": "scattercarpet"
           }
          ],
          "scattergeo": [
           {
            "marker": {
             "colorbar": {
              "outlinewidth": 0,
              "ticks": ""
             }
            },
            "type": "scattergeo"
           }
          ],
          "scattergl": [
           {
            "marker": {
             "colorbar": {
              "outlinewidth": 0,
              "ticks": ""
             }
            },
            "type": "scattergl"
           }
          ],
          "scattermapbox": [
           {
            "marker": {
             "colorbar": {
              "outlinewidth": 0,
              "ticks": ""
             }
            },
            "type": "scattermapbox"
           }
          ],
          "scatterpolar": [
           {
            "marker": {
             "colorbar": {
              "outlinewidth": 0,
              "ticks": ""
             }
            },
            "type": "scatterpolar"
           }
          ],
          "scatterpolargl": [
           {
            "marker": {
             "colorbar": {
              "outlinewidth": 0,
              "ticks": ""
             }
            },
            "type": "scatterpolargl"
           }
          ],
          "scatterternary": [
           {
            "marker": {
             "colorbar": {
              "outlinewidth": 0,
              "ticks": ""
             }
            },
            "type": "scatterternary"
           }
          ],
          "surface": [
           {
            "colorbar": {
             "outlinewidth": 0,
             "ticks": ""
            },
            "colorscale": [
             [
              0,
              "#0d0887"
             ],
             [
              0.1111111111111111,
              "#46039f"
             ],
             [
              0.2222222222222222,
              "#7201a8"
             ],
             [
              0.3333333333333333,
              "#9c179e"
             ],
             [
              0.4444444444444444,
              "#bd3786"
             ],
             [
              0.5555555555555556,
              "#d8576b"
             ],
             [
              0.6666666666666666,
              "#ed7953"
             ],
             [
              0.7777777777777778,
              "#fb9f3a"
             ],
             [
              0.8888888888888888,
              "#fdca26"
             ],
             [
              1,
              "#f0f921"
             ]
            ],
            "type": "surface"
           }
          ],
          "table": [
           {
            "cells": {
             "fill": {
              "color": "#EBF0F8"
             },
             "line": {
              "color": "white"
             }
            },
            "header": {
             "fill": {
              "color": "#C8D4E3"
             },
             "line": {
              "color": "white"
             }
            },
            "type": "table"
           }
          ]
         },
         "layout": {
          "annotationdefaults": {
           "arrowcolor": "#2a3f5f",
           "arrowhead": 0,
           "arrowwidth": 1
          },
          "autotypenumbers": "strict",
          "coloraxis": {
           "colorbar": {
            "outlinewidth": 0,
            "ticks": ""
           }
          },
          "colorscale": {
           "diverging": [
            [
             0,
             "#8e0152"
            ],
            [
             0.1,
             "#c51b7d"
            ],
            [
             0.2,
             "#de77ae"
            ],
            [
             0.3,
             "#f1b6da"
            ],
            [
             0.4,
             "#fde0ef"
            ],
            [
             0.5,
             "#f7f7f7"
            ],
            [
             0.6,
             "#e6f5d0"
            ],
            [
             0.7,
             "#b8e186"
            ],
            [
             0.8,
             "#7fbc41"
            ],
            [
             0.9,
             "#4d9221"
            ],
            [
             1,
             "#276419"
            ]
           ],
           "sequential": [
            [
             0,
             "#0d0887"
            ],
            [
             0.1111111111111111,
             "#46039f"
            ],
            [
             0.2222222222222222,
             "#7201a8"
            ],
            [
             0.3333333333333333,
             "#9c179e"
            ],
            [
             0.4444444444444444,
             "#bd3786"
            ],
            [
             0.5555555555555556,
             "#d8576b"
            ],
            [
             0.6666666666666666,
             "#ed7953"
            ],
            [
             0.7777777777777778,
             "#fb9f3a"
            ],
            [
             0.8888888888888888,
             "#fdca26"
            ],
            [
             1,
             "#f0f921"
            ]
           ],
           "sequentialminus": [
            [
             0,
             "#0d0887"
            ],
            [
             0.1111111111111111,
             "#46039f"
            ],
            [
             0.2222222222222222,
             "#7201a8"
            ],
            [
             0.3333333333333333,
             "#9c179e"
            ],
            [
             0.4444444444444444,
             "#bd3786"
            ],
            [
             0.5555555555555556,
             "#d8576b"
            ],
            [
             0.6666666666666666,
             "#ed7953"
            ],
            [
             0.7777777777777778,
             "#fb9f3a"
            ],
            [
             0.8888888888888888,
             "#fdca26"
            ],
            [
             1,
             "#f0f921"
            ]
           ]
          },
          "colorway": [
           "#636efa",
           "#EF553B",
           "#00cc96",
           "#ab63fa",
           "#FFA15A",
           "#19d3f3",
           "#FF6692",
           "#B6E880",
           "#FF97FF",
           "#FECB52"
          ],
          "font": {
           "color": "#2a3f5f"
          },
          "geo": {
           "bgcolor": "white",
           "lakecolor": "white",
           "landcolor": "#E5ECF6",
           "showlakes": true,
           "showland": true,
           "subunitcolor": "white"
          },
          "hoverlabel": {
           "align": "left"
          },
          "hovermode": "closest",
          "mapbox": {
           "style": "light"
          },
          "paper_bgcolor": "white",
          "plot_bgcolor": "#E5ECF6",
          "polar": {
           "angularaxis": {
            "gridcolor": "white",
            "linecolor": "white",
            "ticks": ""
           },
           "bgcolor": "#E5ECF6",
           "radialaxis": {
            "gridcolor": "white",
            "linecolor": "white",
            "ticks": ""
           }
          },
          "scene": {
           "xaxis": {
            "backgroundcolor": "#E5ECF6",
            "gridcolor": "white",
            "gridwidth": 2,
            "linecolor": "white",
            "showbackground": true,
            "ticks": "",
            "zerolinecolor": "white"
           },
           "yaxis": {
            "backgroundcolor": "#E5ECF6",
            "gridcolor": "white",
            "gridwidth": 2,
            "linecolor": "white",
            "showbackground": true,
            "ticks": "",
            "zerolinecolor": "white"
           },
           "zaxis": {
            "backgroundcolor": "#E5ECF6",
            "gridcolor": "white",
            "gridwidth": 2,
            "linecolor": "white",
            "showbackground": true,
            "ticks": "",
            "zerolinecolor": "white"
           }
          },
          "shapedefaults": {
           "line": {
            "color": "#2a3f5f"
           }
          },
          "ternary": {
           "aaxis": {
            "gridcolor": "white",
            "linecolor": "white",
            "ticks": ""
           },
           "baxis": {
            "gridcolor": "white",
            "linecolor": "white",
            "ticks": ""
           },
           "bgcolor": "#E5ECF6",
           "caxis": {
            "gridcolor": "white",
            "linecolor": "white",
            "ticks": ""
           }
          },
          "title": {
           "x": 0.05
          },
          "xaxis": {
           "automargin": true,
           "gridcolor": "white",
           "linecolor": "white",
           "ticks": "",
           "title": {
            "standoff": 15
           },
           "zerolinecolor": "white",
           "zerolinewidth": 2
          },
          "yaxis": {
           "automargin": true,
           "gridcolor": "white",
           "linecolor": "white",
           "ticks": "",
           "title": {
            "standoff": 15
           },
           "zerolinecolor": "white",
           "zerolinewidth": 2
          }
         }
        },
        "title": {
         "font": {
          "color": "Black",
          "size": 22
         },
         "text": "<b>Similarity Matrix",
         "x": 0.55,
         "xanchor": "center",
         "y": 0.95,
         "yanchor": "top"
        },
        "width": 1000,
        "xaxis": {
         "anchor": "y",
         "constrain": "domain",
         "domain": [
          0,
          1
         ],
         "scaleanchor": "y"
        },
        "yaxis": {
         "anchor": "x",
         "autorange": "reversed",
         "constrain": "domain",
         "domain": [
          0,
          1
         ]
        }
       }
      },
      "text/html": [
       "<div>                            <div id=\"c3f1b03f-84bb-457a-80b0-d060980dbe6b\" class=\"plotly-graph-div\" style=\"height:1000px; width:1000px;\"></div>            <script type=\"text/javascript\">                require([\"plotly\"], function(Plotly) {                    window.PLOTLYENV=window.PLOTLYENV || {};                                    if (document.getElementById(\"c3f1b03f-84bb-457a-80b0-d060980dbe6b\")) {                    Plotly.newPlot(                        \"c3f1b03f-84bb-457a-80b0-d060980dbe6b\",                        [{\"coloraxis\":\"coloraxis\",\"name\":\"0\",\"x\":[\"-1_fire_home_fall\",\"36_fire_house_firefighter\",\"0_sleep_autopsy_bed\",\"1_drown_death_autopsy\",\"6_pool_boy_child\",\"16_drown_hot_tub_autopsy\",\"17_pronounce_dead_pool_swim...\",\"32_bathtub_drown_autopsy\",\"33_drown_swimming_pool_auto...\",\"2_bicycle_ride_strike\",\"15_bicyclist_bicycle_vehicle\",\"31_snowmobile_trail_tree\",\"3_terrain_vehicle_autopsy_g...\",\"7_atv_crash_pronounce_dead\",\"4_head_fall_floor\",\"8_ladder_pronounce_fall\",\"25_stair_fall_head\",\"26_hip_fracture_floor_fall\",\"38_nursing_fall_floor\",\"5_nan_apneic_yet\",\"9_oven_turn_burner\",\"21_microwave_door_oven\",\"27_refrigerator_fridge_free...\",\"10_toy_battery_mouth\",\"11_mower_lawn_mower_tractor\",\"12_electrical_extension_cor...\",\"30_phone_charger_device\",\"13_dryer_washer_machine\",\"23_dishwasher_melt_door\",\"14_carbon_monoxide_generato...\",\"35_garage_carbon_monoxide_a...\",\"18_thermal_burn_inhalation\",\"37_difluoroethane_autopsy_i...\",\"19_glass_shatter_oven\",\"20_candle_apartment_fire\",\"40_space_heater_fire_house\",\"22_bulb_lamp_light\",\"24_rash_wrist_diaper\",\"28_chair_seat_shade\",\"29_firework_hand_explode\",\"41_chimney_fire_home\",\"34_blade_fan_food_processor\",\"39_scooter_hoverboard_driver\"],\"y\":[\"-1_fire_home_fall\",\"36_fire_house_firefighter\",\"0_sleep_autopsy_bed\",\"1_drown_death_autopsy\",\"6_pool_boy_child\",\"16_drown_hot_tub_autopsy\",\"17_pronounce_dead_pool_swim...\",\"32_bathtub_drown_autopsy\",\"33_drown_swimming_pool_auto...\",\"2_bicycle_ride_strike\",\"15_bicyclist_bicycle_vehicle\",\"31_snowmobile_trail_tree\",\"3_terrain_vehicle_autopsy_g...\",\"7_atv_crash_pronounce_dead\",\"4_head_fall_floor\",\"8_ladder_pronounce_fall\",\"25_stair_fall_head\",\"26_hip_fracture_floor_fall\",\"38_nursing_fall_floor\",\"5_nan_apneic_yet\",\"9_oven_turn_burner\",\"21_microwave_door_oven\",\"27_refrigerator_fridge_free...\",\"10_toy_battery_mouth\",\"11_mower_lawn_mower_tractor\",\"12_electrical_extension_cor...\",\"30_phone_charger_device\",\"13_dryer_washer_machine\",\"23_dishwasher_melt_door\",\"14_carbon_monoxide_generato...\",\"35_garage_carbon_monoxide_a...\",\"18_thermal_burn_inhalation\",\"37_difluoroethane_autopsy_i...\",\"19_glass_shatter_oven\",\"20_candle_apartment_fire\",\"40_space_heater_fire_house\",\"22_bulb_lamp_light\",\"24_rash_wrist_diaper\",\"28_chair_seat_shade\",\"29_firework_hand_explode\",\"41_chimney_fire_home\",\"34_blade_fan_food_processor\",\"39_scooter_hoverboard_driver\"],\"z\":[[1.0000000000000002,0.8718530012430026,0.716228848856655,0.6974006748049723,0.6721965712015309,0.6710023281676456,0.6361773162971468,0.6871541279030379,0.6527519707199039,0.637702732464331,0.64216841849159,0.5946082339448946,0.670772250246769,0.6937207023519157,0.8505421984288644,0.7484181766604899,0.7869781252982732,0.7666092202232535,0.8122183157533077,0.32464008798872535,0.6871244783777022,0.6016072234356941,0.600088439131239,0.6055580991715752,0.6132767034024548,0.586158296636149,0.5698190092040705,0.573038525220115,0.6313482669573234,0.7182812104770281,0.7119795672487101,0.7801311327656735,0.6653935737241872,0.7181648269338202,0.8041489250996741,0.8313230134414995,0.5684019648008176,0.671050521289188,0.6279040602035961,0.7563012859221724,0.7686291503385081,0.5837416726207741,0.49258665721008443],[0.8718530012430026,1.0000000000000004,0.7245875576201272,0.7361403947255977,0.6749355772896538,0.6782440931275533,0.6609675509406439,0.6592811826759586,0.6511540810936246,0.6428978918163989,0.6448302492454334,0.5818623435141641,0.6508784424796821,0.6877679422261339,0.7428357950566056,0.6956188603799707,0.7148026527651601,0.7031382148635087,0.7261326685840176,0.3270157818187708,0.6506659187122695,0.594388956131876,0.5982541009105024,0.6164730943846045,0.6242399864895912,0.5659174136741572,0.5623939359878765,0.5682457588608516,0.606575294734309,0.6768084693751709,0.6772215801076901,0.759314209940158,0.6447329601469781,0.6806012304549327,0.7794546636876946,0.8552199389287738,0.554903056921253,0.6071949318985203,0.5746761962743059,0.7372688696616116,0.7416757276914256,0.5817529009925326,0.4889975669873572],[0.716228848856655,0.7245875576201272,0.9999999999999997,0.7935116543189448,0.6527875497715816,0.7508671842917609,0.6738176488970136,0.7124171131967334,0.7338884320856707,0.5816619176480936,0.5724195610187202,0.5141920196514315,0.7049630114077146,0.6724950739711403,0.7491846295391777,0.7143460721827344,0.7336748683110953,0.7042130453034732,0.7314739224195432,0.40545671679545897,0.5316925924196515,0.497850544920998,0.5228415774383237,0.6078189975841185,0.5277900407090705,0.5069060258857039,0.5048284360803941,0.5583420768606022,0.5124090367031711,0.5942299942807372,0.6821719031087636,0.7180790430575164,0.6618411350301431,0.5798674361512219,0.5987623345184094,0.6456495022472222,0.4886641978815663,0.6152484882379065,0.5790971763158441,0.5696677433615429,0.5368798703698108,0.5449830952717192,0.43609580098352585],[0.6974006748049723,0.7361403947255977,0.7935116543189448,0.9999999999999993,0.8015368150286725,0.921067543754196,0.8246688709815658,0.8273506453905399,0.9263681575153518,0.5900391898768796,0.5708639125619299,0.5122908325298243,0.7167339301483862,0.6924694734760346,0.7279510293859424,0.6835698936109214,0.711684749016982,0.672371116395452,0.6636907741431827,0.3573787953913203,0.48503750571783644,0.48600911546828146,0.4735461137739136,0.5558666415571042,0.5156715462098144,0.48137783305044274,0.48768016548598214,0.5181551686054472,0.5185988362526355,0.5565292860182705,0.6805208348628904,0.707471535688651,0.6705353981008484,0.5827621556934036,0.5715061787108102,0.6441011564066563,0.45507820738394383,0.5887052053928944,0.524950627167422,0.5827790992604196,0.505479844743351,0.503013411226229,0.3993305651058864],[0.6721965712015309,0.6749355772896538,0.6527875497715816,0.8015368150286725,1.0,0.7982537138604802,0.8097407803767763,0.7367112912257907,0.8225299311713226,0.6167878064375174,0.6031028548511066,0.5783054146094755,0.604052896862308,0.6724425537363026,0.6415051374038239,0.6233172472735368,0.6048364923045265,0.6086743666764002,0.65853758486161,0.36789054485992667,0.5031350951018156,0.4982849234838016,0.4981000539493185,0.6711349136486987,0.5632758797463835,0.4887098900472465,0.5043704039199473,0.5409060256391494,0.4943659569888427,0.5762465723052882,0.616424890661965,0.5704239061767605,0.5081832685334269,0.593043890067581,0.5826562766544882,0.6542739771320772,0.48014075649910093,0.6013113909214561,0.5851299331159889,0.5679500168031628,0.539212146200472,0.5044765417027515,0.47021554750130334],[0.6710023281676456,0.6782440931275533,0.7508671842917609,0.921067543754196,0.7982537138604802,1.0,0.8095250901503899,0.907319987304956,0.9674066876023633,0.5662942179270481,0.5416764949440046,0.5109717310104297,0.6570729573381385,0.6721517006500058,0.6796186462670295,0.6454193346391631,0.6468036869991757,0.6262085387562809,0.6285931686082739,0.33019830386800886,0.503934600122354,0.5003364924755114,0.48381425678983636,0.501663852110271,0.5163263750003164,0.46701885843746677,0.4378509372080363,0.5225537182014318,0.5253170130000577,0.5548376861002722,0.6756006610585927,0.6685758037979633,0.6241700266026129,0.5809922501901679,0.5670733788609578,0.6423546205664852,0.42260850778973413,0.5389103068440005,0.5233470767461463,0.5277218952515883,0.5015873693297298,0.46288836800139976,0.40279151143786807],[0.6361773162971468,0.6609675509406439,0.6738176488970136,0.8246688709815658,0.8097407803767763,0.8095250901503899,0.9999999999999998,0.7236663504161602,0.842769074720684,0.562713668081724,0.5615627392919134,0.5280478036857743,0.6406223080423536,0.7287987411402624,0.6297035428483829,0.757132663649798,0.6063221442940808,0.6362387535592933,0.6461682052783759,0.3444972684120001,0.47000827243599574,0.46919866357500445,0.46718597270659884,0.5424783785417087,0.5289693871398282,0.4610153240561987,0.49482910071376696,0.5260227912566374,0.48456302666440165,0.5472326395912142,0.6181340551857639,0.5650707050130568,0.5659451496670987,0.5642354811029121,0.534903710004123,0.6095451615544806,0.44253928101774037,0.5538259960124922,0.515682721876644,0.533882406323404,0.4950491457063063,0.48687012401395374,0.421025025898682],[0.6871541279030379,0.6592811826759586,0.7124171131967334,0.8273506453905399,0.7367112912257907,0.907319987304956,0.7236663504161602,1.0000000000000007,0.8798099309360484,0.527244930694058,0.5204954018984143,0.48378494330933475,0.5741174508491773,0.5975147581033211,0.7010885884402411,0.6328437586608487,0.6526070456199206,0.5977599677439693,0.6408708242178831,0.3003660161973968,0.5056247825020376,0.52171127750925,0.52399198095651,0.5337336262360206,0.4957868002221414,0.46714146153793346,0.4545919950855556,0.5280848869381758,0.5428835681120595,0.5402823229737705,0.663674593974422,0.6164237537786522,0.6102287869850083,0.6310351871776356,0.6329065205703124,0.6130127626527209,0.46908394941917686,0.5480593309524466,0.5662982840973089,0.5184525686365533,0.5428502330075672,0.45948672271098445,0.4237260867504528],[0.6527519707199039,0.6511540810936246,0.7338884320856707,0.9263681575153518,0.8225299311713226,0.9674066876023633,0.842769074720684,0.8798099309360484,1.0,0.5677295662483991,0.5521863941848342,0.5039600704860406,0.6716011821651888,0.6689898538315879,0.6593149053223459,0.6461349063264846,0.6387383459343958,0.6178292428855675,0.6302494282513319,0.3237695004410664,0.47052143685149905,0.4686630660349962,0.46082440908047173,0.5016582730402963,0.5067599782316025,0.4539103012792471,0.44998801724277093,0.5138320091698274,0.4963156642854961,0.5467506885244513,0.6800705061929174,0.620201635397056,0.6008101872547899,0.5582252753912842,0.5665571720215494,0.6186061768603124,0.42464144686919847,0.5276876878871023,0.5072752619566222,0.5000615873133787,0.4892093491079297,0.44309348417381433,0.403135961043797],[0.637702732464331,0.6428978918163989,0.5816619176480936,0.5900391898768796,0.6167878064375174,0.5662942179270481,0.562713668081724,0.527244930694058,0.5677295662483991,1.0000000000000007,0.9510087250417694,0.7563195248179908,0.7042361122108147,0.8000237107978351,0.6072009932053131,0.6063164667926909,0.6215618229357449,0.5950137650755195,0.6370785068493122,0.2553396055950064,0.582522074968471,0.4824776706770048,0.47064540267340466,0.5861149936380068,0.7133884321944172,0.4877139746144197,0.595584741972268,0.5841775342896405,0.5504009725328313,0.5876270922044026,0.6946495956066608,0.5697413782998236,0.5073202653016455,0.5362336926452391,0.5508854591069321,0.5740819604200829,0.4879571706640313,0.5717122037441977,0.5802887824008413,0.5737158854615583,0.4672881785243972,0.5578630439166257,0.7979613209121796],[0.64216841849159,0.6448302492454334,0.5724195610187202,0.5708639125619299,0.6031028548511066,0.5416764949440046,0.5615627392919134,0.5204954018984143,0.5521863941848342,0.9510087250417694,1.0000000000000004,0.7212950640346224,0.7253088107657145,0.7687338549260075,0.600231242050959,0.6105928915561081,0.632509524028952,0.6016297152841685,0.6643352677956732,0.2724294215953983,0.5775128556165695,0.4883364694002872,0.4947886518875424,0.5654215080093078,0.6830063205471255,0.49026815052167383,0.5968054435923983,0.6050556343065363,0.5508504460830347,0.6036745558266858,0.7034108527952293,0.5630668796339192,0.5083884118400862,0.5230488470616139,0.5492669352048005,0.5681915785183754,0.5035755047278604,0.5820326536202591,0.5588916757468584,0.5583517174520729,0.45625529853697067,0.5524244297245297,0.7441731491140721],[0.5946082339448946,0.5818623435141641,0.5141920196514315,0.5122908325298243,0.5783054146094755,0.5109717310104297,0.5280478036857743,0.48378494330933475,0.5039600704860406,0.7563195248179908,0.7212950640346224,1.0,0.6864294496090451,0.7977262718255858,0.5500309509991753,0.6053883658284223,0.5981223168431358,0.5493491500167613,0.5900214013359288,0.27049177326308704,0.5040585940450945,0.4552107784672714,0.5324907847392487,0.6170481059132371,0.6937003742728396,0.47070580818677055,0.5466591494823312,0.4970629275904958,0.4616681325135037,0.5616704692485116,0.6382351149122418,0.5275327344176373,0.4941657971993704,0.4972292244761828,0.5143702652887202,0.5648293338812391,0.4423993418175468,0.521203018409943,0.527500235031302,0.5467517470680983,0.5165422171478102,0.5521224582018632,0.7193543512802487],[0.670772250246769,0.6508784424796821,0.7049630114077146,0.7167339301483862,0.604052896862308,0.6570729573381385,0.6406223080423536,0.5741174508491773,0.6716011821651888,0.7042361122108147,0.7253088107657145,0.6864294496090451,0.9999999999999992,0.7655081872539248,0.7216643157374685,0.7091770717760117,0.756457548393692,0.674260737180918,0.6726672310169639,0.27433453055455725,0.5445904048049776,0.4676052858959664,0.4672720891404687,0.5999706322999201,0.6593686226905977,0.5484529279775916,0.5579416504689209,0.5940286191212268,0.4902449425964587,0.6029658378046155,0.7280045190741152,0.6496537508667759,0.6043228088965409,0.5424269903603329,0.5191780078273024,0.5918120735030584,0.49405028209265717,0.5980605468881639,0.527134977024263,0.5899450441009386,0.4846658062399263,0.6126825701993232,0.5987603990195183],[0.6937207023519157,0.6877679422261339,0.6724950739711403,0.6924694734760346,0.6724425537363026,0.6721517006500058,0.7287987411402624,0.5975147581033211,0.6689898538315879,0.8000237107978351,0.7687338549260075,0.7977262718255858,0.7655081872539248,1.0,0.659379599105687,0.7173697143571918,0.6780410000533816,0.6792478777999239,0.6981530768022377,0.34113055965362504,0.5675152757620882,0.5026372283732112,0.4797452344658376,0.586341624903786,0.6685769479617969,0.510245292961774,0.5798203465634804,0.5451335795262765,0.5418425464508425,0.5975442048559875,0.7022598449036711,0.5936427079940795,0.5660008297905506,0.5598263540227826,0.547342701942429,0.6577532994829054,0.4535756132390318,0.5789594721262314,0.5751726301825854,0.5833526217892555,0.5234068997352704,0.5659149700103927,0.6693833756978388],[0.8505421984288644,0.7428357950566056,0.7491846295391777,0.7279510293859424,0.6415051374038239,0.6796186462670295,0.6297035428483829,0.7010885884402411,0.6593149053223459,0.6072009932053131,0.600231242050959,0.5500309509991753,0.7216643157374685,0.659379599105687,0.9999999999999998,0.8167274248832321,0.873390414503983,0.8354864230288245,0.8519889052769498,0.3155897938310138,0.5588564471440952,0.5090629701473572,0.5276607775783427,0.5959884892717272,0.5349233079281611,0.5450961591894781,0.5227827237618516,0.5536022129996826,0.5485876920503457,0.6348225248213302,0.6662733890383068,0.699438071349777,0.6445591225999058,0.6713833252697272,0.651378020947726,0.6572444387223646,0.5603396315557033,0.6608453731060036,0.6275221569083869,0.6359099523764753,0.5963315509204234,0.5930814221307605,0.46651668517691275],[0.7484181766604899,0.6956188603799707,0.7143460721827344,0.6835698936109214,0.6233172472735368,0.6454193346391631,0.757132663649798,0.6328437586608487,0.6461349063264846,0.6063164667926909,0.6105928915561081,0.6053883658284223,0.7091770717760117,0.7173697143571918,0.8167274248832321,1.0000000000000004,0.8518101420232493,0.796241956835161,0.817388253258561,0.29734407083519354,0.5509505481501229,0.4833498812835836,0.49979134834359,0.5767020877588196,0.5653855199676061,0.5417170142308034,0.5586778527760096,0.5763233995108177,0.5303937718021329,0.6212752555598446,0.6530036104397523,0.620837788617731,0.6019875603009579,0.6243680693750421,0.6001304974736054,0.6228875082785308,0.5314420619710832,0.6399435864984881,0.6366791026569982,0.5922792799245437,0.6159591397177786,0.6168619016657841,0.517030933663925],[0.7869781252982732,0.7148026527651601,0.7336748683110953,0.711684749016982,0.6048364923045265,0.6468036869991757,0.6063221442940808,0.6526070456199206,0.6387383459343958,0.6215618229357449,0.632509524028952,0.5981223168431358,0.756457548393692,0.6780410000533816,0.873390414503983,0.8518101420232493,0.9999999999999997,0.800388388611804,0.8212263946331256,0.3275193489776591,0.5464391587053751,0.49192279103305003,0.4909597598895397,0.5672057955325096,0.5278508623580608,0.49212720272587185,0.5033860369293705,0.5510502429825811,0.5356172608901981,0.6129351793531665,0.672704477529477,0.6659599769712712,0.6342107341048684,0.6467612776077125,0.6291340275962318,0.6154182056369952,0.5253131310963768,0.6426365487853098,0.59944853247424,0.5852156867185758,0.6122127982746565,0.5926037100615896,0.49649166624541985],[0.7666092202232535,0.7031382148635087,0.7042130453034732,0.672371116395452,0.6086743666764002,0.6262085387562809,0.6362387535592933,0.5977599677439693,0.6178292428855675,0.5950137650755195,0.6016297152841685,0.5493491500167613,0.674260737180918,0.6792478777999239,0.8354864230288245,0.796241956835161,0.800388388611804,1.0,0.9373467523108765,0.31063475635130827,0.5467627261369362,0.49096981023361386,0.524512719151357,0.5257611762055111,0.5427159939786745,0.4843393883971643,0.5141161004331967,0.5292201472861386,0.528185410356165,0.6214457383010666,0.6301265375150484,0.6403881384906203,0.5973298633771493,0.6428961603771961,0.5961986384308,0.6525271279524505,0.5046678963535314,0.6411812593142991,0.6127551110029597,0.5826281842523113,0.5796324012629226,0.537673491404349,0.46432327631577563],[0.8122183157533077,0.7261326685840176,0.7314739224195432,0.6636907741431827,0.65853758486161,0.6285931686082739,0.6461682052783759,0.6408708242178831,0.6302494282513319,0.6370785068493122,0.6643352677956732,0.5900214013359288,0.6726672310169639,0.6981530768022377,0.8519889052769498,0.817388253258561,0.8212263946331256,0.9373467523108765,0.9999999999999993,0.38372753306623597,0.5804402579633849,0.5382779501961281,0.5605346651756177,0.5840522950239191,0.5703209761031904,0.5086672235803289,0.5375779699701441,0.5790337440492374,0.5631858096386408,0.6505056115318617,0.6502462313077203,0.6392192279604946,0.5944754038709803,0.6822471497347335,0.6604799627643378,0.6875982812519321,0.5503808739997651,0.6751859636026576,0.6897342283651131,0.6095630179136264,0.6265021713238086,0.5803648122705576,0.5173687856797793],[0.32464008798872535,0.3270157818187708,0.40545671679545897,0.3573787953913203,0.36789054485992667,0.33019830386800886,0.3444972684120001,0.3003660161973968,0.3237695004410664,0.2553396055950064,0.2724294215953983,0.27049177326308704,0.27433453055455725,0.34113055965362504,0.3155897938310138,0.29734407083519354,0.3275193489776591,0.31063475635130827,0.38372753306623597,1.0000000000000009,0.2589809668457831,0.3217351149448836,0.27250552427970953,0.4049750171951426,0.2514656342292224,0.22765184113822723,0.2524915032113794,0.28506648021307124,0.29361630828195656,0.30813478265482996,0.2673410306879723,0.33407255534214764,0.3266712567389108,0.3004584204926599,0.3038586753946265,0.32052783061528434,0.21323179158055497,0.32174674999151726,0.3190066272262323,0.29507827916600776,0.22041363643264536,0.2741848971550424,0.1535565655407905],[0.6871244783777022,0.6506659187122695,0.5316925924196515,0.48503750571783644,0.5031350951018156,0.503934600122354,0.47000827243599574,0.5056247825020376,0.47052143685149905,0.582522074968471,0.5775128556165695,0.5040585940450945,0.5445904048049776,0.5675152757620882,0.5588564471440952,0.5509505481501229,0.5464391587053751,0.5467627261369362,0.5804402579633849,0.2589809668457831,0.9999999999999998,0.7845116723211996,0.7034117501615942,0.5489648215863154,0.6259848774917713,0.5481542751361373,0.5455118361572835,0.6238916135152919,0.6541415299650122,0.6667482985715778,0.6110313150166469,0.6856291493840267,0.5114297886979025,0.7351863241805452,0.7396297830893752,0.7092383574479585,0.5879187030114821,0.547974889822999,0.5287896897233667,0.590639702215255,0.6924347194772623,0.6024506749174009,0.5050512895064464],[0.6016072234356941,0.594388956131876,0.497850544920998,0.48600911546828146,0.4982849234838016,0.5003364924755114,0.46919866357500445,0.52171127750925,0.4686630660349962,0.4824776706770048,0.4883364694002872,0.4552107784672714,0.4676052858959664,0.5026372283732112,0.5090629701473572,0.4833498812835836,0.49192279103305003,0.49096981023361386,0.5382779501961281,0.3217351149448836,0.7845116723211996,0.9999999999999993,0.6970936309057048,0.5468709460795326,0.5567889869563711,0.5465013094549772,0.5295791727020379,0.5740908165401206,0.6525390571071934,0.5996945288098458,0.5168414360361959,0.5870827124143829,0.4621684984800055,0.7423859942406419,0.6867297927236791,0.6481422558487714,0.5442595688704036,0.48766479559812703,0.48476625634921655,0.5565199686705368,0.5851764163145096,0.5554873420839419,0.4459924086988668],[0.600088439131239,0.5982541009105024,0.5228415774383237,0.4735461137739136,0.4981000539493185,0.48381425678983636,0.46718597270659884,0.52399198095651,0.46082440908047173,0.47064540267340466,0.4947886518875424,0.5324907847392487,0.4672720891404687,0.4797452344658376,0.5276607775783427,0.49979134834359,0.4909597598895397,0.524512719151357,0.5605346651756177,0.27250552427970953,0.7034117501615942,0.6970936309057048,1.0000000000000002,0.561577178986881,0.5944250621358067,0.5051463605763045,0.5203147290396409,0.5824973364170508,0.6203815224288536,0.6529558977993233,0.5714469694633222,0.6110695549749594,0.5165865942117773,0.6837580394426328,0.6572447485260668,0.6352127195572921,0.5125692350852977,0.4691437324623196,0.4114389613939299,0.48134760323768605,0.5910796578072908,0.6013892183899645,0.43390614244414877],[0.6055580991715752,0.6164730943846045,0.6078189975841185,0.5558666415571042,0.6711349136486987,0.501663852110271,0.5424783785417087,0.5337336262360206,0.5016582730402963,0.5861149936380068,0.5654215080093078,0.6170481059132371,0.5999706322999201,0.586341624903786,0.5959884892717272,0.5767020877588196,0.5672057955325096,0.5257611762055111,0.5840522950239191,0.4049750171951426,0.5489648215863154,0.5468709460795326,0.561577178986881,0.9999999999999993,0.6216593654507836,0.5528328656773133,0.6494602361013769,0.5593102400289909,0.505215420885924,0.5824537017597949,0.5688463331609149,0.5819590263007699,0.5172513972936443,0.5720193002301661,0.5861674234969128,0.6007459395075968,0.5659423491613083,0.6194076191821852,0.5180332025048464,0.5720171749263846,0.5138652169266534,0.5929197919105649,0.5733109477854756],[0.6132767034024548,0.6242399864895912,0.5277900407090705,0.5156715462098144,0.5632758797463835,0.5163263750003164,0.5289693871398282,0.4957868002221414,0.5067599782316025,0.7133884321944172,0.6830063205471255,0.6937003742728396,0.6593686226905977,0.6685769479617969,0.5349233079281611,0.5653855199676061,0.5278508623580608,0.5427159939786745,0.5703209761031904,0.2514656342292224,0.6259848774917713,0.5567889869563711,0.5944250621358067,0.6216593654507836,1.0000000000000002,0.5720830458218302,0.5882883796449785,0.6880776295877722,0.556579948550036,0.72316037085769,0.6879601101953872,0.589870304552182,0.5657863079791327,0.5777491823565187,0.6265739719657808,0.6378272307043762,0.5200065619184584,0.4725747552129044,0.5292061372235454,0.581832141298477,0.6045743749388803,0.6157043507396897,0.7080545978985531],[0.586158296636149,0.5659174136741572,0.5069060258857039,0.48137783305044274,0.4887098900472465,0.46701885843746677,0.4610153240561987,0.46714146153793346,0.4539103012792471,0.4877139746144197,0.49026815052167383,0.47070580818677055,0.5484529279775916,0.510245292961774,0.5450961591894781,0.5417170142308034,0.49212720272587185,0.4843393883971643,0.5086672235803289,0.22765184113822723,0.5481542751361373,0.5465013094549772,0.5051463605763045,0.5528328656773133,0.5720830458218302,0.9999999999999994,0.7210598151883748,0.5497076020050369,0.4809796558661234,0.6507081221149914,0.5230087014838194,0.5617301603189273,0.46063445039210965,0.5310519557371348,0.6060393085392423,0.6093206256231886,0.6428722864575016,0.47541127752858986,0.42907864278749086,0.6070824663637251,0.5105276527174896,0.5252854655713943,0.44604478781887713],[0.5698190092040705,0.5623939359878765,0.5048284360803941,0.48768016548598214,0.5043704039199473,0.4378509372080363,0.49482910071376696,0.4545919950855556,0.44998801724277093,0.595584741972268,0.5968054435923983,0.5466591494823312,0.5579416504689209,0.5798203465634804,0.5227827237618516,0.5586778527760096,0.5033860369293705,0.5141161004331967,0.5375779699701441,0.2524915032113794,0.5455118361572835,0.5295791727020379,0.5203147290396409,0.6494602361013769,0.5882883796449785,0.7210598151883748,1.0,0.5625108800562886,0.48059892373447616,0.570260209485828,0.5171138702577399,0.5155056702743284,0.4291007234378495,0.5447499019827259,0.5559401037022553,0.5476429595180762,0.567629464655548,0.5377044099964753,0.4778305280260162,0.5234701446732992,0.4617794913603104,0.5584638840690848,0.5485691138049322],[0.573038525220115,0.5682457588608516,0.5583420768606022,0.5181551686054472,0.5409060256391494,0.5225537182014318,0.5260227912566374,0.5280848869381758,0.5138320091698274,0.5841775342896405,0.6050556343065363,0.4970629275904958,0.5940286191212268,0.5451335795262765,0.5536022129996826,0.5763233995108177,0.5510502429825811,0.5292201472861386,0.5790337440492374,0.28506648021307124,0.6238916135152919,0.5740908165401206,0.5824973364170508,0.5593102400289909,0.6880776295877722,0.5497076020050369,0.5625108800562886,1.0,0.7058093381197182,0.6242376270014721,0.5944192325380533,0.5526856627458812,0.5218979544476912,0.565663330007288,0.5530213822560056,0.5775998085451433,0.5104735685815843,0.5916227718441299,0.5119663964238034,0.5219543583409191,0.4969127381908838,0.6123637583126955,0.5782469095140089],[0.6313482669573234,0.606575294734309,0.5124090367031711,0.5185988362526355,0.4943659569888427,0.5253170130000577,0.48456302666440165,0.5428835681120595,0.4963156642854961,0.5504009725328313,0.5508504460830347,0.4616681325135037,0.4902449425964587,0.5418425464508425,0.5485876920503457,0.5303937718021329,0.5356172608901981,0.528185410356165,0.5631858096386408,0.29361630828195656,0.6541415299650122,0.6525390571071934,0.6203815224288536,0.505215420885924,0.556579948550036,0.4809796558661234,0.48059892373447616,0.7058093381197182,0.9999999999999993,0.5437819484599871,0.5382070473732633,0.579329910216301,0.5247990439514099,0.6852759738277439,0.5928284826031117,0.6098585200187261,0.451939744724946,0.5515481321296947,0.4808479996483799,0.5825844032835307,0.5258021434283358,0.5404182510293789,0.4726669776574174],[0.7182812104770281,0.6768084693751709,0.5942299942807372,0.5565292860182705,0.5762465723052882,0.5548376861002722,0.5472326395912142,0.5402823229737705,0.5467506885244513,0.5876270922044026,0.6036745558266858,0.5616704692485116,0.6029658378046155,0.5975442048559875,0.6348225248213302,0.6212752555598446,0.6129351793531665,0.6214457383010666,0.6505056115318617,0.30813478265482996,0.6667482985715778,0.5996945288098458,0.6529558977993233,0.5824537017597949,0.72316037085769,0.6507081221149914,0.570260209485828,0.6242376270014721,0.5437819484599871,0.9999999999999998,0.7707632149794077,0.6920023070607487,0.6811264592801186,0.6396946414660245,0.7230373067011633,0.7412772256274571,0.6176874057550077,0.4743211358032188,0.46295289228033953,0.6409491137931946,0.7071256135952397,0.5441064301521881,0.5136582831988057],[0.7119795672487101,0.6772215801076901,0.6821719031087636,0.6805208348628904,0.616424890661965,0.6756006610585927,0.6181340551857639,0.663674593974422,0.6800705061929174,0.6946495956066608,0.7034108527952293,0.6382351149122418,0.7280045190741152,0.7022598449036711,0.6662733890383068,0.6530036104397523,0.672704477529477,0.6301265375150484,0.6502462313077203,0.2673410306879723,0.6110313150166469,0.5168414360361959,0.5714469694633222,0.5688463331609149,0.6879601101953872,0.5230087014838194,0.5171138702577399,0.5944192325380533,0.5382070473732633,0.7707632149794077,1.0000000000000007,0.7201388845912378,0.7570446558135948,0.6006475707069356,0.6716631274887123,0.6560670330936589,0.5172775993176566,0.5227074327211093,0.5241001312888922,0.5699305463036428,0.650485876865326,0.5349433993973194,0.5797390290653635],[0.7801311327656735,0.759314209940158,0.7180790430575164,0.707471535688651,0.5704239061767605,0.6685758037979633,0.5650707050130568,0.6164237537786522,0.620201635397056,0.5697413782998236,0.5630668796339192,0.5275327344176373,0.6496537508667759,0.5936427079940795,0.699438071349777,0.620837788617731,0.6659599769712712,0.6403881384906203,0.6392192279604946,0.33407255534214764,0.6856291493840267,0.5870827124143829,0.6110695549749594,0.5819590263007699,0.589870304552182,0.5617301603189273,0.5155056702743284,0.5526856627458812,0.579329910216301,0.6920023070607487,0.7201388845912378,1.0000000000000004,0.7517260242941882,0.6508309724012262,0.6959498592145563,0.7075681860475573,0.5206600733267327,0.6544108549227869,0.5319505803329625,0.7041010581207181,0.6644153303599469,0.5475508838518262,0.4356815218498523],[0.6653935737241872,0.6447329601469781,0.6618411350301431,0.6705353981008484,0.5081832685334269,0.6241700266026129,0.5659451496670987,0.6102287869850083,0.6008101872547899,0.5073202653016455,0.5083884118400862,0.4941657971993704,0.6043228088965409,0.5660008297905506,0.6445591225999058,0.6019875603009579,0.6342107341048684,0.5973298633771493,0.5944754038709803,0.3266712567389108,0.5114297886979025,0.4621684984800055,0.5165865942117773,0.5172513972936443,0.5657863079791327,0.46063445039210965,0.4291007234378495,0.5218979544476912,0.5247990439514099,0.6811264592801186,0.7570446558135948,0.7517260242941882,0.9999999999999998,0.574256436608785,0.6118804483279039,0.5938226404467309,0.45767877322055106,0.49625299235113196,0.4434585743255043,0.6186027318282694,0.5943449434970064,0.5304994160894712,0.41161225047259115],[0.7181648269338202,0.6806012304549327,0.5798674361512219,0.5827621556934036,0.593043890067581,0.5809922501901679,0.5642354811029121,0.6310351871776356,0.5582252753912842,0.5362336926452391,0.5230488470616139,0.4972292244761828,0.5424269903603329,0.5598263540227826,0.6713833252697272,0.6243680693750421,0.6467612776077125,0.6428961603771961,0.6822471497347335,0.3004584204926599,0.7351863241805452,0.7423859942406419,0.6837580394426328,0.5720193002301661,0.5777491823565187,0.5310519557371348,0.5447499019827259,0.565663330007288,0.6852759738277439,0.6396946414660245,0.6006475707069356,0.6508309724012262,0.574256436608785,1.0000000000000004,0.7625013287040733,0.6783917355570953,0.6296609988273419,0.5783916435056111,0.5799494068873465,0.6750763199203164,0.6803008670732134,0.6026421797565233,0.44595090880220356],[0.8041489250996741,0.7794546636876946,0.5987623345184094,0.5715061787108102,0.5826562766544882,0.5670733788609578,0.534903710004123,0.6329065205703124,0.5665571720215494,0.5508854591069321,0.5492669352048005,0.5143702652887202,0.5191780078273024,0.547342701942429,0.651378020947726,0.6001304974736054,0.6291340275962318,0.5961986384308,0.6604799627643378,0.3038586753946265,0.7396297830893752,0.6867297927236791,0.6572447485260668,0.5861674234969128,0.6265739719657808,0.6060393085392423,0.5559401037022553,0.5530213822560056,0.5928284826031117,0.7230373067011633,0.6716631274887123,0.6959498592145563,0.6118804483279039,0.7625013287040733,0.9999999999999999,0.7868290287431174,0.6815287528027003,0.5311107360191868,0.5674160334216923,0.6804730336745726,0.8096385020536897,0.5648717917363211,0.4578663287219762],[0.8313230134414995,0.8552199389287738,0.6456495022472222,0.6441011564066563,0.6542739771320772,0.6423546205664852,0.6095451615544806,0.6130127626527209,0.6186061768603124,0.5740819604200829,0.5681915785183754,0.5648293338812391,0.5918120735030584,0.6577532994829054,0.6572444387223646,0.6228875082785308,0.6154182056369952,0.6525271279524505,0.6875982812519321,0.32052783061528434,0.7092383574479585,0.6481422558487714,0.6352127195572921,0.6007459395075968,0.6378272307043762,0.6093206256231886,0.5476429595180762,0.5775998085451433,0.6098585200187261,0.7412772256274571,0.6560670330936589,0.7075681860475573,0.5938226404467309,0.6783917355570953,0.7868290287431174,0.9999999999999993,0.5730845795024297,0.5614148268574626,0.5540803059074285,0.7231063268309074,0.7592591938074884,0.5597873204712368,0.4961541372829804],[0.5684019648008176,0.554903056921253,0.4886641978815663,0.45507820738394383,0.48014075649910093,0.42260850778973413,0.44253928101774037,0.46908394941917686,0.42464144686919847,0.4879571706640313,0.5035755047278604,0.4423993418175468,0.49405028209265717,0.4535756132390318,0.5603396315557033,0.5314420619710832,0.5253131310963768,0.5046678963535314,0.5503808739997651,0.21323179158055497,0.5879187030114821,0.5442595688704036,0.5125692350852977,0.5659423491613083,0.5200065619184584,0.6428722864575016,0.567629464655548,0.5104735685815843,0.451939744724946,0.6176874057550077,0.5172775993176566,0.5206600733267327,0.45767877322055106,0.6296609988273419,0.6815287528027003,0.5730845795024297,1.0000000000000002,0.5086727172678417,0.49092973573508725,0.5540068671417134,0.5165314355081227,0.5208920938256936,0.4129777151414828],[0.671050521289188,0.6071949318985203,0.6152484882379065,0.5887052053928944,0.6013113909214561,0.5389103068440005,0.5538259960124922,0.5480593309524466,0.5276876878871023,0.5717122037441977,0.5820326536202591,0.521203018409943,0.5980605468881639,0.5789594721262314,0.6608453731060036,0.6399435864984881,0.6426365487853098,0.6411812593142991,0.6751859636026576,0.32174674999151726,0.547974889822999,0.48766479559812703,0.4691437324623196,0.6194076191821852,0.4725747552129044,0.47541127752858986,0.5377044099964753,0.5916227718441299,0.5515481321296947,0.4743211358032188,0.5227074327211093,0.6544108549227869,0.49625299235113196,0.5783916435056111,0.5311107360191868,0.5614148268574626,0.5086727172678417,0.9999999999999997,0.6154296036715505,0.5961839350427356,0.46954189832093024,0.5764130685185733,0.4841840488572039],[0.6279040602035961,0.5746761962743059,0.5790971763158441,0.524950627167422,0.5851299331159889,0.5233470767461463,0.515682721876644,0.5662982840973089,0.5072752619566222,0.5802887824008413,0.5588916757468584,0.527500235031302,0.527134977024263,0.5751726301825854,0.6275221569083869,0.6366791026569982,0.59944853247424,0.6127551110029597,0.6897342283651131,0.3190066272262323,0.5287896897233667,0.48476625634921655,0.4114389613939299,0.5180332025048464,0.5292061372235454,0.42907864278749086,0.4778305280260162,0.5119663964238034,0.4808479996483799,0.46295289228033953,0.5241001312888922,0.5319505803329625,0.4434585743255043,0.5799494068873465,0.5674160334216923,0.5540803059074285,0.49092973573508725,0.6154296036715505,0.9999999999999999,0.510005522605357,0.48708920486856333,0.5056912935567253,0.5155183130575551],[0.7563012859221724,0.7372688696616116,0.5696677433615429,0.5827790992604196,0.5679500168031628,0.5277218952515883,0.533882406323404,0.5184525686365533,0.5000615873133787,0.5737158854615583,0.5583517174520729,0.5467517470680983,0.5899450441009386,0.5833526217892555,0.6359099523764753,0.5922792799245437,0.5852156867185758,0.5826281842523113,0.6095630179136264,0.29507827916600776,0.590639702215255,0.5565199686705368,0.48134760323768605,0.5720171749263846,0.581832141298477,0.6070824663637251,0.5234701446732992,0.5219543583409191,0.5825844032835307,0.6409491137931946,0.5699305463036428,0.7041010581207181,0.6186027318282694,0.6750763199203164,0.6804730336745726,0.7231063268309074,0.5540068671417134,0.5961839350427356,0.510005522605357,1.0000000000000009,0.6601193724522827,0.5597240436067455,0.4684094604851685],[0.7686291503385081,0.7416757276914256,0.5368798703698108,0.505479844743351,0.539212146200472,0.5015873693297298,0.4950491457063063,0.5428502330075672,0.4892093491079297,0.4672881785243972,0.45625529853697067,0.5165422171478102,0.4846658062399263,0.5234068997352704,0.5963315509204234,0.6159591397177786,0.6122127982746565,0.5796324012629226,0.6265021713238086,0.22041363643264536,0.6924347194772623,0.5851764163145096,0.5910796578072908,0.5138652169266534,0.6045743749388803,0.5105276527174896,0.4617794913603104,0.4969127381908838,0.5258021434283358,0.7071256135952397,0.650485876865326,0.6644153303599469,0.5943449434970064,0.6803008670732134,0.8096385020536897,0.7592591938074884,0.5165314355081227,0.46954189832093024,0.48708920486856333,0.6601193724522827,1.0000000000000002,0.5305165748547996,0.4208639178268536],[0.5837416726207741,0.5817529009925326,0.5449830952717192,0.503013411226229,0.5044765417027515,0.46288836800139976,0.48687012401395374,0.45948672271098445,0.44309348417381433,0.5578630439166257,0.5524244297245297,0.5521224582018632,0.6126825701993232,0.5659149700103927,0.5930814221307605,0.6168619016657841,0.5926037100615896,0.537673491404349,0.5803648122705576,0.2741848971550424,0.6024506749174009,0.5554873420839419,0.6013892183899645,0.5929197919105649,0.6157043507396897,0.5252854655713943,0.5584638840690848,0.6123637583126955,0.5404182510293789,0.5441064301521881,0.5349433993973194,0.5475508838518262,0.5304994160894712,0.6026421797565233,0.5648717917363211,0.5597873204712368,0.5208920938256936,0.5764130685185733,0.5056912935567253,0.5597240436067455,0.5305165748547996,0.9999999999999991,0.5364545708366645],[0.49258665721008443,0.4889975669873572,0.43609580098352585,0.3993305651058864,0.47021554750130334,0.40279151143786807,0.421025025898682,0.4237260867504528,0.403135961043797,0.7979613209121796,0.7441731491140721,0.7193543512802487,0.5987603990195183,0.6693833756978388,0.46651668517691275,0.517030933663925,0.49649166624541985,0.46432327631577563,0.5173687856797793,0.1535565655407905,0.5050512895064464,0.4459924086988668,0.43390614244414877,0.5733109477854756,0.7080545978985531,0.44604478781887713,0.5485691138049322,0.5782469095140089,0.4726669776574174,0.5136582831988057,0.5797390290653635,0.4356815218498523,0.41161225047259115,0.44595090880220356,0.4578663287219762,0.4961541372829804,0.4129777151414828,0.4841840488572039,0.5155183130575551,0.4684094604851685,0.4208639178268536,0.5364545708366645,0.9999999999999994]],\"type\":\"heatmap\",\"xaxis\":\"x\",\"yaxis\":\"y\",\"hovertemplate\":\"x: %{x}<br>y: %{y}<br>Similarity Score: %{z}<extra></extra>\"}],                        {\"template\":{\"data\":{\"histogram2dcontour\":[{\"type\":\"histogram2dcontour\",\"colorbar\":{\"outlinewidth\":0,\"ticks\":\"\"},\"colorscale\":[[0.0,\"#0d0887\"],[0.1111111111111111,\"#46039f\"],[0.2222222222222222,\"#7201a8\"],[0.3333333333333333,\"#9c179e\"],[0.4444444444444444,\"#bd3786\"],[0.5555555555555556,\"#d8576b\"],[0.6666666666666666,\"#ed7953\"],[0.7777777777777778,\"#fb9f3a\"],[0.8888888888888888,\"#fdca26\"],[1.0,\"#f0f921\"]]}],\"choropleth\":[{\"type\":\"choropleth\",\"colorbar\":{\"outlinewidth\":0,\"ticks\":\"\"}}],\"histogram2d\":[{\"type\":\"histogram2d\",\"colorbar\":{\"outlinewidth\":0,\"ticks\":\"\"},\"colorscale\":[[0.0,\"#0d0887\"],[0.1111111111111111,\"#46039f\"],[0.2222222222222222,\"#7201a8\"],[0.3333333333333333,\"#9c179e\"],[0.4444444444444444,\"#bd3786\"],[0.5555555555555556,\"#d8576b\"],[0.6666666666666666,\"#ed7953\"],[0.7777777777777778,\"#fb9f3a\"],[0.8888888888888888,\"#fdca26\"],[1.0,\"#f0f921\"]]}],\"heatmap\":[{\"type\":\"heatmap\",\"colorbar\":{\"outlinewidth\":0,\"ticks\":\"\"},\"colorscale\":[[0.0,\"#0d0887\"],[0.1111111111111111,\"#46039f\"],[0.2222222222222222,\"#7201a8\"],[0.3333333333333333,\"#9c179e\"],[0.4444444444444444,\"#bd3786\"],[0.5555555555555556,\"#d8576b\"],[0.6666666666666666,\"#ed7953\"],[0.7777777777777778,\"#fb9f3a\"],[0.8888888888888888,\"#fdca26\"],[1.0,\"#f0f921\"]]}],\"heatmapgl\":[{\"type\":\"heatmapgl\",\"colorbar\":{\"outlinewidth\":0,\"ticks\":\"\"},\"colorscale\":[[0.0,\"#0d0887\"],[0.1111111111111111,\"#46039f\"],[0.2222222222222222,\"#7201a8\"],[0.3333333333333333,\"#9c179e\"],[0.4444444444444444,\"#bd3786\"],[0.5555555555555556,\"#d8576b\"],[0.6666666666666666,\"#ed7953\"],[0.7777777777777778,\"#fb9f3a\"],[0.8888888888888888,\"#fdca26\"],[1.0,\"#f0f921\"]]}],\"contourcarpet\":[{\"type\":\"contourcarpet\",\"colorbar\":{\"outlinewidth\":0,\"ticks\":\"\"}}],\"contour\":[{\"type\":\"contour\",\"colorbar\":{\"outlinewidth\":0,\"ticks\":\"\"},\"colorscale\":[[0.0,\"#0d0887\"],[0.1111111111111111,\"#46039f\"],[0.2222222222222222,\"#7201a8\"],[0.3333333333333333,\"#9c179e\"],[0.4444444444444444,\"#bd3786\"],[0.5555555555555556,\"#d8576b\"],[0.6666666666666666,\"#ed7953\"],[0.7777777777777778,\"#fb9f3a\"],[0.8888888888888888,\"#fdca26\"],[1.0,\"#f0f921\"]]}],\"surface\":[{\"type\":\"surface\",\"colorbar\":{\"outlinewidth\":0,\"ticks\":\"\"},\"colorscale\":[[0.0,\"#0d0887\"],[0.1111111111111111,\"#46039f\"],[0.2222222222222222,\"#7201a8\"],[0.3333333333333333,\"#9c179e\"],[0.4444444444444444,\"#bd3786\"],[0.5555555555555556,\"#d8576b\"],[0.6666666666666666,\"#ed7953\"],[0.7777777777777778,\"#fb9f3a\"],[0.8888888888888888,\"#fdca26\"],[1.0,\"#f0f921\"]]}],\"mesh3d\":[{\"type\":\"mesh3d\",\"colorbar\":{\"outlinewidth\":0,\"ticks\":\"\"}}],\"scatter\":[{\"fillpattern\":{\"fillmode\":\"overlay\",\"size\":10,\"solidity\":0.2},\"type\":\"scatter\"}],\"parcoords\":[{\"type\":\"parcoords\",\"line\":{\"colorbar\":{\"outlinewidth\":0,\"ticks\":\"\"}}}],\"scatterpolargl\":[{\"type\":\"scatterpolargl\",\"marker\":{\"colorbar\":{\"outlinewidth\":0,\"ticks\":\"\"}}}],\"bar\":[{\"error_x\":{\"color\":\"#2a3f5f\"},\"error_y\":{\"color\":\"#2a3f5f\"},\"marker\":{\"line\":{\"color\":\"#E5ECF6\",\"width\":0.5},\"pattern\":{\"fillmode\":\"overlay\",\"size\":10,\"solidity\":0.2}},\"type\":\"bar\"}],\"scattergeo\":[{\"type\":\"scattergeo\",\"marker\":{\"colorbar\":{\"outlinewidth\":0,\"ticks\":\"\"}}}],\"scatterpolar\":[{\"type\":\"scatterpolar\",\"marker\":{\"colorbar\":{\"outlinewidth\":0,\"ticks\":\"\"}}}],\"histogram\":[{\"marker\":{\"pattern\":{\"fillmode\":\"overlay\",\"size\":10,\"solidity\":0.2}},\"type\":\"histogram\"}],\"scattergl\":[{\"type\":\"scattergl\",\"marker\":{\"colorbar\":{\"outlinewidth\":0,\"ticks\":\"\"}}}],\"scatter3d\":[{\"type\":\"scatter3d\",\"line\":{\"colorbar\":{\"outlinewidth\":0,\"ticks\":\"\"}},\"marker\":{\"colorbar\":{\"outlinewidth\":0,\"ticks\":\"\"}}}],\"scattermapbox\":[{\"type\":\"scattermapbox\",\"marker\":{\"colorbar\":{\"outlinewidth\":0,\"ticks\":\"\"}}}],\"scatterternary\":[{\"type\":\"scatterternary\",\"marker\":{\"colorbar\":{\"outlinewidth\":0,\"ticks\":\"\"}}}],\"scattercarpet\":[{\"type\":\"scattercarpet\",\"marker\":{\"colorbar\":{\"outlinewidth\":0,\"ticks\":\"\"}}}],\"carpet\":[{\"aaxis\":{\"endlinecolor\":\"#2a3f5f\",\"gridcolor\":\"white\",\"linecolor\":\"white\",\"minorgridcolor\":\"white\",\"startlinecolor\":\"#2a3f5f\"},\"baxis\":{\"endlinecolor\":\"#2a3f5f\",\"gridcolor\":\"white\",\"linecolor\":\"white\",\"minorgridcolor\":\"white\",\"startlinecolor\":\"#2a3f5f\"},\"type\":\"carpet\"}],\"table\":[{\"cells\":{\"fill\":{\"color\":\"#EBF0F8\"},\"line\":{\"color\":\"white\"}},\"header\":{\"fill\":{\"color\":\"#C8D4E3\"},\"line\":{\"color\":\"white\"}},\"type\":\"table\"}],\"barpolar\":[{\"marker\":{\"line\":{\"color\":\"#E5ECF6\",\"width\":0.5},\"pattern\":{\"fillmode\":\"overlay\",\"size\":10,\"solidity\":0.2}},\"type\":\"barpolar\"}],\"pie\":[{\"automargin\":true,\"type\":\"pie\"}]},\"layout\":{\"autotypenumbers\":\"strict\",\"colorway\":[\"#636efa\",\"#EF553B\",\"#00cc96\",\"#ab63fa\",\"#FFA15A\",\"#19d3f3\",\"#FF6692\",\"#B6E880\",\"#FF97FF\",\"#FECB52\"],\"font\":{\"color\":\"#2a3f5f\"},\"hovermode\":\"closest\",\"hoverlabel\":{\"align\":\"left\"},\"paper_bgcolor\":\"white\",\"plot_bgcolor\":\"#E5ECF6\",\"polar\":{\"bgcolor\":\"#E5ECF6\",\"angularaxis\":{\"gridcolor\":\"white\",\"linecolor\":\"white\",\"ticks\":\"\"},\"radialaxis\":{\"gridcolor\":\"white\",\"linecolor\":\"white\",\"ticks\":\"\"}},\"ternary\":{\"bgcolor\":\"#E5ECF6\",\"aaxis\":{\"gridcolor\":\"white\",\"linecolor\":\"white\",\"ticks\":\"\"},\"baxis\":{\"gridcolor\":\"white\",\"linecolor\":\"white\",\"ticks\":\"\"},\"caxis\":{\"gridcolor\":\"white\",\"linecolor\":\"white\",\"ticks\":\"\"}},\"coloraxis\":{\"colorbar\":{\"outlinewidth\":0,\"ticks\":\"\"}},\"colorscale\":{\"sequential\":[[0.0,\"#0d0887\"],[0.1111111111111111,\"#46039f\"],[0.2222222222222222,\"#7201a8\"],[0.3333333333333333,\"#9c179e\"],[0.4444444444444444,\"#bd3786\"],[0.5555555555555556,\"#d8576b\"],[0.6666666666666666,\"#ed7953\"],[0.7777777777777778,\"#fb9f3a\"],[0.8888888888888888,\"#fdca26\"],[1.0,\"#f0f921\"]],\"sequentialminus\":[[0.0,\"#0d0887\"],[0.1111111111111111,\"#46039f\"],[0.2222222222222222,\"#7201a8\"],[0.3333333333333333,\"#9c179e\"],[0.4444444444444444,\"#bd3786\"],[0.5555555555555556,\"#d8576b\"],[0.6666666666666666,\"#ed7953\"],[0.7777777777777778,\"#fb9f3a\"],[0.8888888888888888,\"#fdca26\"],[1.0,\"#f0f921\"]],\"diverging\":[[0,\"#8e0152\"],[0.1,\"#c51b7d\"],[0.2,\"#de77ae\"],[0.3,\"#f1b6da\"],[0.4,\"#fde0ef\"],[0.5,\"#f7f7f7\"],[0.6,\"#e6f5d0\"],[0.7,\"#b8e186\"],[0.8,\"#7fbc41\"],[0.9,\"#4d9221\"],[1,\"#276419\"]]},\"xaxis\":{\"gridcolor\":\"white\",\"linecolor\":\"white\",\"ticks\":\"\",\"title\":{\"standoff\":15},\"zerolinecolor\":\"white\",\"automargin\":true,\"zerolinewidth\":2},\"yaxis\":{\"gridcolor\":\"white\",\"linecolor\":\"white\",\"ticks\":\"\",\"title\":{\"standoff\":15},\"zerolinecolor\":\"white\",\"automargin\":true,\"zerolinewidth\":2},\"scene\":{\"xaxis\":{\"backgroundcolor\":\"#E5ECF6\",\"gridcolor\":\"white\",\"linecolor\":\"white\",\"showbackground\":true,\"ticks\":\"\",\"zerolinecolor\":\"white\",\"gridwidth\":2},\"yaxis\":{\"backgroundcolor\":\"#E5ECF6\",\"gridcolor\":\"white\",\"linecolor\":\"white\",\"showbackground\":true,\"ticks\":\"\",\"zerolinecolor\":\"white\",\"gridwidth\":2},\"zaxis\":{\"backgroundcolor\":\"#E5ECF6\",\"gridcolor\":\"white\",\"linecolor\":\"white\",\"showbackground\":true,\"ticks\":\"\",\"zerolinecolor\":\"white\",\"gridwidth\":2}},\"shapedefaults\":{\"line\":{\"color\":\"#2a3f5f\"}},\"annotationdefaults\":{\"arrowcolor\":\"#2a3f5f\",\"arrowhead\":0,\"arrowwidth\":1},\"geo\":{\"bgcolor\":\"white\",\"landcolor\":\"#E5ECF6\",\"subunitcolor\":\"white\",\"showland\":true,\"showlakes\":true,\"lakecolor\":\"white\"},\"title\":{\"x\":0.05},\"mapbox\":{\"style\":\"light\"}}},\"xaxis\":{\"anchor\":\"y\",\"domain\":[0.0,1.0],\"scaleanchor\":\"y\",\"constrain\":\"domain\"},\"yaxis\":{\"anchor\":\"x\",\"domain\":[0.0,1.0],\"autorange\":\"reversed\",\"constrain\":\"domain\"},\"coloraxis\":{\"colorbar\":{\"title\":{\"text\":\"Similarity Score\"}},\"colorscale\":[[0.0,\"rgb(247,252,240)\"],[0.125,\"rgb(224,243,219)\"],[0.25,\"rgb(204,235,197)\"],[0.375,\"rgb(168,221,181)\"],[0.5,\"rgb(123,204,196)\"],[0.625,\"rgb(78,179,211)\"],[0.75,\"rgb(43,140,190)\"],[0.875,\"rgb(8,104,172)\"],[1.0,\"rgb(8,64,129)\"]]},\"margin\":{\"t\":60},\"title\":{\"font\":{\"size\":22,\"color\":\"Black\"},\"text\":\"<b>Similarity Matrix\",\"y\":0.95,\"x\":0.55,\"xanchor\":\"center\",\"yanchor\":\"top\"},\"hoverlabel\":{\"font\":{\"size\":16,\"family\":\"Rockwell\"},\"bgcolor\":\"white\"},\"width\":1000,\"height\":1000,\"showlegend\":true,\"legend\":{\"title\":{\"text\":\"Trend\"}}},                        {\"responsive\": true}                    ).then(function(){\n",
       "                            \n",
       "var gd = document.getElementById('c3f1b03f-84bb-457a-80b0-d060980dbe6b');\n",
       "var x = new MutationObserver(function (mutations, observer) {{\n",
       "        var display = window.getComputedStyle(gd).display;\n",
       "        if (!display || display === 'none') {{\n",
       "            console.log([gd, 'removed!']);\n",
       "            Plotly.purge(gd);\n",
       "            observer.disconnect();\n",
       "        }}\n",
       "}});\n",
       "\n",
       "// Listen for the removal of the full notebook cells\n",
       "var notebookContainer = gd.closest('#notebook-container');\n",
       "if (notebookContainer) {{\n",
       "    x.observe(notebookContainer, {childList: true});\n",
       "}}\n",
       "\n",
       "// Listen for the clearing of the current output cell\n",
       "var outputEl = gd.closest('.output');\n",
       "if (outputEl) {{\n",
       "    x.observe(outputEl, {childList: true});\n",
       "}}\n",
       "\n",
       "                        })                };                });            </script>        </div>"
      ]
     },
     "metadata": {},
     "output_type": "display_data"
    }
   ],
   "source": [
    "optimal_model.visualize_heatmap(n_clusters=20, width=1000, height=1000)"
   ]
  },
  {
   "cell_type": "markdown",
   "id": "d9903d1e",
   "metadata": {},
   "source": [
    "#### Topic representation"
   ]
  },
  {
   "cell_type": "code",
   "execution_count": 37,
   "id": "c891c642",
   "metadata": {},
   "outputs": [
    {
     "data": {
      "application/vnd.plotly.v1+json": {
       "config": {
        "plotlyServerURL": "https://plot.ly"
       },
       "data": [
        {
         "hovertext": "<b>Topic -1</b>:fire_home_fall_injury_decedent_bur",
         "line": {
          "color": "black",
          "width": 1.5
         },
         "mode": "lines+lines",
         "name": "",
         "opacity": 0.1,
         "type": "scatter",
         "x": [
          1,
          2,
          3,
          4,
          5,
          6,
          7,
          8,
          9,
          10
         ],
         "y": [
          0.01857849457716449,
          0.01394989211987585,
          0.012496504550622204,
          0.012421245865632643,
          0.011810275003208089,
          0.011621664740172477,
          0.011298190203006847,
          0.011003013484778092,
          0.010626313383932417,
          0.01004554538363456
         ]
        },
        {
         "hovertext": "<b>Topic 0</b>:bicyclist_bicycle_scooter_vehicle_c",
         "line": {
          "color": "black",
          "width": 1.5
         },
         "mode": "lines+lines",
         "name": "",
         "opacity": 0.1,
         "type": "scatter",
         "x": [
          1,
          2,
          3,
          4,
          5,
          6,
          7,
          8,
          9,
          10
         ],
         "y": [
          0.11160329571588962,
          0.09509836350731111,
          0.08393866022059748,
          0.0745058810821003,
          0.07317273736506064,
          0.0682136354345397,
          0.06397527772036082,
          0.062364145645772036,
          0.0580303330235805,
          0.05282800641070144
         ]
        },
        {
         "hovertext": "<b>Topic 1</b>:drown_death_autopsy_manner_swimming",
         "line": {
          "color": "black",
          "width": 1.5
         },
         "mode": "lines+lines",
         "name": "",
         "opacity": 0.1,
         "type": "scatter",
         "x": [
          1,
          2,
          3,
          4,
          5,
          6,
          7,
          8,
          9,
          10
         ],
         "y": [
          0.1434963973825303,
          0.11927949926666913,
          0.10765143660202732,
          0.09437360787572309,
          0.09318265402366703,
          0.08550118287095033,
          0.07921696651797126,
          0.07305924356193225,
          0.0717602933614927,
          0.06093744286552632
         ]
        },
        {
         "hovertext": "<b>Topic 2</b>:ladder_fall_stair_head_decedent_sub",
         "line": {
          "color": "black",
          "width": 1.5
         },
         "mode": "lines+lines",
         "name": "",
         "opacity": 0.1,
         "type": "scatter",
         "x": [
          1,
          2,
          3,
          4,
          5,
          6,
          7,
          8,
          9,
          10
         ],
         "y": [
          0.12411935914409791,
          0.10185490938345423,
          0.08981991187762198,
          0.08220008213595603,
          0.056766071689115,
          0.056580758743918304,
          0.05110237968455373,
          0.03658454347799348,
          0.032623101379112285,
          0.031275806686558584
         ]
        },
        {
         "hovertext": "<b>Topic 3</b>:electrical_extension_cord_fire_spac",
         "line": {
          "color": "black",
          "width": 1.5
         },
         "mode": "lines+lines",
         "name": "",
         "opacity": 0.1,
         "type": "scatter",
         "x": [
          1,
          2,
          3,
          4,
          5,
          6,
          7,
          8,
          9,
          10
         ],
         "y": [
          0.062159996898183245,
          0.05346174865631592,
          0.052683583338088494,
          0.04651608140792409,
          0.03831588602099207,
          0.037719951136532336,
          0.033683398606441796,
          0.033357405919939374,
          0.03173212891337518,
          0.030481790601962332
         ]
        },
        {
         "hovertext": "<b>Topic 4</b>:apartment_candle_fire_stove_buildin",
         "line": {
          "color": "black",
          "width": 1.5
         },
         "mode": "lines+lines",
         "name": "",
         "opacity": 0.1,
         "type": "scatter",
         "x": [
          1,
          2,
          3,
          4,
          5,
          6,
          7,
          8,
          9,
          10
         ],
         "y": [
          0.11906041307918176,
          0.08036017797480682,
          0.07439642260828383,
          0.050887815498592205,
          0.046300207693900364,
          0.04499696226359889,
          0.041185852574109394,
          0.03608766659060868,
          0.03387926350916565,
          0.02718287780758466
         ]
        },
        {
         "hovertext": "<b>Topic 5</b>:toy_battery_mouth_laptop_child_paci",
         "line": {
          "color": "black",
          "width": 1.5
         },
         "mode": "lines+lines",
         "name": "",
         "opacity": 0.1,
         "type": "scatter",
         "x": [
          1,
          2,
          3,
          4,
          5,
          6,
          7,
          8,
          9,
          10
         ],
         "y": [
          0.07768033148033363,
          0.04804033561968438,
          0.0340562177561759,
          0.030302700654397476,
          0.028036742382949557,
          0.026957624126956813,
          0.02662809559022514,
          0.026275807767043545,
          0.022461067653562646,
          0.021944692677494732
         ]
        },
        {
         "hovertext": "<b>Topic 6</b>:terrain_vehicle_golf_cart_autopsy_i",
         "line": {
          "color": "black",
          "width": 1.5
         },
         "mode": "lines+lines",
         "name": "",
         "opacity": 0.1,
         "type": "scatter",
         "x": [
          1,
          2,
          3,
          4,
          5,
          6,
          7,
          8,
          9,
          10
         ],
         "y": [
          0.10416818330253584,
          0.10002991727218022,
          0.08857499863354235,
          0.0650433024081301,
          0.06412809152957706,
          0.0600224501628157,
          0.05889290441154201,
          0.057131188512743084,
          0.055422262173228085,
          0.05055885444274664
         ]
        },
        {
         "hovertext": "<b>Topic 7</b>:fire_house_firefighter_window_home_",
         "line": {
          "color": "black",
          "width": 1.5
         },
         "mode": "lines+lines",
         "name": "",
         "opacity": 0.1,
         "type": "scatter",
         "x": [
          1,
          2,
          3,
          4,
          5,
          6,
          7,
          8,
          9,
          10
         ],
         "y": [
          0.06692325669103832,
          0.05787315023454868,
          0.051237862981184795,
          0.04663479788610197,
          0.035635244133762525,
          0.03272113976010102,
          0.030894103644622483,
          0.030016705712005484,
          0.02964472503411983,
          0.028198602979263653
         ]
        },
        {
         "hovertext": "<b>Topic 9</b>:fall_head_floor_decedent_autopsy_nu",
         "line": {
          "color": "black",
          "width": 1.5
         },
         "mode": "lines+lines",
         "name": "",
         "opacity": 0.1,
         "type": "scatter",
         "x": [
          1,
          2,
          3,
          4,
          5,
          6,
          7,
          8,
          9,
          10
         ],
         "y": [
          0.1332022995112296,
          0.13088304564031156,
          0.08621031253474774,
          0.08310178874433212,
          0.06844527847508618,
          0.0677017919827119,
          0.0655371914587628,
          0.05986189065914384,
          0.04853210621980951,
          0.044536238203374046
         ]
        },
        {
         "hovertext": "<b>Topic 10</b>:sleep_autopsy_overlay_adult_bed_de",
         "line": {
          "color": "black",
          "width": 1.5
         },
         "mode": "lines+lines",
         "name": "",
         "opacity": 0.1,
         "type": "scatter",
         "x": [
          1,
          2,
          3,
          4,
          5,
          6,
          7,
          8,
          9,
          10
         ],
         "y": [
          0.13848529327103926,
          0.13467679081752845,
          0.10430086383356124,
          0.10113794141211674,
          0.09418178630961334,
          0.0837599879265787,
          0.07557719717990345,
          0.07405293706567838,
          0.06854102090646988,
          0.0605666821916782
         ]
        },
        {
         "hovertext": "<b>Topic 11</b>:pool_boy_drown_swimming_pool_pull_",
         "line": {
          "color": "black",
          "width": 1.5
         },
         "mode": "lines+lines",
         "name": "",
         "opacity": 0.1,
         "type": "scatter",
         "x": [
          1,
          2,
          3,
          4,
          5,
          6,
          7,
          8,
          9,
          10
         ],
         "y": [
          0.20455111617767902,
          0.08776004125275601,
          0.07962116955900811,
          0.07860922503588223,
          0.07422155617442858,
          0.06936432247343927,
          0.06781414567241915,
          0.0622617269047042,
          0.0527658558421651,
          0.045645132249722505
         ]
        },
        {
         "hovertext": "<b>Topic 12</b>:pronounce_dead_pronounce_pool_swim",
         "line": {
          "color": "black",
          "width": 1.5
         },
         "mode": "lines+lines",
         "name": "",
         "opacity": 0.1,
         "type": "scatter",
         "x": [
          1,
          2,
          3,
          4,
          5,
          6,
          7,
          8,
          9,
          10
         ],
         "y": [
          0.13887825711468565,
          0.10890306757057419,
          0.10033224296704155,
          0.06861548196053546,
          0.06371619348589333,
          0.054398797532684305,
          0.05117226125378629,
          0.04857610904460805,
          0.0409950010075534,
          0.03797975871596078
         ]
        },
        {
         "hovertext": "<b>Topic 13</b>:hip_fracture_floor_fall_hip_fan_de",
         "line": {
          "color": "black",
          "width": 1.5
         },
         "mode": "lines+lines",
         "name": "",
         "opacity": 0.1,
         "type": "scatter",
         "x": [
          1,
          2,
          3,
          4,
          5,
          6,
          7,
          8,
          9,
          10
         ],
         "y": [
          0.1417756288215951,
          0.10002669678905976,
          0.09315946859573503,
          0.09027795921959429,
          0.0696087666678805,
          0.062047580801220664,
          0.04979620152682572,
          0.04394379530210201,
          0.04383672105519384,
          0.04266012320668647
         ]
        },
        {
         "hovertext": "<b>Topic 14</b>:thermal_burn_inhalation_clothing_d",
         "line": {
          "color": "black",
          "width": 1.5
         },
         "mode": "lines+lines",
         "name": "",
         "opacity": 0.1,
         "type": "scatter",
         "x": [
          1,
          2,
          3,
          4,
          5,
          6,
          7,
          8,
          9,
          10
         ],
         "y": [
          0.12658609602379656,
          0.07053362604429916,
          0.05829502477548774,
          0.050076491257321165,
          0.0487715423775728,
          0.04869808818388196,
          0.04585063517155239,
          0.0430286504818466,
          0.04069389862509665,
          0.03702483172924294
         ]
        },
        {
         "hovertext": "<b>Topic 15</b>:drown_hot_tub_autopsy_pool_deceden",
         "line": {
          "color": "black",
          "width": 1.5
         },
         "mode": "lines+lines",
         "name": "",
         "opacity": 0.1,
         "type": "scatter",
         "x": [
          1,
          2,
          3,
          4,
          5,
          6,
          7,
          8,
          9,
          10
         ],
         "y": [
          0.42461503006178486,
          0.2553696025045548,
          0.2168851064939031,
          0.15017724984830988,
          0.12524743159289423,
          0.09199587677144602,
          0.04971076054911138,
          0.038855171302450545,
          0.0325392406732184,
          0.03252758886537617
         ]
        },
        {
         "hovertext": "<b>Topic 16</b>:glass_shower_door_shatter_oven_exp",
         "line": {
          "color": "black",
          "width": 1.5
         },
         "mode": "lines+lines",
         "name": "",
         "opacity": 0.1,
         "type": "scatter",
         "x": [
          1,
          2,
          3,
          4,
          5,
          6,
          7,
          8,
          9,
          10
         ],
         "y": [
          0.142713149005667,
          0.08584723803535829,
          0.08190673790434241,
          0.0765858379152963,
          0.06984234621271092,
          0.06033490883090424,
          0.03404913356110741,
          0.03390279584719582,
          0.029750757551988825,
          0.027679504161249813
         ]
        },
        {
         "hovertext": "<b>Topic 17</b>:chair_stroller_seat_swing_shade_si",
         "line": {
          "color": "black",
          "width": 1.5
         },
         "mode": "lines+lines",
         "name": "",
         "opacity": 0.1,
         "type": "scatter",
         "x": [
          1,
          2,
          3,
          4,
          5,
          6,
          7,
          8,
          9,
          10
         ],
         "y": [
          0.09684052005644107,
          0.09121408372730479,
          0.061155054608125634,
          0.03452783371485336,
          0.03427462901287,
          0.02812176855483124,
          0.02679852960538847,
          0.0233995052340329,
          0.023381967743142638,
          0.020035670524435414
         ]
        },
        {
         "hovertext": "<b>Topic 18</b>:burner_grill_knob_turn_gas_stove_m",
         "line": {
          "color": "black",
          "width": 1.5
         },
         "mode": "lines+lines",
         "name": "",
         "opacity": 0.1,
         "type": "scatter",
         "x": [
          1,
          2,
          3,
          4,
          5,
          6,
          7,
          8,
          9,
          10
         ],
         "y": [
          0.09141311583924876,
          0.09107382798488722,
          0.06586944866591117,
          0.05743851414861444,
          0.05734380966942332,
          0.037990255896765766,
          0.022389677354092783,
          0.022257138240658173,
          0.021345620231129944,
          0.01794881239447025
         ]
        },
        {
         "hovertext": "<b>Topic 19</b>:unresponsive_blanket_bed_sleep_mot",
         "line": {
          "color": "black",
          "width": 1.5
         },
         "mode": "lines+lines",
         "name": "",
         "opacity": 0.1,
         "type": "scatter",
         "x": [
          1,
          2,
          3,
          4,
          5,
          6,
          7,
          8,
          9,
          10
         ],
         "y": [
          0.0910771928172274,
          0.08636456409733596,
          0.07830411849175169,
          0.07343797565930493,
          0.07000654852445387,
          0.056022581113531686,
          0.055698474354824716,
          0.053292560739903364,
          0.04472916939212723,
          0.04403678305141985
         ]
        },
        {
         "hovertext": "<b>Topic 20</b>:oven_turn_toaster_rack_broiler_ele",
         "line": {
          "color": "black",
          "width": 1.5
         },
         "mode": "lines+lines",
         "name": "",
         "opacity": 0.1,
         "type": "scatter",
         "x": [
          1,
          2,
          3,
          4,
          5,
          6,
          7,
          8,
          9,
          10
         ],
         "y": [
          0.1589350553658441,
          0.04980081288705989,
          0.039105684199564686,
          0.03858394290185813,
          0.02221956014608042,
          0.022061167176214744,
          0.021664963802894507,
          0.021364139902324046,
          0.0212420519366433,
          0.020322996868601208
         ]
        },
        {
         "hovertext": "<b>Topic 21</b>:atv_crash_drive_roll_lose_control_",
         "line": {
          "color": "black",
          "width": 1.5
         },
         "mode": "lines+lines",
         "name": "",
         "opacity": 0.1,
         "type": "scatter",
         "x": [
          1,
          2,
          3,
          4,
          5,
          6,
          7,
          8,
          9,
          10
         ],
         "y": [
          0.10941637899110741,
          0.07028937702566256,
          0.06611823195198852,
          0.06416220457132714,
          0.05735104742793075,
          0.05649518097138097,
          0.056076688452520035,
          0.05578030568904387,
          0.05463184157107629,
          0.049834898250694544
         ]
        },
        {
         "hovertext": "<b>Topic 22</b>:microwave_door_turn_oven_unplug_st",
         "line": {
          "color": "black",
          "width": 1.5
         },
         "mode": "lines+lines",
         "name": "",
         "opacity": 0.1,
         "type": "scatter",
         "x": [
          1,
          2,
          3,
          4,
          5,
          6,
          7,
          8,
          9,
          10
         ],
         "y": [
          0.2754959619598151,
          0.04222038277758232,
          0.034721319633484654,
          0.0343637371266678,
          0.03405550967395689,
          0.028025431776768424,
          0.024473582237036343,
          0.023340742840605402,
          0.022086226791700185,
          0.02150080035084535
         ]
        },
        {
         "hovertext": "<b>Topic 23</b>:difluoroethane_autopsy_inhalation_",
         "line": {
          "color": "black",
          "width": 1.5
         },
         "mode": "lines+lines",
         "name": "",
         "opacity": 0.1,
         "type": "scatter",
         "x": [
          1,
          2,
          3,
          4,
          5,
          6,
          7,
          8,
          9,
          10
         ],
         "y": [
          0.19586016661300476,
          0.11179516541030339,
          0.06616491025635737,
          0.058041183419303505,
          0.04676241657252173,
          0.04557480061142946,
          0.04273028970113095,
          0.04036458107586459,
          0.03889378096004479,
          0.03629405890287135
         ]
        },
        {
         "hovertext": "<b>Topic 24</b>:dishwasher_melt_smoke_door_cycle_c",
         "line": {
          "color": "black",
          "width": 1.5
         },
         "mode": "lines+lines",
         "name": "",
         "opacity": 0.1,
         "type": "scatter",
         "x": [
          1,
          2,
          3,
          4,
          5,
          6,
          7,
          8,
          9,
          10
         ],
         "y": [
          0.26208091640274844,
          0.04103525393086206,
          0.04059552510170543,
          0.039805418690688196,
          0.0385988807093261,
          0.03299847362623696,
          0.03238249311307475,
          0.03226819609553745,
          0.030065448243137668,
          0.028553560316003385
         ]
        },
        {
         "hovertext": "<b>Topic 25</b>:chimney_fire_home_fireplace_house_",
         "line": {
          "color": "black",
          "width": 1.5
         },
         "mode": "lines+lines",
         "name": "",
         "opacity": 0.1,
         "type": "scatter",
         "x": [
          1,
          2,
          3,
          4,
          5,
          6,
          7,
          8,
          9,
          10
         ],
         "y": [
          0.20405562338119543,
          0.08862443648652642,
          0.05976342198773915,
          0.057578796067067554,
          0.053095586402053675,
          0.0508587662403807,
          0.047679377155238796,
          0.04249724746179291,
          0.04124693335660552,
          0.036583209617410885
         ]
        },
        {
         "hovertext": "<b>Topic 26</b>:bulb_lamp_light_fixture_base_light",
         "line": {
          "color": "black",
          "width": 1.5
         },
         "mode": "lines+lines",
         "name": "",
         "opacity": 0.1,
         "type": "scatter",
         "x": [
          1,
          2,
          3,
          4,
          5,
          6,
          7,
          8,
          9,
          10
         ],
         "y": [
          0.20187080856073727,
          0.09459929140308265,
          0.07614045806612071,
          0.06693572084272163,
          0.04578002761425947,
          0.04023254630823544,
          0.03427528707794079,
          0.03102225245770551,
          0.027460185755572273,
          0.02733996786939941
         ]
        },
        {
         "hovertext": "<b>Topic 27</b>:mower_lawn_mower_fuel_gas_tank_lea",
         "line": {
          "color": "black",
          "width": 1.5
         },
         "mode": "lines+lines",
         "name": "",
         "opacity": 0.1,
         "type": "scatter",
         "x": [
          1,
          2,
          3,
          4,
          5,
          6,
          7,
          8,
          9,
          10
         ],
         "y": [
          0.08531466957914519,
          0.05592262295523314,
          0.05355263943399771,
          0.05165142668946361,
          0.05073745069068468,
          0.050065250212132255,
          0.039460594048055284,
          0.03681091922392859,
          0.03445685102636064,
          0.03025157855561109
         ]
        },
        {
         "hovertext": "<b>Topic 28</b>:carbon_monoxide_furnace_level_leak",
         "line": {
          "color": "black",
          "width": 1.5
         },
         "mode": "lines+lines",
         "name": "",
         "opacity": 0.1,
         "type": "scatter",
         "x": [
          1,
          2,
          3,
          4,
          5,
          6,
          7,
          8,
          9,
          10
         ],
         "y": [
          0.17635319978651356,
          0.0867713536211518,
          0.0655962556915461,
          0.06211642352236204,
          0.05688723755600072,
          0.04075293003629716,
          0.0399461682957572,
          0.039458035566749095,
          0.03924391955337174,
          0.03884472973661831
         ]
        },
        {
         "hovertext": "<b>Topic 29</b>:refrigerator_freezer_fridge_ice_ic",
         "line": {
          "color": "black",
          "width": 1.5
         },
         "mode": "lines+lines",
         "name": "",
         "opacity": 0.1,
         "type": "scatter",
         "x": [
          1,
          2,
          3,
          4,
          5,
          6,
          7,
          8,
          9,
          10
         ],
         "y": [
          0.191860139791934,
          0.06355585031989323,
          0.06307961113809965,
          0.049636717109584554,
          0.04335215507892473,
          0.03248493704156819,
          0.03210182098450826,
          0.028842472567974703,
          0.023949561726530056,
          0.023901058150480065
         ]
        },
        {
         "hovertext": "<b>Topic 30</b>:phone_device_charge_charger_cable_",
         "line": {
          "color": "black",
          "width": 1.5
         },
         "mode": "lines+lines",
         "name": "",
         "opacity": 0.1,
         "type": "scatter",
         "x": [
          1,
          2,
          3,
          4,
          5,
          6,
          7,
          8,
          9,
          10
         ],
         "y": [
          0.15366092840449092,
          0.1020399836880455,
          0.08457487169897361,
          0.08371550308621982,
          0.057243570955672535,
          0.04813784422119098,
          0.04371699191091726,
          0.03800024345878901,
          0.035782559128939614,
          0.03320584824027773
         ]
        },
        {
         "hovertext": "<b>Topic 31</b>:snowmobile_tree_trail_crash_accide",
         "line": {
          "color": "black",
          "width": 1.5
         },
         "mode": "lines+lines",
         "name": "",
         "opacity": 0.1,
         "type": "scatter",
         "x": [
          1,
          2,
          3,
          4,
          5,
          6,
          7,
          8,
          9,
          10
         ],
         "y": [
          0.38867311512615904,
          0.09980897050791154,
          0.09555814594406858,
          0.08483336408543256,
          0.05128325138724304,
          0.04968312796887649,
          0.04301811288197811,
          0.03901186262319234,
          0.03750371953179446,
          0.036878289383628436
         ]
        },
        {
         "hovertext": "<b>Topic 32</b>:firework_hand_explode_injure_injur",
         "line": {
          "color": "black",
          "width": 1.5
         },
         "mode": "lines+lines",
         "name": "",
         "opacity": 0.1,
         "type": "scatter",
         "x": [
          1,
          2,
          3,
          4,
          5,
          6,
          7,
          8,
          9,
          10
         ],
         "y": [
          0.3060076214000372,
          0.07539929242703645,
          0.05267668884946352,
          0.03708200519613836,
          0.0333481958559899,
          0.03121607460003484,
          0.030983469416861874,
          0.03029062647464992,
          0.02983849381963331,
          0.028934320033439053
         ]
        },
        {
         "hovertext": "<b>Topic 33</b>:pronounce_dead_ski_hospital_die_sk",
         "line": {
          "color": "black",
          "width": 1.5
         },
         "mode": "lines+lines",
         "name": "",
         "opacity": 0.1,
         "type": "scatter",
         "x": [
          1,
          2,
          3,
          4,
          5,
          6,
          7,
          8,
          9,
          10
         ],
         "y": [
          0.14470380332486607,
          0.07833549303872345,
          0.06238561804763624,
          0.05744426708486421,
          0.05597185277203547,
          0.04293955759403647,
          0.037108864557588495,
          0.0366279053994483,
          0.03508619663945533,
          0.034620797778846434
         ]
        },
        {
         "hovertext": "<b>Topic 34</b>:bathtub_drown_autopsy_seizure_drow",
         "line": {
          "color": "black",
          "width": 1.5
         },
         "mode": "lines+lines",
         "name": "",
         "opacity": 0.1,
         "type": "scatter",
         "x": [
          1,
          2,
          3,
          4,
          5,
          6,
          7,
          8,
          9,
          10
         ],
         "y": [
          0.3570398164951736,
          0.21518317777828558,
          0.1275789204373819,
          0.11408572060147903,
          0.10344036795316937,
          0.08727386261589014,
          0.06455802693059332,
          0.060766880468819,
          0.06066250498732687,
          0.05468586442734266
         ]
        },
        {
         "hovertext": "<b>Topic 35</b>:hip_fracture_hip_fall_floor_hospic",
         "line": {
          "color": "black",
          "width": 1.5
         },
         "mode": "lines+lines",
         "name": "",
         "opacity": 0.1,
         "type": "scatter",
         "x": [
          1,
          2,
          3,
          4,
          5,
          6,
          7,
          8,
          9,
          10
         ],
         "y": [
          0.10659930743326698,
          0.10138110413028262,
          0.09144088369006165,
          0.08555993954080125,
          0.08185907581923489,
          0.05869499806900443,
          0.04844941808838453,
          0.0441870397542567,
          0.04341724033159064,
          0.034819831477511984
         ]
        },
        {
         "hovertext": "<b>Topic 36</b>:blade_blender_food_processor_cut_t",
         "line": {
          "color": "black",
          "width": 1.5
         },
         "mode": "lines+lines",
         "name": "",
         "opacity": 0.1,
         "type": "scatter",
         "x": [
          1,
          2,
          3,
          4,
          5,
          6,
          7,
          8,
          9,
          10
         ],
         "y": [
          0.16070958266215388,
          0.07128069619410898,
          0.05460351401189231,
          0.05293885409900991,
          0.045213675129975796,
          0.04006315724593305,
          0.03758373604210103,
          0.03586702674605895,
          0.031536823813824916,
          0.03000499784790571
         ]
        },
        {
         "hovertext": "<b>Topic 37</b>:bicycle_head_autopsy_decedent_ride",
         "line": {
          "color": "black",
          "width": 1.5
         },
         "mode": "lines+lines",
         "name": "",
         "opacity": 0.1,
         "type": "scatter",
         "x": [
          1,
          2,
          3,
          4,
          5,
          6,
          7,
          8,
          9,
          10
         ],
         "y": [
          0.2114652888209043,
          0.07363760444435564,
          0.070645760502075,
          0.07036585080335492,
          0.07005654953332371,
          0.06782736236210712,
          0.06164232234132856,
          0.054274618024789154,
          0.05248906135306817,
          0.05039549636782425
         ]
        },
        {
         "hovertext": "<b>Topic 38</b>:garage_carbon_monoxide_autopsy_inh",
         "line": {
          "color": "black",
          "width": 1.5
         },
         "mode": "lines+lines",
         "name": "",
         "opacity": 0.1,
         "type": "scatter",
         "x": [
          1,
          2,
          3,
          4,
          5,
          6,
          7,
          8,
          9,
          10
         ],
         "y": [
          0.18325167254534755,
          0.15459742497782608,
          0.11773762923954738,
          0.07639313622473762,
          0.07204143736650735,
          0.07021322621899945,
          0.06676366326967588,
          0.06346163965271302,
          0.05573753747471619,
          0.05330928113409094
         ]
        },
        {
         "hovertext": "<b>Topic 39</b>:generator_unknown_autopsy_die_pati",
         "line": {
          "color": "black",
          "width": 1.5
         },
         "mode": "lines+lines",
         "name": "",
         "opacity": 0.1,
         "type": "scatter",
         "x": [
          1,
          2,
          3,
          4,
          5,
          6,
          7,
          8,
          9,
          10
         ],
         "y": [
          0.19355534247291148,
          0.10927658994505643,
          0.09589992373983006,
          0.07434815129409672,
          0.07394769673158519,
          0.05260398319043923,
          0.04594701539909055,
          0.04587596666116514,
          0.03730410392173276,
          0.033142740570847935
         ]
        },
        {
         "hovertext": "<b>Topic 40</b>:drown_swimming_pool_autopsy_hotel_",
         "line": {
          "color": "black",
          "width": 1.5
         },
         "mode": "lines+lines",
         "name": "",
         "opacity": 0.1,
         "type": "scatter",
         "x": [
          1,
          2,
          3,
          4,
          5,
          6,
          7,
          8,
          9,
          10
         ],
         "y": [
          0.37753931404042956,
          0.35824811030714765,
          0.19647196143447063,
          0.10034714459639743,
          0.09890973543956426,
          0.05224076273330262,
          0.04807436206907148,
          0.044083265655733964,
          0.041294898531034636,
          0.03796810470637329
         ]
        },
        {
         "hovertext": "<b>Topic 41</b>:washer_machine_washing_machine_spi",
         "line": {
          "color": "black",
          "width": 1.5
         },
         "mode": "lines+lines",
         "name": "",
         "opacity": 0.1,
         "type": "scatter",
         "x": [
          1,
          2,
          3,
          4,
          5,
          6,
          7,
          8,
          9,
          10
         ],
         "y": [
          0.17845993362725265,
          0.09604664802632819,
          0.08383175198907666,
          0.04748133062243772,
          0.038758960094356996,
          0.03667901278742838,
          0.03576871458796391,
          0.03566069493551869,
          0.03472499239822948,
          0.0299634698824372
         ]
        }
       ],
       "layout": {
        "height": 500,
        "hoverlabel": {
         "bgcolor": "white",
         "font": {
          "family": "Rockwell",
          "size": 16
         }
        },
        "showlegend": false,
        "template": {
         "data": {
          "bar": [
           {
            "error_x": {
             "color": "#2a3f5f"
            },
            "error_y": {
             "color": "#2a3f5f"
            },
            "marker": {
             "line": {
              "color": "white",
              "width": 0.5
             },
             "pattern": {
              "fillmode": "overlay",
              "size": 10,
              "solidity": 0.2
             }
            },
            "type": "bar"
           }
          ],
          "barpolar": [
           {
            "marker": {
             "line": {
              "color": "white",
              "width": 0.5
             },
             "pattern": {
              "fillmode": "overlay",
              "size": 10,
              "solidity": 0.2
             }
            },
            "type": "barpolar"
           }
          ],
          "carpet": [
           {
            "aaxis": {
             "endlinecolor": "#2a3f5f",
             "gridcolor": "#C8D4E3",
             "linecolor": "#C8D4E3",
             "minorgridcolor": "#C8D4E3",
             "startlinecolor": "#2a3f5f"
            },
            "baxis": {
             "endlinecolor": "#2a3f5f",
             "gridcolor": "#C8D4E3",
             "linecolor": "#C8D4E3",
             "minorgridcolor": "#C8D4E3",
             "startlinecolor": "#2a3f5f"
            },
            "type": "carpet"
           }
          ],
          "choropleth": [
           {
            "colorbar": {
             "outlinewidth": 0,
             "ticks": ""
            },
            "type": "choropleth"
           }
          ],
          "contour": [
           {
            "colorbar": {
             "outlinewidth": 0,
             "ticks": ""
            },
            "colorscale": [
             [
              0,
              "#0d0887"
             ],
             [
              0.1111111111111111,
              "#46039f"
             ],
             [
              0.2222222222222222,
              "#7201a8"
             ],
             [
              0.3333333333333333,
              "#9c179e"
             ],
             [
              0.4444444444444444,
              "#bd3786"
             ],
             [
              0.5555555555555556,
              "#d8576b"
             ],
             [
              0.6666666666666666,
              "#ed7953"
             ],
             [
              0.7777777777777778,
              "#fb9f3a"
             ],
             [
              0.8888888888888888,
              "#fdca26"
             ],
             [
              1,
              "#f0f921"
             ]
            ],
            "type": "contour"
           }
          ],
          "contourcarpet": [
           {
            "colorbar": {
             "outlinewidth": 0,
             "ticks": ""
            },
            "type": "contourcarpet"
           }
          ],
          "heatmap": [
           {
            "colorbar": {
             "outlinewidth": 0,
             "ticks": ""
            },
            "colorscale": [
             [
              0,
              "#0d0887"
             ],
             [
              0.1111111111111111,
              "#46039f"
             ],
             [
              0.2222222222222222,
              "#7201a8"
             ],
             [
              0.3333333333333333,
              "#9c179e"
             ],
             [
              0.4444444444444444,
              "#bd3786"
             ],
             [
              0.5555555555555556,
              "#d8576b"
             ],
             [
              0.6666666666666666,
              "#ed7953"
             ],
             [
              0.7777777777777778,
              "#fb9f3a"
             ],
             [
              0.8888888888888888,
              "#fdca26"
             ],
             [
              1,
              "#f0f921"
             ]
            ],
            "type": "heatmap"
           }
          ],
          "heatmapgl": [
           {
            "colorbar": {
             "outlinewidth": 0,
             "ticks": ""
            },
            "colorscale": [
             [
              0,
              "#0d0887"
             ],
             [
              0.1111111111111111,
              "#46039f"
             ],
             [
              0.2222222222222222,
              "#7201a8"
             ],
             [
              0.3333333333333333,
              "#9c179e"
             ],
             [
              0.4444444444444444,
              "#bd3786"
             ],
             [
              0.5555555555555556,
              "#d8576b"
             ],
             [
              0.6666666666666666,
              "#ed7953"
             ],
             [
              0.7777777777777778,
              "#fb9f3a"
             ],
             [
              0.8888888888888888,
              "#fdca26"
             ],
             [
              1,
              "#f0f921"
             ]
            ],
            "type": "heatmapgl"
           }
          ],
          "histogram": [
           {
            "marker": {
             "pattern": {
              "fillmode": "overlay",
              "size": 10,
              "solidity": 0.2
             }
            },
            "type": "histogram"
           }
          ],
          "histogram2d": [
           {
            "colorbar": {
             "outlinewidth": 0,
             "ticks": ""
            },
            "colorscale": [
             [
              0,
              "#0d0887"
             ],
             [
              0.1111111111111111,
              "#46039f"
             ],
             [
              0.2222222222222222,
              "#7201a8"
             ],
             [
              0.3333333333333333,
              "#9c179e"
             ],
             [
              0.4444444444444444,
              "#bd3786"
             ],
             [
              0.5555555555555556,
              "#d8576b"
             ],
             [
              0.6666666666666666,
              "#ed7953"
             ],
             [
              0.7777777777777778,
              "#fb9f3a"
             ],
             [
              0.8888888888888888,
              "#fdca26"
             ],
             [
              1,
              "#f0f921"
             ]
            ],
            "type": "histogram2d"
           }
          ],
          "histogram2dcontour": [
           {
            "colorbar": {
             "outlinewidth": 0,
             "ticks": ""
            },
            "colorscale": [
             [
              0,
              "#0d0887"
             ],
             [
              0.1111111111111111,
              "#46039f"
             ],
             [
              0.2222222222222222,
              "#7201a8"
             ],
             [
              0.3333333333333333,
              "#9c179e"
             ],
             [
              0.4444444444444444,
              "#bd3786"
             ],
             [
              0.5555555555555556,
              "#d8576b"
             ],
             [
              0.6666666666666666,
              "#ed7953"
             ],
             [
              0.7777777777777778,
              "#fb9f3a"
             ],
             [
              0.8888888888888888,
              "#fdca26"
             ],
             [
              1,
              "#f0f921"
             ]
            ],
            "type": "histogram2dcontour"
           }
          ],
          "mesh3d": [
           {
            "colorbar": {
             "outlinewidth": 0,
             "ticks": ""
            },
            "type": "mesh3d"
           }
          ],
          "parcoords": [
           {
            "line": {
             "colorbar": {
              "outlinewidth": 0,
              "ticks": ""
             }
            },
            "type": "parcoords"
           }
          ],
          "pie": [
           {
            "automargin": true,
            "type": "pie"
           }
          ],
          "scatter": [
           {
            "fillpattern": {
             "fillmode": "overlay",
             "size": 10,
             "solidity": 0.2
            },
            "type": "scatter"
           }
          ],
          "scatter3d": [
           {
            "line": {
             "colorbar": {
              "outlinewidth": 0,
              "ticks": ""
             }
            },
            "marker": {
             "colorbar": {
              "outlinewidth": 0,
              "ticks": ""
             }
            },
            "type": "scatter3d"
           }
          ],
          "scattercarpet": [
           {
            "marker": {
             "colorbar": {
              "outlinewidth": 0,
              "ticks": ""
             }
            },
            "type": "scattercarpet"
           }
          ],
          "scattergeo": [
           {
            "marker": {
             "colorbar": {
              "outlinewidth": 0,
              "ticks": ""
             }
            },
            "type": "scattergeo"
           }
          ],
          "scattergl": [
           {
            "marker": {
             "colorbar": {
              "outlinewidth": 0,
              "ticks": ""
             }
            },
            "type": "scattergl"
           }
          ],
          "scattermapbox": [
           {
            "marker": {
             "colorbar": {
              "outlinewidth": 0,
              "ticks": ""
             }
            },
            "type": "scattermapbox"
           }
          ],
          "scatterpolar": [
           {
            "marker": {
             "colorbar": {
              "outlinewidth": 0,
              "ticks": ""
             }
            },
            "type": "scatterpolar"
           }
          ],
          "scatterpolargl": [
           {
            "marker": {
             "colorbar": {
              "outlinewidth": 0,
              "ticks": ""
             }
            },
            "type": "scatterpolargl"
           }
          ],
          "scatterternary": [
           {
            "marker": {
             "colorbar": {
              "outlinewidth": 0,
              "ticks": ""
             }
            },
            "type": "scatterternary"
           }
          ],
          "surface": [
           {
            "colorbar": {
             "outlinewidth": 0,
             "ticks": ""
            },
            "colorscale": [
             [
              0,
              "#0d0887"
             ],
             [
              0.1111111111111111,
              "#46039f"
             ],
             [
              0.2222222222222222,
              "#7201a8"
             ],
             [
              0.3333333333333333,
              "#9c179e"
             ],
             [
              0.4444444444444444,
              "#bd3786"
             ],
             [
              0.5555555555555556,
              "#d8576b"
             ],
             [
              0.6666666666666666,
              "#ed7953"
             ],
             [
              0.7777777777777778,
              "#fb9f3a"
             ],
             [
              0.8888888888888888,
              "#fdca26"
             ],
             [
              1,
              "#f0f921"
             ]
            ],
            "type": "surface"
           }
          ],
          "table": [
           {
            "cells": {
             "fill": {
              "color": "#EBF0F8"
             },
             "line": {
              "color": "white"
             }
            },
            "header": {
             "fill": {
              "color": "#C8D4E3"
             },
             "line": {
              "color": "white"
             }
            },
            "type": "table"
           }
          ]
         },
         "layout": {
          "annotationdefaults": {
           "arrowcolor": "#2a3f5f",
           "arrowhead": 0,
           "arrowwidth": 1
          },
          "autotypenumbers": "strict",
          "coloraxis": {
           "colorbar": {
            "outlinewidth": 0,
            "ticks": ""
           }
          },
          "colorscale": {
           "diverging": [
            [
             0,
             "#8e0152"
            ],
            [
             0.1,
             "#c51b7d"
            ],
            [
             0.2,
             "#de77ae"
            ],
            [
             0.3,
             "#f1b6da"
            ],
            [
             0.4,
             "#fde0ef"
            ],
            [
             0.5,
             "#f7f7f7"
            ],
            [
             0.6,
             "#e6f5d0"
            ],
            [
             0.7,
             "#b8e186"
            ],
            [
             0.8,
             "#7fbc41"
            ],
            [
             0.9,
             "#4d9221"
            ],
            [
             1,
             "#276419"
            ]
           ],
           "sequential": [
            [
             0,
             "#0d0887"
            ],
            [
             0.1111111111111111,
             "#46039f"
            ],
            [
             0.2222222222222222,
             "#7201a8"
            ],
            [
             0.3333333333333333,
             "#9c179e"
            ],
            [
             0.4444444444444444,
             "#bd3786"
            ],
            [
             0.5555555555555556,
             "#d8576b"
            ],
            [
             0.6666666666666666,
             "#ed7953"
            ],
            [
             0.7777777777777778,
             "#fb9f3a"
            ],
            [
             0.8888888888888888,
             "#fdca26"
            ],
            [
             1,
             "#f0f921"
            ]
           ],
           "sequentialminus": [
            [
             0,
             "#0d0887"
            ],
            [
             0.1111111111111111,
             "#46039f"
            ],
            [
             0.2222222222222222,
             "#7201a8"
            ],
            [
             0.3333333333333333,
             "#9c179e"
            ],
            [
             0.4444444444444444,
             "#bd3786"
            ],
            [
             0.5555555555555556,
             "#d8576b"
            ],
            [
             0.6666666666666666,
             "#ed7953"
            ],
            [
             0.7777777777777778,
             "#fb9f3a"
            ],
            [
             0.8888888888888888,
             "#fdca26"
            ],
            [
             1,
             "#f0f921"
            ]
           ]
          },
          "colorway": [
           "#636efa",
           "#EF553B",
           "#00cc96",
           "#ab63fa",
           "#FFA15A",
           "#19d3f3",
           "#FF6692",
           "#B6E880",
           "#FF97FF",
           "#FECB52"
          ],
          "font": {
           "color": "#2a3f5f"
          },
          "geo": {
           "bgcolor": "white",
           "lakecolor": "white",
           "landcolor": "white",
           "showlakes": true,
           "showland": true,
           "subunitcolor": "#C8D4E3"
          },
          "hoverlabel": {
           "align": "left"
          },
          "hovermode": "closest",
          "mapbox": {
           "style": "light"
          },
          "paper_bgcolor": "white",
          "plot_bgcolor": "white",
          "polar": {
           "angularaxis": {
            "gridcolor": "#EBF0F8",
            "linecolor": "#EBF0F8",
            "ticks": ""
           },
           "bgcolor": "white",
           "radialaxis": {
            "gridcolor": "#EBF0F8",
            "linecolor": "#EBF0F8",
            "ticks": ""
           }
          },
          "scene": {
           "xaxis": {
            "backgroundcolor": "white",
            "gridcolor": "#DFE8F3",
            "gridwidth": 2,
            "linecolor": "#EBF0F8",
            "showbackground": true,
            "ticks": "",
            "zerolinecolor": "#EBF0F8"
           },
           "yaxis": {
            "backgroundcolor": "white",
            "gridcolor": "#DFE8F3",
            "gridwidth": 2,
            "linecolor": "#EBF0F8",
            "showbackground": true,
            "ticks": "",
            "zerolinecolor": "#EBF0F8"
           },
           "zaxis": {
            "backgroundcolor": "white",
            "gridcolor": "#DFE8F3",
            "gridwidth": 2,
            "linecolor": "#EBF0F8",
            "showbackground": true,
            "ticks": "",
            "zerolinecolor": "#EBF0F8"
           }
          },
          "shapedefaults": {
           "line": {
            "color": "#2a3f5f"
           }
          },
          "ternary": {
           "aaxis": {
            "gridcolor": "#DFE8F3",
            "linecolor": "#A2B1C6",
            "ticks": ""
           },
           "baxis": {
            "gridcolor": "#DFE8F3",
            "linecolor": "#A2B1C6",
            "ticks": ""
           },
           "bgcolor": "white",
           "caxis": {
            "gridcolor": "#DFE8F3",
            "linecolor": "#A2B1C6",
            "ticks": ""
           }
          },
          "title": {
           "x": 0.05
          },
          "xaxis": {
           "automargin": true,
           "gridcolor": "#EBF0F8",
           "linecolor": "#EBF0F8",
           "ticks": "",
           "title": {
            "standoff": 15
           },
           "zerolinecolor": "#EBF0F8",
           "zerolinewidth": 2
          },
          "yaxis": {
           "automargin": true,
           "gridcolor": "#EBF0F8",
           "linecolor": "#EBF0F8",
           "ticks": "",
           "title": {
            "standoff": 15
           },
           "zerolinecolor": "#EBF0F8",
           "zerolinewidth": 2
          }
         }
        },
        "title": {
         "font": {
          "color": "Black",
          "size": 22
         },
         "text": "<b>Term score decline per Topic</b>",
         "x": 0.5,
         "xanchor": "center",
         "y": 0.9,
         "yanchor": "top"
        },
        "width": 800,
        "xaxis": {
         "dtick": 2,
         "range": [
          0,
          10
         ],
         "tick0": 1,
         "title": {
          "text": "Term Rank"
         }
        },
        "yaxis": {
         "title": {
          "text": "c-TF-IDF score"
         }
        }
       }
      },
      "text/html": [
       "<div>                            <div id=\"74c08bdd-81ae-4a39-b357-1adbfd4e750a\" class=\"plotly-graph-div\" style=\"height:500px; width:800px;\"></div>            <script type=\"text/javascript\">                require([\"plotly\"], function(Plotly) {                    window.PLOTLYENV=window.PLOTLYENV || {};                                    if (document.getElementById(\"74c08bdd-81ae-4a39-b357-1adbfd4e750a\")) {                    Plotly.newPlot(                        \"74c08bdd-81ae-4a39-b357-1adbfd4e750a\",                        [{\"hovertext\":\"<b>Topic -1</b>:fire_home_fall_injury_decedent_bur\",\"line\":{\"color\":\"black\",\"width\":1.5},\"mode\":\"lines+lines\",\"name\":\"\",\"opacity\":0.1,\"x\":[1,2,3,4,5,6,7,8,9,10],\"y\":[0.01857849457716449,0.01394989211987585,0.012496504550622204,0.012421245865632643,0.011810275003208089,0.011621664740172477,0.011298190203006847,0.011003013484778092,0.010626313383932417,0.01004554538363456],\"type\":\"scatter\"},{\"hovertext\":\"<b>Topic 0</b>:bicyclist_bicycle_scooter_vehicle_c\",\"line\":{\"color\":\"black\",\"width\":1.5},\"mode\":\"lines+lines\",\"name\":\"\",\"opacity\":0.1,\"x\":[1,2,3,4,5,6,7,8,9,10],\"y\":[0.11160329571588962,0.09509836350731111,0.08393866022059748,0.0745058810821003,0.07317273736506064,0.0682136354345397,0.06397527772036082,0.062364145645772036,0.0580303330235805,0.05282800641070144],\"type\":\"scatter\"},{\"hovertext\":\"<b>Topic 1</b>:drown_death_autopsy_manner_swimming\",\"line\":{\"color\":\"black\",\"width\":1.5},\"mode\":\"lines+lines\",\"name\":\"\",\"opacity\":0.1,\"x\":[1,2,3,4,5,6,7,8,9,10],\"y\":[0.1434963973825303,0.11927949926666913,0.10765143660202732,0.09437360787572309,0.09318265402366703,0.08550118287095033,0.07921696651797126,0.07305924356193225,0.0717602933614927,0.06093744286552632],\"type\":\"scatter\"},{\"hovertext\":\"<b>Topic 2</b>:ladder_fall_stair_head_decedent_sub\",\"line\":{\"color\":\"black\",\"width\":1.5},\"mode\":\"lines+lines\",\"name\":\"\",\"opacity\":0.1,\"x\":[1,2,3,4,5,6,7,8,9,10],\"y\":[0.12411935914409791,0.10185490938345423,0.08981991187762198,0.08220008213595603,0.056766071689115,0.056580758743918304,0.05110237968455373,0.03658454347799348,0.032623101379112285,0.031275806686558584],\"type\":\"scatter\"},{\"hovertext\":\"<b>Topic 3</b>:electrical_extension_cord_fire_spac\",\"line\":{\"color\":\"black\",\"width\":1.5},\"mode\":\"lines+lines\",\"name\":\"\",\"opacity\":0.1,\"x\":[1,2,3,4,5,6,7,8,9,10],\"y\":[0.062159996898183245,0.05346174865631592,0.052683583338088494,0.04651608140792409,0.03831588602099207,0.037719951136532336,0.033683398606441796,0.033357405919939374,0.03173212891337518,0.030481790601962332],\"type\":\"scatter\"},{\"hovertext\":\"<b>Topic 4</b>:apartment_candle_fire_stove_buildin\",\"line\":{\"color\":\"black\",\"width\":1.5},\"mode\":\"lines+lines\",\"name\":\"\",\"opacity\":0.1,\"x\":[1,2,3,4,5,6,7,8,9,10],\"y\":[0.11906041307918176,0.08036017797480682,0.07439642260828383,0.050887815498592205,0.046300207693900364,0.04499696226359889,0.041185852574109394,0.03608766659060868,0.03387926350916565,0.02718287780758466],\"type\":\"scatter\"},{\"hovertext\":\"<b>Topic 5</b>:toy_battery_mouth_laptop_child_paci\",\"line\":{\"color\":\"black\",\"width\":1.5},\"mode\":\"lines+lines\",\"name\":\"\",\"opacity\":0.1,\"x\":[1,2,3,4,5,6,7,8,9,10],\"y\":[0.07768033148033363,0.04804033561968438,0.0340562177561759,0.030302700654397476,0.028036742382949557,0.026957624126956813,0.02662809559022514,0.026275807767043545,0.022461067653562646,0.021944692677494732],\"type\":\"scatter\"},{\"hovertext\":\"<b>Topic 6</b>:terrain_vehicle_golf_cart_autopsy_i\",\"line\":{\"color\":\"black\",\"width\":1.5},\"mode\":\"lines+lines\",\"name\":\"\",\"opacity\":0.1,\"x\":[1,2,3,4,5,6,7,8,9,10],\"y\":[0.10416818330253584,0.10002991727218022,0.08857499863354235,0.0650433024081301,0.06412809152957706,0.0600224501628157,0.05889290441154201,0.057131188512743084,0.055422262173228085,0.05055885444274664],\"type\":\"scatter\"},{\"hovertext\":\"<b>Topic 7</b>:fire_house_firefighter_window_home_\",\"line\":{\"color\":\"black\",\"width\":1.5},\"mode\":\"lines+lines\",\"name\":\"\",\"opacity\":0.1,\"x\":[1,2,3,4,5,6,7,8,9,10],\"y\":[0.06692325669103832,0.05787315023454868,0.051237862981184795,0.04663479788610197,0.035635244133762525,0.03272113976010102,0.030894103644622483,0.030016705712005484,0.02964472503411983,0.028198602979263653],\"type\":\"scatter\"},{\"hovertext\":\"<b>Topic 9</b>:fall_head_floor_decedent_autopsy_nu\",\"line\":{\"color\":\"black\",\"width\":1.5},\"mode\":\"lines+lines\",\"name\":\"\",\"opacity\":0.1,\"x\":[1,2,3,4,5,6,7,8,9,10],\"y\":[0.1332022995112296,0.13088304564031156,0.08621031253474774,0.08310178874433212,0.06844527847508618,0.0677017919827119,0.0655371914587628,0.05986189065914384,0.04853210621980951,0.044536238203374046],\"type\":\"scatter\"},{\"hovertext\":\"<b>Topic 10</b>:sleep_autopsy_overlay_adult_bed_de\",\"line\":{\"color\":\"black\",\"width\":1.5},\"mode\":\"lines+lines\",\"name\":\"\",\"opacity\":0.1,\"x\":[1,2,3,4,5,6,7,8,9,10],\"y\":[0.13848529327103926,0.13467679081752845,0.10430086383356124,0.10113794141211674,0.09418178630961334,0.0837599879265787,0.07557719717990345,0.07405293706567838,0.06854102090646988,0.0605666821916782],\"type\":\"scatter\"},{\"hovertext\":\"<b>Topic 11</b>:pool_boy_drown_swimming_pool_pull_\",\"line\":{\"color\":\"black\",\"width\":1.5},\"mode\":\"lines+lines\",\"name\":\"\",\"opacity\":0.1,\"x\":[1,2,3,4,5,6,7,8,9,10],\"y\":[0.20455111617767902,0.08776004125275601,0.07962116955900811,0.07860922503588223,0.07422155617442858,0.06936432247343927,0.06781414567241915,0.0622617269047042,0.0527658558421651,0.045645132249722505],\"type\":\"scatter\"},{\"hovertext\":\"<b>Topic 12</b>:pronounce_dead_pronounce_pool_swim\",\"line\":{\"color\":\"black\",\"width\":1.5},\"mode\":\"lines+lines\",\"name\":\"\",\"opacity\":0.1,\"x\":[1,2,3,4,5,6,7,8,9,10],\"y\":[0.13887825711468565,0.10890306757057419,0.10033224296704155,0.06861548196053546,0.06371619348589333,0.054398797532684305,0.05117226125378629,0.04857610904460805,0.0409950010075534,0.03797975871596078],\"type\":\"scatter\"},{\"hovertext\":\"<b>Topic 13</b>:hip_fracture_floor_fall_hip_fan_de\",\"line\":{\"color\":\"black\",\"width\":1.5},\"mode\":\"lines+lines\",\"name\":\"\",\"opacity\":0.1,\"x\":[1,2,3,4,5,6,7,8,9,10],\"y\":[0.1417756288215951,0.10002669678905976,0.09315946859573503,0.09027795921959429,0.0696087666678805,0.062047580801220664,0.04979620152682572,0.04394379530210201,0.04383672105519384,0.04266012320668647],\"type\":\"scatter\"},{\"hovertext\":\"<b>Topic 14</b>:thermal_burn_inhalation_clothing_d\",\"line\":{\"color\":\"black\",\"width\":1.5},\"mode\":\"lines+lines\",\"name\":\"\",\"opacity\":0.1,\"x\":[1,2,3,4,5,6,7,8,9,10],\"y\":[0.12658609602379656,0.07053362604429916,0.05829502477548774,0.050076491257321165,0.0487715423775728,0.04869808818388196,0.04585063517155239,0.0430286504818466,0.04069389862509665,0.03702483172924294],\"type\":\"scatter\"},{\"hovertext\":\"<b>Topic 15</b>:drown_hot_tub_autopsy_pool_deceden\",\"line\":{\"color\":\"black\",\"width\":1.5},\"mode\":\"lines+lines\",\"name\":\"\",\"opacity\":0.1,\"x\":[1,2,3,4,5,6,7,8,9,10],\"y\":[0.42461503006178486,0.2553696025045548,0.2168851064939031,0.15017724984830988,0.12524743159289423,0.09199587677144602,0.04971076054911138,0.038855171302450545,0.0325392406732184,0.03252758886537617],\"type\":\"scatter\"},{\"hovertext\":\"<b>Topic 16</b>:glass_shower_door_shatter_oven_exp\",\"line\":{\"color\":\"black\",\"width\":1.5},\"mode\":\"lines+lines\",\"name\":\"\",\"opacity\":0.1,\"x\":[1,2,3,4,5,6,7,8,9,10],\"y\":[0.142713149005667,0.08584723803535829,0.08190673790434241,0.0765858379152963,0.06984234621271092,0.06033490883090424,0.03404913356110741,0.03390279584719582,0.029750757551988825,0.027679504161249813],\"type\":\"scatter\"},{\"hovertext\":\"<b>Topic 17</b>:chair_stroller_seat_swing_shade_si\",\"line\":{\"color\":\"black\",\"width\":1.5},\"mode\":\"lines+lines\",\"name\":\"\",\"opacity\":0.1,\"x\":[1,2,3,4,5,6,7,8,9,10],\"y\":[0.09684052005644107,0.09121408372730479,0.061155054608125634,0.03452783371485336,0.03427462901287,0.02812176855483124,0.02679852960538847,0.0233995052340329,0.023381967743142638,0.020035670524435414],\"type\":\"scatter\"},{\"hovertext\":\"<b>Topic 18</b>:burner_grill_knob_turn_gas_stove_m\",\"line\":{\"color\":\"black\",\"width\":1.5},\"mode\":\"lines+lines\",\"name\":\"\",\"opacity\":0.1,\"x\":[1,2,3,4,5,6,7,8,9,10],\"y\":[0.09141311583924876,0.09107382798488722,0.06586944866591117,0.05743851414861444,0.05734380966942332,0.037990255896765766,0.022389677354092783,0.022257138240658173,0.021345620231129944,0.01794881239447025],\"type\":\"scatter\"},{\"hovertext\":\"<b>Topic 19</b>:unresponsive_blanket_bed_sleep_mot\",\"line\":{\"color\":\"black\",\"width\":1.5},\"mode\":\"lines+lines\",\"name\":\"\",\"opacity\":0.1,\"x\":[1,2,3,4,5,6,7,8,9,10],\"y\":[0.0910771928172274,0.08636456409733596,0.07830411849175169,0.07343797565930493,0.07000654852445387,0.056022581113531686,0.055698474354824716,0.053292560739903364,0.04472916939212723,0.04403678305141985],\"type\":\"scatter\"},{\"hovertext\":\"<b>Topic 20</b>:oven_turn_toaster_rack_broiler_ele\",\"line\":{\"color\":\"black\",\"width\":1.5},\"mode\":\"lines+lines\",\"name\":\"\",\"opacity\":0.1,\"x\":[1,2,3,4,5,6,7,8,9,10],\"y\":[0.1589350553658441,0.04980081288705989,0.039105684199564686,0.03858394290185813,0.02221956014608042,0.022061167176214744,0.021664963802894507,0.021364139902324046,0.0212420519366433,0.020322996868601208],\"type\":\"scatter\"},{\"hovertext\":\"<b>Topic 21</b>:atv_crash_drive_roll_lose_control_\",\"line\":{\"color\":\"black\",\"width\":1.5},\"mode\":\"lines+lines\",\"name\":\"\",\"opacity\":0.1,\"x\":[1,2,3,4,5,6,7,8,9,10],\"y\":[0.10941637899110741,0.07028937702566256,0.06611823195198852,0.06416220457132714,0.05735104742793075,0.05649518097138097,0.056076688452520035,0.05578030568904387,0.05463184157107629,0.049834898250694544],\"type\":\"scatter\"},{\"hovertext\":\"<b>Topic 22</b>:microwave_door_turn_oven_unplug_st\",\"line\":{\"color\":\"black\",\"width\":1.5},\"mode\":\"lines+lines\",\"name\":\"\",\"opacity\":0.1,\"x\":[1,2,3,4,5,6,7,8,9,10],\"y\":[0.2754959619598151,0.04222038277758232,0.034721319633484654,0.0343637371266678,0.03405550967395689,0.028025431776768424,0.024473582237036343,0.023340742840605402,0.022086226791700185,0.02150080035084535],\"type\":\"scatter\"},{\"hovertext\":\"<b>Topic 23</b>:difluoroethane_autopsy_inhalation_\",\"line\":{\"color\":\"black\",\"width\":1.5},\"mode\":\"lines+lines\",\"name\":\"\",\"opacity\":0.1,\"x\":[1,2,3,4,5,6,7,8,9,10],\"y\":[0.19586016661300476,0.11179516541030339,0.06616491025635737,0.058041183419303505,0.04676241657252173,0.04557480061142946,0.04273028970113095,0.04036458107586459,0.03889378096004479,0.03629405890287135],\"type\":\"scatter\"},{\"hovertext\":\"<b>Topic 24</b>:dishwasher_melt_smoke_door_cycle_c\",\"line\":{\"color\":\"black\",\"width\":1.5},\"mode\":\"lines+lines\",\"name\":\"\",\"opacity\":0.1,\"x\":[1,2,3,4,5,6,7,8,9,10],\"y\":[0.26208091640274844,0.04103525393086206,0.04059552510170543,0.039805418690688196,0.0385988807093261,0.03299847362623696,0.03238249311307475,0.03226819609553745,0.030065448243137668,0.028553560316003385],\"type\":\"scatter\"},{\"hovertext\":\"<b>Topic 25</b>:chimney_fire_home_fireplace_house_\",\"line\":{\"color\":\"black\",\"width\":1.5},\"mode\":\"lines+lines\",\"name\":\"\",\"opacity\":0.1,\"x\":[1,2,3,4,5,6,7,8,9,10],\"y\":[0.20405562338119543,0.08862443648652642,0.05976342198773915,0.057578796067067554,0.053095586402053675,0.0508587662403807,0.047679377155238796,0.04249724746179291,0.04124693335660552,0.036583209617410885],\"type\":\"scatter\"},{\"hovertext\":\"<b>Topic 26</b>:bulb_lamp_light_fixture_base_light\",\"line\":{\"color\":\"black\",\"width\":1.5},\"mode\":\"lines+lines\",\"name\":\"\",\"opacity\":0.1,\"x\":[1,2,3,4,5,6,7,8,9,10],\"y\":[0.20187080856073727,0.09459929140308265,0.07614045806612071,0.06693572084272163,0.04578002761425947,0.04023254630823544,0.03427528707794079,0.03102225245770551,0.027460185755572273,0.02733996786939941],\"type\":\"scatter\"},{\"hovertext\":\"<b>Topic 27</b>:mower_lawn_mower_fuel_gas_tank_lea\",\"line\":{\"color\":\"black\",\"width\":1.5},\"mode\":\"lines+lines\",\"name\":\"\",\"opacity\":0.1,\"x\":[1,2,3,4,5,6,7,8,9,10],\"y\":[0.08531466957914519,0.05592262295523314,0.05355263943399771,0.05165142668946361,0.05073745069068468,0.050065250212132255,0.039460594048055284,0.03681091922392859,0.03445685102636064,0.03025157855561109],\"type\":\"scatter\"},{\"hovertext\":\"<b>Topic 28</b>:carbon_monoxide_furnace_level_leak\",\"line\":{\"color\":\"black\",\"width\":1.5},\"mode\":\"lines+lines\",\"name\":\"\",\"opacity\":0.1,\"x\":[1,2,3,4,5,6,7,8,9,10],\"y\":[0.17635319978651356,0.0867713536211518,0.0655962556915461,0.06211642352236204,0.05688723755600072,0.04075293003629716,0.0399461682957572,0.039458035566749095,0.03924391955337174,0.03884472973661831],\"type\":\"scatter\"},{\"hovertext\":\"<b>Topic 29</b>:refrigerator_freezer_fridge_ice_ic\",\"line\":{\"color\":\"black\",\"width\":1.5},\"mode\":\"lines+lines\",\"name\":\"\",\"opacity\":0.1,\"x\":[1,2,3,4,5,6,7,8,9,10],\"y\":[0.191860139791934,0.06355585031989323,0.06307961113809965,0.049636717109584554,0.04335215507892473,0.03248493704156819,0.03210182098450826,0.028842472567974703,0.023949561726530056,0.023901058150480065],\"type\":\"scatter\"},{\"hovertext\":\"<b>Topic 30</b>:phone_device_charge_charger_cable_\",\"line\":{\"color\":\"black\",\"width\":1.5},\"mode\":\"lines+lines\",\"name\":\"\",\"opacity\":0.1,\"x\":[1,2,3,4,5,6,7,8,9,10],\"y\":[0.15366092840449092,0.1020399836880455,0.08457487169897361,0.08371550308621982,0.057243570955672535,0.04813784422119098,0.04371699191091726,0.03800024345878901,0.035782559128939614,0.03320584824027773],\"type\":\"scatter\"},{\"hovertext\":\"<b>Topic 31</b>:snowmobile_tree_trail_crash_accide\",\"line\":{\"color\":\"black\",\"width\":1.5},\"mode\":\"lines+lines\",\"name\":\"\",\"opacity\":0.1,\"x\":[1,2,3,4,5,6,7,8,9,10],\"y\":[0.38867311512615904,0.09980897050791154,0.09555814594406858,0.08483336408543256,0.05128325138724304,0.04968312796887649,0.04301811288197811,0.03901186262319234,0.03750371953179446,0.036878289383628436],\"type\":\"scatter\"},{\"hovertext\":\"<b>Topic 32</b>:firework_hand_explode_injure_injur\",\"line\":{\"color\":\"black\",\"width\":1.5},\"mode\":\"lines+lines\",\"name\":\"\",\"opacity\":0.1,\"x\":[1,2,3,4,5,6,7,8,9,10],\"y\":[0.3060076214000372,0.07539929242703645,0.05267668884946352,0.03708200519613836,0.0333481958559899,0.03121607460003484,0.030983469416861874,0.03029062647464992,0.02983849381963331,0.028934320033439053],\"type\":\"scatter\"},{\"hovertext\":\"<b>Topic 33</b>:pronounce_dead_ski_hospital_die_sk\",\"line\":{\"color\":\"black\",\"width\":1.5},\"mode\":\"lines+lines\",\"name\":\"\",\"opacity\":0.1,\"x\":[1,2,3,4,5,6,7,8,9,10],\"y\":[0.14470380332486607,0.07833549303872345,0.06238561804763624,0.05744426708486421,0.05597185277203547,0.04293955759403647,0.037108864557588495,0.0366279053994483,0.03508619663945533,0.034620797778846434],\"type\":\"scatter\"},{\"hovertext\":\"<b>Topic 34</b>:bathtub_drown_autopsy_seizure_drow\",\"line\":{\"color\":\"black\",\"width\":1.5},\"mode\":\"lines+lines\",\"name\":\"\",\"opacity\":0.1,\"x\":[1,2,3,4,5,6,7,8,9,10],\"y\":[0.3570398164951736,0.21518317777828558,0.1275789204373819,0.11408572060147903,0.10344036795316937,0.08727386261589014,0.06455802693059332,0.060766880468819,0.06066250498732687,0.05468586442734266],\"type\":\"scatter\"},{\"hovertext\":\"<b>Topic 35</b>:hip_fracture_hip_fall_floor_hospic\",\"line\":{\"color\":\"black\",\"width\":1.5},\"mode\":\"lines+lines\",\"name\":\"\",\"opacity\":0.1,\"x\":[1,2,3,4,5,6,7,8,9,10],\"y\":[0.10659930743326698,0.10138110413028262,0.09144088369006165,0.08555993954080125,0.08185907581923489,0.05869499806900443,0.04844941808838453,0.0441870397542567,0.04341724033159064,0.034819831477511984],\"type\":\"scatter\"},{\"hovertext\":\"<b>Topic 36</b>:blade_blender_food_processor_cut_t\",\"line\":{\"color\":\"black\",\"width\":1.5},\"mode\":\"lines+lines\",\"name\":\"\",\"opacity\":0.1,\"x\":[1,2,3,4,5,6,7,8,9,10],\"y\":[0.16070958266215388,0.07128069619410898,0.05460351401189231,0.05293885409900991,0.045213675129975796,0.04006315724593305,0.03758373604210103,0.03586702674605895,0.031536823813824916,0.03000499784790571],\"type\":\"scatter\"},{\"hovertext\":\"<b>Topic 37</b>:bicycle_head_autopsy_decedent_ride\",\"line\":{\"color\":\"black\",\"width\":1.5},\"mode\":\"lines+lines\",\"name\":\"\",\"opacity\":0.1,\"x\":[1,2,3,4,5,6,7,8,9,10],\"y\":[0.2114652888209043,0.07363760444435564,0.070645760502075,0.07036585080335492,0.07005654953332371,0.06782736236210712,0.06164232234132856,0.054274618024789154,0.05248906135306817,0.05039549636782425],\"type\":\"scatter\"},{\"hovertext\":\"<b>Topic 38</b>:garage_carbon_monoxide_autopsy_inh\",\"line\":{\"color\":\"black\",\"width\":1.5},\"mode\":\"lines+lines\",\"name\":\"\",\"opacity\":0.1,\"x\":[1,2,3,4,5,6,7,8,9,10],\"y\":[0.18325167254534755,0.15459742497782608,0.11773762923954738,0.07639313622473762,0.07204143736650735,0.07021322621899945,0.06676366326967588,0.06346163965271302,0.05573753747471619,0.05330928113409094],\"type\":\"scatter\"},{\"hovertext\":\"<b>Topic 39</b>:generator_unknown_autopsy_die_pati\",\"line\":{\"color\":\"black\",\"width\":1.5},\"mode\":\"lines+lines\",\"name\":\"\",\"opacity\":0.1,\"x\":[1,2,3,4,5,6,7,8,9,10],\"y\":[0.19355534247291148,0.10927658994505643,0.09589992373983006,0.07434815129409672,0.07394769673158519,0.05260398319043923,0.04594701539909055,0.04587596666116514,0.03730410392173276,0.033142740570847935],\"type\":\"scatter\"},{\"hovertext\":\"<b>Topic 40</b>:drown_swimming_pool_autopsy_hotel_\",\"line\":{\"color\":\"black\",\"width\":1.5},\"mode\":\"lines+lines\",\"name\":\"\",\"opacity\":0.1,\"x\":[1,2,3,4,5,6,7,8,9,10],\"y\":[0.37753931404042956,0.35824811030714765,0.19647196143447063,0.10034714459639743,0.09890973543956426,0.05224076273330262,0.04807436206907148,0.044083265655733964,0.041294898531034636,0.03796810470637329],\"type\":\"scatter\"},{\"hovertext\":\"<b>Topic 41</b>:washer_machine_washing_machine_spi\",\"line\":{\"color\":\"black\",\"width\":1.5},\"mode\":\"lines+lines\",\"name\":\"\",\"opacity\":0.1,\"x\":[1,2,3,4,5,6,7,8,9,10],\"y\":[0.17845993362725265,0.09604664802632819,0.08383175198907666,0.04748133062243772,0.038758960094356996,0.03667901278742838,0.03576871458796391,0.03566069493551869,0.03472499239822948,0.0299634698824372],\"type\":\"scatter\"}],                        {\"template\":{\"data\":{\"barpolar\":[{\"marker\":{\"line\":{\"color\":\"white\",\"width\":0.5},\"pattern\":{\"fillmode\":\"overlay\",\"size\":10,\"solidity\":0.2}},\"type\":\"barpolar\"}],\"bar\":[{\"error_x\":{\"color\":\"#2a3f5f\"},\"error_y\":{\"color\":\"#2a3f5f\"},\"marker\":{\"line\":{\"color\":\"white\",\"width\":0.5},\"pattern\":{\"fillmode\":\"overlay\",\"size\":10,\"solidity\":0.2}},\"type\":\"bar\"}],\"carpet\":[{\"aaxis\":{\"endlinecolor\":\"#2a3f5f\",\"gridcolor\":\"#C8D4E3\",\"linecolor\":\"#C8D4E3\",\"minorgridcolor\":\"#C8D4E3\",\"startlinecolor\":\"#2a3f5f\"},\"baxis\":{\"endlinecolor\":\"#2a3f5f\",\"gridcolor\":\"#C8D4E3\",\"linecolor\":\"#C8D4E3\",\"minorgridcolor\":\"#C8D4E3\",\"startlinecolor\":\"#2a3f5f\"},\"type\":\"carpet\"}],\"choropleth\":[{\"colorbar\":{\"outlinewidth\":0,\"ticks\":\"\"},\"type\":\"choropleth\"}],\"contourcarpet\":[{\"colorbar\":{\"outlinewidth\":0,\"ticks\":\"\"},\"type\":\"contourcarpet\"}],\"contour\":[{\"colorbar\":{\"outlinewidth\":0,\"ticks\":\"\"},\"colorscale\":[[0.0,\"#0d0887\"],[0.1111111111111111,\"#46039f\"],[0.2222222222222222,\"#7201a8\"],[0.3333333333333333,\"#9c179e\"],[0.4444444444444444,\"#bd3786\"],[0.5555555555555556,\"#d8576b\"],[0.6666666666666666,\"#ed7953\"],[0.7777777777777778,\"#fb9f3a\"],[0.8888888888888888,\"#fdca26\"],[1.0,\"#f0f921\"]],\"type\":\"contour\"}],\"heatmapgl\":[{\"colorbar\":{\"outlinewidth\":0,\"ticks\":\"\"},\"colorscale\":[[0.0,\"#0d0887\"],[0.1111111111111111,\"#46039f\"],[0.2222222222222222,\"#7201a8\"],[0.3333333333333333,\"#9c179e\"],[0.4444444444444444,\"#bd3786\"],[0.5555555555555556,\"#d8576b\"],[0.6666666666666666,\"#ed7953\"],[0.7777777777777778,\"#fb9f3a\"],[0.8888888888888888,\"#fdca26\"],[1.0,\"#f0f921\"]],\"type\":\"heatmapgl\"}],\"heatmap\":[{\"colorbar\":{\"outlinewidth\":0,\"ticks\":\"\"},\"colorscale\":[[0.0,\"#0d0887\"],[0.1111111111111111,\"#46039f\"],[0.2222222222222222,\"#7201a8\"],[0.3333333333333333,\"#9c179e\"],[0.4444444444444444,\"#bd3786\"],[0.5555555555555556,\"#d8576b\"],[0.6666666666666666,\"#ed7953\"],[0.7777777777777778,\"#fb9f3a\"],[0.8888888888888888,\"#fdca26\"],[1.0,\"#f0f921\"]],\"type\":\"heatmap\"}],\"histogram2dcontour\":[{\"colorbar\":{\"outlinewidth\":0,\"ticks\":\"\"},\"colorscale\":[[0.0,\"#0d0887\"],[0.1111111111111111,\"#46039f\"],[0.2222222222222222,\"#7201a8\"],[0.3333333333333333,\"#9c179e\"],[0.4444444444444444,\"#bd3786\"],[0.5555555555555556,\"#d8576b\"],[0.6666666666666666,\"#ed7953\"],[0.7777777777777778,\"#fb9f3a\"],[0.8888888888888888,\"#fdca26\"],[1.0,\"#f0f921\"]],\"type\":\"histogram2dcontour\"}],\"histogram2d\":[{\"colorbar\":{\"outlinewidth\":0,\"ticks\":\"\"},\"colorscale\":[[0.0,\"#0d0887\"],[0.1111111111111111,\"#46039f\"],[0.2222222222222222,\"#7201a8\"],[0.3333333333333333,\"#9c179e\"],[0.4444444444444444,\"#bd3786\"],[0.5555555555555556,\"#d8576b\"],[0.6666666666666666,\"#ed7953\"],[0.7777777777777778,\"#fb9f3a\"],[0.8888888888888888,\"#fdca26\"],[1.0,\"#f0f921\"]],\"type\":\"histogram2d\"}],\"histogram\":[{\"marker\":{\"pattern\":{\"fillmode\":\"overlay\",\"size\":10,\"solidity\":0.2}},\"type\":\"histogram\"}],\"mesh3d\":[{\"colorbar\":{\"outlinewidth\":0,\"ticks\":\"\"},\"type\":\"mesh3d\"}],\"parcoords\":[{\"line\":{\"colorbar\":{\"outlinewidth\":0,\"ticks\":\"\"}},\"type\":\"parcoords\"}],\"pie\":[{\"automargin\":true,\"type\":\"pie\"}],\"scatter3d\":[{\"line\":{\"colorbar\":{\"outlinewidth\":0,\"ticks\":\"\"}},\"marker\":{\"colorbar\":{\"outlinewidth\":0,\"ticks\":\"\"}},\"type\":\"scatter3d\"}],\"scattercarpet\":[{\"marker\":{\"colorbar\":{\"outlinewidth\":0,\"ticks\":\"\"}},\"type\":\"scattercarpet\"}],\"scattergeo\":[{\"marker\":{\"colorbar\":{\"outlinewidth\":0,\"ticks\":\"\"}},\"type\":\"scattergeo\"}],\"scattergl\":[{\"marker\":{\"colorbar\":{\"outlinewidth\":0,\"ticks\":\"\"}},\"type\":\"scattergl\"}],\"scattermapbox\":[{\"marker\":{\"colorbar\":{\"outlinewidth\":0,\"ticks\":\"\"}},\"type\":\"scattermapbox\"}],\"scatterpolargl\":[{\"marker\":{\"colorbar\":{\"outlinewidth\":0,\"ticks\":\"\"}},\"type\":\"scatterpolargl\"}],\"scatterpolar\":[{\"marker\":{\"colorbar\":{\"outlinewidth\":0,\"ticks\":\"\"}},\"type\":\"scatterpolar\"}],\"scatter\":[{\"fillpattern\":{\"fillmode\":\"overlay\",\"size\":10,\"solidity\":0.2},\"type\":\"scatter\"}],\"scatterternary\":[{\"marker\":{\"colorbar\":{\"outlinewidth\":0,\"ticks\":\"\"}},\"type\":\"scatterternary\"}],\"surface\":[{\"colorbar\":{\"outlinewidth\":0,\"ticks\":\"\"},\"colorscale\":[[0.0,\"#0d0887\"],[0.1111111111111111,\"#46039f\"],[0.2222222222222222,\"#7201a8\"],[0.3333333333333333,\"#9c179e\"],[0.4444444444444444,\"#bd3786\"],[0.5555555555555556,\"#d8576b\"],[0.6666666666666666,\"#ed7953\"],[0.7777777777777778,\"#fb9f3a\"],[0.8888888888888888,\"#fdca26\"],[1.0,\"#f0f921\"]],\"type\":\"surface\"}],\"table\":[{\"cells\":{\"fill\":{\"color\":\"#EBF0F8\"},\"line\":{\"color\":\"white\"}},\"header\":{\"fill\":{\"color\":\"#C8D4E3\"},\"line\":{\"color\":\"white\"}},\"type\":\"table\"}]},\"layout\":{\"annotationdefaults\":{\"arrowcolor\":\"#2a3f5f\",\"arrowhead\":0,\"arrowwidth\":1},\"autotypenumbers\":\"strict\",\"coloraxis\":{\"colorbar\":{\"outlinewidth\":0,\"ticks\":\"\"}},\"colorscale\":{\"diverging\":[[0,\"#8e0152\"],[0.1,\"#c51b7d\"],[0.2,\"#de77ae\"],[0.3,\"#f1b6da\"],[0.4,\"#fde0ef\"],[0.5,\"#f7f7f7\"],[0.6,\"#e6f5d0\"],[0.7,\"#b8e186\"],[0.8,\"#7fbc41\"],[0.9,\"#4d9221\"],[1,\"#276419\"]],\"sequential\":[[0.0,\"#0d0887\"],[0.1111111111111111,\"#46039f\"],[0.2222222222222222,\"#7201a8\"],[0.3333333333333333,\"#9c179e\"],[0.4444444444444444,\"#bd3786\"],[0.5555555555555556,\"#d8576b\"],[0.6666666666666666,\"#ed7953\"],[0.7777777777777778,\"#fb9f3a\"],[0.8888888888888888,\"#fdca26\"],[1.0,\"#f0f921\"]],\"sequentialminus\":[[0.0,\"#0d0887\"],[0.1111111111111111,\"#46039f\"],[0.2222222222222222,\"#7201a8\"],[0.3333333333333333,\"#9c179e\"],[0.4444444444444444,\"#bd3786\"],[0.5555555555555556,\"#d8576b\"],[0.6666666666666666,\"#ed7953\"],[0.7777777777777778,\"#fb9f3a\"],[0.8888888888888888,\"#fdca26\"],[1.0,\"#f0f921\"]]},\"colorway\":[\"#636efa\",\"#EF553B\",\"#00cc96\",\"#ab63fa\",\"#FFA15A\",\"#19d3f3\",\"#FF6692\",\"#B6E880\",\"#FF97FF\",\"#FECB52\"],\"font\":{\"color\":\"#2a3f5f\"},\"geo\":{\"bgcolor\":\"white\",\"lakecolor\":\"white\",\"landcolor\":\"white\",\"showlakes\":true,\"showland\":true,\"subunitcolor\":\"#C8D4E3\"},\"hoverlabel\":{\"align\":\"left\"},\"hovermode\":\"closest\",\"mapbox\":{\"style\":\"light\"},\"paper_bgcolor\":\"white\",\"plot_bgcolor\":\"white\",\"polar\":{\"angularaxis\":{\"gridcolor\":\"#EBF0F8\",\"linecolor\":\"#EBF0F8\",\"ticks\":\"\"},\"bgcolor\":\"white\",\"radialaxis\":{\"gridcolor\":\"#EBF0F8\",\"linecolor\":\"#EBF0F8\",\"ticks\":\"\"}},\"scene\":{\"xaxis\":{\"backgroundcolor\":\"white\",\"gridcolor\":\"#DFE8F3\",\"gridwidth\":2,\"linecolor\":\"#EBF0F8\",\"showbackground\":true,\"ticks\":\"\",\"zerolinecolor\":\"#EBF0F8\"},\"yaxis\":{\"backgroundcolor\":\"white\",\"gridcolor\":\"#DFE8F3\",\"gridwidth\":2,\"linecolor\":\"#EBF0F8\",\"showbackground\":true,\"ticks\":\"\",\"zerolinecolor\":\"#EBF0F8\"},\"zaxis\":{\"backgroundcolor\":\"white\",\"gridcolor\":\"#DFE8F3\",\"gridwidth\":2,\"linecolor\":\"#EBF0F8\",\"showbackground\":true,\"ticks\":\"\",\"zerolinecolor\":\"#EBF0F8\"}},\"shapedefaults\":{\"line\":{\"color\":\"#2a3f5f\"}},\"ternary\":{\"aaxis\":{\"gridcolor\":\"#DFE8F3\",\"linecolor\":\"#A2B1C6\",\"ticks\":\"\"},\"baxis\":{\"gridcolor\":\"#DFE8F3\",\"linecolor\":\"#A2B1C6\",\"ticks\":\"\"},\"bgcolor\":\"white\",\"caxis\":{\"gridcolor\":\"#DFE8F3\",\"linecolor\":\"#A2B1C6\",\"ticks\":\"\"}},\"title\":{\"x\":0.05},\"xaxis\":{\"automargin\":true,\"gridcolor\":\"#EBF0F8\",\"linecolor\":\"#EBF0F8\",\"ticks\":\"\",\"title\":{\"standoff\":15},\"zerolinecolor\":\"#EBF0F8\",\"zerolinewidth\":2},\"yaxis\":{\"automargin\":true,\"gridcolor\":\"#EBF0F8\",\"linecolor\":\"#EBF0F8\",\"ticks\":\"\",\"title\":{\"standoff\":15},\"zerolinecolor\":\"#EBF0F8\",\"zerolinewidth\":2}}},\"xaxis\":{\"range\":[0,10],\"tick0\":1,\"dtick\":2,\"title\":{\"text\":\"Term Rank\"}},\"title\":{\"font\":{\"size\":22,\"color\":\"Black\"},\"text\":\"<b>Term score decline per Topic</b>\",\"y\":0.9,\"x\":0.5,\"xanchor\":\"center\",\"yanchor\":\"top\"},\"hoverlabel\":{\"font\":{\"size\":16,\"family\":\"Rockwell\"},\"bgcolor\":\"white\"},\"showlegend\":false,\"width\":800,\"height\":500,\"yaxis\":{\"title\":{\"text\":\"c-TF-IDF score\"}}},                        {\"responsive\": true}                    ).then(function(){\n",
       "                            \n",
       "var gd = document.getElementById('74c08bdd-81ae-4a39-b357-1adbfd4e750a');\n",
       "var x = new MutationObserver(function (mutations, observer) {{\n",
       "        var display = window.getComputedStyle(gd).display;\n",
       "        if (!display || display === 'none') {{\n",
       "            console.log([gd, 'removed!']);\n",
       "            Plotly.purge(gd);\n",
       "            observer.disconnect();\n",
       "        }}\n",
       "}});\n",
       "\n",
       "// Listen for the removal of the full notebook cells\n",
       "var notebookContainer = gd.closest('#notebook-container');\n",
       "if (notebookContainer) {{\n",
       "    x.observe(notebookContainer, {childList: true});\n",
       "}}\n",
       "\n",
       "// Listen for the clearing of the current output cell\n",
       "var outputEl = gd.closest('.output');\n",
       "if (outputEl) {{\n",
       "    x.observe(outputEl, {childList: true});\n",
       "}}\n",
       "\n",
       "                        })                };                });            </script>        </div>"
      ]
     },
     "metadata": {},
     "output_type": "display_data"
    }
   ],
   "source": [
    "optimal_model.visualize_term_rank()"
   ]
  },
  {
   "cell_type": "markdown",
   "id": "06c02dd1",
   "metadata": {},
   "source": [
    "#### Detect topic related to specific key word\n",
    "Searching topic related to specific key word"
   ]
  },
  {
   "cell_type": "code",
   "execution_count": 38,
   "id": "2c473527",
   "metadata": {},
   "outputs": [
    {
     "data": {
      "text/plain": [
       "[7, -1, 16, 19, 22]"
      ]
     },
     "execution_count": 38,
     "metadata": {},
     "output_type": "execute_result"
    }
   ],
   "source": [
    "similar_topics, similarity = optimal_model.find_topics(\"coffee\", top_n=5); similar_topics"
   ]
  },
  {
   "cell_type": "code",
   "execution_count": 39,
   "id": "34ae0881",
   "metadata": {},
   "outputs": [
    {
     "data": {
      "text/plain": [
       "[('nan', 3.3968904109598803),\n",
       " ('apneic', 0.003489591625441188),\n",
       " ('yet', 0.003059526265446847),\n",
       " ('fine', 0.0016029931954101527),\n",
       " ('', 1e-05),\n",
       " ('', 1e-05),\n",
       " ('', 1e-05),\n",
       " ('', 1e-05),\n",
       " ('', 1e-05),\n",
       " ('', 1e-05)]"
      ]
     },
     "execution_count": 39,
     "metadata": {},
     "output_type": "execute_result"
    }
   ],
   "source": [
    "optimal_model.get_topic(8)"
   ]
  },
  {
   "cell_type": "markdown",
   "id": "cdeae551",
   "metadata": {},
   "source": [
    "#### Output Topic Words List (DON'T RUN)"
   ]
  },
  {
   "cell_type": "code",
   "execution_count": 40,
   "id": "4defeed3",
   "metadata": {},
   "outputs": [],
   "source": [
    "# import openpyxl\n",
    "# Topic_Word_List = pd.DataFrame(columns=['Topic_Number', 'Word_1','Word_1_percentage', \n",
    "#                                               'Word_2','Word_2_percentage','Word_3','Word_3_percentage',\n",
    "#                                               'Word_4','Word_4_percentage', 'Word_5','Word_5_percentage', \n",
    "#                                               'Word_6','Word_6_percentage','Word_7','Word_7_percentage',\n",
    "#                                               'Word_8','Word_8_percentage','Word_9','Word_9_percentage',\n",
    "#                                               'Word_10','Word_10_percentage'])\n",
    "# for i in range(0,42):\n",
    "#     Topic_Word_List = Topic_Word_List.append({'Topic_Number':i,\n",
    "#                                               'Word_1':optimal_model.get_topic(i)[0][0], \n",
    "#                                                'Word_1_percentage':optimal_model.get_topic(i)[0][1],\n",
    "#                                                'Word_2':optimal_model.get_topic(i)[1][0],\n",
    "#                                                'Word_2_percentage':optimal_model.get_topic(i)[1][1],\n",
    "#                                                'Word_3':optimal_model.get_topic(i)[2][0],\n",
    "#                                                'Word_3_percentage':optimal_model.get_topic(i)[2][1],\n",
    "#                                                'Word_4':optimal_model.get_topic(i)[3][0],\n",
    "#                                                'Word_4_percentage':optimal_model.get_topic(i)[3][1], \n",
    "#                                                'Word_5':optimal_model.get_topic(i)[4][0],\n",
    "#                                                'Word_5_percentage':optimal_model.get_topic(i)[4][1], \n",
    "#                                                'Word_6':optimal_model.get_topic(i)[5][0],\n",
    "#                                                'Word_6_percentage':optimal_model.get_topic(i)[5][1],\n",
    "#                                                'Word_7':optimal_model.get_topic(i)[6][0],\n",
    "#                                                'Word_7_percentage':optimal_model.get_topic(i)[6][1],\n",
    "#                                                'Word_8':optimal_model.get_topic(i)[7][0],\n",
    "#                                                'Word_8_percentage':optimal_model.get_topic(i)[7][1],\n",
    "#                                                'Word_9':optimal_model.get_topic(i)[8][0],\n",
    "#                                                'Word_9_percentage':optimal_model.get_topic(i)[8][1],\n",
    "#                                                'Word_10':optimal_model.get_topic(i)[9][0],\n",
    "#                                                'Word_10_percentage':optimal_model.get_topic(i)[9][1]},\n",
    "#                                                 ignore_index=True)\n",
    "# \n",
    "# \n",
    "# Topic_Word_List.to_excel(\"../Result/BERTopic_Topic_Word_List_topics_FINAL.xlsx\", \n",
    "#                          header = True, index = False)"
   ]
  },
  {
   "cell_type": "markdown",
   "id": "924e3d39",
   "metadata": {},
   "source": [
    "## Dynamic Topic Model"
   ]
  },
  {
   "cell_type": "markdown",
   "id": "a2ed4649",
   "metadata": {},
   "source": [
    "#### Take date into account"
   ]
  },
  {
   "cell_type": "code",
   "execution_count": 41,
   "id": "1e4fd62e",
   "metadata": {},
   "outputs": [],
   "source": [
    "dates = list(df[\"Year\"])"
   ]
  },
  {
   "cell_type": "markdown",
   "id": "2f7b68b9",
   "metadata": {},
   "source": [
    "#### Train Dynamic Model"
   ]
  },
  {
   "cell_type": "code",
   "execution_count": 42,
   "id": "4ab6ce2f",
   "metadata": {},
   "outputs": [
    {
     "name": "stderr",
     "output_type": "stream",
     "text": [
      "7it [00:04,  1.65it/s]\n"
     ]
    }
   ],
   "source": [
    "topics_over_time = optimal_model.topics_over_time(docs=DATA, \n",
    "                                                topics=topics, \n",
    "                                                timestamps=dates, \n",
    "                                                global_tuning=True, \n",
    "                                                evolution_tuning=True, \n",
    "                                                nr_bins=30)"
   ]
  },
  {
   "cell_type": "markdown",
   "id": "b6ba9737",
   "metadata": {},
   "source": [
    "#### Topic popularity Visualization"
   ]
  },
  {
   "cell_type": "code",
   "execution_count": 43,
   "id": "c0c9e7e7",
   "metadata": {},
   "outputs": [],
   "source": [
    "g1 = [6,29,28,1,20,33]\n",
    "g2 = [5, 41, 15, 0, 10]\n",
    "g3 = [25, 34, 27, 39, 8, 37, 21, 7, 16]\n",
    "g4 = [3]\n",
    "g5 = [30, 13, 2, 17, 11, 40, 4, 38, 32, 18, 23]\n",
    "g6 = [35, 19, 26, 14, 24]\n",
    "g7 = [9, 22]\n",
    "g8 = [36, 12, 31]"
   ]
  },
  {
   "cell_type": "code",
   "execution_count": 44,
   "id": "7cb0b9be",
   "metadata": {},
   "outputs": [
    {
     "data": {
      "application/vnd.plotly.v1+json": {
       "config": {
        "plotlyServerURL": "https://plot.ly"
       },
       "data": [
        {
         "hoverinfo": "text",
         "hovertext": [
          "<b>Topic 12</b><br>Words: pronounce_dead, pool, swimming_pool, pronounce, hospital",
          "<b>Topic 12</b><br>Words: pronounce_dead, pool, swimming_pool, pronounce, hospital",
          "<b>Topic 12</b><br>Words: pronounce_dead, pool, pronounce, swimming_pool, hospital",
          "<b>Topic 12</b><br>Words: pronounce_dead, pool, pronounce, swimming_pool, hospital",
          "<b>Topic 12</b><br>Words: pronounce, pronounce_dead, pool, swimming_pool, hospital",
          "<b>Topic 12</b><br>Words: pronounce, pronounce_dead, pool, hospital, swimming_pool",
          "<b>Topic 12</b><br>Words: pronounce, pronounce_dead, pool, unresponsive, decedent"
         ],
         "marker": {
          "color": "#E69F00"
         },
         "mode": "lines",
         "name": "12_pronounce_dead_pronounce_pool_swimmin...",
         "type": "scatter",
         "x": [
          2012.994,
          2013.8,
          2014.8,
          2015.8,
          2016.8,
          2017.8,
          2018.8
         ],
         "y": [
          303,
          337,
          264,
          344,
          347,
          380,
          397
         ]
        },
        {
         "hoverinfo": "text",
         "hovertext": [
          "<b>Topic 31</b><br>Words: snowmobile, tree, trail, crash, accident",
          "<b>Topic 31</b><br>Words: snowmobile, tree, trail, crash, accident",
          "<b>Topic 31</b><br>Words: snowmobile, tree, trail, crash, accident",
          "<b>Topic 31</b><br>Words: snowmobile, tree, trail, crash, accident",
          "<b>Topic 31</b><br>Words: snowmobile, trail, tree, crash, snowmobiler",
          "<b>Topic 31</b><br>Words: snowmobile, trail, crash, tree, snowmobiler",
          "<b>Topic 31</b><br>Words: snowmobile, tree, crash, trail, accident"
         ],
         "marker": {
          "color": "#56B4E9"
         },
         "mode": "lines",
         "name": "31_snowmobile_tree_trail_crash",
         "type": "scatter",
         "x": [
          2012.994,
          2013.8,
          2014.8,
          2015.8,
          2016.8,
          2017.8,
          2018.8
         ],
         "y": [
          110,
          309,
          141,
          177,
          204,
          248,
          109
         ]
        },
        {
         "hoverinfo": "text",
         "hovertext": [
          "<b>Topic 36</b><br>Words: blade, blender, cut, thumb, finger",
          "<b>Topic 36</b><br>Words: blade, cut, blender, finger, knife",
          "<b>Topic 36</b><br>Words: blade, blender, thumb, crossbow, cut",
          "<b>Topic 36</b><br>Words: blade, food_processor, blender, rivet, cuisinart",
          "<b>Topic 36</b><br>Words: blade, blender, food_processor, cuisinart, cut",
          "<b>Topic 36</b><br>Words: blade, blender, cut, knife, finger",
          "<b>Topic 36</b><br>Words: blade, cut, razor, blender, knife"
         ],
         "marker": {
          "color": "#009E73"
         },
         "mode": "lines",
         "name": "36_blade_blender_food_processor_cut",
         "type": "scatter",
         "x": [
          2012.994,
          2013.8,
          2014.8,
          2015.8,
          2016.8,
          2017.8,
          2018.8
         ],
         "y": [
          100,
          118,
          154,
          306,
          205,
          139,
          132
         ]
        }
       ],
       "layout": {
        "height": 450,
        "hoverlabel": {
         "bgcolor": "white",
         "font": {
          "family": "Rockwell",
          "size": 16
         }
        },
        "legend": {
         "title": {
          "text": "<b>Global Topic Representation"
         }
        },
        "template": {
         "data": {
          "bar": [
           {
            "error_x": {
             "color": "rgb(36,36,36)"
            },
            "error_y": {
             "color": "rgb(36,36,36)"
            },
            "marker": {
             "line": {
              "color": "white",
              "width": 0.5
             },
             "pattern": {
              "fillmode": "overlay",
              "size": 10,
              "solidity": 0.2
             }
            },
            "type": "bar"
           }
          ],
          "barpolar": [
           {
            "marker": {
             "line": {
              "color": "white",
              "width": 0.5
             },
             "pattern": {
              "fillmode": "overlay",
              "size": 10,
              "solidity": 0.2
             }
            },
            "type": "barpolar"
           }
          ],
          "carpet": [
           {
            "aaxis": {
             "endlinecolor": "rgb(36,36,36)",
             "gridcolor": "white",
             "linecolor": "white",
             "minorgridcolor": "white",
             "startlinecolor": "rgb(36,36,36)"
            },
            "baxis": {
             "endlinecolor": "rgb(36,36,36)",
             "gridcolor": "white",
             "linecolor": "white",
             "minorgridcolor": "white",
             "startlinecolor": "rgb(36,36,36)"
            },
            "type": "carpet"
           }
          ],
          "choropleth": [
           {
            "colorbar": {
             "outlinewidth": 1,
             "tickcolor": "rgb(36,36,36)",
             "ticks": "outside"
            },
            "type": "choropleth"
           }
          ],
          "contour": [
           {
            "colorbar": {
             "outlinewidth": 1,
             "tickcolor": "rgb(36,36,36)",
             "ticks": "outside"
            },
            "colorscale": [
             [
              0,
              "#440154"
             ],
             [
              0.1111111111111111,
              "#482878"
             ],
             [
              0.2222222222222222,
              "#3e4989"
             ],
             [
              0.3333333333333333,
              "#31688e"
             ],
             [
              0.4444444444444444,
              "#26828e"
             ],
             [
              0.5555555555555556,
              "#1f9e89"
             ],
             [
              0.6666666666666666,
              "#35b779"
             ],
             [
              0.7777777777777778,
              "#6ece58"
             ],
             [
              0.8888888888888888,
              "#b5de2b"
             ],
             [
              1,
              "#fde725"
             ]
            ],
            "type": "contour"
           }
          ],
          "contourcarpet": [
           {
            "colorbar": {
             "outlinewidth": 1,
             "tickcolor": "rgb(36,36,36)",
             "ticks": "outside"
            },
            "type": "contourcarpet"
           }
          ],
          "heatmap": [
           {
            "colorbar": {
             "outlinewidth": 1,
             "tickcolor": "rgb(36,36,36)",
             "ticks": "outside"
            },
            "colorscale": [
             [
              0,
              "#440154"
             ],
             [
              0.1111111111111111,
              "#482878"
             ],
             [
              0.2222222222222222,
              "#3e4989"
             ],
             [
              0.3333333333333333,
              "#31688e"
             ],
             [
              0.4444444444444444,
              "#26828e"
             ],
             [
              0.5555555555555556,
              "#1f9e89"
             ],
             [
              0.6666666666666666,
              "#35b779"
             ],
             [
              0.7777777777777778,
              "#6ece58"
             ],
             [
              0.8888888888888888,
              "#b5de2b"
             ],
             [
              1,
              "#fde725"
             ]
            ],
            "type": "heatmap"
           }
          ],
          "heatmapgl": [
           {
            "colorbar": {
             "outlinewidth": 1,
             "tickcolor": "rgb(36,36,36)",
             "ticks": "outside"
            },
            "colorscale": [
             [
              0,
              "#440154"
             ],
             [
              0.1111111111111111,
              "#482878"
             ],
             [
              0.2222222222222222,
              "#3e4989"
             ],
             [
              0.3333333333333333,
              "#31688e"
             ],
             [
              0.4444444444444444,
              "#26828e"
             ],
             [
              0.5555555555555556,
              "#1f9e89"
             ],
             [
              0.6666666666666666,
              "#35b779"
             ],
             [
              0.7777777777777778,
              "#6ece58"
             ],
             [
              0.8888888888888888,
              "#b5de2b"
             ],
             [
              1,
              "#fde725"
             ]
            ],
            "type": "heatmapgl"
           }
          ],
          "histogram": [
           {
            "marker": {
             "line": {
              "color": "white",
              "width": 0.6
             }
            },
            "type": "histogram"
           }
          ],
          "histogram2d": [
           {
            "colorbar": {
             "outlinewidth": 1,
             "tickcolor": "rgb(36,36,36)",
             "ticks": "outside"
            },
            "colorscale": [
             [
              0,
              "#440154"
             ],
             [
              0.1111111111111111,
              "#482878"
             ],
             [
              0.2222222222222222,
              "#3e4989"
             ],
             [
              0.3333333333333333,
              "#31688e"
             ],
             [
              0.4444444444444444,
              "#26828e"
             ],
             [
              0.5555555555555556,
              "#1f9e89"
             ],
             [
              0.6666666666666666,
              "#35b779"
             ],
             [
              0.7777777777777778,
              "#6ece58"
             ],
             [
              0.8888888888888888,
              "#b5de2b"
             ],
             [
              1,
              "#fde725"
             ]
            ],
            "type": "histogram2d"
           }
          ],
          "histogram2dcontour": [
           {
            "colorbar": {
             "outlinewidth": 1,
             "tickcolor": "rgb(36,36,36)",
             "ticks": "outside"
            },
            "colorscale": [
             [
              0,
              "#440154"
             ],
             [
              0.1111111111111111,
              "#482878"
             ],
             [
              0.2222222222222222,
              "#3e4989"
             ],
             [
              0.3333333333333333,
              "#31688e"
             ],
             [
              0.4444444444444444,
              "#26828e"
             ],
             [
              0.5555555555555556,
              "#1f9e89"
             ],
             [
              0.6666666666666666,
              "#35b779"
             ],
             [
              0.7777777777777778,
              "#6ece58"
             ],
             [
              0.8888888888888888,
              "#b5de2b"
             ],
             [
              1,
              "#fde725"
             ]
            ],
            "type": "histogram2dcontour"
           }
          ],
          "mesh3d": [
           {
            "colorbar": {
             "outlinewidth": 1,
             "tickcolor": "rgb(36,36,36)",
             "ticks": "outside"
            },
            "type": "mesh3d"
           }
          ],
          "parcoords": [
           {
            "line": {
             "colorbar": {
              "outlinewidth": 1,
              "tickcolor": "rgb(36,36,36)",
              "ticks": "outside"
             }
            },
            "type": "parcoords"
           }
          ],
          "pie": [
           {
            "automargin": true,
            "type": "pie"
           }
          ],
          "scatter": [
           {
            "fillpattern": {
             "fillmode": "overlay",
             "size": 10,
             "solidity": 0.2
            },
            "type": "scatter"
           }
          ],
          "scatter3d": [
           {
            "line": {
             "colorbar": {
              "outlinewidth": 1,
              "tickcolor": "rgb(36,36,36)",
              "ticks": "outside"
             }
            },
            "marker": {
             "colorbar": {
              "outlinewidth": 1,
              "tickcolor": "rgb(36,36,36)",
              "ticks": "outside"
             }
            },
            "type": "scatter3d"
           }
          ],
          "scattercarpet": [
           {
            "marker": {
             "colorbar": {
              "outlinewidth": 1,
              "tickcolor": "rgb(36,36,36)",
              "ticks": "outside"
             }
            },
            "type": "scattercarpet"
           }
          ],
          "scattergeo": [
           {
            "marker": {
             "colorbar": {
              "outlinewidth": 1,
              "tickcolor": "rgb(36,36,36)",
              "ticks": "outside"
             }
            },
            "type": "scattergeo"
           }
          ],
          "scattergl": [
           {
            "marker": {
             "colorbar": {
              "outlinewidth": 1,
              "tickcolor": "rgb(36,36,36)",
              "ticks": "outside"
             }
            },
            "type": "scattergl"
           }
          ],
          "scattermapbox": [
           {
            "marker": {
             "colorbar": {
              "outlinewidth": 1,
              "tickcolor": "rgb(36,36,36)",
              "ticks": "outside"
             }
            },
            "type": "scattermapbox"
           }
          ],
          "scatterpolar": [
           {
            "marker": {
             "colorbar": {
              "outlinewidth": 1,
              "tickcolor": "rgb(36,36,36)",
              "ticks": "outside"
             }
            },
            "type": "scatterpolar"
           }
          ],
          "scatterpolargl": [
           {
            "marker": {
             "colorbar": {
              "outlinewidth": 1,
              "tickcolor": "rgb(36,36,36)",
              "ticks": "outside"
             }
            },
            "type": "scatterpolargl"
           }
          ],
          "scatterternary": [
           {
            "marker": {
             "colorbar": {
              "outlinewidth": 1,
              "tickcolor": "rgb(36,36,36)",
              "ticks": "outside"
             }
            },
            "type": "scatterternary"
           }
          ],
          "surface": [
           {
            "colorbar": {
             "outlinewidth": 1,
             "tickcolor": "rgb(36,36,36)",
             "ticks": "outside"
            },
            "colorscale": [
             [
              0,
              "#440154"
             ],
             [
              0.1111111111111111,
              "#482878"
             ],
             [
              0.2222222222222222,
              "#3e4989"
             ],
             [
              0.3333333333333333,
              "#31688e"
             ],
             [
              0.4444444444444444,
              "#26828e"
             ],
             [
              0.5555555555555556,
              "#1f9e89"
             ],
             [
              0.6666666666666666,
              "#35b779"
             ],
             [
              0.7777777777777778,
              "#6ece58"
             ],
             [
              0.8888888888888888,
              "#b5de2b"
             ],
             [
              1,
              "#fde725"
             ]
            ],
            "type": "surface"
           }
          ],
          "table": [
           {
            "cells": {
             "fill": {
              "color": "rgb(237,237,237)"
             },
             "line": {
              "color": "white"
             }
            },
            "header": {
             "fill": {
              "color": "rgb(217,217,217)"
             },
             "line": {
              "color": "white"
             }
            },
            "type": "table"
           }
          ]
         },
         "layout": {
          "annotationdefaults": {
           "arrowhead": 0,
           "arrowwidth": 1
          },
          "autotypenumbers": "strict",
          "coloraxis": {
           "colorbar": {
            "outlinewidth": 1,
            "tickcolor": "rgb(36,36,36)",
            "ticks": "outside"
           }
          },
          "colorscale": {
           "diverging": [
            [
             0,
             "rgb(103,0,31)"
            ],
            [
             0.1,
             "rgb(178,24,43)"
            ],
            [
             0.2,
             "rgb(214,96,77)"
            ],
            [
             0.3,
             "rgb(244,165,130)"
            ],
            [
             0.4,
             "rgb(253,219,199)"
            ],
            [
             0.5,
             "rgb(247,247,247)"
            ],
            [
             0.6,
             "rgb(209,229,240)"
            ],
            [
             0.7,
             "rgb(146,197,222)"
            ],
            [
             0.8,
             "rgb(67,147,195)"
            ],
            [
             0.9,
             "rgb(33,102,172)"
            ],
            [
             1,
             "rgb(5,48,97)"
            ]
           ],
           "sequential": [
            [
             0,
             "#440154"
            ],
            [
             0.1111111111111111,
             "#482878"
            ],
            [
             0.2222222222222222,
             "#3e4989"
            ],
            [
             0.3333333333333333,
             "#31688e"
            ],
            [
             0.4444444444444444,
             "#26828e"
            ],
            [
             0.5555555555555556,
             "#1f9e89"
            ],
            [
             0.6666666666666666,
             "#35b779"
            ],
            [
             0.7777777777777778,
             "#6ece58"
            ],
            [
             0.8888888888888888,
             "#b5de2b"
            ],
            [
             1,
             "#fde725"
            ]
           ],
           "sequentialminus": [
            [
             0,
             "#440154"
            ],
            [
             0.1111111111111111,
             "#482878"
            ],
            [
             0.2222222222222222,
             "#3e4989"
            ],
            [
             0.3333333333333333,
             "#31688e"
            ],
            [
             0.4444444444444444,
             "#26828e"
            ],
            [
             0.5555555555555556,
             "#1f9e89"
            ],
            [
             0.6666666666666666,
             "#35b779"
            ],
            [
             0.7777777777777778,
             "#6ece58"
            ],
            [
             0.8888888888888888,
             "#b5de2b"
            ],
            [
             1,
             "#fde725"
            ]
           ]
          },
          "colorway": [
           "#1F77B4",
           "#FF7F0E",
           "#2CA02C",
           "#D62728",
           "#9467BD",
           "#8C564B",
           "#E377C2",
           "#7F7F7F",
           "#BCBD22",
           "#17BECF"
          ],
          "font": {
           "color": "rgb(36,36,36)"
          },
          "geo": {
           "bgcolor": "white",
           "lakecolor": "white",
           "landcolor": "white",
           "showlakes": true,
           "showland": true,
           "subunitcolor": "white"
          },
          "hoverlabel": {
           "align": "left"
          },
          "hovermode": "closest",
          "mapbox": {
           "style": "light"
          },
          "paper_bgcolor": "white",
          "plot_bgcolor": "white",
          "polar": {
           "angularaxis": {
            "gridcolor": "rgb(232,232,232)",
            "linecolor": "rgb(36,36,36)",
            "showgrid": false,
            "showline": true,
            "ticks": "outside"
           },
           "bgcolor": "white",
           "radialaxis": {
            "gridcolor": "rgb(232,232,232)",
            "linecolor": "rgb(36,36,36)",
            "showgrid": false,
            "showline": true,
            "ticks": "outside"
           }
          },
          "scene": {
           "xaxis": {
            "backgroundcolor": "white",
            "gridcolor": "rgb(232,232,232)",
            "gridwidth": 2,
            "linecolor": "rgb(36,36,36)",
            "showbackground": true,
            "showgrid": false,
            "showline": true,
            "ticks": "outside",
            "zeroline": false,
            "zerolinecolor": "rgb(36,36,36)"
           },
           "yaxis": {
            "backgroundcolor": "white",
            "gridcolor": "rgb(232,232,232)",
            "gridwidth": 2,
            "linecolor": "rgb(36,36,36)",
            "showbackground": true,
            "showgrid": false,
            "showline": true,
            "ticks": "outside",
            "zeroline": false,
            "zerolinecolor": "rgb(36,36,36)"
           },
           "zaxis": {
            "backgroundcolor": "white",
            "gridcolor": "rgb(232,232,232)",
            "gridwidth": 2,
            "linecolor": "rgb(36,36,36)",
            "showbackground": true,
            "showgrid": false,
            "showline": true,
            "ticks": "outside",
            "zeroline": false,
            "zerolinecolor": "rgb(36,36,36)"
           }
          },
          "shapedefaults": {
           "fillcolor": "black",
           "line": {
            "width": 0
           },
           "opacity": 0.3
          },
          "ternary": {
           "aaxis": {
            "gridcolor": "rgb(232,232,232)",
            "linecolor": "rgb(36,36,36)",
            "showgrid": false,
            "showline": true,
            "ticks": "outside"
           },
           "baxis": {
            "gridcolor": "rgb(232,232,232)",
            "linecolor": "rgb(36,36,36)",
            "showgrid": false,
            "showline": true,
            "ticks": "outside"
           },
           "bgcolor": "white",
           "caxis": {
            "gridcolor": "rgb(232,232,232)",
            "linecolor": "rgb(36,36,36)",
            "showgrid": false,
            "showline": true,
            "ticks": "outside"
           }
          },
          "title": {
           "x": 0.05
          },
          "xaxis": {
           "automargin": true,
           "gridcolor": "rgb(232,232,232)",
           "linecolor": "rgb(36,36,36)",
           "showgrid": false,
           "showline": true,
           "ticks": "outside",
           "title": {
            "standoff": 15
           },
           "zeroline": false,
           "zerolinecolor": "rgb(36,36,36)"
          },
          "yaxis": {
           "automargin": true,
           "gridcolor": "rgb(232,232,232)",
           "linecolor": "rgb(36,36,36)",
           "showgrid": false,
           "showline": true,
           "ticks": "outside",
           "title": {
            "standoff": 15
           },
           "zeroline": false,
           "zerolinecolor": "rgb(36,36,36)"
          }
         }
        },
        "title": {
         "font": {
          "color": "Black",
          "size": 22
         },
         "text": "<b>Topics over Time",
         "x": 0.4,
         "xanchor": "center",
         "y": 0.95,
         "yanchor": "top"
        },
        "width": 1250,
        "xaxis": {
         "showgrid": true
        },
        "yaxis": {
         "showgrid": true,
         "title": {
          "text": "Frequency"
         }
        }
       }
      },
      "text/html": [
       "<div>                            <div id=\"11584bd2-9806-4699-adaf-564e43232033\" class=\"plotly-graph-div\" style=\"height:450px; width:1250px;\"></div>            <script type=\"text/javascript\">                require([\"plotly\"], function(Plotly) {                    window.PLOTLYENV=window.PLOTLYENV || {};                                    if (document.getElementById(\"11584bd2-9806-4699-adaf-564e43232033\")) {                    Plotly.newPlot(                        \"11584bd2-9806-4699-adaf-564e43232033\",                        [{\"hoverinfo\":\"text\",\"hovertext\":[\"<b>Topic 12</b><br>Words: pronounce_dead, pool, swimming_pool, pronounce, hospital\",\"<b>Topic 12</b><br>Words: pronounce_dead, pool, swimming_pool, pronounce, hospital\",\"<b>Topic 12</b><br>Words: pronounce_dead, pool, pronounce, swimming_pool, hospital\",\"<b>Topic 12</b><br>Words: pronounce_dead, pool, pronounce, swimming_pool, hospital\",\"<b>Topic 12</b><br>Words: pronounce, pronounce_dead, pool, swimming_pool, hospital\",\"<b>Topic 12</b><br>Words: pronounce, pronounce_dead, pool, hospital, swimming_pool\",\"<b>Topic 12</b><br>Words: pronounce, pronounce_dead, pool, unresponsive, decedent\"],\"marker\":{\"color\":\"#E69F00\"},\"mode\":\"lines\",\"name\":\"12_pronounce_dead_pronounce_pool_swimmin...\",\"x\":[2012.994,2013.8,2014.8,2015.8,2016.8,2017.8,2018.8],\"y\":[303,337,264,344,347,380,397],\"type\":\"scatter\"},{\"hoverinfo\":\"text\",\"hovertext\":[\"<b>Topic 31</b><br>Words: snowmobile, tree, trail, crash, accident\",\"<b>Topic 31</b><br>Words: snowmobile, tree, trail, crash, accident\",\"<b>Topic 31</b><br>Words: snowmobile, tree, trail, crash, accident\",\"<b>Topic 31</b><br>Words: snowmobile, tree, trail, crash, accident\",\"<b>Topic 31</b><br>Words: snowmobile, trail, tree, crash, snowmobiler\",\"<b>Topic 31</b><br>Words: snowmobile, trail, crash, tree, snowmobiler\",\"<b>Topic 31</b><br>Words: snowmobile, tree, crash, trail, accident\"],\"marker\":{\"color\":\"#56B4E9\"},\"mode\":\"lines\",\"name\":\"31_snowmobile_tree_trail_crash\",\"x\":[2012.994,2013.8,2014.8,2015.8,2016.8,2017.8,2018.8],\"y\":[110,309,141,177,204,248,109],\"type\":\"scatter\"},{\"hoverinfo\":\"text\",\"hovertext\":[\"<b>Topic 36</b><br>Words: blade, blender, cut, thumb, finger\",\"<b>Topic 36</b><br>Words: blade, cut, blender, finger, knife\",\"<b>Topic 36</b><br>Words: blade, blender, thumb, crossbow, cut\",\"<b>Topic 36</b><br>Words: blade, food_processor, blender, rivet, cuisinart\",\"<b>Topic 36</b><br>Words: blade, blender, food_processor, cuisinart, cut\",\"<b>Topic 36</b><br>Words: blade, blender, cut, knife, finger\",\"<b>Topic 36</b><br>Words: blade, cut, razor, blender, knife\"],\"marker\":{\"color\":\"#009E73\"},\"mode\":\"lines\",\"name\":\"36_blade_blender_food_processor_cut\",\"x\":[2012.994,2013.8,2014.8,2015.8,2016.8,2017.8,2018.8],\"y\":[100,118,154,306,205,139,132],\"type\":\"scatter\"}],                        {\"template\":{\"data\":{\"barpolar\":[{\"marker\":{\"line\":{\"color\":\"white\",\"width\":0.5},\"pattern\":{\"fillmode\":\"overlay\",\"size\":10,\"solidity\":0.2}},\"type\":\"barpolar\"}],\"bar\":[{\"error_x\":{\"color\":\"rgb(36,36,36)\"},\"error_y\":{\"color\":\"rgb(36,36,36)\"},\"marker\":{\"line\":{\"color\":\"white\",\"width\":0.5},\"pattern\":{\"fillmode\":\"overlay\",\"size\":10,\"solidity\":0.2}},\"type\":\"bar\"}],\"carpet\":[{\"aaxis\":{\"endlinecolor\":\"rgb(36,36,36)\",\"gridcolor\":\"white\",\"linecolor\":\"white\",\"minorgridcolor\":\"white\",\"startlinecolor\":\"rgb(36,36,36)\"},\"baxis\":{\"endlinecolor\":\"rgb(36,36,36)\",\"gridcolor\":\"white\",\"linecolor\":\"white\",\"minorgridcolor\":\"white\",\"startlinecolor\":\"rgb(36,36,36)\"},\"type\":\"carpet\"}],\"choropleth\":[{\"colorbar\":{\"outlinewidth\":1,\"tickcolor\":\"rgb(36,36,36)\",\"ticks\":\"outside\"},\"type\":\"choropleth\"}],\"contourcarpet\":[{\"colorbar\":{\"outlinewidth\":1,\"tickcolor\":\"rgb(36,36,36)\",\"ticks\":\"outside\"},\"type\":\"contourcarpet\"}],\"contour\":[{\"colorbar\":{\"outlinewidth\":1,\"tickcolor\":\"rgb(36,36,36)\",\"ticks\":\"outside\"},\"colorscale\":[[0.0,\"#440154\"],[0.1111111111111111,\"#482878\"],[0.2222222222222222,\"#3e4989\"],[0.3333333333333333,\"#31688e\"],[0.4444444444444444,\"#26828e\"],[0.5555555555555556,\"#1f9e89\"],[0.6666666666666666,\"#35b779\"],[0.7777777777777778,\"#6ece58\"],[0.8888888888888888,\"#b5de2b\"],[1.0,\"#fde725\"]],\"type\":\"contour\"}],\"heatmapgl\":[{\"colorbar\":{\"outlinewidth\":1,\"tickcolor\":\"rgb(36,36,36)\",\"ticks\":\"outside\"},\"colorscale\":[[0.0,\"#440154\"],[0.1111111111111111,\"#482878\"],[0.2222222222222222,\"#3e4989\"],[0.3333333333333333,\"#31688e\"],[0.4444444444444444,\"#26828e\"],[0.5555555555555556,\"#1f9e89\"],[0.6666666666666666,\"#35b779\"],[0.7777777777777778,\"#6ece58\"],[0.8888888888888888,\"#b5de2b\"],[1.0,\"#fde725\"]],\"type\":\"heatmapgl\"}],\"heatmap\":[{\"colorbar\":{\"outlinewidth\":1,\"tickcolor\":\"rgb(36,36,36)\",\"ticks\":\"outside\"},\"colorscale\":[[0.0,\"#440154\"],[0.1111111111111111,\"#482878\"],[0.2222222222222222,\"#3e4989\"],[0.3333333333333333,\"#31688e\"],[0.4444444444444444,\"#26828e\"],[0.5555555555555556,\"#1f9e89\"],[0.6666666666666666,\"#35b779\"],[0.7777777777777778,\"#6ece58\"],[0.8888888888888888,\"#b5de2b\"],[1.0,\"#fde725\"]],\"type\":\"heatmap\"}],\"histogram2dcontour\":[{\"colorbar\":{\"outlinewidth\":1,\"tickcolor\":\"rgb(36,36,36)\",\"ticks\":\"outside\"},\"colorscale\":[[0.0,\"#440154\"],[0.1111111111111111,\"#482878\"],[0.2222222222222222,\"#3e4989\"],[0.3333333333333333,\"#31688e\"],[0.4444444444444444,\"#26828e\"],[0.5555555555555556,\"#1f9e89\"],[0.6666666666666666,\"#35b779\"],[0.7777777777777778,\"#6ece58\"],[0.8888888888888888,\"#b5de2b\"],[1.0,\"#fde725\"]],\"type\":\"histogram2dcontour\"}],\"histogram2d\":[{\"colorbar\":{\"outlinewidth\":1,\"tickcolor\":\"rgb(36,36,36)\",\"ticks\":\"outside\"},\"colorscale\":[[0.0,\"#440154\"],[0.1111111111111111,\"#482878\"],[0.2222222222222222,\"#3e4989\"],[0.3333333333333333,\"#31688e\"],[0.4444444444444444,\"#26828e\"],[0.5555555555555556,\"#1f9e89\"],[0.6666666666666666,\"#35b779\"],[0.7777777777777778,\"#6ece58\"],[0.8888888888888888,\"#b5de2b\"],[1.0,\"#fde725\"]],\"type\":\"histogram2d\"}],\"histogram\":[{\"marker\":{\"line\":{\"color\":\"white\",\"width\":0.6}},\"type\":\"histogram\"}],\"mesh3d\":[{\"colorbar\":{\"outlinewidth\":1,\"tickcolor\":\"rgb(36,36,36)\",\"ticks\":\"outside\"},\"type\":\"mesh3d\"}],\"parcoords\":[{\"line\":{\"colorbar\":{\"outlinewidth\":1,\"tickcolor\":\"rgb(36,36,36)\",\"ticks\":\"outside\"}},\"type\":\"parcoords\"}],\"pie\":[{\"automargin\":true,\"type\":\"pie\"}],\"scatter3d\":[{\"line\":{\"colorbar\":{\"outlinewidth\":1,\"tickcolor\":\"rgb(36,36,36)\",\"ticks\":\"outside\"}},\"marker\":{\"colorbar\":{\"outlinewidth\":1,\"tickcolor\":\"rgb(36,36,36)\",\"ticks\":\"outside\"}},\"type\":\"scatter3d\"}],\"scattercarpet\":[{\"marker\":{\"colorbar\":{\"outlinewidth\":1,\"tickcolor\":\"rgb(36,36,36)\",\"ticks\":\"outside\"}},\"type\":\"scattercarpet\"}],\"scattergeo\":[{\"marker\":{\"colorbar\":{\"outlinewidth\":1,\"tickcolor\":\"rgb(36,36,36)\",\"ticks\":\"outside\"}},\"type\":\"scattergeo\"}],\"scattergl\":[{\"marker\":{\"colorbar\":{\"outlinewidth\":1,\"tickcolor\":\"rgb(36,36,36)\",\"ticks\":\"outside\"}},\"type\":\"scattergl\"}],\"scattermapbox\":[{\"marker\":{\"colorbar\":{\"outlinewidth\":1,\"tickcolor\":\"rgb(36,36,36)\",\"ticks\":\"outside\"}},\"type\":\"scattermapbox\"}],\"scatterpolargl\":[{\"marker\":{\"colorbar\":{\"outlinewidth\":1,\"tickcolor\":\"rgb(36,36,36)\",\"ticks\":\"outside\"}},\"type\":\"scatterpolargl\"}],\"scatterpolar\":[{\"marker\":{\"colorbar\":{\"outlinewidth\":1,\"tickcolor\":\"rgb(36,36,36)\",\"ticks\":\"outside\"}},\"type\":\"scatterpolar\"}],\"scatter\":[{\"fillpattern\":{\"fillmode\":\"overlay\",\"size\":10,\"solidity\":0.2},\"type\":\"scatter\"}],\"scatterternary\":[{\"marker\":{\"colorbar\":{\"outlinewidth\":1,\"tickcolor\":\"rgb(36,36,36)\",\"ticks\":\"outside\"}},\"type\":\"scatterternary\"}],\"surface\":[{\"colorbar\":{\"outlinewidth\":1,\"tickcolor\":\"rgb(36,36,36)\",\"ticks\":\"outside\"},\"colorscale\":[[0.0,\"#440154\"],[0.1111111111111111,\"#482878\"],[0.2222222222222222,\"#3e4989\"],[0.3333333333333333,\"#31688e\"],[0.4444444444444444,\"#26828e\"],[0.5555555555555556,\"#1f9e89\"],[0.6666666666666666,\"#35b779\"],[0.7777777777777778,\"#6ece58\"],[0.8888888888888888,\"#b5de2b\"],[1.0,\"#fde725\"]],\"type\":\"surface\"}],\"table\":[{\"cells\":{\"fill\":{\"color\":\"rgb(237,237,237)\"},\"line\":{\"color\":\"white\"}},\"header\":{\"fill\":{\"color\":\"rgb(217,217,217)\"},\"line\":{\"color\":\"white\"}},\"type\":\"table\"}]},\"layout\":{\"annotationdefaults\":{\"arrowhead\":0,\"arrowwidth\":1},\"autotypenumbers\":\"strict\",\"coloraxis\":{\"colorbar\":{\"outlinewidth\":1,\"tickcolor\":\"rgb(36,36,36)\",\"ticks\":\"outside\"}},\"colorscale\":{\"diverging\":[[0.0,\"rgb(103,0,31)\"],[0.1,\"rgb(178,24,43)\"],[0.2,\"rgb(214,96,77)\"],[0.3,\"rgb(244,165,130)\"],[0.4,\"rgb(253,219,199)\"],[0.5,\"rgb(247,247,247)\"],[0.6,\"rgb(209,229,240)\"],[0.7,\"rgb(146,197,222)\"],[0.8,\"rgb(67,147,195)\"],[0.9,\"rgb(33,102,172)\"],[1.0,\"rgb(5,48,97)\"]],\"sequential\":[[0.0,\"#440154\"],[0.1111111111111111,\"#482878\"],[0.2222222222222222,\"#3e4989\"],[0.3333333333333333,\"#31688e\"],[0.4444444444444444,\"#26828e\"],[0.5555555555555556,\"#1f9e89\"],[0.6666666666666666,\"#35b779\"],[0.7777777777777778,\"#6ece58\"],[0.8888888888888888,\"#b5de2b\"],[1.0,\"#fde725\"]],\"sequentialminus\":[[0.0,\"#440154\"],[0.1111111111111111,\"#482878\"],[0.2222222222222222,\"#3e4989\"],[0.3333333333333333,\"#31688e\"],[0.4444444444444444,\"#26828e\"],[0.5555555555555556,\"#1f9e89\"],[0.6666666666666666,\"#35b779\"],[0.7777777777777778,\"#6ece58\"],[0.8888888888888888,\"#b5de2b\"],[1.0,\"#fde725\"]]},\"colorway\":[\"#1F77B4\",\"#FF7F0E\",\"#2CA02C\",\"#D62728\",\"#9467BD\",\"#8C564B\",\"#E377C2\",\"#7F7F7F\",\"#BCBD22\",\"#17BECF\"],\"font\":{\"color\":\"rgb(36,36,36)\"},\"geo\":{\"bgcolor\":\"white\",\"lakecolor\":\"white\",\"landcolor\":\"white\",\"showlakes\":true,\"showland\":true,\"subunitcolor\":\"white\"},\"hoverlabel\":{\"align\":\"left\"},\"hovermode\":\"closest\",\"mapbox\":{\"style\":\"light\"},\"paper_bgcolor\":\"white\",\"plot_bgcolor\":\"white\",\"polar\":{\"angularaxis\":{\"gridcolor\":\"rgb(232,232,232)\",\"linecolor\":\"rgb(36,36,36)\",\"showgrid\":false,\"showline\":true,\"ticks\":\"outside\"},\"bgcolor\":\"white\",\"radialaxis\":{\"gridcolor\":\"rgb(232,232,232)\",\"linecolor\":\"rgb(36,36,36)\",\"showgrid\":false,\"showline\":true,\"ticks\":\"outside\"}},\"scene\":{\"xaxis\":{\"backgroundcolor\":\"white\",\"gridcolor\":\"rgb(232,232,232)\",\"gridwidth\":2,\"linecolor\":\"rgb(36,36,36)\",\"showbackground\":true,\"showgrid\":false,\"showline\":true,\"ticks\":\"outside\",\"zeroline\":false,\"zerolinecolor\":\"rgb(36,36,36)\"},\"yaxis\":{\"backgroundcolor\":\"white\",\"gridcolor\":\"rgb(232,232,232)\",\"gridwidth\":2,\"linecolor\":\"rgb(36,36,36)\",\"showbackground\":true,\"showgrid\":false,\"showline\":true,\"ticks\":\"outside\",\"zeroline\":false,\"zerolinecolor\":\"rgb(36,36,36)\"},\"zaxis\":{\"backgroundcolor\":\"white\",\"gridcolor\":\"rgb(232,232,232)\",\"gridwidth\":2,\"linecolor\":\"rgb(36,36,36)\",\"showbackground\":true,\"showgrid\":false,\"showline\":true,\"ticks\":\"outside\",\"zeroline\":false,\"zerolinecolor\":\"rgb(36,36,36)\"}},\"shapedefaults\":{\"fillcolor\":\"black\",\"line\":{\"width\":0},\"opacity\":0.3},\"ternary\":{\"aaxis\":{\"gridcolor\":\"rgb(232,232,232)\",\"linecolor\":\"rgb(36,36,36)\",\"showgrid\":false,\"showline\":true,\"ticks\":\"outside\"},\"baxis\":{\"gridcolor\":\"rgb(232,232,232)\",\"linecolor\":\"rgb(36,36,36)\",\"showgrid\":false,\"showline\":true,\"ticks\":\"outside\"},\"bgcolor\":\"white\",\"caxis\":{\"gridcolor\":\"rgb(232,232,232)\",\"linecolor\":\"rgb(36,36,36)\",\"showgrid\":false,\"showline\":true,\"ticks\":\"outside\"}},\"title\":{\"x\":0.05},\"xaxis\":{\"automargin\":true,\"gridcolor\":\"rgb(232,232,232)\",\"linecolor\":\"rgb(36,36,36)\",\"showgrid\":false,\"showline\":true,\"ticks\":\"outside\",\"title\":{\"standoff\":15},\"zeroline\":false,\"zerolinecolor\":\"rgb(36,36,36)\"},\"yaxis\":{\"automargin\":true,\"gridcolor\":\"rgb(232,232,232)\",\"linecolor\":\"rgb(36,36,36)\",\"showgrid\":false,\"showline\":true,\"ticks\":\"outside\",\"title\":{\"standoff\":15},\"zeroline\":false,\"zerolinecolor\":\"rgb(36,36,36)\"}}},\"xaxis\":{\"showgrid\":true},\"yaxis\":{\"showgrid\":true,\"title\":{\"text\":\"Frequency\"}},\"title\":{\"font\":{\"size\":22,\"color\":\"Black\"},\"text\":\"<b>Topics over Time\",\"y\":0.95,\"x\":0.4,\"xanchor\":\"center\",\"yanchor\":\"top\"},\"hoverlabel\":{\"font\":{\"size\":16,\"family\":\"Rockwell\"},\"bgcolor\":\"white\"},\"width\":1250,\"height\":450,\"legend\":{\"title\":{\"text\":\"<b>Global Topic Representation\"}}},                        {\"responsive\": true}                    ).then(function(){\n",
       "                            \n",
       "var gd = document.getElementById('11584bd2-9806-4699-adaf-564e43232033');\n",
       "var x = new MutationObserver(function (mutations, observer) {{\n",
       "        var display = window.getComputedStyle(gd).display;\n",
       "        if (!display || display === 'none') {{\n",
       "            console.log([gd, 'removed!']);\n",
       "            Plotly.purge(gd);\n",
       "            observer.disconnect();\n",
       "        }}\n",
       "}});\n",
       "\n",
       "// Listen for the removal of the full notebook cells\n",
       "var notebookContainer = gd.closest('#notebook-container');\n",
       "if (notebookContainer) {{\n",
       "    x.observe(notebookContainer, {childList: true});\n",
       "}}\n",
       "\n",
       "// Listen for the clearing of the current output cell\n",
       "var outputEl = gd.closest('.output');\n",
       "if (outputEl) {{\n",
       "    x.observe(outputEl, {childList: true});\n",
       "}}\n",
       "\n",
       "                        })                };                });            </script>        </div>"
      ]
     },
     "metadata": {},
     "output_type": "display_data"
    }
   ],
   "source": [
    "optimal_model.visualize_topics_over_time(topics_over_time, \n",
    "                                         topics = g8)\n"
   ]
  },
  {
   "cell_type": "markdown",
   "id": "61edfdde",
   "metadata": {},
   "source": [
    "#### Global Keywords representation"
   ]
  },
  {
   "cell_type": "code",
   "execution_count": 45,
   "id": "fe73adad",
   "metadata": {},
   "outputs": [
    {
     "data": {
      "application/vnd.plotly.v1+json": {
       "config": {
        "plotlyServerURL": "https://plot.ly"
       },
       "data": [
        {
         "hoverinfo": "text",
         "marker": {
          "color": "rgb(61,153,112)"
         },
         "mode": "lines",
         "type": "scatter",
         "x": [
          0,
          0.436861868788744,
          0.436861868788744,
          0
         ],
         "xaxis": "x",
         "y": [
          -5,
          -5,
          -15,
          -15
         ],
         "yaxis": "y"
        },
        {
         "hoverinfo": "text",
         "marker": {
          "color": "rgb(61,153,112)"
         },
         "mode": "lines",
         "type": "scatter",
         "x": [
          0,
          0.14222671256178543,
          0.14222671256178543,
          0
         ],
         "xaxis": "x",
         "y": [
          -55,
          -55,
          -65,
          -65
         ],
         "yaxis": "y"
        },
        {
         "hoverinfo": "text",
         "marker": {
          "color": "rgb(61,153,112)"
         },
         "mode": "lines",
         "type": "scatter",
         "x": [
          0,
          0.3216077614692268,
          0.3216077614692268,
          0.14222671256178543
         ],
         "xaxis": "x",
         "y": [
          -45,
          -45,
          -60,
          -60
         ],
         "yaxis": "y"
        },
        {
         "hoverinfo": "text",
         "marker": {
          "color": "rgb(61,153,112)"
         },
         "mode": "lines",
         "type": "scatter",
         "x": [
          0,
          0.42015146459850555,
          0.42015146459850555,
          0.3216077614692268
         ],
         "xaxis": "x",
         "y": [
          -35,
          -35,
          -52.5,
          -52.5
         ],
         "yaxis": "y"
        },
        {
         "hoverinfo": "text",
         "marker": {
          "color": "rgb(61,153,112)"
         },
         "mode": "lines",
         "type": "scatter",
         "x": [
          0,
          0.5805094786672591,
          0.5805094786672591,
          0.42015146459850555
         ],
         "xaxis": "x",
         "y": [
          -25,
          -25,
          -43.75,
          -43.75
         ],
         "yaxis": "y"
        },
        {
         "hoverinfo": "text",
         "marker": {
          "color": "rgb(61,153,112)"
         },
         "mode": "lines",
         "type": "scatter",
         "x": [
          0.436861868788744,
          0.8398683848011758,
          0.8398683848011758,
          0.5805094786672591
         ],
         "xaxis": "x",
         "y": [
          -10,
          -10,
          -34.375,
          -34.375
         ],
         "yaxis": "y"
        },
        {
         "hoverinfo": "text",
         "marker": {
          "color": "rgb(255,65,54)"
         },
         "mode": "lines",
         "type": "scatter",
         "x": [
          0,
          0.42965242620865973,
          0.42965242620865973,
          0
         ],
         "xaxis": "x",
         "y": [
          -75,
          -75,
          -85,
          -85
         ],
         "yaxis": "y"
        },
        {
         "hoverinfo": "text",
         "marker": {
          "color": "rgb(255,65,54)"
         },
         "mode": "lines",
         "type": "scatter",
         "x": [
          0,
          0.3210149220911293,
          0.3210149220911293,
          0
         ],
         "xaxis": "x",
         "y": [
          -105,
          -105,
          -115,
          -115
         ],
         "yaxis": "y"
        },
        {
         "hoverinfo": "text",
         "marker": {
          "color": "rgb(255,65,54)"
         },
         "mode": "lines",
         "type": "scatter",
         "x": [
          0,
          0.5188545489691473,
          0.5188545489691473,
          0.3210149220911293
         ],
         "xaxis": "x",
         "y": [
          -95,
          -95,
          -110,
          -110
         ],
         "yaxis": "y"
        },
        {
         "hoverinfo": "text",
         "marker": {
          "color": "rgb(255,65,54)"
         },
         "mode": "lines",
         "type": "scatter",
         "x": [
          0.42965242620865973,
          0.868782549606157,
          0.868782549606157,
          0.5188545489691473
         ],
         "xaxis": "x",
         "y": [
          -80,
          -80,
          -102.5,
          -102.5
         ],
         "yaxis": "y"
        },
        {
         "hoverinfo": "text",
         "marker": {
          "color": "rgb(35,205,205)"
         },
         "mode": "lines",
         "type": "scatter",
         "x": [
          0,
          0.38558374649943744,
          0.38558374649943744,
          0
         ],
         "xaxis": "x",
         "y": [
          -125,
          -125,
          -135,
          -135
         ],
         "yaxis": "y"
        },
        {
         "hoverinfo": "text",
         "marker": {
          "color": "rgb(35,205,205)"
         },
         "mode": "lines",
         "type": "scatter",
         "x": [
          0,
          0.15235868383547682,
          0.15235868383547682,
          0
         ],
         "xaxis": "x",
         "y": [
          -145,
          -145,
          -155,
          -155
         ],
         "yaxis": "y"
        },
        {
         "hoverinfo": "text",
         "marker": {
          "color": "rgb(35,205,205)"
         },
         "mode": "lines",
         "type": "scatter",
         "x": [
          0,
          0.362998999196813,
          0.362998999196813,
          0
         ],
         "xaxis": "x",
         "y": [
          -165,
          -165,
          -175,
          -175
         ],
         "yaxis": "y"
        },
        {
         "hoverinfo": "text",
         "marker": {
          "color": "rgb(35,205,205)"
         },
         "mode": "lines",
         "type": "scatter",
         "x": [
          0.15235868383547682,
          0.5014017866339489,
          0.5014017866339489,
          0.362998999196813
         ],
         "xaxis": "x",
         "y": [
          -150,
          -150,
          -170,
          -170
         ],
         "yaxis": "y"
        },
        {
         "hoverinfo": "text",
         "marker": {
          "color": "rgb(35,205,205)"
         },
         "mode": "lines",
         "type": "scatter",
         "x": [
          0.38558374649943744,
          0.9805853661042342,
          0.9805853661042342,
          0.5014017866339489
         ],
         "xaxis": "x",
         "y": [
          -130,
          -130,
          -160,
          -160
         ],
         "yaxis": "y"
        },
        {
         "hoverinfo": "text",
         "marker": {
          "color": "rgb(0,116,217)"
         },
         "mode": "lines",
         "type": "scatter",
         "x": [
          0.868782549606157,
          1.5327919760515432,
          1.5327919760515432,
          0.9805853661042342
         ],
         "xaxis": "x",
         "y": [
          -91.25,
          -91.25,
          -145,
          -145
         ],
         "yaxis": "y"
        },
        {
         "hoverinfo": "text",
         "marker": {
          "color": "rgb(0,116,217)"
         },
         "mode": "lines",
         "type": "scatter",
         "x": [
          0.8398683848011758,
          1.9564791864653772,
          1.9564791864653772,
          1.5327919760515432
         ],
         "xaxis": "x",
         "y": [
          -22.1875,
          -22.1875,
          -118.125,
          -118.125
         ],
         "yaxis": "y"
        },
        {
         "hoverinfo": "text",
         "marker": {
          "color": "rgb(133,20,75)"
         },
         "mode": "lines",
         "type": "scatter",
         "x": [
          0,
          0.5157867262310538,
          0.5157867262310538,
          0
         ],
         "xaxis": "x",
         "y": [
          -205,
          -205,
          -215,
          -215
         ],
         "yaxis": "y"
        },
        {
         "hoverinfo": "text",
         "marker": {
          "color": "rgb(133,20,75)"
         },
         "mode": "lines",
         "type": "scatter",
         "x": [
          0,
          0.518732473084538,
          0.518732473084538,
          0
         ],
         "xaxis": "x",
         "y": [
          -225,
          -225,
          -235,
          -235
         ],
         "yaxis": "y"
        },
        {
         "hoverinfo": "text",
         "marker": {
          "color": "rgb(133,20,75)"
         },
         "mode": "lines",
         "type": "scatter",
         "x": [
          0.5157867262310538,
          0.6482714887802937,
          0.6482714887802937,
          0.518732473084538
         ],
         "xaxis": "x",
         "y": [
          -210,
          -210,
          -230,
          -230
         ],
         "yaxis": "y"
        },
        {
         "hoverinfo": "text",
         "marker": {
          "color": "rgb(133,20,75)"
         },
         "mode": "lines",
         "type": "scatter",
         "x": [
          0,
          0.7910965783786925,
          0.7910965783786925,
          0.6482714887802937
         ],
         "xaxis": "x",
         "y": [
          -195,
          -195,
          -220,
          -220
         ],
         "yaxis": "y"
        },
        {
         "hoverinfo": "text",
         "marker": {
          "color": "rgb(255,220,0)"
         },
         "mode": "lines",
         "type": "scatter",
         "x": [
          0,
          0.5527336219927861,
          0.5527336219927861,
          0
         ],
         "xaxis": "x",
         "y": [
          -255,
          -255,
          -265,
          -265
         ],
         "yaxis": "y"
        },
        {
         "hoverinfo": "text",
         "marker": {
          "color": "rgb(255,220,0)"
         },
         "mode": "lines",
         "type": "scatter",
         "x": [
          0,
          0.6001000211930885,
          0.6001000211930885,
          0.5527336219927861
         ],
         "xaxis": "x",
         "y": [
          -245,
          -245,
          -260,
          -260
         ],
         "yaxis": "y"
        },
        {
         "hoverinfo": "text",
         "marker": {
          "color": "rgb(255,220,0)"
         },
         "mode": "lines",
         "type": "scatter",
         "x": [
          0,
          0.3669209392291841,
          0.3669209392291841,
          0
         ],
         "xaxis": "x",
         "y": [
          -305,
          -305,
          -315,
          -315
         ],
         "yaxis": "y"
        },
        {
         "hoverinfo": "text",
         "marker": {
          "color": "rgb(255,220,0)"
         },
         "mode": "lines",
         "type": "scatter",
         "x": [
          0,
          0.5549562656274081,
          0.5549562656274081,
          0.3669209392291841
         ],
         "xaxis": "x",
         "y": [
          -295,
          -295,
          -310,
          -310
         ],
         "yaxis": "y"
        },
        {
         "hoverinfo": "text",
         "marker": {
          "color": "rgb(255,220,0)"
         },
         "mode": "lines",
         "type": "scatter",
         "x": [
          0,
          0.5973294088137994,
          0.5973294088137994,
          0.5549562656274081
         ],
         "xaxis": "x",
         "y": [
          -285,
          -285,
          -302.5,
          -302.5
         ],
         "yaxis": "y"
        },
        {
         "hoverinfo": "text",
         "marker": {
          "color": "rgb(255,220,0)"
         },
         "mode": "lines",
         "type": "scatter",
         "x": [
          0,
          0.7125664964546587,
          0.7125664964546587,
          0.5973294088137994
         ],
         "xaxis": "x",
         "y": [
          -275,
          -275,
          -293.75,
          -293.75
         ],
         "yaxis": "y"
        },
        {
         "hoverinfo": "text",
         "marker": {
          "color": "rgb(255,220,0)"
         },
         "mode": "lines",
         "type": "scatter",
         "x": [
          0.6001000211930885,
          0.8687485995488594,
          0.8687485995488594,
          0.7125664964546587
         ],
         "xaxis": "x",
         "y": [
          -252.5,
          -252.5,
          -284.375,
          -284.375
         ],
         "yaxis": "y"
        },
        {
         "hoverinfo": "text",
         "marker": {
          "color": "rgb(0,116,217)"
         },
         "mode": "lines",
         "type": "scatter",
         "x": [
          0.7910965783786925,
          1.2504777089560433,
          1.2504777089560433,
          0.8687485995488594
         ],
         "xaxis": "x",
         "y": [
          -207.5,
          -207.5,
          -268.4375,
          -268.4375
         ],
         "yaxis": "y"
        },
        {
         "hoverinfo": "text",
         "marker": {
          "color": "rgb(40,35,35)"
         },
         "mode": "lines",
         "type": "scatter",
         "x": [
          0,
          0.6228075019874906,
          0.6228075019874906,
          0
         ],
         "xaxis": "x",
         "y": [
          -355,
          -355,
          -365,
          -365
         ],
         "yaxis": "y"
        },
        {
         "hoverinfo": "text",
         "marker": {
          "color": "rgb(40,35,35)"
         },
         "mode": "lines",
         "type": "scatter",
         "x": [
          0,
          0.7333609155937612,
          0.7333609155937612,
          0.6228075019874906
         ],
         "xaxis": "x",
         "y": [
          -345,
          -345,
          -360,
          -360
         ],
         "yaxis": "y"
        },
        {
         "hoverinfo": "text",
         "marker": {
          "color": "rgb(40,35,35)"
         },
         "mode": "lines",
         "type": "scatter",
         "x": [
          0,
          0.767259178429003,
          0.767259178429003,
          0.7333609155937612
         ],
         "xaxis": "x",
         "y": [
          -335,
          -335,
          -352.5,
          -352.5
         ],
         "yaxis": "y"
        },
        {
         "hoverinfo": "text",
         "marker": {
          "color": "rgb(40,35,35)"
         },
         "mode": "lines",
         "type": "scatter",
         "x": [
          0,
          0.8694245281681054,
          0.8694245281681054,
          0.767259178429003
         ],
         "xaxis": "x",
         "y": [
          -325,
          -325,
          -343.75,
          -343.75
         ],
         "yaxis": "y"
        },
        {
         "hoverinfo": "text",
         "marker": {
          "color": "rgb(61,153,112)"
         },
         "mode": "lines",
         "type": "scatter",
         "x": [
          0,
          0.36309063411315357,
          0.36309063411315357,
          0
         ],
         "xaxis": "x",
         "y": [
          -385,
          -385,
          -395,
          -395
         ],
         "yaxis": "y"
        },
        {
         "hoverinfo": "text",
         "marker": {
          "color": "rgb(61,153,112)"
         },
         "mode": "lines",
         "type": "scatter",
         "x": [
          0,
          0.5497659067598015,
          0.5497659067598015,
          0.36309063411315357
         ],
         "xaxis": "x",
         "y": [
          -375,
          -375,
          -390,
          -390
         ],
         "yaxis": "y"
        },
        {
         "hoverinfo": "text",
         "marker": {
          "color": "rgb(255,65,54)"
         },
         "mode": "lines",
         "type": "scatter",
         "x": [
          0,
          0.55734571315088,
          0.55734571315088,
          0
         ],
         "xaxis": "x",
         "y": [
          -405,
          -405,
          -415,
          -415
         ],
         "yaxis": "y"
        },
        {
         "hoverinfo": "text",
         "marker": {
          "color": "rgb(0,116,217)"
         },
         "mode": "lines",
         "type": "scatter",
         "x": [
          0.5497659067598015,
          1.0199706959257837,
          1.0199706959257837,
          0.55734571315088
         ],
         "xaxis": "x",
         "y": [
          -382.5,
          -382.5,
          -410,
          -410
         ],
         "yaxis": "y"
        },
        {
         "hoverinfo": "text",
         "marker": {
          "color": "rgb(0,116,217)"
         },
         "mode": "lines",
         "type": "scatter",
         "x": [
          0.8694245281681054,
          1.2913709251764494,
          1.2913709251764494,
          1.0199706959257837
         ],
         "xaxis": "x",
         "y": [
          -334.375,
          -334.375,
          -396.25,
          -396.25
         ],
         "yaxis": "y"
        },
        {
         "hoverinfo": "text",
         "marker": {
          "color": "rgb(0,116,217)"
         },
         "mode": "lines",
         "type": "scatter",
         "x": [
          1.2504777089560433,
          1.9501286957131017,
          1.9501286957131017,
          1.2913709251764494
         ],
         "xaxis": "x",
         "y": [
          -237.96875,
          -237.96875,
          -365.3125,
          -365.3125
         ],
         "yaxis": "y"
        },
        {
         "hoverinfo": "text",
         "marker": {
          "color": "rgb(0,116,217)"
         },
         "mode": "lines",
         "type": "scatter",
         "x": [
          0,
          2.842943623163973,
          2.842943623163973,
          1.9501286957131017
         ],
         "xaxis": "x",
         "y": [
          -185,
          -185,
          -301.640625,
          -301.640625
         ],
         "yaxis": "y"
        },
        {
         "hoverinfo": "text",
         "marker": {
          "color": "rgb(0,116,217)"
         },
         "mode": "lines",
         "type": "scatter",
         "x": [
          1.9564791864653772,
          3.016044696404715,
          3.016044696404715,
          2.842943623163973
         ],
         "xaxis": "x",
         "y": [
          -70.15625,
          -70.15625,
          -243.3203125,
          -243.3203125
         ],
         "yaxis": "y"
        }
       ],
       "layout": {
        "autosize": false,
        "height": 830,
        "hoverlabel": {
         "bgcolor": "white",
         "font": {
          "family": "Rockwell",
          "size": 16
         }
        },
        "hovermode": "closest",
        "plot_bgcolor": "#ECEFF1",
        "showlegend": false,
        "template": {
         "data": {
          "bar": [
           {
            "error_x": {
             "color": "#2a3f5f"
            },
            "error_y": {
             "color": "#2a3f5f"
            },
            "marker": {
             "line": {
              "color": "white",
              "width": 0.5
             },
             "pattern": {
              "fillmode": "overlay",
              "size": 10,
              "solidity": 0.2
             }
            },
            "type": "bar"
           }
          ],
          "barpolar": [
           {
            "marker": {
             "line": {
              "color": "white",
              "width": 0.5
             },
             "pattern": {
              "fillmode": "overlay",
              "size": 10,
              "solidity": 0.2
             }
            },
            "type": "barpolar"
           }
          ],
          "carpet": [
           {
            "aaxis": {
             "endlinecolor": "#2a3f5f",
             "gridcolor": "#C8D4E3",
             "linecolor": "#C8D4E3",
             "minorgridcolor": "#C8D4E3",
             "startlinecolor": "#2a3f5f"
            },
            "baxis": {
             "endlinecolor": "#2a3f5f",
             "gridcolor": "#C8D4E3",
             "linecolor": "#C8D4E3",
             "minorgridcolor": "#C8D4E3",
             "startlinecolor": "#2a3f5f"
            },
            "type": "carpet"
           }
          ],
          "choropleth": [
           {
            "colorbar": {
             "outlinewidth": 0,
             "ticks": ""
            },
            "type": "choropleth"
           }
          ],
          "contour": [
           {
            "colorbar": {
             "outlinewidth": 0,
             "ticks": ""
            },
            "colorscale": [
             [
              0,
              "#0d0887"
             ],
             [
              0.1111111111111111,
              "#46039f"
             ],
             [
              0.2222222222222222,
              "#7201a8"
             ],
             [
              0.3333333333333333,
              "#9c179e"
             ],
             [
              0.4444444444444444,
              "#bd3786"
             ],
             [
              0.5555555555555556,
              "#d8576b"
             ],
             [
              0.6666666666666666,
              "#ed7953"
             ],
             [
              0.7777777777777778,
              "#fb9f3a"
             ],
             [
              0.8888888888888888,
              "#fdca26"
             ],
             [
              1,
              "#f0f921"
             ]
            ],
            "type": "contour"
           }
          ],
          "contourcarpet": [
           {
            "colorbar": {
             "outlinewidth": 0,
             "ticks": ""
            },
            "type": "contourcarpet"
           }
          ],
          "heatmap": [
           {
            "colorbar": {
             "outlinewidth": 0,
             "ticks": ""
            },
            "colorscale": [
             [
              0,
              "#0d0887"
             ],
             [
              0.1111111111111111,
              "#46039f"
             ],
             [
              0.2222222222222222,
              "#7201a8"
             ],
             [
              0.3333333333333333,
              "#9c179e"
             ],
             [
              0.4444444444444444,
              "#bd3786"
             ],
             [
              0.5555555555555556,
              "#d8576b"
             ],
             [
              0.6666666666666666,
              "#ed7953"
             ],
             [
              0.7777777777777778,
              "#fb9f3a"
             ],
             [
              0.8888888888888888,
              "#fdca26"
             ],
             [
              1,
              "#f0f921"
             ]
            ],
            "type": "heatmap"
           }
          ],
          "heatmapgl": [
           {
            "colorbar": {
             "outlinewidth": 0,
             "ticks": ""
            },
            "colorscale": [
             [
              0,
              "#0d0887"
             ],
             [
              0.1111111111111111,
              "#46039f"
             ],
             [
              0.2222222222222222,
              "#7201a8"
             ],
             [
              0.3333333333333333,
              "#9c179e"
             ],
             [
              0.4444444444444444,
              "#bd3786"
             ],
             [
              0.5555555555555556,
              "#d8576b"
             ],
             [
              0.6666666666666666,
              "#ed7953"
             ],
             [
              0.7777777777777778,
              "#fb9f3a"
             ],
             [
              0.8888888888888888,
              "#fdca26"
             ],
             [
              1,
              "#f0f921"
             ]
            ],
            "type": "heatmapgl"
           }
          ],
          "histogram": [
           {
            "marker": {
             "pattern": {
              "fillmode": "overlay",
              "size": 10,
              "solidity": 0.2
             }
            },
            "type": "histogram"
           }
          ],
          "histogram2d": [
           {
            "colorbar": {
             "outlinewidth": 0,
             "ticks": ""
            },
            "colorscale": [
             [
              0,
              "#0d0887"
             ],
             [
              0.1111111111111111,
              "#46039f"
             ],
             [
              0.2222222222222222,
              "#7201a8"
             ],
             [
              0.3333333333333333,
              "#9c179e"
             ],
             [
              0.4444444444444444,
              "#bd3786"
             ],
             [
              0.5555555555555556,
              "#d8576b"
             ],
             [
              0.6666666666666666,
              "#ed7953"
             ],
             [
              0.7777777777777778,
              "#fb9f3a"
             ],
             [
              0.8888888888888888,
              "#fdca26"
             ],
             [
              1,
              "#f0f921"
             ]
            ],
            "type": "histogram2d"
           }
          ],
          "histogram2dcontour": [
           {
            "colorbar": {
             "outlinewidth": 0,
             "ticks": ""
            },
            "colorscale": [
             [
              0,
              "#0d0887"
             ],
             [
              0.1111111111111111,
              "#46039f"
             ],
             [
              0.2222222222222222,
              "#7201a8"
             ],
             [
              0.3333333333333333,
              "#9c179e"
             ],
             [
              0.4444444444444444,
              "#bd3786"
             ],
             [
              0.5555555555555556,
              "#d8576b"
             ],
             [
              0.6666666666666666,
              "#ed7953"
             ],
             [
              0.7777777777777778,
              "#fb9f3a"
             ],
             [
              0.8888888888888888,
              "#fdca26"
             ],
             [
              1,
              "#f0f921"
             ]
            ],
            "type": "histogram2dcontour"
           }
          ],
          "mesh3d": [
           {
            "colorbar": {
             "outlinewidth": 0,
             "ticks": ""
            },
            "type": "mesh3d"
           }
          ],
          "parcoords": [
           {
            "line": {
             "colorbar": {
              "outlinewidth": 0,
              "ticks": ""
             }
            },
            "type": "parcoords"
           }
          ],
          "pie": [
           {
            "automargin": true,
            "type": "pie"
           }
          ],
          "scatter": [
           {
            "fillpattern": {
             "fillmode": "overlay",
             "size": 10,
             "solidity": 0.2
            },
            "type": "scatter"
           }
          ],
          "scatter3d": [
           {
            "line": {
             "colorbar": {
              "outlinewidth": 0,
              "ticks": ""
             }
            },
            "marker": {
             "colorbar": {
              "outlinewidth": 0,
              "ticks": ""
             }
            },
            "type": "scatter3d"
           }
          ],
          "scattercarpet": [
           {
            "marker": {
             "colorbar": {
              "outlinewidth": 0,
              "ticks": ""
             }
            },
            "type": "scattercarpet"
           }
          ],
          "scattergeo": [
           {
            "marker": {
             "colorbar": {
              "outlinewidth": 0,
              "ticks": ""
             }
            },
            "type": "scattergeo"
           }
          ],
          "scattergl": [
           {
            "marker": {
             "colorbar": {
              "outlinewidth": 0,
              "ticks": ""
             }
            },
            "type": "scattergl"
           }
          ],
          "scattermapbox": [
           {
            "marker": {
             "colorbar": {
              "outlinewidth": 0,
              "ticks": ""
             }
            },
            "type": "scattermapbox"
           }
          ],
          "scatterpolar": [
           {
            "marker": {
             "colorbar": {
              "outlinewidth": 0,
              "ticks": ""
             }
            },
            "type": "scatterpolar"
           }
          ],
          "scatterpolargl": [
           {
            "marker": {
             "colorbar": {
              "outlinewidth": 0,
              "ticks": ""
             }
            },
            "type": "scatterpolargl"
           }
          ],
          "scatterternary": [
           {
            "marker": {
             "colorbar": {
              "outlinewidth": 0,
              "ticks": ""
             }
            },
            "type": "scatterternary"
           }
          ],
          "surface": [
           {
            "colorbar": {
             "outlinewidth": 0,
             "ticks": ""
            },
            "colorscale": [
             [
              0,
              "#0d0887"
             ],
             [
              0.1111111111111111,
              "#46039f"
             ],
             [
              0.2222222222222222,
              "#7201a8"
             ],
             [
              0.3333333333333333,
              "#9c179e"
             ],
             [
              0.4444444444444444,
              "#bd3786"
             ],
             [
              0.5555555555555556,
              "#d8576b"
             ],
             [
              0.6666666666666666,
              "#ed7953"
             ],
             [
              0.7777777777777778,
              "#fb9f3a"
             ],
             [
              0.8888888888888888,
              "#fdca26"
             ],
             [
              1,
              "#f0f921"
             ]
            ],
            "type": "surface"
           }
          ],
          "table": [
           {
            "cells": {
             "fill": {
              "color": "#EBF0F8"
             },
             "line": {
              "color": "white"
             }
            },
            "header": {
             "fill": {
              "color": "#C8D4E3"
             },
             "line": {
              "color": "white"
             }
            },
            "type": "table"
           }
          ]
         },
         "layout": {
          "annotationdefaults": {
           "arrowcolor": "#2a3f5f",
           "arrowhead": 0,
           "arrowwidth": 1
          },
          "autotypenumbers": "strict",
          "coloraxis": {
           "colorbar": {
            "outlinewidth": 0,
            "ticks": ""
           }
          },
          "colorscale": {
           "diverging": [
            [
             0,
             "#8e0152"
            ],
            [
             0.1,
             "#c51b7d"
            ],
            [
             0.2,
             "#de77ae"
            ],
            [
             0.3,
             "#f1b6da"
            ],
            [
             0.4,
             "#fde0ef"
            ],
            [
             0.5,
             "#f7f7f7"
            ],
            [
             0.6,
             "#e6f5d0"
            ],
            [
             0.7,
             "#b8e186"
            ],
            [
             0.8,
             "#7fbc41"
            ],
            [
             0.9,
             "#4d9221"
            ],
            [
             1,
             "#276419"
            ]
           ],
           "sequential": [
            [
             0,
             "#0d0887"
            ],
            [
             0.1111111111111111,
             "#46039f"
            ],
            [
             0.2222222222222222,
             "#7201a8"
            ],
            [
             0.3333333333333333,
             "#9c179e"
            ],
            [
             0.4444444444444444,
             "#bd3786"
            ],
            [
             0.5555555555555556,
             "#d8576b"
            ],
            [
             0.6666666666666666,
             "#ed7953"
            ],
            [
             0.7777777777777778,
             "#fb9f3a"
            ],
            [
             0.8888888888888888,
             "#fdca26"
            ],
            [
             1,
             "#f0f921"
            ]
           ],
           "sequentialminus": [
            [
             0,
             "#0d0887"
            ],
            [
             0.1111111111111111,
             "#46039f"
            ],
            [
             0.2222222222222222,
             "#7201a8"
            ],
            [
             0.3333333333333333,
             "#9c179e"
            ],
            [
             0.4444444444444444,
             "#bd3786"
            ],
            [
             0.5555555555555556,
             "#d8576b"
            ],
            [
             0.6666666666666666,
             "#ed7953"
            ],
            [
             0.7777777777777778,
             "#fb9f3a"
            ],
            [
             0.8888888888888888,
             "#fdca26"
            ],
            [
             1,
             "#f0f921"
            ]
           ]
          },
          "colorway": [
           "#636efa",
           "#EF553B",
           "#00cc96",
           "#ab63fa",
           "#FFA15A",
           "#19d3f3",
           "#FF6692",
           "#B6E880",
           "#FF97FF",
           "#FECB52"
          ],
          "font": {
           "color": "#2a3f5f"
          },
          "geo": {
           "bgcolor": "white",
           "lakecolor": "white",
           "landcolor": "white",
           "showlakes": true,
           "showland": true,
           "subunitcolor": "#C8D4E3"
          },
          "hoverlabel": {
           "align": "left"
          },
          "hovermode": "closest",
          "mapbox": {
           "style": "light"
          },
          "paper_bgcolor": "white",
          "plot_bgcolor": "white",
          "polar": {
           "angularaxis": {
            "gridcolor": "#EBF0F8",
            "linecolor": "#EBF0F8",
            "ticks": ""
           },
           "bgcolor": "white",
           "radialaxis": {
            "gridcolor": "#EBF0F8",
            "linecolor": "#EBF0F8",
            "ticks": ""
           }
          },
          "scene": {
           "xaxis": {
            "backgroundcolor": "white",
            "gridcolor": "#DFE8F3",
            "gridwidth": 2,
            "linecolor": "#EBF0F8",
            "showbackground": true,
            "ticks": "",
            "zerolinecolor": "#EBF0F8"
           },
           "yaxis": {
            "backgroundcolor": "white",
            "gridcolor": "#DFE8F3",
            "gridwidth": 2,
            "linecolor": "#EBF0F8",
            "showbackground": true,
            "ticks": "",
            "zerolinecolor": "#EBF0F8"
           },
           "zaxis": {
            "backgroundcolor": "white",
            "gridcolor": "#DFE8F3",
            "gridwidth": 2,
            "linecolor": "#EBF0F8",
            "showbackground": true,
            "ticks": "",
            "zerolinecolor": "#EBF0F8"
           }
          },
          "shapedefaults": {
           "line": {
            "color": "#2a3f5f"
           }
          },
          "ternary": {
           "aaxis": {
            "gridcolor": "#DFE8F3",
            "linecolor": "#A2B1C6",
            "ticks": ""
           },
           "baxis": {
            "gridcolor": "#DFE8F3",
            "linecolor": "#A2B1C6",
            "ticks": ""
           },
           "bgcolor": "white",
           "caxis": {
            "gridcolor": "#DFE8F3",
            "linecolor": "#A2B1C6",
            "ticks": ""
           }
          },
          "title": {
           "x": 0.05
          },
          "xaxis": {
           "automargin": true,
           "gridcolor": "#EBF0F8",
           "linecolor": "#EBF0F8",
           "ticks": "",
           "title": {
            "standoff": 15
           },
           "zerolinecolor": "#EBF0F8",
           "zerolinewidth": 2
          },
          "yaxis": {
           "automargin": true,
           "gridcolor": "#EBF0F8",
           "linecolor": "#EBF0F8",
           "ticks": "",
           "title": {
            "standoff": 15
           },
           "zerolinecolor": "#EBF0F8",
           "zerolinewidth": 2
          }
         }
        },
        "title": {
         "font": {
          "color": "Black",
          "size": 22
         },
         "text": "<b>Hierarchical Clustering",
         "x": 0.5,
         "xanchor": "center",
         "yanchor": "top"
        },
        "width": 1000,
        "xaxis": {
         "mirror": "allticks",
         "rangemode": "tozero",
         "showgrid": false,
         "showline": true,
         "showticklabels": true,
         "ticks": "outside",
         "type": "linear",
         "zeroline": false
        },
        "yaxis": {
         "mirror": "allticks",
         "range": [
          -420,
          0
         ],
         "rangemode": "tozero",
         "showgrid": false,
         "showline": true,
         "showticklabels": true,
         "tickmode": "array",
         "ticks": "outside",
         "ticktext": [
          "12_pronounce_dead_pronounce...",
          "33_pronounce_dead_ski_hospi...",
          "11_pool_boy_drown",
          "34_bathtub_drown_autopsy",
          "1_drown_death_autopsy",
          "15_drown_hot_tub_autopsy",
          "40_drown_swimming_pool_auto...",
          "6_terrain_vehicle_golf_cart...",
          "37_bicycle_head_autopsy",
          "31_snowmobile_tree_trail",
          "0_bicyclist_bicycle_scooter",
          "21_atv_crash_drive",
          "10_sleep_autopsy_overlay",
          "19_unresponsive_blanket_bed",
          "13_hip_fracture_floor_fall",
          "35_hip_fracture_hip_fall",
          "2_ladder_fall_stair",
          "9_fall_head_floor",
          "8_nan_apneic_yet",
          "23_difluoroethane_autopsy_i...",
          "28_carbon_monoxide_furnace_...",
          "38_garage_carbon_monoxide_a...",
          "14_thermal_burn_inhalation",
          "39_generator_unknown_autopsy",
          "3_electrical_extension_cord...",
          "18_burner_grill_knob",
          "27_mower_lawn_mower_fuel",
          "32_firework_hand_explode",
          "16_glass_shower_door",
          "7_fire_house_firefighter",
          "4_apartment_candle_fire",
          "25_chimney_fire_home",
          "26_bulb_lamp_light",
          "17_chair_stroller_seat",
          "36_blade_blender_food_proce...",
          "5_toy_battery_mouth",
          "30_phone_device_charge",
          "29_refrigerator_freezer_fri...",
          "20_oven_turn_toaster",
          "22_microwave_door_turn",
          "24_dishwasher_melt_smoke",
          "41_washer_machine_washing_m..."
         ],
         "tickvals": [
          -5,
          -15,
          -25,
          -35,
          -45,
          -55,
          -65,
          -75,
          -85,
          -95,
          -105,
          -115,
          -125,
          -135,
          -145,
          -155,
          -165,
          -175,
          -185,
          -195,
          -205,
          -215,
          -225,
          -235,
          -245,
          -255,
          -265,
          -275,
          -285,
          -295,
          -305,
          -315,
          -325,
          -335,
          -345,
          -355,
          -365,
          -375,
          -385,
          -395,
          -405,
          -415
         ],
         "type": "linear",
         "zeroline": false
        }
       }
      },
      "text/html": [
       "<div>                            <div id=\"31f3686c-2cf6-464d-b3f0-2175ecfb6861\" class=\"plotly-graph-div\" style=\"height:830px; width:1000px;\"></div>            <script type=\"text/javascript\">                require([\"plotly\"], function(Plotly) {                    window.PLOTLYENV=window.PLOTLYENV || {};                                    if (document.getElementById(\"31f3686c-2cf6-464d-b3f0-2175ecfb6861\")) {                    Plotly.newPlot(                        \"31f3686c-2cf6-464d-b3f0-2175ecfb6861\",                        [{\"hoverinfo\":\"text\",\"marker\":{\"color\":\"rgb(61,153,112)\"},\"mode\":\"lines\",\"x\":[0.0,0.436861868788744,0.436861868788744,0.0],\"xaxis\":\"x\",\"y\":[-5.0,-5.0,-15.0,-15.0],\"yaxis\":\"y\",\"type\":\"scatter\"},{\"hoverinfo\":\"text\",\"marker\":{\"color\":\"rgb(61,153,112)\"},\"mode\":\"lines\",\"x\":[0.0,0.14222671256178543,0.14222671256178543,0.0],\"xaxis\":\"x\",\"y\":[-55.0,-55.0,-65.0,-65.0],\"yaxis\":\"y\",\"type\":\"scatter\"},{\"hoverinfo\":\"text\",\"marker\":{\"color\":\"rgb(61,153,112)\"},\"mode\":\"lines\",\"x\":[0.0,0.3216077614692268,0.3216077614692268,0.14222671256178543],\"xaxis\":\"x\",\"y\":[-45.0,-45.0,-60.0,-60.0],\"yaxis\":\"y\",\"type\":\"scatter\"},{\"hoverinfo\":\"text\",\"marker\":{\"color\":\"rgb(61,153,112)\"},\"mode\":\"lines\",\"x\":[0.0,0.42015146459850555,0.42015146459850555,0.3216077614692268],\"xaxis\":\"x\",\"y\":[-35.0,-35.0,-52.5,-52.5],\"yaxis\":\"y\",\"type\":\"scatter\"},{\"hoverinfo\":\"text\",\"marker\":{\"color\":\"rgb(61,153,112)\"},\"mode\":\"lines\",\"x\":[0.0,0.5805094786672591,0.5805094786672591,0.42015146459850555],\"xaxis\":\"x\",\"y\":[-25.0,-25.0,-43.75,-43.75],\"yaxis\":\"y\",\"type\":\"scatter\"},{\"hoverinfo\":\"text\",\"marker\":{\"color\":\"rgb(61,153,112)\"},\"mode\":\"lines\",\"x\":[0.436861868788744,0.8398683848011758,0.8398683848011758,0.5805094786672591],\"xaxis\":\"x\",\"y\":[-10.0,-10.0,-34.375,-34.375],\"yaxis\":\"y\",\"type\":\"scatter\"},{\"hoverinfo\":\"text\",\"marker\":{\"color\":\"rgb(255,65,54)\"},\"mode\":\"lines\",\"x\":[0.0,0.42965242620865973,0.42965242620865973,0.0],\"xaxis\":\"x\",\"y\":[-75.0,-75.0,-85.0,-85.0],\"yaxis\":\"y\",\"type\":\"scatter\"},{\"hoverinfo\":\"text\",\"marker\":{\"color\":\"rgb(255,65,54)\"},\"mode\":\"lines\",\"x\":[0.0,0.3210149220911293,0.3210149220911293,0.0],\"xaxis\":\"x\",\"y\":[-105.0,-105.0,-115.0,-115.0],\"yaxis\":\"y\",\"type\":\"scatter\"},{\"hoverinfo\":\"text\",\"marker\":{\"color\":\"rgb(255,65,54)\"},\"mode\":\"lines\",\"x\":[0.0,0.5188545489691473,0.5188545489691473,0.3210149220911293],\"xaxis\":\"x\",\"y\":[-95.0,-95.0,-110.0,-110.0],\"yaxis\":\"y\",\"type\":\"scatter\"},{\"hoverinfo\":\"text\",\"marker\":{\"color\":\"rgb(255,65,54)\"},\"mode\":\"lines\",\"x\":[0.42965242620865973,0.868782549606157,0.868782549606157,0.5188545489691473],\"xaxis\":\"x\",\"y\":[-80.0,-80.0,-102.5,-102.5],\"yaxis\":\"y\",\"type\":\"scatter\"},{\"hoverinfo\":\"text\",\"marker\":{\"color\":\"rgb(35,205,205)\"},\"mode\":\"lines\",\"x\":[0.0,0.38558374649943744,0.38558374649943744,0.0],\"xaxis\":\"x\",\"y\":[-125.0,-125.0,-135.0,-135.0],\"yaxis\":\"y\",\"type\":\"scatter\"},{\"hoverinfo\":\"text\",\"marker\":{\"color\":\"rgb(35,205,205)\"},\"mode\":\"lines\",\"x\":[0.0,0.15235868383547682,0.15235868383547682,0.0],\"xaxis\":\"x\",\"y\":[-145.0,-145.0,-155.0,-155.0],\"yaxis\":\"y\",\"type\":\"scatter\"},{\"hoverinfo\":\"text\",\"marker\":{\"color\":\"rgb(35,205,205)\"},\"mode\":\"lines\",\"x\":[0.0,0.362998999196813,0.362998999196813,0.0],\"xaxis\":\"x\",\"y\":[-165.0,-165.0,-175.0,-175.0],\"yaxis\":\"y\",\"type\":\"scatter\"},{\"hoverinfo\":\"text\",\"marker\":{\"color\":\"rgb(35,205,205)\"},\"mode\":\"lines\",\"x\":[0.15235868383547682,0.5014017866339489,0.5014017866339489,0.362998999196813],\"xaxis\":\"x\",\"y\":[-150.0,-150.0,-170.0,-170.0],\"yaxis\":\"y\",\"type\":\"scatter\"},{\"hoverinfo\":\"text\",\"marker\":{\"color\":\"rgb(35,205,205)\"},\"mode\":\"lines\",\"x\":[0.38558374649943744,0.9805853661042342,0.9805853661042342,0.5014017866339489],\"xaxis\":\"x\",\"y\":[-130.0,-130.0,-160.0,-160.0],\"yaxis\":\"y\",\"type\":\"scatter\"},{\"hoverinfo\":\"text\",\"marker\":{\"color\":\"rgb(0,116,217)\"},\"mode\":\"lines\",\"x\":[0.868782549606157,1.5327919760515432,1.5327919760515432,0.9805853661042342],\"xaxis\":\"x\",\"y\":[-91.25,-91.25,-145.0,-145.0],\"yaxis\":\"y\",\"type\":\"scatter\"},{\"hoverinfo\":\"text\",\"marker\":{\"color\":\"rgb(0,116,217)\"},\"mode\":\"lines\",\"x\":[0.8398683848011758,1.9564791864653772,1.9564791864653772,1.5327919760515432],\"xaxis\":\"x\",\"y\":[-22.1875,-22.1875,-118.125,-118.125],\"yaxis\":\"y\",\"type\":\"scatter\"},{\"hoverinfo\":\"text\",\"marker\":{\"color\":\"rgb(133,20,75)\"},\"mode\":\"lines\",\"x\":[0.0,0.5157867262310538,0.5157867262310538,0.0],\"xaxis\":\"x\",\"y\":[-205.0,-205.0,-215.0,-215.0],\"yaxis\":\"y\",\"type\":\"scatter\"},{\"hoverinfo\":\"text\",\"marker\":{\"color\":\"rgb(133,20,75)\"},\"mode\":\"lines\",\"x\":[0.0,0.518732473084538,0.518732473084538,0.0],\"xaxis\":\"x\",\"y\":[-225.0,-225.0,-235.0,-235.0],\"yaxis\":\"y\",\"type\":\"scatter\"},{\"hoverinfo\":\"text\",\"marker\":{\"color\":\"rgb(133,20,75)\"},\"mode\":\"lines\",\"x\":[0.5157867262310538,0.6482714887802937,0.6482714887802937,0.518732473084538],\"xaxis\":\"x\",\"y\":[-210.0,-210.0,-230.0,-230.0],\"yaxis\":\"y\",\"type\":\"scatter\"},{\"hoverinfo\":\"text\",\"marker\":{\"color\":\"rgb(133,20,75)\"},\"mode\":\"lines\",\"x\":[0.0,0.7910965783786925,0.7910965783786925,0.6482714887802937],\"xaxis\":\"x\",\"y\":[-195.0,-195.0,-220.0,-220.0],\"yaxis\":\"y\",\"type\":\"scatter\"},{\"hoverinfo\":\"text\",\"marker\":{\"color\":\"rgb(255,220,0)\"},\"mode\":\"lines\",\"x\":[0.0,0.5527336219927861,0.5527336219927861,0.0],\"xaxis\":\"x\",\"y\":[-255.0,-255.0,-265.0,-265.0],\"yaxis\":\"y\",\"type\":\"scatter\"},{\"hoverinfo\":\"text\",\"marker\":{\"color\":\"rgb(255,220,0)\"},\"mode\":\"lines\",\"x\":[0.0,0.6001000211930885,0.6001000211930885,0.5527336219927861],\"xaxis\":\"x\",\"y\":[-245.0,-245.0,-260.0,-260.0],\"yaxis\":\"y\",\"type\":\"scatter\"},{\"hoverinfo\":\"text\",\"marker\":{\"color\":\"rgb(255,220,0)\"},\"mode\":\"lines\",\"x\":[0.0,0.3669209392291841,0.3669209392291841,0.0],\"xaxis\":\"x\",\"y\":[-305.0,-305.0,-315.0,-315.0],\"yaxis\":\"y\",\"type\":\"scatter\"},{\"hoverinfo\":\"text\",\"marker\":{\"color\":\"rgb(255,220,0)\"},\"mode\":\"lines\",\"x\":[0.0,0.5549562656274081,0.5549562656274081,0.3669209392291841],\"xaxis\":\"x\",\"y\":[-295.0,-295.0,-310.0,-310.0],\"yaxis\":\"y\",\"type\":\"scatter\"},{\"hoverinfo\":\"text\",\"marker\":{\"color\":\"rgb(255,220,0)\"},\"mode\":\"lines\",\"x\":[0.0,0.5973294088137994,0.5973294088137994,0.5549562656274081],\"xaxis\":\"x\",\"y\":[-285.0,-285.0,-302.5,-302.5],\"yaxis\":\"y\",\"type\":\"scatter\"},{\"hoverinfo\":\"text\",\"marker\":{\"color\":\"rgb(255,220,0)\"},\"mode\":\"lines\",\"x\":[0.0,0.7125664964546587,0.7125664964546587,0.5973294088137994],\"xaxis\":\"x\",\"y\":[-275.0,-275.0,-293.75,-293.75],\"yaxis\":\"y\",\"type\":\"scatter\"},{\"hoverinfo\":\"text\",\"marker\":{\"color\":\"rgb(255,220,0)\"},\"mode\":\"lines\",\"x\":[0.6001000211930885,0.8687485995488594,0.8687485995488594,0.7125664964546587],\"xaxis\":\"x\",\"y\":[-252.5,-252.5,-284.375,-284.375],\"yaxis\":\"y\",\"type\":\"scatter\"},{\"hoverinfo\":\"text\",\"marker\":{\"color\":\"rgb(0,116,217)\"},\"mode\":\"lines\",\"x\":[0.7910965783786925,1.2504777089560433,1.2504777089560433,0.8687485995488594],\"xaxis\":\"x\",\"y\":[-207.5,-207.5,-268.4375,-268.4375],\"yaxis\":\"y\",\"type\":\"scatter\"},{\"hoverinfo\":\"text\",\"marker\":{\"color\":\"rgb(40,35,35)\"},\"mode\":\"lines\",\"x\":[0.0,0.6228075019874906,0.6228075019874906,0.0],\"xaxis\":\"x\",\"y\":[-355.0,-355.0,-365.0,-365.0],\"yaxis\":\"y\",\"type\":\"scatter\"},{\"hoverinfo\":\"text\",\"marker\":{\"color\":\"rgb(40,35,35)\"},\"mode\":\"lines\",\"x\":[0.0,0.7333609155937612,0.7333609155937612,0.6228075019874906],\"xaxis\":\"x\",\"y\":[-345.0,-345.0,-360.0,-360.0],\"yaxis\":\"y\",\"type\":\"scatter\"},{\"hoverinfo\":\"text\",\"marker\":{\"color\":\"rgb(40,35,35)\"},\"mode\":\"lines\",\"x\":[0.0,0.767259178429003,0.767259178429003,0.7333609155937612],\"xaxis\":\"x\",\"y\":[-335.0,-335.0,-352.5,-352.5],\"yaxis\":\"y\",\"type\":\"scatter\"},{\"hoverinfo\":\"text\",\"marker\":{\"color\":\"rgb(40,35,35)\"},\"mode\":\"lines\",\"x\":[0.0,0.8694245281681054,0.8694245281681054,0.767259178429003],\"xaxis\":\"x\",\"y\":[-325.0,-325.0,-343.75,-343.75],\"yaxis\":\"y\",\"type\":\"scatter\"},{\"hoverinfo\":\"text\",\"marker\":{\"color\":\"rgb(61,153,112)\"},\"mode\":\"lines\",\"x\":[0.0,0.36309063411315357,0.36309063411315357,0.0],\"xaxis\":\"x\",\"y\":[-385.0,-385.0,-395.0,-395.0],\"yaxis\":\"y\",\"type\":\"scatter\"},{\"hoverinfo\":\"text\",\"marker\":{\"color\":\"rgb(61,153,112)\"},\"mode\":\"lines\",\"x\":[0.0,0.5497659067598015,0.5497659067598015,0.36309063411315357],\"xaxis\":\"x\",\"y\":[-375.0,-375.0,-390.0,-390.0],\"yaxis\":\"y\",\"type\":\"scatter\"},{\"hoverinfo\":\"text\",\"marker\":{\"color\":\"rgb(255,65,54)\"},\"mode\":\"lines\",\"x\":[0.0,0.55734571315088,0.55734571315088,0.0],\"xaxis\":\"x\",\"y\":[-405.0,-405.0,-415.0,-415.0],\"yaxis\":\"y\",\"type\":\"scatter\"},{\"hoverinfo\":\"text\",\"marker\":{\"color\":\"rgb(0,116,217)\"},\"mode\":\"lines\",\"x\":[0.5497659067598015,1.0199706959257837,1.0199706959257837,0.55734571315088],\"xaxis\":\"x\",\"y\":[-382.5,-382.5,-410.0,-410.0],\"yaxis\":\"y\",\"type\":\"scatter\"},{\"hoverinfo\":\"text\",\"marker\":{\"color\":\"rgb(0,116,217)\"},\"mode\":\"lines\",\"x\":[0.8694245281681054,1.2913709251764494,1.2913709251764494,1.0199706959257837],\"xaxis\":\"x\",\"y\":[-334.375,-334.375,-396.25,-396.25],\"yaxis\":\"y\",\"type\":\"scatter\"},{\"hoverinfo\":\"text\",\"marker\":{\"color\":\"rgb(0,116,217)\"},\"mode\":\"lines\",\"x\":[1.2504777089560433,1.9501286957131017,1.9501286957131017,1.2913709251764494],\"xaxis\":\"x\",\"y\":[-237.96875,-237.96875,-365.3125,-365.3125],\"yaxis\":\"y\",\"type\":\"scatter\"},{\"hoverinfo\":\"text\",\"marker\":{\"color\":\"rgb(0,116,217)\"},\"mode\":\"lines\",\"x\":[0.0,2.842943623163973,2.842943623163973,1.9501286957131017],\"xaxis\":\"x\",\"y\":[-185.0,-185.0,-301.640625,-301.640625],\"yaxis\":\"y\",\"type\":\"scatter\"},{\"hoverinfo\":\"text\",\"marker\":{\"color\":\"rgb(0,116,217)\"},\"mode\":\"lines\",\"x\":[1.9564791864653772,3.016044696404715,3.016044696404715,2.842943623163973],\"xaxis\":\"x\",\"y\":[-70.15625,-70.15625,-243.3203125,-243.3203125],\"yaxis\":\"y\",\"type\":\"scatter\"}],                        {\"autosize\":false,\"height\":830,\"hovermode\":\"closest\",\"showlegend\":false,\"width\":1000,\"xaxis\":{\"mirror\":\"allticks\",\"rangemode\":\"tozero\",\"showgrid\":false,\"showline\":true,\"showticklabels\":true,\"ticks\":\"outside\",\"type\":\"linear\",\"zeroline\":false},\"yaxis\":{\"mirror\":\"allticks\",\"rangemode\":\"tozero\",\"showgrid\":false,\"showline\":true,\"showticklabels\":true,\"tickmode\":\"array\",\"ticks\":\"outside\",\"ticktext\":[\"12_pronounce_dead_pronounce...\",\"33_pronounce_dead_ski_hospi...\",\"11_pool_boy_drown\",\"34_bathtub_drown_autopsy\",\"1_drown_death_autopsy\",\"15_drown_hot_tub_autopsy\",\"40_drown_swimming_pool_auto...\",\"6_terrain_vehicle_golf_cart...\",\"37_bicycle_head_autopsy\",\"31_snowmobile_tree_trail\",\"0_bicyclist_bicycle_scooter\",\"21_atv_crash_drive\",\"10_sleep_autopsy_overlay\",\"19_unresponsive_blanket_bed\",\"13_hip_fracture_floor_fall\",\"35_hip_fracture_hip_fall\",\"2_ladder_fall_stair\",\"9_fall_head_floor\",\"8_nan_apneic_yet\",\"23_difluoroethane_autopsy_i...\",\"28_carbon_monoxide_furnace_...\",\"38_garage_carbon_monoxide_a...\",\"14_thermal_burn_inhalation\",\"39_generator_unknown_autopsy\",\"3_electrical_extension_cord...\",\"18_burner_grill_knob\",\"27_mower_lawn_mower_fuel\",\"32_firework_hand_explode\",\"16_glass_shower_door\",\"7_fire_house_firefighter\",\"4_apartment_candle_fire\",\"25_chimney_fire_home\",\"26_bulb_lamp_light\",\"17_chair_stroller_seat\",\"36_blade_blender_food_proce...\",\"5_toy_battery_mouth\",\"30_phone_device_charge\",\"29_refrigerator_freezer_fri...\",\"20_oven_turn_toaster\",\"22_microwave_door_turn\",\"24_dishwasher_melt_smoke\",\"41_washer_machine_washing_m...\"],\"tickvals\":[-5.0,-15.0,-25.0,-35.0,-45.0,-55.0,-65.0,-75.0,-85.0,-95.0,-105.0,-115.0,-125.0,-135.0,-145.0,-155.0,-165.0,-175.0,-185.0,-195.0,-205.0,-215.0,-225.0,-235.0,-245.0,-255.0,-265.0,-275.0,-285.0,-295.0,-305.0,-315.0,-325.0,-335.0,-345.0,-355.0,-365.0,-375.0,-385.0,-395.0,-405.0,-415.0],\"type\":\"linear\",\"zeroline\":false,\"range\":[-420.0,0.0]},\"template\":{\"data\":{\"barpolar\":[{\"marker\":{\"line\":{\"color\":\"white\",\"width\":0.5},\"pattern\":{\"fillmode\":\"overlay\",\"size\":10,\"solidity\":0.2}},\"type\":\"barpolar\"}],\"bar\":[{\"error_x\":{\"color\":\"#2a3f5f\"},\"error_y\":{\"color\":\"#2a3f5f\"},\"marker\":{\"line\":{\"color\":\"white\",\"width\":0.5},\"pattern\":{\"fillmode\":\"overlay\",\"size\":10,\"solidity\":0.2}},\"type\":\"bar\"}],\"carpet\":[{\"aaxis\":{\"endlinecolor\":\"#2a3f5f\",\"gridcolor\":\"#C8D4E3\",\"linecolor\":\"#C8D4E3\",\"minorgridcolor\":\"#C8D4E3\",\"startlinecolor\":\"#2a3f5f\"},\"baxis\":{\"endlinecolor\":\"#2a3f5f\",\"gridcolor\":\"#C8D4E3\",\"linecolor\":\"#C8D4E3\",\"minorgridcolor\":\"#C8D4E3\",\"startlinecolor\":\"#2a3f5f\"},\"type\":\"carpet\"}],\"choropleth\":[{\"colorbar\":{\"outlinewidth\":0,\"ticks\":\"\"},\"type\":\"choropleth\"}],\"contourcarpet\":[{\"colorbar\":{\"outlinewidth\":0,\"ticks\":\"\"},\"type\":\"contourcarpet\"}],\"contour\":[{\"colorbar\":{\"outlinewidth\":0,\"ticks\":\"\"},\"colorscale\":[[0.0,\"#0d0887\"],[0.1111111111111111,\"#46039f\"],[0.2222222222222222,\"#7201a8\"],[0.3333333333333333,\"#9c179e\"],[0.4444444444444444,\"#bd3786\"],[0.5555555555555556,\"#d8576b\"],[0.6666666666666666,\"#ed7953\"],[0.7777777777777778,\"#fb9f3a\"],[0.8888888888888888,\"#fdca26\"],[1.0,\"#f0f921\"]],\"type\":\"contour\"}],\"heatmapgl\":[{\"colorbar\":{\"outlinewidth\":0,\"ticks\":\"\"},\"colorscale\":[[0.0,\"#0d0887\"],[0.1111111111111111,\"#46039f\"],[0.2222222222222222,\"#7201a8\"],[0.3333333333333333,\"#9c179e\"],[0.4444444444444444,\"#bd3786\"],[0.5555555555555556,\"#d8576b\"],[0.6666666666666666,\"#ed7953\"],[0.7777777777777778,\"#fb9f3a\"],[0.8888888888888888,\"#fdca26\"],[1.0,\"#f0f921\"]],\"type\":\"heatmapgl\"}],\"heatmap\":[{\"colorbar\":{\"outlinewidth\":0,\"ticks\":\"\"},\"colorscale\":[[0.0,\"#0d0887\"],[0.1111111111111111,\"#46039f\"],[0.2222222222222222,\"#7201a8\"],[0.3333333333333333,\"#9c179e\"],[0.4444444444444444,\"#bd3786\"],[0.5555555555555556,\"#d8576b\"],[0.6666666666666666,\"#ed7953\"],[0.7777777777777778,\"#fb9f3a\"],[0.8888888888888888,\"#fdca26\"],[1.0,\"#f0f921\"]],\"type\":\"heatmap\"}],\"histogram2dcontour\":[{\"colorbar\":{\"outlinewidth\":0,\"ticks\":\"\"},\"colorscale\":[[0.0,\"#0d0887\"],[0.1111111111111111,\"#46039f\"],[0.2222222222222222,\"#7201a8\"],[0.3333333333333333,\"#9c179e\"],[0.4444444444444444,\"#bd3786\"],[0.5555555555555556,\"#d8576b\"],[0.6666666666666666,\"#ed7953\"],[0.7777777777777778,\"#fb9f3a\"],[0.8888888888888888,\"#fdca26\"],[1.0,\"#f0f921\"]],\"type\":\"histogram2dcontour\"}],\"histogram2d\":[{\"colorbar\":{\"outlinewidth\":0,\"ticks\":\"\"},\"colorscale\":[[0.0,\"#0d0887\"],[0.1111111111111111,\"#46039f\"],[0.2222222222222222,\"#7201a8\"],[0.3333333333333333,\"#9c179e\"],[0.4444444444444444,\"#bd3786\"],[0.5555555555555556,\"#d8576b\"],[0.6666666666666666,\"#ed7953\"],[0.7777777777777778,\"#fb9f3a\"],[0.8888888888888888,\"#fdca26\"],[1.0,\"#f0f921\"]],\"type\":\"histogram2d\"}],\"histogram\":[{\"marker\":{\"pattern\":{\"fillmode\":\"overlay\",\"size\":10,\"solidity\":0.2}},\"type\":\"histogram\"}],\"mesh3d\":[{\"colorbar\":{\"outlinewidth\":0,\"ticks\":\"\"},\"type\":\"mesh3d\"}],\"parcoords\":[{\"line\":{\"colorbar\":{\"outlinewidth\":0,\"ticks\":\"\"}},\"type\":\"parcoords\"}],\"pie\":[{\"automargin\":true,\"type\":\"pie\"}],\"scatter3d\":[{\"line\":{\"colorbar\":{\"outlinewidth\":0,\"ticks\":\"\"}},\"marker\":{\"colorbar\":{\"outlinewidth\":0,\"ticks\":\"\"}},\"type\":\"scatter3d\"}],\"scattercarpet\":[{\"marker\":{\"colorbar\":{\"outlinewidth\":0,\"ticks\":\"\"}},\"type\":\"scattercarpet\"}],\"scattergeo\":[{\"marker\":{\"colorbar\":{\"outlinewidth\":0,\"ticks\":\"\"}},\"type\":\"scattergeo\"}],\"scattergl\":[{\"marker\":{\"colorbar\":{\"outlinewidth\":0,\"ticks\":\"\"}},\"type\":\"scattergl\"}],\"scattermapbox\":[{\"marker\":{\"colorbar\":{\"outlinewidth\":0,\"ticks\":\"\"}},\"type\":\"scattermapbox\"}],\"scatterpolargl\":[{\"marker\":{\"colorbar\":{\"outlinewidth\":0,\"ticks\":\"\"}},\"type\":\"scatterpolargl\"}],\"scatterpolar\":[{\"marker\":{\"colorbar\":{\"outlinewidth\":0,\"ticks\":\"\"}},\"type\":\"scatterpolar\"}],\"scatter\":[{\"fillpattern\":{\"fillmode\":\"overlay\",\"size\":10,\"solidity\":0.2},\"type\":\"scatter\"}],\"scatterternary\":[{\"marker\":{\"colorbar\":{\"outlinewidth\":0,\"ticks\":\"\"}},\"type\":\"scatterternary\"}],\"surface\":[{\"colorbar\":{\"outlinewidth\":0,\"ticks\":\"\"},\"colorscale\":[[0.0,\"#0d0887\"],[0.1111111111111111,\"#46039f\"],[0.2222222222222222,\"#7201a8\"],[0.3333333333333333,\"#9c179e\"],[0.4444444444444444,\"#bd3786\"],[0.5555555555555556,\"#d8576b\"],[0.6666666666666666,\"#ed7953\"],[0.7777777777777778,\"#fb9f3a\"],[0.8888888888888888,\"#fdca26\"],[1.0,\"#f0f921\"]],\"type\":\"surface\"}],\"table\":[{\"cells\":{\"fill\":{\"color\":\"#EBF0F8\"},\"line\":{\"color\":\"white\"}},\"header\":{\"fill\":{\"color\":\"#C8D4E3\"},\"line\":{\"color\":\"white\"}},\"type\":\"table\"}]},\"layout\":{\"annotationdefaults\":{\"arrowcolor\":\"#2a3f5f\",\"arrowhead\":0,\"arrowwidth\":1},\"autotypenumbers\":\"strict\",\"coloraxis\":{\"colorbar\":{\"outlinewidth\":0,\"ticks\":\"\"}},\"colorscale\":{\"diverging\":[[0,\"#8e0152\"],[0.1,\"#c51b7d\"],[0.2,\"#de77ae\"],[0.3,\"#f1b6da\"],[0.4,\"#fde0ef\"],[0.5,\"#f7f7f7\"],[0.6,\"#e6f5d0\"],[0.7,\"#b8e186\"],[0.8,\"#7fbc41\"],[0.9,\"#4d9221\"],[1,\"#276419\"]],\"sequential\":[[0.0,\"#0d0887\"],[0.1111111111111111,\"#46039f\"],[0.2222222222222222,\"#7201a8\"],[0.3333333333333333,\"#9c179e\"],[0.4444444444444444,\"#bd3786\"],[0.5555555555555556,\"#d8576b\"],[0.6666666666666666,\"#ed7953\"],[0.7777777777777778,\"#fb9f3a\"],[0.8888888888888888,\"#fdca26\"],[1.0,\"#f0f921\"]],\"sequentialminus\":[[0.0,\"#0d0887\"],[0.1111111111111111,\"#46039f\"],[0.2222222222222222,\"#7201a8\"],[0.3333333333333333,\"#9c179e\"],[0.4444444444444444,\"#bd3786\"],[0.5555555555555556,\"#d8576b\"],[0.6666666666666666,\"#ed7953\"],[0.7777777777777778,\"#fb9f3a\"],[0.8888888888888888,\"#fdca26\"],[1.0,\"#f0f921\"]]},\"colorway\":[\"#636efa\",\"#EF553B\",\"#00cc96\",\"#ab63fa\",\"#FFA15A\",\"#19d3f3\",\"#FF6692\",\"#B6E880\",\"#FF97FF\",\"#FECB52\"],\"font\":{\"color\":\"#2a3f5f\"},\"geo\":{\"bgcolor\":\"white\",\"lakecolor\":\"white\",\"landcolor\":\"white\",\"showlakes\":true,\"showland\":true,\"subunitcolor\":\"#C8D4E3\"},\"hoverlabel\":{\"align\":\"left\"},\"hovermode\":\"closest\",\"mapbox\":{\"style\":\"light\"},\"paper_bgcolor\":\"white\",\"plot_bgcolor\":\"white\",\"polar\":{\"angularaxis\":{\"gridcolor\":\"#EBF0F8\",\"linecolor\":\"#EBF0F8\",\"ticks\":\"\"},\"bgcolor\":\"white\",\"radialaxis\":{\"gridcolor\":\"#EBF0F8\",\"linecolor\":\"#EBF0F8\",\"ticks\":\"\"}},\"scene\":{\"xaxis\":{\"backgroundcolor\":\"white\",\"gridcolor\":\"#DFE8F3\",\"gridwidth\":2,\"linecolor\":\"#EBF0F8\",\"showbackground\":true,\"ticks\":\"\",\"zerolinecolor\":\"#EBF0F8\"},\"yaxis\":{\"backgroundcolor\":\"white\",\"gridcolor\":\"#DFE8F3\",\"gridwidth\":2,\"linecolor\":\"#EBF0F8\",\"showbackground\":true,\"ticks\":\"\",\"zerolinecolor\":\"#EBF0F8\"},\"zaxis\":{\"backgroundcolor\":\"white\",\"gridcolor\":\"#DFE8F3\",\"gridwidth\":2,\"linecolor\":\"#EBF0F8\",\"showbackground\":true,\"ticks\":\"\",\"zerolinecolor\":\"#EBF0F8\"}},\"shapedefaults\":{\"line\":{\"color\":\"#2a3f5f\"}},\"ternary\":{\"aaxis\":{\"gridcolor\":\"#DFE8F3\",\"linecolor\":\"#A2B1C6\",\"ticks\":\"\"},\"baxis\":{\"gridcolor\":\"#DFE8F3\",\"linecolor\":\"#A2B1C6\",\"ticks\":\"\"},\"bgcolor\":\"white\",\"caxis\":{\"gridcolor\":\"#DFE8F3\",\"linecolor\":\"#A2B1C6\",\"ticks\":\"\"}},\"title\":{\"x\":0.05},\"xaxis\":{\"automargin\":true,\"gridcolor\":\"#EBF0F8\",\"linecolor\":\"#EBF0F8\",\"ticks\":\"\",\"title\":{\"standoff\":15},\"zerolinecolor\":\"#EBF0F8\",\"zerolinewidth\":2},\"yaxis\":{\"automargin\":true,\"gridcolor\":\"#EBF0F8\",\"linecolor\":\"#EBF0F8\",\"ticks\":\"\",\"title\":{\"standoff\":15},\"zerolinecolor\":\"#EBF0F8\",\"zerolinewidth\":2}}},\"title\":{\"font\":{\"size\":22,\"color\":\"Black\"},\"text\":\"<b>Hierarchical Clustering\",\"x\":0.5,\"xanchor\":\"center\",\"yanchor\":\"top\"},\"hoverlabel\":{\"font\":{\"size\":16,\"family\":\"Rockwell\"},\"bgcolor\":\"white\"},\"plot_bgcolor\":\"#ECEFF1\"},                        {\"responsive\": true}                    ).then(function(){\n",
       "                            \n",
       "var gd = document.getElementById('31f3686c-2cf6-464d-b3f0-2175ecfb6861');\n",
       "var x = new MutationObserver(function (mutations, observer) {{\n",
       "        var display = window.getComputedStyle(gd).display;\n",
       "        if (!display || display === 'none') {{\n",
       "            console.log([gd, 'removed!']);\n",
       "            Plotly.purge(gd);\n",
       "            observer.disconnect();\n",
       "        }}\n",
       "}});\n",
       "\n",
       "// Listen for the removal of the full notebook cells\n",
       "var notebookContainer = gd.closest('#notebook-container');\n",
       "if (notebookContainer) {{\n",
       "    x.observe(notebookContainer, {childList: true});\n",
       "}}\n",
       "\n",
       "// Listen for the clearing of the current output cell\n",
       "var outputEl = gd.closest('.output');\n",
       "if (outputEl) {{\n",
       "    x.observe(outputEl, {childList: true});\n",
       "}}\n",
       "\n",
       "                        })                };                });            </script>        </div>"
      ]
     },
     "metadata": {},
     "output_type": "display_data"
    }
   ],
   "source": [
    "optimal_model.visualize_hierarchy(top_n_topics=921)"
   ]
  },
  {
   "cell_type": "code",
   "execution_count": 46,
   "id": "b1111487",
   "metadata": {
    "scrolled": true
   },
   "outputs": [
    {
     "data": {
      "text/plain": [
       "[('bicyclist', 0.11160329571588962),\n",
       " ('bicycle', 0.09509836350731111),\n",
       " ('scooter', 0.08393866022059748),\n",
       " ('vehicle', 0.0745058810821003),\n",
       " ('car', 0.07317273736506064),\n",
       " ('ride', 0.0682136354345397),\n",
       " ('strike', 0.06397527772036082),\n",
       " ('hit', 0.062364145645772036),\n",
       " ('driver', 0.0580303330235805),\n",
       " ('hospital', 0.05282800641070144)]"
      ]
     },
     "execution_count": 46,
     "metadata": {},
     "output_type": "execute_result"
    }
   ],
   "source": [
    "optimal_model.get_topic(0)"
   ]
  },
  {
   "cell_type": "markdown",
   "id": "af3ca62a",
   "metadata": {},
   "source": [
    "#### Topic keywords representation in each year"
   ]
  },
  {
   "cell_type": "code",
   "execution_count": 47,
   "id": "4d910eaa",
   "metadata": {
    "scrolled": true
   },
   "outputs": [
    {
     "data": {
      "text/plain": [
       "1         bicycle, bicyclist, ride, car, scooter\n",
       "44        bicycle, bicyclist, scooter, car, ride\n",
       "87        bicyclist, scooter, bicycle, car, ride\n",
       "130    bicyclist, scooter, bicycle, car, vehicle\n",
       "173    bicyclist, bicycle, scooter, car, vehicle\n",
       "216    bicyclist, bicycle, vehicle, scooter, car\n",
       "259    bicyclist, bicycle, vehicle, strike, ride\n",
       "Name: Words, dtype: object"
      ]
     },
     "execution_count": 47,
     "metadata": {},
     "output_type": "execute_result"
    }
   ],
   "source": [
    "topics_over_time[topics_over_time[\"Topic\"]\n",
    "                 ==0].sort_values(\"Timestamp\")[\"Words\"]"
   ]
  },
  {
   "cell_type": "code",
   "execution_count": null,
   "id": "1c2c6d48",
   "metadata": {},
   "outputs": [],
   "source": [
    "hang, autopsy, asphyxia, bag, suffocation\n",
    "hang, autopsy, bag, suffocation, decedent\n",
    "hang, autopsy, bag, suffocation, decedent\n",
    "hang, autopsy, asphyxiation, bag, suffocation\n",
    "hang, autopsy, bag, suffocation, decedent\n",
    "hang, autopsy, suffocation, bag, decedent\n",
    "hang, autopsy, suffocation, asphyxiation, bag\n",
    "hang, autopsy, bag, suffocation, asphyxiation"
   ]
  },
  {
   "cell_type": "markdown",
   "id": "8e9b63f2",
   "metadata": {},
   "source": [
    "#### Topic text representation"
   ]
  },
  {
   "cell_type": "code",
   "execution_count": 180,
   "id": "eac4e286",
   "metadata": {},
   "outputs": [
    {
     "data": {
      "text/plain": [
       "['decedent fall death head fall autopsy',\n",
       " 'decedent fall home atherosclerosis autopsy',\n",
       " 'decedent fall home fall autopsy',\n",
       " 'decedent fall home fall autopsy',\n",
       " 'decedent die home autopsy']"
      ]
     },
     "execution_count": 180,
     "metadata": {},
     "output_type": "execute_result"
    }
   ],
   "source": [
    "optimal_model.get_representative_docs(27)[5:10]"
   ]
  },
  {
   "cell_type": "code",
   "execution_count": 89,
   "id": "d8c49bee",
   "metadata": {},
   "outputs": [
    {
     "data": {
      "text/plain": [
       "'helmet sell online as_well rate world govern body ski racing fis rating competitive skiing globally experienced user various helmet wear life ski racer rider high performance jet pilot helmet secure head chin_strap helmet adjust correct tension loose ski mean helmet secure event mishap purpose helmet protect head mishap stop partially ski_slope adjust correct tension flaw manufacturer responsive claim understand photo purchaser helmet risk helmet wear life helmet ever flaw fit purpose'"
      ]
     },
     "execution_count": 89,
     "metadata": {},
     "output_type": "execute_result"
    }
   ],
   "source": [
    "DATA[1]"
   ]
  },
  {
   "cell_type": "code",
   "execution_count": 88,
   "id": "7e77a484",
   "metadata": {},
   "outputs": [
    {
     "data": {
      "text/plain": [
       "[('rash', 0.10707764951728915),\n",
       " ('diaper', 0.07858551116997073),\n",
       " ('wrist', 0.06803132845897562),\n",
       " ('wear', 0.05399213761513745),\n",
       " ('fitbit', 0.05384745455990853),\n",
       " ('skin', 0.04684099027340772),\n",
       " ('blister', 0.034591028374350664),\n",
       " ('red', 0.03267534381430852),\n",
       " ('watch', 0.03164159266914075),\n",
       " ('band', 0.03144369176862893)]"
      ]
     },
     "execution_count": 88,
     "metadata": {},
     "output_type": "execute_result"
    }
   ],
   "source": [
    "optimal_model.get_topic(31)"
   ]
  },
  {
   "cell_type": "code",
   "execution_count": 124,
   "id": "2094d81f",
   "metadata": {},
   "outputs": [
    {
     "data": {
      "text/plain": [
       "([5, 7, 41, -1, 8],\n",
       " [0.48995840336298657,\n",
       "  0.478192910869601,\n",
       "  0.47406028980648485,\n",
       "  0.46145445874438545,\n",
       "  0.4528950413392855])"
      ]
     },
     "execution_count": 124,
     "metadata": {},
     "output_type": "execute_result"
    }
   ],
   "source": [
    "optimal_model.find_topics('personal injury')"
   ]
  },
  {
   "cell_type": "code",
   "execution_count": 188,
   "id": "944a9a2d",
   "metadata": {},
   "outputs": [
    {
     "data": {
      "text/plain": [
       "'a 73 yof decedent died in a sauna undetermined natural causes in a hot environment autopsy unknown'"
      ]
     },
     "execution_count": 188,
     "metadata": {},
     "output_type": "execute_result"
    }
   ],
   "source": [
    "df[df[\"Topic_number\"]==27][\"Description\"][78714]"
   ]
  },
  {
   "cell_type": "markdown",
   "id": "0ea50afc",
   "metadata": {},
   "source": [
    "## Save Model (DON'T RUN)"
   ]
  },
  {
   "cell_type": "code",
   "execution_count": 247,
   "id": "ecfdb0b0",
   "metadata": {},
   "outputs": [],
   "source": [
    "df[\"Topic_number\"]=\"NA\"\n",
    "for i in range(78976,len(df[\"Topic_number\"])):\n",
    "    df[\"Topic_number\"][i] = optimal_model.find_topics(DATA[i]) [0] [0]\n",
    "    "
   ]
  },
  {
   "cell_type": "code",
   "execution_count": 248,
   "id": "a9f96259",
   "metadata": {},
   "outputs": [],
   "source": [
    "df.to_excel(\"USCA_final.xlsx\", header = True, index = False)"
   ]
  },
  {
   "cell_type": "markdown",
   "id": "619eeaa6",
   "metadata": {},
   "source": [
    "#### Save Model"
   ]
  },
  {
   "cell_type": "code",
   "execution_count": 234,
   "id": "de8b57f9",
   "metadata": {
    "scrolled": false
   },
   "outputs": [
    {
     "name": "stderr",
     "output_type": "stream",
     "text": [
      "/Users/hanjunwei/Desktop/UL/ul_env/lib/python3.9/site-packages/scipy/sparse/_index.py:146: SparseEfficiencyWarning:\n",
      "\n",
      "Changing the sparsity structure of a csr_matrix is expensive. lil_matrix is more efficient.\n",
      "\n"
     ]
    }
   ],
   "source": [
    "# optimal_model.save(\"BERTmodel\")"
   ]
  }
 ],
 "metadata": {
  "kernelspec": {
   "display_name": "ul_env",
   "language": "python",
   "name": "ul_env"
  },
  "language_info": {
   "codemirror_mode": {
    "name": "ipython",
    "version": 3
   },
   "file_extension": ".py",
   "mimetype": "text/x-python",
   "name": "python",
   "nbconvert_exporter": "python",
   "pygments_lexer": "ipython3",
   "version": "3.9.7"
  }
 },
 "nbformat": 4,
 "nbformat_minor": 5
}
