{
 "cells": [
  {
   "cell_type": "markdown",
   "id": "bbab3d37",
   "metadata": {},
   "source": [
    "## Import \n",
    "#### 1. Import Package"
   ]
  },
  {
   "cell_type": "code",
   "execution_count": 1,
   "id": "4a30578c",
   "metadata": {},
   "outputs": [],
   "source": [
    "# Import package\n",
    "import pandas as pd\n",
    "import numpy as np\n",
    "import bitermplus as btm\n",
    "import gensim\n",
    "import tmplot as tmp\n",
    "import matplotlib.pyplot as plt\n",
    "from octis.evaluation_metrics.coherence_metrics import Coherence\n",
    "from octis.evaluation_metrics.diversity_metrics import TopicDiversity"
   ]
  },
  {
   "cell_type": "markdown",
   "id": "d6f4d441",
   "metadata": {},
   "source": [
    "#### 2. Import Data"
   ]
  },
  {
   "cell_type": "code",
   "execution_count": 48,
   "id": "c844ca59",
   "metadata": {
    "scrolled": true
   },
   "outputs": [
    {
     "name": "stderr",
     "output_type": "stream",
     "text": [
      "<ipython-input-48-dbfb7307245f>:1: DtypeWarning: Columns (6,7,8,9,10,11,12,13,14,15,16,17,18,19,20,21,22,23,24,25,26,27,28,29,30,31,32,33,52) have mixed types. Specify dtype option on import or set low_memory=False.\n",
      "  df = pd.read_csv ('../Data/USCA.csv')\n"
     ]
    }
   ],
   "source": [
    "df = pd.read_csv ('../../../Data/Year_and_Text/USCA.csv')\n",
    "def sent_to_words(sentences):\n",
    "    for sentence in sentences:\n",
    "        # deacc=True removes punctuations\n",
    "        yield(gensim.utils.simple_preprocess(str(sentence), deacc=True))\n",
    "# convert\n",
    "clean_data = list(sent_to_words(df[\"clean_text\"]))\n",
    "listOfText = []\n",
    "CORPUS = []\n",
    "for i in range(len(clean_data)):\n",
    "    listOfText.append(\" \".join(clean_data[i]))\n",
    "for i in range(len(clean_data)):\n",
    "    CORPUS.append(clean_data[i])"
   ]
  },
  {
   "cell_type": "markdown",
   "id": "95102ff9",
   "metadata": {},
   "source": [
    "## Topic modeling with Biterm\n",
    "---\n",
    "\n",
    "#### 1. Text Peparation"
   ]
  },
  {
   "cell_type": "code",
   "execution_count": 4,
   "id": "585ce2d2",
   "metadata": {
    "scrolled": true
   },
   "outputs": [],
   "source": [
    "texts = listOfText\n",
    "\n",
    "# PREPROCESSING\n",
    "# Obtaining terms frequency in a sparse matrix and corpus vocabulary\n",
    "X, vocabulary, vocab_dict = btm.get_words_freqs(texts)\n",
    "tf = np.array(X.sum(axis=0)).ravel()\n",
    "\n",
    "# Vectorizing documents\n",
    "docs_vec = btm.get_vectorized_docs(texts, vocabulary)\n",
    "docs_lens = list(map(len, docs_vec))\n",
    "\n",
    "# Generating biterms\n",
    "biterms = btm.get_biterms(docs_vec)"
   ]
  },
  {
   "cell_type": "markdown",
   "id": "e38935c7",
   "metadata": {},
   "source": [
    "#### 2. Optimal Number of Topics"
   ]
  },
  {
   "cell_type": "code",
   "execution_count": 123,
   "id": "8c918e61",
   "metadata": {},
   "outputs": [],
   "source": [
    "## Metrics Function\n",
    "def evaluation(N_topics, X, vocabulary, CORPUS, TOPK, Detail = True, cohe_type = \"c_npmi\"):\n",
    "    model = btm.BTM(X, vocabulary, T=N_topics, M=TOPK, alpha=1, beta=0.01)\n",
    "    model.fit(biterms, iterations=100)\n",
    "    # output_tm\n",
    "    topic_list = btm.get_top_topic_words(model)\n",
    "    biterm_topics = []\n",
    "    for i in topic_list.columns:\n",
    "        biterm_topics.append(list(topic_list[i][:TOPK]))\n",
    "    output_tm = {\"topics\": biterm_topics}\n",
    "    output_tm\n",
    "    \"\"\"Prepare evaluation measures using OCTIS\"\"\"\n",
    "    \n",
    "    # Metrics\n",
    "    cohe_score = Coherence(texts=CORPUS, topk=TOPK, measure= cohe_type)\n",
    "    topic_diversity = TopicDiversity(topk= TOPK)\n",
    "\n",
    "    # Define methods\n",
    "    coherence = [(cohe_score, \"coherance\")]\n",
    "    diversity = [(topic_diversity, \"diversity\")]\n",
    "    metrics = [(coherence, \"Coherence\"), (diversity, \"Diversity\")]\n",
    "\n",
    "    ## Output Metrics\n",
    "    results = {}\n",
    "    for scorers, _ in metrics:\n",
    "        for scorer, name in scorers:\n",
    "            score = scorer.score(output_tm)\n",
    "            results[name] = float(score)\n",
    "    \n",
    "    # Print results\n",
    "    if Detail:\n",
    "        print(\"Results\")\n",
    "        print(\"===============\")\n",
    "        print(\"Topic number: \"+str(N_topics))\n",
    "        for metric, score in results.items():\n",
    "            print(f\"{metric}: {str(score)}\")\n",
    "        print(\" \")\n",
    "    return results"
   ]
  },
  {
   "cell_type": "markdown",
   "id": "cc9dcf1e",
   "metadata": {},
   "source": [
    "#### 3. Run to see the result\n",
    "topic number between 20 to 50"
   ]
  },
  {
   "cell_type": "code",
   "execution_count": 66,
   "id": "be60dc51",
   "metadata": {
    "collapsed": true
   },
   "outputs": [
    {
     "name": "stderr",
     "output_type": "stream",
     "text": [
      "100%|██████████| 100/100 [09:18<00:00,  5.59s/it]\n"
     ]
    },
    {
     "name": "stdout",
     "output_type": "stream",
     "text": [
      "Results\n",
      "===============\n",
      "Topic number: 20\n",
      "npmi: 0.12357692629520764\n",
      "diversity: 0.625\n",
      " \n"
     ]
    },
    {
     "name": "stderr",
     "output_type": "stream",
     "text": [
      "100%|██████████| 100/100 [09:22<00:00,  5.63s/it]\n"
     ]
    },
    {
     "name": "stdout",
     "output_type": "stream",
     "text": [
      "Results\n",
      "===============\n",
      "Topic number: 20\n",
      "npmi: 0.12431095117902477\n",
      "diversity: 0.63\n",
      " \n"
     ]
    },
    {
     "name": "stderr",
     "output_type": "stream",
     "text": [
      "100%|██████████| 100/100 [09:15<00:00,  5.55s/it]\n"
     ]
    },
    {
     "name": "stdout",
     "output_type": "stream",
     "text": [
      "Results\n",
      "===============\n",
      "Topic number: 20\n",
      "npmi: 0.11302194336651232\n",
      "diversity: 0.59\n",
      " \n"
     ]
    },
    {
     "name": "stderr",
     "output_type": "stream",
     "text": [
      "100%|██████████| 100/100 [09:28<00:00,  5.69s/it]\n"
     ]
    },
    {
     "name": "stdout",
     "output_type": "stream",
     "text": [
      "Results\n",
      "===============\n",
      "Topic number: 22\n",
      "npmi: 0.11623426884811684\n",
      "diversity: 0.5909090909090909\n",
      " \n"
     ]
    },
    {
     "name": "stderr",
     "output_type": "stream",
     "text": [
      "100%|██████████| 100/100 [12:07<00:00,  7.27s/it]\n"
     ]
    },
    {
     "name": "stdout",
     "output_type": "stream",
     "text": [
      "Results\n",
      "===============\n",
      "Topic number: 22\n",
      "npmi: 0.11492814175448479\n",
      "diversity: 0.5727272727272728\n",
      " \n"
     ]
    },
    {
     "name": "stderr",
     "output_type": "stream",
     "text": [
      "100%|██████████| 100/100 [09:30<00:00,  5.71s/it]\n"
     ]
    },
    {
     "name": "stdout",
     "output_type": "stream",
     "text": [
      "Results\n",
      "===============\n",
      "Topic number: 22\n",
      "npmi: 0.1204750934339086\n",
      "diversity: 0.6227272727272727\n",
      " \n"
     ]
    },
    {
     "name": "stderr",
     "output_type": "stream",
     "text": [
      "100%|██████████| 100/100 [10:13<00:00,  6.14s/it]\n"
     ]
    },
    {
     "name": "stdout",
     "output_type": "stream",
     "text": [
      "Results\n",
      "===============\n",
      "Topic number: 24\n",
      "npmi: 0.1229600075508316\n",
      "diversity: 0.6208333333333333\n",
      " \n"
     ]
    },
    {
     "name": "stderr",
     "output_type": "stream",
     "text": [
      "100%|██████████| 100/100 [10:04<00:00,  6.05s/it]\n"
     ]
    },
    {
     "name": "stdout",
     "output_type": "stream",
     "text": [
      "Results\n",
      "===============\n",
      "Topic number: 24\n",
      "npmi: 0.12110340431382764\n",
      "diversity: 0.5708333333333333\n",
      " \n"
     ]
    },
    {
     "name": "stderr",
     "output_type": "stream",
     "text": [
      "100%|██████████| 100/100 [10:08<00:00,  6.09s/it]\n"
     ]
    },
    {
     "name": "stdout",
     "output_type": "stream",
     "text": [
      "Results\n",
      "===============\n",
      "Topic number: 24\n",
      "npmi: 0.116629144500167\n",
      "diversity: 0.5958333333333333\n",
      " \n"
     ]
    },
    {
     "name": "stderr",
     "output_type": "stream",
     "text": [
      "100%|██████████| 100/100 [11:03<00:00,  6.63s/it]\n"
     ]
    },
    {
     "name": "stdout",
     "output_type": "stream",
     "text": [
      "Results\n",
      "===============\n",
      "Topic number: 26\n",
      "npmi: 0.11821656574653816\n",
      "diversity: 0.5884615384615385\n",
      " \n"
     ]
    },
    {
     "name": "stderr",
     "output_type": "stream",
     "text": [
      "100%|██████████| 100/100 [13:00<00:00,  7.80s/it]\n"
     ]
    },
    {
     "name": "stdout",
     "output_type": "stream",
     "text": [
      "Results\n",
      "===============\n",
      "Topic number: 26\n",
      "npmi: 0.12139080310945821\n",
      "diversity: 0.6\n",
      " \n"
     ]
    },
    {
     "name": "stderr",
     "output_type": "stream",
     "text": [
      "100%|██████████| 100/100 [10:53<00:00,  6.54s/it]\n"
     ]
    },
    {
     "name": "stdout",
     "output_type": "stream",
     "text": [
      "Results\n",
      "===============\n",
      "Topic number: 26\n",
      "npmi: 0.10728438983969342\n",
      "diversity: 0.5653846153846154\n",
      " \n"
     ]
    },
    {
     "name": "stderr",
     "output_type": "stream",
     "text": [
      "100%|██████████| 100/100 [11:41<00:00,  7.01s/it]\n"
     ]
    },
    {
     "name": "stdout",
     "output_type": "stream",
     "text": [
      "Results\n",
      "===============\n",
      "Topic number: 28\n",
      "npmi: 0.11808254283711482\n",
      "diversity: 0.5714285714285714\n",
      " \n"
     ]
    },
    {
     "name": "stderr",
     "output_type": "stream",
     "text": [
      "100%|██████████| 100/100 [11:38<00:00,  6.98s/it]\n"
     ]
    },
    {
     "name": "stdout",
     "output_type": "stream",
     "text": [
      "Results\n",
      "===============\n",
      "Topic number: 28\n",
      "npmi: 0.12099909245103554\n",
      "diversity: 0.6035714285714285\n",
      " \n"
     ]
    },
    {
     "name": "stderr",
     "output_type": "stream",
     "text": [
      "100%|██████████| 100/100 [14:32<00:00,  8.73s/it]\n"
     ]
    },
    {
     "name": "stdout",
     "output_type": "stream",
     "text": [
      "Results\n",
      "===============\n",
      "Topic number: 28\n",
      "npmi: 0.1211523915010299\n",
      "diversity: 0.575\n",
      " \n"
     ]
    },
    {
     "name": "stderr",
     "output_type": "stream",
     "text": [
      "100%|██████████| 100/100 [12:48<00:00,  7.68s/it]\n"
     ]
    },
    {
     "name": "stdout",
     "output_type": "stream",
     "text": [
      "Results\n",
      "===============\n",
      "Topic number: 30\n",
      "npmi: 0.11967416768230142\n",
      "diversity: 0.56\n",
      " \n"
     ]
    },
    {
     "name": "stderr",
     "output_type": "stream",
     "text": [
      "100%|██████████| 100/100 [12:29<00:00,  7.50s/it]\n"
     ]
    },
    {
     "name": "stdout",
     "output_type": "stream",
     "text": [
      "Results\n",
      "===============\n",
      "Topic number: 30\n",
      "npmi: 0.1200331455017903\n",
      "diversity: 0.56\n",
      " \n"
     ]
    },
    {
     "name": "stderr",
     "output_type": "stream",
     "text": [
      "100%|██████████| 100/100 [12:51<00:00,  7.71s/it]\n"
     ]
    },
    {
     "name": "stdout",
     "output_type": "stream",
     "text": [
      "Results\n",
      "===============\n",
      "Topic number: 30\n",
      "npmi: 0.11691790563701968\n",
      "diversity: 0.5566666666666666\n",
      " \n"
     ]
    },
    {
     "name": "stderr",
     "output_type": "stream",
     "text": [
      "100%|██████████| 100/100 [13:36<00:00,  8.17s/it]\n"
     ]
    },
    {
     "name": "stdout",
     "output_type": "stream",
     "text": [
      "Results\n",
      "===============\n",
      "Topic number: 32\n",
      "npmi: 0.12351723646827008\n",
      "diversity: 0.575\n",
      " \n"
     ]
    },
    {
     "name": "stderr",
     "output_type": "stream",
     "text": [
      "100%|██████████| 100/100 [16:36<00:00,  9.96s/it]\n"
     ]
    },
    {
     "name": "stdout",
     "output_type": "stream",
     "text": [
      "Results\n",
      "===============\n",
      "Topic number: 32\n",
      "npmi: 0.1316239774801139\n",
      "diversity: 0.575\n",
      " \n"
     ]
    },
    {
     "name": "stderr",
     "output_type": "stream",
     "text": [
      "100%|██████████| 100/100 [13:30<00:00,  8.10s/it]\n"
     ]
    },
    {
     "name": "stdout",
     "output_type": "stream",
     "text": [
      "Results\n",
      "===============\n",
      "Topic number: 32\n",
      "npmi: 0.11953635571488648\n",
      "diversity: 0.5375\n",
      " \n"
     ]
    },
    {
     "name": "stderr",
     "output_type": "stream",
     "text": [
      "100%|██████████| 100/100 [14:10<00:00,  8.50s/it]\n"
     ]
    },
    {
     "name": "stdout",
     "output_type": "stream",
     "text": [
      "Results\n",
      "===============\n",
      "Topic number: 34\n",
      "npmi: 0.12464341160139358\n",
      "diversity: 0.55\n",
      " \n"
     ]
    },
    {
     "name": "stderr",
     "output_type": "stream",
     "text": [
      "100%|██████████| 100/100 [14:09<00:00,  8.50s/it]\n"
     ]
    },
    {
     "name": "stdout",
     "output_type": "stream",
     "text": [
      "Results\n",
      "===============\n",
      "Topic number: 34\n",
      "npmi: 0.12609181847992207\n",
      "diversity: 0.5441176470588235\n",
      " \n"
     ]
    },
    {
     "name": "stderr",
     "output_type": "stream",
     "text": [
      "100%|██████████| 100/100 [16:04<00:00,  9.65s/it]\n"
     ]
    },
    {
     "name": "stdout",
     "output_type": "stream",
     "text": [
      "Results\n",
      "===============\n",
      "Topic number: 34\n",
      "npmi: 0.12327410556889745\n",
      "diversity: 0.5558823529411765\n",
      " \n"
     ]
    },
    {
     "name": "stderr",
     "output_type": "stream",
     "text": [
      "100%|██████████| 100/100 [11:32<00:00,  6.92s/it]\n"
     ]
    },
    {
     "name": "stdout",
     "output_type": "stream",
     "text": [
      "Results\n",
      "===============\n",
      "Topic number: 36\n",
      "npmi: 0.11475535626225196\n",
      "diversity: 0.5277777777777778\n",
      " \n"
     ]
    },
    {
     "name": "stderr",
     "output_type": "stream",
     "text": [
      "100%|██████████| 100/100 [11:39<00:00,  7.00s/it]\n"
     ]
    },
    {
     "name": "stdout",
     "output_type": "stream",
     "text": [
      "Results\n",
      "===============\n",
      "Topic number: 36\n",
      "npmi: 0.12628182942324592\n",
      "diversity: 0.5444444444444444\n",
      " \n"
     ]
    },
    {
     "name": "stderr",
     "output_type": "stream",
     "text": [
      "100%|██████████| 100/100 [11:25<00:00,  6.85s/it]\n"
     ]
    },
    {
     "name": "stdout",
     "output_type": "stream",
     "text": [
      "Results\n",
      "===============\n",
      "Topic number: 36\n",
      "npmi: 0.12610642097180777\n",
      "diversity: 0.5361111111111111\n",
      " \n"
     ]
    },
    {
     "name": "stderr",
     "output_type": "stream",
     "text": [
      "100%|██████████| 100/100 [15:00<00:00,  9.01s/it]\n"
     ]
    },
    {
     "name": "stdout",
     "output_type": "stream",
     "text": [
      "Results\n",
      "===============\n",
      "Topic number: 38\n",
      "npmi: 0.1275912863154432\n",
      "diversity: 0.5052631578947369\n",
      " \n"
     ]
    },
    {
     "name": "stderr",
     "output_type": "stream",
     "text": [
      "100%|██████████| 100/100 [11:58<00:00,  7.18s/it]\n"
     ]
    },
    {
     "name": "stdout",
     "output_type": "stream",
     "text": [
      "Results\n",
      "===============\n",
      "Topic number: 38\n",
      "npmi: 0.12182351475310471\n",
      "diversity: 0.5263157894736842\n",
      " \n"
     ]
    },
    {
     "name": "stderr",
     "output_type": "stream",
     "text": [
      "100%|██████████| 100/100 [12:04<00:00,  7.25s/it]\n"
     ]
    },
    {
     "name": "stdout",
     "output_type": "stream",
     "text": [
      "Results\n",
      "===============\n",
      "Topic number: 38\n",
      "npmi: 0.12569931737946363\n",
      "diversity: 0.55\n",
      " \n"
     ]
    },
    {
     "name": "stderr",
     "output_type": "stream",
     "text": [
      "100%|██████████| 100/100 [12:38<00:00,  7.59s/it]\n"
     ]
    },
    {
     "name": "stdout",
     "output_type": "stream",
     "text": [
      "Results\n",
      "===============\n",
      "Topic number: 40\n",
      "npmi: 0.11842889790437158\n",
      "diversity: 0.5225\n",
      " \n"
     ]
    },
    {
     "name": "stderr",
     "output_type": "stream",
     "text": [
      "100%|██████████| 100/100 [15:21<00:00,  9.22s/it]\n"
     ]
    },
    {
     "name": "stdout",
     "output_type": "stream",
     "text": [
      "Results\n",
      "===============\n",
      "Topic number: 40\n",
      "npmi: 0.12337028901015254\n",
      "diversity: 0.5375\n",
      " \n"
     ]
    },
    {
     "name": "stderr",
     "output_type": "stream",
     "text": [
      "100%|██████████| 100/100 [12:30<00:00,  7.51s/it]\n"
     ]
    },
    {
     "name": "stdout",
     "output_type": "stream",
     "text": [
      "Results\n",
      "===============\n",
      "Topic number: 40\n",
      "npmi: 0.12622390734149982\n",
      "diversity: 0.53\n",
      " \n"
     ]
    },
    {
     "name": "stderr",
     "output_type": "stream",
     "text": [
      "100%|██████████| 100/100 [13:05<00:00,  7.85s/it]\n"
     ]
    },
    {
     "name": "stdout",
     "output_type": "stream",
     "text": [
      "Results\n",
      "===============\n",
      "Topic number: 42\n",
      "npmi: 0.12204633643285227\n",
      "diversity: 0.5166666666666667\n",
      " \n"
     ]
    },
    {
     "name": "stderr",
     "output_type": "stream",
     "text": [
      "100%|██████████| 100/100 [16:02<00:00,  9.62s/it]\n"
     ]
    },
    {
     "name": "stdout",
     "output_type": "stream",
     "text": [
      "Results\n",
      "===============\n",
      "Topic number: 42\n",
      "npmi: 0.1178136022490299\n",
      "diversity: 0.5119047619047619\n",
      " \n"
     ]
    },
    {
     "name": "stderr",
     "output_type": "stream",
     "text": [
      "100%|██████████| 100/100 [13:05<00:00,  7.86s/it]\n"
     ]
    },
    {
     "name": "stdout",
     "output_type": "stream",
     "text": [
      "Results\n",
      "===============\n",
      "Topic number: 42\n",
      "npmi: 0.11665735914424172\n",
      "diversity: 0.49523809523809526\n",
      " \n"
     ]
    },
    {
     "name": "stderr",
     "output_type": "stream",
     "text": [
      "100%|██████████| 100/100 [13:42<00:00,  8.22s/it]\n"
     ]
    },
    {
     "name": "stdout",
     "output_type": "stream",
     "text": [
      "Results\n",
      "===============\n",
      "Topic number: 44\n",
      "npmi: 0.12401023083970118\n",
      "diversity: 0.5159090909090909\n",
      " \n"
     ]
    },
    {
     "name": "stderr",
     "output_type": "stream",
     "text": [
      "100%|██████████| 100/100 [13:42<00:00,  8.22s/it]\n"
     ]
    },
    {
     "name": "stdout",
     "output_type": "stream",
     "text": [
      "Results\n",
      "===============\n",
      "Topic number: 44\n",
      "npmi: 0.12339277439328936\n",
      "diversity: 0.5068181818181818\n",
      " \n"
     ]
    },
    {
     "name": "stderr",
     "output_type": "stream",
     "text": [
      "100%|██████████| 100/100 [16:34<00:00,  9.94s/it]\n"
     ]
    },
    {
     "name": "stdout",
     "output_type": "stream",
     "text": [
      "Results\n",
      "===============\n",
      "Topic number: 44\n",
      "npmi: 0.1279663762810986\n",
      "diversity: 0.5295454545454545\n",
      " \n"
     ]
    },
    {
     "name": "stderr",
     "output_type": "stream",
     "text": [
      "100%|██████████| 100/100 [14:24<00:00,  8.64s/it]\n"
     ]
    },
    {
     "name": "stdout",
     "output_type": "stream",
     "text": [
      "Results\n",
      "===============\n",
      "Topic number: 46\n",
      "npmi: 0.1309230471475431\n",
      "diversity: 0.5043478260869565\n",
      " \n"
     ]
    },
    {
     "name": "stderr",
     "output_type": "stream",
     "text": [
      "100%|██████████| 100/100 [14:17<00:00,  8.58s/it]\n"
     ]
    },
    {
     "name": "stdout",
     "output_type": "stream",
     "text": [
      "Results\n",
      "===============\n",
      "Topic number: 46\n",
      "npmi: 0.12238802497364439\n",
      "diversity: 0.48695652173913045\n",
      " \n"
     ]
    },
    {
     "name": "stderr",
     "output_type": "stream",
     "text": [
      "100%|██████████| 100/100 [17:09<00:00, 10.30s/it]\n"
     ]
    },
    {
     "name": "stdout",
     "output_type": "stream",
     "text": [
      "Results\n",
      "===============\n",
      "Topic number: 46\n",
      "npmi: 0.12348841154854813\n",
      "diversity: 0.4956521739130435\n",
      " \n"
     ]
    },
    {
     "name": "stderr",
     "output_type": "stream",
     "text": [
      "100%|██████████| 100/100 [14:56<00:00,  8.97s/it]\n"
     ]
    },
    {
     "name": "stdout",
     "output_type": "stream",
     "text": [
      "Results\n",
      "===============\n",
      "Topic number: 48\n",
      "npmi: 0.12363816525776576\n",
      "diversity: 0.5083333333333333\n",
      " \n"
     ]
    },
    {
     "name": "stderr",
     "output_type": "stream",
     "text": [
      "100%|██████████| 100/100 [14:59<00:00,  9.00s/it]\n"
     ]
    },
    {
     "name": "stdout",
     "output_type": "stream",
     "text": [
      "Results\n",
      "===============\n",
      "Topic number: 48\n",
      "npmi: 0.12727139256484424\n",
      "diversity: 0.5020833333333333\n",
      " \n"
     ]
    },
    {
     "name": "stderr",
     "output_type": "stream",
     "text": [
      "100%|██████████| 100/100 [17:48<00:00, 10.69s/it]\n"
     ]
    },
    {
     "name": "stdout",
     "output_type": "stream",
     "text": [
      "Results\n",
      "===============\n",
      "Topic number: 48\n",
      "npmi: 0.13070018929433022\n",
      "diversity: 0.5\n",
      " \n",
      "[0.12030327361358158, 0.11721250134550341, 0.12023085212160874, 0.11563058623189659, 0.12007800892972675, 0.11887507294037047, 0.12489252322109014, 0.12466977855007104, 0.12238120221910187, 0.12503803948267053, 0.12267436475200799, 0.11883909927537462, 0.12512312717136306, 0.12559982788991186, 0.12720324903898006]\n",
      "[0.6149999999999999, 0.5954545454545453, 0.5958333333333333, 0.5846153846153846, 0.5833333333333333, 0.5588888888888889, 0.5625, 0.55, 0.5361111111111111, 0.5271929824561404, 0.53, 0.5079365079365079, 0.5174242424242425, 0.4956521739130435, 0.5034722222222222]\n"
     ]
    }
   ],
   "source": [
    "# 20 to 50\n",
    "npmi = []\n",
    "diversity = []\n",
    "\n",
    "NPMI = []\n",
    "DIVERSITY = []\n",
    "\n",
    "for n in range(20,50,2):\n",
    "    for i in range(3):\n",
    "        result = evaluation(N_topics = n, X = X, vocabulary = vocabulary, CORPUS = CORPUS, TOPK = 10, Detail = True, cohe_type = \"c_npmi\")\n",
    "        npmi.append(result[\"coherance\"])\n",
    "        diversity.append(result[\"diversity\"])\n",
    "    NPMI.append(np.mean(npmi))\n",
    "    DIVERSITY.append(np.mean(diversity))\n",
    "    npmi = []\n",
    "    diversity = []\n",
    "\n",
    "print(NPMI)\n",
    "print(DIVERSITY)"
   ]
  },
  {
   "cell_type": "markdown",
   "id": "5fec261b",
   "metadata": {},
   "source": [
    "topic number between 50 to 80"
   ]
  },
  {
   "cell_type": "code",
   "execution_count": 70,
   "id": "71698953",
   "metadata": {
    "collapsed": true
   },
   "outputs": [
    {
     "name": "stderr",
     "output_type": "stream",
     "text": [
      "100%|██████████| 100/100 [17:23<00:00, 10.43s/it]\n"
     ]
    },
    {
     "name": "stdout",
     "output_type": "stream",
     "text": [
      "Results\n",
      "===============\n",
      "Topic number: 50\n",
      "npmi: 0.1297861892556088\n",
      "diversity: 0.502\n",
      " \n"
     ]
    },
    {
     "name": "stderr",
     "output_type": "stream",
     "text": [
      "100%|██████████| 100/100 [19:36<00:00, 11.76s/it]\n"
     ]
    },
    {
     "name": "stdout",
     "output_type": "stream",
     "text": [
      "Results\n",
      "===============\n",
      "Topic number: 50\n",
      "npmi: 0.12206319101740616\n",
      "diversity: 0.496\n",
      " \n"
     ]
    },
    {
     "name": "stderr",
     "output_type": "stream",
     "text": [
      "100%|██████████| 100/100 [21:39<00:00, 12.99s/it]\n"
     ]
    },
    {
     "name": "stdout",
     "output_type": "stream",
     "text": [
      "Results\n",
      "===============\n",
      "Topic number: 50\n",
      "npmi: 0.12096245260538692\n",
      "diversity: 0.484\n",
      " \n"
     ]
    },
    {
     "name": "stderr",
     "output_type": "stream",
     "text": [
      "100%|██████████| 100/100 [18:53<00:00, 11.33s/it]\n"
     ]
    },
    {
     "name": "stdout",
     "output_type": "stream",
     "text": [
      "Results\n",
      "===============\n",
      "Topic number: 52\n",
      "npmi: 0.12793425268195038\n",
      "diversity: 0.4653846153846154\n",
      " \n"
     ]
    },
    {
     "name": "stderr",
     "output_type": "stream",
     "text": [
      "100%|██████████| 100/100 [17:40<00:00, 10.61s/it]\n"
     ]
    },
    {
     "name": "stdout",
     "output_type": "stream",
     "text": [
      "Results\n",
      "===============\n",
      "Topic number: 52\n",
      "npmi: 0.1206600142189794\n",
      "diversity: 0.47692307692307695\n",
      " \n"
     ]
    },
    {
     "name": "stderr",
     "output_type": "stream",
     "text": [
      "100%|██████████| 100/100 [16:02<00:00,  9.62s/it]\n"
     ]
    },
    {
     "name": "stdout",
     "output_type": "stream",
     "text": [
      "Results\n",
      "===============\n",
      "Topic number: 52\n",
      "npmi: 0.12288551295582817\n",
      "diversity: 0.49615384615384617\n",
      " \n"
     ]
    },
    {
     "name": "stderr",
     "output_type": "stream",
     "text": [
      "100%|██████████| 100/100 [16:27<00:00,  9.87s/it]\n"
     ]
    },
    {
     "name": "stdout",
     "output_type": "stream",
     "text": [
      "Results\n",
      "===============\n",
      "Topic number: 54\n",
      "npmi: 0.1206692523997409\n",
      "diversity: 0.48333333333333334\n",
      " \n"
     ]
    },
    {
     "name": "stderr",
     "output_type": "stream",
     "text": [
      "100%|██████████| 100/100 [19:09<00:00, 11.49s/it]\n"
     ]
    },
    {
     "name": "stdout",
     "output_type": "stream",
     "text": [
      "Results\n",
      "===============\n",
      "Topic number: 54\n",
      "npmi: 0.11984541945293864\n",
      "diversity: 0.4777777777777778\n",
      " \n"
     ]
    },
    {
     "name": "stderr",
     "output_type": "stream",
     "text": [
      "100%|██████████| 100/100 [16:30<00:00,  9.91s/it]\n"
     ]
    },
    {
     "name": "stdout",
     "output_type": "stream",
     "text": [
      "Results\n",
      "===============\n",
      "Topic number: 54\n",
      "npmi: 0.12053430723141627\n",
      "diversity: 0.47962962962962963\n",
      " \n"
     ]
    },
    {
     "name": "stderr",
     "output_type": "stream",
     "text": [
      "100%|██████████| 100/100 [17:01<00:00, 10.21s/it]\n"
     ]
    },
    {
     "name": "stdout",
     "output_type": "stream",
     "text": [
      "Results\n",
      "===============\n",
      "Topic number: 56\n",
      "npmi: 0.12146274117360467\n",
      "diversity: 0.4767857142857143\n",
      " \n"
     ]
    },
    {
     "name": "stderr",
     "output_type": "stream",
     "text": [
      "100%|██████████| 100/100 [20:53<00:00, 12.53s/it]\n"
     ]
    },
    {
     "name": "stdout",
     "output_type": "stream",
     "text": [
      "Results\n",
      "===============\n",
      "Topic number: 56\n",
      "npmi: 0.11861995882318539\n",
      "diversity: 0.4589285714285714\n",
      " \n"
     ]
    },
    {
     "name": "stderr",
     "output_type": "stream",
     "text": [
      "100%|██████████| 100/100 [20:12<00:00, 12.13s/it]\n"
     ]
    },
    {
     "name": "stdout",
     "output_type": "stream",
     "text": [
      "Results\n",
      "===============\n",
      "Topic number: 56\n",
      "npmi: 0.12397716588305994\n",
      "diversity: 0.475\n",
      " \n"
     ]
    },
    {
     "name": "stderr",
     "output_type": "stream",
     "text": [
      "100%|██████████| 100/100 [20:56<00:00, 12.57s/it]\n"
     ]
    },
    {
     "name": "stdout",
     "output_type": "stream",
     "text": [
      "Results\n",
      "===============\n",
      "Topic number: 58\n",
      "npmi: 0.13108049008355335\n",
      "diversity: 0.4862068965517241\n",
      " \n"
     ]
    },
    {
     "name": "stderr",
     "output_type": "stream",
     "text": [
      "100%|██████████| 100/100 [24:33<00:00, 14.73s/it]\n"
     ]
    },
    {
     "name": "stdout",
     "output_type": "stream",
     "text": [
      "Results\n",
      "===============\n",
      "Topic number: 58\n",
      "npmi: 0.12884038312267151\n",
      "diversity: 0.4724137931034483\n",
      " \n"
     ]
    },
    {
     "name": "stderr",
     "output_type": "stream",
     "text": [
      "100%|██████████| 100/100 [20:03<00:00, 12.04s/it]\n"
     ]
    },
    {
     "name": "stdout",
     "output_type": "stream",
     "text": [
      "Results\n",
      "===============\n",
      "Topic number: 58\n",
      "npmi: 0.11768035794066047\n",
      "diversity: 0.4706896551724138\n",
      " \n"
     ]
    },
    {
     "name": "stderr",
     "output_type": "stream",
     "text": [
      "100%|██████████| 100/100 [22:50<00:00, 13.71s/it]\n"
     ]
    },
    {
     "name": "stdout",
     "output_type": "stream",
     "text": [
      "Results\n",
      "===============\n",
      "Topic number: 60\n",
      "npmi: 0.1224800322815571\n",
      "diversity: 0.4716666666666667\n",
      " \n"
     ]
    },
    {
     "name": "stderr",
     "output_type": "stream",
     "text": [
      "100%|██████████| 100/100 [19:46<00:00, 11.87s/it]\n"
     ]
    },
    {
     "name": "stdout",
     "output_type": "stream",
     "text": [
      "Results\n",
      "===============\n",
      "Topic number: 60\n",
      "npmi: 0.12600091228892196\n",
      "diversity: 0.48\n",
      " \n"
     ]
    },
    {
     "name": "stderr",
     "output_type": "stream",
     "text": [
      "100%|██████████| 100/100 [50:39<00:00, 30.40s/it]  \n"
     ]
    },
    {
     "name": "stdout",
     "output_type": "stream",
     "text": [
      "Results\n",
      "===============\n",
      "Topic number: 60\n",
      "npmi: 0.1171023816880941\n",
      "diversity: 0.4683333333333333\n",
      " \n"
     ]
    },
    {
     "name": "stderr",
     "output_type": "stream",
     "text": [
      "100%|██████████| 100/100 [22:51<00:00, 13.71s/it]\n"
     ]
    },
    {
     "name": "stdout",
     "output_type": "stream",
     "text": [
      "Results\n",
      "===============\n",
      "Topic number: 62\n",
      "npmi: 0.12311676853387772\n",
      "diversity: 0.4629032258064516\n",
      " \n"
     ]
    },
    {
     "name": "stderr",
     "output_type": "stream",
     "text": [
      "100%|██████████| 100/100 [22:45<00:00, 13.66s/it]\n"
     ]
    },
    {
     "name": "stdout",
     "output_type": "stream",
     "text": [
      "Results\n",
      "===============\n",
      "Topic number: 62\n",
      "npmi: 0.12548502600407804\n",
      "diversity: 0.45483870967741935\n",
      " \n"
     ]
    },
    {
     "name": "stderr",
     "output_type": "stream",
     "text": [
      "100%|██████████| 100/100 [25:36<00:00, 15.36s/it]\n"
     ]
    },
    {
     "name": "stdout",
     "output_type": "stream",
     "text": [
      "Results\n",
      "===============\n",
      "Topic number: 62\n",
      "npmi: 0.11636474986190282\n",
      "diversity: 0.4435483870967742\n",
      " \n"
     ]
    },
    {
     "name": "stderr",
     "output_type": "stream",
     "text": [
      "100%|██████████| 100/100 [22:50<00:00, 13.71s/it]\n"
     ]
    },
    {
     "name": "stdout",
     "output_type": "stream",
     "text": [
      "Results\n",
      "===============\n",
      "Topic number: 64\n",
      "npmi: 0.12683948092607142\n",
      "diversity: 0.4609375\n",
      " \n"
     ]
    },
    {
     "name": "stderr",
     "output_type": "stream",
     "text": [
      "100%|██████████| 100/100 [25:52<00:00, 15.52s/it]\n"
     ]
    },
    {
     "name": "stdout",
     "output_type": "stream",
     "text": [
      "Results\n",
      "===============\n",
      "Topic number: 64\n",
      "npmi: 0.12545565843690984\n",
      "diversity: 0.44375\n",
      " \n"
     ]
    },
    {
     "name": "stderr",
     "output_type": "stream",
     "text": [
      "100%|██████████| 100/100 [22:52<00:00, 13.73s/it]\n"
     ]
    },
    {
     "name": "stdout",
     "output_type": "stream",
     "text": [
      "Results\n",
      "===============\n",
      "Topic number: 64\n",
      "npmi: 0.12706955072550036\n",
      "diversity: 0.4640625\n",
      " \n"
     ]
    },
    {
     "name": "stderr",
     "output_type": "stream",
     "text": [
      "100%|██████████| 100/100 [23:22<00:00, 14.02s/it]\n"
     ]
    },
    {
     "name": "stdout",
     "output_type": "stream",
     "text": [
      "Results\n",
      "===============\n",
      "Topic number: 66\n",
      "npmi: 0.12202233474265539\n",
      "diversity: 0.44696969696969696\n",
      " \n"
     ]
    },
    {
     "name": "stderr",
     "output_type": "stream",
     "text": [
      "100%|██████████| 100/100 [22:58<00:00, 13.79s/it]\n"
     ]
    },
    {
     "name": "stdout",
     "output_type": "stream",
     "text": [
      "Results\n",
      "===============\n",
      "Topic number: 66\n",
      "npmi: 0.12621162608092956\n",
      "diversity: 0.46060606060606063\n",
      " \n"
     ]
    },
    {
     "name": "stderr",
     "output_type": "stream",
     "text": [
      "100%|██████████| 100/100 [22:49<00:00, 13.69s/it]\n"
     ]
    },
    {
     "name": "stdout",
     "output_type": "stream",
     "text": [
      "Results\n",
      "===============\n",
      "Topic number: 66\n",
      "npmi: 0.12814726618943093\n",
      "diversity: 0.46515151515151515\n",
      " \n"
     ]
    },
    {
     "name": "stderr",
     "output_type": "stream",
     "text": [
      "100%|██████████| 100/100 [23:57<00:00, 14.38s/it]\n"
     ]
    },
    {
     "name": "stdout",
     "output_type": "stream",
     "text": [
      "Results\n",
      "===============\n",
      "Topic number: 68\n",
      "npmi: 0.12332613104739197\n",
      "diversity: 0.43970588235294117\n",
      " \n"
     ]
    },
    {
     "name": "stderr",
     "output_type": "stream",
     "text": [
      "100%|██████████| 100/100 [21:19<00:00, 12.79s/it]\n"
     ]
    },
    {
     "name": "stdout",
     "output_type": "stream",
     "text": [
      "Results\n",
      "===============\n",
      "Topic number: 68\n",
      "npmi: 0.10966813281881932\n",
      "diversity: 0.43676470588235294\n",
      " \n"
     ]
    },
    {
     "name": "stderr",
     "output_type": "stream",
     "text": [
      "100%|██████████| 100/100 [23:42<00:00, 14.22s/it]\n"
     ]
    },
    {
     "name": "stdout",
     "output_type": "stream",
     "text": [
      "Results\n",
      "===============\n",
      "Topic number: 68\n",
      "npmi: 0.12304274475056767\n",
      "diversity: 0.45441176470588235\n",
      " \n"
     ]
    },
    {
     "name": "stderr",
     "output_type": "stream",
     "text": [
      "100%|██████████| 100/100 [21:50<00:00, 13.10s/it]\n"
     ]
    },
    {
     "name": "stdout",
     "output_type": "stream",
     "text": [
      "Results\n",
      "===============\n",
      "Topic number: 70\n",
      "npmi: 0.11497680490552824\n",
      "diversity: 0.43857142857142856\n",
      " \n"
     ]
    },
    {
     "name": "stderr",
     "output_type": "stream",
     "text": [
      "100%|██████████| 100/100 [24:29<00:00, 14.70s/it]\n"
     ]
    },
    {
     "name": "stdout",
     "output_type": "stream",
     "text": [
      "Results\n",
      "===============\n",
      "Topic number: 70\n",
      "npmi: 0.12003583290442822\n",
      "diversity: 0.44\n",
      " \n"
     ]
    },
    {
     "name": "stderr",
     "output_type": "stream",
     "text": [
      "100%|██████████| 100/100 [22:02<00:00, 13.23s/it]\n"
     ]
    },
    {
     "name": "stdout",
     "output_type": "stream",
     "text": [
      "Results\n",
      "===============\n",
      "Topic number: 70\n",
      "npmi: 0.123758634234038\n",
      "diversity: 0.43142857142857144\n",
      " \n"
     ]
    },
    {
     "name": "stderr",
     "output_type": "stream",
     "text": [
      "100%|██████████| 100/100 [25:21<00:00, 15.21s/it]\n"
     ]
    },
    {
     "name": "stdout",
     "output_type": "stream",
     "text": [
      "Results\n",
      "===============\n",
      "Topic number: 72\n",
      "npmi: 0.12199564724417626\n",
      "diversity: 0.44027777777777777\n",
      " \n"
     ]
    },
    {
     "name": "stderr",
     "output_type": "stream",
     "text": [
      "100%|██████████| 100/100 [29:09<00:00, 17.49s/it]\n"
     ]
    },
    {
     "name": "stdout",
     "output_type": "stream",
     "text": [
      "Results\n",
      "===============\n",
      "Topic number: 72\n",
      "npmi: 0.11642791672445342\n",
      "diversity: 0.42083333333333334\n",
      " \n"
     ]
    },
    {
     "name": "stderr",
     "output_type": "stream",
     "text": [
      "100%|██████████| 100/100 [24:47<00:00, 14.88s/it]\n"
     ]
    },
    {
     "name": "stdout",
     "output_type": "stream",
     "text": [
      "Results\n",
      "===============\n",
      "Topic number: 72\n",
      "npmi: 0.1223066650807263\n",
      "diversity: 0.4361111111111111\n",
      " \n"
     ]
    },
    {
     "name": "stderr",
     "output_type": "stream",
     "text": [
      "100%|██████████| 100/100 [27:53<00:00, 16.73s/it]\n"
     ]
    },
    {
     "name": "stdout",
     "output_type": "stream",
     "text": [
      "Results\n",
      "===============\n",
      "Topic number: 74\n",
      "npmi: 0.11889675872062293\n",
      "diversity: 0.43648648648648647\n",
      " \n"
     ]
    },
    {
     "name": "stderr",
     "output_type": "stream",
     "text": [
      "100%|██████████| 100/100 [23:34<00:00, 14.14s/it]\n"
     ]
    },
    {
     "name": "stdout",
     "output_type": "stream",
     "text": [
      "Results\n",
      "===============\n",
      "Topic number: 74\n",
      "npmi: 0.12507814600898076\n",
      "diversity: 0.43513513513513513\n",
      " \n"
     ]
    },
    {
     "name": "stderr",
     "output_type": "stream",
     "text": [
      "100%|██████████| 100/100 [27:16<00:00, 16.36s/it]\n"
     ]
    },
    {
     "name": "stdout",
     "output_type": "stream",
     "text": [
      "Results\n",
      "===============\n",
      "Topic number: 74\n",
      "npmi: 0.12390370200709702\n",
      "diversity: 0.42702702702702705\n",
      " \n"
     ]
    },
    {
     "name": "stderr",
     "output_type": "stream",
     "text": [
      "100%|██████████| 100/100 [26:30<00:00, 15.91s/it]\n"
     ]
    },
    {
     "name": "stdout",
     "output_type": "stream",
     "text": [
      "Results\n",
      "===============\n",
      "Topic number: 76\n",
      "npmi: 0.12094425951459166\n",
      "diversity: 0.43026315789473685\n",
      " \n"
     ]
    },
    {
     "name": "stderr",
     "output_type": "stream",
     "text": [
      "100%|██████████| 100/100 [32:02<00:00, 19.23s/it]\n"
     ]
    },
    {
     "name": "stdout",
     "output_type": "stream",
     "text": [
      "Results\n",
      "===============\n",
      "Topic number: 76\n",
      "npmi: 0.12205434088577641\n",
      "diversity: 0.4355263157894737\n",
      " \n"
     ]
    },
    {
     "name": "stderr",
     "output_type": "stream",
     "text": [
      "100%|██████████| 100/100 [35:00<00:00, 21.01s/it]\n"
     ]
    },
    {
     "name": "stdout",
     "output_type": "stream",
     "text": [
      "Results\n",
      "===============\n",
      "Topic number: 76\n",
      "npmi: 0.1212053993475356\n",
      "diversity: 0.4328947368421053\n",
      " \n"
     ]
    },
    {
     "name": "stderr",
     "output_type": "stream",
     "text": [
      "100%|██████████| 100/100 [36:51<00:00, 22.12s/it]\n"
     ]
    },
    {
     "name": "stdout",
     "output_type": "stream",
     "text": [
      "Results\n",
      "===============\n",
      "Topic number: 78\n",
      "npmi: 0.12140514585482187\n",
      "diversity: 0.41923076923076924\n",
      " \n"
     ]
    },
    {
     "name": "stderr",
     "output_type": "stream",
     "text": [
      "100%|██████████| 100/100 [31:41<00:00, 19.02s/it]\n"
     ]
    },
    {
     "name": "stdout",
     "output_type": "stream",
     "text": [
      "Results\n",
      "===============\n",
      "Topic number: 78\n",
      "npmi: 0.1254033292707508\n",
      "diversity: 0.4217948717948718\n",
      " \n"
     ]
    },
    {
     "name": "stderr",
     "output_type": "stream",
     "text": [
      "100%|██████████| 100/100 [48:31<00:00, 29.12s/it] \n"
     ]
    },
    {
     "name": "stdout",
     "output_type": "stream",
     "text": [
      "Results\n",
      "===============\n",
      "Topic number: 78\n",
      "npmi: 0.12161364959342588\n",
      "diversity: 0.4307692307692308\n",
      " \n",
      "[0.12427061095946729, 0.12382659328558598, 0.12034965969469862, 0.12135328862661666, 0.12586707704896177, 0.12186110875285772, 0.12165551479995286, 0.12645489669616053, 0.12546040900433864, 0.11867900287225967, 0.11959042401466481, 0.12024340968311865, 0.1226262022455669, 0.12140133324930123, 0.12280737490633285]\n",
      "[0.494, 0.4794871794871795, 0.4802469135802469, 0.4702380952380952, 0.4764367816091954, 0.47333333333333333, 0.4537634408602151, 0.45625, 0.4575757575757576, 0.44362745098039214, 0.4366666666666667, 0.4324074074074074, 0.43288288288288285, 0.4328947368421053, 0.4239316239316239]\n"
     ]
    }
   ],
   "source": [
    "# 50 to 80\n",
    "npmi = []\n",
    "diversity = []\n",
    "\n",
    "NPMI_2 = []\n",
    "DIVERSITY_2 = []\n",
    "\n",
    "for n in range(50,80,2):\n",
    "    for i in range(3):\n",
    "        result = evaluation(N_topics = n, X = X, vocabulary = vocabulary, CORPUS = CORPUS, \n",
    "                            TOPK = 10, Detail = True, cohe_type = \"c_npmi\")\n",
    "        npmi.append(result[\"npmi\"])\n",
    "        diversity.append(result[\"diversity\"])\n",
    "    NPMI_2.append(np.mean(npmi))\n",
    "    DIVERSITY_2.append(np.mean(diversity))\n",
    "    npmi = []\n",
    "    diversity = []\n",
    "\n",
    "print(NPMI_2)\n",
    "print(DIVERSITY_2)"
   ]
  },
  {
   "cell_type": "markdown",
   "id": "5b4cc671",
   "metadata": {},
   "source": [
    "Combine two list"
   ]
  },
  {
   "cell_type": "code",
   "execution_count": 93,
   "id": "cf6403bf",
   "metadata": {},
   "outputs": [],
   "source": [
    "N = NPMI\n",
    "for i in NPMI_2:\n",
    "    N.append(i)\n"
   ]
  },
  {
   "cell_type": "markdown",
   "id": "022ae675",
   "metadata": {},
   "source": [
    "#### Plot (npmi)\n",
    "Find the optimized number of topics: **48**"
   ]
  },
  {
   "cell_type": "code",
   "execution_count": 128,
   "id": "2fb1768d",
   "metadata": {},
   "outputs": [
    {
     "data": {
      "image/png": "[encoded data removed]",
      "text/plain": [
       "<Figure size 432x288 with 1 Axes>"
      ]
     },
     "metadata": {
      "needs_background": "light"
     },
     "output_type": "display_data"
    }
   ],
   "source": [
    "x = range(20,80,2)\n",
    "c = N\n",
    "# Show graph\n",
    "plt.plot(x, c)\n",
    "plt.grid()\n",
    "plt.xlabel(\"Num Topics\")\n",
    "plt.ylabel(\"Coherence score\")\n",
    "plt.legend((\"coherence_values\"), loc='best')\n",
    "plt.show()"
   ]
  },
  {
   "cell_type": "code",
   "execution_count": 130,
   "id": "66a2f4fe",
   "metadata": {},
   "outputs": [
    {
     "name": "stdout",
     "output_type": "stream",
     "text": [
      "Number: 20\n",
      "npmi: 0.12030327361358158\n",
      "Number: 22\n",
      "npmi: 0.11721250134550341\n",
      "Number: 24\n",
      "npmi: 0.12023085212160874\n",
      "Number: 26\n",
      "npmi: 0.11563058623189659\n",
      "Number: 28\n",
      "npmi: 0.12007800892972675\n",
      "Number: 30\n",
      "npmi: 0.11887507294037047\n",
      "Number: 32\n",
      "npmi: 0.12489252322109014\n",
      "Number: 34\n",
      "npmi: 0.12466977855007104\n",
      "Number: 36\n",
      "npmi: 0.12238120221910187\n",
      "Number: 38\n",
      "npmi: 0.12503803948267053\n",
      "Number: 40\n",
      "npmi: 0.12267436475200799\n",
      "Number: 42\n",
      "npmi: 0.11883909927537462\n",
      "Number: 44\n",
      "npmi: 0.12512312717136306\n",
      "Number: 46\n",
      "npmi: 0.12559982788991186\n",
      "Number: 48\n",
      "npmi: 0.12720324903898006\n",
      "This is the best!!!!!!!!!!!!!!!\n",
      "Number: 50\n",
      "npmi: 0.12427061095946729\n",
      "Number: 52\n",
      "npmi: 0.12382659328558598\n",
      "Number: 54\n",
      "npmi: 0.12034965969469862\n",
      "Number: 56\n",
      "npmi: 0.12135328862661666\n",
      "Number: 58\n",
      "npmi: 0.12586707704896177\n",
      "Number: 60\n",
      "npmi: 0.12186110875285772\n",
      "Number: 62\n",
      "npmi: 0.12165551479995286\n",
      "Number: 64\n",
      "npmi: 0.12645489669616053\n",
      "Number: 66\n",
      "npmi: 0.12546040900433864\n",
      "Number: 68\n",
      "npmi: 0.11867900287225967\n",
      "Number: 70\n",
      "npmi: 0.11959042401466481\n",
      "Number: 72\n",
      "npmi: 0.12024340968311865\n",
      "Number: 74\n",
      "npmi: 0.1226262022455669\n",
      "Number: 76\n",
      "npmi: 0.12140133324930123\n",
      "Number: 78\n",
      "npmi: 0.12280737490633285\n"
     ]
    },
    {
     "data": {
      "text/plain": [
       "(48, 0.12720324903898006)"
      ]
     },
     "execution_count": 130,
     "metadata": {},
     "output_type": "execute_result"
    }
   ],
   "source": [
    "num = 20\n",
    "for i in c:\n",
    "    print(\"Number: \"+str(num))\n",
    "    print(\"npmi: \"+str(i))\n",
    "    if i == max(c):\n",
    "        print(\"This is the best!!!!!!!!!!!!!!!\")\n",
    "        best = (num,i)\n",
    "    num+=2\n",
    "best"
   ]
  },
  {
   "cell_type": "markdown",
   "id": "aaa830cd",
   "metadata": {},
   "source": [
    "#### Cross Validation Coherence score"
   ]
  },
  {
   "cell_type": "code",
   "execution_count": 124,
   "id": "bcef1b71",
   "metadata": {
    "collapsed": true
   },
   "outputs": [
    {
     "name": "stderr",
     "output_type": "stream",
     "text": [
      "100%|██████████| 100/100 [17:57<00:00, 10.78s/it]\n"
     ]
    },
    {
     "name": "stdout",
     "output_type": "stream",
     "text": [
      "Results\n",
      "===============\n",
      "Topic number: 40\n",
      "coherance: 0.6734868738541724\n",
      "diversity: 0.5375\n",
      " \n"
     ]
    },
    {
     "name": "stderr",
     "output_type": "stream",
     "text": [
      "100%|██████████| 100/100 [17:30<00:00, 10.50s/it]\n"
     ]
    },
    {
     "name": "stdout",
     "output_type": "stream",
     "text": [
      "Results\n",
      "===============\n",
      "Topic number: 40\n",
      "coherance: 0.6776576077056196\n",
      "diversity: 0.535\n",
      " \n"
     ]
    },
    {
     "name": "stderr",
     "output_type": "stream",
     "text": [
      "100%|██████████| 100/100 [14:24<00:00,  8.65s/it]\n"
     ]
    },
    {
     "name": "stdout",
     "output_type": "stream",
     "text": [
      "Results\n",
      "===============\n",
      "Topic number: 40\n",
      "coherance: 0.6752412785439448\n",
      "diversity: 0.5175\n",
      " \n"
     ]
    },
    {
     "name": "stderr",
     "output_type": "stream",
     "text": [
      "100%|██████████| 100/100 [15:23<00:00,  9.24s/it]\n"
     ]
    },
    {
     "name": "stdout",
     "output_type": "stream",
     "text": [
      "Results\n",
      "===============\n",
      "Topic number: 42\n",
      "coherance: 0.6659187537970868\n",
      "diversity: 0.5095238095238095\n",
      " \n"
     ]
    },
    {
     "name": "stderr",
     "output_type": "stream",
     "text": [
      "100%|██████████| 100/100 [18:01<00:00, 10.82s/it]\n"
     ]
    },
    {
     "name": "stdout",
     "output_type": "stream",
     "text": [
      "Results\n",
      "===============\n",
      "Topic number: 42\n",
      "coherance: 0.6703354096273786\n",
      "diversity: 0.5261904761904762\n",
      " \n"
     ]
    },
    {
     "name": "stderr",
     "output_type": "stream",
     "text": [
      "100%|██████████| 100/100 [20:45<00:00, 12.46s/it]\n"
     ]
    },
    {
     "name": "stdout",
     "output_type": "stream",
     "text": [
      "Results\n",
      "===============\n",
      "Topic number: 42\n",
      "coherance: 0.6670982863050177\n",
      "diversity: 0.5047619047619047\n",
      " \n"
     ]
    },
    {
     "name": "stderr",
     "output_type": "stream",
     "text": [
      "100%|██████████| 100/100 [19:59<00:00, 12.00s/it]\n"
     ]
    },
    {
     "name": "stdout",
     "output_type": "stream",
     "text": [
      "Results\n",
      "===============\n",
      "Topic number: 44\n",
      "coherance: 0.6741677168200915\n",
      "diversity: 0.5113636363636364\n",
      " \n"
     ]
    },
    {
     "name": "stderr",
     "output_type": "stream",
     "text": [
      "100%|██████████| 100/100 [21:58<00:00, 13.18s/it]\n"
     ]
    },
    {
     "name": "stdout",
     "output_type": "stream",
     "text": [
      "Results\n",
      "===============\n",
      "Topic number: 44\n",
      "coherance: 0.6908142186368412\n",
      "diversity: 0.5113636363636364\n",
      " \n"
     ]
    },
    {
     "name": "stderr",
     "output_type": "stream",
     "text": [
      "100%|██████████| 100/100 [20:50<00:00, 12.51s/it]\n"
     ]
    },
    {
     "name": "stdout",
     "output_type": "stream",
     "text": [
      "Results\n",
      "===============\n",
      "Topic number: 44\n",
      "coherance: 0.6794981772997394\n",
      "diversity: 0.5068181818181818\n",
      " \n"
     ]
    },
    {
     "name": "stderr",
     "output_type": "stream",
     "text": [
      "100%|██████████| 100/100 [17:47<00:00, 10.68s/it]\n"
     ]
    },
    {
     "name": "stdout",
     "output_type": "stream",
     "text": [
      "Results\n",
      "===============\n",
      "Topic number: 46\n",
      "coherance: 0.6710364789224413\n",
      "diversity: 0.5108695652173914\n",
      " \n"
     ]
    },
    {
     "name": "stderr",
     "output_type": "stream",
     "text": [
      "100%|██████████| 100/100 [21:33<00:00, 12.94s/it]\n"
     ]
    },
    {
     "name": "stdout",
     "output_type": "stream",
     "text": [
      "Results\n",
      "===============\n",
      "Topic number: 46\n",
      "coherance: 0.6743895020064179\n",
      "diversity: 0.5\n",
      " \n"
     ]
    },
    {
     "name": "stderr",
     "output_type": "stream",
     "text": [
      "100%|██████████| 100/100 [17:49<00:00, 10.70s/it]\n"
     ]
    },
    {
     "name": "stdout",
     "output_type": "stream",
     "text": [
      "Results\n",
      "===============\n",
      "Topic number: 46\n",
      "coherance: 0.6828258175149589\n",
      "diversity: 0.508695652173913\n",
      " \n"
     ]
    },
    {
     "name": "stderr",
     "output_type": "stream",
     "text": [
      "100%|██████████| 100/100 [18:37<00:00, 11.17s/it]\n"
     ]
    },
    {
     "name": "stdout",
     "output_type": "stream",
     "text": [
      "Results\n",
      "===============\n",
      "Topic number: 48\n",
      "coherance: 0.6840415400388653\n",
      "diversity: 0.5083333333333333\n",
      " \n"
     ]
    },
    {
     "name": "stderr",
     "output_type": "stream",
     "text": [
      "100%|██████████| 100/100 [19:46<00:00, 11.86s/it]\n"
     ]
    },
    {
     "name": "stdout",
     "output_type": "stream",
     "text": [
      "Results\n",
      "===============\n",
      "Topic number: 48\n",
      "coherance: 0.6741157043943069\n",
      "diversity: 0.5104166666666666\n",
      " \n"
     ]
    },
    {
     "name": "stderr",
     "output_type": "stream",
     "text": [
      "100%|██████████| 100/100 [16:55<00:00, 10.16s/it]\n"
     ]
    },
    {
     "name": "stdout",
     "output_type": "stream",
     "text": [
      "Results\n",
      "===============\n",
      "Topic number: 48\n",
      "coherance: 0.6797264401246613\n",
      "diversity: 0.5125\n",
      " \n"
     ]
    },
    {
     "name": "stderr",
     "output_type": "stream",
     "text": [
      "100%|██████████| 100/100 [19:08<00:00, 11.49s/it]\n"
     ]
    },
    {
     "name": "stdout",
     "output_type": "stream",
     "text": [
      "Results\n",
      "===============\n",
      "Topic number: 50\n",
      "coherance: 0.6707062253538782\n",
      "diversity: 0.476\n",
      " \n"
     ]
    },
    {
     "name": "stderr",
     "output_type": "stream",
     "text": [
      "100%|██████████| 100/100 [20:06<00:00, 12.06s/it]\n"
     ]
    },
    {
     "name": "stdout",
     "output_type": "stream",
     "text": [
      "Results\n",
      "===============\n",
      "Topic number: 50\n",
      "coherance: 0.676445755920693\n",
      "diversity: 0.496\n",
      " \n"
     ]
    },
    {
     "name": "stderr",
     "output_type": "stream",
     "text": [
      "100%|██████████| 100/100 [20:06<00:00, 12.06s/it]\n"
     ]
    },
    {
     "name": "stdout",
     "output_type": "stream",
     "text": [
      "Results\n",
      "===============\n",
      "Topic number: 50\n",
      "coherance: 0.6679970212627449\n",
      "diversity: 0.492\n",
      " \n"
     ]
    },
    {
     "name": "stderr",
     "output_type": "stream",
     "text": [
      "100%|██████████| 100/100 [18:02<00:00, 10.82s/it]\n"
     ]
    },
    {
     "name": "stdout",
     "output_type": "stream",
     "text": [
      "Results\n",
      "===============\n",
      "Topic number: 52\n",
      "coherance: 0.671700833339671\n",
      "diversity: 0.4807692307692308\n",
      " \n"
     ]
    },
    {
     "name": "stderr",
     "output_type": "stream",
     "text": [
      "100%|██████████| 100/100 [20:32<00:00, 12.32s/it]\n"
     ]
    },
    {
     "name": "stdout",
     "output_type": "stream",
     "text": [
      "Results\n",
      "===============\n",
      "Topic number: 52\n",
      "coherance: 0.6764756821626854\n",
      "diversity: 0.4807692307692308\n",
      " \n"
     ]
    },
    {
     "name": "stderr",
     "output_type": "stream",
     "text": [
      "100%|██████████| 100/100 [20:49<00:00, 12.49s/it]\n"
     ]
    },
    {
     "name": "stdout",
     "output_type": "stream",
     "text": [
      "Results\n",
      "===============\n",
      "Topic number: 52\n",
      "coherance: 0.6807428067020874\n",
      "diversity: 0.49615384615384617\n",
      " \n"
     ]
    },
    {
     "name": "stderr",
     "output_type": "stream",
     "text": [
      "100%|██████████| 100/100 [18:17<00:00, 10.98s/it]\n"
     ]
    },
    {
     "name": "stdout",
     "output_type": "stream",
     "text": [
      "Results\n",
      "===============\n",
      "Topic number: 54\n",
      "coherance: 0.677041155538507\n",
      "diversity: 0.4981481481481482\n",
      " \n"
     ]
    },
    {
     "name": "stderr",
     "output_type": "stream",
     "text": [
      "100%|██████████| 100/100 [21:13<00:00, 12.74s/it]\n"
     ]
    },
    {
     "name": "stdout",
     "output_type": "stream",
     "text": [
      "Results\n",
      "===============\n",
      "Topic number: 54\n",
      "coherance: 0.6849351420267153\n",
      "diversity: 0.48703703703703705\n",
      " \n"
     ]
    },
    {
     "name": "stderr",
     "output_type": "stream",
     "text": [
      "100%|██████████| 100/100 [21:12<00:00, 12.73s/it]\n"
     ]
    },
    {
     "name": "stdout",
     "output_type": "stream",
     "text": [
      "Results\n",
      "===============\n",
      "Topic number: 54\n",
      "coherance: 0.6806217412413136\n",
      "diversity: 0.48703703703703705\n",
      " \n"
     ]
    },
    {
     "name": "stderr",
     "output_type": "stream",
     "text": [
      "100%|██████████| 100/100 [21:33<00:00, 12.93s/it]\n"
     ]
    },
    {
     "name": "stdout",
     "output_type": "stream",
     "text": [
      "Results\n",
      "===============\n",
      "Topic number: 56\n",
      "coherance: 0.674339993152546\n",
      "diversity: 0.48214285714285715\n",
      " \n"
     ]
    },
    {
     "name": "stderr",
     "output_type": "stream",
     "text": [
      "100%|██████████| 100/100 [18:48<00:00, 11.28s/it]\n"
     ]
    },
    {
     "name": "stdout",
     "output_type": "stream",
     "text": [
      "Results\n",
      "===============\n",
      "Topic number: 56\n",
      "coherance: 0.6708634656713245\n",
      "diversity: 0.48035714285714287\n",
      " \n"
     ]
    },
    {
     "name": "stderr",
     "output_type": "stream",
     "text": [
      "100%|██████████| 100/100 [21:41<00:00, 13.02s/it]\n"
     ]
    },
    {
     "name": "stdout",
     "output_type": "stream",
     "text": [
      "Results\n",
      "===============\n",
      "Topic number: 56\n",
      "coherance: 0.6937607991315315\n",
      "diversity: 0.4928571428571429\n",
      " \n"
     ]
    },
    {
     "name": "stderr",
     "output_type": "stream",
     "text": [
      "100%|██████████| 100/100 [22:12<00:00, 13.33s/it]\n"
     ]
    },
    {
     "name": "stdout",
     "output_type": "stream",
     "text": [
      "Results\n",
      "===============\n",
      "Topic number: 58\n",
      "coherance: 0.6758589430391428\n",
      "diversity: 0.4706896551724138\n",
      " \n"
     ]
    },
    {
     "name": "stderr",
     "output_type": "stream",
     "text": [
      "100%|██████████| 100/100 [19:29<00:00, 11.69s/it]\n"
     ]
    },
    {
     "name": "stdout",
     "output_type": "stream",
     "text": [
      "Results\n",
      "===============\n",
      "Topic number: 58\n",
      "coherance: 0.6815412659516543\n",
      "diversity: 0.47586206896551725\n",
      " \n"
     ]
    },
    {
     "name": "stderr",
     "output_type": "stream",
     "text": [
      "100%|██████████| 100/100 [21:37<00:00, 12.98s/it]\n"
     ]
    },
    {
     "name": "stdout",
     "output_type": "stream",
     "text": [
      "Results\n",
      "===============\n",
      "Topic number: 58\n",
      "coherance: 0.6726583111588871\n",
      "diversity: 0.46551724137931033\n",
      " \n",
      "[0.6754619200345789, 0.6677841499098277, 0.6814933709188907, 0.6760839328146059, 0.6792945615192778, 0.6717163341791054, 0.6763064407348146, 0.6808660129355119, 0.6796547526518006, 0.6766861733832282]\n",
      "[0.5299999999999999, 0.5134920634920634, 0.5098484848484849, 0.5065217391304347, 0.5104166666666666, 0.488, 0.48589743589743595, 0.49074074074074076, 0.4851190476190476, 0.4706896551724138]\n"
     ]
    }
   ],
   "source": [
    "# 40 to 60\n",
    "c_v = []\n",
    "diversity = []\n",
    "\n",
    "C_V = []\n",
    "DIVERSITY = []\n",
    "\n",
    "for n in range(40,60,2):\n",
    "    for i in range(3):\n",
    "        result = evaluation(N_topics = n, X = X, vocabulary = vocabulary, CORPUS = CORPUS, TOPK = 10, Detail = True, cohe_type = \"c_v\")\n",
    "        c_v.append(result[\"coherance\"])\n",
    "        diversity.append(result[\"diversity\"])\n",
    "    C_V.append(np.mean(c_v))\n",
    "    DIVERSITY.append(np.mean(diversity))\n",
    "    c_v = []\n",
    "    diversity = []\n",
    "\n",
    "print(C_V)\n",
    "print(DIVERSITY)"
   ]
  },
  {
   "cell_type": "code",
   "execution_count": 131,
   "id": "b1b832ff",
   "metadata": {},
   "outputs": [
    {
     "data": {
      "image/png": "[encoded data removed]",
      "text/plain": [
       "<Figure size 432x288 with 1 Axes>"
      ]
     },
     "metadata": {
      "needs_background": "light"
     },
     "output_type": "display_data"
    }
   ],
   "source": [
    "x = range(40,60,2)\n",
    "c = C_V\n",
    "# Show graph\n",
    "plt.plot(x, c)\n",
    "plt.grid()\n",
    "plt.xlabel(\"Num Topics\")\n",
    "plt.ylabel(\"Coherence score\")\n",
    "plt.legend((\"coherence_values\"), loc='best')\n",
    "plt.show()"
   ]
  },
  {
   "cell_type": "code",
   "execution_count": 132,
   "id": "4b428309",
   "metadata": {},
   "outputs": [
    {
     "name": "stdout",
     "output_type": "stream",
     "text": [
      "Number: 40\n",
      "CV: 0.6754619200345789\n",
      "Number: 42\n",
      "CV: 0.6677841499098277\n",
      "Number: 44\n",
      "CV: 0.6814933709188907\n",
      "This is the best!!!!!!!!!!!!!!!\n",
      "Number: 46\n",
      "CV: 0.6760839328146059\n",
      "Number: 48\n",
      "CV: 0.6792945615192778\n",
      "Number: 50\n",
      "CV: 0.6717163341791054\n",
      "Number: 52\n",
      "CV: 0.6763064407348146\n",
      "Number: 54\n",
      "CV: 0.6808660129355119\n",
      "Number: 56\n",
      "CV: 0.6796547526518006\n",
      "Number: 58\n",
      "CV: 0.6766861733832282\n"
     ]
    },
    {
     "data": {
      "text/plain": [
       "(44, 0.6814933709188907)"
      ]
     },
     "execution_count": 132,
     "metadata": {},
     "output_type": "execute_result"
    }
   ],
   "source": [
    "num = 40\n",
    "for i in c:\n",
    "    print(\"Number: \"+str(num))\n",
    "    print(\"CV: \"+str(i))\n",
    "    if i == max(c):\n",
    "        print(\"This is the best!!!!!!!!!!!!!!!\")\n",
    "        best = (num,i)\n",
    "    num+=2\n",
    "best"
   ]
  },
  {
   "cell_type": "markdown",
   "id": "248e8137",
   "metadata": {},
   "source": [
    "#### Optimized Coherence Score"
   ]
  },
  {
   "cell_type": "code",
   "execution_count": 121,
   "id": "b466725b",
   "metadata": {},
   "outputs": [
    {
     "data": {
      "text/plain": [
       "0.12720324903898006"
      ]
     },
     "execution_count": 121,
     "metadata": {},
     "output_type": "execute_result"
    }
   ],
   "source": [
    "max(N)"
   ]
  },
  {
   "cell_type": "markdown",
   "id": "c60cb3f9",
   "metadata": {},
   "source": [
    "#### Optimized Model Visulization"
   ]
  },
  {
   "cell_type": "code",
   "execution_count": 133,
   "id": "dc9988e0",
   "metadata": {},
   "outputs": [
    {
     "name": "stderr",
     "output_type": "stream",
     "text": [
      "100%|██████████| 100/100 [16:17<00:00,  9.77s/it]\n",
      "/Users/hanjunwei/Desktop/UL/ul_env/lib/python3.9/site-packages/sklearn/manifold/_t_sne.py:795: FutureWarning: The default initialization in TSNE will change from 'random' to 'pca' in 1.2.\n",
      "  warnings.warn(\n",
      "/Users/hanjunwei/Desktop/UL/ul_env/lib/python3.9/site-packages/sklearn/manifold/_t_sne.py:805: FutureWarning: The default learning rate in TSNE will change from 200.0 to 'auto' in 1.2.\n",
      "  warnings.warn(\n"
     ]
    },
    {
     "data": {
      "application/vnd.jupyter.widget-view+json": {
       "model_id": "0782a4fdb7e74978b0e6331ab3a3d5ea",
       "version_major": 2,
       "version_minor": 0
      },
      "text/plain": [
       "VBox(children=(VBox(children=(HBox(children=(HTML(value='<b>Select a topic</b>:'), Dropdown(options=((0, 0), (…"
      ]
     },
     "metadata": {},
     "output_type": "display_data"
    }
   ],
   "source": [
    "model = btm.BTM(X, vocabulary, T=44, M=10, alpha=1, beta=0.01)\n",
    "model.fit(biterms, iterations=100)\n",
    "tmp.report(model=model, docs=texts)"
   ]
  },
  {
   "cell_type": "markdown",
   "id": "0278e835",
   "metadata": {},
   "source": [
    "#### Output topic List\n",
    "\n",
    "Reorganize topic list"
   ]
  },
  {
   "cell_type": "code",
   "execution_count": 134,
   "id": "883e98ec",
   "metadata": {},
   "outputs": [
    {
     "data": {
      "text/plain": [
       "[['fall',\n",
       "  'decedent',\n",
       "  'head',\n",
       "  'floor',\n",
       "  'home',\n",
       "  'death',\n",
       "  'injury',\n",
       "  'strike',\n",
       "  'trauma',\n",
       "  'hospital'],\n",
       " ['blade',\n",
       "  'plastic',\n",
       "  'piece',\n",
       "  'metal',\n",
       "  'break',\n",
       "  'part',\n",
       "  'handle',\n",
       "  'crack',\n",
       "  'hold',\n",
       "  'food'],\n",
       " ['washer',\n",
       "  'machine',\n",
       "  'dryer',\n",
       "  'water',\n",
       "  'clothe',\n",
       "  'wash',\n",
       "  'clean',\n",
       "  'washing_machine',\n",
       "  'mold',\n",
       "  'load'],\n",
       " ['hand',\n",
       "  'cut',\n",
       "  'finger',\n",
       "  'left',\n",
       "  'leg',\n",
       "  'injury',\n",
       "  'side',\n",
       "  'break',\n",
       "  'handle',\n",
       "  'arm'],\n",
       " ['sell',\n",
       "  'company',\n",
       "  'store',\n",
       "  'com',\n",
       "  'label',\n",
       "  'website',\n",
       "  'redacted',\n",
       "  'sale',\n",
       "  'item',\n",
       "  'canadian'],\n",
       " ['hospital',\n",
       "  'child',\n",
       "  'die',\n",
       "  'injury',\n",
       "  'boy',\n",
       "  'fire',\n",
       "  'fall',\n",
       "  'injure',\n",
       "  'transport',\n",
       "  'home'],\n",
       " ['smoke',\n",
       "  'dishwasher',\n",
       "  'fire',\n",
       "  'door',\n",
       "  'turn',\n",
       "  'microwave',\n",
       "  'burn',\n",
       "  'oven',\n",
       "  'unplug',\n",
       "  'run'],\n",
       " ['fall',\n",
       "  'chair',\n",
       "  'break',\n",
       "  'leg',\n",
       "  'back',\n",
       "  'foot',\n",
       "  'side',\n",
       "  'ladder',\n",
       "  'sit',\n",
       "  'head'],\n",
       " ['eye',\n",
       "  'hospital',\n",
       "  'doctor',\n",
       "  'pain',\n",
       "  'child',\n",
       "  'treatment',\n",
       "  'surgery',\n",
       "  'emergency_room',\n",
       "  'patient',\n",
       "  'son'],\n",
       " ['mower',\n",
       "  'tractor',\n",
       "  'turn',\n",
       "  'ride',\n",
       "  'run',\n",
       "  'fire',\n",
       "  'lawn_mower',\n",
       "  'back',\n",
       "  'stop',\n",
       "  'engine'],\n",
       " ['heater',\n",
       "  'smoke',\n",
       "  'carbon_monoxide',\n",
       "  'home',\n",
       "  'water',\n",
       "  'alarm',\n",
       "  'fire',\n",
       "  'gas',\n",
       "  'detector',\n",
       "  'level'],\n",
       " ['turn',\n",
       "  'burner',\n",
       "  'stove',\n",
       "  'oven',\n",
       "  'knob',\n",
       "  'gas',\n",
       "  'back',\n",
       "  'heat',\n",
       "  'top',\n",
       "  'fire'],\n",
       " ['test',\n",
       "  'device',\n",
       "  'manufacturer',\n",
       "  'injury',\n",
       "  'testing',\n",
       "  'lead',\n",
       "  'fail',\n",
       "  'failure',\n",
       "  'design',\n",
       "  'level'],\n",
       " ['battery',\n",
       "  'phone',\n",
       "  'charge',\n",
       "  'device',\n",
       "  'charger',\n",
       "  'burn',\n",
       "  'fire',\n",
       "  'hot',\n",
       "  'damage',\n",
       "  'smoke'],\n",
       " ['bed',\n",
       "  'decedent',\n",
       "  'sleep',\n",
       "  'adult',\n",
       "  'unresponsive',\n",
       "  'mother',\n",
       "  'death',\n",
       "  'mattress',\n",
       "  'face',\n",
       "  'pillow'],\n",
       " ['oven',\n",
       "  'glass',\n",
       "  'cook',\n",
       "  'door',\n",
       "  'stove',\n",
       "  'degree',\n",
       "  'food',\n",
       "  'top',\n",
       "  'pan',\n",
       "  'burn'],\n",
       " ['water',\n",
       "  'hot',\n",
       "  'burn',\n",
       "  'coffee',\n",
       "  'lid',\n",
       "  'pot',\n",
       "  'hand',\n",
       "  'plastic',\n",
       "  'cup',\n",
       "  'handle'],\n",
       " ['repair',\n",
       "  'part',\n",
       "  'recall',\n",
       "  'service',\n",
       "  'new',\n",
       "  'company',\n",
       "  'oven',\n",
       "  'fire',\n",
       "  'warranty',\n",
       "  'home'],\n",
       " ['fall',\n",
       "  'daughter',\n",
       "  'table',\n",
       "  'hair',\n",
       "  'back',\n",
       "  'head',\n",
       "  'chair',\n",
       "  'top',\n",
       "  'store',\n",
       "  'floor'],\n",
       " ['fire',\n",
       "  'damage',\n",
       "  'home',\n",
       "  'stove',\n",
       "  'injury',\n",
       "  'firefighter',\n",
       "  'flame',\n",
       "  'house',\n",
       "  'catch',\n",
       "  'smoke'],\n",
       " ['decedent',\n",
       "  'autopsy',\n",
       "  'death',\n",
       "  'male',\n",
       "  'die',\n",
       "  'home',\n",
       "  'drown',\n",
       "  'injury',\n",
       "  'residence',\n",
       "  'fall'],\n",
       " ['home',\n",
       "  'odor',\n",
       "  'air',\n",
       "  'chemical',\n",
       "  'house',\n",
       "  'room',\n",
       "  'window',\n",
       "  'strong',\n",
       "  'mattress',\n",
       "  'gas'],\n",
       " ['plug',\n",
       "  'cord',\n",
       "  'burn',\n",
       "  'fire',\n",
       "  'power',\n",
       "  'melt',\n",
       "  'unplug',\n",
       "  'outlet',\n",
       "  'damage',\n",
       "  'electrical'],\n",
       " ['glass',\n",
       "  'child',\n",
       "  'microwave',\n",
       "  'even',\n",
       "  'safe',\n",
       "  'fire',\n",
       "  'oven',\n",
       "  'many',\n",
       "  'item',\n",
       "  'design'],\n",
       " ['fire',\n",
       "  'electrical',\n",
       "  'wire',\n",
       "  'power',\n",
       "  'burn',\n",
       "  'switch',\n",
       "  'water',\n",
       "  'melt',\n",
       "  'panel',\n",
       "  'home'],\n",
       " ['gas',\n",
       "  'leak',\n",
       "  'grill',\n",
       "  'tank',\n",
       "  'fire',\n",
       "  'fuel',\n",
       "  'valve',\n",
       "  'flame',\n",
       "  'line',\n",
       "  'burner'],\n",
       " ['tv',\n",
       "  'fall',\n",
       "  'shade',\n",
       "  'instal',\n",
       "  'wall',\n",
       "  'television',\n",
       "  'top',\n",
       "  'back',\n",
       "  'damage',\n",
       "  'stand'],\n",
       " ['chemical',\n",
       "  'contain',\n",
       "  'health',\n",
       "  'bottle',\n",
       "  'child',\n",
       "  'skin',\n",
       "  'water',\n",
       "  'label',\n",
       "  'ingredient',\n",
       "  'company'],\n",
       " ['bulb',\n",
       "  'light',\n",
       "  'burn',\n",
       "  'lamp',\n",
       "  'melt',\n",
       "  'base',\n",
       "  'fire',\n",
       "  'plastic',\n",
       "  'fixture',\n",
       "  'turn'],\n",
       " ['fire',\n",
       "  'back',\n",
       "  'turn',\n",
       "  'burn',\n",
       "  'smoke',\n",
       "  'flame',\n",
       "  'house',\n",
       "  'run',\n",
       "  'husband',\n",
       "  'unplug'],\n",
       " ['injury',\n",
       "  'recall',\n",
       "  'sell',\n",
       "  'return',\n",
       "  'company',\n",
       "  'damage',\n",
       "  'investigation',\n",
       "  'case',\n",
       "  'request',\n",
       "  'model'],\n",
       " ['toy',\n",
       "  'child',\n",
       "  'piece',\n",
       "  'plastic',\n",
       "  'small',\n",
       "  'mouth',\n",
       "  'remove',\n",
       "  'break',\n",
       "  'son',\n",
       "  'metal'],\n",
       " ['fire',\n",
       "  'smoke',\n",
       "  'home',\n",
       "  'house',\n",
       "  'firefighter',\n",
       "  'apartment',\n",
       "  'damage',\n",
       "  'stove',\n",
       "  'resident',\n",
       "  'injury'],\n",
       " ['refrigerator',\n",
       "  'plastic',\n",
       "  'door',\n",
       "  'melt',\n",
       "  'fridge',\n",
       "  'ice',\n",
       "  'freezer',\n",
       "  'food',\n",
       "  'water',\n",
       "  'burn'],\n",
       " ['stroller',\n",
       "  'bike',\n",
       "  'fall',\n",
       "  'seat',\n",
       "  'wheel',\n",
       "  'car',\n",
       "  'break',\n",
       "  'shoe',\n",
       "  'ride',\n",
       "  'foot'],\n",
       " ['pool',\n",
       "  'drown',\n",
       "  'decedent',\n",
       "  'swimming_pool',\n",
       "  'water',\n",
       "  'hospital',\n",
       "  'home',\n",
       "  'drowning',\n",
       "  'autopsy',\n",
       "  'death'],\n",
       " ['burn',\n",
       "  'fire',\n",
       "  'catch',\n",
       "  'light',\n",
       "  'injury',\n",
       "  'hand',\n",
       "  'body',\n",
       "  'thermal',\n",
       "  'hospital',\n",
       "  'candle'],\n",
       " ['recall',\n",
       "  'model',\n",
       "  'fire',\n",
       "  'serial_number',\n",
       "  'list',\n",
       "  'manufacturer',\n",
       "  'part',\n",
       "  'replacement',\n",
       "  'new',\n",
       "  'manufacture'],\n",
       " ['manufacturer',\n",
       "  'caller',\n",
       "  'service',\n",
       "  'repair',\n",
       "  'back',\n",
       "  'recall',\n",
       "  'technician',\n",
       "  'return',\n",
       "  'redacted',\n",
       "  'company'],\n",
       " ['glass',\n",
       "  'door',\n",
       "  'explode',\n",
       "  'oven',\n",
       "  'shatter',\n",
       "  'piece',\n",
       "  'kitchen',\n",
       "  'floor',\n",
       "  'shower',\n",
       "  'shard'],\n",
       " ['fire',\n",
       "  'home',\n",
       "  'house',\n",
       "  'firefighter',\n",
       "  'die',\n",
       "  'family',\n",
       "  'damage',\n",
       "  'burn',\n",
       "  'space_heater',\n",
       "  'destroy'],\n",
       " ['burn',\n",
       "  'rash',\n",
       "  'wear',\n",
       "  'skin',\n",
       "  'wrist',\n",
       "  'red',\n",
       "  'diaper',\n",
       "  'blister',\n",
       "  'pain',\n",
       "  'back'],\n",
       " ['injury',\n",
       "  'hospital',\n",
       "  'ride',\n",
       "  'vehicle',\n",
       "  'strike',\n",
       "  'bicycle',\n",
       "  'driver',\n",
       "  'head',\n",
       "  'crash',\n",
       "  'hit'],\n",
       " ['baby',\n",
       "  'child',\n",
       "  'son',\n",
       "  'daughter',\n",
       "  'crib',\n",
       "  'toy',\n",
       "  'infant',\n",
       "  'seat',\n",
       "  'mother',\n",
       "  'leg']]"
      ]
     },
     "execution_count": 134,
     "metadata": {},
     "output_type": "execute_result"
    }
   ],
   "source": [
    "topic_list = btm.get_top_topic_words(model)\n",
    "biterm_topics = []\n",
    "for i in topic_list.columns:\n",
    "    biterm_topics.append(list(topic_list[i][:10]))\n",
    "biterm_topics"
   ]
  },
  {
   "cell_type": "markdown",
   "id": "73d077d0",
   "metadata": {},
   "source": [
    "Create Data frame"
   ]
  },
  {
   "cell_type": "code",
   "execution_count": 136,
   "id": "e1c5c84d",
   "metadata": {},
   "outputs": [
    {
     "name": "stderr",
     "output_type": "stream",
     "text": [
      "<ipython-input-136-beebed6184b4>:5: FutureWarning: The frame.append method is deprecated and will be removed from pandas in a future version. Use pandas.concat instead.\n",
      "  Topic_Word_List = Topic_Word_List.append({'Topic_Number':i,\n",
      "<ipython-input-136-beebed6184b4>:5: FutureWarning: The frame.append method is deprecated and will be removed from pandas in a future version. Use pandas.concat instead.\n",
      "  Topic_Word_List = Topic_Word_List.append({'Topic_Number':i,\n",
      "<ipython-input-136-beebed6184b4>:5: FutureWarning: The frame.append method is deprecated and will be removed from pandas in a future version. Use pandas.concat instead.\n",
      "  Topic_Word_List = Topic_Word_List.append({'Topic_Number':i,\n",
      "<ipython-input-136-beebed6184b4>:5: FutureWarning: The frame.append method is deprecated and will be removed from pandas in a future version. Use pandas.concat instead.\n",
      "  Topic_Word_List = Topic_Word_List.append({'Topic_Number':i,\n",
      "<ipython-input-136-beebed6184b4>:5: FutureWarning: The frame.append method is deprecated and will be removed from pandas in a future version. Use pandas.concat instead.\n",
      "  Topic_Word_List = Topic_Word_List.append({'Topic_Number':i,\n",
      "<ipython-input-136-beebed6184b4>:5: FutureWarning: The frame.append method is deprecated and will be removed from pandas in a future version. Use pandas.concat instead.\n",
      "  Topic_Word_List = Topic_Word_List.append({'Topic_Number':i,\n",
      "<ipython-input-136-beebed6184b4>:5: FutureWarning: The frame.append method is deprecated and will be removed from pandas in a future version. Use pandas.concat instead.\n",
      "  Topic_Word_List = Topic_Word_List.append({'Topic_Number':i,\n",
      "<ipython-input-136-beebed6184b4>:5: FutureWarning: The frame.append method is deprecated and will be removed from pandas in a future version. Use pandas.concat instead.\n",
      "  Topic_Word_List = Topic_Word_List.append({'Topic_Number':i,\n",
      "<ipython-input-136-beebed6184b4>:5: FutureWarning: The frame.append method is deprecated and will be removed from pandas in a future version. Use pandas.concat instead.\n",
      "  Topic_Word_List = Topic_Word_List.append({'Topic_Number':i,\n",
      "<ipython-input-136-beebed6184b4>:5: FutureWarning: The frame.append method is deprecated and will be removed from pandas in a future version. Use pandas.concat instead.\n",
      "  Topic_Word_List = Topic_Word_List.append({'Topic_Number':i,\n",
      "<ipython-input-136-beebed6184b4>:5: FutureWarning: The frame.append method is deprecated and will be removed from pandas in a future version. Use pandas.concat instead.\n",
      "  Topic_Word_List = Topic_Word_List.append({'Topic_Number':i,\n",
      "<ipython-input-136-beebed6184b4>:5: FutureWarning: The frame.append method is deprecated and will be removed from pandas in a future version. Use pandas.concat instead.\n",
      "  Topic_Word_List = Topic_Word_List.append({'Topic_Number':i,\n",
      "<ipython-input-136-beebed6184b4>:5: FutureWarning: The frame.append method is deprecated and will be removed from pandas in a future version. Use pandas.concat instead.\n",
      "  Topic_Word_List = Topic_Word_List.append({'Topic_Number':i,\n",
      "<ipython-input-136-beebed6184b4>:5: FutureWarning: The frame.append method is deprecated and will be removed from pandas in a future version. Use pandas.concat instead.\n",
      "  Topic_Word_List = Topic_Word_List.append({'Topic_Number':i,\n",
      "<ipython-input-136-beebed6184b4>:5: FutureWarning: The frame.append method is deprecated and will be removed from pandas in a future version. Use pandas.concat instead.\n",
      "  Topic_Word_List = Topic_Word_List.append({'Topic_Number':i,\n",
      "<ipython-input-136-beebed6184b4>:5: FutureWarning: The frame.append method is deprecated and will be removed from pandas in a future version. Use pandas.concat instead.\n",
      "  Topic_Word_List = Topic_Word_List.append({'Topic_Number':i,\n",
      "<ipython-input-136-beebed6184b4>:5: FutureWarning: The frame.append method is deprecated and will be removed from pandas in a future version. Use pandas.concat instead.\n",
      "  Topic_Word_List = Topic_Word_List.append({'Topic_Number':i,\n",
      "<ipython-input-136-beebed6184b4>:5: FutureWarning: The frame.append method is deprecated and will be removed from pandas in a future version. Use pandas.concat instead.\n",
      "  Topic_Word_List = Topic_Word_List.append({'Topic_Number':i,\n",
      "<ipython-input-136-beebed6184b4>:5: FutureWarning: The frame.append method is deprecated and will be removed from pandas in a future version. Use pandas.concat instead.\n",
      "  Topic_Word_List = Topic_Word_List.append({'Topic_Number':i,\n",
      "<ipython-input-136-beebed6184b4>:5: FutureWarning: The frame.append method is deprecated and will be removed from pandas in a future version. Use pandas.concat instead.\n",
      "  Topic_Word_List = Topic_Word_List.append({'Topic_Number':i,\n",
      "<ipython-input-136-beebed6184b4>:5: FutureWarning: The frame.append method is deprecated and will be removed from pandas in a future version. Use pandas.concat instead.\n",
      "  Topic_Word_List = Topic_Word_List.append({'Topic_Number':i,\n",
      "<ipython-input-136-beebed6184b4>:5: FutureWarning: The frame.append method is deprecated and will be removed from pandas in a future version. Use pandas.concat instead.\n",
      "  Topic_Word_List = Topic_Word_List.append({'Topic_Number':i,\n",
      "<ipython-input-136-beebed6184b4>:5: FutureWarning: The frame.append method is deprecated and will be removed from pandas in a future version. Use pandas.concat instead.\n",
      "  Topic_Word_List = Topic_Word_List.append({'Topic_Number':i,\n",
      "<ipython-input-136-beebed6184b4>:5: FutureWarning: The frame.append method is deprecated and will be removed from pandas in a future version. Use pandas.concat instead.\n",
      "  Topic_Word_List = Topic_Word_List.append({'Topic_Number':i,\n",
      "<ipython-input-136-beebed6184b4>:5: FutureWarning: The frame.append method is deprecated and will be removed from pandas in a future version. Use pandas.concat instead.\n",
      "  Topic_Word_List = Topic_Word_List.append({'Topic_Number':i,\n",
      "<ipython-input-136-beebed6184b4>:5: FutureWarning: The frame.append method is deprecated and will be removed from pandas in a future version. Use pandas.concat instead.\n",
      "  Topic_Word_List = Topic_Word_List.append({'Topic_Number':i,\n",
      "<ipython-input-136-beebed6184b4>:5: FutureWarning: The frame.append method is deprecated and will be removed from pandas in a future version. Use pandas.concat instead.\n",
      "  Topic_Word_List = Topic_Word_List.append({'Topic_Number':i,\n",
      "<ipython-input-136-beebed6184b4>:5: FutureWarning: The frame.append method is deprecated and will be removed from pandas in a future version. Use pandas.concat instead.\n",
      "  Topic_Word_List = Topic_Word_List.append({'Topic_Number':i,\n",
      "<ipython-input-136-beebed6184b4>:5: FutureWarning: The frame.append method is deprecated and will be removed from pandas in a future version. Use pandas.concat instead.\n",
      "  Topic_Word_List = Topic_Word_List.append({'Topic_Number':i,\n",
      "<ipython-input-136-beebed6184b4>:5: FutureWarning: The frame.append method is deprecated and will be removed from pandas in a future version. Use pandas.concat instead.\n",
      "  Topic_Word_List = Topic_Word_List.append({'Topic_Number':i,\n",
      "<ipython-input-136-beebed6184b4>:5: FutureWarning: The frame.append method is deprecated and will be removed from pandas in a future version. Use pandas.concat instead.\n",
      "  Topic_Word_List = Topic_Word_List.append({'Topic_Number':i,\n",
      "<ipython-input-136-beebed6184b4>:5: FutureWarning: The frame.append method is deprecated and will be removed from pandas in a future version. Use pandas.concat instead.\n",
      "  Topic_Word_List = Topic_Word_List.append({'Topic_Number':i,\n",
      "<ipython-input-136-beebed6184b4>:5: FutureWarning: The frame.append method is deprecated and will be removed from pandas in a future version. Use pandas.concat instead.\n",
      "  Topic_Word_List = Topic_Word_List.append({'Topic_Number':i,\n",
      "<ipython-input-136-beebed6184b4>:5: FutureWarning: The frame.append method is deprecated and will be removed from pandas in a future version. Use pandas.concat instead.\n",
      "  Topic_Word_List = Topic_Word_List.append({'Topic_Number':i,\n",
      "<ipython-input-136-beebed6184b4>:5: FutureWarning: The frame.append method is deprecated and will be removed from pandas in a future version. Use pandas.concat instead.\n",
      "  Topic_Word_List = Topic_Word_List.append({'Topic_Number':i,\n",
      "<ipython-input-136-beebed6184b4>:5: FutureWarning: The frame.append method is deprecated and will be removed from pandas in a future version. Use pandas.concat instead.\n",
      "  Topic_Word_List = Topic_Word_List.append({'Topic_Number':i,\n",
      "<ipython-input-136-beebed6184b4>:5: FutureWarning: The frame.append method is deprecated and will be removed from pandas in a future version. Use pandas.concat instead.\n",
      "  Topic_Word_List = Topic_Word_List.append({'Topic_Number':i,\n",
      "<ipython-input-136-beebed6184b4>:5: FutureWarning: The frame.append method is deprecated and will be removed from pandas in a future version. Use pandas.concat instead.\n",
      "  Topic_Word_List = Topic_Word_List.append({'Topic_Number':i,\n",
      "<ipython-input-136-beebed6184b4>:5: FutureWarning: The frame.append method is deprecated and will be removed from pandas in a future version. Use pandas.concat instead.\n",
      "  Topic_Word_List = Topic_Word_List.append({'Topic_Number':i,\n",
      "<ipython-input-136-beebed6184b4>:5: FutureWarning: The frame.append method is deprecated and will be removed from pandas in a future version. Use pandas.concat instead.\n",
      "  Topic_Word_List = Topic_Word_List.append({'Topic_Number':i,\n",
      "<ipython-input-136-beebed6184b4>:5: FutureWarning: The frame.append method is deprecated and will be removed from pandas in a future version. Use pandas.concat instead.\n",
      "  Topic_Word_List = Topic_Word_List.append({'Topic_Number':i,\n",
      "<ipython-input-136-beebed6184b4>:5: FutureWarning: The frame.append method is deprecated and will be removed from pandas in a future version. Use pandas.concat instead.\n",
      "  Topic_Word_List = Topic_Word_List.append({'Topic_Number':i,\n",
      "<ipython-input-136-beebed6184b4>:5: FutureWarning: The frame.append method is deprecated and will be removed from pandas in a future version. Use pandas.concat instead.\n",
      "  Topic_Word_List = Topic_Word_List.append({'Topic_Number':i,\n",
      "<ipython-input-136-beebed6184b4>:5: FutureWarning: The frame.append method is deprecated and will be removed from pandas in a future version. Use pandas.concat instead.\n",
      "  Topic_Word_List = Topic_Word_List.append({'Topic_Number':i,\n"
     ]
    }
   ],
   "source": [
    "import openpyxl\n",
    "Topic_Word_List = pd.DataFrame(columns=['Topic_Number', 'Word_1', 'Word_2','Word_3','Word_4', \n",
    "                                              'Word_5', 'Word_6','Word_7','Word_8','Word_9','Word_10'])\n",
    "for i in range(0,44):\n",
    "    Topic_Word_List = Topic_Word_List.append({'Topic_Number':i, \n",
    "                                              'Word_1':biterm_topics[i][0], \n",
    "                                              'Word_2':biterm_topics[i][1],\n",
    "                                              'Word_3':biterm_topics[i][2],\n",
    "                                              'Word_4':biterm_topics[i][3], \n",
    "                                              'Word_5':biterm_topics[i][4], \n",
    "                                              'Word_6':biterm_topics[i][5],\n",
    "                                              'Word_7':biterm_topics[i][6],\n",
    "                                              'Word_8':biterm_topics[i][7],\n",
    "                                              'Word_9':biterm_topics[i][8],\n",
    "                                              'Word_10':biterm_topics[i][9]}, ignore_index=True)"
   ]
  },
  {
   "cell_type": "markdown",
   "id": "9da83c09",
   "metadata": {},
   "source": [
    "Output excel file"
   ]
  },
  {
   "cell_type": "code",
   "execution_count": 137,
   "id": "04f09401",
   "metadata": {},
   "outputs": [],
   "source": [
    "Topic_Word_List.to_excel(\"../Result/Topic_Word_List/Biterm_Topic_Word_List_44topics.xlsx\", \n",
    "                               header = True, index = False)"
   ]
  },
  {
   "cell_type": "code",
   "execution_count": null,
   "id": "aaf0110c",
   "metadata": {},
   "outputs": [],
   "source": []
  }
 ],
 "metadata": {
  "kernelspec": {
   "display_name": "ul_env",
   "language": "python",
   "name": "ul_env"
  },
  "language_info": {
   "codemirror_mode": {
    "name": "ipython",
    "version": 3
   },
   "file_extension": ".py",
   "mimetype": "text/x-python",
   "name": "python",
   "nbconvert_exporter": "python",
   "pygments_lexer": "ipython3",
   "version": "3.9.7"
  }
 },
 "nbformat": 4,
 "nbformat_minor": 5
}
